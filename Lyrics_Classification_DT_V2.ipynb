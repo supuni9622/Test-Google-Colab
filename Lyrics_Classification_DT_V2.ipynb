{
  "nbformat": 4,
  "nbformat_minor": 0,
  "metadata": {
    "colab": {
      "name": "Lyrics Classification-DT-V2.ipynb",
      "provenance": [],
      "mount_file_id": "1Lk4eBZuTpf1ai8w52qrO8G7PynmmpH8Y",
      "authorship_tag": "ABX9TyNgSsy1yrRReVlTVEvZznP6",
      "include_colab_link": true
    },
    "kernelspec": {
      "name": "python3",
      "display_name": "Python 3"
    },
    "language_info": {
      "name": "python"
    }
  },
  "cells": [
    {
      "cell_type": "markdown",
      "metadata": {
        "id": "view-in-github",
        "colab_type": "text"
      },
      "source": [
        "<a href=\"https://colab.research.google.com/github/supuni9622/Test-Google-Colab/blob/main/Lyrics_Classification_DT_V2.ipynb\" target=\"_parent\"><img src=\"https://colab.research.google.com/assets/colab-badge.svg\" alt=\"Open In Colab\"/></a>"
      ]
    },
    {
      "cell_type": "code",
      "metadata": {
        "id": "bGRsbfpSaJ_a"
      },
      "source": [
        "import numpy as np\n",
        "import matplotlib.pyplot as plt\n",
        "import pandas as pd"
      ],
      "execution_count": 1,
      "outputs": []
    },
    {
      "cell_type": "code",
      "metadata": {
        "colab": {
          "base_uri": "https://localhost:8080/",
          "height": 35
        },
        "id": "xZ6hvFVSbGAC",
        "outputId": "d31929d1-3132-4b34-8552-1df9188c9758"
      },
      "source": [
        "pwd"
      ],
      "execution_count": null,
      "outputs": [
        {
          "output_type": "execute_result",
          "data": {
            "application/vnd.google.colaboratory.intrinsic+json": {
              "type": "string"
            },
            "text/plain": [
              "'/content'"
            ]
          },
          "metadata": {},
          "execution_count": 2
        }
      ]
    },
    {
      "cell_type": "code",
      "metadata": {
        "colab": {
          "base_uri": "https://localhost:8080/"
        },
        "id": "uyqMtBqLbPPe",
        "outputId": "53b3b17b-5faf-4a58-f867-6e13be618b54"
      },
      "source": [
        "cd /content/drive/MyDrive/4th Year Research/M3/Test Implementation/Test-Google-Colab/TestV2"
      ],
      "execution_count": 2,
      "outputs": [
        {
          "output_type": "stream",
          "name": "stdout",
          "text": [
            "/content/drive/MyDrive/4th Year Research/M3/Test Implementation/Test-Google-Colab/TestV2\n"
          ]
        }
      ]
    },
    {
      "cell_type": "code",
      "metadata": {
        "colab": {
          "base_uri": "https://localhost:8080/",
          "height": 35
        },
        "id": "fTIf7lrObRgb",
        "outputId": "9b9e1bc1-69f8-4b1d-98bb-1e51d90475fe"
      },
      "source": [
        "pwd"
      ],
      "execution_count": null,
      "outputs": [
        {
          "output_type": "execute_result",
          "data": {
            "application/vnd.google.colaboratory.intrinsic+json": {
              "type": "string"
            },
            "text/plain": [
              "'/content/drive/MyDrive/4th Year Research/M3/Test Implementation/Test-Google-Colab/TestV2'"
            ]
          },
          "metadata": {},
          "execution_count": 4
        }
      ]
    },
    {
      "cell_type": "code",
      "metadata": {
        "id": "WD5oKe9kaip_"
      },
      "source": [
        "dataset = pd.read_csv('Lyrical_data_3.csv',encoding='cp1252')"
      ],
      "execution_count": 3,
      "outputs": []
    },
    {
      "cell_type": "code",
      "metadata": {
        "colab": {
          "base_uri": "https://localhost:8080/",
          "height": 206
        },
        "id": "AGH4dWb6bWOO",
        "outputId": "d7c0b710-9d8b-4c1d-a26a-18be7c3dd9be"
      },
      "source": [
        "dataset.head()"
      ],
      "execution_count": 4,
      "outputs": [
        {
          "output_type": "execute_result",
          "data": {
            "text/html": [
              "\n",
              "  <div id=\"df-4c84cbdb-f620-44f9-bdb5-9ff425a566ad\">\n",
              "    <div class=\"colab-df-container\">\n",
              "      <div>\n",
              "<style scoped>\n",
              "    .dataframe tbody tr th:only-of-type {\n",
              "        vertical-align: middle;\n",
              "    }\n",
              "\n",
              "    .dataframe tbody tr th {\n",
              "        vertical-align: top;\n",
              "    }\n",
              "\n",
              "    .dataframe thead th {\n",
              "        text-align: right;\n",
              "    }\n",
              "</style>\n",
              "<table border=\"1\" class=\"dataframe\">\n",
              "  <thead>\n",
              "    <tr style=\"text-align: right;\">\n",
              "      <th></th>\n",
              "      <th>Song_ID</th>\n",
              "      <th>Song_Title</th>\n",
              "      <th>Chorus</th>\n",
              "      <th>Emotion</th>\n",
              "    </tr>\n",
              "  </thead>\n",
              "  <tbody>\n",
              "    <tr>\n",
              "      <th>0</th>\n",
              "      <td>1</td>\n",
              "      <td>Diana</td>\n",
              "      <td>Diana,\\rLet me be the one to light a fire insi...</td>\n",
              "      <td>Inspiration</td>\n",
              "    </tr>\n",
              "    <tr>\n",
              "      <th>1</th>\n",
              "      <td>2</td>\n",
              "      <td>Don't forget where you belong</td>\n",
              "      <td>Don't forget where you belong\\rHome\\rDon't for...</td>\n",
              "      <td>Inspiration</td>\n",
              "    </tr>\n",
              "    <tr>\n",
              "      <th>2</th>\n",
              "      <td>3</td>\n",
              "      <td>Strong</td>\n",
              "      <td>I'm sorry if I say, \"I need you\"\\nBut I don't ...</td>\n",
              "      <td>Inspiration</td>\n",
              "    </tr>\n",
              "    <tr>\n",
              "      <th>3</th>\n",
              "      <td>4</td>\n",
              "      <td>Happily</td>\n",
              "      <td>I don't care what people say when we're togeth...</td>\n",
              "      <td>Sad</td>\n",
              "    </tr>\n",
              "    <tr>\n",
              "      <th>4</th>\n",
              "      <td>5</td>\n",
              "      <td>Better than words</td>\n",
              "      <td>Better than words\\rMore than a feeling Crazy i...</td>\n",
              "      <td>Love</td>\n",
              "    </tr>\n",
              "  </tbody>\n",
              "</table>\n",
              "</div>\n",
              "      <button class=\"colab-df-convert\" onclick=\"convertToInteractive('df-4c84cbdb-f620-44f9-bdb5-9ff425a566ad')\"\n",
              "              title=\"Convert this dataframe to an interactive table.\"\n",
              "              style=\"display:none;\">\n",
              "        \n",
              "  <svg xmlns=\"http://www.w3.org/2000/svg\" height=\"24px\"viewBox=\"0 0 24 24\"\n",
              "       width=\"24px\">\n",
              "    <path d=\"M0 0h24v24H0V0z\" fill=\"none\"/>\n",
              "    <path d=\"M18.56 5.44l.94 2.06.94-2.06 2.06-.94-2.06-.94-.94-2.06-.94 2.06-2.06.94zm-11 1L8.5 8.5l.94-2.06 2.06-.94-2.06-.94L8.5 2.5l-.94 2.06-2.06.94zm10 10l.94 2.06.94-2.06 2.06-.94-2.06-.94-.94-2.06-.94 2.06-2.06.94z\"/><path d=\"M17.41 7.96l-1.37-1.37c-.4-.4-.92-.59-1.43-.59-.52 0-1.04.2-1.43.59L10.3 9.45l-7.72 7.72c-.78.78-.78 2.05 0 2.83L4 21.41c.39.39.9.59 1.41.59.51 0 1.02-.2 1.41-.59l7.78-7.78 2.81-2.81c.8-.78.8-2.07 0-2.86zM5.41 20L4 18.59l7.72-7.72 1.47 1.35L5.41 20z\"/>\n",
              "  </svg>\n",
              "      </button>\n",
              "      \n",
              "  <style>\n",
              "    .colab-df-container {\n",
              "      display:flex;\n",
              "      flex-wrap:wrap;\n",
              "      gap: 12px;\n",
              "    }\n",
              "\n",
              "    .colab-df-convert {\n",
              "      background-color: #E8F0FE;\n",
              "      border: none;\n",
              "      border-radius: 50%;\n",
              "      cursor: pointer;\n",
              "      display: none;\n",
              "      fill: #1967D2;\n",
              "      height: 32px;\n",
              "      padding: 0 0 0 0;\n",
              "      width: 32px;\n",
              "    }\n",
              "\n",
              "    .colab-df-convert:hover {\n",
              "      background-color: #E2EBFA;\n",
              "      box-shadow: 0px 1px 2px rgba(60, 64, 67, 0.3), 0px 1px 3px 1px rgba(60, 64, 67, 0.15);\n",
              "      fill: #174EA6;\n",
              "    }\n",
              "\n",
              "    [theme=dark] .colab-df-convert {\n",
              "      background-color: #3B4455;\n",
              "      fill: #D2E3FC;\n",
              "    }\n",
              "\n",
              "    [theme=dark] .colab-df-convert:hover {\n",
              "      background-color: #434B5C;\n",
              "      box-shadow: 0px 1px 3px 1px rgba(0, 0, 0, 0.15);\n",
              "      filter: drop-shadow(0px 1px 2px rgba(0, 0, 0, 0.3));\n",
              "      fill: #FFFFFF;\n",
              "    }\n",
              "  </style>\n",
              "\n",
              "      <script>\n",
              "        const buttonEl =\n",
              "          document.querySelector('#df-4c84cbdb-f620-44f9-bdb5-9ff425a566ad button.colab-df-convert');\n",
              "        buttonEl.style.display =\n",
              "          google.colab.kernel.accessAllowed ? 'block' : 'none';\n",
              "\n",
              "        async function convertToInteractive(key) {\n",
              "          const element = document.querySelector('#df-4c84cbdb-f620-44f9-bdb5-9ff425a566ad');\n",
              "          const dataTable =\n",
              "            await google.colab.kernel.invokeFunction('convertToInteractive',\n",
              "                                                     [key], {});\n",
              "          if (!dataTable) return;\n",
              "\n",
              "          const docLinkHtml = 'Like what you see? Visit the ' +\n",
              "            '<a target=\"_blank\" href=https://colab.research.google.com/notebooks/data_table.ipynb>data table notebook</a>'\n",
              "            + ' to learn more about interactive tables.';\n",
              "          element.innerHTML = '';\n",
              "          dataTable['output_type'] = 'display_data';\n",
              "          await google.colab.output.renderOutput(dataTable, element);\n",
              "          const docLink = document.createElement('div');\n",
              "          docLink.innerHTML = docLinkHtml;\n",
              "          element.appendChild(docLink);\n",
              "        }\n",
              "      </script>\n",
              "    </div>\n",
              "  </div>\n",
              "  "
            ],
            "text/plain": [
              "   Song_ID  ...      Emotion\n",
              "0        1  ...  Inspiration\n",
              "1        2  ...  Inspiration\n",
              "2        3  ...  Inspiration\n",
              "3        4  ...          Sad\n",
              "4        5  ...         Love\n",
              "\n",
              "[5 rows x 4 columns]"
            ]
          },
          "metadata": {},
          "execution_count": 4
        }
      ]
    },
    {
      "cell_type": "code",
      "metadata": {
        "colab": {
          "base_uri": "https://localhost:8080/"
        },
        "id": "MD99bHypKLar",
        "outputId": "7d373fa5-7ff6-45bc-b35e-d01996ac489f"
      },
      "source": [
        "lyrics = dataset['Chorus']\n",
        "lyrics"
      ],
      "execution_count": 5,
      "outputs": [
        {
          "output_type": "execute_result",
          "data": {
            "text/plain": [
              "0      Diana,\\rLet me be the one to light a fire insi...\n",
              "1      Don't forget where you belong\\rHome\\rDon't for...\n",
              "2      I'm sorry if I say, \"I need you\"\\nBut I don't ...\n",
              "3      I don't care what people say when we're togeth...\n",
              "4      Better than words\\rMore than a feeling Crazy i...\n",
              "                             ...                        \n",
              "795    You've got every right\\r\\nTo a beautiful life\\...\n",
              "796    I'm only one call away\\r\\nI'll be there to sav...\n",
              "797    It started with a kiss on your mama's couch\\r\\...\n",
              "798    I warned myself that I shouldn't play with fir...\n",
              "799    I'll admit, I was wrong, what else can I say, ...\n",
              "Name: Chorus, Length: 800, dtype: object"
            ]
          },
          "metadata": {},
          "execution_count": 5
        }
      ]
    },
    {
      "cell_type": "code",
      "metadata": {
        "id": "wSdSruceNU_J"
      },
      "source": [
        "dataset.dropna(how='all', axis=1, inplace=True)"
      ],
      "execution_count": 6,
      "outputs": []
    },
    {
      "cell_type": "code",
      "metadata": {
        "colab": {
          "base_uri": "https://localhost:8080/",
          "height": 206
        },
        "id": "bqqfiEj8NahK",
        "outputId": "70d001c9-3ac5-4050-a6dd-7dd19a2eeca4"
      },
      "source": [
        "dataset.head()"
      ],
      "execution_count": null,
      "outputs": [
        {
          "output_type": "execute_result",
          "data": {
            "text/html": [
              "<div>\n",
              "<style scoped>\n",
              "    .dataframe tbody tr th:only-of-type {\n",
              "        vertical-align: middle;\n",
              "    }\n",
              "\n",
              "    .dataframe tbody tr th {\n",
              "        vertical-align: top;\n",
              "    }\n",
              "\n",
              "    .dataframe thead th {\n",
              "        text-align: right;\n",
              "    }\n",
              "</style>\n",
              "<table border=\"1\" class=\"dataframe\">\n",
              "  <thead>\n",
              "    <tr style=\"text-align: right;\">\n",
              "      <th></th>\n",
              "      <th>Song_ID</th>\n",
              "      <th>Song_Title</th>\n",
              "      <th>Chorus</th>\n",
              "      <th>Emotion</th>\n",
              "    </tr>\n",
              "  </thead>\n",
              "  <tbody>\n",
              "    <tr>\n",
              "      <th>0</th>\n",
              "      <td>1</td>\n",
              "      <td>Diana</td>\n",
              "      <td>Diana,\\rLet me be the one to light a fire insi...</td>\n",
              "      <td>Inspiration</td>\n",
              "    </tr>\n",
              "    <tr>\n",
              "      <th>1</th>\n",
              "      <td>2</td>\n",
              "      <td>Don't forget where you belong</td>\n",
              "      <td>Don't forget where you belong\\rHome\\rDon't for...</td>\n",
              "      <td>Inspiration</td>\n",
              "    </tr>\n",
              "    <tr>\n",
              "      <th>2</th>\n",
              "      <td>3</td>\n",
              "      <td>Strong</td>\n",
              "      <td>I'm sorry if I say, \"I need you\"\\nBut I don't ...</td>\n",
              "      <td>Inspiration</td>\n",
              "    </tr>\n",
              "    <tr>\n",
              "      <th>3</th>\n",
              "      <td>4</td>\n",
              "      <td>Happily</td>\n",
              "      <td>I don't care what people say when we're togeth...</td>\n",
              "      <td>Sad</td>\n",
              "    </tr>\n",
              "    <tr>\n",
              "      <th>4</th>\n",
              "      <td>5</td>\n",
              "      <td>Better than words</td>\n",
              "      <td>Better than words\\rMore than a feeling Crazy i...</td>\n",
              "      <td>Love</td>\n",
              "    </tr>\n",
              "  </tbody>\n",
              "</table>\n",
              "</div>"
            ],
            "text/plain": [
              "   Song_ID  ...      Emotion\n",
              "0        1  ...  Inspiration\n",
              "1        2  ...  Inspiration\n",
              "2        3  ...  Inspiration\n",
              "3        4  ...          Sad\n",
              "4        5  ...         Love\n",
              "\n",
              "[5 rows x 4 columns]"
            ]
          },
          "metadata": {},
          "execution_count": 9
        }
      ]
    },
    {
      "cell_type": "code",
      "metadata": {
        "colab": {
          "base_uri": "https://localhost:8080/",
          "height": 424
        },
        "id": "-QPC9EIAN8yx",
        "outputId": "1d11a75e-4ab3-412b-c957-0ccea010cf10"
      },
      "source": [
        "dataset"
      ],
      "execution_count": null,
      "outputs": [
        {
          "output_type": "execute_result",
          "data": {
            "text/html": [
              "<div>\n",
              "<style scoped>\n",
              "    .dataframe tbody tr th:only-of-type {\n",
              "        vertical-align: middle;\n",
              "    }\n",
              "\n",
              "    .dataframe tbody tr th {\n",
              "        vertical-align: top;\n",
              "    }\n",
              "\n",
              "    .dataframe thead th {\n",
              "        text-align: right;\n",
              "    }\n",
              "</style>\n",
              "<table border=\"1\" class=\"dataframe\">\n",
              "  <thead>\n",
              "    <tr style=\"text-align: right;\">\n",
              "      <th></th>\n",
              "      <th>Song_ID</th>\n",
              "      <th>Song_Title</th>\n",
              "      <th>Chorus</th>\n",
              "      <th>Emotion</th>\n",
              "    </tr>\n",
              "  </thead>\n",
              "  <tbody>\n",
              "    <tr>\n",
              "      <th>0</th>\n",
              "      <td>1</td>\n",
              "      <td>Diana</td>\n",
              "      <td>Diana,\\rLet me be the one to light a fire insi...</td>\n",
              "      <td>Inspiration</td>\n",
              "    </tr>\n",
              "    <tr>\n",
              "      <th>1</th>\n",
              "      <td>2</td>\n",
              "      <td>Don't forget where you belong</td>\n",
              "      <td>Don't forget where you belong\\rHome\\rDon't for...</td>\n",
              "      <td>Inspiration</td>\n",
              "    </tr>\n",
              "    <tr>\n",
              "      <th>2</th>\n",
              "      <td>3</td>\n",
              "      <td>Strong</td>\n",
              "      <td>I'm sorry if I say, \"I need you\"\\nBut I don't ...</td>\n",
              "      <td>Inspiration</td>\n",
              "    </tr>\n",
              "    <tr>\n",
              "      <th>3</th>\n",
              "      <td>4</td>\n",
              "      <td>Happily</td>\n",
              "      <td>I don't care what people say when we're togeth...</td>\n",
              "      <td>Sad</td>\n",
              "    </tr>\n",
              "    <tr>\n",
              "      <th>4</th>\n",
              "      <td>5</td>\n",
              "      <td>Better than words</td>\n",
              "      <td>Better than words\\rMore than a feeling Crazy i...</td>\n",
              "      <td>Love</td>\n",
              "    </tr>\n",
              "    <tr>\n",
              "      <th>...</th>\n",
              "      <td>...</td>\n",
              "      <td>...</td>\n",
              "      <td>...</td>\n",
              "      <td>...</td>\n",
              "    </tr>\n",
              "    <tr>\n",
              "      <th>276</th>\n",
              "      <td>277</td>\n",
              "      <td>Love me like you do</td>\n",
              "      <td>Anyway I'm just gonna sing and play\\nUm, and I...</td>\n",
              "      <td>Love</td>\n",
              "    </tr>\n",
              "    <tr>\n",
              "      <th>277</th>\n",
              "      <td>278</td>\n",
              "      <td>A thousand years</td>\n",
              "      <td>Heart beats fast\\rColors and promises\\rHow to ...</td>\n",
              "      <td>Love</td>\n",
              "    </tr>\n",
              "    <tr>\n",
              "      <th>278</th>\n",
              "      <td>279</td>\n",
              "      <td>Money Is The Name of The Game</td>\n",
              "      <td>It's a pity\\rLow down and dirty shame\\rLord, i...</td>\n",
              "      <td>Angry</td>\n",
              "    </tr>\n",
              "    <tr>\n",
              "      <th>279</th>\n",
              "      <td>280</td>\n",
              "      <td>Blues In My Bottle</td>\n",
              "      <td>I went down to the river\\rSat there all night ...</td>\n",
              "      <td>Sad</td>\n",
              "    </tr>\n",
              "    <tr>\n",
              "      <th>280</th>\n",
              "      <td>281</td>\n",
              "      <td>As The Years Go Passing By</td>\n",
              "      <td>You think that you have left me behind\\rAnd th...</td>\n",
              "      <td>Sad</td>\n",
              "    </tr>\n",
              "  </tbody>\n",
              "</table>\n",
              "<p>281 rows × 4 columns</p>\n",
              "</div>"
            ],
            "text/plain": [
              "     Song_ID  ...      Emotion\n",
              "0          1  ...  Inspiration\n",
              "1          2  ...  Inspiration\n",
              "2          3  ...  Inspiration\n",
              "3          4  ...          Sad\n",
              "4          5  ...         Love\n",
              "..       ...  ...          ...\n",
              "276      277  ...         Love\n",
              "277      278  ...         Love\n",
              "278      279  ...        Angry\n",
              "279      280  ...          Sad\n",
              "280      281  ...          Sad\n",
              "\n",
              "[281 rows x 4 columns]"
            ]
          },
          "metadata": {},
          "execution_count": 10
        }
      ]
    },
    {
      "cell_type": "code",
      "metadata": {
        "colab": {
          "base_uri": "https://localhost:8080/"
        },
        "id": "TWHQX8pWNpOa",
        "outputId": "53054715-944b-488b-c59d-7c0c1ce6eece"
      },
      "source": [
        "lyrics2 = dataset['Chorus']\n",
        "lyrics2"
      ],
      "execution_count": 7,
      "outputs": [
        {
          "output_type": "execute_result",
          "data": {
            "text/plain": [
              "0      Diana,\\rLet me be the one to light a fire insi...\n",
              "1      Don't forget where you belong\\rHome\\rDon't for...\n",
              "2      I'm sorry if I say, \"I need you\"\\nBut I don't ...\n",
              "3      I don't care what people say when we're togeth...\n",
              "4      Better than words\\rMore than a feeling Crazy i...\n",
              "                             ...                        \n",
              "795    You've got every right\\r\\nTo a beautiful life\\...\n",
              "796    I'm only one call away\\r\\nI'll be there to sav...\n",
              "797    It started with a kiss on your mama's couch\\r\\...\n",
              "798    I warned myself that I shouldn't play with fir...\n",
              "799    I'll admit, I was wrong, what else can I say, ...\n",
              "Name: Chorus, Length: 800, dtype: object"
            ]
          },
          "metadata": {},
          "execution_count": 7
        }
      ]
    },
    {
      "cell_type": "markdown",
      "metadata": {
        "id": "7vvB4soGOFXP"
      },
      "source": [
        "Checking the empty rows in dataset"
      ]
    },
    {
      "cell_type": "code",
      "metadata": {
        "colab": {
          "base_uri": "https://localhost:8080/"
        },
        "id": "ZKKWupuDOE-g",
        "outputId": "ccbc5a04-1603-496e-a72a-8314ffa0d235"
      },
      "source": [
        "print (dataset.isnull().sum())"
      ],
      "execution_count": 8,
      "outputs": [
        {
          "output_type": "stream",
          "name": "stdout",
          "text": [
            "Song_ID       0\n",
            "Song_Title    0\n",
            "Chorus        0\n",
            "Emotion       0\n",
            "dtype: int64\n"
          ]
        }
      ]
    },
    {
      "cell_type": "code",
      "metadata": {
        "colab": {
          "base_uri": "https://localhost:8080/",
          "height": 424
        },
        "id": "1zhJtwuJObZu",
        "outputId": "a4e547c9-abe7-4cb8-fd4d-347acc55f8bd"
      },
      "source": [
        "modifiedDF = dataset.dropna()\n",
        "modifiedDF"
      ],
      "execution_count": 9,
      "outputs": [
        {
          "output_type": "execute_result",
          "data": {
            "text/html": [
              "\n",
              "  <div id=\"df-ef4d99b8-c1c3-401e-814d-3e57bdd1a826\">\n",
              "    <div class=\"colab-df-container\">\n",
              "      <div>\n",
              "<style scoped>\n",
              "    .dataframe tbody tr th:only-of-type {\n",
              "        vertical-align: middle;\n",
              "    }\n",
              "\n",
              "    .dataframe tbody tr th {\n",
              "        vertical-align: top;\n",
              "    }\n",
              "\n",
              "    .dataframe thead th {\n",
              "        text-align: right;\n",
              "    }\n",
              "</style>\n",
              "<table border=\"1\" class=\"dataframe\">\n",
              "  <thead>\n",
              "    <tr style=\"text-align: right;\">\n",
              "      <th></th>\n",
              "      <th>Song_ID</th>\n",
              "      <th>Song_Title</th>\n",
              "      <th>Chorus</th>\n",
              "      <th>Emotion</th>\n",
              "    </tr>\n",
              "  </thead>\n",
              "  <tbody>\n",
              "    <tr>\n",
              "      <th>0</th>\n",
              "      <td>1</td>\n",
              "      <td>Diana</td>\n",
              "      <td>Diana,\\rLet me be the one to light a fire insi...</td>\n",
              "      <td>Inspiration</td>\n",
              "    </tr>\n",
              "    <tr>\n",
              "      <th>1</th>\n",
              "      <td>2</td>\n",
              "      <td>Don't forget where you belong</td>\n",
              "      <td>Don't forget where you belong\\rHome\\rDon't for...</td>\n",
              "      <td>Inspiration</td>\n",
              "    </tr>\n",
              "    <tr>\n",
              "      <th>2</th>\n",
              "      <td>3</td>\n",
              "      <td>Strong</td>\n",
              "      <td>I'm sorry if I say, \"I need you\"\\nBut I don't ...</td>\n",
              "      <td>Inspiration</td>\n",
              "    </tr>\n",
              "    <tr>\n",
              "      <th>3</th>\n",
              "      <td>4</td>\n",
              "      <td>Happily</td>\n",
              "      <td>I don't care what people say when we're togeth...</td>\n",
              "      <td>Sad</td>\n",
              "    </tr>\n",
              "    <tr>\n",
              "      <th>4</th>\n",
              "      <td>5</td>\n",
              "      <td>Better than words</td>\n",
              "      <td>Better than words\\rMore than a feeling Crazy i...</td>\n",
              "      <td>Love</td>\n",
              "    </tr>\n",
              "    <tr>\n",
              "      <th>...</th>\n",
              "      <td>...</td>\n",
              "      <td>...</td>\n",
              "      <td>...</td>\n",
              "      <td>...</td>\n",
              "    </tr>\n",
              "    <tr>\n",
              "      <th>795</th>\n",
              "      <td>796</td>\n",
              "      <td>Who says</td>\n",
              "      <td>You've got every right\\r\\nTo a beautiful life\\...</td>\n",
              "      <td>Inspiration</td>\n",
              "    </tr>\n",
              "    <tr>\n",
              "      <th>796</th>\n",
              "      <td>797</td>\n",
              "      <td>One call away</td>\n",
              "      <td>I'm only one call away\\r\\nI'll be there to sav...</td>\n",
              "      <td>Inspiration</td>\n",
              "    </tr>\n",
              "    <tr>\n",
              "      <th>797</th>\n",
              "      <td>798</td>\n",
              "      <td>Cheating on you</td>\n",
              "      <td>It started with a kiss on your mama's couch\\r\\...</td>\n",
              "      <td>Sad</td>\n",
              "    </tr>\n",
              "    <tr>\n",
              "      <th>798</th>\n",
              "      <td>799</td>\n",
              "      <td>I warned myself</td>\n",
              "      <td>I warned myself that I shouldn't play with fir...</td>\n",
              "      <td>Sad</td>\n",
              "    </tr>\n",
              "    <tr>\n",
              "      <th>799</th>\n",
              "      <td>800</td>\n",
              "      <td>How long</td>\n",
              "      <td>I'll admit, I was wrong, what else can I say, ...</td>\n",
              "      <td>Sad</td>\n",
              "    </tr>\n",
              "  </tbody>\n",
              "</table>\n",
              "<p>800 rows × 4 columns</p>\n",
              "</div>\n",
              "      <button class=\"colab-df-convert\" onclick=\"convertToInteractive('df-ef4d99b8-c1c3-401e-814d-3e57bdd1a826')\"\n",
              "              title=\"Convert this dataframe to an interactive table.\"\n",
              "              style=\"display:none;\">\n",
              "        \n",
              "  <svg xmlns=\"http://www.w3.org/2000/svg\" height=\"24px\"viewBox=\"0 0 24 24\"\n",
              "       width=\"24px\">\n",
              "    <path d=\"M0 0h24v24H0V0z\" fill=\"none\"/>\n",
              "    <path d=\"M18.56 5.44l.94 2.06.94-2.06 2.06-.94-2.06-.94-.94-2.06-.94 2.06-2.06.94zm-11 1L8.5 8.5l.94-2.06 2.06-.94-2.06-.94L8.5 2.5l-.94 2.06-2.06.94zm10 10l.94 2.06.94-2.06 2.06-.94-2.06-.94-.94-2.06-.94 2.06-2.06.94z\"/><path d=\"M17.41 7.96l-1.37-1.37c-.4-.4-.92-.59-1.43-.59-.52 0-1.04.2-1.43.59L10.3 9.45l-7.72 7.72c-.78.78-.78 2.05 0 2.83L4 21.41c.39.39.9.59 1.41.59.51 0 1.02-.2 1.41-.59l7.78-7.78 2.81-2.81c.8-.78.8-2.07 0-2.86zM5.41 20L4 18.59l7.72-7.72 1.47 1.35L5.41 20z\"/>\n",
              "  </svg>\n",
              "      </button>\n",
              "      \n",
              "  <style>\n",
              "    .colab-df-container {\n",
              "      display:flex;\n",
              "      flex-wrap:wrap;\n",
              "      gap: 12px;\n",
              "    }\n",
              "\n",
              "    .colab-df-convert {\n",
              "      background-color: #E8F0FE;\n",
              "      border: none;\n",
              "      border-radius: 50%;\n",
              "      cursor: pointer;\n",
              "      display: none;\n",
              "      fill: #1967D2;\n",
              "      height: 32px;\n",
              "      padding: 0 0 0 0;\n",
              "      width: 32px;\n",
              "    }\n",
              "\n",
              "    .colab-df-convert:hover {\n",
              "      background-color: #E2EBFA;\n",
              "      box-shadow: 0px 1px 2px rgba(60, 64, 67, 0.3), 0px 1px 3px 1px rgba(60, 64, 67, 0.15);\n",
              "      fill: #174EA6;\n",
              "    }\n",
              "\n",
              "    [theme=dark] .colab-df-convert {\n",
              "      background-color: #3B4455;\n",
              "      fill: #D2E3FC;\n",
              "    }\n",
              "\n",
              "    [theme=dark] .colab-df-convert:hover {\n",
              "      background-color: #434B5C;\n",
              "      box-shadow: 0px 1px 3px 1px rgba(0, 0, 0, 0.15);\n",
              "      filter: drop-shadow(0px 1px 2px rgba(0, 0, 0, 0.3));\n",
              "      fill: #FFFFFF;\n",
              "    }\n",
              "  </style>\n",
              "\n",
              "      <script>\n",
              "        const buttonEl =\n",
              "          document.querySelector('#df-ef4d99b8-c1c3-401e-814d-3e57bdd1a826 button.colab-df-convert');\n",
              "        buttonEl.style.display =\n",
              "          google.colab.kernel.accessAllowed ? 'block' : 'none';\n",
              "\n",
              "        async function convertToInteractive(key) {\n",
              "          const element = document.querySelector('#df-ef4d99b8-c1c3-401e-814d-3e57bdd1a826');\n",
              "          const dataTable =\n",
              "            await google.colab.kernel.invokeFunction('convertToInteractive',\n",
              "                                                     [key], {});\n",
              "          if (!dataTable) return;\n",
              "\n",
              "          const docLinkHtml = 'Like what you see? Visit the ' +\n",
              "            '<a target=\"_blank\" href=https://colab.research.google.com/notebooks/data_table.ipynb>data table notebook</a>'\n",
              "            + ' to learn more about interactive tables.';\n",
              "          element.innerHTML = '';\n",
              "          dataTable['output_type'] = 'display_data';\n",
              "          await google.colab.output.renderOutput(dataTable, element);\n",
              "          const docLink = document.createElement('div');\n",
              "          docLink.innerHTML = docLinkHtml;\n",
              "          element.appendChild(docLink);\n",
              "        }\n",
              "      </script>\n",
              "    </div>\n",
              "  </div>\n",
              "  "
            ],
            "text/plain": [
              "     Song_ID  ...      Emotion\n",
              "0          1  ...  Inspiration\n",
              "1          2  ...  Inspiration\n",
              "2          3  ...  Inspiration\n",
              "3          4  ...          Sad\n",
              "4          5  ...         Love\n",
              "..       ...  ...          ...\n",
              "795      796  ...  Inspiration\n",
              "796      797  ...  Inspiration\n",
              "797      798  ...          Sad\n",
              "798      799  ...          Sad\n",
              "799      800  ...          Sad\n",
              "\n",
              "[800 rows x 4 columns]"
            ]
          },
          "metadata": {},
          "execution_count": 9
        }
      ]
    },
    {
      "cell_type": "code",
      "metadata": {
        "colab": {
          "base_uri": "https://localhost:8080/"
        },
        "id": "FTGlaPVebvyM",
        "outputId": "44916dc0-e563-4c45-c9a9-c8d59ecfa5fa"
      },
      "source": [
        "import re\n",
        "import nltk\n",
        "nltk.download('stopwords')\n",
        "from nltk.corpus import stopwords\n",
        "from nltk.stem.porter import PorterStemmer\n",
        "corpus = []\n",
        "for i in range(0, 799):\n",
        "  Lyrics = re.sub('[^a-zA-Z]', ' ', modifiedDF['Chorus'][i])\n",
        "  Lyrics = Lyrics.lower()\n",
        "  Lyrics = Lyrics.split()\n",
        "  ps = PorterStemmer()\n",
        "  all_stopwords = stopwords.words('english')\n",
        "  all_stopwords.remove('not')\n",
        "  Lyrics = [ps.stem(word) for word in Lyrics if not word in set(all_stopwords)]\n",
        "  Lyrics = ' '.join(Lyrics)\n",
        "  corpus.append(Lyrics)"
      ],
      "execution_count": 10,
      "outputs": [
        {
          "output_type": "stream",
          "name": "stdout",
          "text": [
            "[nltk_data] Downloading package stopwords to /root/nltk_data...\n",
            "[nltk_data]   Unzipping corpora/stopwords.zip.\n"
          ]
        }
      ]
    },
    {
      "cell_type": "markdown",
      "metadata": {
        "id": "esG0jgZSQK0Q"
      },
      "source": [
        "Print corpus"
      ]
    },
    {
      "cell_type": "code",
      "metadata": {
        "colab": {
          "base_uri": "https://localhost:8080/"
        },
        "id": "kFaGMJ3LQODW",
        "outputId": "7c07df3f-0e50-4e9c-e379-93819ff18f1d"
      },
      "source": [
        "print(corpus)"
      ],
      "execution_count": null,
      "outputs": [
        {
          "output_type": "stream",
          "name": "stdout",
          "text": [
            "['diana let one light fire insid eye lone even know feel cri diana let one lift heart save life think even realiz babi save mine', 'forget belong home forget belong home ever feel alon never proof song', 'sorri say need care not scare love caus not weaker wrong wrong make strong', 'care peopl say togeth know wanna one hold sleep want forev know wanna leav c mon babi happili', 'better word feel crazi love danc ceil everi time touch shook make wanna deep love god know babi', 'tell hurt vain see heart love rememb laugh let laugh burn even scream shout come back back oh carri fire water love hold closer hope heart strong enough night come find way dark', 'know know know know everi everi everi time lone sometim wanna cave wanna fight tri tri tri tri tri hold lone momma sorri not sober anymor daddi pleas forgiv drink spill floor one never left road sorri not sober anymor not sober anymor sorri promis get help intent sorri', 'walk th park saw anoth arm month apart look happier saw walk insid bar said somethin make laugh saw smile twice wide yeah look happier nobodi hurt like hurt nobodi love like promis not take person babi movin someon new caus babi look happier knew one day fall someon new break heart like lover know waitin', 'life get numb way feel drown drink date prescript pill one love left shelf farewel save someon els got save', 'club best place find lover bar go friend tabl shot drink fast talk slow come start convers trust give chanc take hand stop put van man jukebox start danc sing like girl know want love love handmad somebodi like come follow lead may crazi mind say boy let not talk much grab waist put bodi come follow lead come come follow lead love shape push pull like magnet although heart fall love bodi last night room bedsheet smell like everi day discov someth brand new love bodi', 'well found woman stronger anyon know share dream hope someday share home found love carri secret carri love carri children still kid love fight odd know alright time darl hold hand girl man see futur eye babi danc dark arm barefoot grass listen favorit song saw dress look beauti deserv darl look perfect tonight', 'oh compar everyon alway got finger self destruct wonder love enough wonder love enough alway look ride die caus mine heart gonna life time went fuck time went fuck wonder love enough', 'face face see eye eye like fire rain like fire rain drive insan drive insan stay mad anyth venu mar venu mar like differ star like differ star harmoni everi song sing chang thing ye hold let go perfectli imperfect chang thing', 'feel like drop ocean nobodi notic mayb head feel like trap skin bodi frozen broken got noth left high emot lose focu feel exhaust pray get lost moment give closest need somebodi say okay not okay okay not okay feel asham okay not okay', 'alway kind girl hid face afraid tell world got say dream right insid gonna let show time let know let know real exactli suppos gonna let light shine found way hold hide want', 'wanna play wanna stay wanna start messin head hit wall mayb known mayb known would walk would walk door hey said done met someon brought face cut part broke heart ran away guess known guess known would talk would talk even star moon collid never want back life take word lie oh oh oh realli care', 'let go let go hold back anymor let go let go turn back slam door snow glow white mountain tonight not footprint seen kingdom isol look like queen wind howl like swirl storm insid keep heaven know tri let let see good girl alway conceal feel let know well know', 'readi ha time take boss right not gonna fake not go caus game better come play use hold freak back let go make choic bitch run show leav light make behav uh huh huh say complic must mind underr rate rate', 'even heart see not bein true deep within soul feel noth like use sometim wish could turn back time imposs may seem wish could bad babi quit playin game heart quit playin game heart tear us apart quit playin game heart known start know got stop heart tear us apart heart quit playin game heart', 'got everyon watchin us babi let keep secret littl bit scandal babi let see littl less convers littl touch bodi caus caus tell came caus wait edg control need need know know oh babi come light mayb let littl bit danger babi want littl less convers littl touch bodi caus', 'tell get feel realli wanna turn tell get feel realli wanna make ah caus see tryin sublimin tryin see gon one sing along admit excit part kinda like lead babi tell motiv motiv motiv tell motiv motiv', 'day thing take way much energi look whole room spin take care away overcompl peopl tell medic feel blood runnin swear sky fallin know shit fabric time goe control mind know els tri tell everi time keep breathin breathin breathin breathin oh gotta keep keep breathin keep breathin breathin breathin breathin oh gotta keep keep breathin', 'took away tabl pace back forth lay still pull feel heartbeat hear scream pleas leav hold still want come back still need let take hand make right swear love life hold still need wanna let go know not strong wanna hear say babi let go home let go home yeah wanna take home', 'awhil sinc lost ya get close year world keep turn alway still heartach friendli face us want get place let get place pleas take home pleas take home pleas take wheel night lay cloth blind save hit floor let leav alon babi pleas take home', 'babi sink bed stare ceil let lay catch breath slip away high feel promis regret let love death', 'oh kill know one tri not lose mind wait day come everyon alright know one pretend like noth wrong frozen underneath sun feel like belong know one see shadow dark hallucin tear apart tear apart feel like world', 'yeah ooh darlin part want let go oh charmin part still holdin kiss crawl back love want nothin lose yeah caus nothin compar good old fashion heartach put yeah portland tri sellin organ babi kept caus nothin compar good old fashion heartach put', 'one told way lie well one told mani peopl cri well late say sorri would know care pleas bother tri find not let tell way look way act color hair voic soft cool eye clear bright not', 'matter go everybodi stare not fanci cloth rock baggi jean get close comfort comfort need eat bodi weight chocol ice cream mayb bite nail think speak fit crowd ever get much sleep wish leg bigger bigger new york citi love want love caus love gender free feel like put makeup cheek wanna love everi singl part bodi top bottom not supermodel magazin okay not perfect caus perfect caus perfect caus perfect', 'mess talk shit gonna push away say love make crazi go go look look eye realli go away without fight reason done polit told one two three four five six thousand time made obviou made clear want spell f r e n made obviou made clear want spell f r e n f r e n', 'honest right sunday morn bedsheet wake alon thought day honest better way everi time think get head never ever let forget caus think gone hear song radio like take back place use go tri fight hear stop smile rememb gone babi song radio use know', 'think love bad health see one els guess blame anyon hey ayi yeah know today call like hundr time yesterday call like hundr five nobodi els want side hey ayi yeah bad day still great time drunk face listen red red wine ok laugh cri raini day still sunshin got problem need deal haha ah trust us want let deal yeah', 'realli know someth start caus deep insid feel good whenev part ever wanna go backtrack broken heart feel like hit head caus star star eye sky babe sit seat car hand thigh ye think alright babe ever go far think love think feel way back young heard love never believ chang mind world record time said hello said babi tell goodby caus love believ love easi breath love easi breath', 'run run chase sunset alright alright done done howev dark get alright alright pull trigger tight uh glitter night live live love live like free like breathin fire like breathin fire roll downtown ride dragon night long like breathin fire']\n"
          ]
        }
      ]
    },
    {
      "cell_type": "markdown",
      "metadata": {
        "id": "hV0uWOYCQWKF"
      },
      "source": [
        "Creating the bag of words modal"
      ]
    },
    {
      "cell_type": "code",
      "metadata": {
        "id": "PRT_E8GkQY4x"
      },
      "source": [
        "from sklearn.feature_extraction.text import CountVectorizer\n",
        "cv = CountVectorizer(max_features = 1500)\n",
        "X = cv.fit_transform(corpus).toarray()\n",
        "y = modifiedDF.iloc[0:799, -1].values"
      ],
      "execution_count": 11,
      "outputs": []
    },
    {
      "cell_type": "code",
      "metadata": {
        "colab": {
          "base_uri": "https://localhost:8080/"
        },
        "id": "LMww1MtmRTE0",
        "outputId": "8c11efab-6a3a-403f-e046-89203174dec7"
      },
      "source": [
        "X"
      ],
      "execution_count": 12,
      "outputs": [
        {
          "output_type": "execute_result",
          "data": {
            "text/plain": [
              "array([[0, 0, 0, ..., 0, 0, 0],\n",
              "       [0, 0, 0, ..., 0, 0, 0],\n",
              "       [0, 0, 0, ..., 0, 0, 0],\n",
              "       ...,\n",
              "       [0, 0, 0, ..., 0, 0, 0],\n",
              "       [0, 0, 0, ..., 0, 0, 0],\n",
              "       [0, 0, 0, ..., 0, 0, 0]])"
            ]
          },
          "metadata": {},
          "execution_count": 12
        }
      ]
    },
    {
      "cell_type": "code",
      "metadata": {
        "colab": {
          "base_uri": "https://localhost:8080/"
        },
        "id": "u4OdIqTNRZ6k",
        "outputId": "aac25423-318a-4fc0-b564-4a1c37a9b177"
      },
      "source": [
        "y"
      ],
      "execution_count": null,
      "outputs": [
        {
          "output_type": "execute_result",
          "data": {
            "text/plain": [
              "array(['Inspiration', 'Inspiration', 'Inspiration', 'Sad', 'Love',\n",
              "       'Inspiration', 'Sad', 'Sad', 'Sad', 'Happy', 'Love', 'Inspiration',\n",
              "       'Love', 'Inspiration', 'Inspiration', 'Angry', 'Inspiration',\n",
              "       'Angry', 'Sad', 'Love', 'Sad', 'Inspiration', 'Sad', 'Sad', 'Love',\n",
              "       'Sad', 'Love', 'Sad', 'Calm', 'Angry', 'Love', 'Inspiration',\n",
              "       'Love', 'Love'], dtype=object)"
            ]
          },
          "metadata": {},
          "execution_count": 18
        }
      ]
    },
    {
      "cell_type": "markdown",
      "metadata": {
        "id": "PmG9-Z7PQyea"
      },
      "source": [
        "Splitting the dataset into the Training set and Test set"
      ]
    },
    {
      "cell_type": "code",
      "metadata": {
        "id": "PShXt3tuQzIx"
      },
      "source": [
        "from sklearn.model_selection import train_test_split\n",
        "X_train, X_test, y_train, y_test = train_test_split(X, y, test_size = 0.2, random_state = 0)"
      ],
      "execution_count": 13,
      "outputs": []
    },
    {
      "cell_type": "markdown",
      "metadata": {
        "id": "8o6BdfkSRnnC"
      },
      "source": [
        "## Training the Decision Tree Classification model on the Training set"
      ]
    },
    {
      "cell_type": "code",
      "metadata": {
        "colab": {
          "base_uri": "https://localhost:8080/"
        },
        "id": "2TdKzzyyRoNv",
        "outputId": "1f269466-7617-474a-fe66-6ea86da13ad2"
      },
      "source": [
        "from sklearn.tree import DecisionTreeClassifier\n",
        "classifier = DecisionTreeClassifier(criterion = 'entropy', random_state = 0)\n",
        "classifier.fit(X_train, y_train)"
      ],
      "execution_count": 14,
      "outputs": [
        {
          "output_type": "execute_result",
          "data": {
            "text/plain": [
              "DecisionTreeClassifier(criterion='entropy', random_state=0)"
            ]
          },
          "metadata": {},
          "execution_count": 14
        }
      ]
    },
    {
      "cell_type": "markdown",
      "metadata": {
        "id": "maG3b8yiRup0"
      },
      "source": [
        "Predicting the Test set results"
      ]
    },
    {
      "cell_type": "code",
      "metadata": {
        "colab": {
          "base_uri": "https://localhost:8080/"
        },
        "id": "56RB62bSRvbY",
        "outputId": "3211f1e7-c008-42ee-9ad9-703806539137"
      },
      "source": [
        "y_pred = classifier.predict(X_test)\n",
        "print(np.concatenate((y_pred.reshape(len(y_pred),1), y_test.reshape(len(y_test),1)),1))"
      ],
      "execution_count": 15,
      "outputs": [
        {
          "output_type": "stream",
          "name": "stdout",
          "text": [
            "[['Calm' 'Calm']\n",
            " ['Calm' 'Inspiration']\n",
            " ['Calm' 'Happy']\n",
            " ['Angry' 'Sad']\n",
            " ['Inspiration' 'Happy']\n",
            " ['Love' 'Love']\n",
            " ['Inspiration' 'Sad']\n",
            " ['Angry' 'Sad']\n",
            " ['Angry' 'Angry']\n",
            " ['Calm' 'Calm']\n",
            " ['Happy' 'Inspiration']\n",
            " ['Inspiration' 'Sad']\n",
            " ['Sad' 'Angry']\n",
            " ['Calm' 'Happy']\n",
            " ['Sad' 'Sad']\n",
            " ['Inspiration' 'Inspiration']\n",
            " ['Sad' 'Calm']\n",
            " ['Inspiration' 'Inspiration']\n",
            " ['Sad' 'Angry']\n",
            " ['Sad' 'Happy']\n",
            " ['Inspiration' 'Sad']\n",
            " ['Sad' 'Happy']\n",
            " ['Angry' 'Inspiration']\n",
            " ['Love' 'Sad']\n",
            " ['Happy' 'Love']\n",
            " ['Calm' 'Sad']\n",
            " ['Calm' 'Angry']\n",
            " ['Love' 'Love']\n",
            " ['Love' 'Love']\n",
            " ['Love' 'Love']\n",
            " ['Sad' 'Calm']\n",
            " ['Happy' 'Calm']\n",
            " ['Sad' 'Inspiration']\n",
            " ['Love' 'Love']\n",
            " ['Happy' 'Calm']\n",
            " ['Love' 'Inspiration']\n",
            " ['Sad' 'Sad']\n",
            " ['Angry' 'Happy']\n",
            " ['Inspiration' 'Angry']\n",
            " ['Sad' 'Inspiration']\n",
            " ['Inspiration' 'Happy']\n",
            " ['Love' 'Inspiration']\n",
            " ['Sad' 'Inspiration']\n",
            " ['Happy' 'Happy']\n",
            " ['Sad' 'Calm']\n",
            " ['Love' 'Calm']\n",
            " ['Happy' 'Calm']\n",
            " ['Inspiration' 'Sad']\n",
            " ['Sad' 'Love']\n",
            " ['Love' 'Love']\n",
            " ['Calm' 'Love']\n",
            " ['Inspiration' 'Love']\n",
            " ['Angry' 'Love']\n",
            " ['Love' 'Inspiration']\n",
            " ['Happy' 'Sad']\n",
            " ['Calm' 'Happy']\n",
            " ['Sad' 'Inspiration']\n",
            " ['Inspiration' 'Sad']\n",
            " ['Love' 'Sad']\n",
            " ['Sad' 'Love']\n",
            " ['Happy' 'Happy']\n",
            " ['Love' 'Sad']\n",
            " ['Happy' 'Inspiration']\n",
            " ['Calm' 'Inspiration']\n",
            " ['Love' 'Sad']\n",
            " ['Calm' 'Sad']\n",
            " ['Happy' 'Happy']\n",
            " ['Calm' 'Love']\n",
            " ['Inspiration' 'Sad']\n",
            " ['Love' 'Sad']\n",
            " ['Calm' 'Inspiration']\n",
            " ['Angry' 'Inspiration']\n",
            " ['Inspiration' 'Inspiration']\n",
            " ['Inspiration' 'Happy']\n",
            " ['Happy' 'Sad']\n",
            " ['Inspiration' 'Inspiration']\n",
            " ['Inspiration' 'Happy']\n",
            " ['Inspiration' 'Happy']\n",
            " ['Sad' 'Love']\n",
            " ['Happy' 'Angry']\n",
            " ['Sad' 'Sad']\n",
            " ['Calm' 'Sad']\n",
            " ['Happy' 'Happy']\n",
            " ['Inspiration' 'Inspiration']\n",
            " ['Sad' 'Love']\n",
            " ['Love' 'Love']\n",
            " ['Sad' 'Calm']\n",
            " ['Happy' 'Happy']\n",
            " ['Calm' 'Happy']\n",
            " ['Sad' 'Sad']\n",
            " ['Angry' 'Inspiration']\n",
            " ['Inspiration' 'Happy']\n",
            " ['Calm' 'Inspiration']\n",
            " ['Calm' 'Calm']\n",
            " ['Sad' 'Inspiration']\n",
            " ['Inspiration' 'Sad']\n",
            " ['Sad' 'Angry']\n",
            " ['Angry' 'Inspiration']\n",
            " ['Calm' 'Inspiration']\n",
            " ['Inspiration' 'Inspiration']\n",
            " ['Inspiration' 'Love']\n",
            " ['Sad' 'Love']\n",
            " ['Love' 'Sad']\n",
            " ['Sad' 'Sad']\n",
            " ['Love' 'Sad']\n",
            " ['Happy' 'Angry']\n",
            " ['Love' 'Sad']\n",
            " ['Angry' 'Happy']\n",
            " ['Sad' 'Sad']\n",
            " ['Love' 'Sad']\n",
            " ['Sad' 'Happy']\n",
            " ['Calm' 'Inspiration']\n",
            " ['Sad' 'Sad']\n",
            " ['Sad' 'Angry']\n",
            " ['Calm' 'Angry']\n",
            " ['Sad' 'Happy']\n",
            " ['Calm' 'Calm']\n",
            " ['Sad' 'Sad']\n",
            " ['Angry' 'Angry']\n",
            " ['Sad' 'Sad']\n",
            " ['Happy' 'Love']\n",
            " ['Happy' 'Love']\n",
            " ['Love' 'Love']\n",
            " ['Inspiration' 'Sad']\n",
            " ['Inspiration' 'Inspiration']\n",
            " ['Happy' 'Love']\n",
            " ['Love' 'Sad']\n",
            " ['Happy' 'Sad']\n",
            " ['Calm' 'Calm']\n",
            " ['Happy' 'Love']\n",
            " ['Sad' 'Happy']\n",
            " ['Calm' 'Happy']\n",
            " ['Love' 'Inspiration']\n",
            " ['Calm' 'Love']\n",
            " ['Angry' 'Sad']\n",
            " ['Love' 'Happy']\n",
            " ['Inspiration' 'Inspiration']\n",
            " ['Angry' 'Sad']\n",
            " ['Happy' 'Sad']\n",
            " ['Sad' 'Happy']\n",
            " ['Sad' 'Love']\n",
            " ['Sad' 'Sad']\n",
            " ['Sad' 'Calm']\n",
            " ['Love' 'Love']\n",
            " ['Sad' 'Inspiration']\n",
            " ['Love' 'Calm']\n",
            " ['Sad' 'Sad']\n",
            " ['Angry' 'Inspiration']\n",
            " ['Sad' 'Love']\n",
            " ['Inspiration' 'Sad']\n",
            " ['Happy' 'Love']\n",
            " ['Calm' 'Happy']\n",
            " ['Inspiration' 'Sad']\n",
            " ['Happy' 'Sad']\n",
            " ['Inspiration' 'Inspiration']\n",
            " ['Sad' 'Inspiration']\n",
            " ['Love' 'Calm']\n",
            " ['Love' 'Love']\n",
            " ['Calm' 'Calm']\n",
            " ['Sad' 'Sad']]\n"
          ]
        }
      ]
    },
    {
      "cell_type": "markdown",
      "metadata": {
        "id": "2Uiv0xDxR7c9"
      },
      "source": [
        "Making the Confusion Matrix"
      ]
    },
    {
      "cell_type": "code",
      "metadata": {
        "colab": {
          "base_uri": "https://localhost:8080/"
        },
        "id": "-taVWdyIR79B",
        "outputId": "3ad09637-a413-4c2f-f967-976a0dea437b"
      },
      "source": [
        "from sklearn.metrics import confusion_matrix, accuracy_score\n",
        "cm = confusion_matrix(y_test, y_pred)\n",
        "print(cm)\n",
        "accuracy_score(y_test, y_pred)"
      ],
      "execution_count": 16,
      "outputs": [
        {
          "output_type": "stream",
          "name": "stdout",
          "text": [
            "[[ 2  2  2  1  0  4]\n",
            " [ 0  6  3  0  3  5]\n",
            " [ 2  6  5  6  1  6]\n",
            " [ 5  6  2  9  4  7]\n",
            " [ 1  3  6  2 10  7]\n",
            " [ 4  3  5 10 10 12]]\n"
          ]
        },
        {
          "output_type": "execute_result",
          "data": {
            "text/plain": [
              "0.275"
            ]
          },
          "metadata": {},
          "execution_count": 16
        }
      ]
    },
    {
      "cell_type": "markdown",
      "metadata": {
        "id": "RUsVbKXOUWsd"
      },
      "source": [
        "Appyling K-fold cross validation"
      ]
    },
    {
      "cell_type": "code",
      "metadata": {
        "colab": {
          "base_uri": "https://localhost:8080/"
        },
        "id": "NY8gdWjGEmIK",
        "outputId": "bc2d3430-dbb0-46e5-e1a5-16368d4b7932"
      },
      "source": [
        "from sklearn.model_selection import cross_val_score\n",
        "accuracies = cross_val_score(estimator = classifier, X = X_train, y = y_train, cv = 2)\n",
        "print(\"Accuracy: {:.2f} %\".format(accuracies.mean()*100))\n",
        "print(\"Standard Deviation: {:.2f} %\".format(accuracies.std()*100))"
      ],
      "execution_count": 17,
      "outputs": [
        {
          "output_type": "stream",
          "name": "stdout",
          "text": [
            "Accuracy: 35.21 %\n",
            "Standard Deviation: 1.98 %\n"
          ]
        }
      ]
    },
    {
      "cell_type": "code",
      "metadata": {
        "colab": {
          "base_uri": "https://localhost:8080/"
        },
        "id": "Sl-4bKUMUZro",
        "outputId": "2d7cde5c-c3de-48a9-a25a-5115f831c15b"
      },
      "source": [
        "from sklearn.model_selection import cross_val_score\n",
        "accuracies = cross_val_score(estimator = classifier, X = X_train, y = y_train, cv = 3)\n",
        "print(\"Accuracy: {:.2f} %\".format(accuracies.mean()*100))\n",
        "print(\"Standard Deviation: {:.2f} %\".format(accuracies.std()*100))"
      ],
      "execution_count": 18,
      "outputs": [
        {
          "output_type": "stream",
          "name": "stdout",
          "text": [
            "Accuracy: 35.21 %\n",
            "Standard Deviation: 4.22 %\n"
          ]
        }
      ]
    },
    {
      "cell_type": "code",
      "metadata": {
        "colab": {
          "base_uri": "https://localhost:8080/"
        },
        "id": "t6aNsJw1trtF",
        "outputId": "fbadb261-6b19-46fb-d974-c81e4ee54f92"
      },
      "source": [
        "from sklearn.model_selection import cross_val_score\n",
        "accuracies = cross_val_score(estimator = classifier, X = X_train, y = y_train, cv = 4)\n",
        "print(\"Accuracy: {:.2f} %\".format(accuracies.mean()*100))\n",
        "print(\"Standard Deviation: {:.2f} %\".format(accuracies.std()*100))"
      ],
      "execution_count": 19,
      "outputs": [
        {
          "output_type": "stream",
          "name": "stdout",
          "text": [
            "Accuracy: 31.93 %\n",
            "Standard Deviation: 1.23 %\n"
          ]
        }
      ]
    },
    {
      "cell_type": "code",
      "metadata": {
        "colab": {
          "base_uri": "https://localhost:8080/"
        },
        "id": "PqL3rJ_tWA9b",
        "outputId": "9e9ea87e-cbae-4219-ba32-b3ddfe1c4961"
      },
      "source": [
        "from sklearn.model_selection import cross_val_score\n",
        "accuracies = cross_val_score(estimator = classifier, X = X_train, y = y_train, cv = 5)\n",
        "print(\"Accuracy: {:.2f} %\".format(accuracies.mean()*100))\n",
        "print(\"Standard Deviation: {:.2f} %\".format(accuracies.std()*100))"
      ],
      "execution_count": 20,
      "outputs": [
        {
          "output_type": "stream",
          "name": "stdout",
          "text": [
            "Accuracy: 32.24 %\n",
            "Standard Deviation: 2.81 %\n"
          ]
        }
      ]
    },
    {
      "cell_type": "code",
      "metadata": {
        "colab": {
          "base_uri": "https://localhost:8080/"
        },
        "id": "DZ_8X1zjtvC6",
        "outputId": "5d35c62f-9d1d-49be-eefa-625bcdd94b8e"
      },
      "source": [
        "from sklearn.model_selection import cross_val_score\n",
        "accuracies = cross_val_score(estimator = classifier, X = X_train, y = y_train, cv = 6)\n",
        "print(\"Accuracy: {:.2f} %\".format(accuracies.mean()*100))\n",
        "print(\"Standard Deviation: {:.2f} %\".format(accuracies.std()*100))"
      ],
      "execution_count": 21,
      "outputs": [
        {
          "output_type": "stream",
          "name": "stdout",
          "text": [
            "Accuracy: 32.08 %\n",
            "Standard Deviation: 2.45 %\n"
          ]
        }
      ]
    },
    {
      "cell_type": "code",
      "metadata": {
        "colab": {
          "base_uri": "https://localhost:8080/"
        },
        "id": "yy5sqReMtymm",
        "outputId": "17e69142-accb-4891-a2f8-e2045302f6d5"
      },
      "source": [
        "from sklearn.model_selection import cross_val_score\n",
        "accuracies = cross_val_score(estimator = classifier, X = X_train, y = y_train, cv = 7)\n",
        "print(\"Accuracy: {:.2f} %\".format(accuracies.mean()*100))\n",
        "print(\"Standard Deviation: {:.2f} %\".format(accuracies.std()*100))"
      ],
      "execution_count": 22,
      "outputs": [
        {
          "output_type": "stream",
          "name": "stdout",
          "text": [
            "Accuracy: 32.24 %\n",
            "Standard Deviation: 2.92 %\n"
          ]
        }
      ]
    },
    {
      "cell_type": "code",
      "metadata": {
        "colab": {
          "base_uri": "https://localhost:8080/"
        },
        "id": "TSRCA3NOWFdI",
        "outputId": "3ff56bf8-4f13-4839-9c41-fa25170b0233"
      },
      "source": [
        "from sklearn.model_selection import cross_val_score\n",
        "accuracies = cross_val_score(estimator = classifier, X = X_train, y = y_train, cv = 8)\n",
        "print(\"Accuracy: {:.2f} %\".format(accuracies.mean()*100))\n",
        "print(\"Standard Deviation: {:.2f} %\".format(accuracies.std()*100))"
      ],
      "execution_count": 23,
      "outputs": [
        {
          "output_type": "stream",
          "name": "stdout",
          "text": [
            "Accuracy: 32.23 %\n",
            "Standard Deviation: 4.22 %\n"
          ]
        }
      ]
    },
    {
      "cell_type": "markdown",
      "metadata": {
        "id": "v0F-06ZVDaG2"
      },
      "source": [
        "## Applying Grid Search to find the best model and the best parameters"
      ]
    },
    {
      "cell_type": "code",
      "metadata": {
        "colab": {
          "base_uri": "https://localhost:8080/"
        },
        "id": "VBp1ouDyDl0k",
        "outputId": "bfe527ab-e178-47e1-e91f-af0c7b4298d2"
      },
      "source": [
        "from sklearn.model_selection import GridSearchCV\n",
        "parameters = [{'criterion' : ['entropy','gini'], 'splitter' : ['best','random']}]\n",
        "grid_search = GridSearchCV(estimator = classifier,\n",
        "                           param_grid = parameters,\n",
        "                           scoring = 'accuracy',\n",
        "                           cv = 2,\n",
        "                           n_jobs = -1)\n",
        "grid_search.fit(X_train, y_train)\n",
        "best_accuracy = grid_search.best_score_\n",
        "best_parameters = grid_search.best_params_\n",
        "print(\"Best Accuracy: {:.2f} %\".format(best_accuracy*100))\n",
        "print(\"Best Parameters:\", best_parameters)"
      ],
      "execution_count": 24,
      "outputs": [
        {
          "output_type": "stream",
          "name": "stdout",
          "text": [
            "Best Accuracy: 35.21 %\n",
            "Best Parameters: {'criterion': 'entropy', 'splitter': 'best'}\n"
          ]
        }
      ]
    },
    {
      "cell_type": "code",
      "metadata": {
        "colab": {
          "base_uri": "https://localhost:8080/"
        },
        "id": "IOmIapuYEspI",
        "outputId": "a8107b56-bf4a-440d-cdb4-0dbcfc2cc360"
      },
      "source": [
        "from sklearn.model_selection import GridSearchCV\n",
        "parameters = [{'criterion' : ['entropy','gini'], 'splitter' : ['best','random']}]\n",
        "grid_search = GridSearchCV(estimator = classifier,\n",
        "                           param_grid = parameters,\n",
        "                           scoring = 'accuracy',\n",
        "                           cv = 3,\n",
        "                           n_jobs = -1)\n",
        "grid_search.fit(X_train, y_train)\n",
        "best_accuracy = grid_search.best_score_\n",
        "best_parameters = grid_search.best_params_\n",
        "print(\"Best Accuracy: {:.2f} %\".format(best_accuracy*100))\n",
        "print(\"Best Parameters:\", best_parameters)"
      ],
      "execution_count": 25,
      "outputs": [
        {
          "output_type": "stream",
          "name": "stdout",
          "text": [
            "Best Accuracy: 35.21 %\n",
            "Best Parameters: {'criterion': 'entropy', 'splitter': 'best'}\n"
          ]
        }
      ]
    },
    {
      "cell_type": "code",
      "metadata": {
        "colab": {
          "base_uri": "https://localhost:8080/"
        },
        "id": "QsEzsBv4EvWS",
        "outputId": "5853c513-f845-440f-bb1c-c3d90c3a3302"
      },
      "source": [
        "from sklearn.model_selection import GridSearchCV\n",
        "parameters = [{'criterion' : ['entropy','gini'], 'splitter' : ['best','random']}]\n",
        "grid_search = GridSearchCV(estimator = classifier,\n",
        "                           param_grid = parameters,\n",
        "                           scoring = 'accuracy',\n",
        "                           cv = 5,\n",
        "                           n_jobs = -1)\n",
        "grid_search.fit(X_train, y_train)\n",
        "best_accuracy = grid_search.best_score_\n",
        "best_parameters = grid_search.best_params_\n",
        "print(\"Best Accuracy: {:.2f} %\".format(best_accuracy*100))\n",
        "print(\"Best Parameters:\", best_parameters)"
      ],
      "execution_count": 26,
      "outputs": [
        {
          "output_type": "stream",
          "name": "stdout",
          "text": [
            "Best Accuracy: 33.96 %\n",
            "Best Parameters: {'criterion': 'gini', 'splitter': 'random'}\n"
          ]
        }
      ]
    },
    {
      "cell_type": "code",
      "metadata": {
        "colab": {
          "base_uri": "https://localhost:8080/"
        },
        "id": "0_OASR7oExn0",
        "outputId": "f7af46ef-1579-492e-9193-384d16fedc96"
      },
      "source": [
        "from sklearn.model_selection import GridSearchCV\n",
        "parameters = [{'criterion' : ['entropy','gini'], 'splitter' : ['best','random']}]\n",
        "grid_search = GridSearchCV(estimator = classifier,\n",
        "                           param_grid = parameters,\n",
        "                           scoring = 'accuracy',\n",
        "                           cv = 6,\n",
        "                           n_jobs = -1)\n",
        "grid_search.fit(X_train, y_train)\n",
        "best_accuracy = grid_search.best_score_\n",
        "best_parameters = grid_search.best_params_\n",
        "print(\"Best Accuracy: {:.2f} %\".format(best_accuracy*100))\n",
        "print(\"Best Parameters:\", best_parameters)"
      ],
      "execution_count": 27,
      "outputs": [
        {
          "output_type": "stream",
          "name": "stdout",
          "text": [
            "Best Accuracy: 33.34 %\n",
            "Best Parameters: {'criterion': 'gini', 'splitter': 'random'}\n"
          ]
        }
      ]
    },
    {
      "cell_type": "code",
      "metadata": {
        "colab": {
          "base_uri": "https://localhost:8080/"
        },
        "id": "saZI0qd-Ezyp",
        "outputId": "2d5d67ba-dfd4-4f7d-d21c-bd9c28408b60"
      },
      "source": [
        "from sklearn.model_selection import GridSearchCV\n",
        "parameters = [{'criterion' : ['entropy','gini'], 'splitter' : ['best','random']}]\n",
        "grid_search = GridSearchCV(estimator = classifier,\n",
        "                           param_grid = parameters,\n",
        "                           scoring = 'accuracy',\n",
        "                           cv = 7,\n",
        "                           n_jobs = -1)\n",
        "grid_search.fit(X_train, y_train)\n",
        "best_accuracy = grid_search.best_score_\n",
        "best_parameters = grid_search.best_params_\n",
        "print(\"Best Accuracy: {:.2f} %\".format(best_accuracy*100))\n",
        "print(\"Best Parameters:\", best_parameters)"
      ],
      "execution_count": 28,
      "outputs": [
        {
          "output_type": "stream",
          "name": "stdout",
          "text": [
            "Best Accuracy: 33.34 %\n",
            "Best Parameters: {'criterion': 'gini', 'splitter': 'random'}\n"
          ]
        }
      ]
    },
    {
      "cell_type": "code",
      "metadata": {
        "id": "QcrvOKASE2J4",
        "outputId": "7f1aee15-9cf8-4e01-e58d-01430205870d",
        "colab": {
          "base_uri": "https://localhost:8080/"
        }
      },
      "source": [
        "from sklearn.model_selection import GridSearchCV\n",
        "parameters = [{'criterion' : ['entropy','gini'], 'splitter' : ['best','random']}]\n",
        "grid_search = GridSearchCV(estimator = classifier,\n",
        "                           param_grid = parameters,\n",
        "                           scoring = 'accuracy',\n",
        "                           cv = 8,\n",
        "                           n_jobs = -1)\n",
        "grid_search.fit(X_train, y_train)\n",
        "best_accuracy = grid_search.best_score_\n",
        "best_parameters = grid_search.best_params_\n",
        "print(\"Best Accuracy: {:.2f} %\".format(best_accuracy*100))\n",
        "print(\"Best Parameters:\", best_parameters)"
      ],
      "execution_count": 29,
      "outputs": [
        {
          "output_type": "stream",
          "name": "stdout",
          "text": [
            "Best Accuracy: 33.49 %\n",
            "Best Parameters: {'criterion': 'gini', 'splitter': 'best'}\n"
          ]
        }
      ]
    }
  ]
}