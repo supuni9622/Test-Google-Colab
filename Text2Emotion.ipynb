{
  "nbformat": 4,
  "nbformat_minor": 0,
  "metadata": {
    "colab": {
      "name": "Copy of Text2Emotion.ipynb",
      "provenance": [],
      "toc_visible": true,
      "include_colab_link": true
    },
    "kernelspec": {
      "name": "python3",
      "display_name": "Python 3"
    }
  },
  "cells": [
    {
      "cell_type": "markdown",
      "metadata": {
        "id": "view-in-github",
        "colab_type": "text"
      },
      "source": [
        "<a href=\"https://colab.research.google.com/github/supuni9622/Test-Google-Colab/blob/main/Text2Emotion.ipynb\" target=\"_parent\"><img src=\"https://colab.research.google.com/assets/colab-badge.svg\" alt=\"Open In Colab\"/></a>"
      ]
    },
    {
      "cell_type": "markdown",
      "metadata": {
        "id": "ivUkOaBPEQYr"
      },
      "source": [
        "# **What is Text2Emotion?**\n",
        "Text2Emotion is the python package which will help you to extract the emotions from the content.\n",
        "\n",
        "*   Processes any textual message and recognizes the emotion embedded in it.\n",
        "*   Compatible with 5 different emotion categories as Happy, Angry, Sad, Surprise and Fear.\n",
        "\n"
      ]
    },
    {
      "cell_type": "markdown",
      "metadata": {
        "id": "949Mr0BLF7xW"
      },
      "source": [
        "Here we will discuss about the working of package and how you can use it."
      ]
    },
    {
      "cell_type": "markdown",
      "metadata": {
        "id": "7qvXHaLbG7al"
      },
      "source": [
        "## 1. Install the package"
      ]
    },
    {
      "cell_type": "code",
      "metadata": {
        "id": "nxET8yW3HIvL",
        "outputId": "9800f755-dd04-4f1a-a46f-4efc3c542ae1",
        "colab": {
          "base_uri": "https://localhost:8080/"
        }
      },
      "source": [
        "pip install text2emotion"
      ],
      "execution_count": 1,
      "outputs": [
        {
          "output_type": "stream",
          "name": "stdout",
          "text": [
            "Collecting text2emotion\n",
            "  Downloading text2emotion-0.0.5-py3-none-any.whl (57 kB)\n",
            "\u001b[K     |████████████████████████████████| 57 kB 2.5 MB/s \n",
            "\u001b[?25hCollecting emoji>=0.6.0\n",
            "  Downloading emoji-1.6.3.tar.gz (174 kB)\n",
            "\u001b[K     |████████████████████████████████| 174 kB 10.1 MB/s \n",
            "\u001b[?25hRequirement already satisfied: nltk in /usr/local/lib/python3.7/dist-packages (from text2emotion) (3.2.5)\n",
            "Requirement already satisfied: six in /usr/local/lib/python3.7/dist-packages (from nltk->text2emotion) (1.15.0)\n",
            "Building wheels for collected packages: emoji\n",
            "  Building wheel for emoji (setup.py) ... \u001b[?25l\u001b[?25hdone\n",
            "  Created wheel for emoji: filename=emoji-1.6.3-py3-none-any.whl size=170298 sha256=79ad14bb0bf1ff70e43a1f29e5f2bf715907100759fe8205ed9944def00aa7e8\n",
            "  Stored in directory: /root/.cache/pip/wheels/03/8b/d7/ad579fbef83c287215c0caab60fb0ae0f30c4d7ce5f580eade\n",
            "Successfully built emoji\n",
            "Installing collected packages: emoji, text2emotion\n",
            "Successfully installed emoji-1.6.3 text2emotion-0.0.5\n"
          ]
        }
      ]
    },
    {
      "cell_type": "code",
      "metadata": {
        "id": "D3QHLMdnbMCX",
        "outputId": "776b15e3-802d-4512-bd04-b48ffbd106f0",
        "colab": {
          "base_uri": "https://localhost:8080/"
        }
      },
      "source": [
        "import text2emotion as te"
      ],
      "execution_count": 2,
      "outputs": [
        {
          "output_type": "stream",
          "name": "stdout",
          "text": [
            "[nltk_data] Downloading package stopwords to /root/nltk_data...\n",
            "[nltk_data]   Unzipping corpora/stopwords.zip.\n",
            "[nltk_data] Downloading package punkt to /root/nltk_data...\n",
            "[nltk_data]   Unzipping tokenizers/punkt.zip.\n",
            "[nltk_data] Downloading package wordnet to /root/nltk_data...\n",
            "[nltk_data]   Unzipping corpora/wordnet.zip.\n"
          ]
        }
      ]
    },
    {
      "cell_type": "markdown",
      "metadata": {
        "id": "DgcGUoLpO0aw"
      },
      "source": [
        "## 2. Call get_emotion() function"
      ]
    },
    {
      "cell_type": "markdown",
      "metadata": {
        "id": "cic_vEaoI7Ge"
      },
      "source": [
        "Let's get some content for emotion analysis"
      ]
    },
    {
      "cell_type": "code",
      "metadata": {
        "id": "McuobJsvH2EF"
      },
      "source": [
        "text = \"I was asked to sign a third party contract a week out from stay. If it wasn't an 8 person group that took a lot of wrangling I would have cancelled the booking straight away. Bathrooms - there are no stand alone bathrooms. Please consider this - you have to clear out the main bedroom to use that bathroom. Other option is you walk through a different bedroom to get to its en-suite. Signs all over the apartment - there are signs everywhere - some helpful - some telling you rules. Perhaps some people like this but It negatively affected our enjoyment of the accommodation. Stairs - lots of them - some had slightly bending wood which caused a minor injury.\""
      ],
      "execution_count": 3,
      "outputs": []
    },
    {
      "cell_type": "code",
      "metadata": {
        "id": "q9n9nGi1H0WN",
        "outputId": "643bbdfc-dc76-406a-94fa-d21674b3d267",
        "colab": {
          "base_uri": "https://localhost:8080/"
        }
      },
      "source": [
        "te.get_emotion(text)"
      ],
      "execution_count": 4,
      "outputs": [
        {
          "output_type": "execute_result",
          "data": {
            "text/plain": [
              "{'Angry': 0.12, 'Fear': 0.42, 'Happy': 0.04, 'Sad': 0.33, 'Surprise': 0.08}"
            ]
          },
          "metadata": {},
          "execution_count": 4
        }
      ]
    },
    {
      "cell_type": "markdown",
      "metadata": {
        "id": "uyjyMGEcI44c"
      },
      "source": [
        "Here, we got the output in terms of dictionary where we have emotion categories along with the respective score."
      ]
    },
    {
      "cell_type": "markdown",
      "metadata": {
        "id": "Y2hpOj6hM8cz"
      },
      "source": [
        "Now, if we think about the scores of the relative emotion categories then **Fear** scoe is 0.45 & **Sad** score is 0.32. So on overall analysis we can say that the statement we took as input has the Fear & Sad tone."
      ]
    },
    {
      "cell_type": "code",
      "metadata": {
        "id": "UR2s0lo3Iuzq"
      },
      "source": [
        "text = \"The times are difficult! Our sales have been disappointing for the past three quarters for our data analytics product suite. We have a competitive data analytics product suite in the industry. However, we are not doing a good job at selling it, and this is really frustrating.\""
      ],
      "execution_count": 5,
      "outputs": []
    },
    {
      "cell_type": "code",
      "metadata": {
        "id": "EsVJ1ulWS5SF",
        "outputId": "337b1813-a24d-4ab3-80b4-a56d1f103bb1",
        "colab": {
          "base_uri": "https://localhost:8080/"
        }
      },
      "source": [
        "te.get_emotion(text)"
      ],
      "execution_count": 6,
      "outputs": [
        {
          "output_type": "execute_result",
          "data": {
            "text/plain": [
              "{'Angry': 0.14, 'Fear': 0.14, 'Happy': 0.14, 'Sad': 0.29, 'Surprise': 0.29}"
            ]
          },
          "metadata": {},
          "execution_count": 6
        }
      ]
    },
    {
      "cell_type": "markdown",
      "metadata": {
        "id": "IZ4o-w7LO3tG"
      },
      "source": [
        "Let's check for short messages."
      ]
    },
    {
      "cell_type": "code",
      "metadata": {
        "id": "9gJfoXOzPAUs",
        "outputId": "d88836fd-956c-4d95-d009-baca578be38e",
        "colab": {
          "base_uri": "https://localhost:8080/"
        }
      },
      "source": [
        "text = \"Good n8\"\n",
        "te.get_emotion(text)"
      ],
      "execution_count": 7,
      "outputs": [
        {
          "output_type": "execute_result",
          "data": {
            "text/plain": [
              "{'Angry': 0.0, 'Fear': 0.0, 'Happy': 1.0, 'Sad': 0.0, 'Surprise': 0.0}"
            ]
          },
          "metadata": {},
          "execution_count": 7
        }
      ]
    },
    {
      "cell_type": "code",
      "metadata": {
        "id": "4ILgh6jhPMUK",
        "outputId": "6bbfc969-3a59-4c34-84e0-bb5c4bb33721",
        "colab": {
          "base_uri": "https://localhost:8080/"
        }
      },
      "source": [
        "text = \"That night was so horrible.\"\n",
        "te.get_emotion(text)"
      ],
      "execution_count": 8,
      "outputs": [
        {
          "output_type": "execute_result",
          "data": {
            "text/plain": [
              "{'Angry': 0.0, 'Fear': 1.0, 'Happy': 0.0, 'Sad': 0.0, 'Surprise': 0.0}"
            ]
          },
          "metadata": {},
          "execution_count": 8
        }
      ]
    },
    {
      "cell_type": "code",
      "metadata": {
        "id": "dlzlYbQuPVY2",
        "outputId": "736872dd-ce2f-4e0a-a514-6491d5ea7a05",
        "colab": {
          "base_uri": "https://localhost:8080/"
        }
      },
      "source": [
        "text = \"I just love this surprise.\"\n",
        "te.get_emotion(text)"
      ],
      "execution_count": 9,
      "outputs": [
        {
          "output_type": "execute_result",
          "data": {
            "text/plain": [
              "{'Angry': 0.0, 'Fear': 0.0, 'Happy': 0.5, 'Sad': 0.0, 'Surprise': 0.5}"
            ]
          },
          "metadata": {},
          "execution_count": 9
        }
      ]
    },
    {
      "cell_type": "code",
      "metadata": {
        "id": "CNSSyJTAPePS",
        "outputId": "79b383ae-2360-4891-ebf9-3ddffb9e80d4",
        "colab": {
          "base_uri": "https://localhost:8080/"
        }
      },
      "source": [
        "text = \"I can't understand what to do now.\"\n",
        "te.get_emotion(text)"
      ],
      "execution_count": 10,
      "outputs": [
        {
          "output_type": "execute_result",
          "data": {
            "text/plain": [
              "{'Angry': 0.0, 'Fear': 0.0, 'Happy': 0.0, 'Sad': 1.0, 'Surprise': 0.0}"
            ]
          },
          "metadata": {},
          "execution_count": 10
        }
      ]
    },
    {
      "cell_type": "markdown",
      "metadata": {
        "id": "UCwPZ34BRY0_"
      },
      "source": [
        "Let's check out with some statements which contain emojis.\n"
      ]
    },
    {
      "cell_type": "code",
      "metadata": {
        "id": "dnTtCGl_QVrQ",
        "outputId": "9f454ab5-0309-4739-95e1-49860ccabe3c",
        "colab": {
          "base_uri": "https://localhost:8080/"
        }
      },
      "source": [
        "text = \"you got this man 😆😂\"\n",
        "te.get_emotion(text)"
      ],
      "execution_count": 11,
      "outputs": [
        {
          "output_type": "execute_result",
          "data": {
            "text/plain": [
              "{'Angry': 0, 'Fear': 0, 'Happy': 0, 'Sad': 0, 'Surprise': 0}"
            ]
          },
          "metadata": {},
          "execution_count": 11
        }
      ]
    },
    {
      "cell_type": "code",
      "metadata": {
        "id": "K54DBtW3TruC",
        "outputId": "6b2e6e5a-a082-458e-bc69-ce67808b6159",
        "colab": {
          "base_uri": "https://localhost:8080/"
        }
      },
      "source": [
        "text = \"I am extremely interested in software.\"\n",
        "te.get_emotion(text)"
      ],
      "execution_count": 12,
      "outputs": [
        {
          "output_type": "execute_result",
          "data": {
            "text/plain": [
              "{'Angry': 0.0, 'Fear': 0.0, 'Happy': 1.0, 'Sad': 0.0, 'Surprise': 0.0}"
            ]
          },
          "metadata": {},
          "execution_count": 12
        }
      ]
    }
  ]
}