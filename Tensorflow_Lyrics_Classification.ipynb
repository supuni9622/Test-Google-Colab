{
  "nbformat": 4,
  "nbformat_minor": 0,
  "metadata": {
    "colab": {
      "name": "Tensorflow_Lyrics_Classification.ipynb",
      "provenance": [],
      "mount_file_id": "1npJMYOLF8TspvS_FMXArMJlX2cY28b_t",
      "authorship_tag": "ABX9TyMb1nDEJ4StTaHQMclUWCCw",
      "include_colab_link": true
    },
    "kernelspec": {
      "name": "python3",
      "display_name": "Python 3"
    },
    "language_info": {
      "name": "python"
    }
  },
  "cells": [
    {
      "cell_type": "markdown",
      "metadata": {
        "id": "view-in-github",
        "colab_type": "text"
      },
      "source": [
        "<a href=\"https://colab.research.google.com/github/supuni9622/Test-Google-Colab/blob/main/Tensorflow_Lyrics_Classification.ipynb\" target=\"_parent\"><img src=\"https://colab.research.google.com/assets/colab-badge.svg\" alt=\"Open In Colab\"/></a>"
      ]
    },
    {
      "cell_type": "code",
      "execution_count": 15,
      "metadata": {
        "colab": {
          "base_uri": "https://localhost:8080/"
        },
        "id": "hsZ2x2siOsJa",
        "outputId": "3c721c86-344c-4943-900c-54b78c9d9226"
      },
      "outputs": [
        {
          "output_type": "stream",
          "name": "stdout",
          "text": [
            "/content/drive/MyDrive/4th Year Research/M3/Test Implementation/Test-Google-Colab/TestV2/Tensorflow\n"
          ]
        }
      ],
      "source": [
        "cd /content/drive/MyDrive/4th Year Research/M3/Test Implementation/Test-Google-Colab/TestV2/Tensorflow"
      ]
    },
    {
      "cell_type": "code",
      "source": [
        "import tensorflow as tf\n",
        "from tensorflow import keras\n",
        "import pandas as pd\n",
        "import numpy as np\n",
        "import os\n",
        "import matplotlib.pyplot as plt\n",
        "import time"
      ],
      "metadata": {
        "id": "kutYSFlWPchm"
      },
      "execution_count": 16,
      "outputs": []
    },
    {
      "cell_type": "code",
      "source": [
        "df = pd.read_csv('Lyrical_data_5.csv',encoding='cp1252')\n",
        "df.shape"
      ],
      "metadata": {
        "colab": {
          "base_uri": "https://localhost:8080/"
        },
        "id": "LZy7pvBgPjAR",
        "outputId": "9f892e6f-eca9-4d89-ef0e-ffd8105e52d8"
      },
      "execution_count": 17,
      "outputs": [
        {
          "output_type": "execute_result",
          "data": {
            "text/plain": [
              "(800, 4)"
            ]
          },
          "metadata": {},
          "execution_count": 17
        }
      ]
    },
    {
      "cell_type": "code",
      "source": [
        "df.head()"
      ],
      "metadata": {
        "colab": {
          "base_uri": "https://localhost:8080/",
          "height": 206
        },
        "id": "5j_7NAUzP00m",
        "outputId": "483a5b9b-169a-4d48-c0be-1daff6ae302a"
      },
      "execution_count": 18,
      "outputs": [
        {
          "output_type": "execute_result",
          "data": {
            "text/html": [
              "\n",
              "  <div id=\"df-1a013cb0-34db-4a5c-ad46-c77c540eefcc\">\n",
              "    <div class=\"colab-df-container\">\n",
              "      <div>\n",
              "<style scoped>\n",
              "    .dataframe tbody tr th:only-of-type {\n",
              "        vertical-align: middle;\n",
              "    }\n",
              "\n",
              "    .dataframe tbody tr th {\n",
              "        vertical-align: top;\n",
              "    }\n",
              "\n",
              "    .dataframe thead th {\n",
              "        text-align: right;\n",
              "    }\n",
              "</style>\n",
              "<table border=\"1\" class=\"dataframe\">\n",
              "  <thead>\n",
              "    <tr style=\"text-align: right;\">\n",
              "      <th></th>\n",
              "      <th>Song_ID</th>\n",
              "      <th>Song_Title</th>\n",
              "      <th>Chorus</th>\n",
              "      <th>Emotion</th>\n",
              "    </tr>\n",
              "  </thead>\n",
              "  <tbody>\n",
              "    <tr>\n",
              "      <th>0</th>\n",
              "      <td>1</td>\n",
              "      <td>Diana</td>\n",
              "      <td>Diana,\\rLet me be the one to light a fire insi...</td>\n",
              "      <td>Inspiration</td>\n",
              "    </tr>\n",
              "    <tr>\n",
              "      <th>1</th>\n",
              "      <td>2</td>\n",
              "      <td>Don't forget where you belong</td>\n",
              "      <td>Don't forget where you belong\\rHome\\rDon't for...</td>\n",
              "      <td>Inspiration</td>\n",
              "    </tr>\n",
              "    <tr>\n",
              "      <th>2</th>\n",
              "      <td>3</td>\n",
              "      <td>Strong</td>\n",
              "      <td>I'm sorry if I say, \"I need you\"\\nBut I don't ...</td>\n",
              "      <td>Inspiration</td>\n",
              "    </tr>\n",
              "    <tr>\n",
              "      <th>3</th>\n",
              "      <td>4</td>\n",
              "      <td>Happily</td>\n",
              "      <td>I don't care what people say when we're togeth...</td>\n",
              "      <td>Love</td>\n",
              "    </tr>\n",
              "    <tr>\n",
              "      <th>4</th>\n",
              "      <td>5</td>\n",
              "      <td>Better than words</td>\n",
              "      <td>Better than words\\rMore than a feeling Crazy i...</td>\n",
              "      <td>Love</td>\n",
              "    </tr>\n",
              "  </tbody>\n",
              "</table>\n",
              "</div>\n",
              "      <button class=\"colab-df-convert\" onclick=\"convertToInteractive('df-1a013cb0-34db-4a5c-ad46-c77c540eefcc')\"\n",
              "              title=\"Convert this dataframe to an interactive table.\"\n",
              "              style=\"display:none;\">\n",
              "        \n",
              "  <svg xmlns=\"http://www.w3.org/2000/svg\" height=\"24px\"viewBox=\"0 0 24 24\"\n",
              "       width=\"24px\">\n",
              "    <path d=\"M0 0h24v24H0V0z\" fill=\"none\"/>\n",
              "    <path d=\"M18.56 5.44l.94 2.06.94-2.06 2.06-.94-2.06-.94-.94-2.06-.94 2.06-2.06.94zm-11 1L8.5 8.5l.94-2.06 2.06-.94-2.06-.94L8.5 2.5l-.94 2.06-2.06.94zm10 10l.94 2.06.94-2.06 2.06-.94-2.06-.94-.94-2.06-.94 2.06-2.06.94z\"/><path d=\"M17.41 7.96l-1.37-1.37c-.4-.4-.92-.59-1.43-.59-.52 0-1.04.2-1.43.59L10.3 9.45l-7.72 7.72c-.78.78-.78 2.05 0 2.83L4 21.41c.39.39.9.59 1.41.59.51 0 1.02-.2 1.41-.59l7.78-7.78 2.81-2.81c.8-.78.8-2.07 0-2.86zM5.41 20L4 18.59l7.72-7.72 1.47 1.35L5.41 20z\"/>\n",
              "  </svg>\n",
              "      </button>\n",
              "      \n",
              "  <style>\n",
              "    .colab-df-container {\n",
              "      display:flex;\n",
              "      flex-wrap:wrap;\n",
              "      gap: 12px;\n",
              "    }\n",
              "\n",
              "    .colab-df-convert {\n",
              "      background-color: #E8F0FE;\n",
              "      border: none;\n",
              "      border-radius: 50%;\n",
              "      cursor: pointer;\n",
              "      display: none;\n",
              "      fill: #1967D2;\n",
              "      height: 32px;\n",
              "      padding: 0 0 0 0;\n",
              "      width: 32px;\n",
              "    }\n",
              "\n",
              "    .colab-df-convert:hover {\n",
              "      background-color: #E2EBFA;\n",
              "      box-shadow: 0px 1px 2px rgba(60, 64, 67, 0.3), 0px 1px 3px 1px rgba(60, 64, 67, 0.15);\n",
              "      fill: #174EA6;\n",
              "    }\n",
              "\n",
              "    [theme=dark] .colab-df-convert {\n",
              "      background-color: #3B4455;\n",
              "      fill: #D2E3FC;\n",
              "    }\n",
              "\n",
              "    [theme=dark] .colab-df-convert:hover {\n",
              "      background-color: #434B5C;\n",
              "      box-shadow: 0px 1px 3px 1px rgba(0, 0, 0, 0.15);\n",
              "      filter: drop-shadow(0px 1px 2px rgba(0, 0, 0, 0.3));\n",
              "      fill: #FFFFFF;\n",
              "    }\n",
              "  </style>\n",
              "\n",
              "      <script>\n",
              "        const buttonEl =\n",
              "          document.querySelector('#df-1a013cb0-34db-4a5c-ad46-c77c540eefcc button.colab-df-convert');\n",
              "        buttonEl.style.display =\n",
              "          google.colab.kernel.accessAllowed ? 'block' : 'none';\n",
              "\n",
              "        async function convertToInteractive(key) {\n",
              "          const element = document.querySelector('#df-1a013cb0-34db-4a5c-ad46-c77c540eefcc');\n",
              "          const dataTable =\n",
              "            await google.colab.kernel.invokeFunction('convertToInteractive',\n",
              "                                                     [key], {});\n",
              "          if (!dataTable) return;\n",
              "\n",
              "          const docLinkHtml = 'Like what you see? Visit the ' +\n",
              "            '<a target=\"_blank\" href=https://colab.research.google.com/notebooks/data_table.ipynb>data table notebook</a>'\n",
              "            + ' to learn more about interactive tables.';\n",
              "          element.innerHTML = '';\n",
              "          dataTable['output_type'] = 'display_data';\n",
              "          await google.colab.output.renderOutput(dataTable, element);\n",
              "          const docLink = document.createElement('div');\n",
              "          docLink.innerHTML = docLinkHtml;\n",
              "          element.appendChild(docLink);\n",
              "        }\n",
              "      </script>\n",
              "    </div>\n",
              "  </div>\n",
              "  "
            ],
            "text/plain": [
              "   Song_ID  ...      Emotion\n",
              "0        1  ...  Inspiration\n",
              "1        2  ...  Inspiration\n",
              "2        3  ...  Inspiration\n",
              "3        4  ...         Love\n",
              "4        5  ...         Love\n",
              "\n",
              "[5 rows x 4 columns]"
            ]
          },
          "metadata": {},
          "execution_count": 18
        }
      ]
    },
    {
      "cell_type": "code",
      "source": [
        "df = df.dropna(how=\"any\").reset_index(drop=True)"
      ],
      "metadata": {
        "id": "GXjRaGwfP-iQ"
      },
      "execution_count": 19,
      "outputs": []
    },
    {
      "cell_type": "markdown",
      "source": [
        "Preprocessing"
      ],
      "metadata": {
        "id": "kdaJ-5yFQY4Z"
      }
    },
    {
      "cell_type": "code",
      "source": [
        "from numpy import random\n",
        "import gensim\n",
        "import nltk\n",
        "nltk.download('stopwords')\n",
        "from nltk.corpus import stopwords\n",
        "import re\n",
        "import string\n",
        "\n",
        "REPLACE = re.compile('[^a-zA-Z]')\n",
        "REPLACE_BY_SPACE_RE = re.compile('[/(){}\\[\\]\\|@,;]')\n",
        "BAD_SYMBOLS_RE = re.compile('[^0-9a-z #+_]')\n",
        "STOPWORDS = set(stopwords.words('english'))\n",
        "translator = str.maketrans(\"\", \"\", string.punctuation)\n",
        "\n",
        "def clean_text(text):\n",
        "\n",
        "    text = text.lower() # lowercase text\n",
        "    text = REPLACE.sub(' ', text)\n",
        "    text = BAD_SYMBOLS_RE.sub('', text) # remove symbols which are in BAD_SYMBOLS_RE from text. substitute the matched string in BAD_SYMBOLS_RE with nothing. \n",
        "    text = text.replace('x', '')\n",
        "    text = ' '.join(word for word in text.split() if word not in STOPWORDS) # remove stopwords from text\n",
        "    text = text.translate(translator)\n",
        "    return text"
      ],
      "metadata": {
        "colab": {
          "base_uri": "https://localhost:8080/"
        },
        "id": "akwfQPgpQ-LU",
        "outputId": "5aedd787-8037-4cff-feec-f7fe598a3b2c"
      },
      "execution_count": 20,
      "outputs": [
        {
          "output_type": "stream",
          "name": "stdout",
          "text": [
            "[nltk_data] Downloading package stopwords to /root/nltk_data...\n",
            "[nltk_data]   Package stopwords is already up-to-date!\n"
          ]
        }
      ]
    },
    {
      "cell_type": "code",
      "source": [
        "df[\"Chorus\"] = df.Chorus.map(clean_text)\n",
        "df.head()"
      ],
      "metadata": {
        "colab": {
          "base_uri": "https://localhost:8080/",
          "height": 206
        },
        "id": "kY12lv6xR2-9",
        "outputId": "9755899d-9864-4584-d1f3-dcffad15c75a"
      },
      "execution_count": 21,
      "outputs": [
        {
          "output_type": "execute_result",
          "data": {
            "text/html": [
              "\n",
              "  <div id=\"df-3b38e2bf-893e-4279-935d-d63662eb475c\">\n",
              "    <div class=\"colab-df-container\">\n",
              "      <div>\n",
              "<style scoped>\n",
              "    .dataframe tbody tr th:only-of-type {\n",
              "        vertical-align: middle;\n",
              "    }\n",
              "\n",
              "    .dataframe tbody tr th {\n",
              "        vertical-align: top;\n",
              "    }\n",
              "\n",
              "    .dataframe thead th {\n",
              "        text-align: right;\n",
              "    }\n",
              "</style>\n",
              "<table border=\"1\" class=\"dataframe\">\n",
              "  <thead>\n",
              "    <tr style=\"text-align: right;\">\n",
              "      <th></th>\n",
              "      <th>Song_ID</th>\n",
              "      <th>Song_Title</th>\n",
              "      <th>Chorus</th>\n",
              "      <th>Emotion</th>\n",
              "    </tr>\n",
              "  </thead>\n",
              "  <tbody>\n",
              "    <tr>\n",
              "      <th>0</th>\n",
              "      <td>1</td>\n",
              "      <td>Diana</td>\n",
              "      <td>diana let one light fire inside eyes lonely ev...</td>\n",
              "      <td>Inspiration</td>\n",
              "    </tr>\n",
              "    <tr>\n",
              "      <th>1</th>\n",
              "      <td>2</td>\n",
              "      <td>Don't forget where you belong</td>\n",
              "      <td>forget belong home forget belong home ever fee...</td>\n",
              "      <td>Inspiration</td>\n",
              "    </tr>\n",
              "    <tr>\n",
              "      <th>2</th>\n",
              "      <td>3</td>\n",
              "      <td>Strong</td>\n",
              "      <td>sorry say need care scared love cause weaker w...</td>\n",
              "      <td>Inspiration</td>\n",
              "    </tr>\n",
              "    <tr>\n",
              "      <th>3</th>\n",
              "      <td>4</td>\n",
              "      <td>Happily</td>\n",
              "      <td>care people say together know wanna one hold s...</td>\n",
              "      <td>Love</td>\n",
              "    </tr>\n",
              "    <tr>\n",
              "      <th>4</th>\n",
              "      <td>5</td>\n",
              "      <td>Better than words</td>\n",
              "      <td>better words feeling crazy love dancing ceilin...</td>\n",
              "      <td>Love</td>\n",
              "    </tr>\n",
              "  </tbody>\n",
              "</table>\n",
              "</div>\n",
              "      <button class=\"colab-df-convert\" onclick=\"convertToInteractive('df-3b38e2bf-893e-4279-935d-d63662eb475c')\"\n",
              "              title=\"Convert this dataframe to an interactive table.\"\n",
              "              style=\"display:none;\">\n",
              "        \n",
              "  <svg xmlns=\"http://www.w3.org/2000/svg\" height=\"24px\"viewBox=\"0 0 24 24\"\n",
              "       width=\"24px\">\n",
              "    <path d=\"M0 0h24v24H0V0z\" fill=\"none\"/>\n",
              "    <path d=\"M18.56 5.44l.94 2.06.94-2.06 2.06-.94-2.06-.94-.94-2.06-.94 2.06-2.06.94zm-11 1L8.5 8.5l.94-2.06 2.06-.94-2.06-.94L8.5 2.5l-.94 2.06-2.06.94zm10 10l.94 2.06.94-2.06 2.06-.94-2.06-.94-.94-2.06-.94 2.06-2.06.94z\"/><path d=\"M17.41 7.96l-1.37-1.37c-.4-.4-.92-.59-1.43-.59-.52 0-1.04.2-1.43.59L10.3 9.45l-7.72 7.72c-.78.78-.78 2.05 0 2.83L4 21.41c.39.39.9.59 1.41.59.51 0 1.02-.2 1.41-.59l7.78-7.78 2.81-2.81c.8-.78.8-2.07 0-2.86zM5.41 20L4 18.59l7.72-7.72 1.47 1.35L5.41 20z\"/>\n",
              "  </svg>\n",
              "      </button>\n",
              "      \n",
              "  <style>\n",
              "    .colab-df-container {\n",
              "      display:flex;\n",
              "      flex-wrap:wrap;\n",
              "      gap: 12px;\n",
              "    }\n",
              "\n",
              "    .colab-df-convert {\n",
              "      background-color: #E8F0FE;\n",
              "      border: none;\n",
              "      border-radius: 50%;\n",
              "      cursor: pointer;\n",
              "      display: none;\n",
              "      fill: #1967D2;\n",
              "      height: 32px;\n",
              "      padding: 0 0 0 0;\n",
              "      width: 32px;\n",
              "    }\n",
              "\n",
              "    .colab-df-convert:hover {\n",
              "      background-color: #E2EBFA;\n",
              "      box-shadow: 0px 1px 2px rgba(60, 64, 67, 0.3), 0px 1px 3px 1px rgba(60, 64, 67, 0.15);\n",
              "      fill: #174EA6;\n",
              "    }\n",
              "\n",
              "    [theme=dark] .colab-df-convert {\n",
              "      background-color: #3B4455;\n",
              "      fill: #D2E3FC;\n",
              "    }\n",
              "\n",
              "    [theme=dark] .colab-df-convert:hover {\n",
              "      background-color: #434B5C;\n",
              "      box-shadow: 0px 1px 3px 1px rgba(0, 0, 0, 0.15);\n",
              "      filter: drop-shadow(0px 1px 2px rgba(0, 0, 0, 0.3));\n",
              "      fill: #FFFFFF;\n",
              "    }\n",
              "  </style>\n",
              "\n",
              "      <script>\n",
              "        const buttonEl =\n",
              "          document.querySelector('#df-3b38e2bf-893e-4279-935d-d63662eb475c button.colab-df-convert');\n",
              "        buttonEl.style.display =\n",
              "          google.colab.kernel.accessAllowed ? 'block' : 'none';\n",
              "\n",
              "        async function convertToInteractive(key) {\n",
              "          const element = document.querySelector('#df-3b38e2bf-893e-4279-935d-d63662eb475c');\n",
              "          const dataTable =\n",
              "            await google.colab.kernel.invokeFunction('convertToInteractive',\n",
              "                                                     [key], {});\n",
              "          if (!dataTable) return;\n",
              "\n",
              "          const docLinkHtml = 'Like what you see? Visit the ' +\n",
              "            '<a target=\"_blank\" href=https://colab.research.google.com/notebooks/data_table.ipynb>data table notebook</a>'\n",
              "            + ' to learn more about interactive tables.';\n",
              "          element.innerHTML = '';\n",
              "          dataTable['output_type'] = 'display_data';\n",
              "          await google.colab.output.renderOutput(dataTable, element);\n",
              "          const docLink = document.createElement('div');\n",
              "          docLink.innerHTML = docLinkHtml;\n",
              "          element.appendChild(docLink);\n",
              "        }\n",
              "      </script>\n",
              "    </div>\n",
              "  </div>\n",
              "  "
            ],
            "text/plain": [
              "   Song_ID  ...      Emotion\n",
              "0        1  ...  Inspiration\n",
              "1        2  ...  Inspiration\n",
              "2        3  ...  Inspiration\n",
              "3        4  ...         Love\n",
              "4        5  ...         Love\n",
              "\n",
              "[5 rows x 4 columns]"
            ]
          },
          "metadata": {},
          "execution_count": 21
        }
      ]
    },
    {
      "cell_type": "code",
      "source": [
        "possible_labels = df.Emotion.unique()\n",
        "\n",
        "label_dict = {}\n",
        "for index, possible_label in enumerate(possible_labels):\n",
        "    label_dict[possible_label] = index\n",
        "label_dict"
      ],
      "metadata": {
        "colab": {
          "base_uri": "https://localhost:8080/"
        },
        "id": "yOqpAFhKWQ1h",
        "outputId": "06d2548d-532c-48a1-f5ef-721b4e87fd87"
      },
      "execution_count": 53,
      "outputs": [
        {
          "output_type": "execute_result",
          "data": {
            "text/plain": [
              "{'Angry': 4, 'Calm': 3, 'Happy': 5, 'Inspiration': 0, 'Love': 1, 'Sad': 2}"
            ]
          },
          "metadata": {},
          "execution_count": 53
        }
      ]
    },
    {
      "cell_type": "code",
      "source": [
        "df['Emotion'] = df.Emotion.replace(label_dict)\n",
        "df.head()"
      ],
      "metadata": {
        "colab": {
          "base_uri": "https://localhost:8080/",
          "height": 206
        },
        "id": "mF9wyLsLWW-g",
        "outputId": "b1c2a965-a596-4395-c6d7-c8598fde1687"
      },
      "execution_count": 54,
      "outputs": [
        {
          "output_type": "execute_result",
          "data": {
            "text/html": [
              "\n",
              "  <div id=\"df-5d35f6ab-c358-4a66-bb8c-ef50ca1bfaa1\">\n",
              "    <div class=\"colab-df-container\">\n",
              "      <div>\n",
              "<style scoped>\n",
              "    .dataframe tbody tr th:only-of-type {\n",
              "        vertical-align: middle;\n",
              "    }\n",
              "\n",
              "    .dataframe tbody tr th {\n",
              "        vertical-align: top;\n",
              "    }\n",
              "\n",
              "    .dataframe thead th {\n",
              "        text-align: right;\n",
              "    }\n",
              "</style>\n",
              "<table border=\"1\" class=\"dataframe\">\n",
              "  <thead>\n",
              "    <tr style=\"text-align: right;\">\n",
              "      <th></th>\n",
              "      <th>Song_ID</th>\n",
              "      <th>Song_Title</th>\n",
              "      <th>Chorus</th>\n",
              "      <th>Emotion</th>\n",
              "    </tr>\n",
              "  </thead>\n",
              "  <tbody>\n",
              "    <tr>\n",
              "      <th>0</th>\n",
              "      <td>1</td>\n",
              "      <td>Diana</td>\n",
              "      <td>diana let one light fire inside eyes lonely ev...</td>\n",
              "      <td>0</td>\n",
              "    </tr>\n",
              "    <tr>\n",
              "      <th>1</th>\n",
              "      <td>2</td>\n",
              "      <td>Don't forget where you belong</td>\n",
              "      <td>forget belong home forget belong home ever fee...</td>\n",
              "      <td>0</td>\n",
              "    </tr>\n",
              "    <tr>\n",
              "      <th>2</th>\n",
              "      <td>3</td>\n",
              "      <td>Strong</td>\n",
              "      <td>sorry say need care scared love cause weaker w...</td>\n",
              "      <td>0</td>\n",
              "    </tr>\n",
              "    <tr>\n",
              "      <th>3</th>\n",
              "      <td>4</td>\n",
              "      <td>Happily</td>\n",
              "      <td>care people say together know wanna one hold s...</td>\n",
              "      <td>1</td>\n",
              "    </tr>\n",
              "    <tr>\n",
              "      <th>4</th>\n",
              "      <td>5</td>\n",
              "      <td>Better than words</td>\n",
              "      <td>better words feeling crazy love dancing ceilin...</td>\n",
              "      <td>1</td>\n",
              "    </tr>\n",
              "  </tbody>\n",
              "</table>\n",
              "</div>\n",
              "      <button class=\"colab-df-convert\" onclick=\"convertToInteractive('df-5d35f6ab-c358-4a66-bb8c-ef50ca1bfaa1')\"\n",
              "              title=\"Convert this dataframe to an interactive table.\"\n",
              "              style=\"display:none;\">\n",
              "        \n",
              "  <svg xmlns=\"http://www.w3.org/2000/svg\" height=\"24px\"viewBox=\"0 0 24 24\"\n",
              "       width=\"24px\">\n",
              "    <path d=\"M0 0h24v24H0V0z\" fill=\"none\"/>\n",
              "    <path d=\"M18.56 5.44l.94 2.06.94-2.06 2.06-.94-2.06-.94-.94-2.06-.94 2.06-2.06.94zm-11 1L8.5 8.5l.94-2.06 2.06-.94-2.06-.94L8.5 2.5l-.94 2.06-2.06.94zm10 10l.94 2.06.94-2.06 2.06-.94-2.06-.94-.94-2.06-.94 2.06-2.06.94z\"/><path d=\"M17.41 7.96l-1.37-1.37c-.4-.4-.92-.59-1.43-.59-.52 0-1.04.2-1.43.59L10.3 9.45l-7.72 7.72c-.78.78-.78 2.05 0 2.83L4 21.41c.39.39.9.59 1.41.59.51 0 1.02-.2 1.41-.59l7.78-7.78 2.81-2.81c.8-.78.8-2.07 0-2.86zM5.41 20L4 18.59l7.72-7.72 1.47 1.35L5.41 20z\"/>\n",
              "  </svg>\n",
              "      </button>\n",
              "      \n",
              "  <style>\n",
              "    .colab-df-container {\n",
              "      display:flex;\n",
              "      flex-wrap:wrap;\n",
              "      gap: 12px;\n",
              "    }\n",
              "\n",
              "    .colab-df-convert {\n",
              "      background-color: #E8F0FE;\n",
              "      border: none;\n",
              "      border-radius: 50%;\n",
              "      cursor: pointer;\n",
              "      display: none;\n",
              "      fill: #1967D2;\n",
              "      height: 32px;\n",
              "      padding: 0 0 0 0;\n",
              "      width: 32px;\n",
              "    }\n",
              "\n",
              "    .colab-df-convert:hover {\n",
              "      background-color: #E2EBFA;\n",
              "      box-shadow: 0px 1px 2px rgba(60, 64, 67, 0.3), 0px 1px 3px 1px rgba(60, 64, 67, 0.15);\n",
              "      fill: #174EA6;\n",
              "    }\n",
              "\n",
              "    [theme=dark] .colab-df-convert {\n",
              "      background-color: #3B4455;\n",
              "      fill: #D2E3FC;\n",
              "    }\n",
              "\n",
              "    [theme=dark] .colab-df-convert:hover {\n",
              "      background-color: #434B5C;\n",
              "      box-shadow: 0px 1px 3px 1px rgba(0, 0, 0, 0.15);\n",
              "      filter: drop-shadow(0px 1px 2px rgba(0, 0, 0, 0.3));\n",
              "      fill: #FFFFFF;\n",
              "    }\n",
              "  </style>\n",
              "\n",
              "      <script>\n",
              "        const buttonEl =\n",
              "          document.querySelector('#df-5d35f6ab-c358-4a66-bb8c-ef50ca1bfaa1 button.colab-df-convert');\n",
              "        buttonEl.style.display =\n",
              "          google.colab.kernel.accessAllowed ? 'block' : 'none';\n",
              "\n",
              "        async function convertToInteractive(key) {\n",
              "          const element = document.querySelector('#df-5d35f6ab-c358-4a66-bb8c-ef50ca1bfaa1');\n",
              "          const dataTable =\n",
              "            await google.colab.kernel.invokeFunction('convertToInteractive',\n",
              "                                                     [key], {});\n",
              "          if (!dataTable) return;\n",
              "\n",
              "          const docLinkHtml = 'Like what you see? Visit the ' +\n",
              "            '<a target=\"_blank\" href=https://colab.research.google.com/notebooks/data_table.ipynb>data table notebook</a>'\n",
              "            + ' to learn more about interactive tables.';\n",
              "          element.innerHTML = '';\n",
              "          dataTable['output_type'] = 'display_data';\n",
              "          await google.colab.output.renderOutput(dataTable, element);\n",
              "          const docLink = document.createElement('div');\n",
              "          docLink.innerHTML = docLinkHtml;\n",
              "          element.appendChild(docLink);\n",
              "        }\n",
              "      </script>\n",
              "    </div>\n",
              "  </div>\n",
              "  "
            ],
            "text/plain": [
              "   Song_ID  ... Emotion\n",
              "0        1  ...       0\n",
              "1        2  ...       0\n",
              "2        3  ...       0\n",
              "3        4  ...       1\n",
              "4        5  ...       1\n",
              "\n",
              "[5 rows x 4 columns]"
            ]
          },
          "metadata": {},
          "execution_count": 54
        }
      ]
    },
    {
      "cell_type": "code",
      "source": [
        "from collections import Counter\n",
        "\n",
        "# Count unique words\n",
        "def counter_word(text_col):\n",
        "    count = Counter()\n",
        "    for text in text_col.values:\n",
        "        for word in text.split():\n",
        "            count[word] += 1\n",
        "    return count\n",
        "\n",
        "\n",
        "counter = counter_word(df.Chorus)\n",
        "print(counter)\n",
        "print(\"Length\", len(counter))"
      ],
      "metadata": {
        "colab": {
          "base_uri": "https://localhost:8080/"
        },
        "id": "uOAoer9JSRpr",
        "outputId": "d004c5ab-8e49-4b7b-c660-2bcb3bdbdc5a"
      },
      "execution_count": 55,
      "outputs": [
        {
          "output_type": "stream",
          "name": "stdout",
          "text": [
            "Counter({'love': 437, 'know': 322, 'like': 276, 'let': 204, 'go': 194, 'never': 184, 'oh': 183, 'get': 179, 'baby': 176, 'time': 169, 'one': 165, 'say': 160, 'need': 157, 'wanna': 157, 'got': 156, 'cause': 155, 'see': 153, 'want': 146, 'heart': 144, 'yeah': 142, 'feel': 141, 'gonna': 138, 'life': 134, 'way': 133, 'take': 128, 'come': 124, 'away': 116, 'make': 115, 'every': 115, 'give': 106, 'night': 103, 'right': 102, 'could': 102, 'still': 96, 'back': 89, 'keep': 86, 'tell': 84, 'think': 83, 'alone': 82, 'good': 81, 'world': 80, 'everything': 80, 'little': 79, 'day': 77, 'hold': 69, 'said': 69, 'find': 66, 'leave': 64, 'better': 64, 'try': 64, 'dance': 64, 'ever': 63, 'mind': 63, 'eyes': 60, 'die': 60, 'would': 60, 'sing': 59, 'live': 59, 'even': 58, 'look': 58, 'always': 58, 'things': 57, 'light': 56, 'feeling': 56, 'call': 56, 'home': 55, 'well': 55, 'lonely': 53, 'girl': 53, 'head': 53, 'put': 52, 'tonight': 52, 'us': 52, 'nothing': 51, 'lost': 50, 'gone': 50, 'made': 49, 'pain': 49, 'song': 48, 'place': 47, 'inside': 46, 'fall': 46, 'people': 45, 'wish': 45, 'long': 45, 'something': 43, 'without': 43, 'name': 43, 'stay': 42, 'bad': 42, 'hear': 42, 'around': 42, 'alright': 41, 'run': 41, 'ooh': 41, 'stand': 41, 'forever': 40, 'nobody': 40, 'thing': 40, 'really': 40, 'gotta': 40, 'hope': 39, 'friends': 39, 'rain': 39, 'end': 39, 'stop': 38, 'somebody': 38, 'hard': 38, 'sorry': 37, 'fight': 37, 'best': 37, 'much': 37, 'turn': 37, 'hate': 37, 'hell': 37, 'last': 36, 'hey': 36, 'happy': 36, 'remember': 35, 'man': 35, 'broken': 35, 'heaven': 34, 'free': 34, 'break': 34, 'fire': 33, 'save': 33, 'soul': 33, 'sweet': 33, 'living': 33, 'wrong': 32, 'god': 32, 'enough': 32, 'found': 32, 'strong': 31, 'together': 31, 'words': 31, 'crazy': 31, 'hand': 31, 'body': 31, 'dark': 30, 'someone': 30, 'show': 30, 'told': 30, 'side': 30, 'alive': 30, 'dead': 30, 'dancing': 29, 'please': 29, 'left': 29, 'new': 29, 'beautiful': 29, 'face': 29, 'maybe': 29, 'done': 29, 'sun': 29, 'kiss': 29, 'going': 29, 'two': 29, 'far': 29, 'goodbye': 29, 'sometimes': 28, 'knew': 28, 'feels': 28, 'moment': 28, 'dream': 28, 'blood': 28, 'old': 28, 'believe': 28, 'smile': 28, 'coming': 27, 'falling': 27, 'play': 27, 'miss': 27, 'mine': 26, 'touch': 26, 'hurt': 26, 'walk': 26, 'high': 26, 'came': 26, 'lay': 26, 'close': 26, 'late': 26, 'comes': 26, 'til': 26, 'dreams': 25, 'looking': 25, 'real': 25, 'used': 25, 'death': 25, 'everybody': 25, 'cry': 25, 'music': 25, 'hide': 25, 'cold': 25, 'friend': 25, 'may': 24, 'stars': 24, 'sky': 24, 'trying': 24, 'fuck': 24, 'care': 23, 'anymore': 23, 'waiting': 23, 'else': 23, 'lord': 23, 'first': 23, 'though': 23, 'apart': 22, 'okay': 22, 'true': 22, 'thinking': 22, 'open': 22, 'morning': 22, 'blue': 22, 'promise': 21, 'afraid': 21, 'guess': 21, 'seen': 21, 'lose': 21, 'thought': 21, 'wanted': 21, 'hands': 21, 'fear': 21, 'worry': 21, 'em': 21, 'might': 21, 'angel': 21, 'sleep': 20, 'deep': 20, 'carry': 20, 'help': 20, 'talk': 20, 'chance': 20, 'ready': 20, 'days': 20, 'sad': 20, 'beat': 20, 'loved': 20, 'burning': 20, 'truth': 20, 'behind': 20, 'another': 19, 'perfect': 19, 'losing': 19, 'wall': 19, 'took': 19, 'young': 19, 'tears': 19, 'tired': 19, 'work': 19, 'jesus': 19, 'crying': 18, 'burn': 18, 'start': 18, 'ride': 18, 'change': 18, 'bitch': 18, 'wait': 18, 'control': 18, 'along': 18, 'goes': 18, 'holding': 18, 'lie': 18, 'fly': 18, 'ground': 18, 'dying': 18, 'bring': 18, 'seems': 18, 'gave': 18, 'forget': 17, 'follow': 17, 'pull': 17, 'darling': 17, 'moon': 17, 'must': 17, 'running': 17, 'getting': 17, 'bed': 17, 'move': 17, 'peace': 17, 'watch': 17, 'mean': 17, 'went': 16, 'known': 16, 'part': 16, 'ah': 16, 'shit': 16, 'matter': 16, 'rock': 16, 'memories': 16, 'loving': 16, 'hot': 16, 'fucking': 16, 'laugh': 15, 'arms': 15, 'door': 15, 'lights': 15, 'today': 15, 'easy': 15, 'reason': 15, 'worth': 15, 'missing': 15, 'kill': 15, 'sure': 15, 'space': 15, 'word': 15, 'tomorrow': 15, 'hurts': 15, 'scared': 14, 'water': 14, 'singing': 14, 'boy': 14, 'kind': 14, 'tried': 14, 'tight': 14, 'understand': 14, 'party': 14, 'round': 14, 'town': 14, 'set': 14, 'shake': 14, 'makes': 14, 'years': 14, 'harder': 14, 'saw': 13, 'drink': 13, 'deserve': 13, 'times': 13, 'hit': 13, 'broke': 13, 'since': 13, 'turning': 13, 'breath': 13, 'hair': 13, 'takes': 13, 'family': 13, 'joy': 13, 'air': 13, 'past': 13, 'clouds': 13, 'mountains': 13, 'darkness': 13, 'calm': 13, 'knows': 12, 'slow': 12, 'trust': 12, 'lead': 12, 'stronger': 12, 'wonder': 12, 'anything': 12, 'white': 12, 'ha': 12, 'watching': 12, 'whole': 12, 'swear': 12, 'wants': 12, 'many': 12, 'great': 12, 'fell': 12, 'till': 12, 'u': 12, 'breathe': 12, 'use': 12, 'fool': 12, 'meet': 12, 'sea': 12, 'bout': 12, 'rise': 12, 'stranger': 12, 'scream': 11, 'road': 11, 'someday': 11, 'yes': 11, 'met': 11, 'storm': 11, 'bit': 11, 'gon': 11, 'screaming': 11, 'cool': 11, 'red': 11, 'stuck': 11, 'felt': 11, 'reach': 11, 'mama': 11, 'uptown': 11, 'fine': 11, 'honey': 11, 'raise': 11, 'slowly': 11, 'low': 11, 'sit': 11, 'king': 11, 'evening': 11, 'rest': 11, 'wit': 11, 'belong': 10, 'moving': 10, 'room': 10, 'wind': 10, 'fake': 10, 'uh': 10, 'seem': 10, 'playing': 10, 'breathing': 10, 'three': 10, 'thousand': 10, 'gets': 10, 'hoping': 10, 'lips': 10, 'finally': 10, 'black': 10, 'empty': 10, 'wake': 10, 'throw': 10, 'proud': 10, 'earth': 10, 'giving': 10, 'write': 10, 'lookin': 10, 'born': 10, 'already': 10, 'making': 10, 'step': 10, 'revenge': 10, 'ghost': 10, 'blow': 10, 'big': 10, 'summer': 10, 'standing': 10, 'guy': 10, 'strange': 10, 'blues': 10, 'ass': 10, 'praise': 10, 'laughing': 9, 'fighting': 9, 'everyone': 9, 'eye': 9, 'different': 9, 'skin': 9, 'lies': 9, 'mountain': 9, 'queen': 9, 'tear': 9, 'nails': 9, 'single': 9, 'five': 9, 'waking': 9, 'radio': 9, 'whenever': 9, 'hello': 9, 'roll': 9, 'damn': 9, 'sound': 9, 'stone': 9, 'enjoy': 9, 'learned': 9, 'thank': 9, 'angry': 9, 'anywhere': 9, 'dreaming': 9, 'warm': 9, 'heal': 9, 'mistakes': 9, 'held': 9, 'human': 9, 'regret': 9, 'demons': 9, 'ends': 9, 'driving': 9, 'taking': 9, 'gun': 9, 'bah': 9, 'treat': 9, 'goin': 9, 'lately': 9, 'luck': 9, 'loves': 9, 'boys': 9, 'fade': 9, 'ways': 9, 'fill': 9, 'thoughts': 9, 'forgive': 8, 'walking': 8, 'bar': 8, 'push': 8, 'anyone': 8, 'drop': 8, 'supposed': 8, 'shine': 8, 'huh': 8, 'less': 8, 'year': 8, 'voice': 8, 'speak': 8, 'top': 8, 'bottom': 8, 'babe': 8, 'fingers': 8, 'line': 8, 'river': 8, 'piece': 8, 'lives': 8, 'war': 8, 'meant': 8, 'upon': 8, 'choose': 8, 'lifted': 8, 'nice': 8, 'funk': 8, 'weak': 8, 'nights': 8, 'callin': 8, 'catch': 8, 'swim': 8, 'turned': 8, 'starts': 8, 'train': 8, 'almost': 8, 'breaking': 8, 'net': 8, 'anybody': 8, 'heat': 8, 'nightmare': 8, 'evil': 8, 'bye': 8, 'mercy': 8, 'bury': 8, 'window': 8, 'worship': 8, 'rela': 8, 'sight': 8, 'says': 8, 'welcome': 8, 'stuff': 8, 'lift': 7, 'closer': 7, 'floor': 7, 'wide': 7, 'lover': 7, 'fast': 7, 'woman': 7, 'mad': 7, 'frozen': 7, 'started': 7, 'kingdom': 7, 'looks': 7, 'game': 7, 'cares': 7, 'breathin': 7, 'saying': 7, 'bright': 7, 'ice': 7, 'talking': 7, 'hundred': 7, 'half': 7, 'memory': 7, 'hallelujah': 7, 'deeper': 7, 'wanting': 7, 'story': 7, 'survive': 7, 'heavy': 7, 'escape': 7, 'bones': 7, 'surrender': 7, 'played': 7, 'blame': 7, 'celebrate': 7, 'angels': 7, 'cross': 7, 'money': 7, 'shoot': 7, 'believer': 7, 'nothin': 7, 'wondering': 7, 'died': 7, 'calling': 7, 'saved': 7, 'nigga': 7, 'caught': 7, 'front': 7, 'whatever': 7, 'price': 7, 'star': 7, 'beating': 7, 'whoa': 7, 'soon': 7, 'sadness': 7, 'happen': 7, 'nowhere': 7, 'hour': 7, 'second': 7, 'endless': 7, 'men': 7, 'grave': 7, 'beg': 7, 'tryna': 7, 'full': 7, 'waves': 7, 'tells': 7, 'weird': 7, 'grace': 7, 'telling': 7, 'glory': 7, 'worthy': 7, 'mr': 7, 'ones': 6, 'share': 6, 'dress': 6, 'insane': 6, 'brought': 6, 'cut': 6, 'games': 6, 'edge': 6, 'admit': 6, 'keeps': 6, 'shadows': 6, 'kept': 6, 'clear': 6, 'weight': 6, 'city': 6, 'mess': 6, 'four': 6, 'n': 6, 'yesterday': 6, 'drunk': 6, 'problems': 6, 'heard': 6, 'outside': 6, 'longer': 6, 'person': 6, 'somewhere': 6, 'everywhere': 6, 'glass': 6, 'flames': 6, 'million': 6, 'worst': 6, 'pick': 6, 'least': 6, 'near': 6, 'bear': 6, 'fun': 6, 'fail': 6, 'check': 6, 'across': 6, 'awe': 6, 'anyway': 6, 'moonlight': 6, 'knowing': 6, 'faith': 6, 'fuckin': 6, 'dad': 6, 'shame': 6, 'hearts': 6, 'shot': 6, 'means': 6, 'attention': 6, 'feelings': 6, 'rockabye': 6, 'hopeless': 6, 'wreck': 6, 'needed': 6, 'house': 6, 'birds': 6, 'power': 6, 'doubt': 6, 'chest': 6, 'trees': 6, 'skies': 6, 'become': 6, 'father': 6, 'higher': 6, 'dawn': 6, 'wings': 6, 'walked': 6, 'sunrise': 6, 'safe': 6, 'mediation': 6, 'faces': 6, 'everyday': 6, 'highway': 6, 'minute': 6, 'bitter': 6, 'certain': 6, 'arm': 6, 'child': 6, 'gold': 6, 'frankie': 6, 'gettin': 6, 'funny': 6, 'undead': 6, 'realize': 5, 'daddy': 5, 'happier': 5, 'drown': 5, 'conversation': 5, 'shape': 5, 'secrets': 5, 'favorite': 5, 'drive': 5, 'notice': 5, 'trapped': 5, 'pray': 5, 'ran': 5, 'freak': 5, 'within': 5, 'quit': 5, 'tryin': 5, 'kinda': 5, 'motive': 5, 'heartache': 5, 'sink': 5, 'legs': 5, 'si': 5, 'sitting': 5, 'car': 5, 'taste': 5, 'winter': 5, 'greatest': 5, 'prayer': 5, 'ask': 5, 'beats': 5, 'songs': 5, 'barely': 5, 'figure': 5, 'given': 5, 'sick': 5, 'closed': 5, 'faded': 5, 'repeat': 5, 'lying': 5, 'funky': 5, 'lifetime': 5, 'ring': 5, 'key': 5, 'grown': 5, 'business': 5, 'answer': 5, 'feet': 5, 'happiness': 5, 'colors': 5, 'battle': 5, 'rage': 5, 'ya': 5, 'ago': 5, 'faster': 5, 'girls': 5, 'somehow': 5, 'niggas': 5, 'respect': 5, 'starting': 5, 'woo': 5, 'path': 5, 'flying': 5, 'c': 5, 'bleeding': 5, 'spirit': 5, 'rising': 5, 'shining': 5, 'spent': 5, 'eplain': 5, 'wasted': 5, 'shady': 5, 'loud': 5, 'history': 5, 'knees': 5, 'country': 5, 'roads': 5, 'green': 5, 'loneliness': 5, 'hanging': 5, 'crash': 5, 'silence': 5, 'devil': 5, 'stops': 5, 'freedom': 5, 'coffin': 5, 'seas': 5, 'awake': 5, 'staring': 5, 'pass': 5, 'count': 5, 'spit': 5, 'lines': 5, 'shed': 5, 'peaceful': 5, 'tide': 5, 'sorrow': 5, 'middle': 5, 'wave': 5, 'bottle': 5, 'blind': 5, 'reasons': 5, 'lake': 5, 'missed': 5, 'bitches': 5, 'showed': 5, 'rather': 5, 'paper': 5, 'worse': 5, 'age': 5, 'dirt': 5, 'holy': 5, 'wrist': 5, 'halloween': 5, 'vain': 4, 'shout': 4, 'twice': 4, 'numb': 4, 'farewell': 4, 'table': 4, 'drinking': 4, 'brand': 4, 'children': 4, 'future': 4, 'self': 4, 'fucked': 4, 'lets': 4, 'ocean': 4, 'focus': 4, 'eactly': 4, 'hiding': 4, 'snow': 4, 'letting': 4, 'choice': 4, 'clothes': 4, 'hitting': 4, 'regrets': 4, 'killing': 4, 'underneath': 4, 'seeing': 4, 'crawl': 4, 'compares': 4, 'bother': 4, 'comfort': 4, 'eat': 4, 'fit': 4, 'crowd': 4, 'spell': 4, 'f': 4, 'honest': 4, 'places': 4, 'called': 4, 'wine': 4, 'deal': 4, 'chase': 4, 'torn': 4, 'pleasent': 4, 'gift': 4, 'send': 4, 'bend': 4, 'pride': 4, 'happened': 4, 'wrote': 4, 'built': 4, 'waste': 4, 'fi': 4, 'flame': 4, 'magic': 4, 'view': 4, 'son': 4, 'fields': 4, 'number': 4, 'papi': 4, 'melt': 4, 'point': 4, 'job': 4, 'stream': 4, 'clap': 4, 'scene': 4, 'burst': 4, 'note': 4, 'double': 4, 'phase': 4, 'remains': 4, 'probably': 4, 'liar': 4, 'popular': 4, 'listen': 4, 'track': 4, 'stayed': 4, 'ending': 4, 'cruel': 4, 'oceans': 4, 'thrown': 4, 'sleeping': 4, 'intentions': 4, 'circles': 4, 'pulled': 4, 'burns': 4, 'stride': 4, 'cheat': 4, 'leaves': 4, 'dies': 4, 'fame': 4, 'aim': 4, 'buried': 4, 'cannot': 4, 'finna': 4, 'throne': 4, 'shut': 4, 'streets': 4, 'guns': 4, 'begging': 4, 'company': 4, 'diamonds': 4, 'bridge': 4, 'wasting': 4, 'instead': 4, 'hole': 4, 'yet': 4, 'lot': 4, 'anytime': 4, 'climb': 4, 'leaving': 4, 'meaning': 4, 'forgiveness': 4, 'shelter': 4, 'learn': 4, 'rough': 4, 'tough': 4, 'either': 4, 'hurting': 4, 'counting': 4, 'west': 4, 'virginia': 4, 'romeo': 4, 'juliet': 4, 'symphony': 4, 'class': 4, 'guilty': 4, 'calls': 4, 'short': 4, 'flesh': 4, 'sin': 4, 'loss': 4, 'filling': 4, 'agony': 4, 'minds': 4, 'spread': 4, 'hurricane': 4, 'brain': 4, 'bleed': 4, 'sounds': 4, 'holds': 4, 'pieces': 4, 'sinking': 4, 'silent': 4, 'quiet': 4, 'voices': 4, 'early': 4, 'women': 4, 'flow': 4, 'stack': 4, 'brother': 4, 'softly': 4, 'wounds': 4, 'blessed': 4, 'wonderful': 4, 'sunny': 4, 'bodies': 4, 'laughter': 4, 'yelling': 4, 'weather': 4, 'cinema': 4, 'heroes': 4, 'deny': 4, 'hill': 4, 'dry': 4, 'beginning': 4, 'unless': 4, 'legends': 4, 'wear': 4, 'pretty': 4, 'nah': 4, 'dear': 4, 'wearing': 4, 'nervous': 4, 'ease': 4, 'tall': 4, 'strength': 4, 'passes': 4, 'lady': 4, 'oooh': 4, 'aces': 4, 'thinkin': 4, 'phone': 4, 'stress': 4, 'sucker': 4, 'beach': 4, 'shows': 4, 'join': 4, 'quick': 4, 'behold': 4, 'changes': 4, 'beneath': 4, 'caring': 4, 'spirits': 4, 'rolling': 4, 'habits': 4, 'bluebird': 4, 'alison': 4, 'draconian': 4, 'burned': 4, 'imagine': 4, 'yuh': 4, 'mon': 4, 'weaker': 3, 'ceiling': 3, 'sober': 3, 'drinks': 3, 'lovers': 3, 'date': 3, 'waist': 3, 'although': 3, 'smell': 3, 'listening': 3, 'venus': 3, 'mars': 3, 'tearing': 3, 'secret': 3, 'energy': 3, 'spinning': 3, 'heartbeat': 3, 'blinds': 3, 'slip': 3, 'holdin': 3, 'cried': 3, 'looked': 3, 'color': 3, 'stares': 3, 'fancy': 3, 'cream': 3, 'makeup': 3, 'obvious': 3, 'r': 3, 'e': 3, 'ayy': 3, 'sunshine': 3, 'parted': 3, 'hearted': 3, 'changed': 3, 'record': 3, 'trigger': 3, 'issues': 3, 'twist': 3, 'wash': 3, 'lovely': 3, 'steal': 3, 'runaway': 3, 'street': 3, 'doors': 3, 'crime': 3, 'kid': 3, 'fault': 3, 'hardly': 3, 'suddenly': 3, 'bringing': 3, 'sirens': 3, 'trade': 3, 'runs': 3, 'enemy': 3, 'guide': 3, 'knock': 3, 'mark': 3, 'bird': 3, 'race': 3, 'problem': 3, 'breeze': 3, 'watched': 3, 'holiday': 3, 'troubles': 3, 'moves': 3, 'toss': 3, 'spend': 3, 'jump': 3, 'trouble': 3, 'tries': 3, 'question': 3, 'bullshit': 3, 'searching': 3, 'monster': 3, 'gives': 3, 'sey': 3, 'levitating': 3, 'starlight': 3, 'hearing': 3, 'doin': 3, 'build': 3, 'bullets': 3, 'younger': 3, 'miles': 3, 'remedy': 3, 'doubts': 3, 'unknown': 3, 'setting': 3, 'turns': 3, 'guys': 3, 'grind': 3, 'mom': 3, 'team': 3, 'toast': 3, 'blah': 3, 'trick': 3, 'reign': 3, 'plan': 3, 'load': 3, 'brrat': 3, 'sins': 3, 'killed': 3, 'depressed': 3, 'feelin': 3, 'chill': 3, 'pack': 3, 'ayo': 3, 'apologies': 3, 'test': 3, 'rose': 3, 'picking': 3, 'sake': 3, 'smoke': 3, 'weeks': 3, 'selfish': 3, 'corner': 3, 'dealing': 3, 'stealing': 3, 'karma': 3, 'honestly': 3, 'acting': 3, 'ashes': 3, 'haunted': 3, 'prove': 3, 'courage': 3, 'settle': 3, 'shadow': 3, 'clock': 3, 'walls': 3, 'praying': 3, 'older': 3, 'marry': 3, 'talked': 3, 'kissed': 3, 'land': 3, 'rides': 3, 'named': 3, 'reaching': 3, 'win': 3, 'shoes': 3, 'fading': 3, 'brothers': 3, 'madness': 3, 'others': 3, 'deputy': 3, 'loose': 3, 'deathly': 3, 'emptiness': 3, 'crooked': 3, 'rhyme': 3, 'begin': 3, 'sacred': 3, 'straight': 3, 'easily': 3, 'lesson': 3, 'talkin': 3, 'mouth': 3, 'achieve': 3, 'pressure': 3, 'pity': 3, 'surely': 3, 'force': 3, 'flowers': 3, 'hours': 3, 'shy': 3, 'floating': 3, 'shall': 3, 'beyond': 3, 'promises': 3, 'emotions': 3, 'whispers': 3, 'sunset': 3, 'waited': 3, 'twisted': 3, 'grow': 3, 'dirty': 3, 'cup': 3, 'mmm': 3, 'dime': 3, 'worrying': 3, 'helping': 3, 'guitar': 3, 'tied': 3, 'gently': 3, 'decided': 3, 'falls': 3, 'weary': 3, 'shoulders': 3, 'climbing': 3, 'eternity': 3, 'pay': 3, 'chances': 3, 'mistake': 3, 'release': 3, 'filled': 3, 'roses': 3, 'bloom': 3, 'embrace': 3, 'foolish': 3, 'grant': 3, 'small': 3, 'working': 3, 'sheets': 3, 'slim': 3, 'epression': 3, 'beard': 3, 'fair': 3, 'forward': 3, 'chasing': 3, 'heartbreak': 3, 'blows': 3, 'darkest': 3, 'misery': 3, 'bow': 3, 'type': 3, 'diamond': 3, 'restless': 3, 'psycho': 3, 'cries': 3, 'troubled': 3, 'anthem': 3, 'couch': 3, 'toe': 3, 'monkey': 3, 'grey': 3, 'goodbyes': 3, 'b': 3, 'dwell': 3, 'shirt': 3, 'nine': 3, 'horizon': 3, 'beauty': 3, 'sorrows': 3, 'passion': 3, 'aching': 3, 'needless': 3, 'lit': 3, 'asking': 3, 'veins': 3, 'guiltless': 3, 'quits': 3, 'l': 3, 'american': 3, 'ahh': 3, 'tie': 3, 'sings': 3, 'goodness': 3, 'confidence': 3, 'daybreak': 3, 'quite': 3, 'noose': 3, 'consciousness': 3, 'sisters': 3, 'fears': 3, 'victory': 3, 'september': 3, 'moments': 3, 'mamma': 3, 'mia': 3, 'news': 3, 'hah': 3, 'flight': 3, 'dreamer': 3, 'skrrt': 3, 'reaper': 3, 'twenty': 3, 'unrealized': 3, 'alice': 3, 'average': 3, 'click': 3, 'purpose': 3, 'diana': 2, 'saving': 2, 'happily': 2, 'shook': 2, 'momma': 2, 'park': 2, 'smiles': 2, 'personal': 2, 'breaks': 2, 'pills': 2, 'shelf': 2, 'magnet': 2, 'bedsheets': 2, 'odds': 2, 'compare': 2, 'finger': 2, 'ashamed': 2, 'collide': 2, 'slam': 2, 'glows': 2, 'boss': 2, 'rated': 2, 'dangerous': 2, 'parts': 2, 'awhile': 2, 'wheel': 2, 'stare': 2, 'fashioned': 2, 'sellin': 2, 'soft': 2, 'bite': 2, 'bigger': 2, 'health': 2, 'ok': 2, 'seat': 2, 'however': 2, 'glitter': 2, 'meets': 2, 'medicine': 2, 'miracle': 2, 'flooding': 2, 'sons': 2, 'pretend': 2, 'rapture': 2, 'names': 2, 'onto': 2, 'dumb': 2, 'difficult': 2, 'dragging': 2, 'poison': 2, 'silver': 2, 'glow': 2, 'crack': 2, 'building': 2, 'fan': 2, 'blazes': 2, 'ignored': 2, 'flickers': 2, 'quicker': 2, 'laid': 2, 'ignite': 2, 'paradise': 2, 'cage': 2, 'champion': 2, 'roar': 2, 'louder': 2, 'lion': 2, 'shores': 2, 'sunlight': 2, 'defeated': 2, 'wherever': 2, 'nature': 2, 'wild': 2, 'samba': 2, 'ears': 2, 'sting': 2, 'consumed': 2, 'suffer': 2, 'needs': 2, 'stumble': 2, 'ups': 2, 'roof': 2, 'everytime': 2, 'kick': 2, 'july': 2, 'firework': 2, 'flip': 2, 'overwhelmed': 2, 'post': 2, 'doctor': 2, 'struggle': 2, 'capital': 2, 'rolled': 2, 'flaunt': 2, 'forgotten': 2, 'mother': 2, 'illuminates': 2, 'pulls': 2, 'tune': 2, 'streak': 2, 'naked': 2, 'lived': 2, 'crown': 2, 'seasons': 2, 'dare': 2, 'liked': 2, 'guard': 2, 'stomach': 2, 'stunt': 2, 'teach': 2, 'drum': 2, 'sister': 2, 'henny': 2, 'plug': 2, 'dick': 2, 'cake': 2, 'wantin': 2, 'plane': 2, 'peep': 2, 'pen': 2, 'mentally': 2, 'p': 2, 'rollin': 2, 'divine': 2, 'tasted': 2, 'art': 2, 'k': 2, 'wound': 2, 'stage': 2, 'list': 2, 'pathetic': 2, 'pleasure': 2, 'choke': 2, 'drag': 2, 'cards': 2, 'solve': 2, 'letter': 2, 'opportunity': 2, 'traitor': 2, 'underestimated': 2, 'toys': 2, 'playground': 2, 'sympathy': 2, 'leavin': 2, 'epect': 2, 'involved': 2, 'mmh': 2, 'melody': 2, 'twilight': 2, 'resist': 2, 'planning': 2, 'solo': 2, 'matters': 2, 'spoken': 2, 'waters': 2, 'drift': 2, 'bought': 2, 'messed': 2, 'believes': 2, 'woah': 2, 'amazing': 2, 'lack': 2, 'speaking': 2, 'neath': 2, 'brave': 2, 'hang': 2, 'banging': 2, 'hall': 2, 'ridge': 2, 'shenandoah': 2, 'growin': 2, 'feather': 2, 'eleven': 2, 'plastic': 2, 'cups': 2, 'yellow': 2, 'began': 2, 'planet': 2, 'overseas': 2, 'coast': 2, 'echange': 2, 'beside': 2, 'conscious': 2, 'slave': 2, 'master': 2, 'powers': 2, 'flies': 2, 'guest': 2, 'ink': 2, 'numbers': 2, 'drenched': 2, 'desire': 2, 'cell': 2, 'growing': 2, 'eisted': 2, 'greets': 2, 'sent': 2, 'satan': 2, 'vengeance': 2, 'iron': 2, 'closing': 2, 'square': 2, 'level': 2, 'thunder': 2, 'decay': 2, 'stripped': 2, 'monarch': 2, 'benefit': 2, 'knife': 2, 'skull': 2, 'begins': 2, 'heads': 2, 'rip': 2, 'millions': 2, 'crowded': 2, 'feeding': 2, 'screams': 2, 'victims': 2, 'married': 2, 'steps': 2, 'daydream': 2, 'couple': 2, 'balance': 2, 'goodnight': 2, 'cover': 2, 'skip': 2, 'grip': 2, 'bone': 2, 'ugly': 2, 'mauntains': 2, 'distant': 2, 'fortune': 2, 'mirror': 2, 'rings': 2, 'dim': 2, 'loan': 2, 'packed': 2, 'rule': 2, 'sees': 2, 'tender': 2, 'colours': 2, 'hue': 2, 'picasso': 2, 'teardrops': 2, 'months': 2, 'remind': 2, 'confident': 2, 'failure': 2, 'chips': 2, 'lucky': 2, 'buy': 2, 'valley': 2, 'noise': 2, 'lonesome': 2, 'read': 2, 'plays': 2, 'seven': 2, 'none': 2, 'rules': 2, 'midnight': 2, 'burdened': 2, 'stormy': 2, 'skydiving': 2, 'rocky': 2, 'seconds': 2, 'bull': 2, 'fumanchu': 2, 'spoke': 2, 'sweeter': 2, 'denying': 2, 'distance': 2, 'heavens': 2, 'tunisia': 2, 'brings': 2, 'claim': 2, 'trace': 2, 'spring': 2, 'forevermore': 2, 'adore': 2, 'beware': 2, 'cheek': 2, 'fate': 2, 'keeping': 2, 'controversy': 2, 'motherfuckin': 2, 'ear': 2, 'chair': 2, 'harry': 2, 'swearin': 2, 'column': 2, 'jack': 2, 'fat': 2, 'rap': 2, 'venom': 2, 'killer': 2, 'demon': 2, 'motherfucker': 2, 'percent': 2, 'finish': 2, 'picture': 2, 'chika': 2, 'harm': 2, 'happens': 2, 'kicked': 2, 'haters': 2, 'mic': 2, 'listens': 2, 'machine': 2, 'crossed': 2, 'careless': 2, 'staying': 2, 'rumors': 2, 'yea': 2, 'quest': 2, 'notes': 2, 'bruh': 2, 'movie': 2, 'fascinating': 2, 'washing': 2, 'journey': 2, 'finding': 2, 'tragedy': 2, 'insanity': 2, 'golden': 2, 'innocent': 2, 'lean': 2, 'ricochet': 2, 'bulletproof': 2, 'zone': 2, 'asked': 2, 'worries': 2, 'papa': 2, 'bugging': 2, 'completely': 2, 'reading': 2, 'clearly': 2, 'gears': 2, 'fires': 2, 'forest': 2, 'savage': 2, 'apologize': 2, 'butterflies': 2, 'mend': 2, 'hmm': 2, 'gates': 2, 'neighbors': 2, 'christ': 2, 'bummer': 2, 'tantrum': 2, 'learning': 2, 'simple': 2, 'rush': 2, 'paris': 2, 'bottles': 2, 'shoe': 2, 'jam': 2, 'william': 2, 'carousel': 2, 'tides': 2, 'ninety': 2, 'balloons': 2, 'blessing': 2, 'peal': 2, 'layers': 2, 'communion': 2, 'fellowship': 2, 'rivers': 2, 'descending': 2, 'supply': 2, 'grateful': 2, 'gather': 2, 'dusty': 2, 'painted': 2, 'teardrop': 2, 'fiery': 2, 'dice': 2, 'aye': 2, 'champagne': 2, 'melodies': 2, 'minor': 2, 'taken': 2, 'dreamed': 2, 'aware': 2, 'december': 2, 'typical': 2, 'neither': 2, 'worthwhile': 2, 'bound': 2, 'starin': 2, 'sayin': 2, 'whiskey': 2, 'neon': 2, 'match': 2, 'blank': 2, 'opened': 2, 'burden': 2, 'paint': 2, 'creation': 2, 'alleluia': 2, 'nevertheless': 2, 'raised': 2, 'awoo': 2, 'tension': 2, 'dull': 2, 'eats': 2, 'senses': 2, 'act': 2, 'friday': 2, 'cash': 2, 'sneak': 2, 'valentine': 2, 'undone': 2, 'changing': 2, 'able': 2, 'grinding': 2, 'stopped': 2, 'measure': 2, 'public': 2, 'bang': 2, 'tellin': 2, 'aniety': 2, 'understanding': 2, 'allow': 2, 'destiny': 2, 'opening': 2, 'states': 2, 'pouring': 2, 'faithfulness': 2, 'lil': 2, 'shared': 2, 'lane': 2, 'travel': 2, 'surface': 2, 'hills': 2, 'closin': 2, 'bedroom': 2, 'nate': 2, 'bus': 2, 'modern': 2, 'shore': 2, 'unbreakable': 2, 'dangling': 2, 'rattles': 2, 'pure': 2, 'fact': 2, 'bag': 2, 'blew': 2, 'boyfriend': 2, 'fantasy': 2, 'wires': 2, 'pennyroyal': 2, 'tea': 2, 'terror': 2, 'takin': 2, 'floats': 2, 'rises': 2, 'darkened': 2, 'porch': 2, 'screen': 2, 'neck': 2, 'ten': 2, 'cuh': 2, 'splash': 2, 'bling': 2, 'wagwan': 2, 'wet': 2, 'gyal': 2, 'blaow': 2, 'coke': 2, 'locked': 2, 'pointing': 2, 'satisfied': 2, 'planned': 2, 'sheriff': 2, 'frightened': 2, 'drivin': 2, 'bid': 2, 'spill': 2, 'motherfuckers': 2, 'bela': 2, 'lugosi': 2, 'devoid': 2, 'bittersweet': 2, 'november': 2, 'strip': 2, 'guaran': 2, 'teed': 2, 'tugging': 2, 'revelation': 2, 'fifteen': 2, 'woods': 2, 'youth': 2, 'watchin': 2, 'regular': 2, 'drip': 2, 'daydreaming': 2, 'cheating': 2, 'proof': 1, 'common': 1, 'cave': 1, 'spilled': 1, 'intention': 1, 'th': 1, 'month': 1, 'prescription': 1, 'club': 1, 'shots': 1, 'van': 1, 'jukebo': 1, 'handmade': 1, 'grab': 1, 'discovering': 1, 'shares': 1, 'kids': 1, 'barefoot': 1, 'grass': 1, 'destruct': 1, 'harmony': 1, 'perfectly': 1, 'imperfect': 1, 'emotion': 1, 'ehausted': 1, 'closest': 1, 'hid': 1, 'messing': 1, 'footprint': 1, 'isolation': 1, 'howling': 1, 'swirling': 1, 'conceal': 1, 'behave': 1, 'complicated': 1, 'underrated': 1, 'impossible': 1, 'scandalous': 1, 'subliminally': 1, 'eciting': 1, 'overcomplicate': 1, 'medicate': 1, 'fabricated': 1, 'pace': 1, 'forth': 1, 'friendly': 1, 'catching': 1, 'pretending': 1, 'hallucinations': 1, 'charming': 1, 'portland': 1, 'organs': 1, 'lied': 1, 'acted': 1, 'rocking': 1, 'baggy': 1, 'jeans': 1, 'chocolate': 1, 'york': 1, 'gender': 1, 'putting': 1, 'cheeks': 1, 'supermodel': 1, 'magazine': 1, 'reasoned': 1, 'polite': 1, 'sunday': 1, 'mornings': 1, 'smiling': 1, 'blaming': 1, 'rainy': 1, 'haha': 1, 'backtrack': 1, 'thigh': 1, 'believed': 1, 'sunsets': 1, 'downtown': 1, 'dragon': 1, 'drama': 1, 'sail': 1, 'rushes': 1, 'movies': 1, 'movement': 1, 'shiver': 1, 'daylight': 1, 'vibe': 1, 'bruised': 1, 'carpet': 1, 'scars': 1, 'marks': 1, 'etched': 1, 'hooray': 1, 'ecellent': 1, 'wishng': 1, 'im': 1, 'felling': 1, 'trow': 1, 'depest': 1, 'snows': 1, 'cowboy': 1, 'steel': 1, 'horse': 1, 'lock': 1, 'parting': 1, 'savior': 1, 'dam': 1, 'busted': 1, 'fathers': 1, 'daughters': 1, 'mothers': 1, 'writing': 1, 'arrive': 1, 'bet': 1, 'badly': 1, 'tricks': 1, 'fooled': 1, 'fend': 1, 'accept': 1, 'cost': 1, 'ridiculous': 1, 'fabulous': 1, 'wing': 1, 'nova': 1, 'castle': 1, 'damage': 1, 'sweat': 1, 'disgrace': 1, 'suffocating': 1, 'disappear': 1, 'epected': 1, 'flew': 1, 'blur': 1, 'deceiving': 1, 'believing': 1, 'loses': 1, 'fearless': 1, 'levitate': 1, 'tiger': 1, 'fighter': 1, 'pledge': 1, 'flowering': 1, 'weeping': 1, 'entire': 1, 'seduced': 1, 'showin': 1, 'super': 1, 'ladies': 1, 'deeply': 1, 'poisoned': 1, 'tropical': 1, 'island': 1, 'la': 1, 'isla': 1, 'bonita': 1, 'spanish': 1, 'lullaby': 1, 'placing': 1, 'chaos': 1, 'cope': 1, 'fairy': 1, 'tale': 1, 'ment': 1, 'lightning': 1, 'seventeen': 1, 'tambourine': 1, 'jive': 1, 'digging': 1, 'cant': 1, 'mailbo': 1, 'cos': 1, 'sunshin': 1, 'smash': 1, 'sofa': 1, 'taller': 1, 'fourth': 1, 'desperately': 1, 'daze': 1, 'depression': 1, 'traumatic': 1, 'stressing': 1, 'suppressing': 1, 'simultaneously': 1, 'obliterates': 1, 'disintegrates': 1, 'annihilates': 1, 'cheater': 1, 'non': 1, 'nuts': 1, 'purple': 1, 'banana': 1, 'truck': 1, 'h': 1, 'paws': 1, 'superstars': 1, 'lipstick': 1, 'boudoir': 1, 'freaky': 1, 'brag': 1, 'saturday': 1, 'spot': 1, 'sugarboo': 1, 'milky': 1, 'renegading': 1, 'healing': 1, 'california': 1, 'difference': 1, 'reflection': 1, 'flashing': 1, 'daydreamer': 1, 'soaking': 1, 'cuts': 1, 'towards': 1, 'brushing': 1, 'groove': 1, 'delicate': 1, 'ego': 1, 'tone': 1, 'bricks': 1, 'repeating': 1, 'ecusing': 1, 'pretendings': 1, 'tidy': 1, 'stole': 1, 'feed': 1, 'numbed': 1, 'bleeds': 1, 'nightfall': 1, 'rug': 1, 'shift': 1, 'eplanation': 1, 'motions': 1, 'drawing': 1, 'hoes': 1, 'g': 1, 'bentley': 1, 'beamer': 1, 'rolls': 1, 'sip': 1, 'semi': 1, 'cops': 1, 'snitch': 1, 'grudge': 1, 'judge': 1, 'thug': 1, 'ho': 1, 'bro': 1, 'snakes': 1, 'starve': 1, 'drugs': 1, 'jail': 1, 'hopped': 1, 'dodging': 1, 'chopper': 1, 'murder': 1, 'spree': 1, 'slippin': 1, 'gin': 1, 'plenty': 1, 'gym': 1, 'timbs': 1, 'cabs': 1, 'clout': 1, 'plottin': 1, 'drownin': 1, 'script': 1, 'flicks': 1, 'rekindle': 1, 'fle': 1, 'ante': 1, 'block': 1, 'hoa': 1, 'withhold': 1, 'stab': 1, 'upside': 1, 'downward': 1, 'spiral': 1, 'disguise': 1, 'chastise': 1, 'invited': 1, 'famous': 1, 'drew': 1, 'artist': 1, 'wolves': 1, 'leader': 1, 'scar': 1, 'dre': 1, 'union': 1, 'avenue': 1, 'repay': 1, 'tilted': 1, 'role': 1, 'smarter': 1, 'nick': 1, 'underlined': 1, 'knives': 1, 'swords': 1, 'weapons': 1, 'knocked': 1, 'chalkboard': 1, 'wounded': 1, 'desperate': 1, 'spare': 1, 'jokes': 1, 'trusted': 1, 'ruin': 1, 'rusted': 1, 'rubbed': 1, 'salt': 1, 'healthy': 1, 'cared': 1, 'bathroom': 1, 'unaffected': 1, 'clever': 1, 'betrayed': 1, 'fondly': 1, 'applause': 1, 'sabotage': 1, 'suspected': 1, 'saint': 1, 'actress': 1, 'mattress': 1, 'dammit': 1, 'perfume': 1, 'deserves': 1, 'gentleman': 1, 'creeping': 1, 'therapists': 1, 'unbreak': 1, 'unsay': 1, 'unburn': 1, 'unchain': 1, 'reactions': 1, 'drifted': 1, 'apartment': 1, 'dishes': 1, 'disappointed': 1, 'lonley': 1, 'learns': 1, 'risk': 1, 'kindness': 1, 'branch': 1, 'jumped': 1, 'touched': 1, 'stretched': 1, 'danced': 1, 'monsters': 1, 'phrase': 1, 'weapon': 1, 'drug': 1, 'outcast': 1, 'backlash': 1, 'wins': 1, 'beast': 1, 'breed': 1, 'greed': 1, 'gotto': 1, 'repeats': 1, 'succeed': 1, 'kong': 1, 'rocks': 1, 'practice': 1, 'book': 1, 'brightest': 1, 'dollars': 1, 'knelt': 1, 'present': 1, 'quarter': 1, 'flat': 1, 'pony': 1, 'wildfire': 1, 'whirlwind': 1, 'nebraska': 1, 'incomplete': 1, 'specific': 1, 'earthlings': 1, 'tragical': 1, 'presents': 1, 'observe': 1, 'trends': 1, 'gaze': 1, 'wished': 1, 'chose': 1, 'warmth': 1, 'direction': 1, 'bastard': 1, 'lower': 1, 'seed': 1, 'sown': 1, 'obey': 1, 'rows': 1, 'enslave': 1, 'eposed': 1, 'enrage': 1, 'joined': 1, 'herd': 1, 'adjust': 1, 'wers': 1, 'eagle': 1, 'dragged': 1, 'acquaintance': 1, 'severed': 1, 'endeavor': 1, 'haunting': 1, 'yearning': 1, 'replaceable': 1, 'shooting': 1, 'rubber': 1, 'tommy': 1, 'juice': 1, 'drifting': 1, 'simply': 1, 'fighters': 1, 'brainwashed': 1, 'pollution': 1, 'waits': 1, 'ancient': 1, 'void': 1, 'shields': 1, 'slaves': 1, 'unfurl': 1, 'kills': 1, 'constantly': 1, 'frustrated': 1, 'moved': 1, 'channel': 1, 'productive': 1, 'impress': 1, 'devils': 1, 'asunder': 1, 'imposing': 1, 'slumber': 1, 'bells': 1, 'chime': 1, 'sacrificing': 1, 'entrance': 1, 'shrine': 1, 'hammering': 1, 'clandestine': 1, 'split': 1, 'lungs': 1, 'whale': 1, 'backs': 1, 'oars': 1, 'prevail': 1, 'ivory': 1, 'leg': 1, 'propels': 1, 'harpoons': 1, 'thrust': 1, 'directly': 1, 'brow': 1, 'bothered': 1, 'persistence': 1, 'lashing': 1, 'standard': 1, 'sympathize': 1, 'violins': 1, 'auschwitz': 1, 'immense': 1, 'showers': 1, 'cleanse': 1, 'forced': 1, 'cattle': 1, 'mice': 1, 'sadistic': 1, 'surgeon': 1, 'demise': 1, 'sadist': 1, 'noblest': 1, 'destroying': 1, 'aryan': 1, 'surgery': 1, 'anesthesia': 1, 'pierce': 1, 'intensely': 1, 'inferior': 1, 'mankind': 1, 'strapped': 1, 'infamous': 1, 'butcher': 1, 'pumped': 1, 'fluid': 1, 'pushing': 1, 'drips': 1, 'boil': 1, 'frigid': 1, 'cracks': 1, 'limbs': 1, 'burial': 1, 'sewn': 1, 'joining': 1, 'tombs': 1, 'sickening': 1, 'holocaust': 1, 'abacinate': 1, 'injecting': 1, 'cells': 1, 'mutant': 1, 'creating': 1, 'harmless': 1, 'rancid': 1, 'destroyed': 1, 'global': 1, 'warming': 1, 'coward': 1, 'dressed': 1, 'unspoken': 1, 'buys': 1, 'melts': 1, 'crippled': 1, 'vein': 1, 'settled': 1, 'uninvited': 1, 'hoped': 1, 'reminded': 1, 'lasts': 1, 'biggest': 1, 'unpredictable': 1, 'outdrew': 1, 'pilgrim': 1, 'claims': 1, 'crumbling': 1, 'pastries': 1, 'upper': 1, 'grams': 1, 'pipe': 1, 'motherland': 1, 'sells': 1, 'covered': 1, 'hopin': 1, 'skinny': 1, 'suckle': 1, 'lite': 1, 'brassiere': 1, 'sullen': 1, 'patient': 1, 'balanced': 1, 'britches': 1, 'emerald': 1, 'pulling': 1, 'latching': 1, 'coloring': 1, 'quietly': 1, 'hover': 1, 'swallowed': 1, 'devour': 1, 'stolen': 1, 'unbroken': 1, 'blanket': 1, 'lullabies': 1, 'everglades': 1, 'greener': 1, 'yesterdays': 1, 'stones': 1, 'photos': 1, 'darkroom': 1, 'arc': 1, 'furthest': 1, 'edges': 1, 'towering': 1, 'crush': 1, 'serenity': 1, 'environment': 1, 'peacefully': 1, 'saul': 1, 'attain': 1, 'scare': 1, 'mauntain': 1, 'suck': 1, 'chemicals': 1, 'float': 1, 'anger': 1, 'bautiful': 1, 'lovingly': 1, 'petrichor': 1, 'sobber': 1, 'someoen': 1, 'cheated': 1, 'invasive': 1, 'dust': 1, 'comple': 1, 'mapping': 1, 'painter': 1, 'pants': 1, 'charging': 1, 'craggy': 1, 'thrift': 1, 'store': 1, 'coy': 1, 'attics': 1, 'corso': 1, 'mc': 1, 'denies': 1, 'honor': 1, 'vines': 1, 'swallow': 1, 'mansions': 1, 'prima': 1, 'donna': 1, 'um': 1, 'cure': 1, 'satellites': 1, 'poor': 1, 'sat': 1, 'haunt': 1, 'moaning': 1, 'satisfy': 1, 'wakes': 1, 'fools': 1, 'spreads': 1, 'barcelona': 1, 'sounding': 1, 'aside': 1, 'tripping': 1, 'fresh': 1, 'favor': 1, 'ahold': 1, 'rainbow': 1, 'ecept': 1, 'cigarettes': 1, 'kit': 1, 'licks': 1, 'eight': 1, 'snake': 1, 'joint': 1, 'ought': 1, 'equals': 1, 'soothe': 1, 'pocket': 1, 'complaining': 1, 'eighteen': 1, 'school': 1, 'cigarette': 1, 'whistle': 1, 'unfamiliar': 1, 'stringing': 1, 'resistance': 1, 'bent': 1, 'reconsider': 1, 'passing': 1, 'glance': 1, 'aglow': 1, 'vanish': 1, 'vow': 1, 'stake': 1, 'replace': 1, 'comin': 1, 'shinin': 1, 'bees': 1, 'educated': 1, 'fleas': 1, 'among': 1, 'jupiter': 1, 'wildest': 1, 'enchant': 1, 'nearness': 1, 'hues': 1, 'greens': 1, 'surround': 1, 'envy': 1, 'fearing': 1, 'soar': 1, 'wee': 1, 'fundamental': 1, 'apply': 1, 'rely': 1, 'eager': 1, 'combine': 1, 'fascination': 1, 'mystic': 1, 'charms': 1, 'hush': 1, 'blush': 1, 'absurd': 1, 'decide': 1, 'damned': 1, 'planted': 1, 'player': 1, 'stingy': 1, 'cher': 1, 'lend': 1, 'pretendin': 1, 'genital': 1, 'area': 1, 'original': 1, 'richard': 1, 'ramirez': 1, 'christian': 1, 'rivera': 1, 'lyrics': 1, 'paraplegic': 1, 'scary': 1, 'tom': 1, 'merriam': 1, 'dictionary': 1, 'hilarious': 1, 'obituary': 1, 'shaft': 1, 'steering': 1, 'petes': 1, 'mai': 1, 'attracts': 1, 'gangster': 1, 'apache': 1, 'catchy': 1, 'jingle': 1, 'eaten': 1, 'cheeto': 1, 'eliminate': 1, 'maid': 1, 'murderin': 1, 'evade': 1, 'dump': 1, 'obliteratin': 1, 'incineratin': 1, 'renegade': 1, 'beginnin': 1, 'ill': 1, 'atilla': 1, 'vanilla': 1, 'gorilla': 1, 'bringin': 1, 'recieving': 1, 'stupidity': 1, 'epitome': 1, 'spitter': 1, 'vicinity': 1, 'duck': 1, 'fifth': 1, 'unfadable': 1, 'available': 1, 'blowin': 1, 'inflatable': 1, 'undebatable': 1, 'unavoidable': 1, 'unevadable': 1, 'idea': 1, 'gray': 1, 'reminds': 1, 'hi': 1, 'adrenaline': 1, 'momentum': 1, 'snap': 1, 'literally': 1, 'armor': 1, 'destroy': 1, 'bites': 1, 'hailie': 1, 'alter': 1, 'moods': 1, 'fans': 1, 'ohh': 1, 'trash': 1, 'tekashi': 1, 'wishy': 1, 'washy': 1, 'thinks': 1, 'washed': 1, 'rapper': 1, 'strive': 1, 'cease': 1, 'limit': 1, 'hook': 1, 'fantastic': 1, 'natural': 1, 'toes': 1, 'elastic': 1, 'reputation': 1, 'demonstration': 1, 'obsessive': 1, 'selective': 1, 'agressive': 1, 'offensive': 1, 'belief': 1, 'endings': 1, 'action': 1, 'thriller': 1, 'hollywood': 1, 'treasure': 1, 'celebration': 1, 'stared': 1, 'tremble': 1, 'crosses': 1, 'guided': 1, 'wiser': 1, 'dive': 1, 'ticks': 1, 'relentlessly': 1, 'clarity': 1, 'recall': 1, 'sidewalk': 1, 'bold': 1, 'joys': 1, 'moping': 1, 'brown': 1, 'criticized': 1, 'titanium': 1, 'uncontrolled': 1, 'helpless': 1, 'rainfall': 1, 'fights': 1, 'slamming': 1, 'magnifying': 1, 'flaws': 1, 'seual': 1, 'romancing': 1, 'nasty': 1, 'mona': 1, 'lisa': 1, 'nationality': 1, 'crap': 1, 'knowledge': 1, 'bothering': 1, 'forcing': 1, 'planes': 1, 'cast': 1, 'confetti': 1, 'salvation': 1, 'declare': 1, 'offer': 1, 'kneel': 1, 'glorified': 1, 'fore': 1, 'draw': 1, 'finished': 1, 'puffed': 1, 'girlfriend': 1, 'seduce': 1, 'books': 1, 'myths': 1, 'achilles': 1, 'hercules': 1, 'gifts': 1, 'spider': 1, 'batman': 1, 'fists': 1, 'yellin': 1, 'epectations': 1, 'hidden': 1, 'persevere': 1, 'slowed': 1, 'switch': 1, 'promised': 1, 'adored': 1, 'sang': 1, 'chorus': 1, 'epensive': 1, 'puppet': 1, 'string': 1, 'payback': 1, 'baddest': 1, 'shoulder': 1, 'imagination': 1, 'stoned': 1, 'bourgeois': 1, 'coughing': 1, 'promethazine': 1, 'evergreen': 1, 'selena': 1, 'kissing': 1, 'emily': 1, 'tire': 1, 'currents': 1, 'overflowed': 1, 'advantage': 1, 'owns': 1, 'crashed': 1, 'unturned': 1, 'stepped': 1, 'shouldered': 1, 'fulfill': 1, 'law': 1, 'prophets': 1, 'virgin': 1, 'cradle': 1, 'generations': 1, 'nation': 1, 'madly': 1, 'forsake': 1, 'unending': 1, 'followed': 1, 'unrelenting': 1, 'deception': 1, 'hesitation': 1, 'oasis': 1, 'awaits': 1, 'mood': 1, 'pronounce': 1, 'circle': 1, 'football': 1, 'coca': 1, 'cola': 1, 'ghosts': 1, 'mold': 1, 'colder': 1, 'stupid': 1, 'rude': 1, 'rendevue': 1, 'knuckles': 1, 'wise': 1, 'homie': 1, 'size': 1, 'ay': 1, 'ducking': 1, 'cameras': 1, 'traffic': 1, 'canvas': 1, 'ravage': 1, 'flein': 1, 'muhammad': 1, 'weakness': 1, 'compose': 1, 'presence': 1, 'separate': 1, 'hoo': 1, 'tan': 1, 'ipanema': 1, 'walks': 1, 'swings': 1, 'sways': 1, 'cursed': 1, 'tends': 1, 'swallows': 1, 'freezing': 1, 'limb': 1, 'follower': 1, 'worlds': 1, 'sickness': 1, 'carried': 1, 'triumph': 1, 'amazed': 1, 'scale': 1, 'valleys': 1, 'graced': 1, 'chased': 1, 'lowly': 1, 'source': 1, 'mercies': 1, 'miner': 1, 'misty': 1, 'moonshine': 1, 'departed': 1, 'sends': 1, 'shivers': 1, 'spine': 1, 'griefs': 1, 'privilege': 1, 'often': 1, 'forfeit': 1, 'consider': 1, 'mighty': 1, 'forests': 1, 'brilliant': 1, 'bel': 1, 'mid': 1, 'channeling': 1, 'electric': 1, 'drought': 1, 'kings': 1, 'queens': 1, 'seeking': 1, 'plus': 1, 'toronto': 1, 'hotel': 1, 'spending': 1, 'tets': 1, 'cherish': 1, 'covers': 1, 'serenade': 1, 'major': 1, 'piano': 1, 'keys': 1, 'fizzing': 1, 'shaken': 1, 'openly': 1, 'sly': 1, 'den': 1, 'perhaps': 1, 'foresight': 1, 'bargained': 1, 'imagined': 1, 'undo': 1, 'iscariot': 1, 'cars': 1, 'stumbling': 1, 'bars': 1, 'tattoo': 1, 'blindly': 1, 'subliminal': 1, 'astray': 1, 'jaded': 1, 'mysteries': 1, 'gambler': 1, 'boredom': 1, 'overtook': 1, 'readin': 1, 'knowin': 1, 'advice': 1, 'buzzing': 1, 'tastes': 1, 'stunnin': 1, 'designer': 1, 'row': 1, 'fashion': 1, 'prenups': 1, 'homes': 1, 'surrounded': 1, 'features': 1, 'willing': 1, 'compete': 1, 'inbetween': 1, 'wired': 1, 'ignorant': 1, 'trauma': 1, 'afternoon': 1, 'genetic': 1, 'scoop': 1, 'unzip': 1, 'cling': 1, 'imitation': 1, 'losin': 1, 'screamin': 1, 'trip': 1, 'sideways': 1, 'tilt': 1, 'peacefulness': 1, 'countin': 1, 'sheep': 1, 'slashing': 1, 'bark': 1, 'forgot': 1, 'mention': 1, 'dimensions': 1, 'perfection': 1, 'scheming': 1, 'totally': 1, 'usually': 1, 'tches': 1, 'jealousy': 1, 'incurable': 1, 'ailment': 1, 'asia': 1, 'relocates': 1, 'continent': 1, 'remain': 1, 'butt': 1, 'staple': 1, 'tongue': 1, 'cannibal': 1, 'page': 1, 'cheer': 1, 'wines': 1, 'satisfaction': 1, 'plessure': 1, 'sooner': 1, 'later': 1, 'fever': 1, 'bomb': 1, 'racks': 1, 'shaq': 1, 'height': 1, 'jewelry': 1, 'flashlight': 1, 'pussy': 1, 'choked': 1, 'band': 1, 'suit': 1, 'fury': 1, 'wandered': 1, 'patiently': 1, 'vacancy': 1, 'february': 1, 'tattooed': 1, 'charm': 1, 'disarm': 1, 'tours': 1, 'sailing': 1, 'led': 1, 'became': 1, 'lumps': 1, 'throat': 1, 'address': 1, 'evidence': 1, 'coats': 1, 'carnival': 1, 'ferris': 1, 'epiration': 1, 'seams': 1, 'picturing': 1, 'surprise': 1, 'hazel': 1, 'dudes': 1, 'demonstrate': 1, 'foreplay': 1, 'noho': 1, 'tais': 1, 'woke': 1, 'boast': 1, 'fails': 1, 'faithful': 1, 'rains': 1, 'pours': 1, 'core': 1, 'wilding': 1, 'interrupting': 1, 'dropped': 1, 'dreamt': 1, 'wife': 1, 'parties': 1, 'ambitions': 1, 'intends': 1, 'important': 1, 'borrow': 1, 'thankful': 1, 'healer': 1, 'daily': 1, 'noses': 1, 'safety': 1, 'appeared': 1, 'tightrope': 1, 'wizard': 1, 'bewitchin': 1, 'eclusive': 1, 'intense': 1, 'asteroid': 1, 'discreet': 1, 'dodge': 1, 'tabloids': 1, 'bore': 1, 'panic': 1, 'bloodstream': 1, 'stutter': 1, 'violence': 1, 'gloom': 1, 'pardon': 1, 'using': 1, 'naivety': 1, 'sane': 1, 'hysteric': 1, 'uncomfortably': 1, 'oblivion': 1, 'verge': 1, 'slipped': 1, 'refuse': 1, 'rescued': 1, 'whether': 1, 'altar': 1, 'precious': 1, 'encountering': 1, 'bowing': 1, 'returning': 1, 'reminding': 1, 'questions': 1, 'introduce': 1, 'brokenness': 1, 'storms': 1, 'surrounding': 1, 'cutting': 1, 'served': 1, 'peacefull': 1, 'fades': 1, 'fragile': 1, 'state': 1, 'collapse': 1, 'dancin': 1, 'singin': 1, 'movin': 1, 'groovin': 1, 'shouted': 1, 'boogie': 1, 'highest': 1, 'chained': 1, 'dropping': 1, 'chosen': 1, 'landscape': 1, 'bewitched': 1, 'masquers': 1, 'bergamaskers': 1, 'lute': 1, 'fanciful': 1, 'disguises': 1, 'conquering': 1, 'favours': 1, 'mingles': 1, 'sets': 1, 'fountains': 1, 'sobbing': 1, 'svelte': 1, 'amid': 1, 'marble': 1, 'statues': 1, 'jealous': 1, 'tree': 1, 'bending': 1, 'sudden': 1, 'unaware': 1, 'afflictions': 1, 'eclipsed': 1, 'affections': 1, 'billion': 1, 'galaies': 1, 'vapour': 1, 'planets': 1, 'form': 1, 'signal': 1, 'praises': 1, 'definitely': 1, 'slipping': 1, 'guiding': 1, 'evermore': 1, 'wannna': 1, 'coffee': 1, 'stands': 1, 'failed': 1, 'salvage': 1, 'sittin': 1, 'eating': 1, 'waitin': 1, 'dialed': 1, 'rang': 1, 'amends': 1, 'unravelling': 1, 'shepherd': 1, 'priest': 1, 'comforter': 1, 'comforts': 1, 'sum': 1, 'truly': 1, 'stain': 1, 'pavement': 1, 'sacrifice': 1, 'purest': 1, 'lettin': 1, 'slide': 1, 'dissin': 1, 'rhymes': 1, 'peers': 1, 'headphone': 1, 'allegiance': 1, 'fickle': 1, 'minded': 1, 'shiny': 1, 'cheers': 1, 'belongs': 1, 'loudly': 1, 'prize': 1, 'strangers': 1, 'almighty': 1, 'fed': 1, 'resent': 1, 'linen': 1, 'strips': 1, 'ribbon': 1, 'scaled': 1, 'buildin': 1, 'prison': 1, 'curtains': 1, 'thief': 1, 'dealin': 1, 'breakdown': 1, 'therapist': 1, 'somethin': 1, 'route': 1, 'clean': 1, 'yard': 1, 'grabbin': 1, 'keepsakes': 1, 'burdens': 1, 'concerns': 1, 'cues': 1, 'blurry': 1, 'prolly': 1, 'closet': 1, 'baggage': 1, 'tet': 1, 'windows': 1, 'becomes': 1, 'overboard': 1, 'headfirst': 1, 'hallucination': 1, 'forgiven': 1, 'bitterness': 1, 'grief': 1, 'ecstasy': 1, 'drowning': 1, 'solid': 1, 'jewel': 1, 'threatens': 1, 'thicker': 1, 'rescue': 1, 'lifeline': 1, 'actions': 1, 'empathise': 1, 'needle': 1, 'familiar': 1, 'sweetest': 1, 'empire': 1, 'livin': 1, 'wipe': 1, 'sweep': 1, 'confront': 1, 'sincere': 1, 'seeming': 1, 'faced': 1, 'caused': 1, 'siteen': 1, 'slit': 1, 'wrists': 1, 'bullet': 1, 'desperation': 1, 'frustration': 1, 'gambling': 1, 'imagining': 1, 'inappropriate': 1, 'uncontrollably': 1, 'sugar': 1, 'false': 1, 'coal': 1, 'brokenhearted': 1, 'bell': 1, 'smiled': 1, 'doorstep': 1, 'message': 1, 'treated': 1, 'esteemed': 1, 'todays': 1, 'tomorrows': 1, 'paved': 1, 'infinite': 1, 'possible': 1, 'gravel': 1, 'barrel': 1, 'los': 1, 'angeles': 1, 'scam': 1, 'sleeps': 1, 'cliftons': 1, 'warmer': 1, 'conversations': 1, 'album': 1, 'plaque': 1, 'nicki': 1, 'pop': 1, 'bieber': 1, 'queer': 1, 'madea': 1, 'sue': 1, 'nas': 1, 'hood': 1, 'doobie': 1, 'sign': 1, 'scent': 1, 'lingers': 1, 'temptation': 1, 'hardened': 1, 'passin': 1, 'search': 1, 'seek': 1, 'craving': 1, 'escaped': 1, 'atmosphere': 1, 'silently': 1, 'agoraphobic': 1, 'shesha': 1, 'owl': 1, 'crossroads': 1, 'candle': 1, 'chant': 1, 'incense': 1, 'hekate': 1, 'invoke': 1, 'hecate': 1, 'skeleton': 1, 'claws': 1, 'howl': 1, 'muse': 1, 'silhouettes': 1, 'poems': 1, 'hectic': 1, 'hating': 1, 'summertime': 1, 'pale': 1, 'style': 1, 'heels': 1, 'telephone': 1, 'sizzling': 1, 'snare': 1, 'scares': 1, 'foresee': 1, 'happening': 1, 'posture': 1, 'distill': 1, 'anemic': 1, 'royalty': 1, 'glasses': 1, 'pictures': 1, 'disconnecting': 1, 'shh': 1, 'brains': 1, 'wicked': 1, 'unwanted': 1, 'uneven': 1, 'remembers': 1, 'gladness': 1, 'collect': 1, 'relive': 1, 'ghouls': 1, 'pound': 1, 'reverb': 1, 'backbeat': 1, 'dot': 1, 'detail': 1, 'dig': 1, 'graves': 1, 'caution': 1, 'hangs': 1, 'crashing': 1, 'straighten': 1, 'depths': 1, 'reaction': 1, 'castaway': 1, 'tidal': 1, 'splintered': 1, 'battered': 1, 'shortcut': 1, 'necklace': 1, 'furniture': 1, 'stood': 1, 'airplanes': 1, 'paying': 1, 'dues': 1, 'worn': 1, 'broadway': 1, 'ol': 1, 'deck': 1, 'stacked': 1, 'bill': 1, 'un': 1, 'zip': 1, 'winning': 1, 'wildcard': 1, 'sleeve': 1, 'lemons': 1, 'mi': 1, 'joke': 1, 'blessings': 1, 'bond': 1, 'becoming': 1, 'rests': 1, 'forgets': 1, 'passed': 1, 'peeps': 1, 'shorty': 1, 'ticking': 1, 'fritter': 1, 'offhand': 1, 'kicking': 1, 'hometown': 1, 'statue': 1, 'temple': 1, 'aw': 1, 'beloved': 1, 'rosy': 1, 'feathered': 1, 'badge': 1, 'knocking': 1, 'wishing': 1, 'habit': 1, 'rabbit': 1, 'reside': 1, 'tempt': 1, 'celestial': 1, 'defense': 1, 'offense': 1, 'redefine': 1, 'sometime': 1, 'whispering': 1, 'sweetheart': 1, 'booze': 1, 'teddy': 1, 'sniffing': 1, 'glue': 1, 'twelve': 1, 'east': 1, 'cathy': 1, 'reds': 1, 'bobby': 1, 'leukemia': 1, 'fourteen': 1, 'sity': 1, 'season': 1, 'ticket': 1, 'askin': 1, 'everythin': 1, 'doorway': 1, 'blinding': 1, 'tunnels': 1, 'clasped': 1, 'hint': 1, 'spark': 1, 'unkind': 1, 'agree': 1, 'satin': 1, 'hungered': 1, 'speed': 1, 'sigh': 1, 'snowflakes': 1, 'fallen': 1, 'paths': 1, 'fond': 1, 'contain': 1, 'unfair': 1, 'fist': 1, 'images': 1, 'motherfucking': 1, 'insecurity': 1, 'decision': 1, 'plead': 1, 'avoid': 1, 'hospital': 1, 'grand': 1, 'knot': 1, 'asleep': 1, 'grope': 1, 'shade': 1, 'wanderer': 1, 'traveling': 1, 'return': 1, 'humans': 1, 'swans': 1, 'witness': 1, 'heartless': 1, 'disease': 1, 'neglect': 1, 'frightening': 1, 'birth': 1, 'final': 1, 'basement': 1, 'dwells': 1, 'treating': 1, 'pawns': 1, 'chess': 1, 'judgement': 1, 'pigs': 1, 'struck': 1, 'virginal': 1, 'brides': 1, 'file': 1, 'tomb': 1, 'strewn': 1, 'bereft': 1, 'monotony': 1, 'colour': 1, 'greeted': 1, 'blanks': 1, 'drones': 1, 'selling': 1, 'innocense': 1, 'forsaken': 1, 'aches': 1, 'surrenders': 1, 'solitude': 1, 'unity': 1, 'indeed': 1, 'blest': 1, 'delight': 1, 'bled': 1, 'anious': 1, 'bless': 1, 'bonds': 1, 'crimson': 1, 'betrayal': 1, 'possessed': 1, 'bearing': 1, 'curse': 1, 'reached': 1, 'ache': 1, 'riding': 1, 'scorching': 1, 'gathered': 1, 'hymn': 1, 'buttons': 1, 'blouse': 1, 'mourn': 1, 'legend': 1, 'chippewa': 1, 'gitche': 1, 'gumee': 1, 'gloomy': 1, 'ore': 1, 'tons': 1, 'edmund': 1, 'fitzgerald': 1, 'weighed': 1, 'ship': 1, 'chewed': 1, 'gales': 1, 'disappears': 1, 'circuitry': 1, 'drowns': 1, 'pumping': 1, 'vegas': 1, 'disguising': 1, 'warping': 1, 'seathing': 1, 'graceless': 1, 'heirs': 1, 'intangible': 1, 'stomping': 1, 'international': 1, 'sand': 1, 'elephant': 1, 'quench': 1, 'thirst': 1, 'toward': 1, 'irate': 1, 'bags': 1, 'armageddon': 1, 'certainly': 1, 'vacation': 1, 'circus': 1, 'sideshow': 1, 'freaks': 1, 'flush': 1, 'arizona': 1, 'bay': 1, 'pisces': 1, 'shaped': 1, 'bo': 1, 'drawn': 1, 'tar': 1, 'pit': 1, 'trap': 1, 'cancer': 1, 'thanking': 1, 'pour': 1, 'rhythm': 1, 'vision': 1, 'thats': 1, 'delighted': 1, 'unmistakable': 1, 'unmistakeable': 1, 'sighing': 1, 'sweating': 1, 'surrendering': 1, 'submit': 1, 'whoever': 1, 'causing': 1, 'sense': 1, 'subconsciously': 1, 'aroused': 1, 'grounds': 1, 'tread': 1, 'underestimate': 1, 'immortality': 1, 'factory': 1, 'krinkle': 1, 'sentimental': 1, 'kite': 1, 'trampoline': 1, 'hendersons': 1, 'pablo': 1, 'fanques': 1, 'horses': 1, 'hoops': 1, 'garters': 1, 'lastly': 1, 'hogshead': 1, 'challenge': 1, 'digit': 1, 'dumps': 1, 'mud': 1, 'assumes': 1, 'recognize': 1, 'stumbled': 1, 'onlyness': 1, 'whose': 1, 'primary': 1, 'concern': 1, 'illest': 1, 'hustler': 1, 'moviestars': 1, 'sniff': 1, 'corrupted': 1, 'eyelashes': 1, 'medical': 1, 'advances': 1, 'hamburger': 1, 'laying': 1, 'proping': 1, 'tubes': 1, 'lurking': 1, 'freeze': 1, 'horror': 1, 'paralyzed': 1, 'pumpkins': 1, 'fright': 1, 'sights': 1, 'government': 1, 'privacy': 1, 'stayin': 1, 'order': 1, 'pad': 1, 'thai': 1, 'noon': 1, 'bathtub': 1, 'bubbles': 1, 'bubbly': 1, 'dripped': 1, 'fits': 1, 'shakespeare': 1, 'teenager': 1, 'mysterious': 1, 'lessons': 1, 'wrapped': 1, 'crawlin': 1, 'feelling': 1, 'mansion': 1, 'lucidly': 1, 'coldest': 1, 'fridge': 1, 'dip': 1, 'whiting': 1, 'superman': 1, 'serious': 1, 'warned': 1, 'tour': 1, 'creepin': 1, 'actin': 1})\n",
            "Length 3507\n"
          ]
        }
      ]
    },
    {
      "cell_type": "code",
      "source": [
        "counter.most_common(10)"
      ],
      "metadata": {
        "colab": {
          "base_uri": "https://localhost:8080/"
        },
        "id": "hnzNTkv7SsG8",
        "outputId": "f9e96ab0-c601-42ef-a2f6-9d30c1490bc3"
      },
      "execution_count": 56,
      "outputs": [
        {
          "output_type": "execute_result",
          "data": {
            "text/plain": [
              "[('love', 437),\n",
              " ('know', 322),\n",
              " ('like', 276),\n",
              " ('let', 204),\n",
              " ('go', 194),\n",
              " ('never', 184),\n",
              " ('oh', 183),\n",
              " ('get', 179),\n",
              " ('baby', 176),\n",
              " ('time', 169)]"
            ]
          },
          "metadata": {},
          "execution_count": 56
        }
      ]
    },
    {
      "cell_type": "code",
      "source": [
        "num_unique_words = len(counter)"
      ],
      "metadata": {
        "id": "rY_dQw84S1VR"
      },
      "execution_count": 57,
      "outputs": []
    },
    {
      "cell_type": "markdown",
      "source": [
        "Stratification - Dealing with inbalanced data set"
      ],
      "metadata": {
        "id": "sbb_NaEbTGXo"
      }
    },
    {
      "cell_type": "code",
      "source": [
        "def get_class_counts(dataframe):\n",
        "  grp = dataframe.groupby(['Emotion'])['Song_ID'].nunique()\n",
        "  return {key:grp[key] for key in list(grp.keys())}\n",
        "\n",
        "def get_class_proportions(dataframe):\n",
        "  class_counts = get_class_counts(dataframe)\n",
        "  return {val[0]: round(val[1]/dataframe.shape[0], 4) for val in class_counts.items()}\n",
        "\n",
        "print(\"Dataset class counts\", get_class_counts(df))\n",
        "print(\"Dataset class proportions\", get_class_proportions(df))"
      ],
      "metadata": {
        "colab": {
          "base_uri": "https://localhost:8080/"
        },
        "id": "n6FYp_luTHDS",
        "outputId": "e0fade96-cc2d-415f-b0be-2bea956c337b"
      },
      "execution_count": 58,
      "outputs": [
        {
          "output_type": "stream",
          "name": "stdout",
          "text": [
            "Dataset class counts {0: 149, 1: 146, 2: 213, 3: 88, 4: 71, 5: 133}\n",
            "Dataset class proportions {0: 0.1862, 1: 0.1825, 2: 0.2662, 3: 0.11, 4: 0.0888, 5: 0.1662}\n"
          ]
        }
      ]
    },
    {
      "cell_type": "code",
      "source": [
        "from sklearn.model_selection import train_test_split\n",
        "\n",
        "train_, test_ = train_test_split(df, test_size=0.2)\n",
        "\n",
        "train_class_proportions = get_class_proportions(train_)\n",
        "test_class_proportions = get_class_proportions(test_)\n",
        "\n",
        "print(\"Train data class proportions\", train_class_proportions)\n",
        "print(\"Test data class proportions\", test_class_proportions)\n",
        "\n",
        "train_stratify, test_stratify = train_test_split(df, test_size=0.2, stratify=df['Emotion'])\n",
        "\n",
        "train_class_proportions_stratify = get_class_proportions(train_stratify)\n",
        "test_class_proportions_stratify = get_class_proportions(test_stratify)\n",
        "\n",
        "print(\"Train data class proportions after stratifying\", train_class_proportions_stratify)\n",
        "print(\"Test data class proportions after stratifying\", test_class_proportions_stratify)"
      ],
      "metadata": {
        "colab": {
          "base_uri": "https://localhost:8080/"
        },
        "id": "QXqtQx06TWRu",
        "outputId": "47ee853a-c4af-4833-f4e1-a017c93b1ce7"
      },
      "execution_count": 59,
      "outputs": [
        {
          "output_type": "stream",
          "name": "stdout",
          "text": [
            "Train data class proportions {0: 0.1875, 1: 0.1781, 2: 0.2719, 3: 0.1078, 4: 0.0906, 5: 0.1641}\n",
            "Test data class proportions {0: 0.1812, 1: 0.2, 2: 0.2438, 3: 0.1188, 4: 0.0812, 5: 0.175}\n",
            "Train data class proportions after stratifying {0: 0.1859, 1: 0.1828, 2: 0.2656, 3: 0.1109, 4: 0.0891, 5: 0.1656}\n",
            "Test data class proportions after stratifying {0: 0.1875, 1: 0.1812, 2: 0.2688, 3: 0.1062, 4: 0.0875, 5: 0.1688}\n"
          ]
        }
      ]
    },
    {
      "cell_type": "code",
      "source": [
        "# split text and labels\n",
        "train_sentences = train_stratify.Chorus.to_numpy()\n",
        "train_labels = train_stratify.Emotion.to_numpy()\n",
        "val_sentences = test_stratify.Chorus.to_numpy()\n",
        "val_labels = test_stratify.Emotion.to_numpy()"
      ],
      "metadata": {
        "id": "_e8fznLAT-Ug"
      },
      "execution_count": 60,
      "outputs": []
    },
    {
      "cell_type": "code",
      "source": [
        "train_sentences.shape, val_sentences.shape"
      ],
      "metadata": {
        "colab": {
          "base_uri": "https://localhost:8080/"
        },
        "id": "L-MgQMuDUU5o",
        "outputId": "c00913de-60a8-4dd8-f348-c44ae8b9ac70"
      },
      "execution_count": 61,
      "outputs": [
        {
          "output_type": "execute_result",
          "data": {
            "text/plain": [
              "((640,), (160,))"
            ]
          },
          "metadata": {},
          "execution_count": 61
        }
      ]
    },
    {
      "cell_type": "code",
      "source": [
        "# Tokenize\n",
        "from tensorflow.keras.preprocessing.text import Tokenizer\n",
        "\n",
        "# vectorize a text corpus by turning each text into a sequence of integers\n",
        "tokenizer = Tokenizer(num_words=num_unique_words)\n",
        "tokenizer.fit_on_texts(train_sentences) # fit only to training"
      ],
      "metadata": {
        "id": "F7nKDGB5UeAT"
      },
      "execution_count": 62,
      "outputs": []
    },
    {
      "cell_type": "code",
      "source": [
        "# each word has unique index\n",
        "word_index = tokenizer.word_index\n",
        "print(word_index)"
      ],
      "metadata": {
        "colab": {
          "base_uri": "https://localhost:8080/"
        },
        "id": "i7ze3FBFUiXd",
        "outputId": "f420e9fe-8f57-491c-c5e7-4a227b8d1ac5"
      },
      "execution_count": 63,
      "outputs": [
        {
          "output_type": "stream",
          "name": "stdout",
          "text": [
            "{'love': 1, 'know': 2, 'like': 3, 'go': 4, 'oh': 5, 'let': 6, 'get': 7, 'baby': 8, 'never': 9, 'say': 10, 'see': 11, 'wanna': 12, 'one': 13, 'time': 14, 'need': 15, 'got': 16, 'cause': 17, 'want': 18, 'heart': 19, 'way': 20, 'life': 21, 'feel': 22, 'yeah': 23, 'come': 24, 'gonna': 25, 'take': 26, 'every': 27, 'make': 28, 'give': 29, 'away': 30, 'right': 31, 'still': 32, 'night': 33, 'back': 34, 'keep': 35, 'world': 36, 'could': 37, 'little': 38, 'tell': 39, 'think': 40, 'alone': 41, 'day': 42, 'everything': 43, 'dance': 44, 'said': 45, 'good': 46, 'try': 47, 'ever': 48, 'sing': 49, 'mind': 50, 'hold': 51, 'leave': 52, 'live': 53, 'find': 54, 'home': 55, 'even': 56, 'eyes': 57, 'things': 58, 'always': 59, 'well': 60, 'better': 61, 'put': 62, 'head': 63, 'tonight': 64, 'us': 65, 'light': 66, 'call': 67, 'feeling': 68, 'die': 69, 'girl': 70, 'song': 71, 'look': 72, 'lost': 73, 'lonely': 74, 'would': 75, 'place': 76, 'bad': 77, 'something': 78, 'inside': 79, 'hate': 80, 'around': 81, 'really': 82, 'without': 83, 'ooh': 84, 'fall': 85, 'gone': 86, 'people': 87, 'long': 88, 'nothing': 89, 'happy': 90, 'made': 91, 'friends': 92, 'thing': 93, 'pain': 94, 'hope': 95, 'turn': 96, 'stop': 97, 'fight': 98, 'hard': 99, 'stay': 100, 'rain': 101, 'stand': 102, 'hell': 103, 'hear': 104, 'end': 105, 'hey': 106, 'enough': 107, 'run': 108, 'alright': 109, 'nobody': 110, 'sorry': 111, 'living': 112, 'soul': 113, 'man': 114, 'god': 115, 'last': 116, 'crazy': 117, 'done': 118, 'free': 119, 'remember': 120, 'someone': 121, 'somebody': 122, 'show': 123, 'forever': 124, 'gotta': 125, 'broken': 126, 'words': 127, 'break': 128, 'much': 129, 'strong': 130, 'dancing': 131, 'dream': 132, 'best': 133, 'body': 134, 'dark': 135, 'face': 136, 'name': 137, 'blood': 138, 'miss': 139, 'wrong': 140, 'going': 141, 'sun': 142, 'wish': 143, 'hand': 144, 'far': 145, 'goodbye': 146, 'two': 147, 'smile': 148, 'left': 149, 'told': 150, 'found': 151, 'kiss': 152, 'play': 153, 'side': 154, 'sometimes': 155, 'save': 156, 'heaven': 157, 'maybe': 158, 'though': 159, 'together': 160, 'music': 161, 'sweet': 162, 'lay': 163, 'alive': 164, 'new': 165, 'falling': 166, 'else': 167, 'touch': 168, 'comes': 169, 'anymore': 170, 'fire': 171, 'hurt': 172, 'dead': 173, 'close': 174, 'believe': 175, 'cold': 176, 'high': 177, 'dreams': 178, 'walk': 179, 'care': 180, 'late': 181, 'til': 182, 'sky': 183, 'old': 184, 'cry': 185, 'angel': 186, 'fuck': 187, 'lord': 188, 'afraid': 189, 'thinking': 190, 'worry': 191, 'mine': 192, 'knew': 193, 'please': 194, 'feels': 195, 'looking': 196, 'came': 197, 'em': 198, 'used': 199, 'might': 200, 'guess': 201, 'may': 202, 'sad': 203, 'real': 204, 'waiting': 205, 'true': 206, 'open': 207, 'fear': 208, 'okay': 209, 'bring': 210, 'beat': 211, 'blue': 212, 'coming': 213, 'hands': 214, 'loved': 215, 'friend': 216, 'trying': 217, 'death': 218, 'beautiful': 219, 'first': 220, 'peace': 221, 'thought': 222, 'talk': 223, 'stars': 224, 'behind': 225, 'apart': 226, 'promise': 227, 'days': 228, 'seen': 229, 'help': 230, 'start': 231, 'ride': 232, 'goes': 233, 'took': 234, 'everybody': 235, 'dying': 236, 'chance': 237, 'jesus': 238, 'hide': 239, 'moment': 240, 'sleep': 241, 'wanted': 242, 'tired': 243, 'rock': 244, 'work': 245, 'ah': 246, 'young': 247, 'moon': 248, 'another': 249, 'loving': 250, 'truth': 251, 'gave': 252, 'carry': 253, 'mean': 254, 'bitch': 255, 'deep': 256, 'move': 257, 'pull': 258, 'tears': 259, 'memories': 260, 'seems': 261, 'party': 262, 'shake': 263, 'matter': 264, 'along': 265, 'watch': 266, 'wall': 267, 'morning': 268, 'word': 269, 'follow': 270, 'laugh': 271, 'years': 272, 'lie': 273, 'burn': 274, 'wait': 275, 'space': 276, 'control': 277, 'holding': 278, 'fly': 279, 'since': 280, 'today': 281, 'reason': 282, 'round': 283, 'shit': 284, 'crying': 285, 'water': 286, 'ready': 287, 'family': 288, 'forget': 289, 'tomorrow': 290, 'missing': 291, 'lose': 292, 'worth': 293, 'boy': 294, 'ground': 295, 'went': 296, 'running': 297, 'burning': 298, 'knows': 299, 'times': 300, 'known': 301, 'sure': 302, 'darkness': 303, 'lead': 304, 'change': 305, 'arms': 306, 'swear': 307, 'air': 308, 'drink': 309, 'stranger': 310, 'kill': 311, 'kind': 312, 'harder': 313, 'must': 314, 'lights': 315, 'u': 316, 'perfect': 317, 'losing': 318, 'set': 319, 'makes': 320, 'tight': 321, 'broke': 322, 'getting': 323, 'singing': 324, 'bed': 325, 'rest': 326, 'wonder': 327, 'darling': 328, 'whole': 329, 'understand': 330, 'gon': 331, 'great': 332, 'slowly': 333, 'hurts': 334, 'turning': 335, 'fucking': 336, 'uptown': 337, 'clouds': 338, 'mama': 339, 'use': 340, 'hit': 341, 'takes': 342, 'felt': 343, 'joy': 344, 'hair': 345, 'fell': 346, 'reach': 347, 'stuck': 348, 'many': 349, 'moving': 350, 'breathe': 351, 'sit': 352, 'born': 353, 'step': 354, 'earth': 355, 'bout': 356, 'red': 357, 'honey': 358, 'trust': 359, 'scared': 360, 'king': 361, 'throw': 362, 'breathing': 363, 'anything': 364, 'calm': 365, 'someday': 366, 'white': 367, 'praise': 368, 'playing': 369, 'till': 370, 'guy': 371, 'door': 372, 'ass': 373, 'sea': 374, 'black': 375, 'tried': 376, 'lies': 377, 'write': 378, 'queen': 379, 'strange': 380, 'part': 381, 'rise': 382, 'road': 383, 'ways': 384, 'sound': 385, 'blues': 386, 'past': 387, 'room': 388, 'making': 389, 'storm': 390, 'mountains': 391, 'fool': 392, 'big': 393, 'screaming': 394, 'roll': 395, 'bah': 396, 'uh': 397, 'low': 398, 'damn': 399, 'watching': 400, 'waking': 401, 'hello': 402, 'giving': 403, 'seem': 404, 'ghost': 405, 'easy': 406, 'town': 407, 'ha': 408, 'finally': 409, 'boys': 410, 'mistakes': 411, 'enjoy': 412, 'angry': 413, 'mercy': 414, 'held': 415, 'push': 416, 'thousand': 417, 'wind': 418, 'gun': 419, 'breath': 420, 'slow': 421, 'everyone': 422, 'worship': 423, 'nights': 424, 'meet': 425, 'scream': 426, 'war': 427, 'thank': 428, 'skin': 429, 'laughing': 430, 'learned': 431, 'tear': 432, 'wants': 433, 'year': 434, 'single': 435, 'drop': 436, 'sight': 437, 'callin': 438, 'human': 439, 'standing': 440, 'loves': 441, 'hoping': 442, 'stone': 443, 'evening': 444, 'lips': 445, 'yes': 446, 'net': 447, 'welcome': 448, 'choose': 449, 'evil': 450, 'raise': 451, 'goin': 452, 'lookin': 453, 'hot': 454, 'bury': 455, 'summer': 456, 'fade': 457, 'anybody': 458, 'taking': 459, 'bye': 460, 'funk': 461, 'lifted': 462, 'nigga': 463, 'babe': 464, 'looks': 465, 'three': 466, 'fingers': 467, 'eye': 468, 'five': 469, 'fighting': 470, 'angels': 471, 'shine': 472, 'window': 473, 'different': 474, 'warm': 475, 'blow': 476, 'caught': 477, 'less': 478, 'lives': 479, 'walking': 480, 'saw': 481, 'bar': 482, 'fast': 483, 'empty': 484, 'mountain': 485, 'calling': 486, 'grace': 487, 'cross': 488, 'half': 489, 'deeper': 490, 'survive': 491, 'fake': 492, 'luck': 493, 'heal': 494, 'revenge': 495, 'weird': 496, 'telling': 497, 'died': 498, 'ends': 499, 'weak': 500, 'fill': 501, 'breathin': 502, 'meant': 503, 'lately': 504, 'nice': 505, 'hallelujah': 506, 'celebrate': 507, 'fine': 508, 'belong': 509, 'upon': 510, 'worthy': 511, 'nothin': 512, 'frozen': 513, 'train': 514, 'dreaming': 515, 'bit': 516, 'men': 517, 'radio': 518, 'supposed': 519, 'surrender': 520, 'starts': 521, 'whenever': 522, 'hour': 523, 'mr': 524, 'gettin': 525, 'huh': 526, 'deserve': 527, 'flames': 528, 'bones': 529, 'heard': 530, 'skies': 531, 'swim': 532, 'certain': 533, 'clear': 534, 'n': 535, 'everyday': 536, 'already': 537, 'started': 538, 'birds': 539, 'catch': 540, 'waves': 541, 'chest': 542, 'heat': 543, 'arm': 544, 'anyone': 545, 'full': 546, 'voice': 547, 'hundred': 548, 'star': 549, 'beg': 550, 'moonlight': 551, 'fun': 552, 'longer': 553, 'dad': 554, 'cool': 555, 'bright': 556, 'blame': 557, 'bear': 558, 'thoughts': 559, 'mad': 560, 'line': 561, 'somewhere': 562, 'highway': 563, 'frankie': 564, 'fail': 565, 'fuckin': 566, 'forgive': 567, 'problems': 568, 'gets': 569, 'rela': 570, 'mediation': 571, 'treat': 572, 'wake': 573, 'turned': 574, 'tells': 575, 'gold': 576, 'dawn': 577, 'driving': 578, 'anyway': 579, 'regret': 580, 'sadness': 581, 'drunk': 582, 'faces': 583, 'nightmare': 584, 'needed': 585, 'higher': 586, 'whatever': 587, 'breaking': 588, 'almost': 589, 'wings': 590, 'glass': 591, 'means': 592, 'happen': 593, 'piece': 594, 'undead': 595, 'awe': 596, 'power': 597, 'rockabye': 598, 'wreck': 599, 'woo': 600, 'four': 601, 'rage': 602, 'memory': 603, 'mess': 604, 'talking': 605, 'answer': 606, 'shoot': 607, 'ago': 608, 'brought': 609, 'cut': 610, 'ran': 611, 'rising': 612, 'songs': 613, 'saying': 614, 'happiness': 615, 'beating': 616, 'money': 617, 'pass': 618, 'least': 619, 'happier': 620, 'wide': 621, 'yesterday': 622, 'wanting': 623, 'across': 624, 'shadows': 625, 'shining': 626, 'million': 627, 'top': 628, 'second': 629, 'grown': 630, 'closer': 631, 'devil': 632, 'prayer': 633, 'wit': 634, 'child': 635, 'green': 636, 'kept': 637, 'somehow': 638, 'games': 639, 'city': 640, 'niggas': 641, 'respect': 642, 'weight': 643, 'path': 644, 'quit': 645, 'tide': 646, 'history': 647, 'taste': 648, 'peaceful': 649, 'beats': 650, 'colors': 651, 'doubt': 652, 'bitches': 653, 'tryna': 654, 'game': 655, 'car': 656, 'spirit': 657, 'tryin': 658, 'admit': 659, 'motive': 660, 'glory': 661, 'become': 662, 'battle': 663, 'endless': 664, 'reasons': 665, 'middle': 666, 'soon': 667, 'closed': 668, 'father': 669, 'ones': 670, 'house': 671, 'pick': 672, 'shed': 673, 'near': 674, 'holy': 675, 'freedom': 676, 'eplain': 677, 'staring': 678, 'spent': 679, 'trees': 680, 'sunrise': 681, 'woman': 682, 'everywhere': 683, 'hopeless': 684, 'price': 685, 'stops': 686, 'minute': 687, 'within': 688, 'lover': 689, 'winter': 690, 'lying': 691, 'bitter': 692, 'bottom': 693, 'shot': 694, 'escape': 695, 'crash': 696, 'stronger': 697, 'funky': 698, 'stack': 699, 'torn': 700, 'freak': 701, 'wave': 702, 'feet': 703, 'dear': 704, 'spell': 705, 'f': 706, 'learn': 707, 'gift': 708, 'wear': 709, 'places': 710, 'met': 711, 'blind': 712, 'trapped': 713, 'meaning': 714, 'whoa': 715, 'hearts': 716, 'ask': 717, 'showed': 718, 'dry': 719, 'caring': 720, 'job': 721, 'ocean': 722, 'silent': 723, 'floor': 724, 'speak': 725, 'weather': 726, 'brain': 727, 'sucker': 728, 'short': 729, 'business': 730, 'lady': 731, 'hiding': 732, 'sin': 733, 'saved': 734, 'loss': 735, 'son': 736, 'fields': 737, 'notice': 738, 'seas': 739, 'send': 740, 'funny': 741, 'count': 742, 'tall': 743, 'passes': 744, 'bother': 745, 'instead': 746, 'pray': 747, 'listen': 748, 'ease': 749, 'laughter': 750, 'person': 751, 'sick': 752, 'faded': 753, 'behold': 754, 'wearing': 755, 'knees': 756, 'stayed': 757, 'faith': 758, 'stride': 759, 'cheat': 760, 'leaves': 761, 'starting': 762, 'buried': 763, 'cannot': 764, 'barely': 765, 'finna': 766, 'greatest': 767, 'chase': 768, 'fucked': 769, 'number': 770, 'numb': 771, 'pleasent': 772, 'table': 773, 'key': 774, 'filling': 775, 'drown': 776, 'sorrow': 777, 'softly': 778, 'played': 779, 'farewell': 780, 'ya': 781, 'quick': 782, 'imagine': 783, 'kinda': 784, 'legends': 785, 'fi': 786, 'flesh': 787, 'phase': 788, 'probably': 789, 'demons': 790, 'liar': 791, 'popular': 792, 'feelings': 793, 'called': 794, 'stress': 795, 'hitting': 796, 'hole': 797, 'keeps': 798, 'forgiveness': 799, 'shows': 800, 'leaving': 801, 'women': 802, 'spirits': 803, 'lines': 804, 'lot': 805, 'point': 806, 'minds': 807, 'burned': 808, 'front': 809, 'girls': 810, 'sink': 811, 'river': 812, 'story': 813, 'pieces': 814, 'aces': 815, 'yuh': 816, 'streets': 817, 'yelling': 818, 'dress': 819, 'shape': 820, 'pulled': 821, 'wine': 822, 'shame': 823, 'note': 824, 'snow': 825, 'kingdom': 826, 'cares': 827, 'secrets': 828, 'outside': 829, 'spit': 830, 'conversation': 831, 'silence': 832, 'rough': 833, 'tough': 834, 'lake': 835, 'shut': 836, 'habits': 837, 'bleed': 838, 'daddy': 839, 'stream': 840, 'faster': 841, 'guns': 842, 'wasting': 843, 'wasted': 844, 'track': 845, 'eactly': 846, 'killing': 847, 'c': 848, 'bridge': 849, 'begging': 850, 'wondering': 851, 'missed': 852, 'walked': 853, 'burns': 854, 'bleeding': 855, 'wonderful': 856, 'class': 857, 'heroes': 858, 'anytime': 859, 'changes': 860, 'beach': 861, 'wrist': 862, 'romeo': 863, 'juliet': 864, 'dirt': 865, 'draconian': 866, 'throne': 867, 'holds': 868, 'lift': 869, 'grave': 870, 'ring': 871, 'calls': 872, 'guilty': 873, 'clap': 874, 'bluebird': 875, 'alison': 876, 'heavy': 877, 'company': 878, 'counting': 879, 'papi': 880, 'lit': 881, 'embrace': 882, 'floating': 883, 'passion': 884, 'flow': 885, 'veins': 886, 'win': 887, 'suddenly': 888, 'ice': 889, 'twice': 890, 'moves': 891, 'issues': 892, 'twist': 893, 'acting': 894, 'hanging': 895, 'si': 896, 'obvious': 897, 'r': 898, 'e': 899, 'given': 900, 'purpose': 901, 'scene': 902, 'toe': 903, 'monkey': 904, 'blows': 905, 'falls': 906, 'worst': 907, 'rather': 908, 'lovers': 909, 'sunny': 910, 'steal': 911, 'epression': 912, 'karma': 913, 'jump': 914, 'lovely': 915, 'guitar': 916, 'children': 917, 'regrets': 918, 'thrown': 919, 'sings': 920, 'gives': 921, 'anywhere': 922, 'underneath': 923, 'brand': 924, 'crooked': 925, 'rhyme': 926, 'begin': 927, 'climb': 928, 'bend': 929, 'brothers': 930, 'sisters': 931, 'gently': 932, 'looked': 933, 'color': 934, 'tie': 935, 'noose': 936, 'vain': 937, 'shout': 938, 'choice': 939, 'shy': 940, 'beyond': 941, 'doubts': 942, 'forward': 943, 'secret': 944, 'filled': 945, 'hearted': 946, 'loud': 947, 'grind': 948, 'realize': 949, 'dies': 950, 'mom': 951, 'team': 952, 'toast': 953, 'blah': 954, 'fame': 955, 'crawl': 956, 'reign': 957, 'brrat': 958, 'sins': 959, 'killed': 960, 'chill': 961, 'race': 962, 'clock': 963, 'flame': 964, 'walls': 965, 'trigger': 966, 'starlight': 967, 'wash': 968, 'guide': 969, 'goodbyes': 970, 'promises': 971, 'future': 972, 'holiday': 973, 'emotions': 974, 'sunshine': 975, 'knowing': 976, 'hah': 977, 'ayy': 978, 'release': 979, 'hill': 980, 'flowers': 981, 'bloom': 982, 'surely': 983, 'loneliness': 984, 'skrrt': 985, 'click': 986, 'clothes': 987, 'nine': 988, 'horizon': 989, 'darkest': 990, 'moments': 991, 'hurricane': 992, 'levitating': 993, 'tries': 994, 'remains': 995, 'bullshit': 996, 'searching': 997, 'diamond': 998, 'helping': 999, 'hurting': 1000, 'b': 1001, 'guys': 1002, 'repeat': 1003, 'awake': 1004, 'heartache': 1005, 'lets': 1006, 'honestly': 1007, 'apologies': 1008, 'shady': 1009, 'sorrows': 1010, 'ashes': 1011, 'date': 1012, 'fading': 1013, 'courage': 1014, 'rides': 1015, 'pack': 1016, 'view': 1017, 'nervous': 1018, 'sitting': 1019, 'figure': 1020, 'deputy': 1021, 'sirens': 1022, 'loose': 1023, 'weeks': 1024, 'goodness': 1025, 'grey': 1026, 'although': 1027, 'settle': 1028, 'trouble': 1029, 'couch': 1030, 'melt': 1031, 'bird': 1032, 'bodies': 1033, 'waist': 1034, 'double': 1035, 'seeing': 1036, 'kissed': 1037, 'sake': 1038, 'bow': 1039, 'roses': 1040, 'energy': 1041, 'bringing': 1042, 'pressure': 1043, 'fair': 1044, 'flight': 1045, 'marry': 1046, 'quiet': 1047, 'selfish': 1048, 'foolish': 1049, 'burst': 1050, 'share': 1051, 'psycho': 1052, 'twenty': 1053, 'phone': 1054, 'wrote': 1055, 'pride': 1056, 'focus': 1057, 'mistake': 1058, 'quits': 1059, 'easily': 1060, 'average': 1061, 'land': 1062, 'named': 1063, 'climbing': 1064, 'smell': 1065, 'madness': 1066, 'fit': 1067, 'whispers': 1068, 'eternity': 1069, 'sheets': 1070, 'drinking': 1071, 'anthem': 1072, 'needless': 1073, 'beard': 1074, 'tied': 1075, 'runaway': 1076, 'pretty': 1077, 'deathly': 1078, 'emptiness': 1079, 'agony': 1080, 'smoke': 1081, 'hearing': 1082, 'beginning': 1083, 'test': 1084, 'straight': 1085, 'yet': 1086, 'restless': 1087, 'confidence': 1088, 'remedy': 1089, 'tearing': 1090, 'fears': 1091, 'ending': 1092, 'sober': 1093, 'drinks': 1094, 'troubled': 1095, 'attention': 1096, 'edge': 1097, 'spinning': 1098, 'lifetime': 1099, 'happened': 1100, 'parted': 1101, 'daybreak': 1102, 'watched': 1103, 'aching': 1104, 'age': 1105, 'country': 1106, 'shirt': 1107, 'intentions': 1108, 'doin': 1109, 'letting': 1110, 'heartbreak': 1111, 'news': 1112, 'l': 1113, 'paper': 1114, 'reaper': 1115, 'safe': 1116, 'dreamer': 1117, 'honest': 1118, 'record': 1119, 'dwell': 1120, 'ahh': 1121, 'deal': 1122, 'type': 1123, 'alice': 1124, 'reaching': 1125, 'thinkin': 1126, 'self': 1127, 'victory': 1128, 'unrealized': 1129, 'mamma': 1130, 'mia': 1131, 'mon': 1132, 'roads': 1133, 'ayo': 1134, 'act': 1135, 'proud': 1136, 'meets': 1137, 'tides': 1138, 'circles': 1139, 'paint': 1140, 'picture': 1141, 'read': 1142, 'adore': 1143, 'mend': 1144, 'teach': 1145, 'wherever': 1146, 'shoe': 1147, 'jam': 1148, 'finger': 1149, 'lean': 1150, 'washing': 1151, 'collide': 1152, 'began': 1153, 'drift': 1154, 'melodies': 1155, 'pure': 1156, 'darkened': 1157, 'guest': 1158, 'fact': 1159, 'asked': 1160, 'misery': 1161, 'park': 1162, 'smiles': 1163, 'breaks': 1164, 'pennyroyal': 1165, 'tea': 1166, 'kicked': 1167, 'rip': 1168, 'harm': 1169, 'happens': 1170, 'turns': 1171, 'spend': 1172, 'controversy': 1173, 'streak': 1174, 'valley': 1175, 'noise': 1176, 'lonesome': 1177, 'brother': 1178, 'speaking': 1179, 'mother': 1180, 'grow': 1181, 'apologize': 1182, 'butterflies': 1183, 'feather': 1184, 'medicine': 1185, 'typical': 1186, 'rules': 1187, 'divine': 1188, 'ups': 1189, 'neath': 1190, 'solve': 1191, 'closing': 1192, 'square': 1193, 'level': 1194, 'nails': 1195, 'sacred': 1196, 'coffin': 1197, 'powers': 1198, 'shores': 1199, 'rivers': 1200, 'rush': 1201, 'descending': 1202, 'supply': 1203, 'jack': 1204, 'coke': 1205, 'cried': 1206, 'heads': 1207, 'waited': 1208, 'ignored': 1209, 'built': 1210, 'wounds': 1211, 'beauty': 1212, 'cage': 1213, 'sees': 1214, 'public': 1215, 'cup': 1216, 'crowd': 1217, 'stunt': 1218, 'sister': 1219, 'henny': 1220, 'plug': 1221, 'trick': 1222, 'dick': 1223, 'cake': 1224, 'wantin': 1225, 'crown': 1226, 'aim': 1227, 'plane': 1228, 'plan': 1229, 'load': 1230, 'peep': 1231, 'pen': 1232, 'mentally': 1233, 'feelin': 1234, 'flip': 1235, 'p': 1236, 'rollin': 1237, 'wound': 1238, 'measure': 1239, 'banging': 1240, 'either': 1241, 'hall': 1242, 'however': 1243, 'glitter': 1244, 'gates': 1245, 'confident': 1246, 'chips': 1247, 'lucky': 1248, 'early': 1249, 'happily': 1250, 'brave': 1251, 'brings': 1252, 'troubles': 1253, 'careless': 1254, 'minor': 1255, 'journey': 1256, 'older': 1257, 'couple': 1258, 'rap': 1259, 'blew': 1260, 'remind': 1261, 'makeup': 1262, 'pleasure': 1263, 'regular': 1264, 'post': 1265, 'drip': 1266, 'grateful': 1267, 'picking': 1268, 'weaker': 1269, 'parts': 1270, 'ninety': 1271, 'balloons': 1272, 'shoulders': 1273, 'ignite': 1274, 'demon': 1275, 'beneath': 1276, 'question': 1277, 'doctor': 1278, 'struggle': 1279, 'monster': 1280, 'unbreakable': 1281, 'rule': 1282, 'awoo': 1283, 'worse': 1284, 'dull': 1285, 'heavens': 1286, 'eats': 1287, 'victims': 1288, 'haters': 1289, 'aniety': 1290, 'closin': 1291, 'awhile': 1292, 'wheel': 1293, 'blinds': 1294, 'involved': 1295, 'mmh': 1296, 'bought': 1297, 'shelf': 1298, 'unless': 1299, 'nate': 1300, 'bus': 1301, 'tellin': 1302, 'hang': 1303, 'learning': 1304, 'quite': 1305, 'leavin': 1306, 'colours': 1307, 'hue': 1308, 'picasso': 1309, 'oceans': 1310, 'william': 1311, 'street': 1312, 'cell': 1313, 'traitor': 1314, 'forevermore': 1315, 'problem': 1316, 'pay': 1317, 'drag': 1318, 'consumed': 1319, 'waste': 1320, 'needs': 1321, 'messed': 1322, 'doors': 1323, 'ear': 1324, 'claim': 1325, 'chair': 1326, 'eat': 1327, 'pretend': 1328, 'illuminates': 1329, 'unknown': 1330, 'setting': 1331, 'momma': 1332, 'twisted': 1333, 'listens': 1334, 'strength': 1335, 'epect': 1336, 'bound': 1337, 'nowhere': 1338, 'starin': 1339, 'cards': 1340, 'sayin': 1341, 'porch': 1342, 'small': 1343, 'stumble': 1344, 'blank': 1345, 'sent': 1346, 'shook': 1347, 'terror': 1348, 'rapture': 1349, 'shoes': 1350, 'floats': 1351, 'rises': 1352, 'worries': 1353, 'papa': 1354, 'dangerous': 1355, 'bugging': 1356, 'poison': 1357, 'glow': 1358, 'crack': 1359, 'hardly': 1360, 'woods': 1361, 'letter': 1362, 'travel': 1363, 'roof': 1364, 'eleven': 1365, 'bottle': 1366, 'taken': 1367, 'flying': 1368, 'fires': 1369, 'forest': 1370, 'able': 1371, 'slam': 1372, 'glows': 1373, 'gears': 1374, 'destiny': 1375, 'carousel': 1376, 'twilight': 1377, 'zone': 1378, 'watchin': 1379, 'skull': 1380, 'fifteen': 1381, 'ink': 1382, 'slave': 1383, 'others': 1384, 'desire': 1385, 'married': 1386, 'magic': 1387, 'skip': 1388, 'champagne': 1389, 'rolled': 1390, 'notes': 1391, 'haunted': 1392, 'difficult': 1393, 'skydiving': 1394, 'rocky': 1395, 'seconds': 1396, 'bull': 1397, 'fumanchu': 1398, 'spoke': 1399, 'sweeter': 1400, 'denying': 1401, 'motherfuckin': 1402, 'harry': 1403, 'swearin': 1404, 'column': 1405, 'mark': 1406, 'seat': 1407, 'fat': 1408, 'killer': 1409, 'enemy': 1410, 'motherfucker': 1411, 'percent': 1412, 'finish': 1413, 'plastic': 1414, 'cups': 1415, 'magnet': 1416, 'bedsheets': 1417, 'peal': 1418, 'layers': 1419, 'communion': 1420, 'fellowship': 1421, 'mic': 1422, 'feeding': 1423, 'dice': 1424, 'miles': 1425, 'guaran': 1426, 'teed': 1427, 'cheating': 1428, 'months': 1429, 'screams': 1430, 'ugly': 1431, 'growing': 1432, 'eisted': 1433, 'greets': 1434, 'forgotten': 1435, 'sunlight': 1436, 'naked': 1437, 'lived': 1438, 'talked': 1439, 'tugging': 1440, 'understanding': 1441, 'revelation': 1442, 'daydream': 1443, 'bag': 1444, 'stripped': 1445, 'neither': 1446, 'worthwhile': 1447, 'november': 1448, 'bone': 1449, 'match': 1450, 'health': 1451, 'overseas': 1452, 'grant': 1453, 'rose': 1454, 'bruh': 1455, 'faithfulness': 1456, 'matters': 1457, 'valentine': 1458, 'sleeping': 1459, 'cruel': 1460, 'sounds': 1461, 'quest': 1462, 'opening': 1463, 'states': 1464, 'consciousness': 1465, 'tasted': 1466, 'k': 1467, 'teardrops': 1468, 'weary': 1469, 'spread': 1470, 'deny': 1471, 'younger': 1472, 'nah': 1473, 'grinding': 1474, 'hours': 1475, 'staying': 1476, 'ten': 1477, 'crossed': 1478, 'symphony': 1479, 'believes': 1480, 'pointing': 1481, 'fault': 1482, 'slip': 1483, 'champion': 1484, 'roar': 1485, 'louder': 1486, 'clearly': 1487, 'changing': 1488, 'knock': 1489, 'diamonds': 1490, 'july': 1491, 'insane': 1492, 'youth': 1493, 'rumors': 1494, 'yea': 1495, 'lesson': 1496, 'tension': 1497, 'hills': 1498, 'bela': 1499, 'lugosi': 1500, 'rattles': 1501, 'aye': 1502, 'firework': 1503, 'distance': 1504, 'fiery': 1505, 'mouth': 1506, 'sneak': 1507, 'lil': 1508, 'waters': 1509, 'sons': 1510, 'knife': 1511, 'liked': 1512, 'cuh': 1513, 'splash': 1514, 'bling': 1515, 'wagwan': 1516, 'wet': 1517, 'gyal': 1518, 'blaow': 1519, 'machine': 1520, 'cover': 1521, 'trace': 1522, 'heartbeat': 1523, 'capital': 1524, 'overwhelmed': 1525, 'spring': 1526, 'ceiling': 1527, 'monarch': 1528, 'benefit': 1529, 'millions': 1530, 'achieve': 1531, 'praying': 1532, 'pathetic': 1533, 'bittersweet': 1534, 'sey': 1535, 'flaunt': 1536, 'frightened': 1537, 'changed': 1538, 'sinking': 1539, 'shall': 1540, 'dumb': 1541, 'ok': 1542, 'amazing': 1543, 'strip': 1544, 'conscious': 1545, 'thunder': 1546, 'chika': 1547, 'legs': 1548, 'simple': 1549, 'guard': 1550, 'painted': 1551, 'spoken': 1552, 'flies': 1553, 'master': 1554, 'kid': 1555, 'prove': 1556, 'midnight': 1557, 'chasing': 1558, 'chances': 1559, 'neon': 1560, 'bummer': 1561, 'tantrum': 1562, 'insanity': 1563, 'coast': 1564, 'blessed': 1565, 'blessing': 1566, 'bid': 1567, 'check': 1568, 'nevertheless': 1569, 'grip': 1570, 'corner': 1571, 'mauntains': 1572, 'sunset': 1573, 'compare': 1574, 'melody': 1575, 'resist': 1576, 'solo': 1577, 'teardrop': 1578, 'working': 1579, 'daydreaming': 1580, 'lane': 1581, 'reading': 1582, 'surface': 1583, 'senses': 1584, 'dragging': 1585, 'goodnight': 1586, 'sheriff': 1587, 'west': 1588, 'virginia': 1589, 'choke': 1590, 'talkin': 1591, 'tragedy': 1592, 'tunisia': 1593, 'building': 1594, 'fan': 1595, 'blazes': 1596, 'hmm': 1597, 'spill': 1598, 'devoid': 1599, 'badge': 1600, 'knocking': 1601, 'bomb': 1602, 'racks': 1603, 'shaq': 1604, 'height': 1605, 'jewelry': 1606, 'flashlight': 1607, 'pussy': 1608, 'plus': 1609, 'storms': 1610, 'surrounding': 1611, 'lightning': 1612, 'rushes': 1613, 'movies': 1614, 'movement': 1615, 'shiver': 1616, 'daylight': 1617, 'muse': 1618, 'silhouettes': 1619, 'poems': 1620, 'shoulder': 1621, 'reasoned': 1622, 'polite': 1623, 'lessons': 1624, 'escaped': 1625, 'seventeen': 1626, 'tambourine': 1627, 'jive': 1628, 'digging': 1629, 'football': 1630, 'coca': 1631, 'cola': 1632, 'sights': 1633, 'recall': 1634, 'sidewalk': 1635, 'innocent': 1636, 'bold': 1637, 'stared': 1638, 'tremble': 1639, 'messing': 1640, 'smiled': 1641, 'doorstep': 1642, 'message': 1643, 'reaction': 1644, 'castaway': 1645, 'tidal': 1646, 'treated': 1647, 'esteemed': 1648, 'todays': 1649, 'tomorrows': 1650, 'paved': 1651, 'infinite': 1652, 'possible': 1653, 'rainfall': 1654, 'th': 1655, 'month': 1656, 'personal': 1657, 'circle': 1658, 'posture': 1659, 'distill': 1660, 'anemic': 1661, 'royalty': 1662, 'satisfied': 1663, 'doorway': 1664, 'bullets': 1665, 'literally': 1666, 'armor': 1667, 'destroy': 1668, 'bites': 1669, 'smash': 1670, 'sofa': 1671, 'kick': 1672, 'rainbow': 1673, 'tune': 1674, 'reflection': 1675, 'flashing': 1676, 'billion': 1677, 'galaies': 1678, 'vapour': 1679, 'planets': 1680, 'form': 1681, 'signal': 1682, 'creation': 1683, 'praises': 1684, 'december': 1685, 'cars': 1686, 'stumbling': 1687, 'bars': 1688, 'tattoo': 1689, 'blindly': 1690, 'subliminal': 1691, 'chaos': 1692, 'peeps': 1693, 'shorty': 1694, 'devils': 1695, 'asunder': 1696, 'imposing': 1697, 'slumber': 1698, 'bells': 1699, 'chime': 1700, 'sacrificing': 1701, 'entrance': 1702, 'shrine': 1703, 'hammering': 1704, 'clandestine': 1705, 'woke': 1706, 'boast': 1707, 'sail': 1708, 'pledge': 1709, 'flowering': 1710, 'weeping': 1711, 'scale': 1712, 'valleys': 1713, 'graced': 1714, 'chased': 1715, 'lowly': 1716, 'source': 1717, 'thicker': 1718, 'rescue': 1719, 'lifeline': 1720, 'joke': 1721, 'blessings': 1722, 'tan': 1723, 'ipanema': 1724, 'walks': 1725, 'samba': 1726, 'swings': 1727, 'sways': 1728, 'lied': 1729, 'acted': 1730, 'soft': 1731, 'dust': 1732, 'damage': 1733, 'knot': 1734, 'asleep': 1735, 'lonley': 1736, 'shade': 1737, 'wanderer': 1738, 'traveling': 1739, 'distant': 1740, 'return': 1741, 'humans': 1742, 'swans': 1743, 'burden': 1744, 'witness': 1745, 'heartless': 1746, 'disease': 1747, 'neglect': 1748, 'alter': 1749, 'moods': 1750, 'dropped': 1751, 'stopped': 1752, 'parties': 1753, 'ambitions': 1754, 'intends': 1755, 'overflowed': 1756, 'advantage': 1757, 'constantly': 1758, 'frustrated': 1759, 'moved': 1760, 'channel': 1761, 'productive': 1762, 'impress': 1763, 'pocket': 1764, 'none': 1765, 'bitterness': 1766, 'departed': 1767, 'drum': 1768, 'drawing': 1769, 'hoes': 1770, 'g': 1771, 'bentley': 1772, 'beamer': 1773, 'rolls': 1774, 'sip': 1775, 'semi': 1776, 'cops': 1777, 'snitch': 1778, 'holdin': 1779, 'grudge': 1780, 'judge': 1781, 'thug': 1782, 'ho': 1783, 'bro': 1784, 'snakes': 1785, 'starve': 1786, 'drugs': 1787, 'jail': 1788, 'hopped': 1789, 'dodging': 1790, 'chopper': 1791, 'murder': 1792, 'spree': 1793, 'slippin': 1794, 'gin': 1795, 'plenty': 1796, 'gym': 1797, 'timbs': 1798, 'cabs': 1799, 'depressed': 1800, 'clout': 1801, 'plottin': 1802, 'drownin': 1803, 'script': 1804, 'flicks': 1805, 'rekindle': 1806, 'fle': 1807, 'ante': 1808, 'block': 1809, 'trusted': 1810, 'ruin': 1811, 'rusted': 1812, 'rubbed': 1813, 'salt': 1814, 'entire': 1815, 'compares': 1816, 'kong': 1817, 'rocks': 1818, 'practice': 1819, 'book': 1820, 'brightest': 1821, 'sunsets': 1822, 'downtown': 1823, 'dragon': 1824, 'allegiance': 1825, 'fickle': 1826, 'minded': 1827, 'shiny': 1828, 'features': 1829, 'willing': 1830, 'compete': 1831, 'inbetween': 1832, 'bruised': 1833, 'carpet': 1834, 'scars': 1835, 'marks': 1836, 'etched': 1837, 'petrichor': 1838, 'blinding': 1839, 'tunnels': 1840, 'clasped': 1841, 'hint': 1842, 'spark': 1843, 'seek': 1844, 'allow': 1845, 'craving': 1846, 'tripping': 1847, 'fresh': 1848, 'failure': 1849, 'odds': 1850, 'favor': 1851, 'ahold': 1852, 'glasses': 1853, 'ecept': 1854, 'bedroom': 1855, 'hooray': 1856, 'ecellent': 1857, 'wishng': 1858, 'fundamental': 1859, 'apply': 1860, 'rely': 1861, 'covers': 1862, 'serenade': 1863, 'major': 1864, 'piano': 1865, 'keys': 1866, 'sobber': 1867, 'someoen': 1868, 'cheated': 1869, 'guided': 1870, 'wiser': 1871, 'finding': 1872, 'coffee': 1873, 'pouring': 1874, 'movie': 1875, 'woah': 1876, 'hungered': 1877, 'speed': 1878, 'hues': 1879, 'greens': 1880, 'surround': 1881, 'envy': 1882, 'fearing': 1883, 'soar': 1884, 'album': 1885, 'plaque': 1886, 'nicki': 1887, 'pop': 1888, 'bieber': 1889, 'queer': 1890, 'madea': 1891, 'sue': 1892, 'nas': 1893, 'hood': 1894, 'doobie': 1895, 'imitation': 1896, 'peacefull': 1897, 'soothe': 1898, 'voices': 1899, 'sum': 1900, 'stayin': 1901, 'order': 1902, 'pad': 1903, 'thai': 1904, 'noon': 1905, 'bathtub': 1906, 'bubbles': 1907, 'bubbly': 1908, 'dripped': 1909, 'fits': 1910, 'neck': 1911, 'highest': 1912, 'badly': 1913, 'mercies': 1914, 'knives': 1915, 'swords': 1916, 'weapons': 1917, 'knocked': 1918, 'chalkboard': 1919, 'wounded': 1920, 'subliminally': 1921, 'eciting': 1922, 'rains': 1923, 'pours': 1924, 'core': 1925, 'collect': 1926, 'relive': 1927, 'ghouls': 1928, 'pound': 1929, 'jealous': 1930, 'tree': 1931, 'bending': 1932, 'sudden': 1933, 'unaware': 1934, 'afflictions': 1935, 'eclipsed': 1936, 'affections': 1937, 'yellin': 1938, 'sugarboo': 1939, 'milky': 1940, 'renegading': 1941, 'daze': 1942, 'depression': 1943, 'traumatic': 1944, 'stressing': 1945, 'suppressing': 1946, 'simultaneously': 1947, 'obliterates': 1948, 'disintegrates': 1949, 'annihilates': 1950, 'cheater': 1951, 'non': 1952, 'believer': 1953, 'grief': 1954, 'ecstasy': 1955, 'drowning': 1956, 'bulletproof': 1957, 'solid': 1958, 'jewel': 1959, 'satisfy': 1960, 'bark': 1961, 'bite': 1962, 'dirty': 1963, 'scheming': 1964, 'totally': 1965, 'usually': 1966, 'tches': 1967, 'jealousy': 1968, 'incurable': 1969, 'ailment': 1970, 'asia': 1971, 'relocates': 1972, 'continent': 1973, 'remain': 1974, 'butt': 1975, 'pardon': 1976, 'using': 1977, 'naivety': 1978, 'sane': 1979, 'curtains': 1980, 'pulls': 1981, 'reached': 1982, 'friendly': 1983, 'creepin': 1984, 'actin': 1985, 'altar': 1986, 'precious': 1987, 'christ': 1988, 'trade': 1989, 'prescription': 1990, 'pills': 1991, 'thanking': 1992, 'pour': 1993, 'dealin': 1994, 'breakdown': 1995, 'therapist': 1996, 'somethin': 1997, 'route': 1998, 'clean': 1999, 'yard': 2000, 'grabbin': 2001, 'keepsakes': 2002, 'burdens': 2003, 'concerns': 2004, 'cues': 2005, 'blurry': 2006, 'prolly': 2007, 'sympathy': 2008, 'creeping': 2009, 'sign': 2010, 'scent': 2011, 'lingers': 2012, 'temptation': 2013, 'hardened': 2014, 'passin': 2015, 'barcelona': 2016, 'sounding': 2017, 'aside': 2018, 'seasons': 2019, 'rude': 2020, 'rendevue': 2021, 'knuckles': 2022, 'wise': 2023, 'homie': 2024, 'size': 2025, 'ay': 2026, 'ducking': 2027, 'cameras': 2028, 'traffic': 2029, 'canvas': 2030, 'savage': 2031, 'ravage': 2032, 'flein': 2033, 'muhammad': 2034, 'shooting': 2035, 'rubber': 2036, 'tommy': 2037, 'juice': 2038, 'innocense': 2039, 'forsaken': 2040, 'aches': 2041, 'surrenders': 2042, 'solitude': 2043, 'unity': 2044, 'betrayed': 2045, 'bore': 2046, 'ghosts': 2047, 'poisoned': 2048, 'unfamiliar': 2049, 'stringing': 2050, 'dim': 2051, 'placing': 2052, 'suffer': 2053, 'fights': 2054, 'slamming': 2055, 'magnifying': 2056, 'flaws': 2057, 'eyelashes': 2058, 'medical': 2059, 'advances': 2060, 'hamburger': 2061, 'laying': 2062, 'proping': 2063, 'tubes': 2064, 'towards': 2065, 'brushing': 2066, 'groove': 2067, 'delicate': 2068, 'ego': 2069, 'tone': 2070, 'complaining': 2071, 'eighteen': 2072, 'school': 2073, 'specific': 2074, 'earthlings': 2075, 'planet': 2076, 'ment': 2077, 'dreamt': 2078, 'wife': 2079, 'satin': 2080, 'epectations': 2081, 'chained': 2082, 'dropping': 2083, 'saving': 2084, 'gambler': 2085, 'boredom': 2086, 'overtook': 2087, 'readin': 2088, 'knowin': 2089, 'whiskey': 2090, 'advice': 2091, 'address': 2092, 'evidence': 2093, 'screen': 2094, 'splintered': 2095, 'battered': 2096, 'shortcut': 2097, 'followed': 2098, 'stares': 2099, 'shakespeare': 2100, 'everytime': 2101, 'teenager': 2102, 'hysteric': 2103, 'uncomfortably': 2104, 'oblivion': 2105, 'verge': 2106, 'slipped': 2107, 'refuse': 2108, 'rescued': 2109, 'chosen': 2110, 'landscape': 2111, 'bewitched': 2112, 'masquers': 2113, 'bergamaskers': 2114, 'lute': 2115, 'fanciful': 2116, 'disguises': 2117, 'conquering': 2118, 'favours': 2119, 'fortune': 2120, 'mingles': 2121, 'sets': 2122, 'fountains': 2123, 'sobbing': 2124, 'svelte': 2125, 'amid': 2126, 'marble': 2127, 'statues': 2128, 'paying': 2129, 'dues': 2130, 'worn': 2131, 'broadway': 2132, 'ol': 2133, 'deck': 2134, 'stacked': 2135, 'dig': 2136, 'graves': 2137, 'caution': 2138, 'hangs': 2139, 'crashing': 2140, 'straighten': 2141, 'depths': 2142, 'serenity': 2143, 'environment': 2144, 'peacefully': 2145, 'saul': 2146, 'attain': 2147, 'fondly': 2148, 'beware': 2149, 'eager': 2150, 'combine': 2151, 'fascination': 2152, 'steps': 2153, 'crap': 2154, 'knowledge': 2155, 'bothering': 2156, 'forcing': 2157, 'silver': 2158, 'wing': 2159, 'nova': 2160, 'castle': 2161, 'cutting': 2162, 'served': 2163, 'dumps': 2164, 'mud': 2165, 'assumes': 2166, 'recognize': 2167, 'stumbled': 2168, 'onlyness': 2169, 'decided': 2170, 'fury': 2171, 'proof': 2172, 'teddy': 2173, 'sniffing': 2174, 'glue': 2175, 'twelve': 2176, 'east': 2177, 'cathy': 2178, 'reds': 2179, 'bobby': 2180, 'leukemia': 2181, 'fourteen': 2182, 'sity': 2183, 'fizzing': 2184, 'shaken': 2185, 'openly': 2186, 'sly': 2187, 'upside': 2188, 'downward': 2189, 'spiral': 2190, 'disguise': 2191, 'chastise': 2192, 'borrow': 2193, 'bottles': 2194, 'promised': 2195, 'adored': 2196, 'sang': 2197, 'chorus': 2198, 'fails': 2199, 'faithful': 2200, 'footprint': 2201, 'isolation': 2202, 'howling': 2203, 'swirling': 2204, 'conceal': 2205, 'hidden': 2206, 'persevere': 2207, 'slowed': 2208, 'switch': 2209, 'mold': 2210, 'privacy': 2211, 'healthy': 2212, 'cared': 2213, 'bathroom': 2214, 'unaffected': 2215, 'yellow': 2216, 'flat': 2217, 'pony': 2218, 'wildfire': 2219, 'whirlwind': 2220, 'nebraska': 2221, 'dragged': 2222, 'acquaintance': 2223, 'severed': 2224, 'endeavor': 2225, 'numbers': 2226, 'haunting': 2227, 'yearning': 2228, 'drenched': 2229, 'replaceable': 2230, 'settled': 2231, 'uninvited': 2232, 'hoped': 2233, 'reminded': 2234, 'lasts': 2235, 'dudes': 2236, 'demonstrate': 2237, 'foreplay': 2238, 'stunnin': 2239, 'designer': 2240, 'row': 2241, 'fashion': 2242, 'prenups': 2243, 'homes': 2244, 'surrounded': 2245, 'fist': 2246, 'colder': 2247, 'forsake': 2248, 'unending': 2249, 'gotto': 2250, 'repeats': 2251, 'succeed': 2252, 'player': 2253, 'stingy': 2254, 'cher': 2255, 'lend': 2256, 'pretendin': 2257, 'genital': 2258, 'area': 2259, 'original': 2260, 'richard': 2261, 'ramirez': 2262, 'christian': 2263, 'rivera': 2264, 'lyrics': 2265, 'paraplegic': 2266, 'scary': 2267, 'tom': 2268, 'merriam': 2269, 'dictionary': 2270, 'hilarious': 2271, 'obituary': 2272, 'shaft': 2273, 'steering': 2274, 'petes': 2275, 'mai': 2276, 'attracts': 2277, 'gangster': 2278, 'apache': 2279, 'catchy': 2280, 'jingle': 2281, 'eaten': 2282, 'cheeto': 2283, 'venom': 2284, 'eliminate': 2285, 'maid': 2286, 'murderin': 2287, 'evade': 2288, 'dump': 2289, 'obliteratin': 2290, 'incineratin': 2291, 'renegade': 2292, 'beginnin': 2293, 'ill': 2294, 'atilla': 2295, 'vanilla': 2296, 'gorilla': 2297, 'bringin': 2298, 'recieving': 2299, 'stupidity': 2300, 'epitome': 2301, 'spitter': 2302, 'vicinity': 2303, 'duck': 2304, 'fifth': 2305, 'unfadable': 2306, 'available': 2307, 'blowin': 2308, 'inflatable': 2309, 'undebatable': 2310, 'unavoidable': 2311, 'unevadable': 2312, 'present': 2313, 'contain': 2314, 'club': 2315, 'shots': 2316, 'van': 2317, 'jukebo': 2318, 'handmade': 2319, 'grab': 2320, 'discovering': 2321, 'griefs': 2322, 'privilege': 2323, 'often': 2324, 'forfeit': 2325, 'fans': 2326, 'comple': 2327, 'stomping': 2328, 'international': 2329, 'sand': 2330, 'elephant': 2331, 'quench': 2332, 'thirst': 2333, 'toward': 2334, 'irate': 2335, 'bags': 2336, 'serious': 2337, 'search': 2338, 'epensive': 2339, 'rings': 2340, 'puppet': 2341, 'string': 2342, 'cope': 2343, 'fairy': 2344, 'tale': 2345, 'wicked': 2346, 'unwanted': 2347, 'uneven': 2348, 'remembers': 2349, 'bet': 2350, 'im': 2351, 'felling': 2352, 'trow': 2353, 'depest': 2354, 'snows': 2355, 'jokes': 2356, 'stole': 2357, 'painter': 2358, 'pants': 2359, 'charging': 2360, 'craggy': 2361, 'thrift': 2362, 'store': 2363, 'coy': 2364, 'attics': 2365, 'corso': 2366, 'mc': 2367, 'salvation': 2368, 'declare': 2369, 'offer': 2370, 'completely': 2371, 'scoop': 2372, 'unzip': 2373, 'rhythm': 2374, 'vision': 2375, 'thats': 2376, 'delighted': 2377, 'unmistakable': 2378, 'unmistakeable': 2379, 'sighing': 2380, 'sweating': 2381, 'surrendering': 2382, 'union': 2383, 'avenue': 2384, 'repay': 2385, 'gravel': 2386, 'barrel': 2387, 'los': 2388, 'angeles': 2389, 'scam': 2390, 'sleeps': 2391, 'cliftons': 2392, 'warmer': 2393, 'deserves': 2394, 'gentleman': 2395, 'fearless': 2396, 'astray': 2397, 'jaded': 2398, 'mysteries': 2399, 'legend': 2400, 'chippewa': 2401, 'gitche': 2402, 'gumee': 2403, 'gloomy': 2404, 'iron': 2405, 'ore': 2406, 'tons': 2407, 'edmund': 2408, 'fitzgerald': 2409, 'weighed': 2410, 'ship': 2411, 'chewed': 2412, 'gales': 2413, 'panic': 2414, 'bloodstream': 2415, 'stutter': 2416, 'violence': 2417, 'gloom': 2418, 'collapse': 2419, 'prize': 2420, 'strangers': 2421, 'tire': 2422, 'currents': 2423, 'warned': 2424, 'tour': 2425, 'learns': 2426, 'indeed': 2427, 'blest': 2428, 'delight': 2429, 'bled': 2430, 'stands': 2431, 'failed': 2432, 'worlds': 2433, 'drifting': 2434, 'simply': 2435, 'february': 2436, 'tattooed': 2437, 'charm': 2438, 'disarm': 2439, 'tours': 2440, 'cuts': 2441, 'pretending': 2442, 'hallucinations': 2443, 'mauntain': 2444, 'obsessive': 2445, 'selective': 2446, 'agressive': 2447, 'offensive': 2448, 'siteen': 2449, 'dealing': 2450, 'ought': 2451, 'wipe': 2452, 'invited': 2453, 'famous': 2454, 'drew': 2455, 'artist': 2456, 'art': 2457, 'helpless': 2458, 'cave': 2459, 'spilled': 2460, 'intention': 2461, 'spreads': 2462, 'perfume': 2463, 'absurd': 2464, 'choked': 2465, 'band': 2466, 'float': 2467, 'unrelenting': 2468, 'deception': 2469, 'hesitation': 2470, 'oasis': 2471, 'awaits': 2472, 'healing': 2473, 'california': 2474, 'difference': 2475, 'cease': 2476, 'limit': 2477, 'overcomplicate': 2478, 'medicate': 2479, 'fabricated': 2480, 'wilding': 2481, 'interrupting': 2482, 'ticking': 2483, 'fritter': 2484, 'offhand': 2485, 'kicking': 2486, 'hometown': 2487, 'everglades': 2488, 'greener': 2489, 'yesterdays': 2490, 'stones': 2491, 'photos': 2492, 'darkroom': 2493, 'arc': 2494, 'furthest': 2495, 'edges': 2496, 'towering': 2497, 'unkind': 2498, 'compose': 2499, 'deeply': 2500, 'tastes': 2501, 'motions': 2502, 'stomach': 2503, 'wannna': 2504, 'beloved': 2505, 'rosy': 2506, 'mirror': 2507, 'feathered': 2508, 'opportunity': 2509, 'stoned': 2510, 'bourgeois': 2511, 'coughing': 2512, 'promethazine': 2513, 'evergreen': 2514, 'selena': 2515, 'kissing': 2516, 'emily': 2517, 'melts': 2518, 'crippled': 2519, 'vein': 2520, 'definitely': 2521, 'slipping': 2522, 'guiding': 2523, 'evermore': 2524, 'toys': 2525, 'presents': 2526, 'tiger': 2527, 'fighter': 2528, 'lion': 2529, 'scandalous': 2530, 'whether': 2531, 'agree': 2532, 'comin': 2533, 'shinin': 2534, 'noses': 2535, 'safety': 2536, 'appeared': 2537, 'tightrope': 2538, 'scare': 2539, 'cheek': 2540, 'brilliant': 2541, 'bel': 2542, 'mid': 2543, 'wild': 2544, 'stage': 2545, 'channeling': 2546, 'electric': 2547, 'drive': 2548, 'livin': 2549, 'government': 2550, 'cursed': 2551, 'tends': 2552, 'fantastic': 2553, 'natural': 2554, 'toes': 2555, 'elastic': 2556, 'reputation': 2557, 'demonstration': 2558, 'buy': 2559, 'forgot': 2560, 'mention': 2561, 'dimensions': 2562, 'perfection': 2563, 'grope': 2564, 'linen': 2565, 'strips': 2566, 'ribbon': 2567, 'scaled': 2568, 'buildin': 2569, 'prison': 2570, 'virginal': 2571, 'brides': 2572, 'file': 2573, 'tomb': 2574, 'strewn': 2575, 'bereft': 2576, 'drought': 2577, 'kings': 2578, 'queens': 2579, 'seeking': 2580, 'ohh': 2581, 'fourth': 2582, 'wizard': 2583, 'bewitchin': 2584, 'eclusive': 2585, 'intense': 2586, 'asteroid': 2587, 'discreet': 2588, 'dodge': 2589, 'tabloids': 2590, 'consider': 2591, 'mighty': 2592, 'forests': 2593, 'lettin': 2594, 'slide': 2595, 'dissin': 2596, 'rhymes': 2597, 'peers': 2598, 'ears': 2599, 'anger': 2600, 'bautiful': 2601, 'lovingly': 2602, 'conversations': 2603, 'drifted': 2604, 'seduced': 2605, 'fathers': 2606, 'daughters': 2607, 'mothers': 2608, 'writing': 2609, 'arrive': 2610, 'hospital': 2611, 'grand': 2612, 'planned': 2613, 'tragical': 2614, 'summertime': 2615, 'pale': 2616, 'style': 2617, 'heels': 2618, 'telephone': 2619, 'wires': 2620, 'sizzling': 2621, 'snare': 2622, 'scares': 2623, 'bill': 2624, 'un': 2625, 'zip': 2626, 'redefine': 2627, 'says': 2628, 'trash': 2629, 'tekashi': 2630, 'wishy': 2631, 'washy': 2632, 'thinks': 2633, 'washed': 2634, 'favorite': 2635, 'rapper': 2636, 'blanket': 2637, 'lullabies': 2638, 'pisces': 2639, 'locked': 2640, 'shaped': 2641, 'bo': 2642, 'drawn': 2643, 'tar': 2644, 'pit': 2645, 'trap': 2646, 'cancer': 2647, 'gladness': 2648, 'brown': 2649, 'h': 2650, 'paws': 2651, 'superstars': 2652, 'lipstick': 2653, 'boudoir': 2654, 'vibe': 2655, 'foresee': 2656, 'happening': 2657, 'hating': 2658, 'among': 2659, 'jupiter': 2660, 'mars': 2661, 'idea': 2662, 'auschwitz': 2663, 'immense': 2664, 'decay': 2665, 'showers': 2666, 'cleanse': 2667, 'forced': 2668, 'cattle': 2669, 'mice': 2670, 'sadistic': 2671, 'surgeon': 2672, 'demise': 2673, 'sadist': 2674, 'noblest': 2675, 'destroying': 2676, 'aryan': 2677, 'surgery': 2678, 'anesthesia': 2679, 'pierce': 2680, 'intensely': 2681, 'inferior': 2682, 'mankind': 2683, 'strapped': 2684, 'infamous': 2685, 'butcher': 2686, 'pumped': 2687, 'fluid': 2688, 'begins': 2689, 'pushing': 2690, 'drips': 2691, 'boil': 2692, 'frigid': 2693, 'cracks': 2694, 'limbs': 2695, 'burial': 2696, 'sewn': 2697, 'joining': 2698, 'laid': 2699, 'crowded': 2700, 'tombs': 2701, 'sickening': 2702, 'holocaust': 2703, 'abacinate': 2704, 'injecting': 2705, 'cells': 2706, 'mutant': 2707, 'creating': 2708, 'harmless': 2709, 'rancid': 2710, 'possessed': 2711, 'bearing': 2712, 'curse': 2713, 'noho': 2714, 'tais': 2715, 'risk': 2716, 'kindness': 2717, 'onto': 2718, 'branch': 2719, 'treating': 2720, 'pawns': 2721, 'chess': 2722, 'judgement': 2723, 'pigs': 2724, 'struck': 2725, 'freaky': 2726, 'brag': 2727, 'saturday': 2728, 'spot': 2729, 'needle': 2730, 'familiar': 2731, 'sting': 2732, 'sweetest': 2733, 'empire': 2734, 'sometime': 2735, 'whispering': 2736, 'gambling': 2737, 'backtrack': 2738, 'thigh': 2739, 'believed': 2740, 'swallows': 2741, 'freezing': 2742, 'limb': 2743, 'follower': 2744, 'staple': 2745, 'tongue': 2746, 'cannibal': 2747, 'suit': 2748, 'selling': 2749, 'burdened': 2750, 'stormy': 2751, 'kneel': 2752, 'glorified': 2753, 'owns': 2754, 'crashed': 2755, 'unturned': 2756, 'stepped': 2757, 'shouldered': 2758, 'cries': 2759, 'hook': 2760, 'drama': 2761, 'emotion': 2762, 'ehausted': 2763, 'closest': 2764, 'ashamed': 2765, 'knelt': 2766, 'vegas': 2767, 'threatens': 2768, 'warmth': 2769, 'beside': 2770, 'direction': 2771, 'um': 2772, 'cure': 2773, 'satellites': 2774, 'split': 2775, 'lungs': 2776, 'whale': 2777, 'backs': 2778, 'oars': 2779, 'prevail': 2780, 'ivory': 2781, 'leg': 2782, 'propels': 2783, 'harpoons': 2784, 'thrust': 2785, 'directly': 2786, 'brow': 2787, 'hi': 2788, 'slim': 2789, 'epected': 2790, 'flew': 2791, 'paradise': 2792, 'amends': 2793, 'unravelling': 2794, 'undone': 2795, 'shepherd': 2796, 'priest': 2797, 'comforter': 2798, 'comforts': 2799, 'neighbors': 2800, 'generations': 2801, 'nation': 2802, 'madly': 2803, 'coats': 2804, 'carnival': 2805, 'ferris': 2806, 'epiration': 2807, 'page': 2808, 'owl': 2809, 'crossroads': 2810, 'candle': 2811, 'chant': 2812, 'incense': 2813, 'hekate': 2814, 'invoke': 2815, 'reverb': 2816, 'backbeat': 2817, 'dot': 2818, 'detail': 2819, 'blaming': 2820, 'listening': 2821, 'rainy': 2822, 'haha': 2823, 'truly': 2824, 'stain': 2825, 'pavement': 2826, 'sacrifice': 2827, 'purest': 2828, 'loses': 2829, 'bonds': 2830, 'crumbling': 2831, 'pastries': 2832, 'upper': 2833, 'grams': 2834, 'pipe': 2835, 'motherland': 2836, 'sells': 2837, 'covered': 2838, 'hopin': 2839, 'seual': 2840, 'romancing': 2841, 'nasty': 2842, 'fancy': 2843, 'mona': 2844, 'lisa': 2845, 'nationality': 2846, 'tricks': 2847, 'fooled': 2848, 'fend': 2849, 'names': 2850, 'accept': 2851, 'nuts': 2852, 'purple': 2853, 'banana': 2854, 'truck': 2855, 'winning': 2856, 'wildcard': 2857, 'sleeve': 2858, 'lemons': 2859, 'mi': 2860, 'phrase': 2861, 'weapon': 2862, 'drug': 2863, 'outcast': 2864, 'backlash': 2865, 'lack': 2866, 'shadow': 2867, 'wins': 2868, 'cigarette': 2869, 'encountering': 2870, 'bowing': 2871, 'returning': 2872, 'uncontrolled': 2873, 'buzzing': 2874, 'stealing': 2875, 'puffed': 2876, 'girlfriend': 2877, 'seduce': 2878, 'lock': 2879, 'parting': 2880, 'bastard': 2881, 'lower': 2882, 'armageddon': 2883, 'certainly': 2884, 'vacation': 2885, 'circus': 2886, 'sideshow': 2887, 'freaks': 2888, 'flush': 2889, 'arizona': 2890, 'bay': 2891, 'ache': 2892, 'riding': 2893, 'scorching': 2894, 'gathered': 2895, 'hymn': 2896, 'taller': 2897, 'fulfill': 2898, 'law': 2899, 'prophets': 2900, 'virgin': 2901, 'cradle': 2902, 'frightening': 2903, 'birth': 2904, 'final': 2905, 'basement': 2906, 'dwells': 2907, 'invasive': 2908, 'kite': 2909, 'trampoline': 2910, 'hendersons': 2911, 'pablo': 2912, 'fanques': 2913, 'horses': 2914, 'hoops': 2915, 'garters': 2916, 'lastly': 2917, 'hogshead': 2918, 'challenge': 2919, 'buys': 2920, 'imagining': 2921, 'inappropriate': 2922, 'uncontrollably': 2923, 'lurking': 2924, 'freeze': 2925, 'horror': 2926, 'paralyzed': 2927, 'sigh': 2928, 'snowflakes': 2929, 'fallen': 2930, 'paths': 2931, 'fond': 2932, 'fed': 2933, 'thief': 2934, 'cigarettes': 2935, 'season': 2936, 'ticket': 2937, 'askin': 2938, 'takin': 2939, 'everythin': 2940, 'levitate': 2941, 'strive': 2942, 'bees': 2943, 'educated': 2944, 'fleas': 2945, 'celestial': 2946, 'shore': 2947, 'dare': 2948, 'keeping': 2949, 'losin': 2950, 'screamin': 2951, 'trip': 2952, 'sideways': 2953, 'tilt': 2954, 'apartment': 2955, 'dishes': 2956, 'disappointed': 2957, 'destruct': 2958, 'common': 2959, 'belongs': 2960, 'planning': 2961, 'dollars': 2962, 'headphone': 2963, 'factory': 2964, 'seven': 2965, 'images': 2966, 'motherfucking': 2967, 'insecurity': 2968, 'decision': 2969, 'plead': 2970, 'avoid': 2971, 'outdrew': 2972, 'crime': 2973, 'pilgrim': 2974, 'claims': 2975, 'resistance': 2976, 'bent': 2977, 'sellin': 2978, 'reconsider': 2979, 'passing': 2980, 'glance': 2981, 'mansion': 2982, 'lucidly': 2983, 'runs': 2984, 'wandered': 2985, 'patiently': 2986, 'vacancy': 2987, 'sunday': 2988, 'mornings': 2989, 'smiling': 2990, 'brokenhearted': 2991, 'bell': 2992, 'vow': 2993, 'stake': 2994, 'replace': 2995, 'golden': 2996, 'separate': 2997, 'hoo': 2998, 'reminding': 2999, 'blur': 3000, 'deceiving': 3001, 'believing': 3002, 'disguising': 3003, 'warping': 3004, 'seathing': 3005, 'graceless': 3006, 'heirs': 3007, 'intangible': 3008, 'toronto': 3009, 'hotel': 3010, 'spending': 3011, 'tets': 3012, 'superman': 3013, 'sweep': 3014, 'confront': 3015, 'sincere': 3016, 'flooding': 3017, 'seeming': 3018, 'faced': 3019, 'caused': 3020, 'force': 3021, 'desperately': 3022, 'clever': 3023, 'dancin': 3024, 'singin': 3025, 'movin': 3026, 'groovin': 3027, 'shouted': 3028, 'boogie': 3029, 'shift': 3030, 'eplanation': 3031, 'boss': 3032, 'hid': 3033, 'shelter': 3034, 'surprise': 3035, 'hazel': 3036, 'imagination': 3037, 'super': 3038, 'ladies': 3039, 'gray': 3040, 'reminds': 3041, 'unbreak': 3042, 'unsay': 3043, 'unburn': 3044, 'unchain': 3045, 'reactions': 3046, 'mourn': 3047, 'ridiculous': 3048, 'fabulous': 3049, 'haunt': 3050, 'mmm': 3051, 'seed': 3052, 'sown': 3053, 'obey': 3054, 'rows': 3055, 'enslave': 3056, 'eposed': 3057, 'enrage': 3058, 'joined': 3059, 'herd': 3060, 'adjust': 3061, 'wers': 3062, 'eagle': 3063, 'defeated': 3064, 'showin': 3065, 'atmosphere': 3066, 'silently': 3067, 'hoa': 3068, 'withhold': 3069, 'mysterious': 3070, 'plays': 3071, 'loudly': 3072, 'hailie': 3073, 'hecate': 3074, 'skeleton': 3075, 'claws': 3076, 'howl': 3077, 'buttons': 3078, 'blouse': 3079, 'emerald': 3080, 'balance': 3081, 'pulling': 3082, 'latching': 3083, 'coloring': 3084, 'quietly': 3085, 'hover': 3086, 'swallowed': 3087, 'devour': 3088, 'defense': 3089, 'offense': 3090, 'belief': 3091, 'ridge': 3092, 'shenandoah': 3093, 'growin': 3094, 'breeze': 3095, 'gather': 3096, 'miner': 3097, 'dusty': 3098, 'misty': 3099, 'moonshine': 3100, 'observe': 3101, 'trends': 3102, 'gaze': 3103, 'cheer': 3104, 'wines': 3105, 'satisfaction': 3106, 'plessure': 3107, 'desperate': 3108, 'spare': 3109, 'suck': 3110, 'chemicals': 3111, 'impossible': 3112, 'numbed': 3113, 'bleeds': 3114, 'nightfall': 3115, 'rug': 3116, 'stupid': 3117, 'bothered': 3118, 'persistence': 3119, 'lashing': 3120, 'standard': 3121, 'sympathize': 3122, 'violins': 3123, 'celebration': 3124, 'sickness': 3125, 'carried': 3126, 'triumph': 3127, 'amazed': 3128, 'cheers': 3129, 'aglow': 3130, 'vanish': 3131, 'dre': 3132, 'krinkle': 3133, 'sentimental': 3134, 'shared': 3135, 'asking': 3136, 'resent': 3137, 'brains': 3138, 'fighters': 3139, 'brainwashed': 3140, 'pollution': 3141, 'waits': 3142, 'ancient': 3143, 'void': 3144, 'shields': 3145, 'satan': 3146, 'slaves': 3147, 'pace': 3148, 'forth': 3149, 'unfair': 3150, 'wakes': 3151, 'tender': 3152, 'fools': 3153, 'sooner': 3154, 'later': 3155, 'fever': 3156, 'whose': 3157, 'primary': 3158, 'concern': 3159, 'illest': 3160, 'hustler': 3161, 'moviestars': 3162, 'sniff': 3163, 'corrupted': 3164, 'books': 3165, 'myths': 3166, 'achilles': 3167, 'hercules': 3168, 'gifts': 3169, 'spider': 3170, 'batman': 3171, 'fists': 3172, 'list': 3173, 'monotony': 3174, 'colour': 3175, 'greeted': 3176, 'blanks': 3177, 'drones': 3178, 'wolves': 3179, 'leader': 3180, 'scar': 3181, 'build': 3182, 'pictures': 3183, 'disconnecting': 3184, 'shh': 3185, 'comfort': 3186, 'bond': 3187, 'sends': 3188, 'shivers': 3189, 'spine': 3190, 'oooh': 3191, 'dive': 3192, 'ticks': 3193, 'relentlessly': 3194, 'clarity': 3195}\n"
          ]
        }
      ]
    },
    {
      "cell_type": "code",
      "source": [
        "train_sequences = tokenizer.texts_to_sequences(train_sentences)\n",
        "val_sequences = tokenizer.texts_to_sequences(val_sentences)"
      ],
      "metadata": {
        "id": "3_QkesC-UtJK"
      },
      "execution_count": 64,
      "outputs": []
    },
    {
      "cell_type": "code",
      "source": [
        "print(train_sentences[10:15])\n",
        "print(train_sequences[10:15])"
      ],
      "metadata": {
        "colab": {
          "base_uri": "https://localhost:8080/"
        },
        "id": "ZOseYRKgUwLi",
        "outputId": "56ae8d5c-9ba5-49ad-b6a3-026f175b47f4"
      },
      "execution_count": 65,
      "outputs": [
        {
          "output_type": "stream",
          "name": "stdout",
          "text": [
            "['never miss beat lightning feet see see dancing make moves go know know shake'\n",
            " 'memory feeling way blood rushes fingers movies cause lies issues cause mine every movement way shiver twist hair end fingers young daylight dream gone music meets song fell right wrong would come back one last song'\n",
            " 'skies blue tides high see moon think swim circles mind acting like muse paint picture head make silhouettes like poems never read write bed like love love love love'\n",
            " 'keep coming back coming back keep running round running round running round head certain things adore certain certain certain something get angry mercy like shoulder turn cause certain things mend us hanging dear life held tight'\n",
            " 'mess talking shit gonna push away say love make crazy go go look look eye really going away without fight reasoned done polite told one two three four five si thousand times made obvious made clear want spell f r e n made obvious made clear want spell f r e n f r e n']\n",
            "[[9, 139, 211, 1612, 703, 11, 11, 131, 28, 891, 4, 2, 2, 263], [603, 68, 20, 138, 1613, 467, 1614, 17, 377, 892, 17, 192, 27, 1615, 20, 1616, 893, 345, 105, 467, 247, 1617, 132, 86, 161, 1137, 71, 346, 31, 140, 75, 24, 34, 13, 116, 71], [531, 212, 1138, 177, 11, 248, 40, 532, 1139, 50, 894, 3, 1618, 1140, 1141, 63, 28, 1619, 3, 1620, 9, 1142, 378, 325, 3, 1, 1, 1, 1], [35, 213, 34, 213, 34, 35, 297, 283, 297, 283, 297, 283, 63, 533, 58, 1143, 533, 533, 533, 78, 7, 413, 414, 3, 1621, 96, 17, 533, 58, 1144, 65, 895, 704, 21, 415, 321], [604, 605, 284, 25, 416, 30, 10, 1, 28, 117, 4, 4, 72, 72, 468, 82, 141, 30, 83, 98, 1622, 118, 1623, 150, 13, 147, 466, 601, 469, 896, 417, 300, 91, 897, 91, 534, 18, 705, 706, 898, 899, 535, 91, 897, 91, 534, 18, 705, 706, 898, 899, 535, 706, 898, 899, 535]]\n"
          ]
        }
      ]
    },
    {
      "cell_type": "code",
      "source": [
        "# Pad the sequences to have the same length\n",
        "from tensorflow.keras.preprocessing.sequence import pad_sequences\n",
        "\n",
        "# Max number of words in a sequence\n",
        "max_length = 20\n",
        "\n",
        "train_padded = pad_sequences(train_sequences, maxlen=max_length, padding=\"post\", truncating=\"post\")\n",
        "val_padded = pad_sequences(val_sequences, maxlen=max_length, padding=\"post\", truncating=\"post\")\n",
        "train_padded.shape, val_padded.shape"
      ],
      "metadata": {
        "colab": {
          "base_uri": "https://localhost:8080/"
        },
        "id": "bPDkIjSkU4on",
        "outputId": "00ede96c-0aeb-4e02-fb27-8b89c7584235"
      },
      "execution_count": 66,
      "outputs": [
        {
          "output_type": "execute_result",
          "data": {
            "text/plain": [
              "((640, 20), (160, 20))"
            ]
          },
          "metadata": {},
          "execution_count": 66
        }
      ]
    },
    {
      "cell_type": "code",
      "source": [
        "train_padded[10]"
      ],
      "metadata": {
        "colab": {
          "base_uri": "https://localhost:8080/"
        },
        "id": "bbqM2Df1U9Ct",
        "outputId": "c9c886a1-ef1b-4611-953d-4fda1d184ce6"
      },
      "execution_count": 67,
      "outputs": [
        {
          "output_type": "execute_result",
          "data": {
            "text/plain": [
              "array([   9,  139,  211, 1612,  703,   11,   11,  131,   28,  891,    4,\n",
              "          2,    2,  263,    0,    0,    0,    0,    0,    0], dtype=int32)"
            ]
          },
          "metadata": {},
          "execution_count": 67
        }
      ]
    },
    {
      "cell_type": "code",
      "source": [
        "print(train_sentences[10])\n",
        "print(train_sequences[10])\n",
        "print(train_padded[10])"
      ],
      "metadata": {
        "colab": {
          "base_uri": "https://localhost:8080/"
        },
        "id": "75u7eFZrVBmP",
        "outputId": "a2737b2e-af68-47ee-9011-a755f85d35de"
      },
      "execution_count": 68,
      "outputs": [
        {
          "output_type": "stream",
          "name": "stdout",
          "text": [
            "never miss beat lightning feet see see dancing make moves go know know shake\n",
            "[9, 139, 211, 1612, 703, 11, 11, 131, 28, 891, 4, 2, 2, 263]\n",
            "[   9  139  211 1612  703   11   11  131   28  891    4    2    2  263\n",
            "    0    0    0    0    0    0]\n"
          ]
        }
      ]
    },
    {
      "cell_type": "code",
      "source": [
        "# Check reversing the indices\n",
        "\n",
        "# flip (key, value)\n",
        "reverse_word_index = dict([(idx, word) for (word, idx) in word_index.items()])\n",
        "print(reverse_word_index)"
      ],
      "metadata": {
        "colab": {
          "base_uri": "https://localhost:8080/"
        },
        "id": "gfyP2f19VGsE",
        "outputId": "88d2bb1e-5854-4f64-f62a-7468930e6d8a"
      },
      "execution_count": 69,
      "outputs": [
        {
          "output_type": "stream",
          "name": "stdout",
          "text": [
            "{1: 'love', 2: 'know', 3: 'like', 4: 'go', 5: 'oh', 6: 'let', 7: 'get', 8: 'baby', 9: 'never', 10: 'say', 11: 'see', 12: 'wanna', 13: 'one', 14: 'time', 15: 'need', 16: 'got', 17: 'cause', 18: 'want', 19: 'heart', 20: 'way', 21: 'life', 22: 'feel', 23: 'yeah', 24: 'come', 25: 'gonna', 26: 'take', 27: 'every', 28: 'make', 29: 'give', 30: 'away', 31: 'right', 32: 'still', 33: 'night', 34: 'back', 35: 'keep', 36: 'world', 37: 'could', 38: 'little', 39: 'tell', 40: 'think', 41: 'alone', 42: 'day', 43: 'everything', 44: 'dance', 45: 'said', 46: 'good', 47: 'try', 48: 'ever', 49: 'sing', 50: 'mind', 51: 'hold', 52: 'leave', 53: 'live', 54: 'find', 55: 'home', 56: 'even', 57: 'eyes', 58: 'things', 59: 'always', 60: 'well', 61: 'better', 62: 'put', 63: 'head', 64: 'tonight', 65: 'us', 66: 'light', 67: 'call', 68: 'feeling', 69: 'die', 70: 'girl', 71: 'song', 72: 'look', 73: 'lost', 74: 'lonely', 75: 'would', 76: 'place', 77: 'bad', 78: 'something', 79: 'inside', 80: 'hate', 81: 'around', 82: 'really', 83: 'without', 84: 'ooh', 85: 'fall', 86: 'gone', 87: 'people', 88: 'long', 89: 'nothing', 90: 'happy', 91: 'made', 92: 'friends', 93: 'thing', 94: 'pain', 95: 'hope', 96: 'turn', 97: 'stop', 98: 'fight', 99: 'hard', 100: 'stay', 101: 'rain', 102: 'stand', 103: 'hell', 104: 'hear', 105: 'end', 106: 'hey', 107: 'enough', 108: 'run', 109: 'alright', 110: 'nobody', 111: 'sorry', 112: 'living', 113: 'soul', 114: 'man', 115: 'god', 116: 'last', 117: 'crazy', 118: 'done', 119: 'free', 120: 'remember', 121: 'someone', 122: 'somebody', 123: 'show', 124: 'forever', 125: 'gotta', 126: 'broken', 127: 'words', 128: 'break', 129: 'much', 130: 'strong', 131: 'dancing', 132: 'dream', 133: 'best', 134: 'body', 135: 'dark', 136: 'face', 137: 'name', 138: 'blood', 139: 'miss', 140: 'wrong', 141: 'going', 142: 'sun', 143: 'wish', 144: 'hand', 145: 'far', 146: 'goodbye', 147: 'two', 148: 'smile', 149: 'left', 150: 'told', 151: 'found', 152: 'kiss', 153: 'play', 154: 'side', 155: 'sometimes', 156: 'save', 157: 'heaven', 158: 'maybe', 159: 'though', 160: 'together', 161: 'music', 162: 'sweet', 163: 'lay', 164: 'alive', 165: 'new', 166: 'falling', 167: 'else', 168: 'touch', 169: 'comes', 170: 'anymore', 171: 'fire', 172: 'hurt', 173: 'dead', 174: 'close', 175: 'believe', 176: 'cold', 177: 'high', 178: 'dreams', 179: 'walk', 180: 'care', 181: 'late', 182: 'til', 183: 'sky', 184: 'old', 185: 'cry', 186: 'angel', 187: 'fuck', 188: 'lord', 189: 'afraid', 190: 'thinking', 191: 'worry', 192: 'mine', 193: 'knew', 194: 'please', 195: 'feels', 196: 'looking', 197: 'came', 198: 'em', 199: 'used', 200: 'might', 201: 'guess', 202: 'may', 203: 'sad', 204: 'real', 205: 'waiting', 206: 'true', 207: 'open', 208: 'fear', 209: 'okay', 210: 'bring', 211: 'beat', 212: 'blue', 213: 'coming', 214: 'hands', 215: 'loved', 216: 'friend', 217: 'trying', 218: 'death', 219: 'beautiful', 220: 'first', 221: 'peace', 222: 'thought', 223: 'talk', 224: 'stars', 225: 'behind', 226: 'apart', 227: 'promise', 228: 'days', 229: 'seen', 230: 'help', 231: 'start', 232: 'ride', 233: 'goes', 234: 'took', 235: 'everybody', 236: 'dying', 237: 'chance', 238: 'jesus', 239: 'hide', 240: 'moment', 241: 'sleep', 242: 'wanted', 243: 'tired', 244: 'rock', 245: 'work', 246: 'ah', 247: 'young', 248: 'moon', 249: 'another', 250: 'loving', 251: 'truth', 252: 'gave', 253: 'carry', 254: 'mean', 255: 'bitch', 256: 'deep', 257: 'move', 258: 'pull', 259: 'tears', 260: 'memories', 261: 'seems', 262: 'party', 263: 'shake', 264: 'matter', 265: 'along', 266: 'watch', 267: 'wall', 268: 'morning', 269: 'word', 270: 'follow', 271: 'laugh', 272: 'years', 273: 'lie', 274: 'burn', 275: 'wait', 276: 'space', 277: 'control', 278: 'holding', 279: 'fly', 280: 'since', 281: 'today', 282: 'reason', 283: 'round', 284: 'shit', 285: 'crying', 286: 'water', 287: 'ready', 288: 'family', 289: 'forget', 290: 'tomorrow', 291: 'missing', 292: 'lose', 293: 'worth', 294: 'boy', 295: 'ground', 296: 'went', 297: 'running', 298: 'burning', 299: 'knows', 300: 'times', 301: 'known', 302: 'sure', 303: 'darkness', 304: 'lead', 305: 'change', 306: 'arms', 307: 'swear', 308: 'air', 309: 'drink', 310: 'stranger', 311: 'kill', 312: 'kind', 313: 'harder', 314: 'must', 315: 'lights', 316: 'u', 317: 'perfect', 318: 'losing', 319: 'set', 320: 'makes', 321: 'tight', 322: 'broke', 323: 'getting', 324: 'singing', 325: 'bed', 326: 'rest', 327: 'wonder', 328: 'darling', 329: 'whole', 330: 'understand', 331: 'gon', 332: 'great', 333: 'slowly', 334: 'hurts', 335: 'turning', 336: 'fucking', 337: 'uptown', 338: 'clouds', 339: 'mama', 340: 'use', 341: 'hit', 342: 'takes', 343: 'felt', 344: 'joy', 345: 'hair', 346: 'fell', 347: 'reach', 348: 'stuck', 349: 'many', 350: 'moving', 351: 'breathe', 352: 'sit', 353: 'born', 354: 'step', 355: 'earth', 356: 'bout', 357: 'red', 358: 'honey', 359: 'trust', 360: 'scared', 361: 'king', 362: 'throw', 363: 'breathing', 364: 'anything', 365: 'calm', 366: 'someday', 367: 'white', 368: 'praise', 369: 'playing', 370: 'till', 371: 'guy', 372: 'door', 373: 'ass', 374: 'sea', 375: 'black', 376: 'tried', 377: 'lies', 378: 'write', 379: 'queen', 380: 'strange', 381: 'part', 382: 'rise', 383: 'road', 384: 'ways', 385: 'sound', 386: 'blues', 387: 'past', 388: 'room', 389: 'making', 390: 'storm', 391: 'mountains', 392: 'fool', 393: 'big', 394: 'screaming', 395: 'roll', 396: 'bah', 397: 'uh', 398: 'low', 399: 'damn', 400: 'watching', 401: 'waking', 402: 'hello', 403: 'giving', 404: 'seem', 405: 'ghost', 406: 'easy', 407: 'town', 408: 'ha', 409: 'finally', 410: 'boys', 411: 'mistakes', 412: 'enjoy', 413: 'angry', 414: 'mercy', 415: 'held', 416: 'push', 417: 'thousand', 418: 'wind', 419: 'gun', 420: 'breath', 421: 'slow', 422: 'everyone', 423: 'worship', 424: 'nights', 425: 'meet', 426: 'scream', 427: 'war', 428: 'thank', 429: 'skin', 430: 'laughing', 431: 'learned', 432: 'tear', 433: 'wants', 434: 'year', 435: 'single', 436: 'drop', 437: 'sight', 438: 'callin', 439: 'human', 440: 'standing', 441: 'loves', 442: 'hoping', 443: 'stone', 444: 'evening', 445: 'lips', 446: 'yes', 447: 'net', 448: 'welcome', 449: 'choose', 450: 'evil', 451: 'raise', 452: 'goin', 453: 'lookin', 454: 'hot', 455: 'bury', 456: 'summer', 457: 'fade', 458: 'anybody', 459: 'taking', 460: 'bye', 461: 'funk', 462: 'lifted', 463: 'nigga', 464: 'babe', 465: 'looks', 466: 'three', 467: 'fingers', 468: 'eye', 469: 'five', 470: 'fighting', 471: 'angels', 472: 'shine', 473: 'window', 474: 'different', 475: 'warm', 476: 'blow', 477: 'caught', 478: 'less', 479: 'lives', 480: 'walking', 481: 'saw', 482: 'bar', 483: 'fast', 484: 'empty', 485: 'mountain', 486: 'calling', 487: 'grace', 488: 'cross', 489: 'half', 490: 'deeper', 491: 'survive', 492: 'fake', 493: 'luck', 494: 'heal', 495: 'revenge', 496: 'weird', 497: 'telling', 498: 'died', 499: 'ends', 500: 'weak', 501: 'fill', 502: 'breathin', 503: 'meant', 504: 'lately', 505: 'nice', 506: 'hallelujah', 507: 'celebrate', 508: 'fine', 509: 'belong', 510: 'upon', 511: 'worthy', 512: 'nothin', 513: 'frozen', 514: 'train', 515: 'dreaming', 516: 'bit', 517: 'men', 518: 'radio', 519: 'supposed', 520: 'surrender', 521: 'starts', 522: 'whenever', 523: 'hour', 524: 'mr', 525: 'gettin', 526: 'huh', 527: 'deserve', 528: 'flames', 529: 'bones', 530: 'heard', 531: 'skies', 532: 'swim', 533: 'certain', 534: 'clear', 535: 'n', 536: 'everyday', 537: 'already', 538: 'started', 539: 'birds', 540: 'catch', 541: 'waves', 542: 'chest', 543: 'heat', 544: 'arm', 545: 'anyone', 546: 'full', 547: 'voice', 548: 'hundred', 549: 'star', 550: 'beg', 551: 'moonlight', 552: 'fun', 553: 'longer', 554: 'dad', 555: 'cool', 556: 'bright', 557: 'blame', 558: 'bear', 559: 'thoughts', 560: 'mad', 561: 'line', 562: 'somewhere', 563: 'highway', 564: 'frankie', 565: 'fail', 566: 'fuckin', 567: 'forgive', 568: 'problems', 569: 'gets', 570: 'rela', 571: 'mediation', 572: 'treat', 573: 'wake', 574: 'turned', 575: 'tells', 576: 'gold', 577: 'dawn', 578: 'driving', 579: 'anyway', 580: 'regret', 581: 'sadness', 582: 'drunk', 583: 'faces', 584: 'nightmare', 585: 'needed', 586: 'higher', 587: 'whatever', 588: 'breaking', 589: 'almost', 590: 'wings', 591: 'glass', 592: 'means', 593: 'happen', 594: 'piece', 595: 'undead', 596: 'awe', 597: 'power', 598: 'rockabye', 599: 'wreck', 600: 'woo', 601: 'four', 602: 'rage', 603: 'memory', 604: 'mess', 605: 'talking', 606: 'answer', 607: 'shoot', 608: 'ago', 609: 'brought', 610: 'cut', 611: 'ran', 612: 'rising', 613: 'songs', 614: 'saying', 615: 'happiness', 616: 'beating', 617: 'money', 618: 'pass', 619: 'least', 620: 'happier', 621: 'wide', 622: 'yesterday', 623: 'wanting', 624: 'across', 625: 'shadows', 626: 'shining', 627: 'million', 628: 'top', 629: 'second', 630: 'grown', 631: 'closer', 632: 'devil', 633: 'prayer', 634: 'wit', 635: 'child', 636: 'green', 637: 'kept', 638: 'somehow', 639: 'games', 640: 'city', 641: 'niggas', 642: 'respect', 643: 'weight', 644: 'path', 645: 'quit', 646: 'tide', 647: 'history', 648: 'taste', 649: 'peaceful', 650: 'beats', 651: 'colors', 652: 'doubt', 653: 'bitches', 654: 'tryna', 655: 'game', 656: 'car', 657: 'spirit', 658: 'tryin', 659: 'admit', 660: 'motive', 661: 'glory', 662: 'become', 663: 'battle', 664: 'endless', 665: 'reasons', 666: 'middle', 667: 'soon', 668: 'closed', 669: 'father', 670: 'ones', 671: 'house', 672: 'pick', 673: 'shed', 674: 'near', 675: 'holy', 676: 'freedom', 677: 'eplain', 678: 'staring', 679: 'spent', 680: 'trees', 681: 'sunrise', 682: 'woman', 683: 'everywhere', 684: 'hopeless', 685: 'price', 686: 'stops', 687: 'minute', 688: 'within', 689: 'lover', 690: 'winter', 691: 'lying', 692: 'bitter', 693: 'bottom', 694: 'shot', 695: 'escape', 696: 'crash', 697: 'stronger', 698: 'funky', 699: 'stack', 700: 'torn', 701: 'freak', 702: 'wave', 703: 'feet', 704: 'dear', 705: 'spell', 706: 'f', 707: 'learn', 708: 'gift', 709: 'wear', 710: 'places', 711: 'met', 712: 'blind', 713: 'trapped', 714: 'meaning', 715: 'whoa', 716: 'hearts', 717: 'ask', 718: 'showed', 719: 'dry', 720: 'caring', 721: 'job', 722: 'ocean', 723: 'silent', 724: 'floor', 725: 'speak', 726: 'weather', 727: 'brain', 728: 'sucker', 729: 'short', 730: 'business', 731: 'lady', 732: 'hiding', 733: 'sin', 734: 'saved', 735: 'loss', 736: 'son', 737: 'fields', 738: 'notice', 739: 'seas', 740: 'send', 741: 'funny', 742: 'count', 743: 'tall', 744: 'passes', 745: 'bother', 746: 'instead', 747: 'pray', 748: 'listen', 749: 'ease', 750: 'laughter', 751: 'person', 752: 'sick', 753: 'faded', 754: 'behold', 755: 'wearing', 756: 'knees', 757: 'stayed', 758: 'faith', 759: 'stride', 760: 'cheat', 761: 'leaves', 762: 'starting', 763: 'buried', 764: 'cannot', 765: 'barely', 766: 'finna', 767: 'greatest', 768: 'chase', 769: 'fucked', 770: 'number', 771: 'numb', 772: 'pleasent', 773: 'table', 774: 'key', 775: 'filling', 776: 'drown', 777: 'sorrow', 778: 'softly', 779: 'played', 780: 'farewell', 781: 'ya', 782: 'quick', 783: 'imagine', 784: 'kinda', 785: 'legends', 786: 'fi', 787: 'flesh', 788: 'phase', 789: 'probably', 790: 'demons', 791: 'liar', 792: 'popular', 793: 'feelings', 794: 'called', 795: 'stress', 796: 'hitting', 797: 'hole', 798: 'keeps', 799: 'forgiveness', 800: 'shows', 801: 'leaving', 802: 'women', 803: 'spirits', 804: 'lines', 805: 'lot', 806: 'point', 807: 'minds', 808: 'burned', 809: 'front', 810: 'girls', 811: 'sink', 812: 'river', 813: 'story', 814: 'pieces', 815: 'aces', 816: 'yuh', 817: 'streets', 818: 'yelling', 819: 'dress', 820: 'shape', 821: 'pulled', 822: 'wine', 823: 'shame', 824: 'note', 825: 'snow', 826: 'kingdom', 827: 'cares', 828: 'secrets', 829: 'outside', 830: 'spit', 831: 'conversation', 832: 'silence', 833: 'rough', 834: 'tough', 835: 'lake', 836: 'shut', 837: 'habits', 838: 'bleed', 839: 'daddy', 840: 'stream', 841: 'faster', 842: 'guns', 843: 'wasting', 844: 'wasted', 845: 'track', 846: 'eactly', 847: 'killing', 848: 'c', 849: 'bridge', 850: 'begging', 851: 'wondering', 852: 'missed', 853: 'walked', 854: 'burns', 855: 'bleeding', 856: 'wonderful', 857: 'class', 858: 'heroes', 859: 'anytime', 860: 'changes', 861: 'beach', 862: 'wrist', 863: 'romeo', 864: 'juliet', 865: 'dirt', 866: 'draconian', 867: 'throne', 868: 'holds', 869: 'lift', 870: 'grave', 871: 'ring', 872: 'calls', 873: 'guilty', 874: 'clap', 875: 'bluebird', 876: 'alison', 877: 'heavy', 878: 'company', 879: 'counting', 880: 'papi', 881: 'lit', 882: 'embrace', 883: 'floating', 884: 'passion', 885: 'flow', 886: 'veins', 887: 'win', 888: 'suddenly', 889: 'ice', 890: 'twice', 891: 'moves', 892: 'issues', 893: 'twist', 894: 'acting', 895: 'hanging', 896: 'si', 897: 'obvious', 898: 'r', 899: 'e', 900: 'given', 901: 'purpose', 902: 'scene', 903: 'toe', 904: 'monkey', 905: 'blows', 906: 'falls', 907: 'worst', 908: 'rather', 909: 'lovers', 910: 'sunny', 911: 'steal', 912: 'epression', 913: 'karma', 914: 'jump', 915: 'lovely', 916: 'guitar', 917: 'children', 918: 'regrets', 919: 'thrown', 920: 'sings', 921: 'gives', 922: 'anywhere', 923: 'underneath', 924: 'brand', 925: 'crooked', 926: 'rhyme', 927: 'begin', 928: 'climb', 929: 'bend', 930: 'brothers', 931: 'sisters', 932: 'gently', 933: 'looked', 934: 'color', 935: 'tie', 936: 'noose', 937: 'vain', 938: 'shout', 939: 'choice', 940: 'shy', 941: 'beyond', 942: 'doubts', 943: 'forward', 944: 'secret', 945: 'filled', 946: 'hearted', 947: 'loud', 948: 'grind', 949: 'realize', 950: 'dies', 951: 'mom', 952: 'team', 953: 'toast', 954: 'blah', 955: 'fame', 956: 'crawl', 957: 'reign', 958: 'brrat', 959: 'sins', 960: 'killed', 961: 'chill', 962: 'race', 963: 'clock', 964: 'flame', 965: 'walls', 966: 'trigger', 967: 'starlight', 968: 'wash', 969: 'guide', 970: 'goodbyes', 971: 'promises', 972: 'future', 973: 'holiday', 974: 'emotions', 975: 'sunshine', 976: 'knowing', 977: 'hah', 978: 'ayy', 979: 'release', 980: 'hill', 981: 'flowers', 982: 'bloom', 983: 'surely', 984: 'loneliness', 985: 'skrrt', 986: 'click', 987: 'clothes', 988: 'nine', 989: 'horizon', 990: 'darkest', 991: 'moments', 992: 'hurricane', 993: 'levitating', 994: 'tries', 995: 'remains', 996: 'bullshit', 997: 'searching', 998: 'diamond', 999: 'helping', 1000: 'hurting', 1001: 'b', 1002: 'guys', 1003: 'repeat', 1004: 'awake', 1005: 'heartache', 1006: 'lets', 1007: 'honestly', 1008: 'apologies', 1009: 'shady', 1010: 'sorrows', 1011: 'ashes', 1012: 'date', 1013: 'fading', 1014: 'courage', 1015: 'rides', 1016: 'pack', 1017: 'view', 1018: 'nervous', 1019: 'sitting', 1020: 'figure', 1021: 'deputy', 1022: 'sirens', 1023: 'loose', 1024: 'weeks', 1025: 'goodness', 1026: 'grey', 1027: 'although', 1028: 'settle', 1029: 'trouble', 1030: 'couch', 1031: 'melt', 1032: 'bird', 1033: 'bodies', 1034: 'waist', 1035: 'double', 1036: 'seeing', 1037: 'kissed', 1038: 'sake', 1039: 'bow', 1040: 'roses', 1041: 'energy', 1042: 'bringing', 1043: 'pressure', 1044: 'fair', 1045: 'flight', 1046: 'marry', 1047: 'quiet', 1048: 'selfish', 1049: 'foolish', 1050: 'burst', 1051: 'share', 1052: 'psycho', 1053: 'twenty', 1054: 'phone', 1055: 'wrote', 1056: 'pride', 1057: 'focus', 1058: 'mistake', 1059: 'quits', 1060: 'easily', 1061: 'average', 1062: 'land', 1063: 'named', 1064: 'climbing', 1065: 'smell', 1066: 'madness', 1067: 'fit', 1068: 'whispers', 1069: 'eternity', 1070: 'sheets', 1071: 'drinking', 1072: 'anthem', 1073: 'needless', 1074: 'beard', 1075: 'tied', 1076: 'runaway', 1077: 'pretty', 1078: 'deathly', 1079: 'emptiness', 1080: 'agony', 1081: 'smoke', 1082: 'hearing', 1083: 'beginning', 1084: 'test', 1085: 'straight', 1086: 'yet', 1087: 'restless', 1088: 'confidence', 1089: 'remedy', 1090: 'tearing', 1091: 'fears', 1092: 'ending', 1093: 'sober', 1094: 'drinks', 1095: 'troubled', 1096: 'attention', 1097: 'edge', 1098: 'spinning', 1099: 'lifetime', 1100: 'happened', 1101: 'parted', 1102: 'daybreak', 1103: 'watched', 1104: 'aching', 1105: 'age', 1106: 'country', 1107: 'shirt', 1108: 'intentions', 1109: 'doin', 1110: 'letting', 1111: 'heartbreak', 1112: 'news', 1113: 'l', 1114: 'paper', 1115: 'reaper', 1116: 'safe', 1117: 'dreamer', 1118: 'honest', 1119: 'record', 1120: 'dwell', 1121: 'ahh', 1122: 'deal', 1123: 'type', 1124: 'alice', 1125: 'reaching', 1126: 'thinkin', 1127: 'self', 1128: 'victory', 1129: 'unrealized', 1130: 'mamma', 1131: 'mia', 1132: 'mon', 1133: 'roads', 1134: 'ayo', 1135: 'act', 1136: 'proud', 1137: 'meets', 1138: 'tides', 1139: 'circles', 1140: 'paint', 1141: 'picture', 1142: 'read', 1143: 'adore', 1144: 'mend', 1145: 'teach', 1146: 'wherever', 1147: 'shoe', 1148: 'jam', 1149: 'finger', 1150: 'lean', 1151: 'washing', 1152: 'collide', 1153: 'began', 1154: 'drift', 1155: 'melodies', 1156: 'pure', 1157: 'darkened', 1158: 'guest', 1159: 'fact', 1160: 'asked', 1161: 'misery', 1162: 'park', 1163: 'smiles', 1164: 'breaks', 1165: 'pennyroyal', 1166: 'tea', 1167: 'kicked', 1168: 'rip', 1169: 'harm', 1170: 'happens', 1171: 'turns', 1172: 'spend', 1173: 'controversy', 1174: 'streak', 1175: 'valley', 1176: 'noise', 1177: 'lonesome', 1178: 'brother', 1179: 'speaking', 1180: 'mother', 1181: 'grow', 1182: 'apologize', 1183: 'butterflies', 1184: 'feather', 1185: 'medicine', 1186: 'typical', 1187: 'rules', 1188: 'divine', 1189: 'ups', 1190: 'neath', 1191: 'solve', 1192: 'closing', 1193: 'square', 1194: 'level', 1195: 'nails', 1196: 'sacred', 1197: 'coffin', 1198: 'powers', 1199: 'shores', 1200: 'rivers', 1201: 'rush', 1202: 'descending', 1203: 'supply', 1204: 'jack', 1205: 'coke', 1206: 'cried', 1207: 'heads', 1208: 'waited', 1209: 'ignored', 1210: 'built', 1211: 'wounds', 1212: 'beauty', 1213: 'cage', 1214: 'sees', 1215: 'public', 1216: 'cup', 1217: 'crowd', 1218: 'stunt', 1219: 'sister', 1220: 'henny', 1221: 'plug', 1222: 'trick', 1223: 'dick', 1224: 'cake', 1225: 'wantin', 1226: 'crown', 1227: 'aim', 1228: 'plane', 1229: 'plan', 1230: 'load', 1231: 'peep', 1232: 'pen', 1233: 'mentally', 1234: 'feelin', 1235: 'flip', 1236: 'p', 1237: 'rollin', 1238: 'wound', 1239: 'measure', 1240: 'banging', 1241: 'either', 1242: 'hall', 1243: 'however', 1244: 'glitter', 1245: 'gates', 1246: 'confident', 1247: 'chips', 1248: 'lucky', 1249: 'early', 1250: 'happily', 1251: 'brave', 1252: 'brings', 1253: 'troubles', 1254: 'careless', 1255: 'minor', 1256: 'journey', 1257: 'older', 1258: 'couple', 1259: 'rap', 1260: 'blew', 1261: 'remind', 1262: 'makeup', 1263: 'pleasure', 1264: 'regular', 1265: 'post', 1266: 'drip', 1267: 'grateful', 1268: 'picking', 1269: 'weaker', 1270: 'parts', 1271: 'ninety', 1272: 'balloons', 1273: 'shoulders', 1274: 'ignite', 1275: 'demon', 1276: 'beneath', 1277: 'question', 1278: 'doctor', 1279: 'struggle', 1280: 'monster', 1281: 'unbreakable', 1282: 'rule', 1283: 'awoo', 1284: 'worse', 1285: 'dull', 1286: 'heavens', 1287: 'eats', 1288: 'victims', 1289: 'haters', 1290: 'aniety', 1291: 'closin', 1292: 'awhile', 1293: 'wheel', 1294: 'blinds', 1295: 'involved', 1296: 'mmh', 1297: 'bought', 1298: 'shelf', 1299: 'unless', 1300: 'nate', 1301: 'bus', 1302: 'tellin', 1303: 'hang', 1304: 'learning', 1305: 'quite', 1306: 'leavin', 1307: 'colours', 1308: 'hue', 1309: 'picasso', 1310: 'oceans', 1311: 'william', 1312: 'street', 1313: 'cell', 1314: 'traitor', 1315: 'forevermore', 1316: 'problem', 1317: 'pay', 1318: 'drag', 1319: 'consumed', 1320: 'waste', 1321: 'needs', 1322: 'messed', 1323: 'doors', 1324: 'ear', 1325: 'claim', 1326: 'chair', 1327: 'eat', 1328: 'pretend', 1329: 'illuminates', 1330: 'unknown', 1331: 'setting', 1332: 'momma', 1333: 'twisted', 1334: 'listens', 1335: 'strength', 1336: 'epect', 1337: 'bound', 1338: 'nowhere', 1339: 'starin', 1340: 'cards', 1341: 'sayin', 1342: 'porch', 1343: 'small', 1344: 'stumble', 1345: 'blank', 1346: 'sent', 1347: 'shook', 1348: 'terror', 1349: 'rapture', 1350: 'shoes', 1351: 'floats', 1352: 'rises', 1353: 'worries', 1354: 'papa', 1355: 'dangerous', 1356: 'bugging', 1357: 'poison', 1358: 'glow', 1359: 'crack', 1360: 'hardly', 1361: 'woods', 1362: 'letter', 1363: 'travel', 1364: 'roof', 1365: 'eleven', 1366: 'bottle', 1367: 'taken', 1368: 'flying', 1369: 'fires', 1370: 'forest', 1371: 'able', 1372: 'slam', 1373: 'glows', 1374: 'gears', 1375: 'destiny', 1376: 'carousel', 1377: 'twilight', 1378: 'zone', 1379: 'watchin', 1380: 'skull', 1381: 'fifteen', 1382: 'ink', 1383: 'slave', 1384: 'others', 1385: 'desire', 1386: 'married', 1387: 'magic', 1388: 'skip', 1389: 'champagne', 1390: 'rolled', 1391: 'notes', 1392: 'haunted', 1393: 'difficult', 1394: 'skydiving', 1395: 'rocky', 1396: 'seconds', 1397: 'bull', 1398: 'fumanchu', 1399: 'spoke', 1400: 'sweeter', 1401: 'denying', 1402: 'motherfuckin', 1403: 'harry', 1404: 'swearin', 1405: 'column', 1406: 'mark', 1407: 'seat', 1408: 'fat', 1409: 'killer', 1410: 'enemy', 1411: 'motherfucker', 1412: 'percent', 1413: 'finish', 1414: 'plastic', 1415: 'cups', 1416: 'magnet', 1417: 'bedsheets', 1418: 'peal', 1419: 'layers', 1420: 'communion', 1421: 'fellowship', 1422: 'mic', 1423: 'feeding', 1424: 'dice', 1425: 'miles', 1426: 'guaran', 1427: 'teed', 1428: 'cheating', 1429: 'months', 1430: 'screams', 1431: 'ugly', 1432: 'growing', 1433: 'eisted', 1434: 'greets', 1435: 'forgotten', 1436: 'sunlight', 1437: 'naked', 1438: 'lived', 1439: 'talked', 1440: 'tugging', 1441: 'understanding', 1442: 'revelation', 1443: 'daydream', 1444: 'bag', 1445: 'stripped', 1446: 'neither', 1447: 'worthwhile', 1448: 'november', 1449: 'bone', 1450: 'match', 1451: 'health', 1452: 'overseas', 1453: 'grant', 1454: 'rose', 1455: 'bruh', 1456: 'faithfulness', 1457: 'matters', 1458: 'valentine', 1459: 'sleeping', 1460: 'cruel', 1461: 'sounds', 1462: 'quest', 1463: 'opening', 1464: 'states', 1465: 'consciousness', 1466: 'tasted', 1467: 'k', 1468: 'teardrops', 1469: 'weary', 1470: 'spread', 1471: 'deny', 1472: 'younger', 1473: 'nah', 1474: 'grinding', 1475: 'hours', 1476: 'staying', 1477: 'ten', 1478: 'crossed', 1479: 'symphony', 1480: 'believes', 1481: 'pointing', 1482: 'fault', 1483: 'slip', 1484: 'champion', 1485: 'roar', 1486: 'louder', 1487: 'clearly', 1488: 'changing', 1489: 'knock', 1490: 'diamonds', 1491: 'july', 1492: 'insane', 1493: 'youth', 1494: 'rumors', 1495: 'yea', 1496: 'lesson', 1497: 'tension', 1498: 'hills', 1499: 'bela', 1500: 'lugosi', 1501: 'rattles', 1502: 'aye', 1503: 'firework', 1504: 'distance', 1505: 'fiery', 1506: 'mouth', 1507: 'sneak', 1508: 'lil', 1509: 'waters', 1510: 'sons', 1511: 'knife', 1512: 'liked', 1513: 'cuh', 1514: 'splash', 1515: 'bling', 1516: 'wagwan', 1517: 'wet', 1518: 'gyal', 1519: 'blaow', 1520: 'machine', 1521: 'cover', 1522: 'trace', 1523: 'heartbeat', 1524: 'capital', 1525: 'overwhelmed', 1526: 'spring', 1527: 'ceiling', 1528: 'monarch', 1529: 'benefit', 1530: 'millions', 1531: 'achieve', 1532: 'praying', 1533: 'pathetic', 1534: 'bittersweet', 1535: 'sey', 1536: 'flaunt', 1537: 'frightened', 1538: 'changed', 1539: 'sinking', 1540: 'shall', 1541: 'dumb', 1542: 'ok', 1543: 'amazing', 1544: 'strip', 1545: 'conscious', 1546: 'thunder', 1547: 'chika', 1548: 'legs', 1549: 'simple', 1550: 'guard', 1551: 'painted', 1552: 'spoken', 1553: 'flies', 1554: 'master', 1555: 'kid', 1556: 'prove', 1557: 'midnight', 1558: 'chasing', 1559: 'chances', 1560: 'neon', 1561: 'bummer', 1562: 'tantrum', 1563: 'insanity', 1564: 'coast', 1565: 'blessed', 1566: 'blessing', 1567: 'bid', 1568: 'check', 1569: 'nevertheless', 1570: 'grip', 1571: 'corner', 1572: 'mauntains', 1573: 'sunset', 1574: 'compare', 1575: 'melody', 1576: 'resist', 1577: 'solo', 1578: 'teardrop', 1579: 'working', 1580: 'daydreaming', 1581: 'lane', 1582: 'reading', 1583: 'surface', 1584: 'senses', 1585: 'dragging', 1586: 'goodnight', 1587: 'sheriff', 1588: 'west', 1589: 'virginia', 1590: 'choke', 1591: 'talkin', 1592: 'tragedy', 1593: 'tunisia', 1594: 'building', 1595: 'fan', 1596: 'blazes', 1597: 'hmm', 1598: 'spill', 1599: 'devoid', 1600: 'badge', 1601: 'knocking', 1602: 'bomb', 1603: 'racks', 1604: 'shaq', 1605: 'height', 1606: 'jewelry', 1607: 'flashlight', 1608: 'pussy', 1609: 'plus', 1610: 'storms', 1611: 'surrounding', 1612: 'lightning', 1613: 'rushes', 1614: 'movies', 1615: 'movement', 1616: 'shiver', 1617: 'daylight', 1618: 'muse', 1619: 'silhouettes', 1620: 'poems', 1621: 'shoulder', 1622: 'reasoned', 1623: 'polite', 1624: 'lessons', 1625: 'escaped', 1626: 'seventeen', 1627: 'tambourine', 1628: 'jive', 1629: 'digging', 1630: 'football', 1631: 'coca', 1632: 'cola', 1633: 'sights', 1634: 'recall', 1635: 'sidewalk', 1636: 'innocent', 1637: 'bold', 1638: 'stared', 1639: 'tremble', 1640: 'messing', 1641: 'smiled', 1642: 'doorstep', 1643: 'message', 1644: 'reaction', 1645: 'castaway', 1646: 'tidal', 1647: 'treated', 1648: 'esteemed', 1649: 'todays', 1650: 'tomorrows', 1651: 'paved', 1652: 'infinite', 1653: 'possible', 1654: 'rainfall', 1655: 'th', 1656: 'month', 1657: 'personal', 1658: 'circle', 1659: 'posture', 1660: 'distill', 1661: 'anemic', 1662: 'royalty', 1663: 'satisfied', 1664: 'doorway', 1665: 'bullets', 1666: 'literally', 1667: 'armor', 1668: 'destroy', 1669: 'bites', 1670: 'smash', 1671: 'sofa', 1672: 'kick', 1673: 'rainbow', 1674: 'tune', 1675: 'reflection', 1676: 'flashing', 1677: 'billion', 1678: 'galaies', 1679: 'vapour', 1680: 'planets', 1681: 'form', 1682: 'signal', 1683: 'creation', 1684: 'praises', 1685: 'december', 1686: 'cars', 1687: 'stumbling', 1688: 'bars', 1689: 'tattoo', 1690: 'blindly', 1691: 'subliminal', 1692: 'chaos', 1693: 'peeps', 1694: 'shorty', 1695: 'devils', 1696: 'asunder', 1697: 'imposing', 1698: 'slumber', 1699: 'bells', 1700: 'chime', 1701: 'sacrificing', 1702: 'entrance', 1703: 'shrine', 1704: 'hammering', 1705: 'clandestine', 1706: 'woke', 1707: 'boast', 1708: 'sail', 1709: 'pledge', 1710: 'flowering', 1711: 'weeping', 1712: 'scale', 1713: 'valleys', 1714: 'graced', 1715: 'chased', 1716: 'lowly', 1717: 'source', 1718: 'thicker', 1719: 'rescue', 1720: 'lifeline', 1721: 'joke', 1722: 'blessings', 1723: 'tan', 1724: 'ipanema', 1725: 'walks', 1726: 'samba', 1727: 'swings', 1728: 'sways', 1729: 'lied', 1730: 'acted', 1731: 'soft', 1732: 'dust', 1733: 'damage', 1734: 'knot', 1735: 'asleep', 1736: 'lonley', 1737: 'shade', 1738: 'wanderer', 1739: 'traveling', 1740: 'distant', 1741: 'return', 1742: 'humans', 1743: 'swans', 1744: 'burden', 1745: 'witness', 1746: 'heartless', 1747: 'disease', 1748: 'neglect', 1749: 'alter', 1750: 'moods', 1751: 'dropped', 1752: 'stopped', 1753: 'parties', 1754: 'ambitions', 1755: 'intends', 1756: 'overflowed', 1757: 'advantage', 1758: 'constantly', 1759: 'frustrated', 1760: 'moved', 1761: 'channel', 1762: 'productive', 1763: 'impress', 1764: 'pocket', 1765: 'none', 1766: 'bitterness', 1767: 'departed', 1768: 'drum', 1769: 'drawing', 1770: 'hoes', 1771: 'g', 1772: 'bentley', 1773: 'beamer', 1774: 'rolls', 1775: 'sip', 1776: 'semi', 1777: 'cops', 1778: 'snitch', 1779: 'holdin', 1780: 'grudge', 1781: 'judge', 1782: 'thug', 1783: 'ho', 1784: 'bro', 1785: 'snakes', 1786: 'starve', 1787: 'drugs', 1788: 'jail', 1789: 'hopped', 1790: 'dodging', 1791: 'chopper', 1792: 'murder', 1793: 'spree', 1794: 'slippin', 1795: 'gin', 1796: 'plenty', 1797: 'gym', 1798: 'timbs', 1799: 'cabs', 1800: 'depressed', 1801: 'clout', 1802: 'plottin', 1803: 'drownin', 1804: 'script', 1805: 'flicks', 1806: 'rekindle', 1807: 'fle', 1808: 'ante', 1809: 'block', 1810: 'trusted', 1811: 'ruin', 1812: 'rusted', 1813: 'rubbed', 1814: 'salt', 1815: 'entire', 1816: 'compares', 1817: 'kong', 1818: 'rocks', 1819: 'practice', 1820: 'book', 1821: 'brightest', 1822: 'sunsets', 1823: 'downtown', 1824: 'dragon', 1825: 'allegiance', 1826: 'fickle', 1827: 'minded', 1828: 'shiny', 1829: 'features', 1830: 'willing', 1831: 'compete', 1832: 'inbetween', 1833: 'bruised', 1834: 'carpet', 1835: 'scars', 1836: 'marks', 1837: 'etched', 1838: 'petrichor', 1839: 'blinding', 1840: 'tunnels', 1841: 'clasped', 1842: 'hint', 1843: 'spark', 1844: 'seek', 1845: 'allow', 1846: 'craving', 1847: 'tripping', 1848: 'fresh', 1849: 'failure', 1850: 'odds', 1851: 'favor', 1852: 'ahold', 1853: 'glasses', 1854: 'ecept', 1855: 'bedroom', 1856: 'hooray', 1857: 'ecellent', 1858: 'wishng', 1859: 'fundamental', 1860: 'apply', 1861: 'rely', 1862: 'covers', 1863: 'serenade', 1864: 'major', 1865: 'piano', 1866: 'keys', 1867: 'sobber', 1868: 'someoen', 1869: 'cheated', 1870: 'guided', 1871: 'wiser', 1872: 'finding', 1873: 'coffee', 1874: 'pouring', 1875: 'movie', 1876: 'woah', 1877: 'hungered', 1878: 'speed', 1879: 'hues', 1880: 'greens', 1881: 'surround', 1882: 'envy', 1883: 'fearing', 1884: 'soar', 1885: 'album', 1886: 'plaque', 1887: 'nicki', 1888: 'pop', 1889: 'bieber', 1890: 'queer', 1891: 'madea', 1892: 'sue', 1893: 'nas', 1894: 'hood', 1895: 'doobie', 1896: 'imitation', 1897: 'peacefull', 1898: 'soothe', 1899: 'voices', 1900: 'sum', 1901: 'stayin', 1902: 'order', 1903: 'pad', 1904: 'thai', 1905: 'noon', 1906: 'bathtub', 1907: 'bubbles', 1908: 'bubbly', 1909: 'dripped', 1910: 'fits', 1911: 'neck', 1912: 'highest', 1913: 'badly', 1914: 'mercies', 1915: 'knives', 1916: 'swords', 1917: 'weapons', 1918: 'knocked', 1919: 'chalkboard', 1920: 'wounded', 1921: 'subliminally', 1922: 'eciting', 1923: 'rains', 1924: 'pours', 1925: 'core', 1926: 'collect', 1927: 'relive', 1928: 'ghouls', 1929: 'pound', 1930: 'jealous', 1931: 'tree', 1932: 'bending', 1933: 'sudden', 1934: 'unaware', 1935: 'afflictions', 1936: 'eclipsed', 1937: 'affections', 1938: 'yellin', 1939: 'sugarboo', 1940: 'milky', 1941: 'renegading', 1942: 'daze', 1943: 'depression', 1944: 'traumatic', 1945: 'stressing', 1946: 'suppressing', 1947: 'simultaneously', 1948: 'obliterates', 1949: 'disintegrates', 1950: 'annihilates', 1951: 'cheater', 1952: 'non', 1953: 'believer', 1954: 'grief', 1955: 'ecstasy', 1956: 'drowning', 1957: 'bulletproof', 1958: 'solid', 1959: 'jewel', 1960: 'satisfy', 1961: 'bark', 1962: 'bite', 1963: 'dirty', 1964: 'scheming', 1965: 'totally', 1966: 'usually', 1967: 'tches', 1968: 'jealousy', 1969: 'incurable', 1970: 'ailment', 1971: 'asia', 1972: 'relocates', 1973: 'continent', 1974: 'remain', 1975: 'butt', 1976: 'pardon', 1977: 'using', 1978: 'naivety', 1979: 'sane', 1980: 'curtains', 1981: 'pulls', 1982: 'reached', 1983: 'friendly', 1984: 'creepin', 1985: 'actin', 1986: 'altar', 1987: 'precious', 1988: 'christ', 1989: 'trade', 1990: 'prescription', 1991: 'pills', 1992: 'thanking', 1993: 'pour', 1994: 'dealin', 1995: 'breakdown', 1996: 'therapist', 1997: 'somethin', 1998: 'route', 1999: 'clean', 2000: 'yard', 2001: 'grabbin', 2002: 'keepsakes', 2003: 'burdens', 2004: 'concerns', 2005: 'cues', 2006: 'blurry', 2007: 'prolly', 2008: 'sympathy', 2009: 'creeping', 2010: 'sign', 2011: 'scent', 2012: 'lingers', 2013: 'temptation', 2014: 'hardened', 2015: 'passin', 2016: 'barcelona', 2017: 'sounding', 2018: 'aside', 2019: 'seasons', 2020: 'rude', 2021: 'rendevue', 2022: 'knuckles', 2023: 'wise', 2024: 'homie', 2025: 'size', 2026: 'ay', 2027: 'ducking', 2028: 'cameras', 2029: 'traffic', 2030: 'canvas', 2031: 'savage', 2032: 'ravage', 2033: 'flein', 2034: 'muhammad', 2035: 'shooting', 2036: 'rubber', 2037: 'tommy', 2038: 'juice', 2039: 'innocense', 2040: 'forsaken', 2041: 'aches', 2042: 'surrenders', 2043: 'solitude', 2044: 'unity', 2045: 'betrayed', 2046: 'bore', 2047: 'ghosts', 2048: 'poisoned', 2049: 'unfamiliar', 2050: 'stringing', 2051: 'dim', 2052: 'placing', 2053: 'suffer', 2054: 'fights', 2055: 'slamming', 2056: 'magnifying', 2057: 'flaws', 2058: 'eyelashes', 2059: 'medical', 2060: 'advances', 2061: 'hamburger', 2062: 'laying', 2063: 'proping', 2064: 'tubes', 2065: 'towards', 2066: 'brushing', 2067: 'groove', 2068: 'delicate', 2069: 'ego', 2070: 'tone', 2071: 'complaining', 2072: 'eighteen', 2073: 'school', 2074: 'specific', 2075: 'earthlings', 2076: 'planet', 2077: 'ment', 2078: 'dreamt', 2079: 'wife', 2080: 'satin', 2081: 'epectations', 2082: 'chained', 2083: 'dropping', 2084: 'saving', 2085: 'gambler', 2086: 'boredom', 2087: 'overtook', 2088: 'readin', 2089: 'knowin', 2090: 'whiskey', 2091: 'advice', 2092: 'address', 2093: 'evidence', 2094: 'screen', 2095: 'splintered', 2096: 'battered', 2097: 'shortcut', 2098: 'followed', 2099: 'stares', 2100: 'shakespeare', 2101: 'everytime', 2102: 'teenager', 2103: 'hysteric', 2104: 'uncomfortably', 2105: 'oblivion', 2106: 'verge', 2107: 'slipped', 2108: 'refuse', 2109: 'rescued', 2110: 'chosen', 2111: 'landscape', 2112: 'bewitched', 2113: 'masquers', 2114: 'bergamaskers', 2115: 'lute', 2116: 'fanciful', 2117: 'disguises', 2118: 'conquering', 2119: 'favours', 2120: 'fortune', 2121: 'mingles', 2122: 'sets', 2123: 'fountains', 2124: 'sobbing', 2125: 'svelte', 2126: 'amid', 2127: 'marble', 2128: 'statues', 2129: 'paying', 2130: 'dues', 2131: 'worn', 2132: 'broadway', 2133: 'ol', 2134: 'deck', 2135: 'stacked', 2136: 'dig', 2137: 'graves', 2138: 'caution', 2139: 'hangs', 2140: 'crashing', 2141: 'straighten', 2142: 'depths', 2143: 'serenity', 2144: 'environment', 2145: 'peacefully', 2146: 'saul', 2147: 'attain', 2148: 'fondly', 2149: 'beware', 2150: 'eager', 2151: 'combine', 2152: 'fascination', 2153: 'steps', 2154: 'crap', 2155: 'knowledge', 2156: 'bothering', 2157: 'forcing', 2158: 'silver', 2159: 'wing', 2160: 'nova', 2161: 'castle', 2162: 'cutting', 2163: 'served', 2164: 'dumps', 2165: 'mud', 2166: 'assumes', 2167: 'recognize', 2168: 'stumbled', 2169: 'onlyness', 2170: 'decided', 2171: 'fury', 2172: 'proof', 2173: 'teddy', 2174: 'sniffing', 2175: 'glue', 2176: 'twelve', 2177: 'east', 2178: 'cathy', 2179: 'reds', 2180: 'bobby', 2181: 'leukemia', 2182: 'fourteen', 2183: 'sity', 2184: 'fizzing', 2185: 'shaken', 2186: 'openly', 2187: 'sly', 2188: 'upside', 2189: 'downward', 2190: 'spiral', 2191: 'disguise', 2192: 'chastise', 2193: 'borrow', 2194: 'bottles', 2195: 'promised', 2196: 'adored', 2197: 'sang', 2198: 'chorus', 2199: 'fails', 2200: 'faithful', 2201: 'footprint', 2202: 'isolation', 2203: 'howling', 2204: 'swirling', 2205: 'conceal', 2206: 'hidden', 2207: 'persevere', 2208: 'slowed', 2209: 'switch', 2210: 'mold', 2211: 'privacy', 2212: 'healthy', 2213: 'cared', 2214: 'bathroom', 2215: 'unaffected', 2216: 'yellow', 2217: 'flat', 2218: 'pony', 2219: 'wildfire', 2220: 'whirlwind', 2221: 'nebraska', 2222: 'dragged', 2223: 'acquaintance', 2224: 'severed', 2225: 'endeavor', 2226: 'numbers', 2227: 'haunting', 2228: 'yearning', 2229: 'drenched', 2230: 'replaceable', 2231: 'settled', 2232: 'uninvited', 2233: 'hoped', 2234: 'reminded', 2235: 'lasts', 2236: 'dudes', 2237: 'demonstrate', 2238: 'foreplay', 2239: 'stunnin', 2240: 'designer', 2241: 'row', 2242: 'fashion', 2243: 'prenups', 2244: 'homes', 2245: 'surrounded', 2246: 'fist', 2247: 'colder', 2248: 'forsake', 2249: 'unending', 2250: 'gotto', 2251: 'repeats', 2252: 'succeed', 2253: 'player', 2254: 'stingy', 2255: 'cher', 2256: 'lend', 2257: 'pretendin', 2258: 'genital', 2259: 'area', 2260: 'original', 2261: 'richard', 2262: 'ramirez', 2263: 'christian', 2264: 'rivera', 2265: 'lyrics', 2266: 'paraplegic', 2267: 'scary', 2268: 'tom', 2269: 'merriam', 2270: 'dictionary', 2271: 'hilarious', 2272: 'obituary', 2273: 'shaft', 2274: 'steering', 2275: 'petes', 2276: 'mai', 2277: 'attracts', 2278: 'gangster', 2279: 'apache', 2280: 'catchy', 2281: 'jingle', 2282: 'eaten', 2283: 'cheeto', 2284: 'venom', 2285: 'eliminate', 2286: 'maid', 2287: 'murderin', 2288: 'evade', 2289: 'dump', 2290: 'obliteratin', 2291: 'incineratin', 2292: 'renegade', 2293: 'beginnin', 2294: 'ill', 2295: 'atilla', 2296: 'vanilla', 2297: 'gorilla', 2298: 'bringin', 2299: 'recieving', 2300: 'stupidity', 2301: 'epitome', 2302: 'spitter', 2303: 'vicinity', 2304: 'duck', 2305: 'fifth', 2306: 'unfadable', 2307: 'available', 2308: 'blowin', 2309: 'inflatable', 2310: 'undebatable', 2311: 'unavoidable', 2312: 'unevadable', 2313: 'present', 2314: 'contain', 2315: 'club', 2316: 'shots', 2317: 'van', 2318: 'jukebo', 2319: 'handmade', 2320: 'grab', 2321: 'discovering', 2322: 'griefs', 2323: 'privilege', 2324: 'often', 2325: 'forfeit', 2326: 'fans', 2327: 'comple', 2328: 'stomping', 2329: 'international', 2330: 'sand', 2331: 'elephant', 2332: 'quench', 2333: 'thirst', 2334: 'toward', 2335: 'irate', 2336: 'bags', 2337: 'serious', 2338: 'search', 2339: 'epensive', 2340: 'rings', 2341: 'puppet', 2342: 'string', 2343: 'cope', 2344: 'fairy', 2345: 'tale', 2346: 'wicked', 2347: 'unwanted', 2348: 'uneven', 2349: 'remembers', 2350: 'bet', 2351: 'im', 2352: 'felling', 2353: 'trow', 2354: 'depest', 2355: 'snows', 2356: 'jokes', 2357: 'stole', 2358: 'painter', 2359: 'pants', 2360: 'charging', 2361: 'craggy', 2362: 'thrift', 2363: 'store', 2364: 'coy', 2365: 'attics', 2366: 'corso', 2367: 'mc', 2368: 'salvation', 2369: 'declare', 2370: 'offer', 2371: 'completely', 2372: 'scoop', 2373: 'unzip', 2374: 'rhythm', 2375: 'vision', 2376: 'thats', 2377: 'delighted', 2378: 'unmistakable', 2379: 'unmistakeable', 2380: 'sighing', 2381: 'sweating', 2382: 'surrendering', 2383: 'union', 2384: 'avenue', 2385: 'repay', 2386: 'gravel', 2387: 'barrel', 2388: 'los', 2389: 'angeles', 2390: 'scam', 2391: 'sleeps', 2392: 'cliftons', 2393: 'warmer', 2394: 'deserves', 2395: 'gentleman', 2396: 'fearless', 2397: 'astray', 2398: 'jaded', 2399: 'mysteries', 2400: 'legend', 2401: 'chippewa', 2402: 'gitche', 2403: 'gumee', 2404: 'gloomy', 2405: 'iron', 2406: 'ore', 2407: 'tons', 2408: 'edmund', 2409: 'fitzgerald', 2410: 'weighed', 2411: 'ship', 2412: 'chewed', 2413: 'gales', 2414: 'panic', 2415: 'bloodstream', 2416: 'stutter', 2417: 'violence', 2418: 'gloom', 2419: 'collapse', 2420: 'prize', 2421: 'strangers', 2422: 'tire', 2423: 'currents', 2424: 'warned', 2425: 'tour', 2426: 'learns', 2427: 'indeed', 2428: 'blest', 2429: 'delight', 2430: 'bled', 2431: 'stands', 2432: 'failed', 2433: 'worlds', 2434: 'drifting', 2435: 'simply', 2436: 'february', 2437: 'tattooed', 2438: 'charm', 2439: 'disarm', 2440: 'tours', 2441: 'cuts', 2442: 'pretending', 2443: 'hallucinations', 2444: 'mauntain', 2445: 'obsessive', 2446: 'selective', 2447: 'agressive', 2448: 'offensive', 2449: 'siteen', 2450: 'dealing', 2451: 'ought', 2452: 'wipe', 2453: 'invited', 2454: 'famous', 2455: 'drew', 2456: 'artist', 2457: 'art', 2458: 'helpless', 2459: 'cave', 2460: 'spilled', 2461: 'intention', 2462: 'spreads', 2463: 'perfume', 2464: 'absurd', 2465: 'choked', 2466: 'band', 2467: 'float', 2468: 'unrelenting', 2469: 'deception', 2470: 'hesitation', 2471: 'oasis', 2472: 'awaits', 2473: 'healing', 2474: 'california', 2475: 'difference', 2476: 'cease', 2477: 'limit', 2478: 'overcomplicate', 2479: 'medicate', 2480: 'fabricated', 2481: 'wilding', 2482: 'interrupting', 2483: 'ticking', 2484: 'fritter', 2485: 'offhand', 2486: 'kicking', 2487: 'hometown', 2488: 'everglades', 2489: 'greener', 2490: 'yesterdays', 2491: 'stones', 2492: 'photos', 2493: 'darkroom', 2494: 'arc', 2495: 'furthest', 2496: 'edges', 2497: 'towering', 2498: 'unkind', 2499: 'compose', 2500: 'deeply', 2501: 'tastes', 2502: 'motions', 2503: 'stomach', 2504: 'wannna', 2505: 'beloved', 2506: 'rosy', 2507: 'mirror', 2508: 'feathered', 2509: 'opportunity', 2510: 'stoned', 2511: 'bourgeois', 2512: 'coughing', 2513: 'promethazine', 2514: 'evergreen', 2515: 'selena', 2516: 'kissing', 2517: 'emily', 2518: 'melts', 2519: 'crippled', 2520: 'vein', 2521: 'definitely', 2522: 'slipping', 2523: 'guiding', 2524: 'evermore', 2525: 'toys', 2526: 'presents', 2527: 'tiger', 2528: 'fighter', 2529: 'lion', 2530: 'scandalous', 2531: 'whether', 2532: 'agree', 2533: 'comin', 2534: 'shinin', 2535: 'noses', 2536: 'safety', 2537: 'appeared', 2538: 'tightrope', 2539: 'scare', 2540: 'cheek', 2541: 'brilliant', 2542: 'bel', 2543: 'mid', 2544: 'wild', 2545: 'stage', 2546: 'channeling', 2547: 'electric', 2548: 'drive', 2549: 'livin', 2550: 'government', 2551: 'cursed', 2552: 'tends', 2553: 'fantastic', 2554: 'natural', 2555: 'toes', 2556: 'elastic', 2557: 'reputation', 2558: 'demonstration', 2559: 'buy', 2560: 'forgot', 2561: 'mention', 2562: 'dimensions', 2563: 'perfection', 2564: 'grope', 2565: 'linen', 2566: 'strips', 2567: 'ribbon', 2568: 'scaled', 2569: 'buildin', 2570: 'prison', 2571: 'virginal', 2572: 'brides', 2573: 'file', 2574: 'tomb', 2575: 'strewn', 2576: 'bereft', 2577: 'drought', 2578: 'kings', 2579: 'queens', 2580: 'seeking', 2581: 'ohh', 2582: 'fourth', 2583: 'wizard', 2584: 'bewitchin', 2585: 'eclusive', 2586: 'intense', 2587: 'asteroid', 2588: 'discreet', 2589: 'dodge', 2590: 'tabloids', 2591: 'consider', 2592: 'mighty', 2593: 'forests', 2594: 'lettin', 2595: 'slide', 2596: 'dissin', 2597: 'rhymes', 2598: 'peers', 2599: 'ears', 2600: 'anger', 2601: 'bautiful', 2602: 'lovingly', 2603: 'conversations', 2604: 'drifted', 2605: 'seduced', 2606: 'fathers', 2607: 'daughters', 2608: 'mothers', 2609: 'writing', 2610: 'arrive', 2611: 'hospital', 2612: 'grand', 2613: 'planned', 2614: 'tragical', 2615: 'summertime', 2616: 'pale', 2617: 'style', 2618: 'heels', 2619: 'telephone', 2620: 'wires', 2621: 'sizzling', 2622: 'snare', 2623: 'scares', 2624: 'bill', 2625: 'un', 2626: 'zip', 2627: 'redefine', 2628: 'says', 2629: 'trash', 2630: 'tekashi', 2631: 'wishy', 2632: 'washy', 2633: 'thinks', 2634: 'washed', 2635: 'favorite', 2636: 'rapper', 2637: 'blanket', 2638: 'lullabies', 2639: 'pisces', 2640: 'locked', 2641: 'shaped', 2642: 'bo', 2643: 'drawn', 2644: 'tar', 2645: 'pit', 2646: 'trap', 2647: 'cancer', 2648: 'gladness', 2649: 'brown', 2650: 'h', 2651: 'paws', 2652: 'superstars', 2653: 'lipstick', 2654: 'boudoir', 2655: 'vibe', 2656: 'foresee', 2657: 'happening', 2658: 'hating', 2659: 'among', 2660: 'jupiter', 2661: 'mars', 2662: 'idea', 2663: 'auschwitz', 2664: 'immense', 2665: 'decay', 2666: 'showers', 2667: 'cleanse', 2668: 'forced', 2669: 'cattle', 2670: 'mice', 2671: 'sadistic', 2672: 'surgeon', 2673: 'demise', 2674: 'sadist', 2675: 'noblest', 2676: 'destroying', 2677: 'aryan', 2678: 'surgery', 2679: 'anesthesia', 2680: 'pierce', 2681: 'intensely', 2682: 'inferior', 2683: 'mankind', 2684: 'strapped', 2685: 'infamous', 2686: 'butcher', 2687: 'pumped', 2688: 'fluid', 2689: 'begins', 2690: 'pushing', 2691: 'drips', 2692: 'boil', 2693: 'frigid', 2694: 'cracks', 2695: 'limbs', 2696: 'burial', 2697: 'sewn', 2698: 'joining', 2699: 'laid', 2700: 'crowded', 2701: 'tombs', 2702: 'sickening', 2703: 'holocaust', 2704: 'abacinate', 2705: 'injecting', 2706: 'cells', 2707: 'mutant', 2708: 'creating', 2709: 'harmless', 2710: 'rancid', 2711: 'possessed', 2712: 'bearing', 2713: 'curse', 2714: 'noho', 2715: 'tais', 2716: 'risk', 2717: 'kindness', 2718: 'onto', 2719: 'branch', 2720: 'treating', 2721: 'pawns', 2722: 'chess', 2723: 'judgement', 2724: 'pigs', 2725: 'struck', 2726: 'freaky', 2727: 'brag', 2728: 'saturday', 2729: 'spot', 2730: 'needle', 2731: 'familiar', 2732: 'sting', 2733: 'sweetest', 2734: 'empire', 2735: 'sometime', 2736: 'whispering', 2737: 'gambling', 2738: 'backtrack', 2739: 'thigh', 2740: 'believed', 2741: 'swallows', 2742: 'freezing', 2743: 'limb', 2744: 'follower', 2745: 'staple', 2746: 'tongue', 2747: 'cannibal', 2748: 'suit', 2749: 'selling', 2750: 'burdened', 2751: 'stormy', 2752: 'kneel', 2753: 'glorified', 2754: 'owns', 2755: 'crashed', 2756: 'unturned', 2757: 'stepped', 2758: 'shouldered', 2759: 'cries', 2760: 'hook', 2761: 'drama', 2762: 'emotion', 2763: 'ehausted', 2764: 'closest', 2765: 'ashamed', 2766: 'knelt', 2767: 'vegas', 2768: 'threatens', 2769: 'warmth', 2770: 'beside', 2771: 'direction', 2772: 'um', 2773: 'cure', 2774: 'satellites', 2775: 'split', 2776: 'lungs', 2777: 'whale', 2778: 'backs', 2779: 'oars', 2780: 'prevail', 2781: 'ivory', 2782: 'leg', 2783: 'propels', 2784: 'harpoons', 2785: 'thrust', 2786: 'directly', 2787: 'brow', 2788: 'hi', 2789: 'slim', 2790: 'epected', 2791: 'flew', 2792: 'paradise', 2793: 'amends', 2794: 'unravelling', 2795: 'undone', 2796: 'shepherd', 2797: 'priest', 2798: 'comforter', 2799: 'comforts', 2800: 'neighbors', 2801: 'generations', 2802: 'nation', 2803: 'madly', 2804: 'coats', 2805: 'carnival', 2806: 'ferris', 2807: 'epiration', 2808: 'page', 2809: 'owl', 2810: 'crossroads', 2811: 'candle', 2812: 'chant', 2813: 'incense', 2814: 'hekate', 2815: 'invoke', 2816: 'reverb', 2817: 'backbeat', 2818: 'dot', 2819: 'detail', 2820: 'blaming', 2821: 'listening', 2822: 'rainy', 2823: 'haha', 2824: 'truly', 2825: 'stain', 2826: 'pavement', 2827: 'sacrifice', 2828: 'purest', 2829: 'loses', 2830: 'bonds', 2831: 'crumbling', 2832: 'pastries', 2833: 'upper', 2834: 'grams', 2835: 'pipe', 2836: 'motherland', 2837: 'sells', 2838: 'covered', 2839: 'hopin', 2840: 'seual', 2841: 'romancing', 2842: 'nasty', 2843: 'fancy', 2844: 'mona', 2845: 'lisa', 2846: 'nationality', 2847: 'tricks', 2848: 'fooled', 2849: 'fend', 2850: 'names', 2851: 'accept', 2852: 'nuts', 2853: 'purple', 2854: 'banana', 2855: 'truck', 2856: 'winning', 2857: 'wildcard', 2858: 'sleeve', 2859: 'lemons', 2860: 'mi', 2861: 'phrase', 2862: 'weapon', 2863: 'drug', 2864: 'outcast', 2865: 'backlash', 2866: 'lack', 2867: 'shadow', 2868: 'wins', 2869: 'cigarette', 2870: 'encountering', 2871: 'bowing', 2872: 'returning', 2873: 'uncontrolled', 2874: 'buzzing', 2875: 'stealing', 2876: 'puffed', 2877: 'girlfriend', 2878: 'seduce', 2879: 'lock', 2880: 'parting', 2881: 'bastard', 2882: 'lower', 2883: 'armageddon', 2884: 'certainly', 2885: 'vacation', 2886: 'circus', 2887: 'sideshow', 2888: 'freaks', 2889: 'flush', 2890: 'arizona', 2891: 'bay', 2892: 'ache', 2893: 'riding', 2894: 'scorching', 2895: 'gathered', 2896: 'hymn', 2897: 'taller', 2898: 'fulfill', 2899: 'law', 2900: 'prophets', 2901: 'virgin', 2902: 'cradle', 2903: 'frightening', 2904: 'birth', 2905: 'final', 2906: 'basement', 2907: 'dwells', 2908: 'invasive', 2909: 'kite', 2910: 'trampoline', 2911: 'hendersons', 2912: 'pablo', 2913: 'fanques', 2914: 'horses', 2915: 'hoops', 2916: 'garters', 2917: 'lastly', 2918: 'hogshead', 2919: 'challenge', 2920: 'buys', 2921: 'imagining', 2922: 'inappropriate', 2923: 'uncontrollably', 2924: 'lurking', 2925: 'freeze', 2926: 'horror', 2927: 'paralyzed', 2928: 'sigh', 2929: 'snowflakes', 2930: 'fallen', 2931: 'paths', 2932: 'fond', 2933: 'fed', 2934: 'thief', 2935: 'cigarettes', 2936: 'season', 2937: 'ticket', 2938: 'askin', 2939: 'takin', 2940: 'everythin', 2941: 'levitate', 2942: 'strive', 2943: 'bees', 2944: 'educated', 2945: 'fleas', 2946: 'celestial', 2947: 'shore', 2948: 'dare', 2949: 'keeping', 2950: 'losin', 2951: 'screamin', 2952: 'trip', 2953: 'sideways', 2954: 'tilt', 2955: 'apartment', 2956: 'dishes', 2957: 'disappointed', 2958: 'destruct', 2959: 'common', 2960: 'belongs', 2961: 'planning', 2962: 'dollars', 2963: 'headphone', 2964: 'factory', 2965: 'seven', 2966: 'images', 2967: 'motherfucking', 2968: 'insecurity', 2969: 'decision', 2970: 'plead', 2971: 'avoid', 2972: 'outdrew', 2973: 'crime', 2974: 'pilgrim', 2975: 'claims', 2976: 'resistance', 2977: 'bent', 2978: 'sellin', 2979: 'reconsider', 2980: 'passing', 2981: 'glance', 2982: 'mansion', 2983: 'lucidly', 2984: 'runs', 2985: 'wandered', 2986: 'patiently', 2987: 'vacancy', 2988: 'sunday', 2989: 'mornings', 2990: 'smiling', 2991: 'brokenhearted', 2992: 'bell', 2993: 'vow', 2994: 'stake', 2995: 'replace', 2996: 'golden', 2997: 'separate', 2998: 'hoo', 2999: 'reminding', 3000: 'blur', 3001: 'deceiving', 3002: 'believing', 3003: 'disguising', 3004: 'warping', 3005: 'seathing', 3006: 'graceless', 3007: 'heirs', 3008: 'intangible', 3009: 'toronto', 3010: 'hotel', 3011: 'spending', 3012: 'tets', 3013: 'superman', 3014: 'sweep', 3015: 'confront', 3016: 'sincere', 3017: 'flooding', 3018: 'seeming', 3019: 'faced', 3020: 'caused', 3021: 'force', 3022: 'desperately', 3023: 'clever', 3024: 'dancin', 3025: 'singin', 3026: 'movin', 3027: 'groovin', 3028: 'shouted', 3029: 'boogie', 3030: 'shift', 3031: 'eplanation', 3032: 'boss', 3033: 'hid', 3034: 'shelter', 3035: 'surprise', 3036: 'hazel', 3037: 'imagination', 3038: 'super', 3039: 'ladies', 3040: 'gray', 3041: 'reminds', 3042: 'unbreak', 3043: 'unsay', 3044: 'unburn', 3045: 'unchain', 3046: 'reactions', 3047: 'mourn', 3048: 'ridiculous', 3049: 'fabulous', 3050: 'haunt', 3051: 'mmm', 3052: 'seed', 3053: 'sown', 3054: 'obey', 3055: 'rows', 3056: 'enslave', 3057: 'eposed', 3058: 'enrage', 3059: 'joined', 3060: 'herd', 3061: 'adjust', 3062: 'wers', 3063: 'eagle', 3064: 'defeated', 3065: 'showin', 3066: 'atmosphere', 3067: 'silently', 3068: 'hoa', 3069: 'withhold', 3070: 'mysterious', 3071: 'plays', 3072: 'loudly', 3073: 'hailie', 3074: 'hecate', 3075: 'skeleton', 3076: 'claws', 3077: 'howl', 3078: 'buttons', 3079: 'blouse', 3080: 'emerald', 3081: 'balance', 3082: 'pulling', 3083: 'latching', 3084: 'coloring', 3085: 'quietly', 3086: 'hover', 3087: 'swallowed', 3088: 'devour', 3089: 'defense', 3090: 'offense', 3091: 'belief', 3092: 'ridge', 3093: 'shenandoah', 3094: 'growin', 3095: 'breeze', 3096: 'gather', 3097: 'miner', 3098: 'dusty', 3099: 'misty', 3100: 'moonshine', 3101: 'observe', 3102: 'trends', 3103: 'gaze', 3104: 'cheer', 3105: 'wines', 3106: 'satisfaction', 3107: 'plessure', 3108: 'desperate', 3109: 'spare', 3110: 'suck', 3111: 'chemicals', 3112: 'impossible', 3113: 'numbed', 3114: 'bleeds', 3115: 'nightfall', 3116: 'rug', 3117: 'stupid', 3118: 'bothered', 3119: 'persistence', 3120: 'lashing', 3121: 'standard', 3122: 'sympathize', 3123: 'violins', 3124: 'celebration', 3125: 'sickness', 3126: 'carried', 3127: 'triumph', 3128: 'amazed', 3129: 'cheers', 3130: 'aglow', 3131: 'vanish', 3132: 'dre', 3133: 'krinkle', 3134: 'sentimental', 3135: 'shared', 3136: 'asking', 3137: 'resent', 3138: 'brains', 3139: 'fighters', 3140: 'brainwashed', 3141: 'pollution', 3142: 'waits', 3143: 'ancient', 3144: 'void', 3145: 'shields', 3146: 'satan', 3147: 'slaves', 3148: 'pace', 3149: 'forth', 3150: 'unfair', 3151: 'wakes', 3152: 'tender', 3153: 'fools', 3154: 'sooner', 3155: 'later', 3156: 'fever', 3157: 'whose', 3158: 'primary', 3159: 'concern', 3160: 'illest', 3161: 'hustler', 3162: 'moviestars', 3163: 'sniff', 3164: 'corrupted', 3165: 'books', 3166: 'myths', 3167: 'achilles', 3168: 'hercules', 3169: 'gifts', 3170: 'spider', 3171: 'batman', 3172: 'fists', 3173: 'list', 3174: 'monotony', 3175: 'colour', 3176: 'greeted', 3177: 'blanks', 3178: 'drones', 3179: 'wolves', 3180: 'leader', 3181: 'scar', 3182: 'build', 3183: 'pictures', 3184: 'disconnecting', 3185: 'shh', 3186: 'comfort', 3187: 'bond', 3188: 'sends', 3189: 'shivers', 3190: 'spine', 3191: 'oooh', 3192: 'dive', 3193: 'ticks', 3194: 'relentlessly', 3195: 'clarity'}\n"
          ]
        }
      ]
    },
    {
      "cell_type": "code",
      "source": [
        "def decode(sequence):\n",
        "    return \" \".join([reverse_word_index.get(idx, \"?\") for idx in sequence])"
      ],
      "metadata": {
        "id": "FGGB8b-OVQyo"
      },
      "execution_count": 70,
      "outputs": []
    },
    {
      "cell_type": "code",
      "source": [
        "decoded_text = decode(train_sequences[10])\n",
        "\n",
        "print(train_sequences[10])\n",
        "print(decoded_text)"
      ],
      "metadata": {
        "colab": {
          "base_uri": "https://localhost:8080/"
        },
        "id": "F0YaI4NrVTXI",
        "outputId": "8e10a409-4a65-49a5-fc1e-c9a8dd29d5ee"
      },
      "execution_count": 71,
      "outputs": [
        {
          "output_type": "stream",
          "name": "stdout",
          "text": [
            "[9, 139, 211, 1612, 703, 11, 11, 131, 28, 891, 4, 2, 2, 263]\n",
            "never miss beat lightning feet see see dancing make moves go know know shake\n"
          ]
        }
      ]
    },
    {
      "cell_type": "code",
      "source": [
        "# Create LSTM model\n",
        "from tensorflow.keras import layers\n",
        "\n",
        "# Embedding: https://www.tensorflow.org/tutorials/text/word_embeddings\n",
        "# Turns positive integers (indexes) into dense vectors of fixed size. (other approach could be one-hot-encoding)\n",
        "\n",
        "# Word embeddings give us a way to use an efficient, dense representation in which similar words have \n",
        "# a similar encoding. Importantly, you do not have to specify this encoding by hand. An embedding is a \n",
        "# dense vector of floating point values (the length of the vector is a parameter you specify).\n",
        "\n",
        "model = keras.models.Sequential()\n",
        "model.add(layers.Embedding(num_unique_words, 32, input_length=max_length))\n",
        "\n",
        "\n",
        "# The layer will take as input an integer matrix of size (batch, input_length),\n",
        "# and the largest integer (i.e. word index) in the input should be no larger than num_words (vocabulary size).\n",
        "# Now model.output_shape is (None, input_length, 32), where `None` is the batch dimension.\n",
        "\n",
        "\n",
        "model.add(layers.LSTM(64, dropout=0.1))\n",
        "model.add(layers.Dense(6, activation=\"sigmoid\"))\n",
        "\n",
        "model.summary()"
      ],
      "metadata": {
        "colab": {
          "base_uri": "https://localhost:8080/"
        },
        "id": "nAQ8reOPVX4_",
        "outputId": "d2c855dd-cfb7-4314-92b5-113e1bb6da29"
      },
      "execution_count": 89,
      "outputs": [
        {
          "output_type": "stream",
          "name": "stdout",
          "text": [
            "Model: \"sequential_3\"\n",
            "_________________________________________________________________\n",
            " Layer (type)                Output Shape              Param #   \n",
            "=================================================================\n",
            " embedding_3 (Embedding)     (None, 20, 32)            112224    \n",
            "                                                                 \n",
            " lstm_3 (LSTM)               (None, 64)                24832     \n",
            "                                                                 \n",
            " dense_3 (Dense)             (None, 6)                 390       \n",
            "                                                                 \n",
            "=================================================================\n",
            "Total params: 137,446\n",
            "Trainable params: 137,446\n",
            "Non-trainable params: 0\n",
            "_________________________________________________________________\n"
          ]
        }
      ]
    },
    {
      "cell_type": "code",
      "source": [
        "loss = keras.losses.SparseCategoricalCrossentropy()\n",
        "optim = keras.optimizers.Adam(learning_rate=0.0001)\n",
        "metrics = [\"accuracy\"]\n",
        "\n",
        "model.compile(loss=loss, optimizer=optim, metrics=metrics)"
      ],
      "metadata": {
        "id": "dEmuNsyTVhqp"
      },
      "execution_count": 90,
      "outputs": []
    },
    {
      "cell_type": "code",
      "source": [
        "model.fit(\n",
        "    train_padded, \n",
        "    train_labels, \n",
        "    epochs=100,\n",
        "    validation_data=(val_padded, val_labels), \n",
        "    validation_split=0.2,\n",
        "    verbose=2)"
      ],
      "metadata": {
        "colab": {
          "base_uri": "https://localhost:8080/"
        },
        "id": "bV6YRfHRVo2A",
        "outputId": "e3fca1d7-cf99-4c93-b7e0-654b6e5e60c8"
      },
      "execution_count": 92,
      "outputs": [
        {
          "output_type": "stream",
          "name": "stdout",
          "text": [
            "Epoch 1/100\n",
            "16/16 - 0s - loss: 0.2754 - accuracy: 0.8789 - val_loss: 0.2117 - val_accuracy: 0.9062 - 431ms/epoch - 27ms/step\n",
            "Epoch 2/100\n",
            "16/16 - 0s - loss: 0.2795 - accuracy: 0.8789 - val_loss: 0.2125 - val_accuracy: 0.9062 - 359ms/epoch - 22ms/step\n",
            "Epoch 3/100\n",
            "16/16 - 0s - loss: 0.3032 - accuracy: 0.8711 - val_loss: 0.2157 - val_accuracy: 0.9062 - 361ms/epoch - 23ms/step\n",
            "Epoch 4/100\n",
            "16/16 - 0s - loss: 0.2796 - accuracy: 0.8789 - val_loss: 0.2193 - val_accuracy: 0.9062 - 207ms/epoch - 13ms/step\n",
            "Epoch 5/100\n",
            "16/16 - 0s - loss: 0.2671 - accuracy: 0.8848 - val_loss: 0.2192 - val_accuracy: 0.9062 - 205ms/epoch - 13ms/step\n",
            "Epoch 6/100\n",
            "16/16 - 0s - loss: 0.2888 - accuracy: 0.8750 - val_loss: 0.2230 - val_accuracy: 0.9062 - 218ms/epoch - 14ms/step\n",
            "Epoch 7/100\n",
            "16/16 - 0s - loss: 0.2800 - accuracy: 0.8809 - val_loss: 0.2181 - val_accuracy: 0.9062 - 195ms/epoch - 12ms/step\n",
            "Epoch 8/100\n",
            "16/16 - 0s - loss: 0.2633 - accuracy: 0.8848 - val_loss: 0.2215 - val_accuracy: 0.9062 - 218ms/epoch - 14ms/step\n",
            "Epoch 9/100\n",
            "16/16 - 0s - loss: 0.2659 - accuracy: 0.8828 - val_loss: 0.2241 - val_accuracy: 0.9062 - 220ms/epoch - 14ms/step\n",
            "Epoch 10/100\n",
            "16/16 - 0s - loss: 0.2528 - accuracy: 0.8926 - val_loss: 0.2218 - val_accuracy: 0.9062 - 223ms/epoch - 14ms/step\n",
            "Epoch 11/100\n",
            "16/16 - 0s - loss: 0.2661 - accuracy: 0.8848 - val_loss: 0.2239 - val_accuracy: 0.9062 - 197ms/epoch - 12ms/step\n",
            "Epoch 12/100\n",
            "16/16 - 0s - loss: 0.2515 - accuracy: 0.8926 - val_loss: 0.2202 - val_accuracy: 0.9062 - 205ms/epoch - 13ms/step\n",
            "Epoch 13/100\n",
            "16/16 - 0s - loss: 0.2501 - accuracy: 0.8887 - val_loss: 0.2201 - val_accuracy: 0.9062 - 213ms/epoch - 13ms/step\n",
            "Epoch 14/100\n",
            "16/16 - 0s - loss: 0.2550 - accuracy: 0.8867 - val_loss: 0.2138 - val_accuracy: 0.9062 - 215ms/epoch - 13ms/step\n",
            "Epoch 15/100\n",
            "16/16 - 0s - loss: 0.2578 - accuracy: 0.8828 - val_loss: 0.2157 - val_accuracy: 0.9062 - 201ms/epoch - 13ms/step\n",
            "Epoch 16/100\n",
            "16/16 - 0s - loss: 0.2557 - accuracy: 0.8926 - val_loss: 0.2093 - val_accuracy: 0.9062 - 223ms/epoch - 14ms/step\n",
            "Epoch 17/100\n",
            "16/16 - 0s - loss: 0.2493 - accuracy: 0.8945 - val_loss: 0.2193 - val_accuracy: 0.9062 - 231ms/epoch - 14ms/step\n",
            "Epoch 18/100\n",
            "16/16 - 0s - loss: 0.2703 - accuracy: 0.8809 - val_loss: 0.2621 - val_accuracy: 0.8828 - 203ms/epoch - 13ms/step\n",
            "Epoch 19/100\n",
            "16/16 - 0s - loss: 0.2568 - accuracy: 0.8906 - val_loss: 0.2452 - val_accuracy: 0.9062 - 213ms/epoch - 13ms/step\n",
            "Epoch 20/100\n",
            "16/16 - 0s - loss: 0.2471 - accuracy: 0.8926 - val_loss: 0.2254 - val_accuracy: 0.9062 - 213ms/epoch - 13ms/step\n",
            "Epoch 21/100\n",
            "16/16 - 0s - loss: 0.2590 - accuracy: 0.8926 - val_loss: 0.2498 - val_accuracy: 0.9062 - 219ms/epoch - 14ms/step\n",
            "Epoch 22/100\n",
            "16/16 - 0s - loss: 0.2450 - accuracy: 0.9004 - val_loss: 0.2469 - val_accuracy: 0.9062 - 223ms/epoch - 14ms/step\n",
            "Epoch 23/100\n",
            "16/16 - 0s - loss: 0.2533 - accuracy: 0.8965 - val_loss: 0.2247 - val_accuracy: 0.9062 - 206ms/epoch - 13ms/step\n",
            "Epoch 24/100\n",
            "16/16 - 0s - loss: 0.2388 - accuracy: 0.9023 - val_loss: 0.2233 - val_accuracy: 0.9062 - 208ms/epoch - 13ms/step\n",
            "Epoch 25/100\n",
            "16/16 - 0s - loss: 0.2391 - accuracy: 0.9004 - val_loss: 0.2284 - val_accuracy: 0.9062 - 209ms/epoch - 13ms/step\n",
            "Epoch 26/100\n",
            "16/16 - 0s - loss: 0.2424 - accuracy: 0.9023 - val_loss: 0.2304 - val_accuracy: 0.9062 - 197ms/epoch - 12ms/step\n",
            "Epoch 27/100\n",
            "16/16 - 0s - loss: 0.2623 - accuracy: 0.8945 - val_loss: 0.2313 - val_accuracy: 0.9062 - 218ms/epoch - 14ms/step\n",
            "Epoch 28/100\n",
            "16/16 - 0s - loss: 0.2365 - accuracy: 0.9062 - val_loss: 0.2245 - val_accuracy: 0.9062 - 196ms/epoch - 12ms/step\n",
            "Epoch 29/100\n",
            "16/16 - 0s - loss: 0.2386 - accuracy: 0.9043 - val_loss: 0.2229 - val_accuracy: 0.9062 - 202ms/epoch - 13ms/step\n",
            "Epoch 30/100\n",
            "16/16 - 0s - loss: 0.2404 - accuracy: 0.9043 - val_loss: 0.2264 - val_accuracy: 0.9062 - 237ms/epoch - 15ms/step\n",
            "Epoch 31/100\n",
            "16/16 - 0s - loss: 0.2412 - accuracy: 0.9043 - val_loss: 0.2203 - val_accuracy: 0.9062 - 226ms/epoch - 14ms/step\n",
            "Epoch 32/100\n",
            "16/16 - 0s - loss: 0.2334 - accuracy: 0.9062 - val_loss: 0.2259 - val_accuracy: 0.9062 - 212ms/epoch - 13ms/step\n",
            "Epoch 33/100\n",
            "16/16 - 0s - loss: 0.2311 - accuracy: 0.9062 - val_loss: 0.2294 - val_accuracy: 0.9062 - 211ms/epoch - 13ms/step\n",
            "Epoch 34/100\n",
            "16/16 - 0s - loss: 0.2414 - accuracy: 0.9004 - val_loss: 0.2275 - val_accuracy: 0.9062 - 224ms/epoch - 14ms/step\n",
            "Epoch 35/100\n",
            "16/16 - 0s - loss: 0.2344 - accuracy: 0.9062 - val_loss: 0.2221 - val_accuracy: 0.9062 - 221ms/epoch - 14ms/step\n",
            "Epoch 36/100\n",
            "16/16 - 0s - loss: 0.2315 - accuracy: 0.9043 - val_loss: 0.2269 - val_accuracy: 0.9062 - 231ms/epoch - 14ms/step\n",
            "Epoch 37/100\n",
            "16/16 - 0s - loss: 0.2363 - accuracy: 0.9023 - val_loss: 0.2322 - val_accuracy: 0.9062 - 226ms/epoch - 14ms/step\n",
            "Epoch 38/100\n",
            "16/16 - 0s - loss: 0.2324 - accuracy: 0.9062 - val_loss: 0.2238 - val_accuracy: 0.9062 - 225ms/epoch - 14ms/step\n",
            "Epoch 39/100\n",
            "16/16 - 0s - loss: 0.2407 - accuracy: 0.9043 - val_loss: 0.2310 - val_accuracy: 0.8984 - 227ms/epoch - 14ms/step\n",
            "Epoch 40/100\n",
            "16/16 - 0s - loss: 0.2339 - accuracy: 0.9043 - val_loss: 0.2249 - val_accuracy: 0.9062 - 252ms/epoch - 16ms/step\n",
            "Epoch 41/100\n",
            "16/16 - 0s - loss: 0.2330 - accuracy: 0.9043 - val_loss: 0.2259 - val_accuracy: 0.9062 - 221ms/epoch - 14ms/step\n",
            "Epoch 42/100\n",
            "16/16 - 0s - loss: 0.2260 - accuracy: 0.9121 - val_loss: 0.2218 - val_accuracy: 0.9062 - 240ms/epoch - 15ms/step\n",
            "Epoch 43/100\n",
            "16/16 - 0s - loss: 0.2264 - accuracy: 0.9082 - val_loss: 0.2254 - val_accuracy: 0.9062 - 250ms/epoch - 16ms/step\n",
            "Epoch 44/100\n",
            "16/16 - 0s - loss: 0.2347 - accuracy: 0.9082 - val_loss: 0.2348 - val_accuracy: 0.9062 - 220ms/epoch - 14ms/step\n",
            "Epoch 45/100\n",
            "16/16 - 0s - loss: 0.2414 - accuracy: 0.9023 - val_loss: 0.2283 - val_accuracy: 0.9062 - 218ms/epoch - 14ms/step\n",
            "Epoch 46/100\n",
            "16/16 - 0s - loss: 0.2516 - accuracy: 0.9004 - val_loss: 0.2479 - val_accuracy: 0.9062 - 209ms/epoch - 13ms/step\n",
            "Epoch 47/100\n",
            "16/16 - 0s - loss: 0.2280 - accuracy: 0.9082 - val_loss: 0.2320 - val_accuracy: 0.9141 - 210ms/epoch - 13ms/step\n",
            "Epoch 48/100\n",
            "16/16 - 0s - loss: 0.2245 - accuracy: 0.9121 - val_loss: 0.2553 - val_accuracy: 0.8984 - 196ms/epoch - 12ms/step\n",
            "Epoch 49/100\n",
            "16/16 - 0s - loss: 0.2291 - accuracy: 0.9102 - val_loss: 0.2702 - val_accuracy: 0.8906 - 226ms/epoch - 14ms/step\n",
            "Epoch 50/100\n",
            "16/16 - 0s - loss: 0.2295 - accuracy: 0.9102 - val_loss: 0.2682 - val_accuracy: 0.8984 - 210ms/epoch - 13ms/step\n",
            "Epoch 51/100\n",
            "16/16 - 0s - loss: 0.2317 - accuracy: 0.9102 - val_loss: 0.2375 - val_accuracy: 0.8984 - 215ms/epoch - 13ms/step\n",
            "Epoch 52/100\n",
            "16/16 - 0s - loss: 0.2263 - accuracy: 0.9160 - val_loss: 0.2446 - val_accuracy: 0.9062 - 215ms/epoch - 13ms/step\n",
            "Epoch 53/100\n",
            "16/16 - 0s - loss: 0.2212 - accuracy: 0.9238 - val_loss: 0.2492 - val_accuracy: 0.9062 - 203ms/epoch - 13ms/step\n",
            "Epoch 54/100\n",
            "16/16 - 0s - loss: 0.2205 - accuracy: 0.9277 - val_loss: 0.2516 - val_accuracy: 0.9141 - 225ms/epoch - 14ms/step\n",
            "Epoch 55/100\n",
            "16/16 - 0s - loss: 0.2235 - accuracy: 0.9180 - val_loss: 0.2590 - val_accuracy: 0.9141 - 205ms/epoch - 13ms/step\n",
            "Epoch 56/100\n",
            "16/16 - 0s - loss: 0.2341 - accuracy: 0.9121 - val_loss: 0.2560 - val_accuracy: 0.9141 - 219ms/epoch - 14ms/step\n",
            "Epoch 57/100\n",
            "16/16 - 0s - loss: 0.2178 - accuracy: 0.9238 - val_loss: 0.2558 - val_accuracy: 0.9141 - 206ms/epoch - 13ms/step\n",
            "Epoch 58/100\n",
            "16/16 - 0s - loss: 0.2180 - accuracy: 0.9238 - val_loss: 0.2485 - val_accuracy: 0.9141 - 219ms/epoch - 14ms/step\n",
            "Epoch 59/100\n",
            "16/16 - 0s - loss: 0.2147 - accuracy: 0.9219 - val_loss: 0.2436 - val_accuracy: 0.9141 - 210ms/epoch - 13ms/step\n",
            "Epoch 60/100\n",
            "16/16 - 0s - loss: 0.2283 - accuracy: 0.9219 - val_loss: 0.2523 - val_accuracy: 0.9141 - 199ms/epoch - 12ms/step\n",
            "Epoch 61/100\n",
            "16/16 - 0s - loss: 0.2168 - accuracy: 0.9258 - val_loss: 0.2591 - val_accuracy: 0.9141 - 210ms/epoch - 13ms/step\n",
            "Epoch 62/100\n",
            "16/16 - 0s - loss: 0.2218 - accuracy: 0.9258 - val_loss: 0.2524 - val_accuracy: 0.9062 - 197ms/epoch - 12ms/step\n",
            "Epoch 63/100\n",
            "16/16 - 0s - loss: 0.2177 - accuracy: 0.9219 - val_loss: 0.2406 - val_accuracy: 0.9062 - 205ms/epoch - 13ms/step\n",
            "Epoch 64/100\n",
            "16/16 - 0s - loss: 0.2171 - accuracy: 0.9258 - val_loss: 0.2390 - val_accuracy: 0.9062 - 218ms/epoch - 14ms/step\n",
            "Epoch 65/100\n",
            "16/16 - 0s - loss: 0.2239 - accuracy: 0.9219 - val_loss: 0.2370 - val_accuracy: 0.9141 - 217ms/epoch - 14ms/step\n",
            "Epoch 66/100\n",
            "16/16 - 0s - loss: 0.2175 - accuracy: 0.9336 - val_loss: 0.2377 - val_accuracy: 0.9141 - 234ms/epoch - 15ms/step\n",
            "Epoch 67/100\n",
            "16/16 - 0s - loss: 0.2152 - accuracy: 0.9375 - val_loss: 0.2556 - val_accuracy: 0.9141 - 208ms/epoch - 13ms/step\n",
            "Epoch 68/100\n",
            "16/16 - 0s - loss: 0.2135 - accuracy: 0.9316 - val_loss: 0.2311 - val_accuracy: 0.9141 - 220ms/epoch - 14ms/step\n",
            "Epoch 69/100\n",
            "16/16 - 0s - loss: 0.2156 - accuracy: 0.9316 - val_loss: 0.2293 - val_accuracy: 0.9219 - 208ms/epoch - 13ms/step\n",
            "Epoch 70/100\n",
            "16/16 - 0s - loss: 0.2121 - accuracy: 0.9316 - val_loss: 0.2342 - val_accuracy: 0.9141 - 211ms/epoch - 13ms/step\n",
            "Epoch 71/100\n",
            "16/16 - 0s - loss: 0.2142 - accuracy: 0.9355 - val_loss: 0.2427 - val_accuracy: 0.9141 - 215ms/epoch - 13ms/step\n",
            "Epoch 72/100\n",
            "16/16 - 0s - loss: 0.2068 - accuracy: 0.9375 - val_loss: 0.2443 - val_accuracy: 0.9141 - 212ms/epoch - 13ms/step\n",
            "Epoch 73/100\n",
            "16/16 - 0s - loss: 0.2106 - accuracy: 0.9355 - val_loss: 0.2855 - val_accuracy: 0.9141 - 210ms/epoch - 13ms/step\n",
            "Epoch 74/100\n",
            "16/16 - 0s - loss: 0.2071 - accuracy: 0.9414 - val_loss: 0.2798 - val_accuracy: 0.8906 - 214ms/epoch - 13ms/step\n",
            "Epoch 75/100\n",
            "16/16 - 0s - loss: 0.2182 - accuracy: 0.9297 - val_loss: 0.2715 - val_accuracy: 0.9141 - 212ms/epoch - 13ms/step\n",
            "Epoch 76/100\n",
            "16/16 - 0s - loss: 0.2026 - accuracy: 0.9414 - val_loss: 0.2933 - val_accuracy: 0.9062 - 229ms/epoch - 14ms/step\n",
            "Epoch 77/100\n",
            "16/16 - 0s - loss: 0.2039 - accuracy: 0.9395 - val_loss: 0.2586 - val_accuracy: 0.9141 - 210ms/epoch - 13ms/step\n",
            "Epoch 78/100\n",
            "16/16 - 0s - loss: 0.2005 - accuracy: 0.9414 - val_loss: 0.2835 - val_accuracy: 0.9141 - 241ms/epoch - 15ms/step\n",
            "Epoch 79/100\n",
            "16/16 - 0s - loss: 0.1977 - accuracy: 0.9434 - val_loss: 0.2828 - val_accuracy: 0.9141 - 211ms/epoch - 13ms/step\n",
            "Epoch 80/100\n",
            "16/16 - 0s - loss: 0.1958 - accuracy: 0.9434 - val_loss: 0.2871 - val_accuracy: 0.9141 - 210ms/epoch - 13ms/step\n",
            "Epoch 81/100\n",
            "16/16 - 0s - loss: 0.1948 - accuracy: 0.9512 - val_loss: 0.2867 - val_accuracy: 0.9141 - 226ms/epoch - 14ms/step\n",
            "Epoch 82/100\n",
            "16/16 - 0s - loss: 0.2052 - accuracy: 0.9434 - val_loss: 0.2860 - val_accuracy: 0.9141 - 243ms/epoch - 15ms/step\n",
            "Epoch 83/100\n",
            "16/16 - 0s - loss: 0.1924 - accuracy: 0.9453 - val_loss: 0.2949 - val_accuracy: 0.9141 - 223ms/epoch - 14ms/step\n",
            "Epoch 84/100\n",
            "16/16 - 0s - loss: 0.1971 - accuracy: 0.9395 - val_loss: 0.2803 - val_accuracy: 0.9141 - 203ms/epoch - 13ms/step\n",
            "Epoch 85/100\n",
            "16/16 - 0s - loss: 0.1959 - accuracy: 0.9492 - val_loss: 0.2757 - val_accuracy: 0.9141 - 205ms/epoch - 13ms/step\n",
            "Epoch 86/100\n",
            "16/16 - 0s - loss: 0.1956 - accuracy: 0.9453 - val_loss: 0.3182 - val_accuracy: 0.9141 - 211ms/epoch - 13ms/step\n",
            "Epoch 87/100\n",
            "16/16 - 0s - loss: 0.1961 - accuracy: 0.9473 - val_loss: 0.4223 - val_accuracy: 0.8672 - 218ms/epoch - 14ms/step\n",
            "Epoch 88/100\n",
            "16/16 - 0s - loss: 0.1976 - accuracy: 0.9492 - val_loss: 0.3933 - val_accuracy: 0.8984 - 206ms/epoch - 13ms/step\n",
            "Epoch 89/100\n",
            "16/16 - 0s - loss: 0.2014 - accuracy: 0.9473 - val_loss: 0.3133 - val_accuracy: 0.9141 - 207ms/epoch - 13ms/step\n",
            "Epoch 90/100\n",
            "16/16 - 0s - loss: 0.1994 - accuracy: 0.9590 - val_loss: 0.3122 - val_accuracy: 0.9219 - 217ms/epoch - 14ms/step\n",
            "Epoch 91/100\n",
            "16/16 - 0s - loss: 0.1833 - accuracy: 0.9609 - val_loss: 0.3696 - val_accuracy: 0.8672 - 199ms/epoch - 12ms/step\n",
            "Epoch 92/100\n",
            "16/16 - 0s - loss: 0.1839 - accuracy: 0.9629 - val_loss: 0.3708 - val_accuracy: 0.8828 - 220ms/epoch - 14ms/step\n",
            "Epoch 93/100\n",
            "16/16 - 0s - loss: 0.2095 - accuracy: 0.9473 - val_loss: 0.4042 - val_accuracy: 0.8672 - 209ms/epoch - 13ms/step\n",
            "Epoch 94/100\n",
            "16/16 - 0s - loss: 0.1828 - accuracy: 0.9590 - val_loss: 0.3058 - val_accuracy: 0.9219 - 208ms/epoch - 13ms/step\n",
            "Epoch 95/100\n",
            "16/16 - 0s - loss: 0.1942 - accuracy: 0.9512 - val_loss: 0.2839 - val_accuracy: 0.9062 - 209ms/epoch - 13ms/step\n",
            "Epoch 96/100\n",
            "16/16 - 0s - loss: 0.1805 - accuracy: 0.9609 - val_loss: 0.2877 - val_accuracy: 0.9141 - 238ms/epoch - 15ms/step\n",
            "Epoch 97/100\n",
            "16/16 - 0s - loss: 0.1896 - accuracy: 0.9531 - val_loss: 0.2906 - val_accuracy: 0.9062 - 208ms/epoch - 13ms/step\n",
            "Epoch 98/100\n",
            "16/16 - 0s - loss: 0.1756 - accuracy: 0.9609 - val_loss: 0.2944 - val_accuracy: 0.9062 - 214ms/epoch - 13ms/step\n",
            "Epoch 99/100\n",
            "16/16 - 0s - loss: 0.1721 - accuracy: 0.9668 - val_loss: 0.2855 - val_accuracy: 0.9141 - 202ms/epoch - 13ms/step\n",
            "Epoch 100/100\n",
            "16/16 - 0s - loss: 0.1748 - accuracy: 0.9648 - val_loss: 0.2940 - val_accuracy: 0.9062 - 212ms/epoch - 13ms/step\n"
          ]
        },
        {
          "output_type": "execute_result",
          "data": {
            "text/plain": [
              "<keras.callbacks.History at 0x7f1124808d50>"
            ]
          },
          "metadata": {},
          "execution_count": 92
        }
      ]
    },
    {
      "cell_type": "code",
      "source": [
        "predictions = model.predict(train_padded)\n",
        "#predictions = [1 if p > 0.5 else 0 for p in predictions]"
      ],
      "metadata": {
        "id": "YhNo0D6WWz8S"
      },
      "execution_count": 93,
      "outputs": []
    },
    {
      "cell_type": "code",
      "source": [
        "print(train_sentences[10:12])\n",
        "\n",
        "print(train_labels[10:12])\n",
        "print(predictions[10:12])"
      ],
      "metadata": {
        "colab": {
          "base_uri": "https://localhost:8080/"
        },
        "id": "NTe7KuQDW3N4",
        "outputId": "88e2afbe-e5e3-40e3-c3ae-789c92227b99"
      },
      "execution_count": 94,
      "outputs": [
        {
          "output_type": "stream",
          "name": "stdout",
          "text": [
            "['never miss beat lightning feet see see dancing make moves go know know shake'\n",
            " 'memory feeling way blood rushes fingers movies cause lies issues cause mine every movement way shiver twist hair end fingers young daylight dream gone music meets song fell right wrong would come back one last song']\n",
            "[5 2]\n",
            "[[0.8496495  0.05651093 0.10597646 0.13943863 0.6570504  0.9986087 ]\n",
            " [0.7058038  0.53089476 0.9990344  0.0033989  0.00641796 0.1604768 ]]\n"
          ]
        }
      ]
    }
  ]
}