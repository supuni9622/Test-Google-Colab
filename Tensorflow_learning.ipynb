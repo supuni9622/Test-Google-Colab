{
  "nbformat": 4,
  "nbformat_minor": 0,
  "metadata": {
    "colab": {
      "name": "Tensorflow learning.ipynb",
      "provenance": [],
      "authorship_tag": "ABX9TyNI0DMQ4rMB7Ae3IykhmV+e",
      "include_colab_link": true
    },
    "kernelspec": {
      "name": "python3",
      "display_name": "Python 3"
    },
    "language_info": {
      "name": "python"
    }
  },
  "cells": [
    {
      "cell_type": "markdown",
      "metadata": {
        "id": "view-in-github",
        "colab_type": "text"
      },
      "source": [
        "<a href=\"https://colab.research.google.com/github/supuni9622/Test-Google-Colab/blob/main/Tensorflow_learning.ipynb\" target=\"_parent\"><img src=\"https://colab.research.google.com/assets/colab-badge.svg\" alt=\"Open In Colab\"/></a>"
      ]
    },
    {
      "cell_type": "code",
      "execution_count": null,
      "metadata": {
        "colab": {
          "base_uri": "https://localhost:8080/"
        },
        "id": "Md6ihLz10-Mo",
        "outputId": "2d34e33a-df90-4dc8-826f-58125d4b6f87"
      },
      "outputs": [
        {
          "output_type": "stream",
          "name": "stdout",
          "text": [
            "1125899900000000.0\n"
          ]
        }
      ],
      "source": [
        "import tensorflow as tf\n",
        "\n",
        "a=tf.Variable(0.)\n",
        "b=tf.Variable(1.)\n",
        "\n",
        "for iteration in range(50):\n",
        "  a.assign(a+b)\n",
        "  b.assign(b*2)\n",
        "\n",
        "print(a.numpy())\n",
        "\n"
      ]
    },
    {
      "cell_type": "code",
      "source": [
        "import string\n",
        "import nltk\n",
        "nltk.download('stopwords')\n",
        "from nltk.corpus import stopwords\n",
        "\n",
        "stopwords.words('english')[0:10]"
      ],
      "metadata": {
        "colab": {
          "base_uri": "https://localhost:8080/"
        },
        "id": "pu9V2kIlayt-",
        "outputId": "742bc6d5-1a97-4dd4-ce62-7d32bf903b92"
      },
      "execution_count": null,
      "outputs": [
        {
          "output_type": "stream",
          "name": "stdout",
          "text": [
            "[nltk_data] Downloading package stopwords to /root/nltk_data...\n",
            "[nltk_data]   Unzipping corpora/stopwords.zip.\n"
          ]
        },
        {
          "output_type": "execute_result",
          "data": {
            "text/plain": [
              "['i', 'me', 'my', 'myself', 'we', 'our', 'ours', 'ourselves', 'you', \"you're\"]"
            ]
          },
          "metadata": {},
          "execution_count": 2
        }
      ]
    },
    {
      "cell_type": "code",
      "source": [
        "test_sentence = 'This is my first test string. Wow! we are doing just fine'"
      ],
      "metadata": {
        "id": "hcDyfVKAbQG3"
      },
      "execution_count": null,
      "outputs": []
    },
    {
      "cell_type": "code",
      "source": [
        "#Lemitate the punctuation in form of characters and print them\n",
        "no_punctuation = [char for char in test_sentence if char not in string.punctuation]\n",
        "no_punctuation"
      ],
      "metadata": {
        "colab": {
          "base_uri": "https://localhost:8080/"
        },
        "id": "rxEkcP6jbfDm",
        "outputId": "000a8e43-5b1b-486e-f320-c16352cf2421"
      },
      "execution_count": null,
      "outputs": [
        {
          "output_type": "execute_result",
          "data": {
            "text/plain": [
              "['T',\n",
              " 'h',\n",
              " 'i',\n",
              " 's',\n",
              " ' ',\n",
              " 'i',\n",
              " 's',\n",
              " ' ',\n",
              " 'm',\n",
              " 'y',\n",
              " ' ',\n",
              " 'f',\n",
              " 'i',\n",
              " 'r',\n",
              " 's',\n",
              " 't',\n",
              " ' ',\n",
              " 't',\n",
              " 'e',\n",
              " 's',\n",
              " 't',\n",
              " ' ',\n",
              " 's',\n",
              " 't',\n",
              " 'r',\n",
              " 'i',\n",
              " 'n',\n",
              " 'g',\n",
              " ' ',\n",
              " 'W',\n",
              " 'o',\n",
              " 'w',\n",
              " ' ',\n",
              " 'w',\n",
              " 'e',\n",
              " ' ',\n",
              " 'a',\n",
              " 'r',\n",
              " 'e',\n",
              " ' ',\n",
              " 'd',\n",
              " 'o',\n",
              " 'i',\n",
              " 'n',\n",
              " 'g',\n",
              " ' ',\n",
              " 'j',\n",
              " 'u',\n",
              " 's',\n",
              " 't',\n",
              " ' ',\n",
              " 'f',\n",
              " 'i',\n",
              " 'n',\n",
              " 'e']"
            ]
          },
          "metadata": {},
          "execution_count": 4
        }
      ]
    },
    {
      "cell_type": "code",
      "source": [
        "#Eliminate the punctuation and print them as a whole sentence\n",
        "no_punctuation = ''.join(no_punctuation)\n",
        "no_punctuation"
      ],
      "metadata": {
        "colab": {
          "base_uri": "https://localhost:8080/",
          "height": 35
        },
        "id": "ZplR5PQ0b5vX",
        "outputId": "89d8478c-9eff-4f2b-da70-fe2a7decb74f"
      },
      "execution_count": null,
      "outputs": [
        {
          "output_type": "execute_result",
          "data": {
            "application/vnd.google.colaboratory.intrinsic+json": {
              "type": "string"
            },
            "text/plain": [
              "'This is my first test string Wow we are doing just fine'"
            ]
          },
          "metadata": {},
          "execution_count": 5
        }
      ]
    },
    {
      "cell_type": "code",
      "source": [
        "#Split each words present in the new sentence\n",
        "no_punctuation.split()"
      ],
      "metadata": {
        "colab": {
          "base_uri": "https://localhost:8080/"
        },
        "id": "X6C4PhRhcRTS",
        "outputId": "f0cc1f88-b5c5-4ab9-faed-0232a7b441a3"
      },
      "execution_count": null,
      "outputs": [
        {
          "output_type": "execute_result",
          "data": {
            "text/plain": [
              "['This',\n",
              " 'is',\n",
              " 'my',\n",
              " 'first',\n",
              " 'test',\n",
              " 'string',\n",
              " 'Wow',\n",
              " 'we',\n",
              " 'are',\n",
              " 'doing',\n",
              " 'just',\n",
              " 'fine']"
            ]
          },
          "metadata": {},
          "execution_count": 6
        }
      ]
    },
    {
      "cell_type": "code",
      "source": [
        "#Eliminate stop words\n",
        "clean_sentence = [word for word in no_punctuation.split() if word.lower() not in stopwords.words('english')]\n",
        "clean_sentence"
      ],
      "metadata": {
        "colab": {
          "base_uri": "https://localhost:8080/"
        },
        "id": "lpp57fb0chZL",
        "outputId": "3c2253f9-5b92-4b79-9d44-2c1e4db9a3ac"
      },
      "execution_count": null,
      "outputs": [
        {
          "output_type": "execute_result",
          "data": {
            "text/plain": [
              "['first', 'test', 'string', 'Wow', 'fine']"
            ]
          },
          "metadata": {},
          "execution_count": 7
        }
      ]
    },
    {
      "cell_type": "code",
      "source": [
        "import sklearn\n",
        "\n",
        "#load dataset\n",
        "from sklearn.datasets import load_digits\n",
        "\n",
        "#create object of loaded dataset\n",
        "digit_dataset = load_digits()\n",
        "\n",
        "#use built in descr function to describe dataset\n",
        "digit_dataset.DESCR"
      ],
      "metadata": {
        "colab": {
          "base_uri": "https://localhost:8080/",
          "height": 244
        },
        "id": "RvhNQxAIePfF",
        "outputId": "283bcf5b-e45c-44af-a3e4-36f883b3edc4"
      },
      "execution_count": null,
      "outputs": [
        {
          "output_type": "execute_result",
          "data": {
            "application/vnd.google.colaboratory.intrinsic+json": {
              "type": "string"
            },
            "text/plain": [
              "\".. _digits_dataset:\\n\\nOptical recognition of handwritten digits dataset\\n--------------------------------------------------\\n\\n**Data Set Characteristics:**\\n\\n    :Number of Instances: 1797\\n    :Number of Attributes: 64\\n    :Attribute Information: 8x8 image of integer pixels in the range 0..16.\\n    :Missing Attribute Values: None\\n    :Creator: E. Alpaydin (alpaydin '@' boun.edu.tr)\\n    :Date: July; 1998\\n\\nThis is a copy of the test set of the UCI ML hand-written digits datasets\\nhttps://archive.ics.uci.edu/ml/datasets/Optical+Recognition+of+Handwritten+Digits\\n\\nThe data set contains images of hand-written digits: 10 classes where\\neach class refers to a digit.\\n\\nPreprocessing programs made available by NIST were used to extract\\nnormalized bitmaps of handwritten digits from a preprinted form. From a\\ntotal of 43 people, 30 contributed to the training set and different 13\\nto the test set. 32x32 bitmaps are divided into nonoverlapping blocks of\\n4x4 and the number of on pixels are counted in each block. This generates\\nan input matrix of 8x8 where each element is an integer in the range\\n0..16. This reduces dimensionality and gives invariance to small\\ndistortions.\\n\\nFor info on NIST preprocessing routines, see M. D. Garris, J. L. Blue, G.\\nT. Candela, D. L. Dimmick, J. Geist, P. J. Grother, S. A. Janet, and C.\\nL. Wilson, NIST Form-Based Handprint Recognition System, NISTIR 5469,\\n1994.\\n\\n.. topic:: References\\n\\n  - C. Kaynak (1995) Methods of Combining Multiple Classifiers and Their\\n    Applications to Handwritten Digit Recognition, MSc Thesis, Institute of\\n    Graduate Studies in Science and Engineering, Bogazici University.\\n  - E. Alpaydin, C. Kaynak (1998) Cascading Classifiers, Kybernetika.\\n  - Ken Tang and Ponnuthurai N. Suganthan and Xi Yao and A. Kai Qin.\\n    Linear dimensionalityreduction using relevance weighted LDA. School of\\n    Electrical and Electronic Engineering Nanyang Technological University.\\n    2005.\\n  - Claudio Gentile. A New Approximate Maximal Margin Classification\\n    Algorithm. NIPS. 2000.\\n\""
            ]
          },
          "metadata": {},
          "execution_count": 8
        }
      ]
    },
    {
      "cell_type": "code",
      "source": [
        "#View the type of dataset\n",
        "type(digit_dataset)"
      ],
      "metadata": {
        "colab": {
          "base_uri": "https://localhost:8080/"
        },
        "id": "bt8l8U83e44j",
        "outputId": "42c3a019-3c67-4a8c-e460-3b8d4afe9520"
      },
      "execution_count": null,
      "outputs": [
        {
          "output_type": "execute_result",
          "data": {
            "text/plain": [
              "sklearn.utils.Bunch"
            ]
          },
          "metadata": {},
          "execution_count": 9
        }
      ]
    },
    {
      "cell_type": "code",
      "source": [
        "#View data\n",
        "digit_dataset.data"
      ],
      "metadata": {
        "colab": {
          "base_uri": "https://localhost:8080/"
        },
        "id": "EOlz76kAfCAn",
        "outputId": "0ba7e672-dd3a-4c84-b83e-14467bdba69e"
      },
      "execution_count": null,
      "outputs": [
        {
          "output_type": "execute_result",
          "data": {
            "text/plain": [
              "array([[ 0.,  0.,  5., ...,  0.,  0.,  0.],\n",
              "       [ 0.,  0.,  0., ..., 10.,  0.,  0.],\n",
              "       [ 0.,  0.,  0., ..., 16.,  9.,  0.],\n",
              "       ...,\n",
              "       [ 0.,  0.,  1., ...,  6.,  0.,  0.],\n",
              "       [ 0.,  0.,  2., ..., 12.,  0.,  0.],\n",
              "       [ 0.,  0., 10., ..., 12.,  1.,  0.]])"
            ]
          },
          "metadata": {},
          "execution_count": 10
        }
      ]
    },
    {
      "cell_type": "code",
      "source": [
        "#view target\n",
        "digit_dataset.target"
      ],
      "metadata": {
        "colab": {
          "base_uri": "https://localhost:8080/"
        },
        "id": "GuR8jJalfH9c",
        "outputId": "a08ee7be-f2a1-4995-ce8a-e0b08b5fac4e"
      },
      "execution_count": null,
      "outputs": [
        {
          "output_type": "execute_result",
          "data": {
            "text/plain": [
              "array([0, 1, 2, ..., 8, 9, 8])"
            ]
          },
          "metadata": {},
          "execution_count": 11
        }
      ]
    },
    {
      "cell_type": "markdown",
      "source": [
        "**Feature Extraction**"
      ],
      "metadata": {
        "id": "W_ZmRn7YfTdh"
      }
    },
    {
      "cell_type": "code",
      "source": [
        "#Convert text data into numerical vectors\n",
        "\n",
        "#1. Bag of words (BoW)\n",
        "# Tokernization - Assign a fixed integer id to each word\n",
        "# Counting - Number of occurences of each word\n",
        "# Store - Store as the value feature\n"
      ],
      "metadata": {
        "id": "4lphPHNBfXeT"
      },
      "execution_count": null,
      "outputs": []
    },
    {
      "cell_type": "markdown",
      "source": [
        "#Bag of words model"
      ],
      "metadata": {
        "id": "_fDFh0P5h4yx"
      }
    },
    {
      "cell_type": "code",
      "source": [
        "from sklearn.feature_extraction.text import CountVectorizer\n",
        "\n",
        "#instance of the vectorizer\n",
        "vectorizer = CountVectorizer()"
      ],
      "metadata": {
        "id": "52pZXD5Bh7Xq"
      },
      "execution_count": null,
      "outputs": []
    },
    {
      "cell_type": "code",
      "source": [
        "#Create 3 documents\n",
        "doc1 = 'Hi How are you'\n",
        "doc2 = 'today is a very very pleasent day and we can have some fun fun fun'\n",
        "doc3 = 'this was an amazing experience'"
      ],
      "metadata": {
        "id": "Bni1E5RViMcD"
      },
      "execution_count": null,
      "outputs": []
    },
    {
      "cell_type": "code",
      "source": [
        "#put them together\n",
        "list_of_docs = [doc1, doc2, doc3]\n",
        "list_of_docs"
      ],
      "metadata": {
        "colab": {
          "base_uri": "https://localhost:8080/"
        },
        "id": "b8dNcQARilMy",
        "outputId": "26c114b3-5211-47e6-a1af-c74c7e684f49"
      },
      "execution_count": null,
      "outputs": [
        {
          "output_type": "execute_result",
          "data": {
            "text/plain": [
              "['Hi How are you',\n",
              " 'today is a very very pleasent day and we can have some fun fun fun',\n",
              " 'this was an amazing experience']"
            ]
          },
          "metadata": {},
          "execution_count": 14
        }
      ]
    },
    {
      "cell_type": "code",
      "source": [
        "#Fit them as bag of words\n",
        "bag_of_words = vectorizer.fit(list_of_docs)\n",
        "bag_of_words"
      ],
      "metadata": {
        "colab": {
          "base_uri": "https://localhost:8080/"
        },
        "id": "RYNTNwWSi0Bs",
        "outputId": "b6426599-e5ee-4576-8261-d09825d72c41"
      },
      "execution_count": null,
      "outputs": [
        {
          "output_type": "execute_result",
          "data": {
            "text/plain": [
              "CountVectorizer()"
            ]
          },
          "metadata": {},
          "execution_count": 15
        }
      ]
    },
    {
      "cell_type": "code",
      "source": [
        "#Apply transform method\n",
        "bag_of_words = vectorizer.transform(list_of_docs)\n",
        "print(bag_of_words)"
      ],
      "metadata": {
        "colab": {
          "base_uri": "https://localhost:8080/"
        },
        "id": "x4coZhPPjI0B",
        "outputId": "6cf67b48-cf52-448a-ec10-4ec3d9d75502"
      },
      "execution_count": null,
      "outputs": [
        {
          "output_type": "stream",
          "name": "stdout",
          "text": [
            "  (0, 3)\t1\n",
            "  (0, 9)\t1\n",
            "  (0, 10)\t1\n",
            "  (0, 19)\t1\n",
            "  (1, 2)\t1\n",
            "  (1, 4)\t1\n",
            "  (1, 5)\t1\n",
            "  (1, 7)\t3\n",
            "  (1, 8)\t1\n",
            "  (1, 11)\t1\n",
            "  (1, 12)\t1\n",
            "  (1, 13)\t1\n",
            "  (1, 15)\t1\n",
            "  (1, 16)\t2\n",
            "  (1, 18)\t1\n",
            "  (2, 0)\t1\n",
            "  (2, 1)\t1\n",
            "  (2, 6)\t1\n",
            "  (2, 14)\t1\n",
            "  (2, 17)\t1\n"
          ]
        }
      ]
    },
    {
      "cell_type": "code",
      "source": [
        "#Verify the vocabulary for reported word\n",
        "print(vectorizer.vocabulary_.get('very'))\n",
        "print(vectorizer.vocabulary_.get('fun'))"
      ],
      "metadata": {
        "colab": {
          "base_uri": "https://localhost:8080/"
        },
        "id": "dGgQ9sjnjnQK",
        "outputId": "55290fc0-f183-466e-8fd2-e9651571f9b9"
      },
      "execution_count": null,
      "outputs": [
        {
          "output_type": "stream",
          "name": "stdout",
          "text": [
            "16\n",
            "7\n"
          ]
        }
      ]
    },
    {
      "cell_type": "markdown",
      "source": [
        "**Pipeline**\n",
        "\n",
        "1. Vectorizer\n",
        "2. Transformer (tf-idf)\n",
        "3. Model training"
      ],
      "metadata": {
        "id": "6yDAzwjZltMg"
      }
    },
    {
      "cell_type": "markdown",
      "source": [
        "#Keras Tutorial"
      ],
      "metadata": {
        "id": "t-h1oZftuiKi"
      }
    },
    {
      "cell_type": "code",
      "source": [
        "import numpy as np\n",
        "from random import randint\n",
        "from sklearn.utils import shuffle \n",
        "from sklearn.preprocessing import MinMaxScaler\n",
        "\n",
        "train_labels = []\n",
        "train_samples = []"
      ],
      "metadata": {
        "id": "rEYr_uG_ullK"
      },
      "execution_count": null,
      "outputs": []
    },
    {
      "cell_type": "code",
      "source": [
        "for i in range(50):\n",
        "  # The ~5% of younger individuals who did experiecne side effects\n",
        "  random_younger = randint(13,64)\n",
        "  train_samples.append(random_younger)\n",
        "  train_labels.append(1)\n",
        "\n",
        "  #The ~5% of older individuals who did not experiecne side effects\n",
        "  random_older = randint(65,100)\n",
        "  train_samples.append(random_older)\n",
        "  train_labels.append(0)\n",
        "\n",
        "for i in range(1000):\n",
        "  # The ~95% of younger individuals qho did not experiecne side effects\n",
        "  random_younger = randint(13,64)\n",
        "  train_samples.append(random_younger)\n",
        "  train_labels.append(0)\n",
        "\n",
        "  # The ~95% of older individuals who did experience side effects\n",
        "  random_older = randint(65,100)\n",
        "  train_samples.append(random_older)\n",
        "  train_labels.append(1)\n",
        "  "
      ],
      "metadata": {
        "id": "SDdoqX4RvPg7"
      },
      "execution_count": null,
      "outputs": []
    },
    {
      "cell_type": "code",
      "source": [
        "print(train_samples[:5], len(train_samples))\n",
        "print(train_labels[:5], len(train_labels))"
      ],
      "metadata": {
        "colab": {
          "base_uri": "https://localhost:8080/"
        },
        "id": "31vTBTiKw_f_",
        "outputId": "187ddd2e-dcb2-46a6-add2-6d0772d14770"
      },
      "execution_count": null,
      "outputs": [
        {
          "output_type": "stream",
          "name": "stdout",
          "text": [
            "[40, 80, 25, 84, 58] 2100\n",
            "[1, 0, 1, 0, 1] 2100\n"
          ]
        }
      ]
    },
    {
      "cell_type": "code",
      "source": [
        "#Convert train labels into numpy array\n",
        "train_labels = np.array(train_labels)\n",
        "train_samples = np.array(train_samples)\n",
        "train_labels, train_samples = shuffle(train_labels, train_samples)"
      ],
      "metadata": {
        "id": "CeCOnMunxWX0"
      },
      "execution_count": null,
      "outputs": []
    },
    {
      "cell_type": "code",
      "source": [
        "scaler = MinMaxScaler(feature_range = (0,1))\n",
        "scaled_train_samples = scaler.fit_transform(train_samples.reshape(-1,1))\n",
        "scaled_train_samples"
      ],
      "metadata": {
        "colab": {
          "base_uri": "https://localhost:8080/"
        },
        "id": "gBsat5GEx6CR",
        "outputId": "c7e86265-6e55-48f7-a5b0-3b6c505e381a"
      },
      "execution_count": null,
      "outputs": [
        {
          "output_type": "execute_result",
          "data": {
            "text/plain": [
              "array([[0.22988506],\n",
              "       [0.72413793],\n",
              "       [0.34482759],\n",
              "       ...,\n",
              "       [0.86206897],\n",
              "       [0.83908046],\n",
              "       [0.22988506]])"
            ]
          },
          "metadata": {},
          "execution_count": 27
        }
      ]
    },
    {
      "cell_type": "markdown",
      "source": [
        "Creating an artificial neural network"
      ],
      "metadata": {
        "id": "tMkxo8L_ySh-"
      }
    },
    {
      "cell_type": "code",
      "source": [
        "import tensorflow as tf\n",
        "from tensorflow import keras\n",
        "from tensorflow.keras.models import Sequential\n",
        "from tensorflow.keras.layers import Activation, Dense\n",
        "from tensorflow.keras.optimizers import Adam\n",
        "from tensorflow.keras.metrics import categorical_crossentropy"
      ],
      "metadata": {
        "id": "NdyWkLnpyVrp"
      },
      "execution_count": null,
      "outputs": []
    },
    {
      "cell_type": "code",
      "source": [
        "#Units are one of the most basic and necessary parameters of the Keras dense layer which defines the size of the output from the dense layer. It must be a positive integer since it represents the dimensionality of the output vector.\n",
        "\n",
        "model = Sequential([\n",
        "        Dense(units=16, input_shape=(1,), activation='relu'),\n",
        "        Dense(units=32, activation='relu'),\n",
        "        Dense(units=2, activation='softmax')\n",
        "])"
      ],
      "metadata": {
        "id": "QKQOoQ7szgCn"
      },
      "execution_count": null,
      "outputs": []
    },
    {
      "cell_type": "code",
      "source": [
        "model.summary()"
      ],
      "metadata": {
        "colab": {
          "base_uri": "https://localhost:8080/"
        },
        "id": "NZuApAn102v6",
        "outputId": "8b8da3ff-ecb2-4444-a1fa-c0222a789f68"
      },
      "execution_count": null,
      "outputs": [
        {
          "output_type": "stream",
          "name": "stdout",
          "text": [
            "Model: \"sequential_1\"\n",
            "_________________________________________________________________\n",
            " Layer (type)                Output Shape              Param #   \n",
            "=================================================================\n",
            " dense_3 (Dense)             (None, 16)                32        \n",
            "                                                                 \n",
            " dense_4 (Dense)             (None, 32)                544       \n",
            "                                                                 \n",
            " dense_5 (Dense)             (None, 2)                 66        \n",
            "                                                                 \n",
            "=================================================================\n",
            "Total params: 642\n",
            "Trainable params: 642\n",
            "Non-trainable params: 0\n",
            "_________________________________________________________________\n"
          ]
        }
      ]
    },
    {
      "cell_type": "code",
      "source": [
        "#Model training\n",
        "model.compile(optimizer=Adam(learning_rate=0.0001), loss='sparse_categorical_crossentropy', metrics=['accuracy'])"
      ],
      "metadata": {
        "id": "Vhrlt3Pw1AnK"
      },
      "execution_count": null,
      "outputs": []
    },
    {
      "cell_type": "code",
      "source": [
        "model.fit(\n",
        "    x=scaled_train_samples,\n",
        "    y=train_labels,\n",
        "    validation_split = 0.1,\n",
        "    batch_size=10,\n",
        "    shuffle=True,\n",
        "    epochs = 30,\n",
        "    verbose=2\n",
        ")"
      ],
      "metadata": {
        "colab": {
          "base_uri": "https://localhost:8080/"
        },
        "id": "YT3Pw9aE1lOd",
        "outputId": "a6fd4b17-3d92-4fd0-a687-f9ffdcd93a45"
      },
      "execution_count": null,
      "outputs": [
        {
          "output_type": "stream",
          "name": "stdout",
          "text": [
            "Epoch 1/30\n",
            "189/189 - 2s - loss: 0.7514 - accuracy: 0.4550 - val_loss: 0.7286 - val_accuracy: 0.3667 - 2s/epoch - 10ms/step\n",
            "Epoch 2/30\n",
            "189/189 - 1s - loss: 0.7123 - accuracy: 0.4365 - val_loss: 0.7003 - val_accuracy: 0.4286 - 570ms/epoch - 3ms/step\n",
            "Epoch 3/30\n",
            "189/189 - 1s - loss: 0.6903 - accuracy: 0.5381 - val_loss: 0.6791 - val_accuracy: 0.6571 - 610ms/epoch - 3ms/step\n",
            "Epoch 4/30\n",
            "189/189 - 1s - loss: 0.6711 - accuracy: 0.6153 - val_loss: 0.6571 - val_accuracy: 0.7000 - 661ms/epoch - 3ms/step\n",
            "Epoch 5/30\n",
            "189/189 - 1s - loss: 0.6491 - accuracy: 0.6614 - val_loss: 0.6317 - val_accuracy: 0.7286 - 649ms/epoch - 3ms/step\n",
            "Epoch 6/30\n",
            "189/189 - 1s - loss: 0.6275 - accuracy: 0.6841 - val_loss: 0.6125 - val_accuracy: 0.7619 - 562ms/epoch - 3ms/step\n",
            "Epoch 7/30\n",
            "189/189 - 1s - loss: 0.6105 - accuracy: 0.7101 - val_loss: 0.5942 - val_accuracy: 0.7857 - 626ms/epoch - 3ms/step\n",
            "Epoch 8/30\n",
            "189/189 - 1s - loss: 0.5931 - accuracy: 0.7275 - val_loss: 0.5751 - val_accuracy: 0.7952 - 607ms/epoch - 3ms/step\n",
            "Epoch 9/30\n",
            "189/189 - 0s - loss: 0.5725 - accuracy: 0.7566 - val_loss: 0.5501 - val_accuracy: 0.8190 - 421ms/epoch - 2ms/step\n",
            "Epoch 10/30\n",
            "189/189 - 1s - loss: 0.5477 - accuracy: 0.7921 - val_loss: 0.5243 - val_accuracy: 0.8381 - 592ms/epoch - 3ms/step\n",
            "Epoch 11/30\n",
            "189/189 - 1s - loss: 0.5227 - accuracy: 0.8122 - val_loss: 0.4990 - val_accuracy: 0.8524 - 563ms/epoch - 3ms/step\n",
            "Epoch 12/30\n",
            "189/189 - 1s - loss: 0.4980 - accuracy: 0.8317 - val_loss: 0.4747 - val_accuracy: 0.8524 - 574ms/epoch - 3ms/step\n",
            "Epoch 13/30\n",
            "189/189 - 1s - loss: 0.4743 - accuracy: 0.8481 - val_loss: 0.4511 - val_accuracy: 0.8619 - 541ms/epoch - 3ms/step\n",
            "Epoch 14/30\n",
            "189/189 - 1s - loss: 0.4512 - accuracy: 0.8661 - val_loss: 0.4290 - val_accuracy: 0.8762 - 513ms/epoch - 3ms/step\n",
            "Epoch 15/30\n",
            "189/189 - 1s - loss: 0.4293 - accuracy: 0.8815 - val_loss: 0.4077 - val_accuracy: 0.8810 - 567ms/epoch - 3ms/step\n",
            "Epoch 16/30\n",
            "189/189 - 1s - loss: 0.4087 - accuracy: 0.8889 - val_loss: 0.3883 - val_accuracy: 0.8810 - 547ms/epoch - 3ms/step\n",
            "Epoch 17/30\n",
            "189/189 - 1s - loss: 0.3891 - accuracy: 0.8963 - val_loss: 0.3709 - val_accuracy: 0.8810 - 586ms/epoch - 3ms/step\n",
            "Epoch 18/30\n",
            "189/189 - 0s - loss: 0.3717 - accuracy: 0.9069 - val_loss: 0.3543 - val_accuracy: 0.8810 - 498ms/epoch - 3ms/step\n",
            "Epoch 19/30\n",
            "189/189 - 1s - loss: 0.3564 - accuracy: 0.9095 - val_loss: 0.3410 - val_accuracy: 0.8905 - 556ms/epoch - 3ms/step\n",
            "Epoch 20/30\n",
            "189/189 - 1s - loss: 0.3432 - accuracy: 0.9175 - val_loss: 0.3293 - val_accuracy: 0.8952 - 527ms/epoch - 3ms/step\n",
            "Epoch 21/30\n",
            "189/189 - 1s - loss: 0.3316 - accuracy: 0.9190 - val_loss: 0.3193 - val_accuracy: 0.8952 - 537ms/epoch - 3ms/step\n",
            "Epoch 22/30\n",
            "189/189 - 1s - loss: 0.3219 - accuracy: 0.9201 - val_loss: 0.3108 - val_accuracy: 0.8952 - 569ms/epoch - 3ms/step\n",
            "Epoch 23/30\n",
            "189/189 - 1s - loss: 0.3133 - accuracy: 0.9249 - val_loss: 0.3038 - val_accuracy: 0.9095 - 536ms/epoch - 3ms/step\n",
            "Epoch 24/30\n",
            "189/189 - 0s - loss: 0.3060 - accuracy: 0.9291 - val_loss: 0.2980 - val_accuracy: 0.9095 - 497ms/epoch - 3ms/step\n",
            "Epoch 25/30\n",
            "189/189 - 1s - loss: 0.2997 - accuracy: 0.9317 - val_loss: 0.2923 - val_accuracy: 0.9095 - 620ms/epoch - 3ms/step\n",
            "Epoch 26/30\n",
            "189/189 - 1s - loss: 0.2942 - accuracy: 0.9291 - val_loss: 0.2880 - val_accuracy: 0.9095 - 625ms/epoch - 3ms/step\n",
            "Epoch 27/30\n",
            "189/189 - 1s - loss: 0.2896 - accuracy: 0.9302 - val_loss: 0.2847 - val_accuracy: 0.9190 - 511ms/epoch - 3ms/step\n",
            "Epoch 28/30\n",
            "189/189 - 1s - loss: 0.2855 - accuracy: 0.9349 - val_loss: 0.2813 - val_accuracy: 0.9190 - 539ms/epoch - 3ms/step\n",
            "Epoch 29/30\n",
            "189/189 - 0s - loss: 0.2820 - accuracy: 0.9365 - val_loss: 0.2787 - val_accuracy: 0.9190 - 481ms/epoch - 3ms/step\n",
            "Epoch 30/30\n",
            "189/189 - 1s - loss: 0.2789 - accuracy: 0.9365 - val_loss: 0.2759 - val_accuracy: 0.9190 - 530ms/epoch - 3ms/step\n"
          ]
        },
        {
          "output_type": "execute_result",
          "data": {
            "text/plain": [
              "<keras.callbacks.History at 0x7fca64a21a50>"
            ]
          },
          "metadata": {},
          "execution_count": 33
        }
      ]
    },
    {
      "cell_type": "markdown",
      "source": [
        "Build a test set and predict it"
      ],
      "metadata": {
        "id": "p0_hDTST2Zf1"
      }
    },
    {
      "cell_type": "code",
      "source": [
        "test_labels = []\n",
        "test_samples = []"
      ],
      "metadata": {
        "id": "9szRS6of2cuu"
      },
      "execution_count": null,
      "outputs": []
    },
    {
      "cell_type": "code",
      "source": [
        "for i in range(50):\n",
        "  # The ~5% of younger individuals who did experiecne side effects\n",
        "  random_younger = randint(13,64)\n",
        "  test_samples.append(random_younger)\n",
        "  test_labels.append(1)\n",
        "\n",
        "  #The ~5% of older individuals who did not experiecne side effects\n",
        "  random_older = randint(65,100)\n",
        "  test_samples.append(random_older)\n",
        "  test_labels.append(0)\n",
        "\n",
        "for i in range(200):\n",
        "  # The ~95% of younger individuals qho did not experiecne side effects\n",
        "  random_younger = randint(13,64)\n",
        "  test_samples.append(random_younger)\n",
        "  test_labels.append(0)\n",
        "\n",
        "  # The ~95% of older individuals who did experience side effects\n",
        "  random_older = randint(65,100)\n",
        "  test_samples.append(random_older)\n",
        "  test_labels.append(1)\n",
        "\n",
        "test_labels = np.array(test_labels)\n",
        "test_samples = np.array(test_samples)\n",
        "test_labels, test_samples = shuffle(test_labels, test_samples)\n",
        "\n",
        "scaled_test_samples = scaler.fit_transform(test_samples.reshape(-1,1))"
      ],
      "metadata": {
        "id": "Z65CgqSk2xGb"
      },
      "execution_count": null,
      "outputs": []
    },
    {
      "cell_type": "code",
      "source": [
        "predictions = model.predict(\n",
        "    x=scaled_test_samples,\n",
        "    batch_size=10,\n",
        "    verbose=0\n",
        ")"
      ],
      "metadata": {
        "id": "vw07d3fa3sbI"
      },
      "execution_count": null,
      "outputs": []
    },
    {
      "cell_type": "code",
      "source": [
        "print(predictions[:5])"
      ],
      "metadata": {
        "colab": {
          "base_uri": "https://localhost:8080/"
        },
        "id": "iLA-stEw36Jk",
        "outputId": "64c33809-2b05-4d80-92f6-0033bfbcb093"
      },
      "execution_count": null,
      "outputs": [
        {
          "output_type": "stream",
          "name": "stdout",
          "text": [
            "[[0.22207221 0.7779278 ]\n",
            " [0.86405027 0.13594973]\n",
            " [0.0339488  0.9660512 ]\n",
            " [0.0339488  0.9660512 ]\n",
            " [0.86405027 0.13594973]]\n"
          ]
        }
      ]
    },
    {
      "cell_type": "code",
      "source": [
        "#Rounding up predictions to get 0 or 1\n",
        "rounded_predictions = np.argmax(predictions, axis=-1)\n",
        "rounded_predictions[:5]"
      ],
      "metadata": {
        "colab": {
          "base_uri": "https://localhost:8080/"
        },
        "id": "1VeGpKtv4Ehq",
        "outputId": "f4f86391-a822-4e1f-b1e1-f5465fc6b151"
      },
      "execution_count": null,
      "outputs": [
        {
          "output_type": "execute_result",
          "data": {
            "text/plain": [
              "array([1, 0, 1, 1, 0])"
            ]
          },
          "metadata": {},
          "execution_count": 42
        }
      ]
    },
    {
      "cell_type": "markdown",
      "source": [
        "Confusion Matrix for accuracy check"
      ],
      "metadata": {
        "id": "kSJ-zjuF4gZK"
      }
    },
    {
      "cell_type": "code",
      "source": [
        "from sklearn.metrics import confusion_matrix\n",
        "import itertools\n",
        "import matplotlib.pyplot as plt"
      ],
      "metadata": {
        "id": "hQjoZJtT4kiA"
      },
      "execution_count": null,
      "outputs": []
    },
    {
      "cell_type": "code",
      "source": [
        "cm = confusion_matrix(y_true=test_labels, y_pred=rounded_predictions)"
      ],
      "metadata": {
        "id": "XDfjLf164ynY"
      },
      "execution_count": null,
      "outputs": []
    },
    {
      "cell_type": "code",
      "source": [
        "cm"
      ],
      "metadata": {
        "colab": {
          "base_uri": "https://localhost:8080/"
        },
        "id": "r6L2lXKH5Br7",
        "outputId": "53d665ed-d8a2-4929-8278-cd6fe0811e2a"
      },
      "execution_count": null,
      "outputs": [
        {
          "output_type": "execute_result",
          "data": {
            "text/plain": [
              "array([[192,  58],\n",
              "       [ 46, 204]])"
            ]
          },
          "metadata": {},
          "execution_count": 46
        }
      ]
    },
    {
      "cell_type": "code",
      "source": [
        "def plot_confusion_matrix(cm, classes, normalize=False, title='Confusion matrix', cmap=plt.cm.Blues):\n",
        "\n",
        "  plt.imshow(cm, interpolation='nearest', cmap=cmap)\n",
        "  plt.title(title)\n",
        "  plt.colorbar()\n",
        "  tick_marks = np.arange(len(classes))\n",
        "  plt.xticks(tick_marks, classes, rotation=45)\n",
        "  plt.yticks(tick_marks, classes)\n",
        "\n",
        "  if normalize:\n",
        "    cm=cm.astype('float')/cm.sum(axis=1)[: , np.newaxis]\n",
        "    print(\"Normalixed confusion matrix\")\n",
        "  else:\n",
        "    print(\"Confusion matrix without normalization\")\n",
        "\n",
        "  print(cm)\n",
        "\n",
        "  thresh = cm.max()/2\n",
        "  for i, j in itertools.product(range(cm.shape[0]), range(cm.shape[1])):\n",
        "    plt.text(j,i,cm[i,j],\n",
        "             horizontalalignment='center',\n",
        "             color='white' if cm[i,j] > thresh else 'black')\n",
        "    \n",
        "  plt.tight_layout()\n",
        "  plt.ylabel('True Labels')\n",
        "  plt.xlabel('Predicted Labels')"
      ],
      "metadata": {
        "id": "h301jgJH7n2L"
      },
      "execution_count": null,
      "outputs": []
    },
    {
      "cell_type": "code",
      "source": [
        "cm_plot_labels = ['no_side_effects', 'has_side_effects']"
      ],
      "metadata": {
        "id": "H6_f2UXV-HJc"
      },
      "execution_count": null,
      "outputs": []
    },
    {
      "cell_type": "code",
      "source": [
        "plot_confusion_matrix(\n",
        "    cm=cm, \n",
        "    classes=cm_plot_labels,\n",
        "    title=\"Confusion Matrix\"\n",
        "    )"
      ],
      "metadata": {
        "colab": {
          "base_uri": "https://localhost:8080/",
          "height": 363
        },
        "id": "waclmZZ5-TbA",
        "outputId": "991e34e2-10c4-4084-d80d-edbfd7ac6e98"
      },
      "execution_count": null,
      "outputs": [
        {
          "output_type": "stream",
          "name": "stdout",
          "text": [
            "Confusion matrix without normalization\n",
            "[[192  58]\n",
            " [ 46 204]]\n"
          ]
        },
        {
          "output_type": "display_data",
          "data": {
            "image/png": "[encoded data removed]",
            "text/plain": [
              "<Figure size 432x288 with 2 Axes>"
            ]
          },
          "metadata": {
            "needs_background": "light"
          }
        }
      ]
    },
    {
      "cell_type": "markdown",
      "source": [
        "#Tensorflow Tutorial"
      ],
      "metadata": {
        "id": "f3fAPYRc_yHb"
      }
    },
    {
      "cell_type": "code",
      "source": [
        "import tensorflow as tf\n",
        "\n",
        "# Create a constant tensor A\n",
        "A= tf.constant([[4,3],\n",
        "                [6,1]])"
      ],
      "metadata": {
        "id": "PTPvQ23I_1Y8"
      },
      "execution_count": null,
      "outputs": []
    },
    {
      "cell_type": "code",
      "source": [
        "A"
      ],
      "metadata": {
        "colab": {
          "base_uri": "https://localhost:8080/"
        },
        "id": "0Qz8n938GZ6d",
        "outputId": "11a12fb8-805c-4190-eb29-1caefa63f674"
      },
      "execution_count": null,
      "outputs": [
        {
          "output_type": "execute_result",
          "data": {
            "text/plain": [
              "<tf.Tensor: shape=(2, 2), dtype=int32, numpy=\n",
              "array([[4, 3],\n",
              "       [6, 1]], dtype=int32)>"
            ]
          },
          "metadata": {},
          "execution_count": 64
        }
      ]
    },
    {
      "cell_type": "code",
      "source": [
        "# Create a variable tensor V\n",
        "V= tf.Variable([[7,8],\n",
        "                [6,1]])\n",
        "V"
      ],
      "metadata": {
        "colab": {
          "base_uri": "https://localhost:8080/"
        },
        "id": "mp44uHxSGfCJ",
        "outputId": "3637b80f-7e12-4dea-9574-0a98b089fc9e"
      },
      "execution_count": null,
      "outputs": [
        {
          "output_type": "execute_result",
          "data": {
            "text/plain": [
              "<tf.Variable 'Variable:0' shape=(2, 2) dtype=int32, numpy=\n",
              "array([[7, 8],\n",
              "       [6, 1]], dtype=int32)>"
            ]
          },
          "metadata": {},
          "execution_count": 66
        }
      ]
    },
    {
      "cell_type": "code",
      "source": [
        "# Concatinate columns\n",
        "AV_concat = tf.concat(values=[A,V], axis=1)\n",
        "AV_concat"
      ],
      "metadata": {
        "colab": {
          "base_uri": "https://localhost:8080/"
        },
        "id": "6pHkx25oHAKt",
        "outputId": "f0f4b03c-b294-4cba-e082-001609ba9615"
      },
      "execution_count": null,
      "outputs": [
        {
          "output_type": "execute_result",
          "data": {
            "text/plain": [
              "<tf.Tensor: shape=(2, 4), dtype=int32, numpy=\n",
              "array([[4, 3, 7, 8],\n",
              "       [6, 1, 6, 1]], dtype=int32)>"
            ]
          },
          "metadata": {},
          "execution_count": 68
        }
      ]
    },
    {
      "cell_type": "code",
      "source": [
        "# Concatinate rows\n",
        "AV_concat_rows = tf.concat(values=[A,V], axis=0)\n",
        "AV_concat_rows"
      ],
      "metadata": {
        "colab": {
          "base_uri": "https://localhost:8080/"
        },
        "id": "UIhp3VONHd1h",
        "outputId": "7178b622-4e30-4e93-8231-047b98464bca"
      },
      "execution_count": null,
      "outputs": [
        {
          "output_type": "execute_result",
          "data": {
            "text/plain": [
              "<tf.Tensor: shape=(4, 2), dtype=int32, numpy=\n",
              "array([[4, 3],\n",
              "       [6, 1],\n",
              "       [7, 8],\n",
              "       [6, 1]], dtype=int32)>"
            ]
          },
          "metadata": {},
          "execution_count": 69
        }
      ]
    },
    {
      "cell_type": "code",
      "source": [
        "tensor = tf.zeros(shape=[3,4], dtype='int32')\n",
        "tensor"
      ],
      "metadata": {
        "colab": {
          "base_uri": "https://localhost:8080/"
        },
        "id": "LJv3k2ApHrAr",
        "outputId": "775e84e4-9ad0-4da9-dc69-133d869cbbfa"
      },
      "execution_count": null,
      "outputs": [
        {
          "output_type": "execute_result",
          "data": {
            "text/plain": [
              "<tf.Tensor: shape=(3, 4), dtype=int32, numpy=\n",
              "array([[0, 0, 0, 0],\n",
              "       [0, 0, 0, 0],\n",
              "       [0, 0, 0, 0]], dtype=int32)>"
            ]
          },
          "metadata": {},
          "execution_count": 70
        }
      ]
    },
    {
      "cell_type": "code",
      "source": [
        "tensor1 = tf.ones(shape=[4,3], dtype='float32')\n",
        "tensor1"
      ],
      "metadata": {
        "colab": {
          "base_uri": "https://localhost:8080/"
        },
        "id": "C3qU9xFIH_Gl",
        "outputId": "905959b8-a61a-47c3-fbd8-49ea2549a304"
      },
      "execution_count": null,
      "outputs": [
        {
          "output_type": "execute_result",
          "data": {
            "text/plain": [
              "<tf.Tensor: shape=(4, 3), dtype=float32, numpy=\n",
              "array([[1., 1., 1.],\n",
              "       [1., 1., 1.],\n",
              "       [1., 1., 1.],\n",
              "       [1., 1., 1.]], dtype=float32)>"
            ]
          },
          "metadata": {},
          "execution_count": 72
        }
      ]
    },
    {
      "cell_type": "code",
      "source": [
        "tensor2 = tf.random.uniform(shape=[4,3], dtype='float32')\n",
        "tensor2"
      ],
      "metadata": {
        "colab": {
          "base_uri": "https://localhost:8080/"
        },
        "id": "Ju_DBuL_IsAV",
        "outputId": "1999b8d7-1109-45e0-f17e-5ca78b6a1fc5"
      },
      "execution_count": null,
      "outputs": [
        {
          "output_type": "execute_result",
          "data": {
            "text/plain": [
              "<tf.Tensor: shape=(4, 3), dtype=float32, numpy=\n",
              "array([[0.14645803, 0.21205974, 0.4791156 ],\n",
              "       [0.9560504 , 0.02974474, 0.48914456],\n",
              "       [0.97197413, 0.81755245, 0.97892547],\n",
              "       [0.69545114, 0.07672501, 0.10518682]], dtype=float32)>"
            ]
          },
          "metadata": {},
          "execution_count": 74
        }
      ]
    },
    {
      "cell_type": "code",
      "source": [
        "reshaped_tensor = tf.reshape(tensor = tensor,\n",
        "                             shape=[4,3]\n",
        "                             )\n",
        "reshaped_tensor"
      ],
      "metadata": {
        "colab": {
          "base_uri": "https://localhost:8080/"
        },
        "id": "AozcQjunH_Sh",
        "outputId": "4b8c22d5-5bcd-4abb-a380-ed59034686e5"
      },
      "execution_count": null,
      "outputs": [
        {
          "output_type": "execute_result",
          "data": {
            "text/plain": [
              "<tf.Tensor: shape=(4, 3), dtype=int32, numpy=\n",
              "array([[0, 0, 0],\n",
              "       [0, 0, 0],\n",
              "       [0, 0, 0],\n",
              "       [0, 0, 0]], dtype=int32)>"
            ]
          },
          "metadata": {},
          "execution_count": 73
        }
      ]
    },
    {
      "cell_type": "code",
      "source": [
        "# Type cast a tensor\n",
        "tensor = tf.constant([[4, 6],\n",
        "                      [7,8],\n",
        "                      [2,9],\n",
        "                      [6,8]],\n",
        "                     dtype=tf.float32)\n",
        "tensor_as_int = tf.cast(tensor, tf.int32)\n",
        "print(tensor)\n",
        "print(tensor_as_int)"
      ],
      "metadata": {
        "colab": {
          "base_uri": "https://localhost:8080/"
        },
        "id": "euaNNab0JMM6",
        "outputId": "7e3da6bb-daa5-4f56-e2f6-c3cde3addd18"
      },
      "execution_count": null,
      "outputs": [
        {
          "output_type": "stream",
          "name": "stdout",
          "text": [
            "tf.Tensor(\n",
            "[[4. 6.]\n",
            " [7. 8.]\n",
            " [2. 9.]\n",
            " [6. 8.]], shape=(4, 2), dtype=float32)\n",
            "tf.Tensor(\n",
            "[[4 6]\n",
            " [7 8]\n",
            " [2 9]\n",
            " [6 8]], shape=(4, 2), dtype=int32)\n"
          ]
        }
      ]
    },
    {
      "cell_type": "code",
      "source": [
        "B = tf.transpose(tensor_as_int)\n",
        "B"
      ],
      "metadata": {
        "colab": {
          "base_uri": "https://localhost:8080/"
        },
        "id": "9Zn2sC23KCO7",
        "outputId": "1148ad4c-9437-42b2-f3ea-50276f3d9772"
      },
      "execution_count": null,
      "outputs": [
        {
          "output_type": "execute_result",
          "data": {
            "text/plain": [
              "<tf.Tensor: shape=(2, 4), dtype=int32, numpy=\n",
              "array([[4, 7, 2, 6],\n",
              "       [6, 8, 9, 8]], dtype=int32)>"
            ]
          },
          "metadata": {},
          "execution_count": 77
        }
      ]
    },
    {
      "cell_type": "code",
      "source": [
        "# Matrix multplication with tensorflow\n",
        "\n",
        "X = tf.constant([[5,8],\n",
        "                 [12,4]])\n",
        "\n",
        "Y = tf.constant([[4],\n",
        "                 [2]])\n",
        "\n",
        "XY = tf.matmul(X,Y)\n",
        "XY"
      ],
      "metadata": {
        "colab": {
          "base_uri": "https://localhost:8080/"
        },
        "id": "QtOrcckzKSew",
        "outputId": "1252d94c-4215-496e-f5fe-22e289915501"
      },
      "execution_count": null,
      "outputs": [
        {
          "output_type": "execute_result",
          "data": {
            "text/plain": [
              "<tf.Tensor: shape=(2, 1), dtype=int32, numpy=\n",
              "array([[36],\n",
              "       [56]], dtype=int32)>"
            ]
          },
          "metadata": {},
          "execution_count": 80
        }
      ]
    },
    {
      "cell_type": "code",
      "source": [
        "# Element wise multiplication\n",
        "XY = tf.multiply(X,Y)\n",
        "XY"
      ],
      "metadata": {
        "colab": {
          "base_uri": "https://localhost:8080/"
        },
        "id": "b6xyJ4roK0sq",
        "outputId": "be9e02f5-eb8c-43af-9eda-cd79a26afc23"
      },
      "execution_count": null,
      "outputs": [
        {
          "output_type": "execute_result",
          "data": {
            "text/plain": [
              "<tf.Tensor: shape=(2, 2), dtype=int32, numpy=\n",
              "array([[20, 32],\n",
              "       [24,  8]], dtype=int32)>"
            ]
          },
          "metadata": {},
          "execution_count": 82
        }
      ]
    },
    {
      "cell_type": "code",
      "source": [
        "#Creating an identity matrix\n",
        "\n",
        "A = tf.constant([[4,9],\n",
        "                 [5,6],\n",
        "                 [1,8]])\n",
        "rows, columns = A.shape\n",
        "rows,columns"
      ],
      "metadata": {
        "colab": {
          "base_uri": "https://localhost:8080/"
        },
        "id": "R7Lm_iLoLGWT",
        "outputId": "1a69db53-4a6a-4814-85bd-125f19eb4714"
      },
      "execution_count": null,
      "outputs": [
        {
          "output_type": "execute_result",
          "data": {
            "text/plain": [
              "(3, 2)"
            ]
          },
          "metadata": {},
          "execution_count": 84
        }
      ]
    },
    {
      "cell_type": "code",
      "source": [
        "A_identity = tf.eye(num_rows = rows,\n",
        "                    num_columns = columns,\n",
        "                    dtype = tf.int32)\n",
        "A_identity"
      ],
      "metadata": {
        "colab": {
          "base_uri": "https://localhost:8080/"
        },
        "id": "u5uM4-PeLkHv",
        "outputId": "e8a9e144-623f-4b31-f67d-8b3a96ef5635"
      },
      "execution_count": null,
      "outputs": [
        {
          "output_type": "execute_result",
          "data": {
            "text/plain": [
              "<tf.Tensor: shape=(3, 2), dtype=int32, numpy=\n",
              "array([[1, 0],\n",
              "       [0, 1],\n",
              "       [0, 0]], dtype=int32)>"
            ]
          },
          "metadata": {},
          "execution_count": 85
        }
      ]
    },
    {
      "cell_type": "markdown",
      "source": [
        "#Example 1"
      ],
      "metadata": {
        "id": "fsDoWKGu0ldT"
      }
    },
    {
      "cell_type": "code",
      "source": [
        "# mlp for binary classification\n",
        "from pandas import read_csv\n",
        "from sklearn.model_selection import train_test_split\n",
        "from sklearn.preprocessing import LabelEncoder\n",
        "from tensorflow.keras import Sequential\n",
        "from tensorflow.keras.layers import Dense\n",
        "# load the dataset\n",
        "path = 'https://raw.githubusercontent.com/jbrownlee/Datasets/master/ionosphere.csv'\n",
        "df = read_csv(path, header=None)\n",
        "# split into input and output columns\n",
        "X, y = df.values[:, :-1], df.values[:, -1]\n",
        "# ensure all data are floating point values\n",
        "X = X.astype('float32')\n",
        "# encode strings to integer\n",
        "y = LabelEncoder().fit_transform(y)\n",
        "# split into train and test datasets\n",
        "X_train, X_test, y_train, y_test = train_test_split(X, y, test_size=0.33)\n",
        "print(X_train.shape, X_test.shape, y_train.shape, y_test.shape)\n",
        "# determine the number of input features\n",
        "n_features = X_train.shape[1]\n",
        "print(\"X train shape:\", X_train.shape[1],  X_train.shape[0])\n",
        "print(\"N features\", n_features)\n",
        "# define model\n",
        "model = Sequential()\n",
        "model.add(Dense(10, activation='relu', kernel_initializer='he_normal', input_shape=(n_features,)))\n",
        "model.add(Dense(8, activation='relu', kernel_initializer='he_normal'))\n",
        "model.add(Dense(1, activation='sigmoid'))\n",
        "# compile the model\n",
        "model.compile(optimizer='adam', loss='binary_crossentropy', metrics=['accuracy'])\n",
        "# fit the model\n",
        "model.fit(X_train, y_train, epochs=150, batch_size=32, verbose=0)\n",
        "# evaluate the model\n",
        "loss, acc = model.evaluate(X_test, y_test, verbose=0)\n",
        "print('Test Accuracy: %.3f' % acc)\n",
        "# make a prediction\n",
        "row = [1,0,0.99539,-0.05889,0.85243,0.02306,0.83398,-0.37708,1,0.03760,0.85243,-0.17755,0.59755,-0.44945,0.60536,-0.38223,0.84356,-0.38542,0.58212,-0.32192,0.56971,-0.29674,0.36946,-0.47357,0.56811,-0.51171,0.41078,-0.46168,0.21266,-0.34090,0.42267,-0.54487,0.18641,-0.45300]\n",
        "yhat = model.predict([row])\n",
        "print('Predicted: %.3f' % yhat)"
      ],
      "metadata": {
        "colab": {
          "base_uri": "https://localhost:8080/"
        },
        "id": "IxFNbUu10nc0",
        "outputId": "9485a9df-6e3e-4bdd-b345-720058d891be"
      },
      "execution_count": 4,
      "outputs": [
        {
          "output_type": "stream",
          "name": "stdout",
          "text": [
            "(235, 34) (116, 34) (235,) (116,)\n",
            "X train shape: 34 235\n",
            "N features 34\n",
            "Test Accuracy: 0.922\n",
            "Predicted: 0.982\n"
          ]
        }
      ]
    },
    {
      "cell_type": "markdown",
      "source": [
        "#Example 2"
      ],
      "metadata": {
        "id": "HynUqUSM2HoT"
      }
    },
    {
      "cell_type": "code",
      "source": [
        "# example of a cnn for image classification\n",
        "from numpy import asarray\n",
        "from numpy import unique\n",
        "from numpy import argmax\n",
        "from tensorflow.keras.datasets.mnist import load_data\n",
        "from tensorflow.keras import Sequential\n",
        "from tensorflow.keras.layers import Dense\n",
        "from tensorflow.keras.layers import Conv2D\n",
        "from tensorflow.keras.layers import MaxPool2D\n",
        "from tensorflow.keras.layers import Flatten\n",
        "from tensorflow.keras.layers import Dropout\n",
        "# load dataset\n",
        "(x_train, y_train), (x_test, y_test) = load_data()\n",
        "# reshape data to have a single channel\n",
        "x_train = x_train.reshape((x_train.shape[0], x_train.shape[1], x_train.shape[2], 1))\n",
        "x_test = x_test.reshape((x_test.shape[0], x_test.shape[1], x_test.shape[2], 1))\n",
        "# determine the shape of the input images\n",
        "in_shape = x_train.shape[1:]\n",
        "# determine the number of classes\n",
        "n_classes = len(unique(y_train))\n",
        "print(in_shape, n_classes)\n",
        "# normalize pixel values\n",
        "x_train = x_train.astype('float32') / 255.0\n",
        "x_test = x_test.astype('float32') / 255.0\n",
        "# define model\n",
        "model = Sequential()\n",
        "model.add(Conv2D(32, (3,3), activation='relu', kernel_initializer='he_uniform', input_shape=in_shape))\n",
        "model.add(MaxPool2D((2, 2)))\n",
        "model.add(Flatten())\n",
        "model.add(Dense(100, activation='relu', kernel_initializer='he_uniform'))\n",
        "model.add(Dropout(0.5))\n",
        "model.add(Dense(n_classes, activation='softmax'))\n",
        "# define loss and optimizer\n",
        "model.compile(optimizer='adam', loss='sparse_categorical_crossentropy', metrics=['accuracy'])\n",
        "# fit the model\n",
        "model.fit(x_train, y_train, epochs=10, batch_size=128, verbose=0)\n",
        "# evaluate the model\n",
        "loss, acc = model.evaluate(x_test, y_test, verbose=0)\n",
        "print('Accuracy: %.3f' % acc)\n",
        "# make a prediction\n",
        "image = x_train[0]\n",
        "yhat = model.predict(asarray([image]))\n",
        "print('Predicted: class=%d' % argmax(yhat))"
      ],
      "metadata": {
        "colab": {
          "base_uri": "https://localhost:8080/"
        },
        "id": "ngbfOXSI2Jb7",
        "outputId": "7c16715c-871d-4bd2-f0c5-10adc2ae2cd7"
      },
      "execution_count": 5,
      "outputs": [
        {
          "output_type": "stream",
          "name": "stdout",
          "text": [
            "Downloading data from https://storage.googleapis.com/tensorflow/tf-keras-datasets/mnist.npz\n",
            "11493376/11490434 [==============================] - 0s 0us/step\n",
            "11501568/11490434 [==============================] - 0s 0us/step\n",
            "(28, 28, 1) 10\n",
            "Accuracy: 0.986\n",
            "WARNING:tensorflow:5 out of the last 5 calls to <function Model.make_predict_function.<locals>.predict_function at 0x7ff81531e560> triggered tf.function retracing. Tracing is expensive and the excessive number of tracings could be due to (1) creating @tf.function repeatedly in a loop, (2) passing tensors with different shapes, (3) passing Python objects instead of tensors. For (1), please define your @tf.function outside of the loop. For (2), @tf.function has experimental_relax_shapes=True option that relaxes argument shapes that can avoid unnecessary retracing. For (3), please refer to https://www.tensorflow.org/guide/function#controlling_retracing and https://www.tensorflow.org/api_docs/python/tf/function for  more details.\n",
            "Predicted: class=5\n"
          ]
        }
      ]
    },
    {
      "cell_type": "code",
      "source": [
        "from tensorflow.keras.utils import plot_model\n",
        "\n",
        "plot_model(model, 'model.png', show_shapes=True)"
      ],
      "metadata": {
        "colab": {
          "base_uri": "https://localhost:8080/",
          "height": 754
        },
        "id": "qgbpznpyATjG",
        "outputId": "c8ee5048-8a97-4875-e277-fc40a8cf385c"
      },
      "execution_count": 7,
      "outputs": [
        {
          "output_type": "execute_result",
          "data": {
            "image/png": "[encoded data removed]",
            "text/plain": [
              "<IPython.core.display.Image object>"
            ]
          },
          "metadata": {},
          "execution_count": 7
        }
      ]
    },
    {
      "cell_type": "code",
      "source": [
        "# example of plotting learning curves\n",
        "from sklearn.datasets import make_classification\n",
        "from tensorflow.keras import Sequential\n",
        "from tensorflow.keras.layers import Dense\n",
        "from tensorflow.keras.optimizers import SGD\n",
        "from matplotlib import pyplot\n",
        "# create the dataset\n",
        "X, y = make_classification(n_samples=1000, n_classes=2, random_state=1)\n",
        "# determine the number of input features\n",
        "n_features = X.shape[1]\n",
        "# define model\n",
        "model = Sequential()\n",
        "model.add(Dense(10, activation='relu', kernel_initializer='he_normal', input_shape=(n_features,)))\n",
        "model.add(Dense(1, activation='sigmoid'))\n",
        "# compile the model\n",
        "sgd = SGD(learning_rate=0.001, momentum=0.8)\n",
        "model.compile(optimizer=sgd, loss='binary_crossentropy')\n",
        "# fit the model\n",
        "history = model.fit(X, y, epochs=100, batch_size=32, verbose=0, validation_split=0.3)\n",
        "# plot learning curves\n",
        "pyplot.title('Learning Curves')\n",
        "pyplot.xlabel('Epoch')\n",
        "pyplot.ylabel('Cross Entropy')\n",
        "pyplot.plot(history.history['loss'], label='train')\n",
        "pyplot.plot(history.history['val_loss'], label='val')\n",
        "pyplot.legend()\n",
        "pyplot.show()"
      ],
      "metadata": {
        "colab": {
          "base_uri": "https://localhost:8080/",
          "height": 295
        },
        "id": "C8m9XpvjAi4z",
        "outputId": "698d0f40-e5c0-4bd6-a891-816237ed10c2"
      },
      "execution_count": 8,
      "outputs": [
        {
          "output_type": "display_data",
          "data": {
            "image/png": "[encoded data removed]",
            "text/plain": [
              "<Figure size 432x288 with 1 Axes>"
            ]
          },
          "metadata": {
            "needs_background": "light"
          }
        }
      ]
    }
  ]
}