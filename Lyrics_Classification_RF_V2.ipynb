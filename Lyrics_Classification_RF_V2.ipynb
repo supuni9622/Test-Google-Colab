{
  "nbformat": 4,
  "nbformat_minor": 0,
  "metadata": {
    "colab": {
      "name": "Lyrics Classification-RF-V2.ipynb",
      "provenance": [],
      "mount_file_id": "1np4_dZ_2ue9PNib0-ZOTDaoe1EEJTjUu",
      "authorship_tag": "ABX9TyNi4VUgxsiUK3L07nPCGYUB",
      "include_colab_link": true
    },
    "kernelspec": {
      "name": "python3",
      "display_name": "Python 3"
    },
    "language_info": {
      "name": "python"
    }
  },
  "cells": [
    {
      "cell_type": "markdown",
      "metadata": {
        "id": "view-in-github",
        "colab_type": "text"
      },
      "source": [
        "<a href=\"https://colab.research.google.com/github/supuni9622/Test-Google-Colab/blob/main/Lyrics_Classification_RF_V2.ipynb\" target=\"_parent\"><img src=\"https://colab.research.google.com/assets/colab-badge.svg\" alt=\"Open In Colab\"/></a>"
      ]
    },
    {
      "cell_type": "code",
      "metadata": {
        "id": "bGRsbfpSaJ_a"
      },
      "source": [
        "import numpy as np\n",
        "import matplotlib.pyplot as plt\n",
        "import pandas as pd"
      ],
      "execution_count": 1,
      "outputs": []
    },
    {
      "cell_type": "code",
      "metadata": {
        "colab": {
          "base_uri": "https://localhost:8080/",
          "height": 35
        },
        "id": "xZ6hvFVSbGAC",
        "outputId": "9763ed94-e92e-42b0-b706-621f57dcbd34"
      },
      "source": [
        "pwd"
      ],
      "execution_count": 2,
      "outputs": [
        {
          "output_type": "execute_result",
          "data": {
            "application/vnd.google.colaboratory.intrinsic+json": {
              "type": "string"
            },
            "text/plain": [
              "'/content'"
            ]
          },
          "metadata": {},
          "execution_count": 2
        }
      ]
    },
    {
      "cell_type": "code",
      "metadata": {
        "colab": {
          "base_uri": "https://localhost:8080/"
        },
        "id": "uyqMtBqLbPPe",
        "outputId": "c4be1233-b2a9-4f8b-d7f3-7b5bb2b4c360"
      },
      "source": [
        "cd /content/drive/MyDrive/4th Year Research/M3/Test Implementation/Test-Google-Colab/TestV2"
      ],
      "execution_count": 3,
      "outputs": [
        {
          "output_type": "stream",
          "name": "stdout",
          "text": [
            "/content/drive/MyDrive/4th Year Research/M3/Test Implementation/Test-Google-Colab/TestV2\n"
          ]
        }
      ]
    },
    {
      "cell_type": "code",
      "metadata": {
        "colab": {
          "base_uri": "https://localhost:8080/",
          "height": 35
        },
        "id": "fTIf7lrObRgb",
        "outputId": "e410fe72-1b47-4ee7-ef9a-66610df39e83"
      },
      "source": [
        "pwd"
      ],
      "execution_count": 4,
      "outputs": [
        {
          "output_type": "execute_result",
          "data": {
            "application/vnd.google.colaboratory.intrinsic+json": {
              "type": "string"
            },
            "text/plain": [
              "'/content/drive/MyDrive/4th Year Research/M3/Test Implementation/Test-Google-Colab/TestV2'"
            ]
          },
          "metadata": {},
          "execution_count": 4
        }
      ]
    },
    {
      "cell_type": "code",
      "metadata": {
        "id": "WD5oKe9kaip_"
      },
      "source": [
        "dataset = pd.read_csv('Lyrical_data_3.csv',encoding='cp1252')"
      ],
      "execution_count": 5,
      "outputs": []
    },
    {
      "cell_type": "code",
      "metadata": {
        "colab": {
          "base_uri": "https://localhost:8080/",
          "height": 206
        },
        "id": "AGH4dWb6bWOO",
        "outputId": "f1aba54f-84b3-4de6-c2cc-70b9055e17a7"
      },
      "source": [
        "dataset.head()"
      ],
      "execution_count": 6,
      "outputs": [
        {
          "output_type": "execute_result",
          "data": {
            "text/html": [
              "\n",
              "  <div id=\"df-6da19a3b-6d4b-4259-bf60-6dedf7d83ef3\">\n",
              "    <div class=\"colab-df-container\">\n",
              "      <div>\n",
              "<style scoped>\n",
              "    .dataframe tbody tr th:only-of-type {\n",
              "        vertical-align: middle;\n",
              "    }\n",
              "\n",
              "    .dataframe tbody tr th {\n",
              "        vertical-align: top;\n",
              "    }\n",
              "\n",
              "    .dataframe thead th {\n",
              "        text-align: right;\n",
              "    }\n",
              "</style>\n",
              "<table border=\"1\" class=\"dataframe\">\n",
              "  <thead>\n",
              "    <tr style=\"text-align: right;\">\n",
              "      <th></th>\n",
              "      <th>Song_ID</th>\n",
              "      <th>Song_Title</th>\n",
              "      <th>Chorus</th>\n",
              "      <th>Emotion</th>\n",
              "    </tr>\n",
              "  </thead>\n",
              "  <tbody>\n",
              "    <tr>\n",
              "      <th>0</th>\n",
              "      <td>1</td>\n",
              "      <td>Diana</td>\n",
              "      <td>Diana,\\rLet me be the one to light a fire insi...</td>\n",
              "      <td>Inspiration</td>\n",
              "    </tr>\n",
              "    <tr>\n",
              "      <th>1</th>\n",
              "      <td>2</td>\n",
              "      <td>Don't forget where you belong</td>\n",
              "      <td>Don't forget where you belong\\rHome\\rDon't for...</td>\n",
              "      <td>Inspiration</td>\n",
              "    </tr>\n",
              "    <tr>\n",
              "      <th>2</th>\n",
              "      <td>3</td>\n",
              "      <td>Strong</td>\n",
              "      <td>I'm sorry if I say, \"I need you\"\\nBut I don't ...</td>\n",
              "      <td>Inspiration</td>\n",
              "    </tr>\n",
              "    <tr>\n",
              "      <th>3</th>\n",
              "      <td>4</td>\n",
              "      <td>Happily</td>\n",
              "      <td>I don't care what people say when we're togeth...</td>\n",
              "      <td>Sad</td>\n",
              "    </tr>\n",
              "    <tr>\n",
              "      <th>4</th>\n",
              "      <td>5</td>\n",
              "      <td>Better than words</td>\n",
              "      <td>Better than words\\rMore than a feeling Crazy i...</td>\n",
              "      <td>Love</td>\n",
              "    </tr>\n",
              "  </tbody>\n",
              "</table>\n",
              "</div>\n",
              "      <button class=\"colab-df-convert\" onclick=\"convertToInteractive('df-6da19a3b-6d4b-4259-bf60-6dedf7d83ef3')\"\n",
              "              title=\"Convert this dataframe to an interactive table.\"\n",
              "              style=\"display:none;\">\n",
              "        \n",
              "  <svg xmlns=\"http://www.w3.org/2000/svg\" height=\"24px\"viewBox=\"0 0 24 24\"\n",
              "       width=\"24px\">\n",
              "    <path d=\"M0 0h24v24H0V0z\" fill=\"none\"/>\n",
              "    <path d=\"M18.56 5.44l.94 2.06.94-2.06 2.06-.94-2.06-.94-.94-2.06-.94 2.06-2.06.94zm-11 1L8.5 8.5l.94-2.06 2.06-.94-2.06-.94L8.5 2.5l-.94 2.06-2.06.94zm10 10l.94 2.06.94-2.06 2.06-.94-2.06-.94-.94-2.06-.94 2.06-2.06.94z\"/><path d=\"M17.41 7.96l-1.37-1.37c-.4-.4-.92-.59-1.43-.59-.52 0-1.04.2-1.43.59L10.3 9.45l-7.72 7.72c-.78.78-.78 2.05 0 2.83L4 21.41c.39.39.9.59 1.41.59.51 0 1.02-.2 1.41-.59l7.78-7.78 2.81-2.81c.8-.78.8-2.07 0-2.86zM5.41 20L4 18.59l7.72-7.72 1.47 1.35L5.41 20z\"/>\n",
              "  </svg>\n",
              "      </button>\n",
              "      \n",
              "  <style>\n",
              "    .colab-df-container {\n",
              "      display:flex;\n",
              "      flex-wrap:wrap;\n",
              "      gap: 12px;\n",
              "    }\n",
              "\n",
              "    .colab-df-convert {\n",
              "      background-color: #E8F0FE;\n",
              "      border: none;\n",
              "      border-radius: 50%;\n",
              "      cursor: pointer;\n",
              "      display: none;\n",
              "      fill: #1967D2;\n",
              "      height: 32px;\n",
              "      padding: 0 0 0 0;\n",
              "      width: 32px;\n",
              "    }\n",
              "\n",
              "    .colab-df-convert:hover {\n",
              "      background-color: #E2EBFA;\n",
              "      box-shadow: 0px 1px 2px rgba(60, 64, 67, 0.3), 0px 1px 3px 1px rgba(60, 64, 67, 0.15);\n",
              "      fill: #174EA6;\n",
              "    }\n",
              "\n",
              "    [theme=dark] .colab-df-convert {\n",
              "      background-color: #3B4455;\n",
              "      fill: #D2E3FC;\n",
              "    }\n",
              "\n",
              "    [theme=dark] .colab-df-convert:hover {\n",
              "      background-color: #434B5C;\n",
              "      box-shadow: 0px 1px 3px 1px rgba(0, 0, 0, 0.15);\n",
              "      filter: drop-shadow(0px 1px 2px rgba(0, 0, 0, 0.3));\n",
              "      fill: #FFFFFF;\n",
              "    }\n",
              "  </style>\n",
              "\n",
              "      <script>\n",
              "        const buttonEl =\n",
              "          document.querySelector('#df-6da19a3b-6d4b-4259-bf60-6dedf7d83ef3 button.colab-df-convert');\n",
              "        buttonEl.style.display =\n",
              "          google.colab.kernel.accessAllowed ? 'block' : 'none';\n",
              "\n",
              "        async function convertToInteractive(key) {\n",
              "          const element = document.querySelector('#df-6da19a3b-6d4b-4259-bf60-6dedf7d83ef3');\n",
              "          const dataTable =\n",
              "            await google.colab.kernel.invokeFunction('convertToInteractive',\n",
              "                                                     [key], {});\n",
              "          if (!dataTable) return;\n",
              "\n",
              "          const docLinkHtml = 'Like what you see? Visit the ' +\n",
              "            '<a target=\"_blank\" href=https://colab.research.google.com/notebooks/data_table.ipynb>data table notebook</a>'\n",
              "            + ' to learn more about interactive tables.';\n",
              "          element.innerHTML = '';\n",
              "          dataTable['output_type'] = 'display_data';\n",
              "          await google.colab.output.renderOutput(dataTable, element);\n",
              "          const docLink = document.createElement('div');\n",
              "          docLink.innerHTML = docLinkHtml;\n",
              "          element.appendChild(docLink);\n",
              "        }\n",
              "      </script>\n",
              "    </div>\n",
              "  </div>\n",
              "  "
            ],
            "text/plain": [
              "   Song_ID  ...      Emotion\n",
              "0        1  ...  Inspiration\n",
              "1        2  ...  Inspiration\n",
              "2        3  ...  Inspiration\n",
              "3        4  ...          Sad\n",
              "4        5  ...         Love\n",
              "\n",
              "[5 rows x 4 columns]"
            ]
          },
          "metadata": {},
          "execution_count": 6
        }
      ]
    },
    {
      "cell_type": "code",
      "metadata": {
        "colab": {
          "base_uri": "https://localhost:8080/"
        },
        "id": "MD99bHypKLar",
        "outputId": "ab254946-8e65-4c6f-e02a-0014ff8e4c4c"
      },
      "source": [
        "lyrics = dataset['Chorus']\n",
        "lyrics"
      ],
      "execution_count": 7,
      "outputs": [
        {
          "output_type": "execute_result",
          "data": {
            "text/plain": [
              "0      Diana,\\rLet me be the one to light a fire insi...\n",
              "1      Don't forget where you belong\\rHome\\rDon't for...\n",
              "2      I'm sorry if I say, \"I need you\"\\nBut I don't ...\n",
              "3      I don't care what people say when we're togeth...\n",
              "4      Better than words\\rMore than a feeling Crazy i...\n",
              "                             ...                        \n",
              "795    You've got every right\\r\\nTo a beautiful life\\...\n",
              "796    I'm only one call away\\r\\nI'll be there to sav...\n",
              "797    It started with a kiss on your mama's couch\\r\\...\n",
              "798    I warned myself that I shouldn't play with fir...\n",
              "799    I'll admit, I was wrong, what else can I say, ...\n",
              "Name: Chorus, Length: 800, dtype: object"
            ]
          },
          "metadata": {},
          "execution_count": 7
        }
      ]
    },
    {
      "cell_type": "code",
      "metadata": {
        "id": "wSdSruceNU_J"
      },
      "source": [
        "dataset.dropna(how='all', axis=1, inplace=True)"
      ],
      "execution_count": 8,
      "outputs": []
    },
    {
      "cell_type": "code",
      "metadata": {
        "colab": {
          "base_uri": "https://localhost:8080/",
          "height": 206
        },
        "id": "bqqfiEj8NahK",
        "outputId": "68ea20df-be17-411a-a26d-292cd08e4f75"
      },
      "source": [
        "dataset.head()"
      ],
      "execution_count": 9,
      "outputs": [
        {
          "output_type": "execute_result",
          "data": {
            "text/html": [
              "\n",
              "  <div id=\"df-68e7f444-89d2-40b4-bb0b-e53bd9c1ada7\">\n",
              "    <div class=\"colab-df-container\">\n",
              "      <div>\n",
              "<style scoped>\n",
              "    .dataframe tbody tr th:only-of-type {\n",
              "        vertical-align: middle;\n",
              "    }\n",
              "\n",
              "    .dataframe tbody tr th {\n",
              "        vertical-align: top;\n",
              "    }\n",
              "\n",
              "    .dataframe thead th {\n",
              "        text-align: right;\n",
              "    }\n",
              "</style>\n",
              "<table border=\"1\" class=\"dataframe\">\n",
              "  <thead>\n",
              "    <tr style=\"text-align: right;\">\n",
              "      <th></th>\n",
              "      <th>Song_ID</th>\n",
              "      <th>Song_Title</th>\n",
              "      <th>Chorus</th>\n",
              "      <th>Emotion</th>\n",
              "    </tr>\n",
              "  </thead>\n",
              "  <tbody>\n",
              "    <tr>\n",
              "      <th>0</th>\n",
              "      <td>1</td>\n",
              "      <td>Diana</td>\n",
              "      <td>Diana,\\rLet me be the one to light a fire insi...</td>\n",
              "      <td>Inspiration</td>\n",
              "    </tr>\n",
              "    <tr>\n",
              "      <th>1</th>\n",
              "      <td>2</td>\n",
              "      <td>Don't forget where you belong</td>\n",
              "      <td>Don't forget where you belong\\rHome\\rDon't for...</td>\n",
              "      <td>Inspiration</td>\n",
              "    </tr>\n",
              "    <tr>\n",
              "      <th>2</th>\n",
              "      <td>3</td>\n",
              "      <td>Strong</td>\n",
              "      <td>I'm sorry if I say, \"I need you\"\\nBut I don't ...</td>\n",
              "      <td>Inspiration</td>\n",
              "    </tr>\n",
              "    <tr>\n",
              "      <th>3</th>\n",
              "      <td>4</td>\n",
              "      <td>Happily</td>\n",
              "      <td>I don't care what people say when we're togeth...</td>\n",
              "      <td>Sad</td>\n",
              "    </tr>\n",
              "    <tr>\n",
              "      <th>4</th>\n",
              "      <td>5</td>\n",
              "      <td>Better than words</td>\n",
              "      <td>Better than words\\rMore than a feeling Crazy i...</td>\n",
              "      <td>Love</td>\n",
              "    </tr>\n",
              "  </tbody>\n",
              "</table>\n",
              "</div>\n",
              "      <button class=\"colab-df-convert\" onclick=\"convertToInteractive('df-68e7f444-89d2-40b4-bb0b-e53bd9c1ada7')\"\n",
              "              title=\"Convert this dataframe to an interactive table.\"\n",
              "              style=\"display:none;\">\n",
              "        \n",
              "  <svg xmlns=\"http://www.w3.org/2000/svg\" height=\"24px\"viewBox=\"0 0 24 24\"\n",
              "       width=\"24px\">\n",
              "    <path d=\"M0 0h24v24H0V0z\" fill=\"none\"/>\n",
              "    <path d=\"M18.56 5.44l.94 2.06.94-2.06 2.06-.94-2.06-.94-.94-2.06-.94 2.06-2.06.94zm-11 1L8.5 8.5l.94-2.06 2.06-.94-2.06-.94L8.5 2.5l-.94 2.06-2.06.94zm10 10l.94 2.06.94-2.06 2.06-.94-2.06-.94-.94-2.06-.94 2.06-2.06.94z\"/><path d=\"M17.41 7.96l-1.37-1.37c-.4-.4-.92-.59-1.43-.59-.52 0-1.04.2-1.43.59L10.3 9.45l-7.72 7.72c-.78.78-.78 2.05 0 2.83L4 21.41c.39.39.9.59 1.41.59.51 0 1.02-.2 1.41-.59l7.78-7.78 2.81-2.81c.8-.78.8-2.07 0-2.86zM5.41 20L4 18.59l7.72-7.72 1.47 1.35L5.41 20z\"/>\n",
              "  </svg>\n",
              "      </button>\n",
              "      \n",
              "  <style>\n",
              "    .colab-df-container {\n",
              "      display:flex;\n",
              "      flex-wrap:wrap;\n",
              "      gap: 12px;\n",
              "    }\n",
              "\n",
              "    .colab-df-convert {\n",
              "      background-color: #E8F0FE;\n",
              "      border: none;\n",
              "      border-radius: 50%;\n",
              "      cursor: pointer;\n",
              "      display: none;\n",
              "      fill: #1967D2;\n",
              "      height: 32px;\n",
              "      padding: 0 0 0 0;\n",
              "      width: 32px;\n",
              "    }\n",
              "\n",
              "    .colab-df-convert:hover {\n",
              "      background-color: #E2EBFA;\n",
              "      box-shadow: 0px 1px 2px rgba(60, 64, 67, 0.3), 0px 1px 3px 1px rgba(60, 64, 67, 0.15);\n",
              "      fill: #174EA6;\n",
              "    }\n",
              "\n",
              "    [theme=dark] .colab-df-convert {\n",
              "      background-color: #3B4455;\n",
              "      fill: #D2E3FC;\n",
              "    }\n",
              "\n",
              "    [theme=dark] .colab-df-convert:hover {\n",
              "      background-color: #434B5C;\n",
              "      box-shadow: 0px 1px 3px 1px rgba(0, 0, 0, 0.15);\n",
              "      filter: drop-shadow(0px 1px 2px rgba(0, 0, 0, 0.3));\n",
              "      fill: #FFFFFF;\n",
              "    }\n",
              "  </style>\n",
              "\n",
              "      <script>\n",
              "        const buttonEl =\n",
              "          document.querySelector('#df-68e7f444-89d2-40b4-bb0b-e53bd9c1ada7 button.colab-df-convert');\n",
              "        buttonEl.style.display =\n",
              "          google.colab.kernel.accessAllowed ? 'block' : 'none';\n",
              "\n",
              "        async function convertToInteractive(key) {\n",
              "          const element = document.querySelector('#df-68e7f444-89d2-40b4-bb0b-e53bd9c1ada7');\n",
              "          const dataTable =\n",
              "            await google.colab.kernel.invokeFunction('convertToInteractive',\n",
              "                                                     [key], {});\n",
              "          if (!dataTable) return;\n",
              "\n",
              "          const docLinkHtml = 'Like what you see? Visit the ' +\n",
              "            '<a target=\"_blank\" href=https://colab.research.google.com/notebooks/data_table.ipynb>data table notebook</a>'\n",
              "            + ' to learn more about interactive tables.';\n",
              "          element.innerHTML = '';\n",
              "          dataTable['output_type'] = 'display_data';\n",
              "          await google.colab.output.renderOutput(dataTable, element);\n",
              "          const docLink = document.createElement('div');\n",
              "          docLink.innerHTML = docLinkHtml;\n",
              "          element.appendChild(docLink);\n",
              "        }\n",
              "      </script>\n",
              "    </div>\n",
              "  </div>\n",
              "  "
            ],
            "text/plain": [
              "   Song_ID  ...      Emotion\n",
              "0        1  ...  Inspiration\n",
              "1        2  ...  Inspiration\n",
              "2        3  ...  Inspiration\n",
              "3        4  ...          Sad\n",
              "4        5  ...         Love\n",
              "\n",
              "[5 rows x 4 columns]"
            ]
          },
          "metadata": {},
          "execution_count": 9
        }
      ]
    },
    {
      "cell_type": "code",
      "metadata": {
        "colab": {
          "base_uri": "https://localhost:8080/",
          "height": 424
        },
        "id": "-QPC9EIAN8yx",
        "outputId": "7d830b64-0ce6-46c7-8289-b77a1dd52cfb"
      },
      "source": [
        "dataset"
      ],
      "execution_count": 10,
      "outputs": [
        {
          "output_type": "execute_result",
          "data": {
            "text/html": [
              "\n",
              "  <div id=\"df-cd640ca1-5c7f-4744-b129-01b2a017b127\">\n",
              "    <div class=\"colab-df-container\">\n",
              "      <div>\n",
              "<style scoped>\n",
              "    .dataframe tbody tr th:only-of-type {\n",
              "        vertical-align: middle;\n",
              "    }\n",
              "\n",
              "    .dataframe tbody tr th {\n",
              "        vertical-align: top;\n",
              "    }\n",
              "\n",
              "    .dataframe thead th {\n",
              "        text-align: right;\n",
              "    }\n",
              "</style>\n",
              "<table border=\"1\" class=\"dataframe\">\n",
              "  <thead>\n",
              "    <tr style=\"text-align: right;\">\n",
              "      <th></th>\n",
              "      <th>Song_ID</th>\n",
              "      <th>Song_Title</th>\n",
              "      <th>Chorus</th>\n",
              "      <th>Emotion</th>\n",
              "    </tr>\n",
              "  </thead>\n",
              "  <tbody>\n",
              "    <tr>\n",
              "      <th>0</th>\n",
              "      <td>1</td>\n",
              "      <td>Diana</td>\n",
              "      <td>Diana,\\rLet me be the one to light a fire insi...</td>\n",
              "      <td>Inspiration</td>\n",
              "    </tr>\n",
              "    <tr>\n",
              "      <th>1</th>\n",
              "      <td>2</td>\n",
              "      <td>Don't forget where you belong</td>\n",
              "      <td>Don't forget where you belong\\rHome\\rDon't for...</td>\n",
              "      <td>Inspiration</td>\n",
              "    </tr>\n",
              "    <tr>\n",
              "      <th>2</th>\n",
              "      <td>3</td>\n",
              "      <td>Strong</td>\n",
              "      <td>I'm sorry if I say, \"I need you\"\\nBut I don't ...</td>\n",
              "      <td>Inspiration</td>\n",
              "    </tr>\n",
              "    <tr>\n",
              "      <th>3</th>\n",
              "      <td>4</td>\n",
              "      <td>Happily</td>\n",
              "      <td>I don't care what people say when we're togeth...</td>\n",
              "      <td>Sad</td>\n",
              "    </tr>\n",
              "    <tr>\n",
              "      <th>4</th>\n",
              "      <td>5</td>\n",
              "      <td>Better than words</td>\n",
              "      <td>Better than words\\rMore than a feeling Crazy i...</td>\n",
              "      <td>Love</td>\n",
              "    </tr>\n",
              "    <tr>\n",
              "      <th>...</th>\n",
              "      <td>...</td>\n",
              "      <td>...</td>\n",
              "      <td>...</td>\n",
              "      <td>...</td>\n",
              "    </tr>\n",
              "    <tr>\n",
              "      <th>795</th>\n",
              "      <td>796</td>\n",
              "      <td>Who says</td>\n",
              "      <td>You've got every right\\r\\nTo a beautiful life\\...</td>\n",
              "      <td>Inspiration</td>\n",
              "    </tr>\n",
              "    <tr>\n",
              "      <th>796</th>\n",
              "      <td>797</td>\n",
              "      <td>One call away</td>\n",
              "      <td>I'm only one call away\\r\\nI'll be there to sav...</td>\n",
              "      <td>Inspiration</td>\n",
              "    </tr>\n",
              "    <tr>\n",
              "      <th>797</th>\n",
              "      <td>798</td>\n",
              "      <td>Cheating on you</td>\n",
              "      <td>It started with a kiss on your mama's couch\\r\\...</td>\n",
              "      <td>Sad</td>\n",
              "    </tr>\n",
              "    <tr>\n",
              "      <th>798</th>\n",
              "      <td>799</td>\n",
              "      <td>I warned myself</td>\n",
              "      <td>I warned myself that I shouldn't play with fir...</td>\n",
              "      <td>Sad</td>\n",
              "    </tr>\n",
              "    <tr>\n",
              "      <th>799</th>\n",
              "      <td>800</td>\n",
              "      <td>How long</td>\n",
              "      <td>I'll admit, I was wrong, what else can I say, ...</td>\n",
              "      <td>Sad</td>\n",
              "    </tr>\n",
              "  </tbody>\n",
              "</table>\n",
              "<p>800 rows × 4 columns</p>\n",
              "</div>\n",
              "      <button class=\"colab-df-convert\" onclick=\"convertToInteractive('df-cd640ca1-5c7f-4744-b129-01b2a017b127')\"\n",
              "              title=\"Convert this dataframe to an interactive table.\"\n",
              "              style=\"display:none;\">\n",
              "        \n",
              "  <svg xmlns=\"http://www.w3.org/2000/svg\" height=\"24px\"viewBox=\"0 0 24 24\"\n",
              "       width=\"24px\">\n",
              "    <path d=\"M0 0h24v24H0V0z\" fill=\"none\"/>\n",
              "    <path d=\"M18.56 5.44l.94 2.06.94-2.06 2.06-.94-2.06-.94-.94-2.06-.94 2.06-2.06.94zm-11 1L8.5 8.5l.94-2.06 2.06-.94-2.06-.94L8.5 2.5l-.94 2.06-2.06.94zm10 10l.94 2.06.94-2.06 2.06-.94-2.06-.94-.94-2.06-.94 2.06-2.06.94z\"/><path d=\"M17.41 7.96l-1.37-1.37c-.4-.4-.92-.59-1.43-.59-.52 0-1.04.2-1.43.59L10.3 9.45l-7.72 7.72c-.78.78-.78 2.05 0 2.83L4 21.41c.39.39.9.59 1.41.59.51 0 1.02-.2 1.41-.59l7.78-7.78 2.81-2.81c.8-.78.8-2.07 0-2.86zM5.41 20L4 18.59l7.72-7.72 1.47 1.35L5.41 20z\"/>\n",
              "  </svg>\n",
              "      </button>\n",
              "      \n",
              "  <style>\n",
              "    .colab-df-container {\n",
              "      display:flex;\n",
              "      flex-wrap:wrap;\n",
              "      gap: 12px;\n",
              "    }\n",
              "\n",
              "    .colab-df-convert {\n",
              "      background-color: #E8F0FE;\n",
              "      border: none;\n",
              "      border-radius: 50%;\n",
              "      cursor: pointer;\n",
              "      display: none;\n",
              "      fill: #1967D2;\n",
              "      height: 32px;\n",
              "      padding: 0 0 0 0;\n",
              "      width: 32px;\n",
              "    }\n",
              "\n",
              "    .colab-df-convert:hover {\n",
              "      background-color: #E2EBFA;\n",
              "      box-shadow: 0px 1px 2px rgba(60, 64, 67, 0.3), 0px 1px 3px 1px rgba(60, 64, 67, 0.15);\n",
              "      fill: #174EA6;\n",
              "    }\n",
              "\n",
              "    [theme=dark] .colab-df-convert {\n",
              "      background-color: #3B4455;\n",
              "      fill: #D2E3FC;\n",
              "    }\n",
              "\n",
              "    [theme=dark] .colab-df-convert:hover {\n",
              "      background-color: #434B5C;\n",
              "      box-shadow: 0px 1px 3px 1px rgba(0, 0, 0, 0.15);\n",
              "      filter: drop-shadow(0px 1px 2px rgba(0, 0, 0, 0.3));\n",
              "      fill: #FFFFFF;\n",
              "    }\n",
              "  </style>\n",
              "\n",
              "      <script>\n",
              "        const buttonEl =\n",
              "          document.querySelector('#df-cd640ca1-5c7f-4744-b129-01b2a017b127 button.colab-df-convert');\n",
              "        buttonEl.style.display =\n",
              "          google.colab.kernel.accessAllowed ? 'block' : 'none';\n",
              "\n",
              "        async function convertToInteractive(key) {\n",
              "          const element = document.querySelector('#df-cd640ca1-5c7f-4744-b129-01b2a017b127');\n",
              "          const dataTable =\n",
              "            await google.colab.kernel.invokeFunction('convertToInteractive',\n",
              "                                                     [key], {});\n",
              "          if (!dataTable) return;\n",
              "\n",
              "          const docLinkHtml = 'Like what you see? Visit the ' +\n",
              "            '<a target=\"_blank\" href=https://colab.research.google.com/notebooks/data_table.ipynb>data table notebook</a>'\n",
              "            + ' to learn more about interactive tables.';\n",
              "          element.innerHTML = '';\n",
              "          dataTable['output_type'] = 'display_data';\n",
              "          await google.colab.output.renderOutput(dataTable, element);\n",
              "          const docLink = document.createElement('div');\n",
              "          docLink.innerHTML = docLinkHtml;\n",
              "          element.appendChild(docLink);\n",
              "        }\n",
              "      </script>\n",
              "    </div>\n",
              "  </div>\n",
              "  "
            ],
            "text/plain": [
              "     Song_ID  ...      Emotion\n",
              "0          1  ...  Inspiration\n",
              "1          2  ...  Inspiration\n",
              "2          3  ...  Inspiration\n",
              "3          4  ...          Sad\n",
              "4          5  ...         Love\n",
              "..       ...  ...          ...\n",
              "795      796  ...  Inspiration\n",
              "796      797  ...  Inspiration\n",
              "797      798  ...          Sad\n",
              "798      799  ...          Sad\n",
              "799      800  ...          Sad\n",
              "\n",
              "[800 rows x 4 columns]"
            ]
          },
          "metadata": {},
          "execution_count": 10
        }
      ]
    },
    {
      "cell_type": "code",
      "metadata": {
        "colab": {
          "base_uri": "https://localhost:8080/"
        },
        "id": "TWHQX8pWNpOa",
        "outputId": "6b84de6e-37e9-43be-f352-ec9c3ed4cdae"
      },
      "source": [
        "lyrics2 = dataset['Chorus']\n",
        "lyrics2"
      ],
      "execution_count": 11,
      "outputs": [
        {
          "output_type": "execute_result",
          "data": {
            "text/plain": [
              "0      Diana,\\rLet me be the one to light a fire insi...\n",
              "1      Don't forget where you belong\\rHome\\rDon't for...\n",
              "2      I'm sorry if I say, \"I need you\"\\nBut I don't ...\n",
              "3      I don't care what people say when we're togeth...\n",
              "4      Better than words\\rMore than a feeling Crazy i...\n",
              "                             ...                        \n",
              "795    You've got every right\\r\\nTo a beautiful life\\...\n",
              "796    I'm only one call away\\r\\nI'll be there to sav...\n",
              "797    It started with a kiss on your mama's couch\\r\\...\n",
              "798    I warned myself that I shouldn't play with fir...\n",
              "799    I'll admit, I was wrong, what else can I say, ...\n",
              "Name: Chorus, Length: 800, dtype: object"
            ]
          },
          "metadata": {},
          "execution_count": 11
        }
      ]
    },
    {
      "cell_type": "markdown",
      "metadata": {
        "id": "7vvB4soGOFXP"
      },
      "source": [
        "Checking the empty rows in dataset"
      ]
    },
    {
      "cell_type": "code",
      "metadata": {
        "colab": {
          "base_uri": "https://localhost:8080/"
        },
        "id": "ZKKWupuDOE-g",
        "outputId": "c4de0303-928f-4576-e3ce-20d34aae6e32"
      },
      "source": [
        "print (dataset.isnull().sum())"
      ],
      "execution_count": 12,
      "outputs": [
        {
          "output_type": "stream",
          "name": "stdout",
          "text": [
            "Song_ID       0\n",
            "Song_Title    0\n",
            "Chorus        0\n",
            "Emotion       0\n",
            "dtype: int64\n"
          ]
        }
      ]
    },
    {
      "cell_type": "code",
      "metadata": {
        "colab": {
          "base_uri": "https://localhost:8080/",
          "height": 424
        },
        "id": "1zhJtwuJObZu",
        "outputId": "7e3fc36a-8403-45fd-a4a1-04503e1ba6d1"
      },
      "source": [
        "modifiedDF = dataset.dropna()\n",
        "modifiedDF"
      ],
      "execution_count": 13,
      "outputs": [
        {
          "output_type": "execute_result",
          "data": {
            "text/html": [
              "\n",
              "  <div id=\"df-f3fbd2bf-e6dd-40e8-8450-b1b63945aa38\">\n",
              "    <div class=\"colab-df-container\">\n",
              "      <div>\n",
              "<style scoped>\n",
              "    .dataframe tbody tr th:only-of-type {\n",
              "        vertical-align: middle;\n",
              "    }\n",
              "\n",
              "    .dataframe tbody tr th {\n",
              "        vertical-align: top;\n",
              "    }\n",
              "\n",
              "    .dataframe thead th {\n",
              "        text-align: right;\n",
              "    }\n",
              "</style>\n",
              "<table border=\"1\" class=\"dataframe\">\n",
              "  <thead>\n",
              "    <tr style=\"text-align: right;\">\n",
              "      <th></th>\n",
              "      <th>Song_ID</th>\n",
              "      <th>Song_Title</th>\n",
              "      <th>Chorus</th>\n",
              "      <th>Emotion</th>\n",
              "    </tr>\n",
              "  </thead>\n",
              "  <tbody>\n",
              "    <tr>\n",
              "      <th>0</th>\n",
              "      <td>1</td>\n",
              "      <td>Diana</td>\n",
              "      <td>Diana,\\rLet me be the one to light a fire insi...</td>\n",
              "      <td>Inspiration</td>\n",
              "    </tr>\n",
              "    <tr>\n",
              "      <th>1</th>\n",
              "      <td>2</td>\n",
              "      <td>Don't forget where you belong</td>\n",
              "      <td>Don't forget where you belong\\rHome\\rDon't for...</td>\n",
              "      <td>Inspiration</td>\n",
              "    </tr>\n",
              "    <tr>\n",
              "      <th>2</th>\n",
              "      <td>3</td>\n",
              "      <td>Strong</td>\n",
              "      <td>I'm sorry if I say, \"I need you\"\\nBut I don't ...</td>\n",
              "      <td>Inspiration</td>\n",
              "    </tr>\n",
              "    <tr>\n",
              "      <th>3</th>\n",
              "      <td>4</td>\n",
              "      <td>Happily</td>\n",
              "      <td>I don't care what people say when we're togeth...</td>\n",
              "      <td>Sad</td>\n",
              "    </tr>\n",
              "    <tr>\n",
              "      <th>4</th>\n",
              "      <td>5</td>\n",
              "      <td>Better than words</td>\n",
              "      <td>Better than words\\rMore than a feeling Crazy i...</td>\n",
              "      <td>Love</td>\n",
              "    </tr>\n",
              "    <tr>\n",
              "      <th>...</th>\n",
              "      <td>...</td>\n",
              "      <td>...</td>\n",
              "      <td>...</td>\n",
              "      <td>...</td>\n",
              "    </tr>\n",
              "    <tr>\n",
              "      <th>795</th>\n",
              "      <td>796</td>\n",
              "      <td>Who says</td>\n",
              "      <td>You've got every right\\r\\nTo a beautiful life\\...</td>\n",
              "      <td>Inspiration</td>\n",
              "    </tr>\n",
              "    <tr>\n",
              "      <th>796</th>\n",
              "      <td>797</td>\n",
              "      <td>One call away</td>\n",
              "      <td>I'm only one call away\\r\\nI'll be there to sav...</td>\n",
              "      <td>Inspiration</td>\n",
              "    </tr>\n",
              "    <tr>\n",
              "      <th>797</th>\n",
              "      <td>798</td>\n",
              "      <td>Cheating on you</td>\n",
              "      <td>It started with a kiss on your mama's couch\\r\\...</td>\n",
              "      <td>Sad</td>\n",
              "    </tr>\n",
              "    <tr>\n",
              "      <th>798</th>\n",
              "      <td>799</td>\n",
              "      <td>I warned myself</td>\n",
              "      <td>I warned myself that I shouldn't play with fir...</td>\n",
              "      <td>Sad</td>\n",
              "    </tr>\n",
              "    <tr>\n",
              "      <th>799</th>\n",
              "      <td>800</td>\n",
              "      <td>How long</td>\n",
              "      <td>I'll admit, I was wrong, what else can I say, ...</td>\n",
              "      <td>Sad</td>\n",
              "    </tr>\n",
              "  </tbody>\n",
              "</table>\n",
              "<p>800 rows × 4 columns</p>\n",
              "</div>\n",
              "      <button class=\"colab-df-convert\" onclick=\"convertToInteractive('df-f3fbd2bf-e6dd-40e8-8450-b1b63945aa38')\"\n",
              "              title=\"Convert this dataframe to an interactive table.\"\n",
              "              style=\"display:none;\">\n",
              "        \n",
              "  <svg xmlns=\"http://www.w3.org/2000/svg\" height=\"24px\"viewBox=\"0 0 24 24\"\n",
              "       width=\"24px\">\n",
              "    <path d=\"M0 0h24v24H0V0z\" fill=\"none\"/>\n",
              "    <path d=\"M18.56 5.44l.94 2.06.94-2.06 2.06-.94-2.06-.94-.94-2.06-.94 2.06-2.06.94zm-11 1L8.5 8.5l.94-2.06 2.06-.94-2.06-.94L8.5 2.5l-.94 2.06-2.06.94zm10 10l.94 2.06.94-2.06 2.06-.94-2.06-.94-.94-2.06-.94 2.06-2.06.94z\"/><path d=\"M17.41 7.96l-1.37-1.37c-.4-.4-.92-.59-1.43-.59-.52 0-1.04.2-1.43.59L10.3 9.45l-7.72 7.72c-.78.78-.78 2.05 0 2.83L4 21.41c.39.39.9.59 1.41.59.51 0 1.02-.2 1.41-.59l7.78-7.78 2.81-2.81c.8-.78.8-2.07 0-2.86zM5.41 20L4 18.59l7.72-7.72 1.47 1.35L5.41 20z\"/>\n",
              "  </svg>\n",
              "      </button>\n",
              "      \n",
              "  <style>\n",
              "    .colab-df-container {\n",
              "      display:flex;\n",
              "      flex-wrap:wrap;\n",
              "      gap: 12px;\n",
              "    }\n",
              "\n",
              "    .colab-df-convert {\n",
              "      background-color: #E8F0FE;\n",
              "      border: none;\n",
              "      border-radius: 50%;\n",
              "      cursor: pointer;\n",
              "      display: none;\n",
              "      fill: #1967D2;\n",
              "      height: 32px;\n",
              "      padding: 0 0 0 0;\n",
              "      width: 32px;\n",
              "    }\n",
              "\n",
              "    .colab-df-convert:hover {\n",
              "      background-color: #E2EBFA;\n",
              "      box-shadow: 0px 1px 2px rgba(60, 64, 67, 0.3), 0px 1px 3px 1px rgba(60, 64, 67, 0.15);\n",
              "      fill: #174EA6;\n",
              "    }\n",
              "\n",
              "    [theme=dark] .colab-df-convert {\n",
              "      background-color: #3B4455;\n",
              "      fill: #D2E3FC;\n",
              "    }\n",
              "\n",
              "    [theme=dark] .colab-df-convert:hover {\n",
              "      background-color: #434B5C;\n",
              "      box-shadow: 0px 1px 3px 1px rgba(0, 0, 0, 0.15);\n",
              "      filter: drop-shadow(0px 1px 2px rgba(0, 0, 0, 0.3));\n",
              "      fill: #FFFFFF;\n",
              "    }\n",
              "  </style>\n",
              "\n",
              "      <script>\n",
              "        const buttonEl =\n",
              "          document.querySelector('#df-f3fbd2bf-e6dd-40e8-8450-b1b63945aa38 button.colab-df-convert');\n",
              "        buttonEl.style.display =\n",
              "          google.colab.kernel.accessAllowed ? 'block' : 'none';\n",
              "\n",
              "        async function convertToInteractive(key) {\n",
              "          const element = document.querySelector('#df-f3fbd2bf-e6dd-40e8-8450-b1b63945aa38');\n",
              "          const dataTable =\n",
              "            await google.colab.kernel.invokeFunction('convertToInteractive',\n",
              "                                                     [key], {});\n",
              "          if (!dataTable) return;\n",
              "\n",
              "          const docLinkHtml = 'Like what you see? Visit the ' +\n",
              "            '<a target=\"_blank\" href=https://colab.research.google.com/notebooks/data_table.ipynb>data table notebook</a>'\n",
              "            + ' to learn more about interactive tables.';\n",
              "          element.innerHTML = '';\n",
              "          dataTable['output_type'] = 'display_data';\n",
              "          await google.colab.output.renderOutput(dataTable, element);\n",
              "          const docLink = document.createElement('div');\n",
              "          docLink.innerHTML = docLinkHtml;\n",
              "          element.appendChild(docLink);\n",
              "        }\n",
              "      </script>\n",
              "    </div>\n",
              "  </div>\n",
              "  "
            ],
            "text/plain": [
              "     Song_ID  ...      Emotion\n",
              "0          1  ...  Inspiration\n",
              "1          2  ...  Inspiration\n",
              "2          3  ...  Inspiration\n",
              "3          4  ...          Sad\n",
              "4          5  ...         Love\n",
              "..       ...  ...          ...\n",
              "795      796  ...  Inspiration\n",
              "796      797  ...  Inspiration\n",
              "797      798  ...          Sad\n",
              "798      799  ...          Sad\n",
              "799      800  ...          Sad\n",
              "\n",
              "[800 rows x 4 columns]"
            ]
          },
          "metadata": {},
          "execution_count": 13
        }
      ]
    },
    {
      "cell_type": "code",
      "metadata": {
        "colab": {
          "base_uri": "https://localhost:8080/"
        },
        "id": "FTGlaPVebvyM",
        "outputId": "b97fbd27-89af-4ce6-f872-6ef40cfa91ae"
      },
      "source": [
        "import re\n",
        "import nltk\n",
        "nltk.download('stopwords')\n",
        "from nltk.corpus import stopwords\n",
        "from nltk.stem.porter import PorterStemmer\n",
        "corpus = []\n",
        "for i in range(0, 799):\n",
        "  Lyrics = re.sub('[^a-zA-Z]', ' ', modifiedDF['Chorus'][i])\n",
        "  Lyrics = Lyrics.lower()\n",
        "  Lyrics = Lyrics.split()\n",
        "  ps = PorterStemmer()\n",
        "  all_stopwords = stopwords.words('english')\n",
        "  all_stopwords.remove('not')\n",
        "  all_stopwords.remove('down')\n",
        "  all_stopwords.remove('over')\n",
        "  all_stopwords.remove('under')\n",
        "  all_stopwords.remove('no')\n",
        "  all_stopwords.remove('only')\n",
        "  all_stopwords.remove(\"don't\")\n",
        "  all_stopwords.remove(\"aren't\")\n",
        "  Lyrics = [ps.stem(word) for word in Lyrics if not word in set(all_stopwords)]\n",
        "  Lyrics = ' '.join(Lyrics)\n",
        "  corpus.append(Lyrics)"
      ],
      "execution_count": 14,
      "outputs": [
        {
          "output_type": "stream",
          "name": "stdout",
          "text": [
            "[nltk_data] Downloading package stopwords to /root/nltk_data...\n",
            "[nltk_data]   Unzipping corpora/stopwords.zip.\n"
          ]
        }
      ]
    },
    {
      "cell_type": "markdown",
      "metadata": {
        "id": "esG0jgZSQK0Q"
      },
      "source": [
        "Print corpus"
      ]
    },
    {
      "cell_type": "code",
      "metadata": {
        "colab": {
          "base_uri": "https://localhost:8080/"
        },
        "id": "kFaGMJ3LQODW",
        "outputId": "acd51f9b-d8fd-438c-9964-fdbfc1c80ab2"
      },
      "source": [
        "print(corpus)"
      ],
      "execution_count": 15,
      "outputs": [
        {
          "output_type": "stream",
          "name": "stdout",
          "text": [
            "['diana let one light fire insid eye lone even know feel cri diana let one lift heart save life think even realiz babi save mine', 'forget belong home forget belong home ever feel alon never proof song', 'sorri say need care not scare love caus not weaker wrong wrong make strong', 'care peopl say togeth know wanna one hold sleep want forev know wanna leav c mon babi happili', 'better word feel crazi love danc ceil everi time touch shook make wanna deep love god onli know babi', 'tell hurt vain see heart love rememb laugh let laugh burn even scream shout come back back oh carri over fire water love hold closer hope heart strong enough night come down find way dark', 'know know know know everi everi everi time onli lone sometim wanna cave wanna fight tri tri tri tri tri hold lone momma sorri not sober anymor daddi pleas forgiv drink spill floor one never left down road sorri not sober anymor not sober anymor sorri promis get help intent sorri', 'walk down th park saw anoth arm onli month apart look happier saw walk insid bar said someth make laugh saw smile twice wide yeah look happier nobodi hurt like hurt nobodi love like promis not take person babi movin someon new caus babi look happier knew one day fall someon new break heart like lover know waitin', 'life get down numb way feel drown drink date prescript pill one love left shelf farewel save someon els got save', 'club best place find lover bar go friend tabl shot drink fast talk slow come over start convers trust give chanc take hand stop put van man jukebox start danc sing like girl know want love love handmad somebodi like come follow lead may crazi mind say boy let not talk much grab waist put bodi come follow lead come come follow lead love shape push pull like magnet although heart fall love bodi last night room bedsheet smell like everi day discov someth brand new love bodi', 'well found woman stronger anyon know share dream hope someday share home found love carri secret carri love carri children still kid love fight odd know alright time darl hold hand girl man see futur eye babi danc dark arm barefoot grass listen favorit song saw dress look beauti deserv darl look perfect tonight', 'oh compar everyon alway got finger self destruct wonder love enough wonder love enough alway look ride die caus mine onli heart gonna life time went fuck time went fuck wonder love enough', 'face face see eye eye like fire rain like fire rain drive insan drive insan stay mad anyth venu mar venu mar like differ star like differ star harmoni everi song sing chang thing ye no hold let go perfectli imperfect chang thing no', 'feel like drop ocean nobodi notic mayb head feel like trap skin bodi frozen broken down got noth left high emot lose focu feel exhaust pray get lost moment give closest need somebodi say okay not okay okay not okay down feel asham okay not okay', 'alway kind girl hid face afraid tell world got say dream right insid gonna let show time let know let know real exactli suppos gonna let light shine found no way hold no hide want', 'wanna play wanna stay wanna start mess head hit wall mayb known mayb known would walk would walk door hey said done met someon brought face cut part broke heart ran away guess known guess known would talk would talk even star moon collid never want back life take word lie oh oh oh realli care', 'let go let go hold back anymor let go let go turn back slam door snow glow white mountain tonight not footprint seen kingdom isol look like queen wind howl like swirl storm insid keep heaven know tri let let see good girl alway conceal feel let know well know', 'readi ha time take boss right not gonna fake not go down caus game better come play use hold freak back let go make choic bitch run show leav light no make behav uh huh huh say complic must mind underr rate rate', 'even heart see not bein true deep within soul feel noth like use sometim wish could turn back time imposs may seem wish could bad babi quit play game heart quit play game heart tear us apart quit play game heart known start know got stop heart tear us apart heart quit playin game heart', 'got everyon watch us babi let keep secret littl bit scandal babi let see littl less convers littl touch bodi caus caus tell came caus wait no edg no control need need know know oh babi come light mayb let littl bit danger babi want littl less convers littl touch bodi caus', 'tell get feel realli wanna turn tell get feel realli wanna make ah caus see tryin sublimin tryin see gon one sing along admit excit part kinda like lead babi tell motiv motiv motiv tell motiv motiv', 'day thing take way much energi look whole room spin take care away overcompl peopl tell medic feel blood run swear sky fallin know shit fabric time goe control mind know els tri tell everi time keep breathin breathin breathin breath oh gotta keep keep breathin keep breath breath breath breath oh gotta keep keep breathin', 'took away tabl pace back forth lay still pull feel heartbeat hear scream pleas leav hold still want come back still need let take hand make right swear love life hold still need wanna let go know not strong wanna hear say babi let go home let go home yeah wanna take home', 'awhil sinc lost ya get close year world keep turn alway still heartach friendli face us want get place let get place pleas take home pleas take home pleas take wheel night lay down cloth blind save hit floor let leav alon babi pleas take home', 'babi sink bed stare ceil let lay catch breath slip away high feel promis regret let love death', 'oh kill know onli one tri not lose mind wait day come everyon alright know onli one pretend like noth wrong frozen underneath sun feel like belong know onli one see shadow dark hallucin tear apart tear apart feel like world over', 'yeah ooh darl part want let go oh charm part still holdin kiss crawl back love want noth lose yeah caus noth compar good old fashion heartach put yeah portland tri sellin organ babi kept caus noth compar good old fashion heartach put', 'no one told way lie well no one told mani peopl cri well late say sorri would know care pleas bother tri find not let tell way look way act color hair voic soft cool eye clear bright not', 'no matter go everybodi stare not fanci cloth rock baggi jean get close comfort comfort need eat bodi weight chocol ice cream mayb bite nail think speak fit crowd ever get much sleep wish leg bigger bigger new york citi love want love caus love gender free feel like put makeup cheek wanna love everi singl part bodi top bottom not supermodel magazin no okay not perfect caus perfect caus perfect caus perfect', 'mess talk shit onli gonna push away say love make crazi go go look look eye realli go away without fight reason done polit told one two three four five six thousand time made obviou made clear want spell f r e n made obviou made clear want spell f r e n f r e n', 'honest right sunday morn bedsheet wake alon thought day honest better way everi time think get head never ever let forget caus think gone hear song radio like take back place use go tri fight hear stop smile rememb gone babi song radio use know', 'think love bad health see no one els guess blame anyon hey ayi yeah know today call like hundr time yesterday call like hundr five nobodi els want side hey ayi yeah bad day still great time drunk face listen red red wine ok laugh cri raini day still sunshin got problem need deal haha ah trust us want let deal yeah', 'realli know someth start caus deep insid feel good whenev part ever wanna go backtrack broken heart feel like hit head caus star star eye sky babe sit seat car hand thigh ye think alright babe ever go far think love think feel way back young heard love never believ chang mind world record time said hello said babi tell goodby caus love believ love easi breath love easi breath', 'run run chase sunset alright alright done done howev dark get alright alright pull trigger tight uh glitter night live live love live like free like breathin fire like breathin fire roll downtown ride dragon night long like breathin fire', 'caus like give damn got enough drama need fake friend need anyon understand like give damn', 'without feel broke like half whole without got no hand hold without feel torn like sail storm without sad song sad song', 'not memori feel way blood rush finger not movi caus lie not issu caus mine everi movement way shiver twist hair end finger young daylight dream gone music meet song fell right wrong would come back one last song', 'over over chase sun till burn keep go down over over over over use move sound keep over over over over', 'vibe no one els help feel way', 'miss forev thought wanna know know better want let go kiss never oh babi take home know better want let go', 'got want know heart mine bruis knew start lose blood carpet not tri wash scar mark under skin etch like stone save yeah yeah call love still hate yeah yeah lord tri say no pain medicin one tast numb save yeah yeah lord tri say no', 'hooray excel love happili hallelujah beauti day sweet rock wishng pleasent memori famili', 'laugh song smile enjoy life danc friend parti night happi joy danc sing music song', 'wanna show u everyth see way im fell need u tonight trow arm around love u deeper depest snow winter greatest gift live u', 'life never gonna live forev want live aliv', 'five word swear breath wanna air live die steal sun sky word say love', 'oh littl runaway daddi girl learn fast thing say ooh littl runaway', 'cowboy steel hors ride want dead aliv want dead aliv', 'never say goodby old friend hope would never end never say goodby holdin gotta tri holdin never say goodby', 'hard say thing want say sometim no one broken old street light lock door leav world outsid got give five word thank love eye see part lip breath thank love', 'prayer thought want send round bend break down understand', 'gonna take miracl top save us time savior left town gonna need miracl caus line let down river hope flood know dam bust need come run let down', 'came like mani find better life find piec easi street final aliv knew noth good come easi good thing take time made bed lie die crime', 'father love daughter like mother love son write stori one day arriv til walk til run noth pride noth love', 'oh pleas ask make play pretend oh no oh use oh pleas bet everybodi fake happi', 'gonna make wonder even tri hard time gonna take down laugh cri live still know even surviv gotta get rock bottom', 'heart beat beat onli heart', 'not angri anymor well sometim think badli well sometim', 'best thing could happen longer made not war no not raptur person take trick fool get anywher not kid memori well fend wanna hear sad song wanna feel pain swear fault caus know not not oh not yeah friend stuck togeth wrote name blood guess accept chang good good good', 'hold onto hope got let go nobodi say dream free care cost', 'alon feel much better around feel togeth feel right togeth togeth built wall togeth hold hand fall hand fall', 'got dumb friend know say tell difficult know even know thing hide shit', 'life good think hell want mess around realli care love hate save babi babi life good hell hell', 'make hot make wanna drop ridicul bare stop hardli breath make wanna scream fabul good babi babi', 'anyon tryin find somebodi come take home damn cold night tri figur life take hand take somewher new know', 'rememb crazi thing said left run head alway everywher right wish crazi thing think went alway everywher right wish', 'smile sinc everi day everyth felt right turn around suddenli need reason smile', 'not alon togeth stand side know take hand get cold feel like end no place go know give no give keep hold caus know make make stay strong', 'hold everyth heavi hold much carri keep drag around bring down let go set free hold everyth heavi', 'take down river bend take down fight end wash poison skin show whole fli silver wing past black siren sing warm nova glow drop down dream caus onli crack castl glass hardli anyth see see', 'build break back down build burn down wait burn ground fall take turn fan flame blaze burn wait burn ground fall take turn fan flame blaze burn wait burn ground', 'sit empti room tri forget past never meant last wish know take move know feel lie wanna trade life someth new hold got', 'feel way turn back ignor time heal damag anymor turn back ignor', 'say care one light goe sky million star flicker flicker care someon time run moment quicker quicker care one light goe well', 'wake sweat anoth day laid wast disgrac stuck head feel like never leav place no escap worst enemi given sick feel noth say take away suffoc tell fuck wrong', 'light guid home ignit bone tri fix high down love let go never tri never know worth', 'upon time side upon time side game go go throw water flame caus realli hurt', 'call magic cut two magic disappear view', 'girl expect world flew away reach ran away sleep dream paradis everi time close eye', 'lose blur star see deceiv dream believ okay not okay', 'know love know care shout whenev love heart never ever ever apart babi babi babi oh like babi babi babi no like babi babi babi oh thought alway mine mine', 'yeah late say sorri caus miss bodi late say sorri yeah know let down late say sorri', 'nobodi call mayb know caus everyth no one listen lone lone', 'need hold heaven place not far away know one say make mistak take hand hold tell everyth need say caus know feel someon feel someon lose way', 'caus like way look much oh babi go love think still hold someth go love', 'never say never fight fight til forev make right whenev knock down not stay ground pick never say never', 'under bright fade light set heart fire', 'take night fall dark side need light live dark side see let feel still young fearless let go light fall dark side', 'night not forev least togeth know not alon know not alon anywher whenev apart still togeth know not alon know not alon', 'love like love song babi love like love song babi love like love song babi keep hit repeat', 'wanna hold not suppos lie close someon els stuck head get could know go back know go back know go back', 'caus wanna look good good oh oh wanna look good good oh oh let show proud leav dress mess floor still look good good oh oh', 'readi readi perfect storm perfect storm caus mine mine no go back mark word love make levit like bird like bird without cage down earth choos walk away walk away', 'held down got get readi caus enough see see got eye tiger fighter danc fire caus champion gonna hear roar louder louder lion caus champion gonna hear roar', 'done world look done peac pledg onli son flower field time dream said mine ever stop notic children dead war ever stop notic cri earth weep shore', 'heal world make better place entir human race peopl die care enough live make better place', 'wanna rock night danc day sunlight wanna rock night gonna rock night away', 'got number ah know game ah put under ah insan ah sinc seduc ah feel ah know woman ah kill', 'beat beat beat beat no one want defeat showin funki strong fight matter wrong right', 'near far wherev believ heart go open door heart heart go love touch us one time last lifetim never let go til gone love love one true time hold life alway go', 'surrend everyth feel chanc live reach know feel make thousand dream still believ make give hold arm never let go surrend', 'love pleas say love three word could chang live forev promis alway togeth til end time', 'onli got one life learn care gonna say let wanna danc love danc', 'super ladi got babi got babi babi move bodi move bodi danc papi rock bodi rock bodi danc papi put hand air danc man care put hand air air air move bodi move bodi danc papi rock bodi rock bodi danc papi', 'deepli broken sad peopl heart broken cri night feel lone bear pain broken alon tear fall down', 'control put someth insid caus problem boy must poison know tryin stop stop caus got need got open tri leav hold drop drop stop stop stop', 'babi love babi need babi need gotta babi gotta without without babi love babi love yeah yeah babi need gotta gotta yeah yeah without', 'tropic island breez natur wild free long la isla bonita samba play sun would set high ring ear sting eye spanish lullabi', 'burn burn burn love burn burn love burn burn love love', 'onli see eye want see life want frozen heart not open consum much get wast time hate regret broken heart not open could melt heart never apart give hold key no point place blame know suffer lose heart broken love bird need fli let hurt insid die frozen heart not open could melt heart', 'gonna carri lift watch stumbl heartach gonna carri live love live love not give gonna carri live love live love not gonna stop caus love gonna lift love gonna lift', 'took holiday took time celebr one day life would would nice holiday celebr holiday celebr turn world around bring back happi day put troubl down time celebr', 'thought much fun guess one grown up get job done peopl give busi not live fear live chao gotta get away parti want free soul', 'dream song sing help cope anyth see wonder fairi tale take futur even fail believ angel someth good everyth see believ angel know time right cross stream dream cross stream dream', 'peopl stop fight angel cri better love answer', 'everyth seem better know see today ment togeth pain away come save lose touch day day caus miss much come save lose mind wait wait mine', 'never miss beat lightn feet see see danc make move go know know shake', 'huh happi clap along feel like room without roof happi clap along feel like happi truth happi clap along know happi happi clap along feel like wanna', 'danc queen young sweet onli seventeen danc queen feel beat tambourin oh yeah danc jive time life ooh see girl watch scene dig danc queen', 'use think mayb love babi sure cant wait till day knock door everytim go mailbox gotta hold down co wait till write come around walk sunshin', 'hair toss check nail babi feelin feel good hell hair toss check nail babi feelin feel good hell feel good hell babi feelin feel good hell', 'worri thing caus everi littl thing gonna right singin worri thing caus everi littl thing gonna right', 'feel tonight gonna good night tonight gonna good night tonight gonna good good night tonight night let live got money let spend go smash like oh god jump sofa let kick', 'kill make stronger stronger kill make stronger stand littl taller mean lone alon', 'gotta ignit light let shine night like fourth juli caus babi firework come show em worth make em go oh oh oh shoot across sky babi firework come let color burst make em go oh oh oh gonna leav em awe awe awe', 'littl song wrote might want sing note note worri happi everi life troubl worri make doubl worri happi worri happi', 'babi light world like nobodi els way flip hair get overwhelm smile ground hard tell know oh oh know beauti onli saw see understand want desper right lookin believ know oh oh know beauti oh oh make beauti', 'wake everi morn head daze not sure say fuck say anyway everybodi tri tell go phase know phase wanna feel okay yeah battl depress question still remain post traumat stress suppress rage doctor tri tell go phase yeah not fuck phase wanna feel okay okay yeah struggl bullshit everi day probabl caus demon simultan rage obliter disintegr annihil caus break down search way liar cheater non believ popular popular monster break down fall love fall apart popular popular monster', 'let go crazi let get nut let look purpl banana til put us truck let go', 'matter love capit h put paw caus born way babi mama told young born superstar roll hair put lipstick glass boudoir noth wrong love said caus made perfect babe hold head girl go far listen say beauti way caus god make no mistak right track babi born way hide regret love set right track babi born way', 'babi one love one need onli one see come babi one give one alway call need make everyth stop final put love top', 'care long love care long love', 'uptown funk uptown funk uptown funk uptown funk said uptown funk uptown funk uptown funk uptown funk come danc jump sexi flaunt freaki brag come show come danc jump sexi flaunt well saturday night spot believ watch come', 'want want babi sugarboo levit milki way renegad yeah yeah yeah yeah got moonlight starlight need night come danc levit moonlight starlight moonlight need night come danc levit', 'touch like touch nobodi put hand tire hear sorri kiss make kiss kiss make leav parti caus want tire hear sorri kiss make kiss kiss make', 'would stay home caus doin better alon said hello know end stay home caus no let go fall love one could break heart oh no doin better alon said hello know end stay home caus no let go fall love one could break heart', 'pain made made believ believ pain break down build believ believ pain oh let bullet fli oh let rain life love drive came pain made made believ believ', 'not live without even want tri everi night dream ever sinc day said goodby fool right hold nothin babi onli knew word say road take find way back heart get find way back heart', 'hello wonder year like meet go over everyth say time suppos heal ya done much heal hello hear california dream use younger free forgotten felt world fell feet differ us million mile', 'could make happi make dream come true noth go end earth make feel love make feel love', 'take eye leav far asham watch never end stay time caus love anymor pleas stay come closer tri chang mind cruel kind love dark feel like ocean apart much space us babi alreadi defeat ah yeah yeah yeah yeah yeah yeah yeah everyth chang', 'know not onli one regret thing done sometim feel onli stand reflect see wish could live littl look sky not floor feel like life flash watch cri miss air miss friend miss mother miss life parti thrown million year ago', 'daydream sit sea soak sun real lover make past feel girl like never felt figur', 'pain cut deep night keep sleep look see remedi world seem cruel heart make feel like fool promis see remedi', 'miss light go illumin doubt pull hold tight let go babi give light miss light go illumin doubt pull hold tight let go babi give light love way bodi move toward across room brush past everi groov no one like babi bring heart bring soul delic ego wanna step great unknown set tone', 'right under feet air made brick pull down turn weak find repeat like broken tune forev excus intent give pretend forgiv time without know melt heart stone hear word made say name like could us best tidi head onli one love onli one love', 'wait readi love put hand everyth differ better wait readi love put hand somebodi differ better', 'heart beat faster caus know want swear hell never leav caus know one thing love need let live tonight like last streak town live fast caus nake came nake leav saw world die down live stole crown free let get breath', 'season chang love went cold feed flame caus let go run away run circl run away run away dare someth wait take blame run away run circl run away run away run away', 'go under time fear no one save noth realli got way drive crazi need somebodi heal somebodi know somebodi somebodi hold easi say never guess kinda like way numb pain day bleed nightfal not get let guard down pull rug get kinda use someon love', 'caus girl like run round guy like til sun down come need girl like yeah yeah girl like love fun yeah want come need girl like yeah yeah', 'know alway night shift stand night alon need no explan caus babi boss home gotta go work gotta put work let bodi work work home', 'wanna know take home love way use love no', 'oh mess right insid search sweet surrend not end work go motion go us see flame insid eye burn bright wanna feel love no easi babi mayb liar tonight wanna fall love put faith stomach long love lover', 'want grind shine stride stunt cheat leav cri harder trust lie die realiz yeah yeah tri want grind shine stride stunt cheat leav cri harder trust lie die somehow realiz harder love harder harder teach heart beat drum harder keep harder sleep scare dark not gonna run harder break harder make get way draw gun not gonna play not game not gonna chang put son put mom put sister put bitch hoe put team put g say mean alreadi know put citi put bentley got beamer want roll sip henni ride semi nigga call toast blah blah blah callin plug callin cop call snitch holdin grudg callin judg say thug call bitch call ho call bro call no call trick tire hate tire snake tire face dick want fame want name want break want love want cake wanna great want chang want fall want crawl want starv want drug want fail want jail wantin soul wantin blood reveng end respect crown reign start aim hop plane not go down dodg flame callin name wanna save know thought save got plan let load chopper ride around woo roll em sleep hey gon see fuckin murder spree brrat brrat gon see nobodi say peep bah bah gon see turn back brrat bah gon see roll em sleep bah catch nigga slippin might hit bah bah bah gon miss caus reveng feel sweet woo gon see nobodi say peep bah bah gon see give pen even drink fuck need henni gin plenti sin broke bitch heart never forgiv go find kill buri friend never could swim use push weight nigga gym come step timb could not walk path never caught no cab walk nigga lost sad never would call dad fuck nigga depress fuck mental torn half feelin stuck hard laugh music wish could never got clout plottin drownin everyon callin nobodi tri reach proud nigga flip script cannot live quit wanna chill wanna get no flick wanna rekindl shit n flex not get no sleep bare hope ant word p know need reveng no peac rollin deep finna turn block world war', 'world wish side hoax withhold pain make swear life feel make want truth caus tell empti hope', 'hold breath caus forget never forgiv know know true friend stab front', 'bring down alreadi life turn upsid down ride downward spiral round round keep fli keep fight ever bring down good fine life divin no hate no shame no one blame might disguis life lie chastis', 'care world end today invit anyway said tast famou drew heart not artist fuck work art got f c got k onli thing miss bitch like', 'throw wolv tomorrow come back leader whole pack beat black blue everi wound shape everi scar build throne', 'man whatev dre let run ayo turn beat littl bit ayo song anyon fuck shut listen ayo', 'cut broken heart down union avenu let street run red reveng fake apolog everyth repay price head price head sky come down over ghost town first wall gun held high dead night first wall come test first take fall sky come down over ghost town first first wall', 'like littl game like tilt stage role made play fool no like like perfect crime laugh lie said gun mine cool no like got smarter got harder nick time honey rose dead time got list name red underlin check check twice oh ooh look made', 'word like knive sword weapon use knock feet got feel like noth voic like nail chalkboard call wound pick weaker man well take down one singl blow know know someday live big old citi ever gonna mean someday big enough hit ever gonna mean gotta mean', 'no one want hear no one want see desper pathet beg spare pleasur compani diamond leav bone burn down everi bridg made watch choke heart break bleed everi word said go hell heaven sake burn down everi bridg made watch choke heart break bleed everi word said go hell heaven sake', 'oh think know forgotten would make feel drag spirit down thank pain made rais game still rise still rise yeah make joke go broke blow smoke not alon laugh laugh rais bar hit hard play card star laugh laugh', 'caus babi got bad blood know use mad love take look done caus babi got bad blood hey got problem think solv made realli deep cut babi got bad blood hey think could trust ruin shine rust hit weak babi breath rub deep salt wound like laugh right', 'well good look happi healthi not ever care ask good great without babi god wish could lost mind spent night cri floor bathroom unaffect realli get guess good', 'away happier ever wish could explain better wish true give day two think someth clever write letter tell', 'better lose music moment better never let go onli get one shot not miss chanc blow opportun come lifetim', 'not afraid not afraid take stand ride everybodi guess go place get one might still place tryin get follow get', 'betray caus know never feel sorri way hurt yeah talk togeth gave word matter took two week go date guess cheat still still traitor yeah still traitor', 'hope happi not like selfish know let go find someon great find no one better hope happi wish best realli say love babi not like love think fondli hand hope happi happier', 'go stand corner think ha time littl reveng stori start hot summer right want came along got alon let hear applaus took faster could say sabotag never saw come would suspect underestim deal know pain beat like drum underestim steal not saint not think actress whoa better known thing mattress whoa soon gonna find steal peopl toy playground make mani friend keep mind keep mind noth better reveng ha', 'feel cool top bottom cool everi littl thing dammit feel cool yeah', 'write one song not drink without thinkin late tell everyth mean noth', 'could find way let down slowli littl sympathi hope show wanna go lone leavin babi let down slowli let down down let down down let down let down down let down down let down wanna go lone leavin babi let down slowli', 'talk anymor talk anymor talk anymor like use love anymor oh talk anymor like use', 'know dress karma perfum regret got think bout mine oh ya expect not come home tonight want attent want heart mayb hate thought someon new yeah want attent knew start make sure never gettin over', 'know treat better girl like deserv gentleman tell wast time wast cri instead know treat better better', 'admit wrong els say girl blame head not heart drunk gone make right promis no feel involv mmh said boy tell honestli real show yeah said save apolog babi gotta know long goin creepin round callin babi long goin actin shadi feelin late babi', 'speak word hear melodi twilight hard see wrong resist give truth littl twist gonna get away not sorri believ fell fell hole down bottom soul think could go low look done lose got plan go solo solo', 'hate love hate love want put nobodi els hate love hate want want need never', 'everyth gonna alright everyth gonna okay gonna good good life therapist say everyth gonna alright everyth gonna fine gonna good good life', 'ooh love no one ever gonna hurt love gonna give love nobodi matter like rockaby babi rockaby gonna rock rockaby babi cri somebodi got rockaby babi rockaby gonna rock rockaby babi cri', 'unbreak broken unsay spoken word find hope hopeless pull train wreck unburn ash unchain reaction not readi die not yet pull train wreck', 'let water rise drift surviv need stay let drift away love love whenev readi whenev readi whenev readi whenev readi surrend surrend surrend', 'said forev almost bought miss fight old apart break dish disappoint still love promis noth happen way want everi corner hous haunt know said not talk miss sorri', 'lone broken angel lone listen heart lonley broken angel come save fall apart', 'suppos sit around wait well no turn back need time move need love feel strong caus time think mayb good oh believ life love feel someth insid say realli think strong enough', 'mess tonight lost anoth fight lost start keep fall down keep hit ground alway get see next bird fli fall down get nobodi learn without get wrong give no give till reach end start no leav want tri everyth want tri even though could fail give no give till reach end start no leav want tri everyth want tri even though could fail', 'fight song take back life song prove alright song power turn start right strong play fight song realli care nobodi els believ caus still got lot fight left', 'gonna love no need anybodi els gonna love no need anybodi els love help no need anybodi els anytim day night love gonna love no need anybodi els gonna love no need anybodi els love help no need anybodi els anytim like', 'stand light seen tell hear say never look back walk away carri music memori keep insid laugh everi day stop tear fall down insid not go hide caus greatest risk ever take far stand light seen stand light seen courag kind hold onto faith get give never late reach branch climb leav sad behind fight hard love never give enough', 'dream big loud jump high touch cloud wo oh wo oh stretch hand sky danc monster night wo oh wo oh never gonna look back woah never gonna give no pleas wake gonna best day life', 'amaz turn phrase weapon drug outcast backlash somebodi lack love start speak noth gonna hurt way word settl neath skin kept insid no sunlight sometim shadow win wonder would happen say wanna say let word fall honestli wanna see brave', 'life worth live life worth live live anoth day mean forgiv peopl make mistak mean give life worth live', 'wanna hide truth wanna shelter beast insid nowher hide no matter breed still made greed kingdom come kingdom come feel heat look eye demon hide demon hide get close dark insid demon hide demon hide', 'tri best caus onli man man gotto learn take tri believ go get rough thing get difficult gotta hang tough make strong histori repeat tri succeed never doubt one dream best around noth gonna ever keep down', 'yeah greatest best king kong bang chest beat world beat war talk god go bang door throw hand beat clock move mountain break rock call practic call luck either way go histori book standin hall fame world gonna know name caus burn brightest flame world gonna know name wall hall fame', 'work harder make better faster make us stronger ever hour hour work never over', 'hurt babi broken down need love love need without someth weak got beg beg knee', 'late lose sleep dream thing could babi pray hard said no count dollar count star yeah count star', 'almost heaven west virginia blue ridg mountain shenandoah river life old older tree younger mountain growin like breez countri road take home place belong west virginia mountain mama take home countri road', 'oh wanna danc somebodi wanna feel heat somebodi yeah wanna danc somebodi somebodi love', 'romeo save feel alon keep wait never come head know think knelt ground pull ring said marri juliet never alon love realli know talk dad go pick white dress love stori babi say ye', 'alway rememb day kiss lip light feather went like no never better summer ooh uh onli eleven act like grown up like present drink plastic cup sing love forev ever well guess true', 'quarter one alon need said call lost control need know without need', 'come down yellow mountain dark flat land ride poni name wildfir whirlwind side cold nebraska night', 'long day without friend tell see come long way began oh tell see see', 'song repeat dancin heartbeat gone feel incomplet want truth wanna part symphoni hold tight not let go symphoni like love song radio hold tight not let go', 'world boy one guy down well could specif uh human want know sake us earthl want say love earth planet love earth home', 'oh love hold forev reach love seem far say littl prayer hope dream take sky blue see love oversea coast coast find place love field green see love', 'lay love wanna everi time breath feel brand new open heart show love walk right lay love', 'look back thing done tri someon play part kept dark let show shape heart sad beauti loneli tragic help win war oh no touch bother everi second make weaker save man becom', 'see not tough love uptown girl know seen uptown world get tire high class toy present uptown boy got choic', 'show mean lone feel need walk tell someth miss heart life goe never end eye stone observ trend never say forev gaze onli guilti road endless love endless love no control everi wish done tell', 'never wish lone heart not fault chose play fool one day may come shoe heart break feel like exchang heart know fell apart feel pain memori start exchang heart', 'blood shot eye watch sleep warmth feel besid slowli fade would hear call name would hold knew shame alway someth differ go wrong path walk wrong direct alway someon fuck hang anybodi help make thing better tear fall crash around consciou call guilti come home tear fall crash around consciou call guilti come home', 'everi breath take die everi step take fall apart onli one chanc breath let take chanc right scream onli live one life short time make everi second divin go live life hard live life hard', 'help hopeless well beg knee save bastard soul wait sorri brother sorri lover forgiv father love mother hear silenc see dark fix broken feel heart scare get close hate alon long feel not feel higher get lower sink drown demon know swim', 'born seed sown not obey life battl row enslav expos lie enrag believ heaven believ hell never join herd could not adjust well slave master not choos path set free go way swim stream forev fight power go way swim stream forev fight p wer eagl fli alon', 'nightmar nightmar come life drag down down devil show guest forev peac mind less never hate twist mind god side old acquaint sever burn world last endeavor flesh burn smell air caus men like easi soul steal steal stand line ink number head slave end time noth stop mad turn haunt yearn pull trigger known price evil hurt know belong yeah ooh fuckin nightmar nightmar come life fight not fail not fall end like other die die drench sin no respect anoth down feel fire feel hate pain desir lost hit wall watch crawl replac liar', 'walk down street shoot peopl meet rubber tommi water gun come deputi gonna come get gotta get get run got siren loos ran right juic gonna put cell go heaven let go hell crazi stone cold crazi know', 'life seem fade away drift everi day get lost within noth matter no one els lost live simpli noth give noth need end set free thing not use miss one insid deathli loss real cannot stand hell feel empti fill point agoni grow dark take dawn gone no one save late think think even tri yesterday seem though never exist death greet warm say goodby bye', 'freedom fighter sent sun escap brainwash mind pollut leav earth sin hate find anoth world freedom wait yeah past star field ancient void shield dark find love upon land world unknown son freedom make home leav earth satan slave leav futur grave make home love stay peac happi everi day', 'nobodi want stare world plan vengeanc soon unfurl time iron man spread fear vengeanc grave kill peopl save', 'reveng scream reveng wrong wrong far long constantli frustrat move mountain less channel hate product find hard impress', 'live night neath devil torn asund call solv crook rhyme close impos slumber call bell begin chime squar level readi swear right right devil squar level readi stand right right right right hide light sacrif noth still call entranc shrine hammer nail sacr coffin call power clandestin', 'rock like hurrican rock like hurrican', 'split lung blood thunder see white whale break back crack oar men wish prevail ivori leg propel harpoon thrust sky aim directli crook brow look straight eye', 'see easili bother persist one step lash want get under skin call friend got friend like no standard anymor take belong someth not stay away lesson learn life known dawn time respect walk say respect walk talkin talkin run mouth not around easi achiev cri weak friend sympath hear violin play song friend tell everi word', 'auschwitz mean pain way want die slow death immens decay shower cleans life forc like cattl run strip life worth human mice angel death four hundr thousand die angel death monarch kingdom dead sadist surgeon demis sadist noblest blood destroy without merci benefit aryan race surgeri no anesthesia feel knife pierc intens inferior no use mankind strap down scream die angel death monarch kingdom dead infam butcher angel death pump fluid insid brain pressur skull begin push eye burn flesh drip away test heat burn skin mind start boil frigid cold crack limb long last frozen water burial sewn togeth join head matter time til rip apart million laid crowd tomb sicken way achiev holocaust sea blood buri life smell death burn deep insid abacin eye bleed pray end wide awak nightmar wing pain reach face death stare down blood run cold inject cell die eye feed scream mutant creat pathet harmless victim left die rancid angel death fli free', 'caus gonna stand even break down find way break even find heaven walk hell love not alon caus gonna stand', 'littl song wrote might want sing note note worri happi everi life troubl worri make doubl worri happi worri happi', 'god lone open window hear sound peopl hear sound peopl venu planet love destroy global warm peopl want much peopl want much want piti want somebodi near guess coward want feel alright know no one save need someon kiss give one good honest kiss alright nobodi nobodi nobodi', 'far away still near light come music die see stand came say goodby corner watch kiss oh give not guy take home ooh keep danc', 'well onli need light burn low onli miss sun start snow onli know love let go onli know high feel low onli hate road miss home onli know love let go let go stare bottom glass hope one day make dream last dream come slow go fast see close eye mayb one day understand everyth touch sure die', 'hurt close much say watch walk away never know could not see love tri hard deal pain lose everywher go hard forc smile see old friend alon still harder get get dress live regret know could over would trade give away word save heart left unspoken', 'hope buy flower hope hold hand give hour chanc take everi parti caus rememb much love danc thing done man thing done man', 'wish could could said goodby would said want mayb even cri knew would last time would broke heart two tri save part', 'close love need pain twice enough vain time start pass know frozen ooh someth happen first time heart melt ground found someth true everyon look round think go crazi oh care say love tri pull away know truth heart crippl vein keep close cut open keep bleed keep keep bleed love', 'heard settl down found girl marri heard dream came true guess gave thing give old friend shi like hold back hide light hate turn blue uninvit stay away fight hope see face remind over never mind find someon like wish noth best forget beg rememb said sometim last love sometim hurt instead', 'alway need time never thought would need cri day feel like year alon bed lie made side walk away count step take see much need right gone piec heart miss gone face came know miss gone word need hear alway get day make okay miss', 'no think would let down easi oh no girl think over walk away like noth babi moment hard breath yeah caus took away biggest part yeah life unpredict yeah never thought love like would leav alon oh no wast time like alreadi made mind no sympathi caus line oh yeah think would let down easi oh no girl think over walk away like noth girl bad day hey hey hey know wrong could said goodby babi bad day like whoa', 'tri get tri get behind back back back ooh yeah tryna tell like other bad no no bad bad bad', 'well mayb god ever learn love shoot somebodi outdrew not crime hear tonight not pilgrim claim seen light no cold broken hallelujah', 'say class team stuck daydream way sinc late face seem slowli sink wast crumbl like pastri scream worst thing life come free us caus under upper hand go mad coupl gram wanna go outsid tonight pipe fli motherland sell love anoth man cold outsid angel fli angel die cover white close eye hopin better life time fade tonight straight down line', 'come skinni love happen suckl hope lite brassier sullen load slow spit told patient told fine told balanc told kind love wast well hell caus break britch end line love fight fall far behind love fight fall far behind', 'float emerald sea keep danc keep still tri keep balanc right tri feel like wast time heavi hand pull down chest latch color flesh quietli hover over fight feel like wast time feel like wast time say goodnight know swallow sea collid color devour say goodnight alreadi down cri alreadi down', 'walk down water stare across blue look love stolen take leav give unbroken find love knew past around take leav shall meet sunris stand one last time two look deep eye take leav', 'cover blanket silent breath demon room scare no reason tear shed tonight come back sing sweet lullabi dream come aliv angel sing along turn world song gonna keep safe warm sleep sleep siren slowli fade know found way no need afraid hold', 'everglad greener yesterday skip stone away go back start photo darkroom fade hold even arc beyond furthest edg world full strang tower sky chanc choos time set way know no doctor know live past onli way go go back', 'crush burn break down pleas stay fade lose control start fall stop turn around lose ground lose ground stop turn around lose ground lose ground time let go time let go time let go', 'seren peac even sunris morn bird sing mediat pleasent environ live peac may saul attain peac worship', 'calm feel relax tree peac even', 'calm calm feel free no hard work', 'love storm come let sky keep fall yeah world got noth us scare away bring rain love tide turn let sun keep burn no perfect worst day mean say love', 'world need peac calm relax rest mediat mauntain', 'fight fear tast grip feel slip shake soul feel wave look eye reason stay know thing say blame reason came mayb caus feel pain feel weight wash away mistak made live time tear soul bone let tide suck chemic burst onli friend give wave end', 'never want chang mani ugli way thought could stay find way night rain promis made lead lie lead pain slowli seem float away afraid see die see fade insid mind', 'love mean lot live without anger one onli love babi bauti danc togeth lovingli love best thing world feel', 'petrichor calm relax peac pleasent even good morn mediat', 'farewel cri sobber sorrow feel down someoen cheat sad memori last forev bear hard emot anymor want stop', 'hous quiet big invas silenc wait someon come home feel around wind whisper though heart break bend know see', 'love honey love know love mean lot alway love forev live without', 'hypnagog calm relax beauti mauntain mediat sunris sunset peac memori', 'love broke come closer darl forget fake smile tri hard fool instead gave given luck head dust gave wait side friend wait side', 'lose yeah lose almost point give oh no yeah lose lose think see no love', 'forgiv hopeless face sing voic like know suddenli start see perfect complex caus smile around tri best like know', 'not afraid love love not afraid not afraid not afraid love love not afraid not afraid', 'feel wind darl think love sink could swim love somebodi feel wind darl think love sink could swim love somebodi', 'drown ocean keep us apart map distant star oh voic call shelter skin end begin', 'long hair longer stride cut painter pant charg down craggi mountain thrift store friend find love fall earth oh wake middl fall night summer play coy attic citi night talk corso mc could danc like right', 'fortun fame mirror vain gone insan memori remain heavi ring finger wave anoth star deni grave see nowher crowd cri nowher tear honor like twist vine grow hide swallow mansion whole dim light alreadi fade prima donna', 'form firelight', 'anyway gonna sing play um gonna play song may know may know light night color blood cure pain onli thing wanna touch never knew could mean much much fear care caus never high follow dark let take past satellit see world brought life life love like love like touch like wait', 'heart beat fast color promis brave love afraid fall watch stand alon doubt suddenli goe away somehow one step closer die everyday wait darl afraid love thousand year love thousand', 'piti low down dirti shame lord piti low down dirti shame tell poor man make say money name game', 'went down river sat night long wonder life wonder went wrong blue bottl sorrow cup', 'think left behind man safe away babi uh one day gonna break down cri no escap man man love strong gonna haunt know love follow mmm day die one thing want tell go gonna leav gonna leav leav long babi bye bye hey gonna leav babi long babi bye bye', 'way man carri think want love one go said love ever know ever know not tryin kind man no tryna somebodi yeah love trust understand know know part no one els see yeah', 'somebodi loan dime need call old time use somebodi loan dime mmm need call old time use littl girl gone long know worri hey worri worri', 'babi got tell gotta tell go head know spend one night sleep lone bed', 'best girl pack leav knew not want see earli morn cri last thing night see cri earli morn moan last thing night woman pack leav thing right', 'lone world everybodi tri hide alon fight peopl live live rule satisfi nobodi see cri nobodi know hard tri send angel need help hand would send angel need help hand take get along caus stand', 'blue feel', 'wake everi morn tender love touch fool get enough love much crazi stand crazi woman crazi man', 'black night cold ice left think twice tri stop god know tri', 'got sweet littl angel love way spread wing ye got sweet littl angel love way spread wing ye spread wing around get joy everyth', 'two women sit bar blind man play guitar barcelona red sound blue everyth push love asid get colour night colour night one hue place time love got reason rhyme say love love til love live world one hue everyth picasso blue live world without everyth picasso blue go place see face everyth love got reason love got season place time pain', 'blue got teardrop eye oh blue got teardrop eye ye dark night sinc babi said goodby', 'pleas realli hurt realli sad got tie month oh babi chang flow', 'happen die doubt babe honey think time come happen die doubt babi honey think time come want buri bodi right highway', 'even everi night come find must alway remind babi gone even got deeper power everi minut seem like hour sinc babi gone', 'love left behind feel sorri drive crazi', 'bad luck make fool trip well stand make fool believ stay feel fresh thing fall apart confid failur put tabl let caus joy lose stack chip mine put odd favor tri keep low key got back like hang over get fuck tri shake hope get lucki hope believ bad luck make fool hope believ bad luck get ahold never ever let go never let get hope believ bad luck make fool', 'money buy peopl place stay got dime got littl time faith get down knee', 'even love rainbow streak blue beat old guitar still sing happi song tune across valley shadow over mountain blue past ocean full nois still silent voic call side lonesom place children laugh sun shine everybodi smile walk room come brother speak truth side lonesom place', 'softli let kiss lip gentli take down hair softli let kiss lip gentli take down hair make love bad anoth care whole damn world except love want guid babi let show man want guid babi let show man know treat nice ye make love realli nice slow honey lay down lay down right next honey lay down lay down right next', 'place bed decid better better dead letter read no use lookin babi ever hope get back no use lookin babi ever hope get back caus over babi', 'rememb full broken bone tri bring cigarett said leav alon rememb', 'one two three play sexi three four five six kit got brand new lick six seven eight down snake lake joint readi blow', 'wound left behind seem never go heal never seem catch fall', 'dark fall end day no word caus noth left say take place drift away wanna lay down lay down lay down head', 'blue heal earli one morn heal blue heal', 'walk street night mind run around cri oh babi babi wrong someon told ought get babi back home', 'love know realli got hold wanna figur gotta alon tri come togeth equal startin over today', 'afraid come might run across old friend loneli tri sooth play blue', 'move man honey see done gotta pocket full money littl girl tri help none', 'stare window complain say wait turn eighteen said make money make rule momma put car park front school kiss head said like', 'put like burn end midnight cigarett broke heart spent whole life tryin forget watch drink pain away littl time never could get drunk enough get mind night', 'miss train know gone hear whistl blow hundr mile', 'down oh soul weari troubl come heart burden still wait silenc come sit awhil rais stand mountain rais walk stormi sea strong shoulder rais', 'went skydiv went rocki mountain climb went second bull name fumanchu love deeper spoke sweeter gave forgiv deni said someday hope get chanc live like die like tomorrow gift got etern think', 'hold go roll down unfamiliar road although wave string us along know not alon caus gonna make place home settl down clear pay no mind demon fill fear troubl might drag down get lost alway found', 'still time time buy time choos hey never wish better onli got hundr year live', 'bless feel like found way thank god given end everi day bless much deserv one love', 'hope danc hope danc hope never fear mountain distanc never settl path least resist live might mean takin chanc worth take love might mistak worth make let hell bent heart leav bitter come close sellin reconsid give heaven pass glanc get choic sit danc', 'moon moon glow cool even light star aglow tunisia never shine bright care day seem vanish end day bring releas wonder night tunisia night fill peac', 'see tree green red rose see bloom think wonder world see sky blue cloud white bright bless day dark sacr night think wonder world', 'everi move make everi vow break everi smile fake everi claim stake watch sinc gone lost without trace dream night onli see face look around replac feel cold long embrac keep cri babi babi pleas', 'someon told long ago calm storm know comin time over say rain sunni day know shinin down like water wanna know ever seen rain wanna know ever seen rain come down sunni day', 'sometim feel got run away got get away pain drive heart love share seem go nowher lost light toss turn sleep night', 'bird bee even educ flea let let fall love', 'fli moon let play among star let see spring like jupit mar word hold hand word babi kiss fill heart song let sing forevermor long worship ador word pleas true word love', 'live kind daydream happi queen foolish though may seem everyth', 'arm feel close wildest dream came true need no soft light enchant would onli grant right hold ever tight feel night near', 'hue blue green surround know found anoth love turn world sorrow green envi anoth fear may one soar life lose', 'lone heart learn lesson onli would call wee small hour morn time miss', 'must rememb kiss still kiss sight sight fundament thing appli time goe two lover woo still say love reli no matter futur bring time goe', 'lip much close mine bewar foolish heart eager lip combin let fire start time fascin dream fade fall apart love time love foolish heart', 'shadow fall spread mystic charm hush night arm feel lip warm tender one onli love touch hand like heaven heaven never known blush cheek whenev speak tell', 'someday come along man love big strong man love come way best make stay look smile understand littl take hand though seem absurd know say word', 'better lose music moment better never let go onli get one shot not miss chanc blow opportun come lifetim', 'gonna stand watch burn well alright like way hurt gonna stand hear cri well alright love way lie love way lie love way lie', 'alway gotta get onli thing know love never give never slow till final prove never listen no wanna keep move', 'cold outsid alon alright cold outsid alon alright yeah let go wanna break down alway feel like could break never let take place ever let thought get away got better thing pick fate wanna best call great know okay insan rememb better day playground hope find way better place even feel down fight even know right pick side take pride decid fate never let tell tri shape damn plant ground stand never give alway plan', 'keep real feel tri kill everi beat know everyth work everi night anoth song quiet along gone notic gone', 'look like job everybodi follow caus need littl controversi caus feel empti without said look like job everybodi follow caus need littl controversi caus feel empti without', 'bitch player motherfuckin stingi cher even lend ear even pretendin care tell bitch marri buri face genit area origin richard ramirez christian rivera caus lyric never sit well wanna give chair like parapleg scari call harri carri caus everi tom dick harri carri merriam motherfuckin dictionari got em swearin down spit shit hilari time put bitch obituari column see eye eye stare problem get shaft like steer column mark jack trigger happi pack heat black ink evil half bad meet evil mean take back seat take back fat pete maxi singl look rap sheet attract peopl gangster bitch like apach catchi jingl stack chip bare got half eaten cheeto fill em venom elimin em word minut maid em want hurt em em fit rage murderin nobodi evad finna kill em dump fuckin bodi lake obliteratin everyth incineratin renegad em make anybodi want pen afraid nobodi want gonna get anyway caus beginnin feel like mental ill atilla kill kill killer vanilla gorilla bringin killer within want enemi demon went reciev stupid everi bit epitom spitter vicin motherfuck better duck finna dead minut run hundr percent fifth percent bout fuckin finish bitch unfad wanna battl avail blowin like inflat undebat unavoid unevad', 'look gonna go easi not hurt feel onli go get one chanc someth wrong feel', 'suppos go oh hey realli no idea know everi time think hit ceil go higher ever fuck', 'not afraid not afraid take stand ride everybodi guess go place get one might still place tryin get follow get', 'tear gone cold wonder got bed morn rain cloud window see even could gray put pictur wall remind not bad not bad', 'hi name name name chika chika slim shadi', 'friend monster under bed get along voic insid head tryin save stop holdin breath think crazi yeah think crazi', 'may attent pleas may attent pleas real slim shadi pleas stand repeat real slim shadi pleas stand gonna problem', 'venom adrenalin momentum not knowin ever gonna slow readi snap moment think time go get gonna know hit', 'music like magic certain feel get real spit peopl feel shit moment everi singl minut spend tri hold may never get', 'ever love someon much give arm not express no liter give arm know heart know armor destroy anyon would tri harm happen karma turn right around bite', 'haili know miss mom know miss dad gone tri give life never see sad even smile even laugh see eye deep insid wanna cri caus scare', 'littl late say sorri kick down say hurt yeah right hurt need no wanna see no ha bitch get no love show noth hate ran ground come around goe around hurt right hurt need no want see no ha bitch get no love no love no love no love ha bitch get no love no love no love need ha bitch get no love', 'sing sing year sing sing laughter sing tear sing today mayb tomorrow good lord take away say music alter mood talk', 'sound like bitch bitch shut fuck fan becom hater done fuck beard weird alright yellin mic weird beard doin beard weird yellin mic', 'shake ass shake ass come girl shake ass shake ass ohh girl shake ass shake ass come girl shake ass shake ass', 'say trash listen tekashi damn b lost yeah fair weather wishi washi think machin wash swear god man favorit rapper wish cross', 'wanna live cold insid give feel aliv fight live fight strive one day want life', 'alway live life till over not forgiv hold down never give move forward never miss chanc take alway live life till over not forgiv hold down never give move forward never miss chanc take got one life live right keep friend tight famili sight never ceas fight thing think right caus might find control mind hey fine hey take time hey enjoy climb hey enjoy grind hey never realli know side till give shit tri know limit sky hey', 'late rememb careless could day night stay felt right young dumb would get drunk hook ok alright stay awak till sun rise', 'rumor around say bodi fantast natur girl not piec plastic head toe yea say elast yea whisper around say reput believ til see want demonstr', 'never gonna make no way make yeah mayb fake never gonna make gonna take make take back tell believ gonna take fuck fight back fuck fight back', 'wanna best know better rest watch grow put test watch go quest make known call obsess oh know call select note call agress flow call offens even though gonna lie life tough tri get life rough tri right not enough even though tri still mess still gonna fight love still gonna die love still gonna tri give still gonna fight', 'dream need make happen work belief know want take made mistak mistak make strong', 'yeah one get bruh swear god get bruh never give yeah never give', 'could watch lifetim favorit movi thousand end mean everyth never know come forev fascin hope stop run caus alway wait cinema could watch forev action thriller could watch forev cinema hollywood treasur love way cinema cinema', 'one time celebr know gonna right tonight hey feel music got feel need need yeah come alright gonna celebr one time celebr danc free music got feel free celebr danc free one time', 'oh oh sometim get good feel yeah get feel never never never never no no get good feel yeah oh oh sometim get good feel yeah get feel never never never never get good feel yeah', 'stare sun thought peopl place thing love feel light start trembl wash know sea see life window tonight', 'sorri babi sun moon never get over never get over', 'everi day peopl everyday thing one know hear differ kind anyth could hero could hero could hero could hero could', 'come far give let rais bar cup star night til sun night get night good fun night get lucki', 'yellow diamond light stand side side shadow cross mine take come aliv way feel deni gotta let go found love hopeless place', 'feel way dark guid beat heart tell journey end know start tell young understand say caught dream well life pass open eye well fine wake over wiser older time find know lost', 'high dive frozen wave past come back life fight fear selfish pain worth everi time hold still right crash caus know end clock tick til break glass drown caus piec wish need chase relentlessli still fight know love tragedi remedi love insan clariti', 'time use look father eye happi home king golden throne day gone memori wall hear song place born hill across blue lake first heartbreak still rememb chang father said worri worri child see heaven got plan worri worri', 'recal not long ago would walk sidewalk innoc rememb care night warm bold young around wind blow would onli hold let go blow kiss fire gun need someon lean blow kiss fire gun need somebodi lean', 'gave heart said broken ye gave key door open admit see gave faith turn doubt hope deni alon joy turn mope tell need need find anywher broke down leav side need need', 'met summer heartbeat sound fell love leav turn brown', 'shout hear word say talk loud not say much critic bullet ricochet shoot down get bulletproof noth lose fire away fire away ricochet take aim fire away fire away shoot down fall titanium', 'meet under shine light wait right life feel deni live open eye wanna sink crazi laughter come make feel pain matter everi second make heart beat faster final think found chase alon beat insid soul take home dream made gold zone beat uncontrol know feel like come make feel aliv feel aliv', 'show light stop turn stone shine alon tell strong dream gone', 'side everyth want side need light shine', 'feel helpless watch eye fill fear tell feel hold arm need love need time everyth wrong make right feel high come aliv need free tonight need love', 'far home oh brother hear call lose oh sister help oh sky come fall down noth world', 'say go darkest day heaven heartbreak away never let go never let down oh hell ride drive edg knife never let go never let down give give let love let love', 'ask free ride onli ask show real good time never ask rainfal least show show noth come down water like miseri come down readi rain rather dri least aliv rain rain rain rain rain rain rather dri least aliv rain rain rain', 'mess fight slam door magnifi flaw wonder wonder like keep come back bodi lose mind onli reason hold tonight caus scare lone need somebodi feel like alright onli reason hold tonight caus scare lone scare lone', 'work make make us harder better faster stronger hour hour never', 'start danc sexual romanc nasti fanci mona lisa master piec nation wonder got attent confid', 'life worri life life problem life life worri life life problem life life take leav set free crap papa knew got life got life live life set free mind busi leav busi know everyth papa knew littl knowledg danger stop bug stop bother stop bug stop forc stop fight stop yell life', 'said would rather die young live moment forget tomorrow guess got wrong still tryna find road follow alway tri ride paper plane said fine mistak tri call yesterday go back alway get right light go music die no goodby gonna realiz cast us paradis hold hold', 'confetti fall five morn scream cri know sorri made stori lone fall like sorri', 'go back begin control tomorrow bring know middl place promis not enough unless come meet caus want meet', 'walk upon salvat spirit aliv life declar promis soul stand could say could offer heart oh god complet', 'would run throne merci would kneel cross grace great love strong hand hold us beauti beauti bow lift high jesu glorifi thing life forev', 'sorri wanna talk need moment fore go noth person draw blind need see cri caus even understand understand finish bout busi readi save world take miseri make bitch everyon favorit girl take aim fire away never wide awak no nobodi keep safe way blood moon rise fire burn eye no nobodi keep safe way', 'tough guy like realli rough guy get enough guy chest alway puf guy bad type make mama sad type make girlfriend mad tight might seduc dad type bad guy', 'tonight night let go put show wanna see lose control leav behind caus night get away come fli make great escap babi worri onli lone even sky fall down onli no need worri', 'read book old legend myth achil gold hercul gift spider man control batman fist clearli see upon list', 'life like way caus life like uh huh uh huh way chill ya yellin lay back done could onli let see like way drive car talk one one becom', 'tell stori tell lay reason say need help got expect sometim go wrong no one listen put song', 'born walk fire made run flame yeah even broken tire enough enough enough know feel like nobodi care look love everywher nobodi secret hidden buri deep insid tri not show see pride see fear not welcom fight hard persever slow down switch gear focu make year yeah hopeless give tear', 'lost lost moment lost moment lost moment get lost lost moment lost moment lost moment', 'promis world fell put first ador set fire forest let burn sang key choru love love yeah love love yeah love yeah need hate love yeah love love yeah love love yeah love yeah need lose love', 'know girl wanna wear expens thing like diamond ring wanna puppet play string queen need king oh know told girl right gonna rule world yeah gonna wanna no wanna sit still look pretti', 'look like reveng feelin like best ever yeah know bad must hurt see like get wors wait minut look like regret proud beg second chanc never get yeah know bad must hurt see like get wors payback bad bitch babi baddest fuck savag nice take easi ya nah', 'day onli thing know onli thing burn night grow cold look away look away beg stay beg stay yeah sometim stranger bed know love want dead push away push away beg stay beg stay yeah call morn apolog everi littl lie give butterfli someth way look eye know gonna make aliv', 'yell sky scream world babi go away still girl hold tight head cloud heaven onli know love love trust trust stay night tell alright babi harder see put record wait til hear song everi night danc ghost everi night danc ghost', 'regret day left believ bless probabl lyin alon head look love stranger bed think find caus onli could fill empti space', 'keep come back come back keep run round run round run round head certain thing ador certain certain certain someth get angri merci like shoulder turn caus certain thing mend us hang dear life held tight', 'trust anyth anyon sun feel anyth king cloud cloud get lift get lift king cloud cloud get lift get lift imagin take somewher know lost better find alon king cloud cloud get lift get lift', 'long live long love never not think hmm never not think moment love knew one no matter whatev ooh hmm never not think onli come lifetim rest mine alway compar', 'lookin real friend ever let down everi time let somebodi find lookin real friend wonder hidin lookin real friend gotta get town', 'know like admit wrong right least tri keep cool thrown fire go hate say told love say told hate say told love say told say say told say say told well say say told throw fire throw pull', 'stay late wanna get stone tell friend never home face fill blood still say like bourgeoi cough promethazin live like evergreen sorri thing done selena friend kiss emili love never fault', 'oh tire restless soul run run oh place go nowher fast know calm lay down restless soul wear wear no current come restless soul', 'talk talk talk go get lost let first get want without know never felt like apolog move far talk talk figur go', 'oh sweet psycho littl bit psycho night screamin mind oh hot psycho left right though night screamin mind', 'found heart broke fill cup overflow took far keep close keep close afraid leav said catch fall laugh fuck em got knee put right back feet could take advantag', 'broken love whole heart sin no hold caus grace hold grace own ground grave shame remain left dead wake crash age old gate left no stone unturn step grave shoulder way come stand high surrend need hold heart forev soul cri', 'dark wait without hope without light til heaven came run merci eye fulfil law prophet virgin came word throne endless glori cradl dirt', 'peopl come togeth strang neighbor blood one children gener everi nation kingdom come let heart troubl hold head high fear no evil fix eye one truth god madli love take courag hold strong rememb help come', 'spirit jesu live within us never fail forsak unend promis heaven insid us whisper sound name', 'no shadow light mountain climb come no wall kick down lie tear down come', 'beauti name beauti name name jesu christ king beauti name noth compar beauti name name jesu', 'fuck hate friend hate hot girl bummer anthem turn throw tantrum fuck hate friend hate fuck hot girl bummer anthem turn throw tantrum', 'say someth give one want anywher would follow say someth give feel small over head know noth stumbl fall still learn love start crawl', 'everyth hurt littl littl oh everyth hurt littl littl oh everyth hurt littl less', 'oh perfect way perfect way perfect way us good good father love', 'walk line like u wanna go higher love love love u wanna go hard reach dim light go real far u must tire love love love call name like hurt lot fall deeper tonight u wanna stop babi u wanna couch give give u wanna stop babi u wanna couch give give', 'fire morn cool even breath soul life bone', 'tell realli like babi take time ever fight take step step see eye caus never tell lie feel bodi shake heat leg scare love run know simpl touch set free rush alon feel come feel come babe', 'close eye color fli no hide grace deni heart mine unrel chase edg decept caught hesit love took over let go let love show life like suppos oasi await us freedom ever need aliv', 'know could go anywher could anyth girl whatev mood yeah know get lost late night under star find love stand right lip pull moment alon peopl may watch mind caus anywher feel right anywher feel like pari rain need fanci town bottl pronounc caus anywher babe like pari rain', 'yesterday day sun cold rain hard know way time til forev goe circl fast slow know stop wonder wanna know ever seen rain wanna know ever seen rain come down sunni day', 'wear no shoe shine got toe jam footbal got monkey finger shoot coca cola say know know one thing tell got free come togeth right over', 'love hope know darl love worth weight gold come far dear look grown wanna stay grey old say let go say let go wanna live even ghost caus alway need', 'noth better sometim said goodby let let go let let go', 'wanna anymor hand hand get cold lose feel get old made broken mold hurt shake made everi mistak onli know way break', 'know make nervou promis worth show em everyth kept insid hide hide shi say hope stay hide away come play look window see snow let though leav home feel wind blow caus colder insid silenc keep quiet', 'let dark', 'follow everywher go top over mountain valley low give everyth dream let ooh everyth want gold magic stori told safe under control let', 'catch rude like rendevu knuckl b boy fill cup choos wise mind tell true lie go toe toe homi shoe size ay turn us make hot like william duck camera stuck traffic come pick kinda canva fuck savag come ravag flexin like muhammad not eas stand tall over', 'babi step child may noth make daddi proud weak onli strength know got question closer think promis oh let go let go see right hold heart', 'alway seen heart soul everi breath compos symphoni beauti hope believ alway love', 'home heart come dwell come dwell open welcom place welcom place come way us welcom welcom place welcom place come way us welcom', 'wait worri tomorrow no need focu thing control attent wonder moment jesu presenc comfort soul', 'take away music onli thing got piec rock knew alway song suppos bear gone would separ word hoo sweet melodi babi would take away music symphoni', 'tall tan young love girl ipanema goe walk pass one pass goe ah walk like samba swing cool sway gentli pass one pass goe ah', 'gave love leav first told hurt tri hide wors broke heart got shirt someth bout way love seem curs learn karma tend b word hope get everyth deserv broke heart got shirt', 'carousel back around go one mani time end carousel back around go down ride no no no win', 'tell okay tell okay tell okay tell okay happi tell okay happi tell okay', 'phoenix', 'fire come close bother caus tide swallow one anoth freez start limb bother caus follow lover', 'want heart second guess caus need love anyth love good leav love good leav', 'time sing song nineti nine balloon way horizon think sing song nineti nine balloon someth came', 'come see world beauti beyond dream feel thing feel right take hand world need know', 'fire one desir believ say want way two world apart reach heart say want way tell nothin heartach tell nothin mistak tell never wanna hear say want way', 'sick sorrow jesu carri hill walk path us walk us still turn tragedi triumph turn agoni prais bless battl take heart stand amaz', 'oh god peal back layer heart want communion want fellowship want oh god peal back layer heart want communion want fellowship want', 'want know lord like know friend want know lord want know lord like know friend want know lord', 'love still begin forev sing passion sing love first done love never chang begin forev sing passion sing love first done', 'oh high would climb mountain mountain hide oh far scale valley grace side oh long chase river lowli sea rise rush grace descend sourc suppli', 'choos day grate lord give prais open heart wake heaven wake wake heaven wake choos day grate lord give prais open heart wake heaven wake wake heaven wake alway good thank merci new thank spirit truth thank tell thank', 'almost heaven west virginia blue ridg mountain shenandoah river life old older tree younger mountain growin like breez countri road take home place belong west virginia mountain mama take home countri road memori gather round miner ladi stranger blue water dark dusti paint sky misti tast moonshin teardrop eye', 'song broken heart no silent prayer faith depart gonna face crowd gonna hear voic shout loud life never gonna live forev want live aliv heart like open highway like franki said way want live aliv life', 'late time come send shiver down spine bodi ach time goodby everybodi got go gotta leav behind face truth mama oooh want die sometim wish never born', 'friend jesu sin grief bear privileg carri everyth god prayer oh peac often forfeit oh needless pain bear not carri everyth god prayer', 'lord worship worship lord worship worship name holi holi lord name holi holi lord', 'consid made mighti ocean fieri star field forest give prais lord god stand awe stand awe stand awe', 'seen world done cake diamond brilliant bel air hot summer night mid juli forev wild crazi day citi light way play like child still love no longer young beauti still love got noth ach soul know know know still love no longer beauti seen world lit stage channel angel new age hot summer day rock roll way play show way got know pretti face electr soul', 'oh queen king got ace queen king got ace roll dice tonight go roll em huh give enough go smile aye aye got need world doubt got champagn dream endless drought king queen seek ace got need no new friend', 'babi need need wanna freak want want bad heard freak right two plu two four three two one boy boy boy make girl go crazi four three two one boy boy boy make girl go crazi four three two one', 'write one song not drink without thinkin late tell everyth mean noth toronto got view might well hotel room yeah matter caus consum spend night read text', 'not sure know first met got nervou speak moment found one life found miss piec long live love hold look beauti white til last breath day cherish look beauti white tonight', 'use hide under cover serenad careless melodi someth buri deep insid us major minor like piano key play play oh play swear even sleep hear like memori everyth use', 'not much not ever come back no way get see drop new guy new bottl top fizz shaken much must taken never gonna notic see said openli need grown sli wait know soon get sick stand alon want phone never think want', 'wish luck wish love wish everyth everyth ever dream wish life wish joy wish everyth everyth girl would want wish best know worst deserv best deserv', 'said would last time see caus even wanna talk even wanna meet even wanna friend pretend like ooh oh oh take time love right love take hold take time love babe tri best explain yeah throw away said love babi gave love away said love babi gave gave love away said love babi gave love away said love babi gave love away', 'knew thrown down lion den brother follow perhap lack foresight known brother right sure set sun trust anyon want not ask said ask gonna get bargain said come never imagin dead never tell even awar undo iscariot fool', 'say love face need embrac say want take heart get torn mistak caus wanna fall love wanna tri think mayb might babe look though run word say love float away say love today give time caus not want feel burn flame say name want feel passion flow bone like blood vein', 'hey mama stress mind come home tonight hey mama gonna alright dri eye back morn sun start rise mama stress mind mama stress mind', 'go togeth better bird feather chang weather yeah feel heat decemb round danc top car stumbl bar follow dark get enough medicin pain tattoo insid brain babi know obviou sucker say word go anywher blindli sucker yeah road take know find sucker sublimin thing no one know make typic break typic rule true sucker yeah', 'ha hallelujah oh down beach ha hallelujah oh down beach ha ah ah ah hallelujah oh down beach ha hallelujah oh down beach', 'seem no one help deep no way time realli lead astray runaway train never go back wrong way one way track seem like get somewher somehow neither help rememb smile make somehow seem worthwhil earth get jade life mysteri seem fade', 'warm summer even train bound nowher met gambler tire sleep took turn starin window dark boredom overtook us began speak said son made life readin peopl face knowin card way held eye mind sayin see ace tast whiskey give advic', 'see over stare drink watch ice sink alon tonight chanc sit bar caus gonna treat right well probabl not place gonna say anyway caus look like felt fire littl fun smile littl babi blue look good sky look good neon buzz wall darl match eye tell need guy black white steal thunder babi blue color', 'call one time two time three time wait no finger hair mind know minut sinc walk right door still think time know know gonna blank know know got sayin fuck lone lone lone fuck come hold come hold come hold go go oh fuck lone lone lone lone yeah still watch show show still drink wine day tast bitter sweet friend way drunk save phone sorri say thing mean', 'fit well caus could use help gettin convers yeah look stunnin dear ask question onli fear becom beauti peopl drop top design cloth front row fashion show know insid world beauti peopl champagn roll note prenup broken home surround still alon let leav parti', 'let find far go look like someon know mayb sound littl better featur sweet mind alreadi made saw number number good enough write littl better will compet hope inbetween not meant said want seen', 'wall life built open door kid walk oh not bitter tire no use get angri way wire ignor trauma one afternoon could never let know ooh never get one let go ooh say genet real believ guiltless oh tell believ guiltless think feel better open eye carri burden til day die real believ guiltless', 'wanna pick scoop want secret secret found paint trust best friend call one night end oh share soul unzip skin let see', 'reign', 'morn rise meet morn lift eye onli one wanna cling first thought mind let voic rise creation cri sing endless alleluia moment join heaven song sing endless alleluia', 'imit game', 'needless say keep check bad bad nevertheless callin quit babi wreck crash place babi wreck needless say keep check bad bad nevertheless callin quit babi wreck crash place babi wreck thinkin bad way losin grip screamin face babi trip someon took big l know felt lookin sideway parti tilt', 'wanna alon tonight pretti clear not over still think bout thing wanna alon tonight alon tonight alon tonight light fire need somebodi take control know exactli need caus wanna alon tonight alon tonight alon tonight look made somebodi new ooh babi babi danc stranger look made somebodi new ooh babi babi danc stranger danc stranger', 'caus babi everyth everyth need everyth babi everi singl part meant caus meant everyth need', 'time make proud see over come day light proud rais shelter peac time make proud', 'american nightmar american dream countin bodi count sheep american nightmar yeah live dream slash way golden age silver scream sweet dream', 'oh oh night oh awoo night onli thing wors bark bite oh awoo night', 'got damn bad intent got damn bad intent got secret forgot mention learn lesson got damn bad intent see world dimens seen evil reign over perfect blood heat over tension know', 'wish could hate head want heart weak hate thought lone love alon greatest regret first day gave love dirti evil scheme heart like total hate usual regret hurt feel call dull brain thought alway knew b tche like one reason middl finger rais heaven hope guy know jealousi incur ailment slowli eat victim hater die well soon even monkey asia reloc contin still remain monkey hate u butt breath no longer human anymor sad stress', 'step glass stapl tongu ahh buri friend tri wake ahh ha cannib class kill son ahh buri friend wanna end', 'got look crazi right love got look crazi right love got look crazi right touch got look crazi right touch got hope page right kiss got hope save right look crazi love got look got look crazi love', 'happi joy danc parti sing music cheer wine satisfact plessur let danc let enjoy danc danc danc chill self', 'love lost sens spin town sooner later fever end wind feel down need man take chanc love burn hot enough last night fall lone heart call', 'said face bomb ass tight rack stack shaq height yeah jewelri flashlight huh lit sinc last night woo hit good good make nigga act right ah broke boy deserv no pussi know right', 'choke find word everi time say goodby babi hurt sun goe down band play alway rememb us way', 'come come turn radio friday night long gotta hair put make friday night long til hit danc floor hit danc floor got need no got cash got cash got babi', 'parti wanna ever wear suit tie yeah wonder could sneak back nobodi even look eye take hand finish drink say shall danc hell yeah know love ever tell make better like', 'give whole world need space need space need know star space need space need space need space n give whole world need space need space need know star space need space need space need space n', 'kill go hell want buri hate fuck shit hell angri furi rage', 'reach hear call boy hurt miss miss like crazi lay side next make sure alright take care want tonight', 'mind run away thought hope see see wander know want wait patient though time move slow one vacanc want know', 'februari valentin day rose came took away tattoo arm charm disarm harm gotta keep calm truth gone never get show song dad see tour see stand next mom sing along yeah arm arm', 'sail alon came along sing song wrote led way say word becam lump throat love sweet hurrican time know meet', 'babi wanna true gotta knock way want sun moon', 'well new address oh forget evid take home run write down get get write down get get write down get get write down get get', 'promis hold cold loos winter coat spring caus late think never told everi time see heart sing caus live carniv summer scare death ghost train like everi ferri wheel stop turn guess expir date say love late', 'caus sleep like bodi feel right underneath everyth yeah undon burst seam caus pictur besid let everyth need yeah', 'cloud chang storm come quick hide need shelter side hello caught surpris oh lost sens met hazel eye', 'come dude know right thing say come down game instead talk let demonstr yeah get down busi skip foreplay', 'feel low low drive noho honest call tri let go hope happi live life taxi alway alway', 'no longer live jesu live dead sin woke see light no boast cross save soul els loss', 'love lord merci never fail day held hand moment wake lay head oh sing good god life faith life good everi breath abl oh sing good god', 'rain upon life fill heart take moment god lift hand worship stand king eye behold glori everyth chang everyth chang', 'cross confid need love give never make promis keep love give love give oh amaz love ye no matter far run run love fall apart let go', 'get love best thing ever get love promis make whatev may come heart choos forev forev get love get love', 'wish luck wish love wish everyth everyth ever dream wish life wish joy wish everyth everyth girl would want wish best know worst deserv best deserv', 'rain pour blood water cold core faith fall hard shoulder time no turn back could live could live like legend time no turn back could live could live like legend live like legend', 'middl finger put hand high wave face tell boy bye tell boy bye middl finger think sorri sorri sorri sorri sorri nigga nah think sorri sorri sorri sorri no no hell nah want say sorri want call cri gotta see wild one lie feel bad exactli get stop interrupt grind think', 'know devil took line god drop one angel came sing angel came sing wound know bout storm angel came weather gone sick angel came weather gone sick moment lost know fade away sleep behind play go forward take storm away stay strong fall insid drop cage line stop behold sun angel stop behold sun', 'know littl girl dreamt world forget forget respect bow down bitch took time live life think littl wife get twist get twist shit bow down bitch', 'starlight', 'sweet sweet sweet love jesu sweet sweet sweet love measur love deep could fill tide everi sea noth els histori compar done', 'parti mean wear blue red green peopl know thing see know never eas ambit well kept secret even friend know intend public sight public mind wear parti tonight', 'talk morn bang head bang head wall scare fall lose lose control tire talk feel say old thing love import wanna lose wanna lose way', 'turn light get star eye love mayb someday turn light give like emot hard borrow love word never learn room empti bottl give want get deserv', 'first met could hardli believ thing would happen could achiev let togeth time go thank still mine', 'angri kill hurt fuck shit blame hate reveng', 'over mountain sea river run love open heart let healer set free happi truth daili lift hand alway sing love came down could sing love forev could sing love forev could sing love forev could sing love forev', 'sunris chest no blind place live daybreak open eye caus onli ever meant one night still chang mind dear close lip touch nose feel breath push heart pull away yeah summer winter day love see one thing wrong us mine mine yeah anytim anytim ooh know alon quit thought knew found love wrong time enough sinc came along think babi bring differ kind no safeti net underneath free fall fell men appear yeah trap tightrop free fall', 'wizard word tellin energi bewitchin go first open bar let close distanc oh oh oh oh oh make spell night realli give fuck bout said said bullshit pick poison love let go somewher littl exclus take shot take chanc take hand boy tension intens like asteroid discreet gotta dodg tabloid let not think much no problem long keep', 'cross bore could live freedom die life sing good forevermor worthi name jesu deserv prais worthi name worthi name jesu deserv prais worthi name', 'hate shit angri want kill', 'let get straight panic bloodstream yet bring peac stutter heart beat insid last first kill better rise tide everi fuck thing insid violenc vein war insid brain glitter gloom numb without', 'begin not sorri part beg pardon see know not human one part anxieti use two part naiveti keep sane', 'break down hyster young uncomfort numb sent pain oblivion verg break down came around not second late late late late well give two finger person use shook noos slip head loos boy histori see knew better yeah knew better refus hand rescu', 'everi littl thing gonna alright everi littl thing gonna fine whether see know work good everi littl thing everyth alright', 'come altar father arm open wide forgiv bought preciou blood jesu christ leav behind regret mistak come today no reason wait jesu call bring sorrow trade joy ash new life born jesu call', 'stay true even lie come word remain truth even thought line stand tall promis made let rest fade away peac far beyond understand may ever set heart eas dare anxieti come rememb peac promis keep peac promis keep', 'oh moment encount dawn breath air never known glori bow crowd return ground', 'anoth fire stand next anoth water hold back sea ever need remind power set free grave hold no bodi power live', 'take chanc noth lose ask question promis truth readi wanna hear heart heavi wound left mark allow introduc everi place ever one held stand wonder heal broken meet hous upon hill want', 'pleas cool strong move learn anyth strong pleas rise strength one let down', 'peac bring peac storm surround let break name still call sea still rage still name everi wave', 'worthi everi song could ever sing worthi prais could ever bring worthi everi breath could ever breath live', 'tell meant call quit call destini come easili mean tri', 'cut mind feel like heart go burst alon tabl two wanna serv think best ever share one drink smile even though sad', 'give one night gonna see new light yeah give one night meet underneath moonlight oh want take two want break wanna know real thing see new light', 'strong heart strong mind tri tri one day fli life worth live give make us proud proud self', 'cool river ocean sea hill flower bloom mediat calm relax mind peaceful memori', 'open higher state conscious open higher state conscious', 'got way much time hurt somebodi help get wors broken heart light fade everyth dark way much whiskey blood feel bodi give hold anoth night time heavi thought get late put fragil state wish go home deal', 'sit think knew collaps vein wear beauti shoe not live not', 'yeah dancin singin movin groovin hit somebodi turn around shout play funki music white boy play funki music right play funki music white boy lay down boogi play funki music til die', 'famili got sister famili get everybodi sing famili got sister famili get everybodi sing', 'everybodi want everybodi want love like make mine night babi give give', 'highest king would welcom lost brought oh love oh love', 'still love littl bit tire afraid might hurt not nice guy selfish say still love lie', 'oh no not surviv oh long know love know stay aliv got life live got love give surviv surviv hey hey took strength not fall apart kept tri hard mend piec broken heart spent oh mani night feel sorri use cri hold head high see somebodi new not chain littl person still love felt like drop expect free save love someon love', 'soul chosen landscap bewitch masquer bergamask play lute danc almost sad beneath fanci disguis sing go minor key conquer love life favour not seem believ fortun song mingl light moon calm light moon sad fair set bird dream tree fountain sob raptur tall svelt amid marbl statu', 'jealou love like hurrican tree bend beneath weight wind merci sudden unawar afflict eclips glori realiz beauti great affect oh love us oh oh love us love us oh', 'speak hundr billion galaxi born vapour breath planet form star made worship see heart everyth made everi burn star signal fire grace creation sing prais', 'got togeth definit got thing togeth babi nice mean realli sit think realli realli nice easili feel slip way slip world nobodi got togeth babi first last everyth answer dream sun moon guid star kind wonder know onli onli one like no way could made two girl live love keep evermor first last everyth', 'gonna realli wannna danc stand wall get back wall tell gonna realli wanna danc stand wall', 'coffe need morn sunshin rain pour give give oh wanna see wanna see beauti know see know star go follow no matter far life movi know best part ooh best part ooh best part', 'promis still stand great faith faith still hand confid never fail yet know night last word come pass heart sing prais jesu still enough keep within love heart sing prais', 'got someth want oooh new oooh salvag balanc oooh new', 'sittin eat heart wait waitin lover call dial thousand number late almost rang phone wall look hot stuff babi even need hot stuff babi tonight want hot stuff babi even gotta hot stuff gotta love tonight need hot stuff want hot stuff need hot stuff', 'real life peac make amend start start feel like end like world unravel bound come undon shepherd priest comfort comfort', 'keep fight voic mind say not enough everi singl lie tell never measur sum everi high everi low remind need know ooh oh say love feel thing say strong think weak say held fall short belong oh say', 'found sure get lost mad fall love truli lost want found die alon stain red color pavement paint blood somebodi love sacrific broken lose purest heart', 'watch mouth lettin shit slide know got way much pride sneak dissin way side turn fuckin wave tide fuckin tire somehow still find time care littl rhyme care littl peer think lil less fear care lil ear give piec everybodi meet', 'love turn headphon down littl bit yeah mani reason', 'would take away fear love allegi pain fuck miss never like would give anyth chang fickl mind heart love fake shini thing fuck miss never like', 'want wast time without want throw away life need someth tell alright someth tell alright alright want wast time without want throw away life need someth tell alright someth tell alright alright', 'everybodi hurt sometim everybodi hurt someday everyth gon alright go rais glass say one got cheer wish not caus drink bring back memori everyth toast one today toast one lost way caus drink bring back memori memori bring back memori bring back', 'gonna see victori gonna see victori battl belong lord gonna see victori', 'eye blind see great grace heart see love', 'happi joy enjoy parti danc sing play move bodi let danc music play loudli worri happi', 'like better like better knew first time stay long time caus like better like better', 'honey prize catch perfect match like two bitter stranger seen long short could make last well could spit stranger pull bitter stranger pull well could spit stranger pull bitter stranger pull', 'none take back night met know suppos haunt ghost take back night met', 'thought holdin hand heart see onli blue talk love rememb knew love stay decemb found love share septemb onli blue talk love rememb true love share today', 'mine life rais glori took down grave bright sun almighti love god forev kingdom come', 'call upon name keep eye wave ocean rise soul rest embrac mine', 'final wanna aliv final wanna aliv final wanna aliv wanna die today wanna die final wanna aliv final wanna aliv final wanna aliv wanna die wanna die no wanna die wanna live wanna live pain hurt know lane travel feel alon move til leg give see tear melt snow wanna cri wanna cri anymor wanna feel aliv even wanna die anymor oh wanna wanna even wanna die anymor', 'heavi heart tast light fed dark wait see deserv compani love way hard oh oh oh tri turn mind say fine scream insid like say word repeat tri breath count fake smile know know well alright like heaven hell', 'pleas cri came say goodby everi tear eye oh right time', 'afraid taken beat share made strong surfac not way never perfect neither ask want know time come forget wrong done help leav behind reason miss resent feel empti keep memori leav rest leav rest', 'sometim think much yeah get caught alway stuck head wish could escap tri yesterday took sheet bed tie linen five strip ribbon found scale side buildin ran hill til found put back cell alon thought guess mind prison never gonna get', 'wanna alon wanna wanna alon dark wanna alon dark wanna alon dark anymor alon get hole like wall closin help no one feel curtain closin go open em someth pull em close', 'want head want bedroom tonight no way save need save no good goodby goodby goodby goodby goodby goodby goodby goodby goodby goodby no good goodby', 'liar thief lover cheat sin need holi water feel wash over well littl one want admit someth gonna caus pain truth lie fall like rain let river run', 'hey nate life know alright dealin thing like everi human realli sleep much last night last night sorri fine think need littl time think need littl free time littl break show bu ride bu ride yeah last year breakdown thought tellin lost gettin loud see therapist found somethin funni goin hous yeah start think mayb move know pack car take new rout clean yard get noos hang heart let air air search mean nate learn grabbin keepsak leav burden well brought not perfect lookin view like concern pick cue right quit nervou hate lose sight life get blurri thing might hurt prolli gonna long journey hey hey worth though', 'thinkin bout father late person made person becom tryna fill empti fuck still empti could use love tri find reason get tri find reason stuff bedroom closet baggag heart still dark modern loneli never alon alway depress yeah love friend death never call never text yeah get give give get modern loneli love get high know come down down down down down down', 'gotta keep calm storm want less want must bar window door keep safe keep warm yeah life fight part sea reach shore voic becom drive forc let pull overboard', 'feel alon crowd place everi convers feel fake everyth touch alway seem break get depress hear name oh realli give shit stay realli give shit go realli give shit either way either way feel alon', 'danc demon hang edg storm cloud gather beneath wave break head headfirst hallucin wanna fall wide awak tell alright tell forgiven tonight nobodi save hold light chase dark insid caus nobodi save', 'go wrong lost friend somewher along bitter would stay night known save life', 'hello sweet grief know death feel like morn ecstasi drown endless sea hello old friend miseri know no end everyth make sure never love wish not know broken lover go wish heart made stone yeah bulletproof love black blue solid like jewel diamond heart oh oh give love unbreak diamond heart oh oh could shoot gun gold unbreak', 'everi wall high everi word cold ice hear dark help hand far feel like wing move think no one love tell lone night threaten break down tire fight hard find way shadow caus everi lie seem true think no one love somebodi somebodi somebodi know pain onli hard find way shadow everi lie seem true think no one love tell somebodi', 'know water thicker blood deeper love friend peopl come peopl go peopl ride end blind mind swear rescu lifelin know surviv brother sister life yeah know peopl would die run togeth famili get gon high say forev famili famili say forev famili famili say forev famili', 'day wanna live other wanna die tri help feel trap mind feel like time day die greatest night free tri stay aliv feel dead insid stop action speak', 'look eye understand empathis togeth stand hide take hand human', 'everi time cri get littl bit stronger stronger littl bit stronger everi time cri get littl bit stronger stronger littl bit stronger', 'pleas stop love love ooh ooh ooh ooh ooh ooh ooh ooh want want like pleas stop care care ooh ooh ooh ooh ooh ooh ooh ooh care care like', 'hurt today see still feel focu pain onli thing real needl tear hole old familiar sting tri kill away rememb everyth becom sweetest friend everyon know goe away end could empir dirt let down', 'chang might drive half insan kill stay gonna work gonna work someday moment livin eye half open think bout chang gonna work gonna work someday', 'cri wipe away tear scream fight away fear held hand year still', 'not realli sure feel someth way move make feel like live without take way want stay not much life live not someth take given', 'push problem back mind surfac dream come aliv sweep issu somewher find hope forget mani time strong confront fear fear hurt sincer mani day run mani year emot flood seem clear cri no reason feel tear roll down felt strong break cri no reason caus buri deep made promis could not keep caus never face pain caus pain hit full forc', 'live broken home alon sixteen week sinc gone time goe no piec left no memori shut feel lone get head lost everyth around not deal well shut feel lone get head would want love somebodi love hurt end', 'leg dangl edg bottom bottl onli friend think slit wrist gone gone gone gone leg dangl edg stomach full pill work put bullet head gone gone gone gone', 'feel cold lost desper build hope failur known rememb sad frustrat let go let go', 'got gun head go spirit head go got gun head go spirit head go gun still rattl gun still rattl oh got gun head go spirit head go', 'danc devil control almost made heaven closer know play enemi gambl soul hard say no danc devil', 'give', 'late stuck imagin wanna realli think time blow littl inappropri caus know everybodi think light shame need releas uncontrol wanna go way take freak tonight wanna show dirt got run mind whoa wanna go way take freak tonight wanna show dirt got run mind whoa', 'sugar man met fals friend lone dusti road lost heart found turn dead black coal', 'lone lone mr lone mr lone nobodi nobodi call girl lone lone mr lone mr lone nobodi nobodi call girl', 'mamma mia go resist mamma mia show much miss ye brokenheart blue sinc day part ever let go mamma mia realli know could never let go angri sad thing count time told go slam door think know away long know not strong one look hear bell ring one look forget everyth', 'worri thing caus everi littl thing gonna alright worri thing hey caus everi littl thing gonna alright oh rise morn smile rise sun three littl bird doorstep sing sweet song melodi pure sure say messag', 'may know mean word happi may alway lead beat chest may treat like esteem guest may get rest may catch breath may best today worst tomorrow whoa oh may road less pave road follow whoa oh well heart gonna break live gonna chang infinit possibl way love want good time gonna need money got free pass fact sad without want', 'caus whatev say would say paper news everi day radio even play jam caus whatev say would say paper news everi day know way', 'say lost mind say never find think kind right fact kind like say lost mind say never find think kind right guess alway gonna bad child guess alway gonna mad child caus never understand weird mind weird mind everi singl person doubt tell could live without caus never understand weird mind weird mind famili alway said bad child', 'happi joy pleasent enjoy smile laugh danc sing rock let sing song friend', 'happi joy enjoy music sing danc parti', 'down oh soul weari troubl come heart burden still wait silenc come sit rais stand mountain rais walk stormi sea strong shoulder rais', 'could gonna wish never met roll deep tear gonna fall roll deep heart insid hand gonna wish never met play beat tear gonna fall roll deep could roll deep heart insid hand play beat', 'oh love sometim get littl merci get littl lone sometim get littl keep compani get littl lone said oh love sometim get littl merci get littl lone sometim get littl keep compani get littl lone', 'thing told never would told chang even knew never could know find nobodi els good need stay need stay hey thing told never would told chang even knew never could know find nobodi els good need stay need stay hey', 'go down gravel head barrel take life end struggl lo angel come scam pleas empti never sleep clifton bag ladi friend mind descend strip right human control warmer hell down go', 'bad habit lead late night end alon convers stranger bare know swearin last probabl got noth left lose use bad habit lead wide eye starin space know lose control thing say yeah lookin way escap nothin happen two true true bad habit lead', 'uh need uh need get album done need coupl number need plaqu everi song need like one nicki tell rap nigga see ya hah pop nigga like bieber hah fuck bitch queer hah nigga bitch like madea yeah yeah yeah ayi yeah oh let fall releas new shit blew everybodi tryna sue call na hood call doobi yeah', 'human sign thing go wrong scent linger temptat strong cold cold heart harden oh thing lookin better babi passin no no no no no', 'dead night dream happen burn wrong mean thing understand say someth wrong know alon drive go full moon glow search truth tryna brand new yeah tri no scream fight bleed blood eye anoth broken soul god save', 'give littl time burn play hide seek turn around want tast lip allow oh give love oh give love oh give love oh give love oh give love give love like never caus late crave', 'never leav mind alway stuck time take home way back thought found alreadi escap along dream dream dream know never leav mind alway stuck time', 'eye close slowli fall music atmospher feel light fade softli over rememb last year alon bed thought head live silent insid', 'agoraphob night', 'shesha', 'happi danc enjoy joy danc', 'dark moon night owl take flight crossroad best begin quest candl flame chant name incens smoke hekat invok', 'gone leav hecat tree shed wind till skeleton claw sky alon forest memori drag behind howl winter', 'happi joy parti fun', 'onli two us still fight live watch histori repeat time time dreamer dream life away dreamer dream better day', 'sky blue tide high see moon think swim circl mind act like muse paint pictur head onli make silhouett like poem never read write bed like love love love love', 'oh walk everi night talkin sweet lookin fine get kinda hectic insid mmm babi darl onli knew thing flow mind sweet sweet heaven boyfriend laugh boyfriend no begin no end feel like dream not sleep sweet fantasi sweet sweet fantasi', 'want feel want share love tri get overwhelm gone no one tell wait watch watch us hate wait hope not enough', 'babi noth better rather lost complet might well over moon like tri chang mind gonna know better', 'kiss hard go summertim sad want know babi best got red dress tonight danc dark pale moonlight done hair real big beauti queen style high heel feel aliv oh god feel air telephon wire sizzl like snare honey fire feel everywher noth scare anymor', 'no green sea go turn deeper blue could not forese thing happen look hard enough set sun love laugh morn come', 'time everyon bad postur sit drink pennyroy tea distil life insid sit drink pennyroy tea anem royalti', 'tear fill glass no express no express hide head wanna drown sorrow no tomorrow no tomorrow find kind funni find kind sad dream die best ever find hard tell find hard take peopl run circl mad world mad world', 'fade pictur wall like talkin disconnect call phone even ring gotta get figur shh close comfort', 'terror know world watch good friend scream let pray tomorrow get higher high pressur peopl peopl street', 'keep look place fit speak mind tri hard find peopl leav behind say got brain no good wish could time thing start happen think got someth good goin goe wrong sometim feel sad sometim feel sad find noth put heart soul guess made time', 'peopl strang stranger face look ugli alon women seem wick unwant street uneven down strang face come rain strang no one rememb name strang', 'smile though heart ach smile even though break cloud sky get smile fear sorrow smile mayb tomorrow see sun come shine light face glad hide everi trace sad although tear may ever near time must keep tri smile use cri find life still worthwhil smile', 'weari feel small tear eye dri side oh time get rough friend found like bridg over troubl water lay down like bridg over troubl water lay down', 'regret collect like old friend reliv darkest moment see no way see no way ghoul come play everi demon want pound flesh like keep thing like keep issu strong alway darkest dawn', 'well everybodi hurt sometim everybodi cri everybodi hurt sometim everybodi hurt sometim hold hold', 'take makeup nobodi around girl let guard down see right know mean know got moment close eye know someth right got down shirt white sheet red wine babi wanna leav want record reverb backbeat low light know know need tonight girl take time dot everi babi got down stay til sunris wanna know like last time ever hold girl everi detail leav lay back let go even say anyth way', 'alright slow burn takin time let world turn gonna way alright burn down take night slow burn yeah', 'dig thousand grave never gonna buri ghost float ground caution hang hair like jesu stone crash down far heaven fell short million thing tri put piec back togeth get flight broken wing sick die night wanna feel aliv world wanna straighten crook line gonna marri girl let leav love save come quiet rise slow take depth dark fall far alon face', 'well blind reaction late behind catch move castaway trap caught darken sky tidal wave move', 'kiss cheek watch leav smile ghost fell knee young run come back need love good', 'never find look come back front porch say name screen door come back front porch whatev done matter caus darl littl splinter batter light wait come back come back took long way look shortcut find place made best', 'ooh necklac hang neck night quit forget decid decid move furnitur could danc babi like stood chanc two paper airplan fli fli fli rememb think', 'road brought sure hell take home life left behind back tire pay due worn shoe broadway blue fool tell damn ol deck stack', 'understand bodi want know thought oh bout bout big girl world let wanna girl ride wit ride wit know know know wanna ride wit shi wit suppli wit got girl oh got girl', 'said say name woo say first class flight l soon land bill paper plane uh soon touch back end one ten tryna take chase skrrt skrrt big fat stack bag un zip finna make rain cuh run down rain splash right wrist left wrist rain bling said wagwan goin wet gyal rain blaow cuh run down rain splash right wrist left wrist rain bling said wagwan goin huh wet gyal rain blaow woo', 'oh sun sure sink down moon slowli rise old world must still spin round still love close eye close eye alright know no love song sing blue anymor oh sing song sing song gone', 'ooh babi feel right music sound better love might bring us togeth feel good feel right music sound better', 'alon thrown weight crazi stone lost care thing miss miss miss home home', 'hous keep win got wildcard sleev love start give lemon mix em drink whole wide world stop sing star go dark keep light soul keep bluebird heart keep light soul keep bluebird heart keep bluebird heart ooh bluebird sing ooh', 'get dad tell old joke laugh jack coke hope one day half funni count bless thank star caus end love give sure hell money', 'would know name saw heaven would saw heaven must strong carri caus know belong heaven would hold hand saw heaven would help stand saw heaven find way night day caus know stay heaven', 'everi step take everi move make everi singl day everi time pray miss thinkin day went away life take bond break miss', 'come rain fall star drench pain becom memori rest never forget lost wake septemb end summer come pass innoc never last wake septemb end', 'seen fire seen rain seen sunni day thought would never end seen lone time could not find friend alway thought see', 'girl angel darl angel closer peep babi shorti angel darl angel girl friend need ladi', 'tomorrow never come know much love tri everi way show everi day onli one time earth must face world without love gave past gonna enough last tomorrow never come', 'tick away moment make dull day fritter wast hour offhand way kick around piec ground hometown wait someon someth show way tire lie sunshin stay home watch rain young life long time kill today one day find ten year got behind no one told run miss start gun', 'well show statu told pray built templ lock away aw never told price pay thing might done onli good die young said onli good die young onli good die young', 'leav must know belov leav rememb afraid howev could not rosi light strang see hand come mirror point light point light never see put feather arm over', 'die lay rest gonna go place best lay down die go spirit sky', 'mama take badg use anymor gettin dark dark see feel knock heaven door', 'sing sing year sing laughter sing tear sing today mayb tomorrow good lord take away yeah sing sing year sing laughter sing tear sing today mayb tomorrow good lord take away dream dream dream dream dream come true', 'long long time ago still rememb music use make smile knew chanc could make peopl danc mayb happi', 'one day one time one sunset mayb satisfi know would leav wish still one day one day', 'take one moment say goodby plan fear like habit run like rabbit away screen door unknown want love want find resid high find caus wanna save wanna tempt tell aliv let prove live die hear voic know name', 'bright morn life over fli away home god celesti shore fli away fli away oh glori fli away morn die hallelujah fli away', 'end world know time time alon end world know time time alon end world know feel fine time time alon', 'oh die arm tonight must someth said die arm tonight oh die arm tonight must kind kiss walk away walk away', 'lift head look said hold darl littl held close kiss last kiss found love knew miss gone even though hold tight lost love life night oh oh babi lord took away gone heaven got good see babi leav world', 'around home town tri track down say want bring guilti kill deputi life deputi say shot sheriff swear self defens shot sheriff say capit offens', 'valentin done gone romeo juliet togeth etern romeo juliet men women everyday like romeo juliet men women everyday redefin happi anoth come everyday like come babi fear reaper babi take hand fear reaper abl fli fear reaper babi man', 'not frighten die time mind frighten die no reason gotta go sometim hear whisper die', 'sweetheart gone lone said start drink past time drivin nail coffin over drivin nail coffin everi time drink bottl booz drive nail coffin lord drive nail over', 'teddi snif glue twelv year old fell roof east two nine cathi eleven pull plug twenti six red bottl wine bobbi got leukemia fourteen year old look like sixti five die friend mine', 'live easi love free season ticket one way ride askin nothin leav takin everythin stride need reason need rhyme nothin rather go down parti time friend gonna highway hell highway hell highway hell highway hell', 'think go get along without gone took everyth kick happi satisfi long stand heat doorway bullet rip sound beat look', 'love mine someday die close behind follow dark no blind light tunnel gate white hand clasp tight wait hint spark', 'one glori one strength beauti face without name long beauti smile hide pain', 'hey matter tell truth laugh word cruel unkind guy fool cross line', 'went skydiv went rocki mountain climb went second bull name fumanchu love deeper spoke sweeter gave forgiv deni said someday hope get chanc live like die like tomorrow gift got etern think', 'broken heart peopl live world agre answer let though may part still chanc see answer let let let let let answer let', 'die young buri satin lay down bed rose sink river dawn send away word love song', 'woah love darl hunger touch long lone time time goe slowli time much still mine need love need love god speed love', 'saw light fade sky wind heard sigh snowflak cover fallen brother say last goodby memori hold bless go turn last path lead home though road take cannot tell came way come day bid farewel bid fond farewel', 'darl anyth felt everyth want think find someon worth wait year heartbreak know found one love love way never find right thing say sit still hour day love let run away us enough get nervou look eye butterfli stop fall', 'rememb though say goodby rememb let make cri ever far away hold heart sing secret song night apart rememb though travel far rememb time hear sad guitar know onli way arm rememb', 'day die spill heart day die spill heart year go race clock die right know die die', 'carri carri though dead gone believ memori carri carri heart contain anthem explain', 'thing not use miss one insid deathli loss real cannot stand hell feel empti fill point agoni grow dark take dawn gone no one save late think think even tri yesterday seem though never exist death greet warm say goodby bye', 'miss miss bad forget oh sad hope hear rememb clearli', 'readi die ye readi nah gonna kill ass yet gonna make suffer die motherfuck die motherfuck die', 'mayb anoth life could find pull away time deal unfair feel feel like heaven far away feel yeah feel like world grown cold gone away', 'without babi still lone mind think babi dream time without babi still dream tonight onli yeah', 'wanna feel better wanna not rememb alway see face shadow haunt place laugh cri shake fist sky not say goodby', 'friend year imag red blew motherfuck head confid death insecur men fall unreal unreal unreal make decis death everyon around plead fli peac hope friend man avoid meant meant even realli want', 'heard news dead no one ever much nice say think never like anyway oh take hospit bed grand exactli plan great dead oh dead', 'tie knot tie noos lie love truth coffin built two left skin bone still love rest peac rest dark light hold close hold tight forev forev forev close eye one last time tonight fall asleep pray soul keep keep', 'wanna die wanna scream mad left behind million tear sad night night grope not side', 'see everi shade everi moment breath came silent wander travel distant shore life learn die no choic lost voic tear broke fear return death turn human like swan could bear burden eas never wit heartless diseas wound time neglect', 'alic frighten alic scare kill birth shoot final scene basement trap insan alison hell look alison hell close door alison hell shall dwell alison hell alic dwell hell', 'time tell power mind make war fun treat peopl like pawn chess wait till judgement day come yeah dark world stop turn ash bodi burn no war pig power hand god struck hour', 'bela lugosi dead bela lugosi dead undead undead undead undead undead undead virgin bride file past tomb strewn time dead flower bereft deathli bloom alon darken room count', 'month chang year pass felt like day whole life one dream see grey horizon no sun break monotoni dream devoid colour devoid sound onli greet blank face drone grind gear grey machin', 'leav down lost wave hey hey hey god explain draconian love shed draconian love shed draconian love go sell love fieri rain angel explain draconian love', 'oh shed tear loss innocens forsaken spirit ach us cri heart surrend pain solitud left behind behold pain sorrow world dream place away nightmar give us love uniti under heart night death come near us give us life world pain better dead give love give death', 'two inde blest treat delight give prais blood bled grant rose dead grant rose dead', 'wait long moment come anxiou togeth togeth death die tonight love babi join death die babi join death die tonight love babi join death world cruel place onli lose live tear us apart let death bless', 'stay forev love softli spoken word gave even death love goe say crazi love oh love no bond hold side oh love know leav hear sing', 'tri kill pain onli brought much lay die pour crimson regret betray die pray bleed scream lost save lost', 'give possess bear cross turn curs break bittersweet spell lost arm destini bittersweet want oh want need need', 'well reach place stay awak got leav babi heart break go go gone come over babi caus tell gotta believ gotta give one kiss', 'lord danc danc danc free danc danc danc free danc lord keep hand', 'moon rise moon rise light eye gone daybreak daybreak sing made ach gone ride train without tonight train keep move black smoke scorch even sky million star shine us like everi soul live dead gather togeth god sing hymn over bone', 'sometim doin simpl thing around hous mayb think smile know tie like button blous keep heart hold thought take dream touch fall view winter come keep fire lit right next', 'time die want nobodi mourn want take bodi home well well well die easi well well well die easi jesu gotta make sure know jesu gotta make jesu gonna make die bed', 'legend live chippewa down big lake call gitch gume lake said never give dead sky novemb turn gloomi load iron ore twenti six thousand ton edmund fitzgerald weigh empti good ship true bone chew gale novemb came earli', 'pain disappear natur circuitri drown hear no escap new conscious know use feel blood stop pump left decay know made wire even right far away', 'gonna put down right strip gonna put down vega strip', 'scream vain oh pleas miss lane leav pain went walk citi neon light fear disguis warp seath pressur line graceless heir intang price tri hard find right', 'danc danc danc danc danc radio danc danc danc danc danc radio danc danc danc danc danc radio danc danc danc danc danc radio', 'stomp line intern sand feed blood drink habit eleph man quench thirst black water rise take around toward burn horizon yeah motherfuck let take ride rollin round irat someon got die trick treat die need roll dice leav caus mile pure luck warm bag guaran fuck teed someon bleed guaran fuck teed someon bleed', 'say end near say see armageddon soon certainli hope sure could use vacat bullshit three ring circu sideshow freak hopeless fuck hole call l onli way fix flush away fuck time fuck day learn swim see down arizona bay', 'eye like pisc weak lock insid heart shape box week drawn magnet tar pit trap wish could eat cancer turn black', 'fade man gotta let crazi scream noth ever come keep feel lost never find way not thank unless truth pour give courag beat down time laugh funni hate insid hate insid', 'tug rhythm vision that head tug beat sight lie delight new understand someth littl evil make unmistak nois hear unmistak sound know well spent sigh look eye spent sweat look face like sweet revel sweet surrend sweet revel sweet think think think', 'pain pleas end pain submit whoever caus pain sens enjoy agoni subconsci arous fuck fuck dead sacr ground still tread never underestim immort', 'let go fuck crazi end friend satan come round bend peopl run caus scare peopl better go bewar no no no', 'franki teardrop twenti year old franki marri got kid work factori work seven five tri surviv well let hear franki franki franki', 'come daddi come daddi', 'hello mr krinkl today seem rumor team might move away sentiment not one cri', 'benefit mr kite show tonight trampolin henderson late pablo fanqu fair scene over men hors hoop garter lastli hogshead real fire way mr k challeng world', 'either way turn open skull climb wall alway best light alway better outsid fifteen blow back head fifteen blow mind', 'relax over belong fill mouth dirt relax over never leav take second digit love first bare breath find fascin favorit lay down sleep stop love', 'wood eat woman dump honey bodi mud dress float down well assum shape bodi littl girl yeah recogn girl stumbl time last loneli could not stand touch one only deep wood', 'knew nigga whose real name william primari concern make million illest hustler world ever seen use fuck moviestar sniff coke dream corrupt young mind age', 'die burn waist arm ear burn eyelash burn hold thing even medic advanc no end sight hamburg ladi want tell claim mind doubl play lay prope chair leav burn waist down eat life tube', 'close midnight someth evil lurk dark under moonlight see sight almost stop heart tri scream terror take sound make start freez horror look right eye paralyz', 'boy girl everi age like see someth strang come us see town halloween halloween halloween pumpkin scream dead night halloween everybodi make scene trick treat til neighbor gonna die fright town everybodi scream town halloween', 'look window mani sight see look window mani differ peopl strang sure strang', 'town come like ghost town must youth fight govern leav youth shelf place come like ghost town no job found countri go no peopl get angri', 'averag man averag life work hey hell pay price want left alon averag home alway feel like twilight zone alway feel like somebodi watchin no privaci alway feel like somebodi watchin dream', 'got bed wit name wit name got kiss wit name wit name love good love down turn down got bed wit name wit name', 'step two us nobodi know us get car like skrrt stayin night order pad thai gon sleep til noon no makeup bathtub bubbl bubbl ooh pleasur feel like never act regular click click click post drip drip drip gold quick quick quick let go kiss take cloth imagin world like imagin world like go like til sleep chest love face fit good neck imagin world like imagin world', 'get tire no show get tire control yuh keep tell let go realli let go say yuh yuh keep give peopl blank stare yeah differ not yuh like someth shakespear realli not not tri fight energi everytim think free yeah get high call regular get weak fall like teenag oh god keep bring back', 'darl love til babi heart could still fall hard think bout peopl fall love mysteri way mayb touch hand oh fall love everi singl day wanna tell honey take love arm kiss under light thousand star place head beat heart think loud mayb found love right', 'put heart hand learn lesson teach no matter wherev not hard reach given best gift ever known give purpos everyday give purpos everi way oh everyth oh everyth', 'well let tell stori girl boy fell love best friend around feel noth joy alreadi broken made blind could never believ love would ever treat right know love not awar smile face goin nowher make happi see smile want tell long gonna make fall love know got wall wrap way around heart scare oh love fli unless let fli unless let fall', 'rememb break down front door crawlin front door rememb tri best friend tire last friend follow home feell know make hard alon make hard alon still look keep come back keep come back', 'found feel alon found', 'purpos dream night someon pleas tell wonder see mansion hill perfect woman know real daydream day dreamer daydream woman seem sleep enough lucidli float life', 'need need need need sure', 'know think like put down someth way say alright want want', 'bottom ocean bottom sea know make back home stuck dream', 'look good yeah look sweet hey lookin good enough eat coldest kiss call ice cream catch fridg right ice look good yeah look sweet babi deserv treat diamond wrist call ice cream doubl dip caus know like', 'got everi right beauti life c mon say say not perfect say not worth say onli one hurt trust price beauti say not pretti say not beauti say funni thing noth funni tell em mean keep white truth like work art never get see light keep beneath star let touch sky', 'onli one call away save day superman got noth onli one call away call babi need friend wanna give love c mon c mon c mon reach take chanc no matter go know not alon onli one call away', 'start kiss mama couch noth seriou know caught feel got realli real good true guess thought yeah run away run away run away oh love everyth everyth everyth know gettin late gettin late gettin late still way way yeah know said goodby babi said touch feel like cheat thought better found someon new touch feel like cheat', 'warn play fire tell one time trust no good health mess heart reason rememb told worri oversea tour okay without said nothin hide left long ago known lie']\n"
          ]
        }
      ]
    },
    {
      "cell_type": "markdown",
      "metadata": {
        "id": "hV0uWOYCQWKF"
      },
      "source": [
        "Creating the bag of words modal"
      ]
    },
    {
      "cell_type": "code",
      "metadata": {
        "id": "PRT_E8GkQY4x"
      },
      "source": [
        "from sklearn.feature_extraction.text import CountVectorizer\n",
        "cv = CountVectorizer(max_features = 1500)\n",
        "X = cv.fit_transform(corpus).toarray()\n",
        "y = modifiedDF.iloc[0:799, -1].values"
      ],
      "execution_count": 16,
      "outputs": []
    },
    {
      "cell_type": "code",
      "metadata": {
        "colab": {
          "base_uri": "https://localhost:8080/"
        },
        "id": "LMww1MtmRTE0",
        "outputId": "61f2173b-6434-4753-f9a4-5860484d3b30"
      },
      "source": [
        "X"
      ],
      "execution_count": 17,
      "outputs": [
        {
          "output_type": "execute_result",
          "data": {
            "text/plain": [
              "array([[0, 0, 0, ..., 0, 0, 0],\n",
              "       [0, 0, 0, ..., 0, 0, 0],\n",
              "       [0, 0, 0, ..., 0, 0, 0],\n",
              "       ...,\n",
              "       [0, 0, 0, ..., 0, 0, 0],\n",
              "       [0, 0, 0, ..., 0, 0, 0],\n",
              "       [0, 0, 0, ..., 0, 0, 0]])"
            ]
          },
          "metadata": {},
          "execution_count": 17
        }
      ]
    },
    {
      "cell_type": "code",
      "metadata": {
        "colab": {
          "base_uri": "https://localhost:8080/"
        },
        "id": "u4OdIqTNRZ6k",
        "outputId": "ff8074ea-1555-4ef1-a004-e91be454b04b"
      },
      "source": [
        "y"
      ],
      "execution_count": 18,
      "outputs": [
        {
          "output_type": "execute_result",
          "data": {
            "text/plain": [
              "array(['Inspiration', 'Inspiration', 'Inspiration', 'Sad', 'Love',\n",
              "       'Inspiration', 'Sad', 'Sad', 'Sad', 'Happy', 'Love', 'Inspiration',\n",
              "       'Love', 'Inspiration', 'Inspiration', 'Angry', 'Inspiration',\n",
              "       'Angry', 'Sad', 'Love', 'Sad', 'Inspiration', 'Sad', 'Sad', 'Love',\n",
              "       'Sad', 'Love', 'Sad', 'Calm', 'Angry', 'Love', 'Inspiration',\n",
              "       'Love', 'Love', 'Angry', 'Sad', 'Sad', 'Sad', 'Sad', 'Sad', 'Sad',\n",
              "       'Happy', 'Happy', 'Love', 'Inspiration', 'Love', 'Calm', 'Sad',\n",
              "       'Inspiration', 'Love', 'Inspiration', 'Love', 'Inspiration',\n",
              "       'Love', 'Inspiration', 'Inspiration', 'Love', 'Calm', 'Angry',\n",
              "       'Inspiration', 'Angry', 'Angry', 'Angry', 'Love', 'Inspiration',\n",
              "       'Sad', 'Sad', 'Inspiration', 'Inspiration', 'Happy', 'Angry',\n",
              "       'Inspiration', 'Sad', 'Inspiration', 'Sad', 'Inspiration', 'Sad',\n",
              "       'Sad', 'Calm', 'Inspiration', 'Love', 'Love', 'Sad', 'Inspiration',\n",
              "       'Inspiration', 'Inspiration', 'Love', 'Inspiration', 'Inspiration',\n",
              "       'Love', 'Sad', 'Happy', 'Love', 'Angry', 'Sad', 'Calm', 'Happy',\n",
              "       'Angry', 'Happy', 'Love', 'Love', 'Love', 'Happy', 'Love', 'Sad',\n",
              "       'Angry', 'Love', 'Happy', 'Love', 'Sad', 'Love', 'Happy', 'Happy',\n",
              "       'Happy', 'Love', 'Sad', 'Happy', 'Happy', 'Happy', 'Love', 'Happy',\n",
              "       'Inspiration', 'Happy', 'Angry', 'Inspiration', 'Happy', 'Happy',\n",
              "       'Angry', 'Happy', 'Inspiration', 'Love', 'Love', 'Happy', 'Love',\n",
              "       'Love', 'Sad', 'Inspiration', 'Sad', 'Calm', 'Love', 'Sad', 'Sad',\n",
              "       'Love', 'Inspiration', 'Love', 'Sad', 'Sad', 'Love', 'Love', 'Sad',\n",
              "       'Happy', 'Happy', 'Love', 'Love', 'Angry', 'Sad', 'Angry',\n",
              "       'Inspiration', 'Angry', 'Inspiration', 'Angry', 'Angry', 'Angry',\n",
              "       'Inspiration', 'Angry', 'Inspiration', 'Sad', 'Sad', 'Inspiration',\n",
              "       'Inspiration', 'Inspiration', 'Angry', 'Love', 'Angry', 'Calm',\n",
              "       'Love', 'Sad', 'Sad', 'Sad', 'Love', 'Sad', 'Angry', 'Sad',\n",
              "       'Inspiration', 'Love', 'Inspiration', 'Sad', 'Sad', 'Sad', 'Sad',\n",
              "       'Inspiration', 'Inspiration', 'Inspiration', 'Inspiration',\n",
              "       'Happy', 'Inspiration', 'Inspiration', 'Inspiration',\n",
              "       'Inspiration', 'Inspiration', 'Inspiration', 'Sad', 'Inspiration',\n",
              "       'Calm', 'Love', 'Love', 'Love', 'Sad', 'Happy', 'Sad', 'Love',\n",
              "       'Calm', 'Love', 'Love', 'Sad', 'Love', 'Love', 'Sad', 'Sad',\n",
              "       'Inspiration', 'Sad', 'Inspiration', 'Angry', 'Happy', 'Sad',\n",
              "       'Calm', 'Angry', 'Angry', 'Happy', 'Happy', 'Angry', 'Angry',\n",
              "       'Angry', 'Inspiration', 'Happy', 'Sad', 'Sad', 'Inspiration',\n",
              "       'Sad', 'Sad', 'Sad', 'Sad', 'Sad', 'Sad', 'Sad', 'Sad', 'Sad',\n",
              "       'Sad', 'Love', 'Sad', 'Sad', 'Inspiration', 'Inspiration', 'Sad',\n",
              "       'Calm', 'Calm', 'Calm', 'Love', 'Calm', 'Happy', 'Sad', 'Love',\n",
              "       'Calm', 'Sad', 'Love', 'Love', 'Calm', 'Love', 'Sad', 'Calm',\n",
              "       'Love', 'Love', 'Sad', 'Happy', 'Calm', 'Calm', 'Love', 'Love',\n",
              "       'Angry', 'Sad', 'Sad', 'Love', 'Sad', 'Sad', 'Sad', 'Sad', 'Sad',\n",
              "       'Love', 'Sad', 'Happy', 'Sad', 'Sad', 'Sad', 'Sad', 'Sad', 'Love',\n",
              "       'Inspiration', 'Sad', 'Inspiration', 'Love', 'Sad', 'Sad', 'Happy',\n",
              "       'Sad', 'Calm', 'Calm', 'Sad', 'Love', 'Inspiration', 'Inspiration',\n",
              "       'Love', 'Sad', 'Calm', 'Inspiration', 'Inspiration', 'Inspiration',\n",
              "       'Inspiration', 'Happy', 'Inspiration', 'Calm', 'Happy', 'Sad',\n",
              "       'Calm', 'Love', 'Love', 'Love', 'Happy', 'Love', 'Sad', 'Sad',\n",
              "       'Love', 'Love', 'Love', 'Love', 'Inspiration', 'Love',\n",
              "       'Inspiration', 'Inspiration', 'Inspiration', 'Inspiration',\n",
              "       'Angry', 'Sad', 'Angry', 'Inspiration', 'Inspiration', 'Happy',\n",
              "       'Happy', 'Happy', 'Happy', 'Inspiration', 'Inspiration', 'Sad',\n",
              "       'Angry', 'Happy', 'Angry', 'Happy', 'Happy', 'Inspiration',\n",
              "       'Inspiration', 'Happy', 'Happy', 'Inspiration', 'Inspiration',\n",
              "       'Inspiration', 'Inspiration', 'Love', 'Happy', 'Calm', 'Calm',\n",
              "       'Sad', 'Inspiration', 'Happy', 'Love', 'Inspiration',\n",
              "       'Inspiration', 'Happy', 'Happy', 'Sad', 'Love', 'Inspiration',\n",
              "       'Happy', 'Happy', 'Inspiration', 'Love', 'Inspiration', 'Love',\n",
              "       'Inspiration', 'Sad', 'Inspiration', 'Happy', 'Angry',\n",
              "       'Inspiration', 'Sad', 'Love', 'Sad', 'Love', 'Angry', 'Happy',\n",
              "       'Love', 'Calm', 'Happy', 'Sad', 'Inspiration', 'Angry', 'Sad',\n",
              "       'Angry', 'Angry', 'Sad', 'Love', 'Sad', 'Sad', 'Angry', 'Sad',\n",
              "       'Calm', 'Angry', 'Sad', 'Calm', 'Sad', 'Happy', 'Sad', 'Sad',\n",
              "       'Calm', 'Inspiration', 'Calm', 'Calm', 'Calm', 'Angry', 'Sad',\n",
              "       'Sad', 'Happy', 'Love', 'Calm', 'Love', 'Love', 'Love', 'Calm',\n",
              "       'Happy', 'Love', 'Sad', 'Sad', 'Inspiration', 'Angry', 'Calm',\n",
              "       'Angry', 'Happy', 'Love', 'Happy', 'Calm', 'Happy', 'Happy', 'Sad',\n",
              "       'Sad', 'Happy', 'Happy', 'Love', 'Love', 'Happy', 'Happy', 'Happy',\n",
              "       'Happy', 'Calm', 'Calm', 'Love', 'Calm', 'Calm', 'Happy', 'Happy',\n",
              "       'Sad', 'Calm', 'Calm', 'Calm', 'Happy', 'Happy', 'Happy', 'Love',\n",
              "       'Love', 'Sad', 'Sad', 'Happy', 'Love', 'Sad', 'Love', 'Happy',\n",
              "       'Love', 'Happy', 'Sad', 'Happy', 'Love', 'Sad', 'Sad', 'Happy',\n",
              "       'Sad', 'Happy', 'Angry', 'Happy', 'Happy', 'Happy', 'Sad', 'Love',\n",
              "       'Inspiration', 'Happy', 'Happy', 'Angry', 'Angry', 'Sad', 'Love',\n",
              "       'Happy', 'Sad', 'Angry', 'Sad', 'Happy', 'Love', 'Calm', 'Angry',\n",
              "       'Love', 'Love', 'Sad', 'Happy', 'Love', 'Calm', 'Sad', 'Love',\n",
              "       'Happy', 'Inspiration', 'Happy', 'Sad', 'Love', 'Calm', 'Sad',\n",
              "       'Love', 'Happy', 'Inspiration', 'Sad', 'Inspiration', 'Sad',\n",
              "       'Calm', 'Inspiration', 'Inspiration', 'Happy', 'Love', 'Happy',\n",
              "       'Angry', 'Love', 'Love', 'Angry', 'Calm', 'Angry', 'Sad', 'Angry',\n",
              "       'Sad', 'Inspiration', 'Calm', 'Inspiration', 'Calm', 'Inspiration',\n",
              "       'Inspiration', 'Inspiration', 'Calm', 'Calm', 'Calm', 'Sad',\n",
              "       'Inspiration', 'Inspiration', 'Calm', 'Calm', 'Sad', 'Sad',\n",
              "       'Happy', 'Happy', 'Love', 'Love', 'Sad', 'Inspiration', 'Happy',\n",
              "       'Love', 'Calm', 'Love', 'Happy', 'Love', 'Calm', 'Happy', 'Love',\n",
              "       'Calm', 'Inspiration', 'Angry', 'Angry', 'Love', 'Sad', 'Love',\n",
              "       'Inspiration', 'Inspiration', 'Love', 'Happy', 'Happy', 'Sad',\n",
              "       'Sad', 'Love', 'Calm', 'Calm', 'Inspiration', 'Love', 'Sad',\n",
              "       'Inspiration', 'Inspiration', 'Sad', 'Inspiration', 'Calm',\n",
              "       'Inspiration', 'Sad', 'Inspiration', 'Sad', 'Sad', 'Sad', 'Sad',\n",
              "       'Inspiration', 'Inspiration', 'Sad', 'Inspiration', 'Inspiration',\n",
              "       'Sad', 'Angry', 'Inspiration', 'Inspiration', 'Sad', 'Inspiration',\n",
              "       'Sad', 'Sad', 'Inspiration', 'Angry', 'Inspiration', 'Inspiration',\n",
              "       'Sad', 'Sad', 'Sad', 'Sad', 'Inspiration', 'Happy', 'Angry',\n",
              "       'Inspiration', 'Happy', 'Happy', 'Happy', 'Sad', 'Sad', 'Sad',\n",
              "       'Sad', 'Sad', 'Angry', 'Inspiration', 'Sad', 'Love', 'Calm',\n",
              "       'Calm', 'Calm', 'Calm', 'Happy', 'Calm', 'Calm', 'Happy', 'Happy',\n",
              "       'Love', 'Love', 'Sad', 'Calm', 'Happy', 'Love', 'Calm', 'Angry',\n",
              "       'Sad', 'Angry', 'Sad', 'Inspiration', 'Happy', 'Happy', 'Sad',\n",
              "       'Inspiration', 'Love', 'Inspiration', 'Inspiration', 'Inspiration',\n",
              "       'Love', 'Sad', 'Happy', 'Sad', 'Happy', 'Happy', 'Love', 'Love',\n",
              "       'Sad', 'Inspiration', 'Love', 'Inspiration', 'Sad', 'Calm', 'Sad',\n",
              "       'Happy', 'Sad', 'Sad', 'Calm', 'Calm', 'Calm', 'Calm', 'Happy',\n",
              "       'Happy', 'Happy', 'Happy', 'Happy', 'Sad', 'Sad', 'Sad', 'Angry',\n",
              "       'Happy', 'Calm', 'Sad', 'Calm', 'Happy', 'Happy', 'Love', 'Happy',\n",
              "       'Happy', 'Calm', 'Inspiration', 'Calm', 'Sad', 'Sad', 'Love',\n",
              "       'Sad', 'Sad', 'Inspiration', 'Sad', 'Sad', 'Angry', 'Sad', 'Sad',\n",
              "       'Sad', 'Inspiration', 'Sad', 'Sad', 'Sad', 'Sad', 'Angry', 'Calm',\n",
              "       'Sad', 'Calm', 'Love', 'Sad', 'Sad', 'Sad', 'Love', 'Sad',\n",
              "       'Inspiration', 'Sad', 'Happy', 'Calm', 'Love', 'Sad',\n",
              "       'Inspiration', 'Sad', 'Happy', 'Sad', 'Happy', 'Angry', 'Angry',\n",
              "       'Happy', 'Sad', 'Love', 'Angry', 'Angry', 'Sad', 'Happy', 'Sad',\n",
              "       'Happy', 'Calm', 'Sad', 'Sad', 'Calm', 'Sad', 'Sad', 'Happy',\n",
              "       'Sad', 'Sad', 'Sad', 'Love', 'Happy', 'Sad', 'Love', 'Love',\n",
              "       'Love', 'Calm', 'Sad', 'Calm', 'Love', 'Sad', 'Sad', 'Happy',\n",
              "       'Inspiration', 'Inspiration', 'Sad', 'Sad'], dtype=object)"
            ]
          },
          "metadata": {},
          "execution_count": 18
        }
      ]
    },
    {
      "cell_type": "markdown",
      "metadata": {
        "id": "PmG9-Z7PQyea"
      },
      "source": [
        "Splitting the dataset into the Training set and Test set"
      ]
    },
    {
      "cell_type": "code",
      "metadata": {
        "id": "PShXt3tuQzIx"
      },
      "source": [
        "from sklearn.model_selection import train_test_split\n",
        "X_train, X_test, y_train, y_test = train_test_split(X, y, test_size = 0.2, random_state = 0)"
      ],
      "execution_count": 19,
      "outputs": []
    },
    {
      "cell_type": "markdown",
      "metadata": {
        "id": "8o6BdfkSRnnC"
      },
      "source": [
        "## Training the Random Forest Classification model on the Training set"
      ]
    },
    {
      "cell_type": "code",
      "metadata": {
        "colab": {
          "base_uri": "https://localhost:8080/"
        },
        "id": "2TdKzzyyRoNv",
        "outputId": "3fb2d4a2-6031-4d8b-fb38-7ed1d60b15d1"
      },
      "source": [
        "from sklearn.ensemble import RandomForestClassifier\n",
        "classifier = RandomForestClassifier(n_estimators = 150, criterion = 'entropy', random_state = 0)\n",
        "classifier.fit(X_train, y_train)"
      ],
      "execution_count": 20,
      "outputs": [
        {
          "output_type": "execute_result",
          "data": {
            "text/plain": [
              "RandomForestClassifier(criterion='entropy', n_estimators=150, random_state=0)"
            ]
          },
          "metadata": {},
          "execution_count": 20
        }
      ]
    },
    {
      "cell_type": "markdown",
      "metadata": {
        "id": "maG3b8yiRup0"
      },
      "source": [
        "Predicting the Test set results"
      ]
    },
    {
      "cell_type": "code",
      "metadata": {
        "colab": {
          "base_uri": "https://localhost:8080/"
        },
        "id": "56RB62bSRvbY",
        "outputId": "08f2276d-5cc0-45f9-b8cd-c25eaea4d592"
      },
      "source": [
        "y_pred = classifier.predict(X_test)\n",
        "print(np.concatenate((y_pred.reshape(len(y_pred),1), y_test.reshape(len(y_test),1)),1))"
      ],
      "execution_count": 21,
      "outputs": [
        {
          "output_type": "stream",
          "name": "stdout",
          "text": [
            "[['Happy' 'Calm']\n",
            " ['Sad' 'Inspiration']\n",
            " ['Calm' 'Happy']\n",
            " ['Sad' 'Sad']\n",
            " ['Inspiration' 'Happy']\n",
            " ['Love' 'Love']\n",
            " ['Sad' 'Sad']\n",
            " ['Sad' 'Sad']\n",
            " ['Angry' 'Angry']\n",
            " ['Calm' 'Calm']\n",
            " ['Inspiration' 'Inspiration']\n",
            " ['Love' 'Sad']\n",
            " ['Sad' 'Angry']\n",
            " ['Calm' 'Happy']\n",
            " ['Sad' 'Sad']\n",
            " ['Inspiration' 'Inspiration']\n",
            " ['Calm' 'Calm']\n",
            " ['Inspiration' 'Inspiration']\n",
            " ['Sad' 'Angry']\n",
            " ['Sad' 'Happy']\n",
            " ['Inspiration' 'Sad']\n",
            " ['Sad' 'Happy']\n",
            " ['Inspiration' 'Inspiration']\n",
            " ['Love' 'Sad']\n",
            " ['Sad' 'Love']\n",
            " ['Calm' 'Sad']\n",
            " ['Love' 'Angry']\n",
            " ['Sad' 'Love']\n",
            " ['Love' 'Love']\n",
            " ['Love' 'Love']\n",
            " ['Sad' 'Calm']\n",
            " ['Happy' 'Calm']\n",
            " ['Inspiration' 'Inspiration']\n",
            " ['Love' 'Love']\n",
            " ['Calm' 'Calm']\n",
            " ['Sad' 'Inspiration']\n",
            " ['Sad' 'Sad']\n",
            " ['Sad' 'Happy']\n",
            " ['Sad' 'Angry']\n",
            " ['Love' 'Inspiration']\n",
            " ['Happy' 'Happy']\n",
            " ['Sad' 'Inspiration']\n",
            " ['Sad' 'Inspiration']\n",
            " ['Happy' 'Happy']\n",
            " ['Sad' 'Calm']\n",
            " ['Sad' 'Calm']\n",
            " ['Calm' 'Calm']\n",
            " ['Sad' 'Sad']\n",
            " ['Happy' 'Love']\n",
            " ['Love' 'Love']\n",
            " ['Inspiration' 'Love']\n",
            " ['Love' 'Love']\n",
            " ['Love' 'Love']\n",
            " ['Love' 'Inspiration']\n",
            " ['Happy' 'Sad']\n",
            " ['Sad' 'Happy']\n",
            " ['Love' 'Inspiration']\n",
            " ['Sad' 'Sad']\n",
            " ['Sad' 'Sad']\n",
            " ['Sad' 'Love']\n",
            " ['Happy' 'Happy']\n",
            " ['Love' 'Sad']\n",
            " ['Sad' 'Inspiration']\n",
            " ['Calm' 'Inspiration']\n",
            " ['Sad' 'Sad']\n",
            " ['Calm' 'Sad']\n",
            " ['Happy' 'Happy']\n",
            " ['Sad' 'Love']\n",
            " ['Sad' 'Sad']\n",
            " ['Sad' 'Sad']\n",
            " ['Happy' 'Inspiration']\n",
            " ['Sad' 'Inspiration']\n",
            " ['Sad' 'Inspiration']\n",
            " ['Sad' 'Happy']\n",
            " ['Happy' 'Sad']\n",
            " ['Calm' 'Inspiration']\n",
            " ['Happy' 'Happy']\n",
            " ['Love' 'Happy']\n",
            " ['Love' 'Love']\n",
            " ['Happy' 'Angry']\n",
            " ['Sad' 'Sad']\n",
            " ['Happy' 'Sad']\n",
            " ['Happy' 'Happy']\n",
            " ['Love' 'Inspiration']\n",
            " ['Love' 'Love']\n",
            " ['Love' 'Love']\n",
            " ['Sad' 'Calm']\n",
            " ['Happy' 'Happy']\n",
            " ['Happy' 'Happy']\n",
            " ['Sad' 'Sad']\n",
            " ['Sad' 'Inspiration']\n",
            " ['Inspiration' 'Happy']\n",
            " ['Inspiration' 'Inspiration']\n",
            " ['Sad' 'Calm']\n",
            " ['Sad' 'Inspiration']\n",
            " ['Sad' 'Sad']\n",
            " ['Sad' 'Angry']\n",
            " ['Happy' 'Inspiration']\n",
            " ['Sad' 'Inspiration']\n",
            " ['Happy' 'Inspiration']\n",
            " ['Calm' 'Love']\n",
            " ['Love' 'Love']\n",
            " ['Love' 'Sad']\n",
            " ['Calm' 'Sad']\n",
            " ['Sad' 'Sad']\n",
            " ['Happy' 'Angry']\n",
            " ['Love' 'Sad']\n",
            " ['Sad' 'Happy']\n",
            " ['Sad' 'Sad']\n",
            " ['Sad' 'Sad']\n",
            " ['Happy' 'Happy']\n",
            " ['Happy' 'Inspiration']\n",
            " ['Sad' 'Sad']\n",
            " ['Angry' 'Angry']\n",
            " ['Calm' 'Angry']\n",
            " ['Sad' 'Happy']\n",
            " ['Calm' 'Calm']\n",
            " ['Sad' 'Sad']\n",
            " ['Sad' 'Angry']\n",
            " ['Love' 'Sad']\n",
            " ['Sad' 'Love']\n",
            " ['Sad' 'Love']\n",
            " ['Happy' 'Love']\n",
            " ['Sad' 'Sad']\n",
            " ['Inspiration' 'Inspiration']\n",
            " ['Sad' 'Love']\n",
            " ['Love' 'Sad']\n",
            " ['Sad' 'Sad']\n",
            " ['Sad' 'Calm']\n",
            " ['Happy' 'Love']\n",
            " ['Sad' 'Happy']\n",
            " ['Happy' 'Happy']\n",
            " ['Love' 'Inspiration']\n",
            " ['Happy' 'Love']\n",
            " ['Love' 'Sad']\n",
            " ['Love' 'Happy']\n",
            " ['Inspiration' 'Inspiration']\n",
            " ['Sad' 'Sad']\n",
            " ['Happy' 'Sad']\n",
            " ['Sad' 'Happy']\n",
            " ['Sad' 'Love']\n",
            " ['Sad' 'Sad']\n",
            " ['Sad' 'Calm']\n",
            " ['Love' 'Love']\n",
            " ['Sad' 'Inspiration']\n",
            " ['Inspiration' 'Calm']\n",
            " ['Sad' 'Sad']\n",
            " ['Sad' 'Inspiration']\n",
            " ['Love' 'Love']\n",
            " ['Sad' 'Sad']\n",
            " ['Love' 'Love']\n",
            " ['Happy' 'Happy']\n",
            " ['Calm' 'Sad']\n",
            " ['Calm' 'Sad']\n",
            " ['Sad' 'Inspiration']\n",
            " ['Sad' 'Inspiration']\n",
            " ['Sad' 'Calm']\n",
            " ['Love' 'Love']\n",
            " ['Inspiration' 'Calm']\n",
            " ['Sad' 'Sad']]\n"
          ]
        }
      ]
    },
    {
      "cell_type": "markdown",
      "metadata": {
        "id": "2Uiv0xDxR7c9"
      },
      "source": [
        "Making the Confusion Matrix"
      ]
    },
    {
      "cell_type": "code",
      "metadata": {
        "colab": {
          "base_uri": "https://localhost:8080/"
        },
        "id": "-taVWdyIR79B",
        "outputId": "3d786fc1-7d8d-416b-cf75-00f8db57c304"
      },
      "source": [
        "from sklearn.metrics import confusion_matrix, accuracy_score\n",
        "cm = confusion_matrix(y_test, y_pred)\n",
        "print(cm)\n",
        "accuracy_score(y_test, y_pred)"
      ],
      "execution_count": 22,
      "outputs": [
        {
          "output_type": "stream",
          "name": "stdout",
          "text": [
            "[[ 2  1  2  0  1  5]\n",
            " [ 0  5  2  2  0  8]\n",
            " [ 0  2 11  2  2  9]\n",
            " [ 0  2  4  8  5 14]\n",
            " [ 0  1  4  1 15  8]\n",
            " [ 0  5  4  1  8 26]]\n"
          ]
        },
        {
          "output_type": "execute_result",
          "data": {
            "text/plain": [
              "0.41875"
            ]
          },
          "metadata": {},
          "execution_count": 22
        }
      ]
    },
    {
      "cell_type": "markdown",
      "metadata": {
        "id": "RUsVbKXOUWsd"
      },
      "source": [
        "Appyling K-fold cross validation"
      ]
    },
    {
      "cell_type": "code",
      "metadata": {
        "colab": {
          "base_uri": "https://localhost:8080/"
        },
        "id": "NY8gdWjGEmIK",
        "outputId": "6408f92a-38ca-4c31-8523-16ae5f50147a"
      },
      "source": [
        "from sklearn.model_selection import cross_val_score\n",
        "accuracies = cross_val_score(estimator = classifier, X = X_train, y = y_train, cv = 2)\n",
        "print(\"Accuracy: {:.2f} %\".format(accuracies.mean()*100))\n",
        "print(\"Standard Deviation: {:.2f} %\".format(accuracies.std()*100))"
      ],
      "execution_count": 23,
      "outputs": [
        {
          "output_type": "stream",
          "name": "stdout",
          "text": [
            "Accuracy: 42.72 %\n",
            "Standard Deviation: 0.09 %\n"
          ]
        }
      ]
    },
    {
      "cell_type": "code",
      "metadata": {
        "colab": {
          "base_uri": "https://localhost:8080/"
        },
        "id": "Sl-4bKUMUZro",
        "outputId": "066ac53a-243c-4722-93d4-9bab1291f76e"
      },
      "source": [
        "from sklearn.model_selection import cross_val_score\n",
        "accuracies = cross_val_score(estimator = classifier, X = X_train, y = y_train, cv = 3)\n",
        "print(\"Accuracy: {:.2f} %\".format(accuracies.mean()*100))\n",
        "print(\"Standard Deviation: {:.2f} %\".format(accuracies.std()*100))"
      ],
      "execution_count": 24,
      "outputs": [
        {
          "output_type": "stream",
          "name": "stdout",
          "text": [
            "Accuracy: 43.51 %\n",
            "Standard Deviation: 0.96 %\n"
          ]
        }
      ]
    },
    {
      "cell_type": "code",
      "metadata": {
        "colab": {
          "base_uri": "https://localhost:8080/"
        },
        "id": "t6aNsJw1trtF",
        "outputId": "4994a001-ca9a-4f66-933d-7e0833e09ef3"
      },
      "source": [
        "from sklearn.model_selection import cross_val_score\n",
        "accuracies = cross_val_score(estimator = classifier, X = X_train, y = y_train, cv = 4)\n",
        "print(\"Accuracy: {:.2f} %\".format(accuracies.mean()*100))\n",
        "print(\"Standard Deviation: {:.2f} %\".format(accuracies.std()*100))"
      ],
      "execution_count": 25,
      "outputs": [
        {
          "output_type": "stream",
          "name": "stdout",
          "text": [
            "Accuracy: 43.97 %\n",
            "Standard Deviation: 0.82 %\n"
          ]
        }
      ]
    },
    {
      "cell_type": "code",
      "metadata": {
        "colab": {
          "base_uri": "https://localhost:8080/"
        },
        "id": "PqL3rJ_tWA9b",
        "outputId": "99ad8458-02cf-4dd2-ee77-1ac8be1d030a"
      },
      "source": [
        "from sklearn.model_selection import cross_val_score\n",
        "accuracies = cross_val_score(estimator = classifier, X = X_train, y = y_train, cv = 5)\n",
        "print(\"Accuracy: {:.2f} %\".format(accuracies.mean()*100))\n",
        "print(\"Standard Deviation: {:.2f} %\".format(accuracies.std()*100))"
      ],
      "execution_count": 26,
      "outputs": [
        {
          "output_type": "stream",
          "name": "stdout",
          "text": [
            "Accuracy: 44.91 %\n",
            "Standard Deviation: 2.45 %\n"
          ]
        }
      ]
    },
    {
      "cell_type": "code",
      "metadata": {
        "colab": {
          "base_uri": "https://localhost:8080/"
        },
        "id": "DZ_8X1zjtvC6",
        "outputId": "1f89779e-55eb-495d-c234-7155d2e3992d"
      },
      "source": [
        "from sklearn.model_selection import cross_val_score\n",
        "accuracies = cross_val_score(estimator = classifier, X = X_train, y = y_train, cv = 6)\n",
        "print(\"Accuracy: {:.2f} %\".format(accuracies.mean()*100))\n",
        "print(\"Standard Deviation: {:.2f} %\".format(accuracies.std()*100))"
      ],
      "execution_count": 27,
      "outputs": [
        {
          "output_type": "stream",
          "name": "stdout",
          "text": [
            "Accuracy: 45.24 %\n",
            "Standard Deviation: 3.18 %\n"
          ]
        }
      ]
    },
    {
      "cell_type": "code",
      "metadata": {
        "colab": {
          "base_uri": "https://localhost:8080/"
        },
        "id": "yy5sqReMtymm",
        "outputId": "d7a09c3d-14d7-47fd-c6e0-9934eaae16d0"
      },
      "source": [
        "from sklearn.model_selection import cross_val_score\n",
        "accuracies = cross_val_score(estimator = classifier, X = X_train, y = y_train, cv = 7)\n",
        "print(\"Accuracy: {:.2f} %\".format(accuracies.mean()*100))\n",
        "print(\"Standard Deviation: {:.2f} %\".format(accuracies.std()*100))"
      ],
      "execution_count": 28,
      "outputs": [
        {
          "output_type": "stream",
          "name": "stdout",
          "text": [
            "Accuracy: 43.03 %\n",
            "Standard Deviation: 3.20 %\n"
          ]
        }
      ]
    },
    {
      "cell_type": "code",
      "metadata": {
        "colab": {
          "base_uri": "https://localhost:8080/"
        },
        "id": "TSRCA3NOWFdI",
        "outputId": "f165b28c-fce1-441d-ef87-45265739a41c"
      },
      "source": [
        "from sklearn.model_selection import cross_val_score\n",
        "accuracies = cross_val_score(estimator = classifier, X = X_train, y = y_train, cv = 8)\n",
        "print(\"Accuracy: {:.2f} %\".format(accuracies.mean()*100))\n",
        "print(\"Standard Deviation: {:.2f} %\".format(accuracies.std()*100))"
      ],
      "execution_count": 29,
      "outputs": [
        {
          "output_type": "stream",
          "name": "stdout",
          "text": [
            "Accuracy: 44.44 %\n",
            "Standard Deviation: 3.19 %\n"
          ]
        }
      ]
    },
    {
      "cell_type": "code",
      "source": [
        "from sklearn.model_selection import cross_val_score\n",
        "accuracies = cross_val_score(estimator = classifier, X = X_train, y = y_train, cv = 10)\n",
        "print(\"Accuracy: {:.2f} %\".format(accuracies.mean()*100))\n",
        "print(\"Standard Deviation: {:.2f} %\".format(accuracies.std()*100))"
      ],
      "metadata": {
        "colab": {
          "base_uri": "https://localhost:8080/"
        },
        "id": "LX9b-8K2GPuX",
        "outputId": "6009d305-0094-448d-bed8-5904f1b82e60"
      },
      "execution_count": 30,
      "outputs": [
        {
          "output_type": "stream",
          "name": "stdout",
          "text": [
            "Accuracy: 45.39 %\n",
            "Standard Deviation: 6.83 %\n"
          ]
        }
      ]
    },
    {
      "cell_type": "markdown",
      "metadata": {
        "id": "v0F-06ZVDaG2"
      },
      "source": [
        "## Applying Grid Search to find the best model and the best parameters"
      ]
    },
    {
      "cell_type": "code",
      "metadata": {
        "colab": {
          "base_uri": "https://localhost:8080/"
        },
        "id": "VBp1ouDyDl0k",
        "outputId": "a04967bb-3fe3-4b76-cc3a-a0011baff97a"
      },
      "source": [
        "from sklearn.model_selection import GridSearchCV\n",
        "parameters = [{'criterion' : ['entropy','gini'], 'n_estimators' : [10,20,40,50,80,100,120,140,150,200]}]\n",
        "grid_search = GridSearchCV(estimator = classifier,\n",
        "                           param_grid = parameters,\n",
        "                           scoring = 'accuracy',\n",
        "                           cv = 10,\n",
        "                           n_jobs = -1)\n",
        "grid_search.fit(X_train, y_train)\n",
        "best_accuracy = grid_search.best_score_\n",
        "best_parameters = grid_search.best_params_\n",
        "print(\"Best Accuracy: {:.2f} %\".format(best_accuracy*100))\n",
        "print(\"Best Parameters:\", best_parameters)"
      ],
      "execution_count": 31,
      "outputs": [
        {
          "output_type": "stream",
          "name": "stdout",
          "text": [
            "Best Accuracy: 46.96 %\n",
            "Best Parameters: {'criterion': 'gini', 'n_estimators': 80}\n"
          ]
        }
      ]
    }
  ]
}