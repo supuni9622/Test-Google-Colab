{
  "nbformat": 4,
  "nbformat_minor": 0,
  "metadata": {
    "colab": {
      "name": "Music Classification_3.ipynb",
      "provenance": [],
      "mount_file_id": "1glxtRRwIeBH4clgvIL9_q8NyJMObl1B_",
      "authorship_tag": "ABX9TyOXTX1j6G7BrD0ZoXSz0iL1",
      "include_colab_link": true
    },
    "kernelspec": {
      "name": "python3",
      "display_name": "Python 3"
    },
    "language_info": {
      "name": "python"
    }
  },
  "cells": [
    {
      "cell_type": "markdown",
      "metadata": {
        "id": "view-in-github",
        "colab_type": "text"
      },
      "source": [
        "<a href=\"https://colab.research.google.com/github/supuni9622/Test-Google-Colab/blob/main/Music_Classification_3.ipynb\" target=\"_parent\"><img src=\"https://colab.research.google.com/assets/colab-badge.svg\" alt=\"Open In Colab\"/></a>"
      ]
    },
    {
      "cell_type": "code",
      "execution_count": 1,
      "metadata": {
        "colab": {
          "base_uri": "https://localhost:8080/"
        },
        "id": "hOZE2oZqdF7P",
        "outputId": "8a156d9c-5b91-4ee1-d1cc-c4c1484227a0"
      },
      "outputs": [
        {
          "output_type": "stream",
          "name": "stdout",
          "text": [
            "/content/drive/MyDrive/4th Year Research/M3/Test Implementation/Test-Google-Colab/TestV1-Music\n"
          ]
        }
      ],
      "source": [
        "cd /content/drive/MyDrive/4th Year Research/M3/Test Implementation/Test-Google-Colab/TestV1-Music"
      ]
    },
    {
      "cell_type": "code",
      "source": [
        "import numpy as np\n",
        "import matplotlib.pyplot as plt\n",
        "import pandas as pd\n",
        "from keras.models import Sequential\n",
        "from keras.layers import Dense\n",
        "from keras.wrappers.scikit_learn import KerasClassifier\n",
        "from keras.utils import np_utils\n",
        "from sklearn.model_selection import cross_val_score\n",
        "from sklearn.model_selection import KFold\n",
        "from sklearn.preprocessing import LabelEncoder\n",
        "from sklearn.pipeline import Pipeline\n",
        "from sklearn.metrics import plot_confusion_matrix "
      ],
      "metadata": {
        "id": "PyRZ13xufn_E"
      },
      "execution_count": 68,
      "outputs": []
    },
    {
      "cell_type": "code",
      "source": [
        "df = pd.read_csv('Music_DS_6.csv',encoding='cp1252')\n",
        "df = df.dropna(how=\"any\").reset_index(drop=True)\n",
        "df.head()"
      ],
      "metadata": {
        "colab": {
          "base_uri": "https://localhost:8080/",
          "height": 206
        },
        "id": "qrCZ4aZ7fwNx",
        "outputId": "d6054f68-784c-46c4-d9a0-f50776057e89"
      },
      "execution_count": 66,
      "outputs": [
        {
          "output_type": "execute_result",
          "data": {
            "text/html": [
              "\n",
              "  <div id=\"df-8fca40b4-1e2e-4a7f-9467-e4f8f8cd2a9c\">\n",
              "    <div class=\"colab-df-container\">\n",
              "      <div>\n",
              "<style scoped>\n",
              "    .dataframe tbody tr th:only-of-type {\n",
              "        vertical-align: middle;\n",
              "    }\n",
              "\n",
              "    .dataframe tbody tr th {\n",
              "        vertical-align: top;\n",
              "    }\n",
              "\n",
              "    .dataframe thead th {\n",
              "        text-align: right;\n",
              "    }\n",
              "</style>\n",
              "<table border=\"1\" class=\"dataframe\">\n",
              "  <thead>\n",
              "    <tr style=\"text-align: right;\">\n",
              "      <th></th>\n",
              "      <th>Song_ID</th>\n",
              "      <th>Genre</th>\n",
              "      <th>Tempo (bpm)</th>\n",
              "      <th>Loudness (db)</th>\n",
              "      <th>Emotion</th>\n",
              "    </tr>\n",
              "  </thead>\n",
              "  <tbody>\n",
              "    <tr>\n",
              "      <th>0</th>\n",
              "      <td>1</td>\n",
              "      <td>Pop</td>\n",
              "      <td>172</td>\n",
              "      <td>-4</td>\n",
              "      <td>Inspiration</td>\n",
              "    </tr>\n",
              "    <tr>\n",
              "      <th>1</th>\n",
              "      <td>2</td>\n",
              "      <td>Pop</td>\n",
              "      <td>92</td>\n",
              "      <td>-6</td>\n",
              "      <td>Sad</td>\n",
              "    </tr>\n",
              "    <tr>\n",
              "      <th>2</th>\n",
              "      <td>3</td>\n",
              "      <td>Pop</td>\n",
              "      <td>115</td>\n",
              "      <td>-7</td>\n",
              "      <td>Inspiration</td>\n",
              "    </tr>\n",
              "    <tr>\n",
              "      <th>3</th>\n",
              "      <td>4</td>\n",
              "      <td>Pop</td>\n",
              "      <td>117</td>\n",
              "      <td>-5</td>\n",
              "      <td>Inspiration</td>\n",
              "    </tr>\n",
              "    <tr>\n",
              "      <th>4</th>\n",
              "      <td>5</td>\n",
              "      <td>Pop</td>\n",
              "      <td>158</td>\n",
              "      <td>-6</td>\n",
              "      <td>Inspiration</td>\n",
              "    </tr>\n",
              "  </tbody>\n",
              "</table>\n",
              "</div>\n",
              "      <button class=\"colab-df-convert\" onclick=\"convertToInteractive('df-8fca40b4-1e2e-4a7f-9467-e4f8f8cd2a9c')\"\n",
              "              title=\"Convert this dataframe to an interactive table.\"\n",
              "              style=\"display:none;\">\n",
              "        \n",
              "  <svg xmlns=\"http://www.w3.org/2000/svg\" height=\"24px\"viewBox=\"0 0 24 24\"\n",
              "       width=\"24px\">\n",
              "    <path d=\"M0 0h24v24H0V0z\" fill=\"none\"/>\n",
              "    <path d=\"M18.56 5.44l.94 2.06.94-2.06 2.06-.94-2.06-.94-.94-2.06-.94 2.06-2.06.94zm-11 1L8.5 8.5l.94-2.06 2.06-.94-2.06-.94L8.5 2.5l-.94 2.06-2.06.94zm10 10l.94 2.06.94-2.06 2.06-.94-2.06-.94-.94-2.06-.94 2.06-2.06.94z\"/><path d=\"M17.41 7.96l-1.37-1.37c-.4-.4-.92-.59-1.43-.59-.52 0-1.04.2-1.43.59L10.3 9.45l-7.72 7.72c-.78.78-.78 2.05 0 2.83L4 21.41c.39.39.9.59 1.41.59.51 0 1.02-.2 1.41-.59l7.78-7.78 2.81-2.81c.8-.78.8-2.07 0-2.86zM5.41 20L4 18.59l7.72-7.72 1.47 1.35L5.41 20z\"/>\n",
              "  </svg>\n",
              "      </button>\n",
              "      \n",
              "  <style>\n",
              "    .colab-df-container {\n",
              "      display:flex;\n",
              "      flex-wrap:wrap;\n",
              "      gap: 12px;\n",
              "    }\n",
              "\n",
              "    .colab-df-convert {\n",
              "      background-color: #E8F0FE;\n",
              "      border: none;\n",
              "      border-radius: 50%;\n",
              "      cursor: pointer;\n",
              "      display: none;\n",
              "      fill: #1967D2;\n",
              "      height: 32px;\n",
              "      padding: 0 0 0 0;\n",
              "      width: 32px;\n",
              "    }\n",
              "\n",
              "    .colab-df-convert:hover {\n",
              "      background-color: #E2EBFA;\n",
              "      box-shadow: 0px 1px 2px rgba(60, 64, 67, 0.3), 0px 1px 3px 1px rgba(60, 64, 67, 0.15);\n",
              "      fill: #174EA6;\n",
              "    }\n",
              "\n",
              "    [theme=dark] .colab-df-convert {\n",
              "      background-color: #3B4455;\n",
              "      fill: #D2E3FC;\n",
              "    }\n",
              "\n",
              "    [theme=dark] .colab-df-convert:hover {\n",
              "      background-color: #434B5C;\n",
              "      box-shadow: 0px 1px 3px 1px rgba(0, 0, 0, 0.15);\n",
              "      filter: drop-shadow(0px 1px 2px rgba(0, 0, 0, 0.3));\n",
              "      fill: #FFFFFF;\n",
              "    }\n",
              "  </style>\n",
              "\n",
              "      <script>\n",
              "        const buttonEl =\n",
              "          document.querySelector('#df-8fca40b4-1e2e-4a7f-9467-e4f8f8cd2a9c button.colab-df-convert');\n",
              "        buttonEl.style.display =\n",
              "          google.colab.kernel.accessAllowed ? 'block' : 'none';\n",
              "\n",
              "        async function convertToInteractive(key) {\n",
              "          const element = document.querySelector('#df-8fca40b4-1e2e-4a7f-9467-e4f8f8cd2a9c');\n",
              "          const dataTable =\n",
              "            await google.colab.kernel.invokeFunction('convertToInteractive',\n",
              "                                                     [key], {});\n",
              "          if (!dataTable) return;\n",
              "\n",
              "          const docLinkHtml = 'Like what you see? Visit the ' +\n",
              "            '<a target=\"_blank\" href=https://colab.research.google.com/notebooks/data_table.ipynb>data table notebook</a>'\n",
              "            + ' to learn more about interactive tables.';\n",
              "          element.innerHTML = '';\n",
              "          dataTable['output_type'] = 'display_data';\n",
              "          await google.colab.output.renderOutput(dataTable, element);\n",
              "          const docLink = document.createElement('div');\n",
              "          docLink.innerHTML = docLinkHtml;\n",
              "          element.appendChild(docLink);\n",
              "        }\n",
              "      </script>\n",
              "    </div>\n",
              "  </div>\n",
              "  "
            ],
            "text/plain": [
              "   Song_ID Genre  Tempo (bpm)  Loudness (db)      Emotion\n",
              "0        1   Pop          172             -4  Inspiration\n",
              "1        2   Pop           92             -6          Sad\n",
              "2        3   Pop          115             -7  Inspiration\n",
              "3        4   Pop          117             -5  Inspiration\n",
              "4        5   Pop          158             -6  Inspiration"
            ]
          },
          "metadata": {},
          "execution_count": 66
        }
      ]
    },
    {
      "cell_type": "code",
      "source": [
        "possible_labels = df.Genre.unique()\n",
        "\n",
        "label_dict = {}\n",
        "for index, possible_label in enumerate(possible_labels):\n",
        "    label_dict[possible_label] = index\n",
        "label_dict"
      ],
      "metadata": {
        "colab": {
          "base_uri": "https://localhost:8080/"
        },
        "id": "xKNF5ilJSp3r",
        "outputId": "786b03ab-e4a0-49a4-a5a9-a0df3dfda21e"
      },
      "execution_count": 4,
      "outputs": [
        {
          "output_type": "execute_result",
          "data": {
            "text/plain": [
              "{'Ambient': 10,\n",
              " 'Blues': 11,\n",
              " 'Classical': 9,\n",
              " 'Country': 1,\n",
              " 'Disco': 6,\n",
              " 'EDM': 3,\n",
              " 'Hip hop': 4,\n",
              " 'Jazz': 5,\n",
              " 'Metal': 7,\n",
              " 'Pop': 0,\n",
              " 'Rock': 2,\n",
              " 'Techno': 8}"
            ]
          },
          "metadata": {},
          "execution_count": 4
        }
      ]
    },
    {
      "cell_type": "code",
      "source": [
        "df['Genre'] = df.Genre.replace(label_dict)"
      ],
      "metadata": {
        "id": "qkm8r3blS3KE"
      },
      "execution_count": 5,
      "outputs": []
    },
    {
      "cell_type": "code",
      "source": [
        "df.head()"
      ],
      "metadata": {
        "colab": {
          "base_uri": "https://localhost:8080/",
          "height": 206
        },
        "id": "IqRXd_LqTENX",
        "outputId": "a36a1c45-7446-40f4-d83e-cfa8725ba36d"
      },
      "execution_count": 6,
      "outputs": [
        {
          "output_type": "execute_result",
          "data": {
            "text/html": [
              "\n",
              "  <div id=\"df-ecf16007-9c26-4514-bfde-f51e2d448c22\">\n",
              "    <div class=\"colab-df-container\">\n",
              "      <div>\n",
              "<style scoped>\n",
              "    .dataframe tbody tr th:only-of-type {\n",
              "        vertical-align: middle;\n",
              "    }\n",
              "\n",
              "    .dataframe tbody tr th {\n",
              "        vertical-align: top;\n",
              "    }\n",
              "\n",
              "    .dataframe thead th {\n",
              "        text-align: right;\n",
              "    }\n",
              "</style>\n",
              "<table border=\"1\" class=\"dataframe\">\n",
              "  <thead>\n",
              "    <tr style=\"text-align: right;\">\n",
              "      <th></th>\n",
              "      <th>Song_ID</th>\n",
              "      <th>Genre</th>\n",
              "      <th>Tempo (bpm)</th>\n",
              "      <th>Loudness (db)</th>\n",
              "      <th>Emotion</th>\n",
              "    </tr>\n",
              "  </thead>\n",
              "  <tbody>\n",
              "    <tr>\n",
              "      <th>0</th>\n",
              "      <td>1</td>\n",
              "      <td>0</td>\n",
              "      <td>172</td>\n",
              "      <td>-4</td>\n",
              "      <td>Inspiration</td>\n",
              "    </tr>\n",
              "    <tr>\n",
              "      <th>1</th>\n",
              "      <td>2</td>\n",
              "      <td>0</td>\n",
              "      <td>92</td>\n",
              "      <td>-6</td>\n",
              "      <td>Sad</td>\n",
              "    </tr>\n",
              "    <tr>\n",
              "      <th>2</th>\n",
              "      <td>3</td>\n",
              "      <td>0</td>\n",
              "      <td>115</td>\n",
              "      <td>-7</td>\n",
              "      <td>Inspiration</td>\n",
              "    </tr>\n",
              "    <tr>\n",
              "      <th>3</th>\n",
              "      <td>4</td>\n",
              "      <td>0</td>\n",
              "      <td>117</td>\n",
              "      <td>-5</td>\n",
              "      <td>Inspiration</td>\n",
              "    </tr>\n",
              "    <tr>\n",
              "      <th>4</th>\n",
              "      <td>5</td>\n",
              "      <td>0</td>\n",
              "      <td>158</td>\n",
              "      <td>-6</td>\n",
              "      <td>Inspiration</td>\n",
              "    </tr>\n",
              "  </tbody>\n",
              "</table>\n",
              "</div>\n",
              "      <button class=\"colab-df-convert\" onclick=\"convertToInteractive('df-ecf16007-9c26-4514-bfde-f51e2d448c22')\"\n",
              "              title=\"Convert this dataframe to an interactive table.\"\n",
              "              style=\"display:none;\">\n",
              "        \n",
              "  <svg xmlns=\"http://www.w3.org/2000/svg\" height=\"24px\"viewBox=\"0 0 24 24\"\n",
              "       width=\"24px\">\n",
              "    <path d=\"M0 0h24v24H0V0z\" fill=\"none\"/>\n",
              "    <path d=\"M18.56 5.44l.94 2.06.94-2.06 2.06-.94-2.06-.94-.94-2.06-.94 2.06-2.06.94zm-11 1L8.5 8.5l.94-2.06 2.06-.94-2.06-.94L8.5 2.5l-.94 2.06-2.06.94zm10 10l.94 2.06.94-2.06 2.06-.94-2.06-.94-.94-2.06-.94 2.06-2.06.94z\"/><path d=\"M17.41 7.96l-1.37-1.37c-.4-.4-.92-.59-1.43-.59-.52 0-1.04.2-1.43.59L10.3 9.45l-7.72 7.72c-.78.78-.78 2.05 0 2.83L4 21.41c.39.39.9.59 1.41.59.51 0 1.02-.2 1.41-.59l7.78-7.78 2.81-2.81c.8-.78.8-2.07 0-2.86zM5.41 20L4 18.59l7.72-7.72 1.47 1.35L5.41 20z\"/>\n",
              "  </svg>\n",
              "      </button>\n",
              "      \n",
              "  <style>\n",
              "    .colab-df-container {\n",
              "      display:flex;\n",
              "      flex-wrap:wrap;\n",
              "      gap: 12px;\n",
              "    }\n",
              "\n",
              "    .colab-df-convert {\n",
              "      background-color: #E8F0FE;\n",
              "      border: none;\n",
              "      border-radius: 50%;\n",
              "      cursor: pointer;\n",
              "      display: none;\n",
              "      fill: #1967D2;\n",
              "      height: 32px;\n",
              "      padding: 0 0 0 0;\n",
              "      width: 32px;\n",
              "    }\n",
              "\n",
              "    .colab-df-convert:hover {\n",
              "      background-color: #E2EBFA;\n",
              "      box-shadow: 0px 1px 2px rgba(60, 64, 67, 0.3), 0px 1px 3px 1px rgba(60, 64, 67, 0.15);\n",
              "      fill: #174EA6;\n",
              "    }\n",
              "\n",
              "    [theme=dark] .colab-df-convert {\n",
              "      background-color: #3B4455;\n",
              "      fill: #D2E3FC;\n",
              "    }\n",
              "\n",
              "    [theme=dark] .colab-df-convert:hover {\n",
              "      background-color: #434B5C;\n",
              "      box-shadow: 0px 1px 3px 1px rgba(0, 0, 0, 0.15);\n",
              "      filter: drop-shadow(0px 1px 2px rgba(0, 0, 0, 0.3));\n",
              "      fill: #FFFFFF;\n",
              "    }\n",
              "  </style>\n",
              "\n",
              "      <script>\n",
              "        const buttonEl =\n",
              "          document.querySelector('#df-ecf16007-9c26-4514-bfde-f51e2d448c22 button.colab-df-convert');\n",
              "        buttonEl.style.display =\n",
              "          google.colab.kernel.accessAllowed ? 'block' : 'none';\n",
              "\n",
              "        async function convertToInteractive(key) {\n",
              "          const element = document.querySelector('#df-ecf16007-9c26-4514-bfde-f51e2d448c22');\n",
              "          const dataTable =\n",
              "            await google.colab.kernel.invokeFunction('convertToInteractive',\n",
              "                                                     [key], {});\n",
              "          if (!dataTable) return;\n",
              "\n",
              "          const docLinkHtml = 'Like what you see? Visit the ' +\n",
              "            '<a target=\"_blank\" href=https://colab.research.google.com/notebooks/data_table.ipynb>data table notebook</a>'\n",
              "            + ' to learn more about interactive tables.';\n",
              "          element.innerHTML = '';\n",
              "          dataTable['output_type'] = 'display_data';\n",
              "          await google.colab.output.renderOutput(dataTable, element);\n",
              "          const docLink = document.createElement('div');\n",
              "          docLink.innerHTML = docLinkHtml;\n",
              "          element.appendChild(docLink);\n",
              "        }\n",
              "      </script>\n",
              "    </div>\n",
              "  </div>\n",
              "  "
            ],
            "text/plain": [
              "   Song_ID  Genre  Tempo (bpm)  Loudness (db)      Emotion\n",
              "0        1      0          172             -4  Inspiration\n",
              "1        2      0           92             -6          Sad\n",
              "2        3      0          115             -7  Inspiration\n",
              "3        4      0          117             -5  Inspiration\n",
              "4        5      0          158             -6  Inspiration"
            ]
          },
          "metadata": {},
          "execution_count": 6
        }
      ]
    },
    {
      "cell_type": "code",
      "source": [
        "X = df.iloc[:, 1:4].values\n",
        "Y = df.iloc[:, -1].values"
      ],
      "metadata": {
        "id": "JMHGkhIjgYjY"
      },
      "execution_count": 7,
      "outputs": []
    },
    {
      "cell_type": "code",
      "source": [
        "from sklearn.preprocessing import LabelEncoder\n",
        "le = LabelEncoder()\n",
        "y = le.fit_transform(Y)"
      ],
      "metadata": {
        "id": "N2srlec1hK2U"
      },
      "execution_count": 8,
      "outputs": []
    },
    {
      "cell_type": "code",
      "source": [
        "from sklearn.compose import ColumnTransformer\n",
        "from sklearn.preprocessing import OneHotEncoder\n",
        "ct = ColumnTransformer(transformers=[('encoder', OneHotEncoder(), [0])], remainder=\"passthrough\")\n",
        "X = np.array(X)"
      ],
      "metadata": {
        "id": "RewOZLw4oKa5"
      },
      "execution_count": 9,
      "outputs": []
    },
    {
      "cell_type": "code",
      "source": [
        "from sklearn.model_selection import train_test_split\n",
        "X_train, X_test, y_train, y_test = train_test_split(X, y, test_size = 0.2, random_state = 10)"
      ],
      "metadata": {
        "id": "kYGhPaxnnbMO"
      },
      "execution_count": 10,
      "outputs": []
    },
    {
      "cell_type": "code",
      "source": [
        "from sklearn.preprocessing import StandardScaler\n",
        "sc = StandardScaler()\n",
        "X_train = sc.fit_transform(X_train)\n",
        "X_test = sc.transform(X_test)"
      ],
      "metadata": {
        "id": "4yRrLs6YpqVs"
      },
      "execution_count": 11,
      "outputs": []
    },
    {
      "cell_type": "code",
      "source": [
        "import matplotlib.pyplot as plt\n",
        "import seaborn as sns"
      ],
      "metadata": {
        "id": "t0UTxj9rskVT"
      },
      "execution_count": 12,
      "outputs": []
    },
    {
      "cell_type": "code",
      "source": [
        "sns.set()\n",
        "# sns.pairplot(df[['Genre', 'Acorsticness', 'Tempo (bpm)', 'Loudness (db)', 'Energy', 'Danceability', 'Valence', 'Key','Emotion' ]],\n",
        "#              hue=\"Emotion\", diag_kind=\"kde\")\n",
        "sns.pairplot(df[['Genre', 'Tempo (bpm)', 'Loudness (db)','Emotion' ]],\n",
        "             hue=\"Emotion\", diag_kind=\"kde\")"
      ],
      "metadata": {
        "colab": {
          "base_uri": "https://localhost:8080/",
          "height": 565
        },
        "id": "ZmfT3Myassj9",
        "outputId": "48ef09ed-b9b0-4366-c31a-b4144c1e0c56"
      },
      "execution_count": 13,
      "outputs": [
        {
          "output_type": "execute_result",
          "data": {
            "text/plain": [
              "<seaborn.axisgrid.PairGrid at 0x7f8ca1d9af10>"
            ]
          },
          "metadata": {},
          "execution_count": 13
        },
        {
          "output_type": "display_data",
          "data": {
            "image/png": "[encoded data removed]",
            "text/plain": [
              "<Figure size 638.35x540 with 12 Axes>"
            ]
          },
          "metadata": {}
        }
      ]
    },
    {
      "cell_type": "markdown",
      "source": [
        "# **Naive Bayes**"
      ],
      "metadata": {
        "id": "OLDKUdNvcOKt"
      }
    },
    {
      "cell_type": "code",
      "source": [
        "from sklearn.naive_bayes import GaussianNB\n",
        "gnb = GaussianNB()\n",
        "gnb.fit(X_train,y_train)\n",
        "\n",
        "y_predNB = gnb.predict(X_test)"
      ],
      "metadata": {
        "id": "IQpxP8shuCe7"
      },
      "execution_count": 14,
      "outputs": []
    },
    {
      "cell_type": "code",
      "source": [
        "from sklearn.metrics import confusion_matrix, accuracy_score\n",
        "cm = confusion_matrix(y_test, y_predNB)\n",
        "print(cm)\n",
        "accuracy_score(y_test, y_predNB)"
      ],
      "metadata": {
        "colab": {
          "base_uri": "https://localhost:8080/"
        },
        "id": "64-sAaK1peFQ",
        "outputId": "db4245da-7483-40e9-e550-8dfe02da9c76"
      },
      "execution_count": 15,
      "outputs": [
        {
          "output_type": "stream",
          "name": "stdout",
          "text": [
            "[[ 2  0  8  0  5  4  3]\n",
            " [ 0 14  0  0  0  0  0]\n",
            " [ 6  0 24  9  3  0  0]\n",
            " [ 0  0  3 10  0  1  1]\n",
            " [ 1  1  6  0 15  0  2]\n",
            " [ 1  8  1  0  5 14  0]\n",
            " [ 0  3  3  2  0  3  2]]\n"
          ]
        },
        {
          "output_type": "execute_result",
          "data": {
            "text/plain": [
              "0.50625"
            ]
          },
          "metadata": {},
          "execution_count": 15
        }
      ]
    },
    {
      "cell_type": "code",
      "source": [
        "plot_confusion_matrix(gnb,X_test,y_test,cmap=plt.cm.Blues)\n",
        "print(classification_report(y_test,y_predNB)) "
      ],
      "metadata": {
        "colab": {
          "base_uri": "https://localhost:8080/",
          "height": 583
        },
        "id": "u3Yde6EbtV7k",
        "outputId": "9caee450-7e76-48da-e6d5-fbb78c4ba482"
      },
      "execution_count": 74,
      "outputs": [
        {
          "output_type": "stream",
          "name": "stderr",
          "text": [
            "/usr/local/lib/python3.7/dist-packages/sklearn/utils/deprecation.py:87: FutureWarning: Function plot_confusion_matrix is deprecated; Function `plot_confusion_matrix` is deprecated in 1.0 and will be removed in 1.2. Use one of the class methods: ConfusionMatrixDisplay.from_predictions or ConfusionMatrixDisplay.from_estimator.\n",
            "  warnings.warn(msg, category=FutureWarning)\n"
          ]
        },
        {
          "output_type": "stream",
          "name": "stdout",
          "text": [
            "              precision    recall  f1-score   support\n",
            "\n",
            "           0       0.20      0.09      0.13        22\n",
            "           1       0.54      1.00      0.70        14\n",
            "           2       0.53      0.57      0.55        42\n",
            "           3       0.48      0.67      0.56        15\n",
            "           4       0.54      0.60      0.57        25\n",
            "           5       0.64      0.48      0.55        29\n",
            "           6       0.25      0.15      0.19        13\n",
            "\n",
            "    accuracy                           0.51       160\n",
            "   macro avg       0.45      0.51      0.46       160\n",
            "weighted avg       0.48      0.51      0.48       160\n",
            "\n"
          ]
        },
        {
          "output_type": "display_data",
          "data": {
            "image/png": "[encoded data removed]",
            "text/plain": [
              "<Figure size 432x288 with 2 Axes>"
            ]
          },
          "metadata": {}
        }
      ]
    },
    {
      "cell_type": "code",
      "source": [
        "from sklearn.model_selection import cross_val_score\n",
        "accuracies = cross_val_score(estimator = gnb, X = X_train, y = y_train, cv = 10)\n",
        "print(\"Accuracy: {:.2f} %\".format(accuracies.mean()*100))\n",
        "print(\"Standard Deviation: {:.2f} %\".format(accuracies.std()*100))"
      ],
      "metadata": {
        "colab": {
          "base_uri": "https://localhost:8080/"
        },
        "id": "8rJrVbXTpnJ6",
        "outputId": "0713bee1-35c5-456a-9bc1-c031ab192830"
      },
      "execution_count": 16,
      "outputs": [
        {
          "output_type": "stream",
          "name": "stdout",
          "text": [
            "Accuracy: 51.56 %\n",
            "Standard Deviation: 4.47 %\n"
          ]
        }
      ]
    },
    {
      "cell_type": "markdown",
      "source": [
        "# **Logistic Regression**"
      ],
      "metadata": {
        "id": "ClFxNeWBcRcT"
      }
    },
    {
      "cell_type": "code",
      "source": [
        "from sklearn.linear_model import LogisticRegression\n",
        "logreg = LogisticRegression(solver = 'lbfgs',multi_class='auto')\n",
        "logreg.fit(X_train,y_train)\n",
        "\n",
        "y_pred = logreg.predict(X_test)\n",
        "\n",
        "from sklearn.metrics import accuracy_score\n",
        "\n",
        "\n",
        "acc1 = accuracy_score(y_test,y_pred)\n",
        "acc1"
      ],
      "metadata": {
        "colab": {
          "base_uri": "https://localhost:8080/"
        },
        "id": "JMXabDAUuV69",
        "outputId": "06db252f-85d0-4a72-b8eb-987432ea9544"
      },
      "execution_count": 72,
      "outputs": [
        {
          "output_type": "execute_result",
          "data": {
            "text/plain": [
              "0.5"
            ]
          },
          "metadata": {},
          "execution_count": 72
        }
      ]
    },
    {
      "cell_type": "code",
      "source": [
        "plot_confusion_matrix(logreg,X_test,y_test,cmap=plt.cm.Blues)\n",
        "print(classification_report(y_test,y_pred)) "
      ],
      "metadata": {
        "colab": {
          "base_uri": "https://localhost:8080/",
          "height": 583
        },
        "id": "CIPPAvqgtKxx",
        "outputId": "753f8eab-36e7-4551-93c9-6c5c196f33a8"
      },
      "execution_count": 73,
      "outputs": [
        {
          "output_type": "stream",
          "name": "stderr",
          "text": [
            "/usr/local/lib/python3.7/dist-packages/sklearn/utils/deprecation.py:87: FutureWarning: Function plot_confusion_matrix is deprecated; Function `plot_confusion_matrix` is deprecated in 1.0 and will be removed in 1.2. Use one of the class methods: ConfusionMatrixDisplay.from_predictions or ConfusionMatrixDisplay.from_estimator.\n",
            "  warnings.warn(msg, category=FutureWarning)\n"
          ]
        },
        {
          "output_type": "stream",
          "name": "stdout",
          "text": [
            "              precision    recall  f1-score   support\n",
            "\n",
            "           0       0.44      0.18      0.26        22\n",
            "           1       0.54      0.93      0.68        14\n",
            "           2       0.50      0.50      0.50        42\n",
            "           3       0.45      0.67      0.54        15\n",
            "           4       0.48      0.56      0.52        25\n",
            "           5       0.50      0.55      0.52        29\n",
            "           6       1.00      0.15      0.27        13\n",
            "\n",
            "    accuracy                           0.50       160\n",
            "   macro avg       0.56      0.51      0.47       160\n",
            "weighted avg       0.53      0.50      0.48       160\n",
            "\n"
          ]
        },
        {
          "output_type": "display_data",
          "data": {
            "image/png": "[encoded data removed]",
            "text/plain": [
              "<Figure size 432x288 with 2 Axes>"
            ]
          },
          "metadata": {}
        }
      ]
    },
    {
      "cell_type": "code",
      "source": [
        "from sklearn.model_selection import cross_val_score\n",
        "accuracies = cross_val_score(estimator = logreg, X = X_train, y = y_train, cv = 10)\n",
        "print(\"Accuracy: {:.2f} %\".format(accuracies.mean()*100))\n",
        "print(\"Standard Deviation: {:.2f} %\".format(accuracies.std()*100))"
      ],
      "metadata": {
        "colab": {
          "base_uri": "https://localhost:8080/"
        },
        "id": "i083W4HrZBNR",
        "outputId": "e6986f6b-0c9a-46c1-adc2-25a3fb93b1cf"
      },
      "execution_count": 18,
      "outputs": [
        {
          "output_type": "stream",
          "name": "stdout",
          "text": [
            "Accuracy: 44.53 %\n",
            "Standard Deviation: 2.64 %\n"
          ]
        }
      ]
    },
    {
      "cell_type": "markdown",
      "source": [
        "# **Decision Tree**"
      ],
      "metadata": {
        "id": "YochF2lTcWq1"
      }
    },
    {
      "cell_type": "code",
      "source": [
        "from sklearn.tree import DecisionTreeClassifier\n",
        "\n",
        "dt = DecisionTreeClassifier()\n",
        "dt.fit(X_train,y_train)\n",
        "\n",
        "y_predDT = dt.predict(X_test)"
      ],
      "metadata": {
        "id": "3Bby6aTUue6-"
      },
      "execution_count": 19,
      "outputs": []
    },
    {
      "cell_type": "code",
      "source": [
        "from sklearn.metrics import confusion_matrix, accuracy_score\n",
        "cm = confusion_matrix(y_test, y_predDT)\n",
        "print(cm)\n",
        "accuracy_score(y_test, y_predDT)"
      ],
      "metadata": {
        "colab": {
          "base_uri": "https://localhost:8080/"
        },
        "id": "J7VQXf1cq1oj",
        "outputId": "9dc53d0e-b021-4e3c-acb8-af78b8201741"
      },
      "execution_count": 20,
      "outputs": [
        {
          "output_type": "stream",
          "name": "stdout",
          "text": [
            "[[22  0  0  0  0  0  0]\n",
            " [ 0 12  1  0  1  0  0]\n",
            " [ 0  0 38  2  1  1  0]\n",
            " [ 3  0  0 12  0  0  0]\n",
            " [ 0  1  3  2 19  0  0]\n",
            " [ 0  1  1  0  1 26  0]\n",
            " [ 0  0  0  0  0  0 13]]\n"
          ]
        },
        {
          "output_type": "execute_result",
          "data": {
            "text/plain": [
              "0.8875"
            ]
          },
          "metadata": {},
          "execution_count": 20
        }
      ]
    },
    {
      "cell_type": "code",
      "source": [
        "plot_confusion_matrix(dt,X_test,y_test,cmap=plt.cm.Blues)\n",
        "print(classification_report(y_test,y_predDT)) "
      ],
      "metadata": {
        "colab": {
          "base_uri": "https://localhost:8080/",
          "height": 583
        },
        "id": "NTqsySpBs9lR",
        "outputId": "aa5ecfd8-d780-46cf-d24d-6781f30e3088"
      },
      "execution_count": 71,
      "outputs": [
        {
          "output_type": "stream",
          "name": "stderr",
          "text": [
            "/usr/local/lib/python3.7/dist-packages/sklearn/utils/deprecation.py:87: FutureWarning: Function plot_confusion_matrix is deprecated; Function `plot_confusion_matrix` is deprecated in 1.0 and will be removed in 1.2. Use one of the class methods: ConfusionMatrixDisplay.from_predictions or ConfusionMatrixDisplay.from_estimator.\n",
            "  warnings.warn(msg, category=FutureWarning)\n"
          ]
        },
        {
          "output_type": "stream",
          "name": "stdout",
          "text": [
            "              precision    recall  f1-score   support\n",
            "\n",
            "           0       0.88      1.00      0.94        22\n",
            "           1       0.86      0.86      0.86        14\n",
            "           2       0.88      0.90      0.89        42\n",
            "           3       0.75      0.80      0.77        15\n",
            "           4       0.86      0.76      0.81        25\n",
            "           5       0.96      0.90      0.93        29\n",
            "           6       1.00      1.00      1.00        13\n",
            "\n",
            "    accuracy                           0.89       160\n",
            "   macro avg       0.89      0.89      0.89       160\n",
            "weighted avg       0.89      0.89      0.89       160\n",
            "\n"
          ]
        },
        {
          "output_type": "display_data",
          "data": {
            "image/png": "[encoded data removed]",
            "text/plain": [
              "<Figure size 432x288 with 2 Axes>"
            ]
          },
          "metadata": {}
        }
      ]
    },
    {
      "cell_type": "code",
      "source": [
        "from sklearn.model_selection import cross_val_score\n",
        "accuracies = cross_val_score(estimator = dt, X = X_train, y = y_train, cv = 6)\n",
        "print(\"Accuracy: {:.2f} %\".format(accuracies.mean()*100))\n",
        "print(\"Standard Deviation: {:.2f} %\".format(accuracies.std()*100))"
      ],
      "metadata": {
        "colab": {
          "base_uri": "https://localhost:8080/"
        },
        "id": "XTr2V2VnY7Tx",
        "outputId": "8d96fbc2-61f8-4396-b799-68aeabfef0ee"
      },
      "execution_count": 21,
      "outputs": [
        {
          "output_type": "stream",
          "name": "stdout",
          "text": [
            "Accuracy: 88.13 %\n",
            "Standard Deviation: 3.22 %\n"
          ]
        }
      ]
    },
    {
      "cell_type": "code",
      "source": [
        "from sklearn.model_selection import GridSearchCV\n",
        "parameters = [{'criterion' : ['entropy','gini'], 'splitter' : ['best','random']}]\n",
        "grid_search = GridSearchCV(estimator = dt,\n",
        "                           param_grid = parameters,\n",
        "                           scoring = 'accuracy',\n",
        "                           cv = 6,\n",
        "                           n_jobs = -1)\n",
        "grid_search.fit(X_train, y_train)\n",
        "best_accuracy = grid_search.best_score_\n",
        "best_parameters = grid_search.best_params_\n",
        "print(\"Best Accuracy: {:.2f} %\".format(best_accuracy*100))\n",
        "print(\"Best Parameters:\", best_parameters)"
      ],
      "metadata": {
        "colab": {
          "base_uri": "https://localhost:8080/"
        },
        "id": "4QbZaBbNrJnH",
        "outputId": "bd035f63-f4ba-42a7-bf37-2db963e1d455"
      },
      "execution_count": 22,
      "outputs": [
        {
          "output_type": "stream",
          "name": "stdout",
          "text": [
            "Best Accuracy: 88.13 %\n",
            "Best Parameters: {'criterion': 'entropy', 'splitter': 'best'}\n"
          ]
        }
      ]
    },
    {
      "cell_type": "markdown",
      "source": [
        "# **Random Forest**"
      ],
      "metadata": {
        "id": "rXV3VxH5iYyE"
      }
    },
    {
      "cell_type": "code",
      "source": [
        "from sklearn.ensemble import RandomForestClassifier\n",
        "classifierRF = RandomForestClassifier(n_estimators = 150, criterion = 'entropy', random_state = 0)\n",
        "classifierRF.fit(X_train, y_train)"
      ],
      "metadata": {
        "colab": {
          "base_uri": "https://localhost:8080/"
        },
        "id": "y5UtYTQbiclU",
        "outputId": "50262aa3-895c-4624-9977-f4e32d3d1fab"
      },
      "execution_count": 23,
      "outputs": [
        {
          "output_type": "execute_result",
          "data": {
            "text/plain": [
              "RandomForestClassifier(criterion='entropy', n_estimators=150, random_state=0)"
            ]
          },
          "metadata": {},
          "execution_count": 23
        }
      ]
    },
    {
      "cell_type": "code",
      "source": [
        "y_predRF = classifierRF.predict(X_test)"
      ],
      "metadata": {
        "id": "Ztq6S5peikPn"
      },
      "execution_count": 24,
      "outputs": []
    },
    {
      "cell_type": "code",
      "source": [
        "from sklearn.metrics import confusion_matrix, accuracy_score\n",
        "cm = confusion_matrix(y_test, y_predRF)\n",
        "print(cm)\n",
        "accuracy_score(y_test, y_predRF)"
      ],
      "metadata": {
        "colab": {
          "base_uri": "https://localhost:8080/"
        },
        "id": "Mr1rRrMCiplI",
        "outputId": "3164795a-5c77-4a7b-c319-cc16fcc5664b"
      },
      "execution_count": 25,
      "outputs": [
        {
          "output_type": "stream",
          "name": "stdout",
          "text": [
            "[[21  0  1  0  0  0  0]\n",
            " [ 0 13  1  0  0  0  0]\n",
            " [ 0  0 34  4  3  1  0]\n",
            " [ 2  0  0 12  0  0  1]\n",
            " [ 0  1  3  2 19  0  0]\n",
            " [ 0  1  2  0  0 26  0]\n",
            " [ 0  0  1  1  0  0 11]]\n"
          ]
        },
        {
          "output_type": "execute_result",
          "data": {
            "text/plain": [
              "0.85"
            ]
          },
          "metadata": {},
          "execution_count": 25
        }
      ]
    },
    {
      "cell_type": "code",
      "source": [
        "plot_confusion_matrix(classifierRF,X_test,y_test,cmap=plt.cm.Blues)\n",
        "print(classification_report(y_test,y_predRF)) "
      ],
      "metadata": {
        "colab": {
          "base_uri": "https://localhost:8080/",
          "height": 583
        },
        "id": "y6AYstiosx5v",
        "outputId": "67db20a5-988b-475c-a783-b6e32ab023b5"
      },
      "execution_count": 70,
      "outputs": [
        {
          "output_type": "stream",
          "name": "stderr",
          "text": [
            "/usr/local/lib/python3.7/dist-packages/sklearn/utils/deprecation.py:87: FutureWarning: Function plot_confusion_matrix is deprecated; Function `plot_confusion_matrix` is deprecated in 1.0 and will be removed in 1.2. Use one of the class methods: ConfusionMatrixDisplay.from_predictions or ConfusionMatrixDisplay.from_estimator.\n",
            "  warnings.warn(msg, category=FutureWarning)\n"
          ]
        },
        {
          "output_type": "stream",
          "name": "stdout",
          "text": [
            "              precision    recall  f1-score   support\n",
            "\n",
            "           0       0.91      0.95      0.93        22\n",
            "           1       0.87      0.93      0.90        14\n",
            "           2       0.81      0.81      0.81        42\n",
            "           3       0.63      0.80      0.71        15\n",
            "           4       0.86      0.76      0.81        25\n",
            "           5       0.96      0.90      0.93        29\n",
            "           6       0.92      0.85      0.88        13\n",
            "\n",
            "    accuracy                           0.85       160\n",
            "   macro avg       0.85      0.86      0.85       160\n",
            "weighted avg       0.86      0.85      0.85       160\n",
            "\n"
          ]
        },
        {
          "output_type": "display_data",
          "data": {
            "image/png": "[encoded data removed]",
            "text/plain": [
              "<Figure size 432x288 with 2 Axes>"
            ]
          },
          "metadata": {}
        }
      ]
    },
    {
      "cell_type": "code",
      "source": [
        "from sklearn.model_selection import cross_val_score\n",
        "accuracies = cross_val_score(estimator = classifierRF, X = X_train, y = y_train, cv = 6)\n",
        "print(\"Accuracy: {:.2f} %\".format(accuracies.mean()*100))\n",
        "print(\"Standard Deviation: {:.2f} %\".format(accuracies.std()*100))"
      ],
      "metadata": {
        "colab": {
          "base_uri": "https://localhost:8080/"
        },
        "id": "KWjW2rQYi5Px",
        "outputId": "43162e56-4b90-4978-c4cc-100e16f9653b"
      },
      "execution_count": 26,
      "outputs": [
        {
          "output_type": "stream",
          "name": "stdout",
          "text": [
            "Accuracy: 84.22 %\n",
            "Standard Deviation: 3.28 %\n"
          ]
        }
      ]
    },
    {
      "cell_type": "code",
      "source": [
        "from sklearn.model_selection import GridSearchCV\n",
        "parameters = [{'criterion' : ['entropy','gini'], 'n_estimators' : [10,50,80,100,200,250,300,500,1000]}]\n",
        "grid_search = GridSearchCV(estimator = classifierRF,\n",
        "                           param_grid = parameters,\n",
        "                           scoring = 'accuracy',\n",
        "                           cv = 6,\n",
        "                           n_jobs = -1)\n",
        "grid_search.fit(X_train, y_train)\n",
        "best_accuracy = grid_search.best_score_\n",
        "best_parameters = grid_search.best_params_\n",
        "print(\"Best Accuracy: {:.2f} %\".format(best_accuracy*100))\n",
        "print(\"Best Parameters:\", best_parameters)"
      ],
      "metadata": {
        "colab": {
          "base_uri": "https://localhost:8080/"
        },
        "id": "WNlnFZMDjKHG",
        "outputId": "a4480d0f-d3eb-4030-f55a-34f5bf03e9e5"
      },
      "execution_count": 27,
      "outputs": [
        {
          "output_type": "stream",
          "name": "stdout",
          "text": [
            "Best Accuracy: 85.31 %\n",
            "Best Parameters: {'criterion': 'entropy', 'n_estimators': 50}\n"
          ]
        }
      ]
    },
    {
      "cell_type": "markdown",
      "source": [
        "# **K- Nearest Naighbor**"
      ],
      "metadata": {
        "id": "nFl8XYRxcZ99"
      }
    },
    {
      "cell_type": "code",
      "source": [
        "from sklearn.neighbors import KNeighborsClassifier\n",
        "clfKNN = KNeighborsClassifier(n_neighbors=3,algorithm='ball_tree')\n",
        "\n",
        "clfKNN.fit(X_train,y_train)\n",
        "y_predKNN = clfKNN.predict(X_test)"
      ],
      "metadata": {
        "id": "2a7IHa5wunhM"
      },
      "execution_count": 28,
      "outputs": []
    },
    {
      "cell_type": "code",
      "source": [
        "from sklearn.metrics import confusion_matrix, accuracy_score\n",
        "cm = confusion_matrix(y_test, y_predKNN)\n",
        "print(cm)\n",
        "accuracy_score(y_test, y_predKNN)"
      ],
      "metadata": {
        "colab": {
          "base_uri": "https://localhost:8080/"
        },
        "id": "S_y072VgqF2l",
        "outputId": "3af8a1ee-f02b-4be4-f0d1-932d2cc8a6f0"
      },
      "execution_count": 29,
      "outputs": [
        {
          "output_type": "stream",
          "name": "stdout",
          "text": [
            "[[20  0  1  1  0  0  0]\n",
            " [ 0 14  0  0  0  0  0]\n",
            " [ 1  0 33  4  2  0  2]\n",
            " [ 2  0  1  9  0  0  3]\n",
            " [ 0  1  4  2 18  0  0]\n",
            " [ 0  7  2  0  0 20  0]\n",
            " [ 5  2  1  1  0  0  4]]\n"
          ]
        },
        {
          "output_type": "execute_result",
          "data": {
            "text/plain": [
              "0.7375"
            ]
          },
          "metadata": {},
          "execution_count": 29
        }
      ]
    },
    {
      "cell_type": "code",
      "source": [
        "plot_confusion_matrix(clfKNN,X_test,y_test,cmap=plt.cm.Blues)\n",
        "print(classification_report(y_test,y_predKNN)) "
      ],
      "metadata": {
        "colab": {
          "base_uri": "https://localhost:8080/",
          "height": 583
        },
        "id": "sO1psExGsUlw",
        "outputId": "582df283-57bf-4bfd-ee71-16779b059873"
      },
      "execution_count": 69,
      "outputs": [
        {
          "output_type": "stream",
          "name": "stderr",
          "text": [
            "/usr/local/lib/python3.7/dist-packages/sklearn/utils/deprecation.py:87: FutureWarning: Function plot_confusion_matrix is deprecated; Function `plot_confusion_matrix` is deprecated in 1.0 and will be removed in 1.2. Use one of the class methods: ConfusionMatrixDisplay.from_predictions or ConfusionMatrixDisplay.from_estimator.\n",
            "  warnings.warn(msg, category=FutureWarning)\n"
          ]
        },
        {
          "output_type": "stream",
          "name": "stdout",
          "text": [
            "              precision    recall  f1-score   support\n",
            "\n",
            "           0       0.71      0.91      0.80        22\n",
            "           1       0.58      1.00      0.74        14\n",
            "           2       0.79      0.79      0.79        42\n",
            "           3       0.53      0.60      0.56        15\n",
            "           4       0.90      0.72      0.80        25\n",
            "           5       1.00      0.69      0.82        29\n",
            "           6       0.44      0.31      0.36        13\n",
            "\n",
            "    accuracy                           0.74       160\n",
            "   macro avg       0.71      0.72      0.70       160\n",
            "weighted avg       0.76      0.74      0.74       160\n",
            "\n"
          ]
        },
        {
          "output_type": "display_data",
          "data": {
            "image/png": "[encoded data removed]",
            "text/plain": [
              "<Figure size 432x288 with 2 Axes>"
            ]
          },
          "metadata": {}
        }
      ]
    },
    {
      "cell_type": "code",
      "source": [
        "from sklearn.model_selection import cross_val_score\n",
        "accuracies = cross_val_score(estimator = clfKNN, X = X_train, y = y_train, cv = 6)\n",
        "print(\"Accuracy: {:.2f} %\".format(accuracies.mean()*100))\n",
        "print(\"Standard Deviation: {:.2f} %\".format(accuracies.std()*100))"
      ],
      "metadata": {
        "colab": {
          "base_uri": "https://localhost:8080/"
        },
        "id": "4jIVYTUbqLsQ",
        "outputId": "6391bf40-6250-41ef-d7ce-b516678c7799"
      },
      "execution_count": 30,
      "outputs": [
        {
          "output_type": "stream",
          "name": "stdout",
          "text": [
            "Accuracy: 74.70 %\n",
            "Standard Deviation: 3.71 %\n"
          ]
        }
      ]
    },
    {
      "cell_type": "code",
      "source": [
        "error_rate=[]\n",
        "for i in range(1,100):\n",
        "             knn = KNeighborsClassifier(n_neighbors=i)\n",
        "             model = knn.fit(X_train,y_train)\n",
        "             pred_i = knn.predict(X_test)\n",
        "             error_rate.append(np.mean(pred_i != y_test))\n",
        "plt.figure(figsize=(13,8))\n",
        "plt.plot(range(1,100), error_rate, linestyle = 'dotted', marker = 'o',color = 'g')\n",
        "plt.xlabel('K value')\n",
        "plt.ylabel('Error Rate')\n",
        "plt.title('K value Vs Error Rate')\n",
        "plt.show() "
      ],
      "metadata": {
        "colab": {
          "base_uri": "https://localhost:8080/",
          "height": 518
        },
        "id": "AWpB3cbfrrj8",
        "outputId": "8e6428e9-f748-447c-d68d-53729dde41a2"
      },
      "execution_count": 67,
      "outputs": [
        {
          "output_type": "display_data",
          "data": {
            "image/png": "[encoded data removed]",
            "text/plain": [
              "<Figure size 936x576 with 1 Axes>"
            ]
          },
          "metadata": {}
        }
      ]
    },
    {
      "cell_type": "code",
      "source": [
        "from sklearn.model_selection import GridSearchCV\n",
        "parameters = [{'n_neighbors' : [2,3,4,5,6,7,8,9,10],'weights' : ['uniform', 'distance'], 'algorithm': ['auto', 'brute'],'metric' : ['minkowski'], 'p' : [2,3,4,5,6,7,8,9,10]},\n",
        "              {'n_neighbors' : [2,3,4,5,6,7,8,9,10],'weights' : ['uniform', 'distance'], 'algorithm': ['ball_tree', 'kd_tree'], 'leaf_size':[20,30,40,50,60,70,80,90,100],'metric' : ['minkowski'], 'p' : [2,3,4,5,6,7,8,9,10]},\n",
        "              {'n_neighbors' : [2,3,4,5,6,7,8,9,10], 'metric' : ['euclidean']},\n",
        "              {'n_neighbors' : [2,3,4,5,6,7,8,9,10], 'metric' : ['manhattan']},\n",
        "              {'n_neighbors' : [2,3,4,5,6,7,8,9,10], 'metric' : ['chebyshev']}\n",
        "              ]\n",
        "grid_search = GridSearchCV(estimator = clfKNN,\n",
        "                           param_grid = parameters,\n",
        "                           scoring = 'accuracy',\n",
        "                           cv = 6,\n",
        "                           n_jobs = -1)\n",
        "grid_search.fit(X_train, y_train)\n",
        "best_accuracy = grid_search.best_score_\n",
        "best_parameters = grid_search.best_params_\n",
        "print(\"Best Accuracy: {:.2f} %\".format(best_accuracy*100))\n",
        "print(\"Best Parameters:\", best_parameters)"
      ],
      "metadata": {
        "colab": {
          "base_uri": "https://localhost:8080/"
        },
        "id": "eZeZse3FqZwt",
        "outputId": "3ae9bc0b-f42c-49b4-d00b-ea2c3383e91c"
      },
      "execution_count": 31,
      "outputs": [
        {
          "output_type": "stream",
          "name": "stdout",
          "text": [
            "Best Accuracy: 80.32 %\n",
            "Best Parameters: {'metric': 'manhattan', 'n_neighbors': 7}\n"
          ]
        }
      ]
    },
    {
      "cell_type": "markdown",
      "source": [
        "# **Support Vector Machine**"
      ],
      "metadata": {
        "id": "i6dP4OVOce80"
      }
    },
    {
      "cell_type": "code",
      "source": [
        "from sklearn.svm import SVC\n",
        "\n",
        "classifierSVM = SVC(C=50,kernel = 'rbf', gamma=5 )\n",
        "classifierSVM.fit(X_train, y_train)"
      ],
      "metadata": {
        "colab": {
          "base_uri": "https://localhost:8080/"
        },
        "id": "WBicnlZ0c1yj",
        "outputId": "a7e88275-b461-445c-89c3-01b7524ecb2e"
      },
      "execution_count": 32,
      "outputs": [
        {
          "output_type": "execute_result",
          "data": {
            "text/plain": [
              "SVC(C=50, gamma=5)"
            ]
          },
          "metadata": {},
          "execution_count": 32
        }
      ]
    },
    {
      "cell_type": "code",
      "source": [
        "y_predSVM = classifierSVM.predict(X_test)"
      ],
      "metadata": {
        "id": "WZ3sciNZb4SV"
      },
      "execution_count": 33,
      "outputs": []
    },
    {
      "cell_type": "code",
      "source": [
        "from sklearn.metrics import confusion_matrix, accuracy_score\n",
        "cm = confusion_matrix(y_test, y_predSVM)\n",
        "print(cm)\n",
        "accuracy_score(y_test, y_predSVM)"
      ],
      "metadata": {
        "colab": {
          "base_uri": "https://localhost:8080/"
        },
        "id": "ygPokwGtdwr_",
        "outputId": "e5cce5f3-a5c2-43a3-af65-44aa16650c82"
      },
      "execution_count": 34,
      "outputs": [
        {
          "output_type": "stream",
          "name": "stdout",
          "text": [
            "[[20  0  2  0  0  0  0]\n",
            " [ 0  9  3  1  1  0  0]\n",
            " [ 0  0 31  5  4  1  1]\n",
            " [ 3  0  2  9  0  0  1]\n",
            " [ 0  0  2  2 21  0  0]\n",
            " [ 0  4  1  0  0 24  0]\n",
            " [ 1  2  0  1  0  0  9]]\n"
          ]
        },
        {
          "output_type": "execute_result",
          "data": {
            "text/plain": [
              "0.76875"
            ]
          },
          "metadata": {},
          "execution_count": 34
        }
      ]
    },
    {
      "cell_type": "code",
      "source": [
        "plot_confusion_matrix(classifierSVM,X_test,y_test,cmap=plt.cm.Blues)\n",
        "print(classification_report(y_test,y_predSVM)) "
      ],
      "metadata": {
        "colab": {
          "base_uri": "https://localhost:8080/",
          "height": 583
        },
        "id": "ZLbp0w2Dtfr7",
        "outputId": "f34753f8-d76f-4ad1-a059-f2e9729d2a17"
      },
      "execution_count": 75,
      "outputs": [
        {
          "output_type": "stream",
          "name": "stderr",
          "text": [
            "/usr/local/lib/python3.7/dist-packages/sklearn/utils/deprecation.py:87: FutureWarning: Function plot_confusion_matrix is deprecated; Function `plot_confusion_matrix` is deprecated in 1.0 and will be removed in 1.2. Use one of the class methods: ConfusionMatrixDisplay.from_predictions or ConfusionMatrixDisplay.from_estimator.\n",
            "  warnings.warn(msg, category=FutureWarning)\n"
          ]
        },
        {
          "output_type": "stream",
          "name": "stdout",
          "text": [
            "              precision    recall  f1-score   support\n",
            "\n",
            "           0       0.83      0.91      0.87        22\n",
            "           1       0.60      0.64      0.62        14\n",
            "           2       0.76      0.74      0.75        42\n",
            "           3       0.50      0.60      0.55        15\n",
            "           4       0.81      0.84      0.82        25\n",
            "           5       0.96      0.83      0.89        29\n",
            "           6       0.82      0.69      0.75        13\n",
            "\n",
            "    accuracy                           0.77       160\n",
            "   macro avg       0.75      0.75      0.75       160\n",
            "weighted avg       0.78      0.77      0.77       160\n",
            "\n"
          ]
        },
        {
          "output_type": "display_data",
          "data": {
            "image/png": "[encoded data removed]",
            "text/plain": [
              "<Figure size 432x288 with 2 Axes>"
            ]
          },
          "metadata": {}
        }
      ]
    },
    {
      "cell_type": "code",
      "source": [
        "from sklearn.model_selection import cross_val_score\n",
        "accuracies = cross_val_score(estimator = classifierSVM, X = X_train, y = y_train, cv = 6)\n",
        "print(\"Accuracy: {:.2f} %\".format(accuracies.mean()*100))\n",
        "print(\"Standard Deviation: {:.2f} %\".format(accuracies.std()*100))"
      ],
      "metadata": {
        "colab": {
          "base_uri": "https://localhost:8080/"
        },
        "id": "jpWcUX-adBvz",
        "outputId": "ce3e474f-2e5c-468a-cc61-b41a9c454488"
      },
      "execution_count": 35,
      "outputs": [
        {
          "output_type": "stream",
          "name": "stdout",
          "text": [
            "Accuracy: 77.19 %\n",
            "Standard Deviation: 2.96 %\n"
          ]
        }
      ]
    },
    {
      "cell_type": "code",
      "source": [
        "from sklearn.svm import SVC\n",
        "svc1 = SVC(C=50,kernel='rbf',gamma=1)     \n",
        "\n",
        "svc1.fit(X_train,y_train)\n",
        "y_pred4 = svc1.predict(X_test)\n",
        "\n",
        "from sklearn.metrics import accuracy_score\n",
        "acc4=    accuracy_score(y_test,y_pred4)\n",
        "print(acc4)\n",
        "\n",
        "rbf = SVC(kernel='rbf', gamma=0.5, C=0.1).fit(X_train, y_train)\n",
        "poly = SVC(kernel='poly', degree=3, C=1).fit(X_train, y_train)\n",
        "\n",
        "poly_pred = poly.predict(X_test)\n",
        "rbf_pred = rbf.predict(X_test)\n",
        "acc5 = accuracy_score(y_test,poly_pred)\n",
        "acc6 = accuracy_score(y_test,rbf_pred)\n",
        "print(acc5)\n",
        "print(acc6)\n"
      ],
      "metadata": {
        "colab": {
          "base_uri": "https://localhost:8080/"
        },
        "id": "P3oa1sDMus_N",
        "outputId": "666b18e4-8b15-41f7-8274-94b1d29a90bd"
      },
      "execution_count": 36,
      "outputs": [
        {
          "output_type": "stream",
          "name": "stdout",
          "text": [
            "0.88125\n",
            "0.53125\n",
            "0.625\n"
          ]
        }
      ]
    },
    {
      "cell_type": "code",
      "source": [
        "from sklearn.metrics import f1_score\n",
        "\n",
        "poly_accuracy = accuracy_score(y_test, poly_pred)\n",
        "poly_f1 = f1_score(y_test, poly_pred, average='weighted')\n",
        "print('Accuracy (Polynomial Kernel): ', \"%.2f\" % (poly_accuracy*100))\n",
        "print('F1 (Polynomial Kernel): ', \"%.2f\" % (poly_f1*100))"
      ],
      "metadata": {
        "colab": {
          "base_uri": "https://localhost:8080/"
        },
        "id": "7zUEygjYwIuY",
        "outputId": "f630874d-f61a-4575-8be4-799bbd4a7dc7"
      },
      "execution_count": 37,
      "outputs": [
        {
          "output_type": "stream",
          "name": "stdout",
          "text": [
            "Accuracy (Polynomial Kernel):  53.12\n",
            "F1 (Polynomial Kernel):  49.00\n"
          ]
        }
      ]
    },
    {
      "cell_type": "code",
      "source": [
        "rbf_accuracy = accuracy_score(y_test, rbf_pred)\n",
        "rbf_f1 = f1_score(y_test, rbf_pred, average='weighted')\n",
        "print('Accuracy (RBF Kernel): ', \"%.2f\" % (rbf_accuracy*100))\n",
        "print('F1 (RBF Kernel): ', \"%.2f\" % (rbf_f1*100))"
      ],
      "metadata": {
        "colab": {
          "base_uri": "https://localhost:8080/"
        },
        "id": "vAZGwW5mwNp1",
        "outputId": "ccb709bd-2800-41b4-d1c1-ec5c44742d9c"
      },
      "execution_count": 38,
      "outputs": [
        {
          "output_type": "stream",
          "name": "stdout",
          "text": [
            "Accuracy (RBF Kernel):  62.50\n",
            "F1 (RBF Kernel):  60.68\n"
          ]
        }
      ]
    },
    {
      "cell_type": "markdown",
      "source": [
        "Applying Grid Search to find the best model and the best parameters"
      ],
      "metadata": {
        "id": "rGUmMkGAiG5Q"
      }
    },
    {
      "cell_type": "code",
      "source": [
        "from sklearn.model_selection import GridSearchCV\n",
        "parameters = [{'C': [0.25, 0.5, 0.75, 1, 10], 'kernel': ['linear']},\n",
        "              {'C': [0.25, 0.5, 0.75, 1, 10], 'kernel': ['rbf'], 'gamma': [0.1, 0.2, 0.3, 0.4, 0.5, 0.6, 0.7, 0.8, 0.9,1,2,3,5]},\n",
        "              {'C': [0.25, 0.5, 0.75, 1, 10], 'kernel': ['poly'], 'gamma': [0.1, 0.2, 0.3, 0.4, 0.5, 0.6, 0.7, 0.8, 0.9,1,2,3,5]}]\n",
        "grid_search = GridSearchCV(estimator = classifierSVM,\n",
        "                           param_grid = parameters,\n",
        "                           scoring = 'accuracy',\n",
        "                           cv = 6,\n",
        "                           n_jobs = -1)\n",
        "grid_search.fit(X_train, y_train)\n",
        "best_accuracy = grid_search.best_score_\n",
        "best_parameters = grid_search.best_params_\n",
        "print(\"Best Accuracy: {:.2f} %\".format(best_accuracy*100))\n",
        "print(\"Best Parameters:\", best_parameters)"
      ],
      "metadata": {
        "colab": {
          "base_uri": "https://localhost:8080/"
        },
        "id": "nJughGnsgmqe",
        "outputId": "b2095ba2-0206-4656-95c7-c55c0d299bbe"
      },
      "execution_count": 39,
      "outputs": [
        {
          "output_type": "stream",
          "name": "stdout",
          "text": [
            "Best Accuracy: 84.39 %\n",
            "Best Parameters: {'C': 10, 'gamma': 0.7, 'kernel': 'rbf'}\n"
          ]
        }
      ]
    },
    {
      "cell_type": "markdown",
      "source": [
        "# **XGBoost**"
      ],
      "metadata": {
        "id": "DegXzH7GXu_b"
      }
    },
    {
      "cell_type": "code",
      "source": [
        "from xgboost import XGBClassifier\n",
        "classifierXGB = XGBClassifier()\n",
        "classifierXGB.fit(X_train, y_train)"
      ],
      "metadata": {
        "colab": {
          "base_uri": "https://localhost:8080/"
        },
        "id": "xpP0BstzXw8Z",
        "outputId": "7f47922f-e6fa-42fb-bcf2-481a94d89145"
      },
      "execution_count": 76,
      "outputs": [
        {
          "output_type": "execute_result",
          "data": {
            "text/plain": [
              "XGBClassifier(objective='multi:softprob')"
            ]
          },
          "metadata": {},
          "execution_count": 76
        }
      ]
    },
    {
      "cell_type": "code",
      "source": [
        "y_predXGB = classifierXGB.predict(X_test)"
      ],
      "metadata": {
        "id": "UrP7z9uIX3hX"
      },
      "execution_count": 77,
      "outputs": []
    },
    {
      "cell_type": "code",
      "source": [
        "from sklearn.metrics import confusion_matrix, accuracy_score\n",
        "cm = confusion_matrix(y_test, y_predXGB)\n",
        "print(cm)\n",
        "accuracy_score(y_test, y_predXGB)"
      ],
      "metadata": {
        "colab": {
          "base_uri": "https://localhost:8080/"
        },
        "id": "J56zw7aWX7Nn",
        "outputId": "61b495cc-401a-4499-a1dd-352566fee4a0"
      },
      "execution_count": 78,
      "outputs": [
        {
          "output_type": "stream",
          "name": "stdout",
          "text": [
            "[[22  0  0  0  0  0  0]\n",
            " [ 0 14  0  0  0  0  0]\n",
            " [ 0  0 39  1  2  0  0]\n",
            " [ 3  0  0 12  0  0  0]\n",
            " [ 0  1  2  0 22  0  0]\n",
            " [ 0  1  2  0  0 26  0]\n",
            " [ 0  0  0  0  0  0 13]]\n"
          ]
        },
        {
          "output_type": "execute_result",
          "data": {
            "text/plain": [
              "0.925"
            ]
          },
          "metadata": {},
          "execution_count": 78
        }
      ]
    },
    {
      "cell_type": "code",
      "source": [
        "plot_confusion_matrix(classifierXGB,X_test,y_test,cmap=plt.cm.Blues)\n",
        "print(classification_report(y_test,y_predXGB)) "
      ],
      "metadata": {
        "colab": {
          "base_uri": "https://localhost:8080/",
          "height": 583
        },
        "id": "Ac-_VanEtpC4",
        "outputId": "6388e28e-9b60-4bc2-bff1-66cfb3cffc73"
      },
      "execution_count": 81,
      "outputs": [
        {
          "output_type": "stream",
          "name": "stderr",
          "text": [
            "/usr/local/lib/python3.7/dist-packages/sklearn/utils/deprecation.py:87: FutureWarning: Function plot_confusion_matrix is deprecated; Function `plot_confusion_matrix` is deprecated in 1.0 and will be removed in 1.2. Use one of the class methods: ConfusionMatrixDisplay.from_predictions or ConfusionMatrixDisplay.from_estimator.\n",
            "  warnings.warn(msg, category=FutureWarning)\n"
          ]
        },
        {
          "output_type": "stream",
          "name": "stdout",
          "text": [
            "              precision    recall  f1-score   support\n",
            "\n",
            "           0       0.88      1.00      0.94        22\n",
            "           1       0.88      1.00      0.93        14\n",
            "           2       0.91      0.93      0.92        42\n",
            "           3       0.92      0.80      0.86        15\n",
            "           4       0.92      0.88      0.90        25\n",
            "           5       1.00      0.90      0.95        29\n",
            "           6       1.00      1.00      1.00        13\n",
            "\n",
            "    accuracy                           0.93       160\n",
            "   macro avg       0.93      0.93      0.93       160\n",
            "weighted avg       0.93      0.93      0.92       160\n",
            "\n"
          ]
        },
        {
          "output_type": "display_data",
          "data": {
            "image/png": "[encoded data removed]",
            "text/plain": [
              "<Figure size 432x288 with 2 Axes>"
            ]
          },
          "metadata": {}
        }
      ]
    },
    {
      "cell_type": "code",
      "source": [
        "from sklearn.model_selection import cross_val_score\n",
        "accuracies = cross_val_score(estimator = classifierXGB, X = X_train, y = y_train, cv = 10)\n",
        "print(\"Accuracy: {:.2f} %\".format(accuracies.mean()*100))\n",
        "print(\"Standard Deviation: {:.2f} %\".format(accuracies.std()*100))"
      ],
      "metadata": {
        "colab": {
          "base_uri": "https://localhost:8080/"
        },
        "id": "ie50LRdXYBjv",
        "outputId": "66aff293-6add-4938-8054-586cfd88e0ce"
      },
      "execution_count": 80,
      "outputs": [
        {
          "output_type": "stream",
          "name": "stdout",
          "text": [
            "Accuracy: 91.25 %\n",
            "Standard Deviation: 3.22 %\n"
          ]
        }
      ]
    },
    {
      "cell_type": "markdown",
      "source": [
        "# **Ensemble Methods**"
      ],
      "metadata": {
        "id": "YhmSYUKGrcd4"
      }
    },
    {
      "cell_type": "markdown",
      "source": [
        "**Bagging Meta Estimater**"
      ],
      "metadata": {
        "id": "PUmQi1purl_v"
      }
    },
    {
      "cell_type": "code",
      "source": [
        "from sklearn.ensemble import BaggingClassifier\n",
        "from sklearn.neighbors import KNeighborsClassifier\n",
        "classifierBAG = BaggingClassifier(KNeighborsClassifier(),max_samples=0.6, max_features=0.2)\n",
        "classifierBAG.fit(X_train, y_train)"
      ],
      "metadata": {
        "colab": {
          "base_uri": "https://localhost:8080/"
        },
        "id": "poAqbuISro7g",
        "outputId": "b6a7c626-d12d-47fb-924f-8dbdbb9abd23"
      },
      "execution_count": 44,
      "outputs": [
        {
          "output_type": "execute_result",
          "data": {
            "text/plain": [
              "BaggingClassifier(base_estimator=KNeighborsClassifier(), max_features=0.2,\n",
              "                  max_samples=0.6)"
            ]
          },
          "metadata": {},
          "execution_count": 44
        }
      ]
    },
    {
      "cell_type": "code",
      "source": [
        "y_predBAG = classifierBAG.predict(X_test)"
      ],
      "metadata": {
        "id": "BH9PS1A2rhQZ"
      },
      "execution_count": 45,
      "outputs": []
    },
    {
      "cell_type": "code",
      "source": [
        "from sklearn.metrics import confusion_matrix, accuracy_score\n",
        "cm = confusion_matrix(y_test, y_predBAG)\n",
        "print(cm)\n",
        "accuracy_score(y_test, y_predBAG)"
      ],
      "metadata": {
        "colab": {
          "base_uri": "https://localhost:8080/"
        },
        "id": "0yOEY6Ofr01y",
        "outputId": "53aa2b69-ba4d-44bc-c0a4-015ce3aac2a7"
      },
      "execution_count": 46,
      "outputs": [
        {
          "output_type": "stream",
          "name": "stdout",
          "text": [
            "[[16  0  0  0  3  3  0]\n",
            " [ 1  7  2  1  1  2  0]\n",
            " [ 0  0 24 12  3  3  0]\n",
            " [ 5  0  1  8  0  1  0]\n",
            " [ 2  1  7  0 13  2  0]\n",
            " [ 1  0  4  0  0 24  0]\n",
            " [ 1  0  2  1  0  1  8]]\n"
          ]
        },
        {
          "output_type": "execute_result",
          "data": {
            "text/plain": [
              "0.625"
            ]
          },
          "metadata": {},
          "execution_count": 46
        }
      ]
    },
    {
      "cell_type": "code",
      "source": [
        "plot_confusion_matrix(classifierBAG,X_test,y_test,cmap=plt.cm.Blues)\n",
        "print(classification_report(y_test,y_predBAG)) "
      ],
      "metadata": {
        "colab": {
          "base_uri": "https://localhost:8080/",
          "height": 583
        },
        "id": "sMUtiEdTuLcQ",
        "outputId": "f72fd46c-752d-4f08-e18b-1a2d85369229"
      },
      "execution_count": 82,
      "outputs": [
        {
          "output_type": "stream",
          "name": "stderr",
          "text": [
            "/usr/local/lib/python3.7/dist-packages/sklearn/utils/deprecation.py:87: FutureWarning: Function plot_confusion_matrix is deprecated; Function `plot_confusion_matrix` is deprecated in 1.0 and will be removed in 1.2. Use one of the class methods: ConfusionMatrixDisplay.from_predictions or ConfusionMatrixDisplay.from_estimator.\n",
            "  warnings.warn(msg, category=FutureWarning)\n"
          ]
        },
        {
          "output_type": "stream",
          "name": "stdout",
          "text": [
            "              precision    recall  f1-score   support\n",
            "\n",
            "           0       0.62      0.73      0.67        22\n",
            "           1       0.88      0.50      0.64        14\n",
            "           2       0.60      0.57      0.59        42\n",
            "           3       0.36      0.53      0.43        15\n",
            "           4       0.65      0.52      0.58        25\n",
            "           5       0.67      0.83      0.74        29\n",
            "           6       1.00      0.62      0.76        13\n",
            "\n",
            "    accuracy                           0.62       160\n",
            "   macro avg       0.68      0.61      0.63       160\n",
            "weighted avg       0.66      0.62      0.63       160\n",
            "\n"
          ]
        },
        {
          "output_type": "display_data",
          "data": {
            "image/png": "[encoded data removed]",
            "text/plain": [
              "<Figure size 432x288 with 2 Axes>"
            ]
          },
          "metadata": {}
        }
      ]
    },
    {
      "cell_type": "code",
      "source": [
        "from sklearn.model_selection import cross_val_score\n",
        "accuracies = cross_val_score(estimator = classifierBAG, X = X_train, y = y_train, cv = 6)\n",
        "print(\"Accuracy: {:.2f} %\".format(accuracies.mean()*100))\n",
        "print(\"Standard Deviation: {:.2f} %\".format(accuracies.std()*100))"
      ],
      "metadata": {
        "colab": {
          "base_uri": "https://localhost:8080/"
        },
        "id": "p0MIjtxOr8Ny",
        "outputId": "67602220-4332-45a5-9a92-78f3d9d8872b"
      },
      "execution_count": 47,
      "outputs": [
        {
          "output_type": "stream",
          "name": "stdout",
          "text": [
            "Accuracy: 65.02 %\n",
            "Standard Deviation: 15.49 %\n"
          ]
        }
      ]
    },
    {
      "cell_type": "markdown",
      "source": [
        "**Extremely Randomized Trees**"
      ],
      "metadata": {
        "id": "sXj-jZjpsG2i"
      }
    },
    {
      "cell_type": "code",
      "source": [
        "from sklearn.model_selection import cross_val_score\n",
        "from sklearn.ensemble import RandomForestClassifier\n",
        "from sklearn.ensemble import ExtraTreesClassifier\n",
        "from sklearn.tree import DecisionTreeClassifier\n",
        "\n",
        "clfEDT = DecisionTreeClassifier(max_depth=10, min_samples_split=2,random_state=10)\n",
        "scores = cross_val_score(clfEDT, X_train, y_train, cv=6)\n",
        "scores.mean()"
      ],
      "metadata": {
        "colab": {
          "base_uri": "https://localhost:8080/"
        },
        "id": "TChW5uIxsLGH",
        "outputId": "e0b1c39f-346d-43b1-9513-4b42144b81a9"
      },
      "execution_count": 48,
      "outputs": [
        {
          "output_type": "execute_result",
          "data": {
            "text/plain": [
              "0.8781373067654147"
            ]
          },
          "metadata": {},
          "execution_count": 48
        }
      ]
    },
    {
      "cell_type": "code",
      "source": [
        "\n",
        "clfERF = RandomForestClassifier(n_estimators=60, max_depth=None,min_samples_split=2, random_state=10)\n",
        "scores = cross_val_score(clfERF, X_train, y_train, cv=10)\n",
        "scores.mean()"
      ],
      "metadata": {
        "colab": {
          "base_uri": "https://localhost:8080/"
        },
        "id": "iRVPPLJ5siwv",
        "outputId": "6f9e0d08-7b25-4e91-d76a-592745a498f3"
      },
      "execution_count": 49,
      "outputs": [
        {
          "output_type": "execute_result",
          "data": {
            "text/plain": [
              "0.846875"
            ]
          },
          "metadata": {},
          "execution_count": 49
        }
      ]
    },
    {
      "cell_type": "code",
      "source": [
        "clfETC = ExtraTreesClassifier(n_estimators=40, max_depth=None,min_samples_split=6, random_state=10)\n",
        "scores = cross_val_score(clfETC, X_train, y_train, cv=6)\n",
        "scores.mean()"
      ],
      "metadata": {
        "colab": {
          "base_uri": "https://localhost:8080/"
        },
        "id": "wl-kVskxs-yJ",
        "outputId": "f17e0deb-83c1-4e6e-9cd5-8274e8a624a8"
      },
      "execution_count": 50,
      "outputs": [
        {
          "output_type": "execute_result",
          "data": {
            "text/plain": [
              "0.8890848174925057"
            ]
          },
          "metadata": {},
          "execution_count": 50
        }
      ]
    },
    {
      "cell_type": "markdown",
      "source": [
        "**AdaBoost classifier with 100 weak learners**"
      ],
      "metadata": {
        "id": "96X60ijWtSON"
      }
    },
    {
      "cell_type": "code",
      "source": [
        "from sklearn.model_selection import cross_val_score\n",
        "from sklearn.ensemble import AdaBoostClassifier\n",
        "\n",
        "clfAB = AdaBoostClassifier(n_estimators=100)\n",
        "scores = cross_val_score(clfAB, X_train, y_train, cv=6)\n",
        "scores.mean()"
      ],
      "metadata": {
        "colab": {
          "base_uri": "https://localhost:8080/"
        },
        "id": "Xxpr_wZltXal",
        "outputId": "3ce72657-0079-49a1-a3f8-828dfbdadf6e"
      },
      "execution_count": 51,
      "outputs": [
        {
          "output_type": "execute_result",
          "data": {
            "text/plain": [
              "0.40144301416563805"
            ]
          },
          "metadata": {},
          "execution_count": 51
        }
      ]
    },
    {
      "cell_type": "markdown",
      "source": [
        "**Gradient Tree Boosting**"
      ],
      "metadata": {
        "id": "xVEWKeqLtmgG"
      }
    },
    {
      "cell_type": "code",
      "source": [
        "from sklearn.ensemble import GradientBoostingClassifier\n",
        "\n",
        "clfGTB = GradientBoostingClassifier(n_estimators=10, learning_rate=2.5,max_depth=None, random_state=42).fit(X_train, y_train)\n",
        "scores = cross_val_score(clfGTB, X_train, y_train, cv=6)\n",
        "scores.mean()"
      ],
      "metadata": {
        "colab": {
          "base_uri": "https://localhost:8080/"
        },
        "id": "lybKCoxRtn4s",
        "outputId": "5aee01b3-90d7-4652-a56b-8ad0e8b14752"
      },
      "execution_count": 52,
      "outputs": [
        {
          "output_type": "execute_result",
          "data": {
            "text/plain": [
              "0.8671897960383236"
            ]
          },
          "metadata": {},
          "execution_count": 52
        }
      ]
    },
    {
      "cell_type": "markdown",
      "source": [
        "**Voting Classifiers**"
      ],
      "metadata": {
        "id": "zVS7EnA3uaxa"
      }
    },
    {
      "cell_type": "code",
      "source": [
        "from sklearn.model_selection import cross_val_score\n",
        "from sklearn.linear_model import LogisticRegression\n",
        "from sklearn.naive_bayes import GaussianNB\n",
        "from sklearn.ensemble import RandomForestClassifier\n",
        "from sklearn.ensemble import VotingClassifier\n",
        "\n",
        "clfVLG = LogisticRegression(random_state=10)\n",
        "clfVRF = RandomForestClassifier(n_estimators=50, random_state=10)\n",
        "clfVNB = GaussianNB()\n",
        "\n",
        "eclf1 = VotingClassifier(estimators=[('lr', clfVLG), ('rf', clfVRF), ('gnb', clfVNB)],voting='soft')\n",
        "\n",
        "for clf, label in zip([clfVLG, clfVRF, clfVNB, eclf1], ['Logistic Regression', 'Random Forest', 'naive Bayes', 'Ensemble']):\n",
        "  scores = cross_val_score(clf, X_train, y_train, scoring='accuracy', cv=10)\n",
        "  print(\"Accuracy: %0.2f (+/- %0.2f) [%s]\" % (scores.mean(), scores.std(), label))"
      ],
      "metadata": {
        "colab": {
          "base_uri": "https://localhost:8080/"
        },
        "id": "3oUVN_77udla",
        "outputId": "43f544df-ca9c-48f4-a37c-70492117dd57"
      },
      "execution_count": 53,
      "outputs": [
        {
          "output_type": "stream",
          "name": "stdout",
          "text": [
            "Accuracy: 0.45 (+/- 0.03) [Logistic Regression]\n",
            "Accuracy: 0.84 (+/- 0.04) [Random Forest]\n",
            "Accuracy: 0.52 (+/- 0.04) [naive Bayes]\n",
            "Accuracy: 0.76 (+/- 0.03) [Ensemble]\n"
          ]
        }
      ]
    },
    {
      "cell_type": "code",
      "source": [
        "from sklearn.tree import DecisionTreeClassifier\n",
        "from sklearn.neighbors import KNeighborsClassifier\n",
        "from sklearn.svm import SVC\n",
        "from itertools import product\n",
        "from sklearn.ensemble import VotingClassifier\n",
        "\n",
        "# Training classifiers\n",
        "clf1 = DecisionTreeClassifier(max_depth=4)\n",
        "clf2 = KNeighborsClassifier(n_neighbors=8)\n",
        "clf3 = SVC(kernel='rbf', probability=True)\n",
        "eclf2 = VotingClassifier(estimators=[('dt', clf1), ('knn', clf2), ('svc', clf3)],voting='soft', weights=[2, 1, 2])\n",
        "\n",
        "clf1 = clf1.fit(X_train, y_train)\n",
        "clf2 = clf2.fit(X_train, y_train)\n",
        "clf3 = clf3.fit(X_train, y_train)\n",
        "eclf2 = eclf2.fit(X_train, y_train)\n",
        "\n",
        "for clf, label in zip([clf1, clf2, clf3, eclf2], ['DT', 'KNN', 'SVC', 'Ensemble']):\n",
        "  scores = cross_val_score(clf, X_train, y_train, scoring='accuracy', cv=6)\n",
        "  print(\"Accuracy: %0.2f (+/- %0.2f) [%s]\" % (scores.mean(), scores.std(), label))"
      ],
      "metadata": {
        "colab": {
          "base_uri": "https://localhost:8080/"
        },
        "id": "LljY1NAuvD4t",
        "outputId": "a846ed49-e579-49e0-b37e-f5bccfc46ff1"
      },
      "execution_count": 54,
      "outputs": [
        {
          "output_type": "stream",
          "name": "stdout",
          "text": [
            "Accuracy: 0.77 (+/- 0.02) [DT]\n",
            "Accuracy: 0.73 (+/- 0.02) [KNN]\n",
            "Accuracy: 0.71 (+/- 0.03) [SVC]\n",
            "Accuracy: 0.85 (+/- 0.02) [Ensemble]\n"
          ]
        }
      ]
    },
    {
      "cell_type": "code",
      "source": [
        "from sklearn.model_selection import GridSearchCV\n",
        "clf1 = LogisticRegression(random_state=10)\n",
        "clf2 = RandomForestClassifier(random_state=10)\n",
        "clf3 = GaussianNB()\n",
        "eclf = VotingClassifier(estimators=[('lr', clf1), ('rf', clf2), ('gnb', clf3)],voting='soft')\n",
        "\n",
        "params = {'lr__C': [1.0, 100.0], 'rf__n_estimators': [20, 200]}\n",
        "\n",
        "grid = GridSearchCV(estimator=eclf, param_grid=params, cv=10)\n",
        "grid = grid.fit(X_train, y_train)\n",
        "print(\"grid.best_score_\", grid.best_score_)\n",
        "grid.best_params_"
      ],
      "metadata": {
        "colab": {
          "base_uri": "https://localhost:8080/"
        },
        "id": "kGOChVC_vWs2",
        "outputId": "c9917abb-fa5e-426b-93ab-22e108890314"
      },
      "execution_count": 55,
      "outputs": [
        {
          "output_type": "stream",
          "name": "stdout",
          "text": [
            "grid.best_score_ 0.771875\n"
          ]
        },
        {
          "output_type": "execute_result",
          "data": {
            "text/plain": [
              "{'lr__C': 1.0, 'rf__n_estimators': 200}"
            ]
          },
          "metadata": {},
          "execution_count": 55
        }
      ]
    },
    {
      "cell_type": "markdown",
      "source": [
        "# **MLP Classifier**"
      ],
      "metadata": {
        "id": "hWqHnKdhnc-b"
      }
    },
    {
      "cell_type": "code",
      "source": [
        "from sklearn.neural_network import MLPClassifier\n",
        "\n",
        "clfMLP = MLPClassifier(activation= 'tanh', alpha= 1e-05, hidden_layer_sizes= (500, 497), solver='adam', random_state=1)\n",
        "clfMLP.fit(X_train, y_train)"
      ],
      "metadata": {
        "colab": {
          "base_uri": "https://localhost:8080/"
        },
        "id": "uX-l0PSrnkbL",
        "outputId": "e56ce73b-ab0f-4432-8190-c33960a7ac14"
      },
      "execution_count": 56,
      "outputs": [
        {
          "output_type": "stream",
          "name": "stderr",
          "text": [
            "/usr/local/lib/python3.7/dist-packages/sklearn/neural_network/_multilayer_perceptron.py:696: ConvergenceWarning: Stochastic Optimizer: Maximum iterations (200) reached and the optimization hasn't converged yet.\n",
            "  ConvergenceWarning,\n"
          ]
        },
        {
          "output_type": "execute_result",
          "data": {
            "text/plain": [
              "MLPClassifier(activation='tanh', alpha=1e-05, hidden_layer_sizes=(500, 497),\n",
              "              random_state=1)"
            ]
          },
          "metadata": {},
          "execution_count": 56
        }
      ]
    },
    {
      "cell_type": "code",
      "source": [
        "y_predMLP = clfMLP.predict(X_test)"
      ],
      "metadata": {
        "id": "m6OOW_UmnsxH"
      },
      "execution_count": 57,
      "outputs": []
    },
    {
      "cell_type": "code",
      "source": [
        "from sklearn.metrics import confusion_matrix, accuracy_score\n",
        "cm = confusion_matrix(y_test, y_predMLP)\n",
        "print(cm)\n",
        "accuracy_score(y_test, y_predMLP)"
      ],
      "metadata": {
        "colab": {
          "base_uri": "https://localhost:8080/"
        },
        "id": "m1uk_I1znyRb",
        "outputId": "062c9a36-a9c9-413f-a9f2-35b48e0b0157"
      },
      "execution_count": 58,
      "outputs": [
        {
          "output_type": "stream",
          "name": "stdout",
          "text": [
            "[[20  0  0  0  0  0  2]\n",
            " [ 0 13  0  0  0  0  1]\n",
            " [ 1  0 40  0  1  0  0]\n",
            " [ 2  0  1 11  0  0  1]\n",
            " [ 0  1  3  0 21  0  0]\n",
            " [ 0  5  2  0  0 22  0]\n",
            " [ 0  3  0  0  0  0 10]]\n"
          ]
        },
        {
          "output_type": "execute_result",
          "data": {
            "text/plain": [
              "0.85625"
            ]
          },
          "metadata": {},
          "execution_count": 58
        }
      ]
    },
    {
      "cell_type": "code",
      "source": [
        "plot_confusion_matrix(clfMLP,X_test,y_test,cmap=plt.cm.Blues)\n",
        "print(classification_report(y_test,y_predMLP)) "
      ],
      "metadata": {
        "colab": {
          "base_uri": "https://localhost:8080/",
          "height": 587
        },
        "id": "UZTeMCKQucRf",
        "outputId": "c9b3c69b-1bb3-4e15-9911-21e8d754b254"
      },
      "execution_count": 84,
      "outputs": [
        {
          "output_type": "stream",
          "name": "stderr",
          "text": [
            "/usr/local/lib/python3.7/dist-packages/sklearn/utils/deprecation.py:87: FutureWarning: Function plot_confusion_matrix is deprecated; Function `plot_confusion_matrix` is deprecated in 1.0 and will be removed in 1.2. Use one of the class methods: ConfusionMatrixDisplay.from_predictions or ConfusionMatrixDisplay.from_estimator.\n",
            "  warnings.warn(msg, category=FutureWarning)\n"
          ]
        },
        {
          "output_type": "stream",
          "name": "stdout",
          "text": [
            "              precision    recall  f1-score   support\n",
            "\n",
            "           0       0.87      0.91      0.89        22\n",
            "           1       0.59      0.93      0.72        14\n",
            "           2       0.87      0.95      0.91        42\n",
            "           3       1.00      0.73      0.85        15\n",
            "           4       0.95      0.84      0.89        25\n",
            "           5       1.00      0.76      0.86        29\n",
            "           6       0.71      0.77      0.74        13\n",
            "\n",
            "    accuracy                           0.86       160\n",
            "   macro avg       0.86      0.84      0.84       160\n",
            "weighted avg       0.88      0.86      0.86       160\n",
            "\n"
          ]
        },
        {
          "output_type": "display_data",
          "data": {
            "image/png": "[encoded data removed]",
            "text/plain": [
              "<Figure size 432x288 with 2 Axes>"
            ]
          },
          "metadata": {}
        }
      ]
    },
    {
      "cell_type": "code",
      "source": [
        "from sklearn.metrics import classification_report\n",
        "\n",
        "print(classification_report(y_test, y_predMLP))"
      ],
      "metadata": {
        "colab": {
          "base_uri": "https://localhost:8080/"
        },
        "id": "IhksxdnSkr0L",
        "outputId": "64d8d99a-8660-4e92-fe01-3b2838cf84d7"
      },
      "execution_count": 59,
      "outputs": [
        {
          "output_type": "stream",
          "name": "stdout",
          "text": [
            "              precision    recall  f1-score   support\n",
            "\n",
            "           0       0.87      0.91      0.89        22\n",
            "           1       0.59      0.93      0.72        14\n",
            "           2       0.87      0.95      0.91        42\n",
            "           3       1.00      0.73      0.85        15\n",
            "           4       0.95      0.84      0.89        25\n",
            "           5       1.00      0.76      0.86        29\n",
            "           6       0.71      0.77      0.74        13\n",
            "\n",
            "    accuracy                           0.86       160\n",
            "   macro avg       0.86      0.84      0.84       160\n",
            "weighted avg       0.88      0.86      0.86       160\n",
            "\n"
          ]
        }
      ]
    },
    {
      "cell_type": "code",
      "source": [
        "from sklearn.model_selection import cross_val_score\n",
        "accuracies = cross_val_score(estimator = clfMLP, X = X_train, y = y_train, cv = 2)\n",
        "print(\"Accuracy: {:.2f} %\".format(accuracies.mean()*100))\n",
        "print(\"Standard Deviation: {:.2f} %\".format(accuracies.std()*100))"
      ],
      "metadata": {
        "colab": {
          "base_uri": "https://localhost:8080/"
        },
        "id": "znC35aRYn5dQ",
        "outputId": "dfffafa4-d9c8-48a1-90e0-b1d5b9a55842"
      },
      "execution_count": 60,
      "outputs": [
        {
          "output_type": "stream",
          "name": "stderr",
          "text": [
            "/usr/local/lib/python3.7/dist-packages/sklearn/neural_network/_multilayer_perceptron.py:696: ConvergenceWarning: Stochastic Optimizer: Maximum iterations (200) reached and the optimization hasn't converged yet.\n",
            "  ConvergenceWarning,\n"
          ]
        },
        {
          "output_type": "stream",
          "name": "stdout",
          "text": [
            "Accuracy: 87.03 %\n",
            "Standard Deviation: 2.97 %\n"
          ]
        },
        {
          "output_type": "stream",
          "name": "stderr",
          "text": [
            "/usr/local/lib/python3.7/dist-packages/sklearn/neural_network/_multilayer_perceptron.py:696: ConvergenceWarning: Stochastic Optimizer: Maximum iterations (200) reached and the optimization hasn't converged yet.\n",
            "  ConvergenceWarning,\n"
          ]
        }
      ]
    },
    {
      "cell_type": "code",
      "source": [
        "from sklearn.model_selection import GridSearchCV\n",
        "parameters = [{'solver': ['lbfgs', 'sgd', 'adam'], 'alpha' : [1e-5, 1e-6, 1e-4],'hidden_layer_sizes':[(5, 2), (100, 97), (200,197), (500, 497)], 'activation' : ['identity', 'logistic', 'tanh', 'relu']},]\n",
        "grid_search = GridSearchCV(estimator = clfMLP,\n",
        "                           param_grid = parameters,\n",
        "                           scoring = 'accuracy',\n",
        "                           cv = 2,\n",
        "                           n_jobs = -1)\n",
        "grid_search.fit(X_train, y_train)\n",
        "best_accuracy = grid_search.best_score_\n",
        "best_parameters = grid_search.best_params_\n",
        "print(\"Best Accuracy: {:.2f} %\".format(best_accuracy*100))\n",
        "print(\"Best Parameters:\", best_parameters)"
      ],
      "metadata": {
        "colab": {
          "base_uri": "https://localhost:8080/"
        },
        "id": "EDzG6eCBoIBl",
        "outputId": "a62bed2c-eef3-40ed-98d6-214c613a5cc7"
      },
      "execution_count": 61,
      "outputs": [
        {
          "output_type": "stream",
          "name": "stdout",
          "text": [
            "Best Accuracy: 87.03 %\n",
            "Best Parameters: {'activation': 'tanh', 'alpha': 1e-05, 'hidden_layer_sizes': (500, 497), 'solver': 'adam'}\n"
          ]
        },
        {
          "output_type": "stream",
          "name": "stderr",
          "text": [
            "/usr/local/lib/python3.7/dist-packages/sklearn/neural_network/_multilayer_perceptron.py:696: ConvergenceWarning: Stochastic Optimizer: Maximum iterations (200) reached and the optimization hasn't converged yet.\n",
            "  ConvergenceWarning,\n"
          ]
        }
      ]
    },
    {
      "cell_type": "markdown",
      "source": [
        "# ANN"
      ],
      "metadata": {
        "id": "1nqS_LtxctsZ"
      }
    },
    {
      "cell_type": "code",
      "source": [
        "from sklearn.preprocessing import StandardScaler\n",
        "sc = StandardScaler()\n",
        "X_train = sc.fit_transform(X_train)\n",
        "X_test = sc.transform(X_test)"
      ],
      "metadata": {
        "id": "iJXuRLS6bvRa"
      },
      "execution_count": 62,
      "outputs": []
    },
    {
      "cell_type": "code",
      "source": [
        "import tensorflow as tf\n",
        "from keras.models import Sequential\n",
        "from keras.layers import Dense\n",
        "import keras.backend as K\n",
        "\n",
        "# ann = tf.keras.models.Sequential()\n",
        "# ann.add(tf.keras.layers.Dense(units=2, activation='relu'))\n",
        "# ann.add(tf.keras.layers.Dense(units=1, activation='sigmoid'))\n",
        "# ann.compile(optimizer = 'adam', loss = 'categorical_crossentropy', metrics = ['accuracy'])\n",
        "# ann.fit(X_train, y_train, batch_size = 64, epochs = 10)\n",
        "\n",
        "model = Sequential()\n",
        "model.add(Dense(20, input_dim=3, kernel_initializer='he_uniform', activation='relu'))\n",
        "model.add(Dense(1, activation='sigmoid'))\n",
        "model.compile(optimizer='adam', loss='binary_crossentropy', metrics = [\"accuracy\"])\n",
        "model.summary()\n",
        "# model.compile(loss='binary_crossentropy', optimizer='adam')"
      ],
      "metadata": {
        "colab": {
          "base_uri": "https://localhost:8080/"
        },
        "id": "agy8Pa_sarGT",
        "outputId": "b203ebf5-f952-4ebd-9dc5-3472857f77d2"
      },
      "execution_count": 63,
      "outputs": [
        {
          "output_type": "stream",
          "name": "stdout",
          "text": [
            "Model: \"sequential\"\n",
            "_________________________________________________________________\n",
            " Layer (type)                Output Shape              Param #   \n",
            "=================================================================\n",
            " dense (Dense)               (None, 20)                80        \n",
            "                                                                 \n",
            " dense_1 (Dense)             (None, 1)                 21        \n",
            "                                                                 \n",
            "=================================================================\n",
            "Total params: 101\n",
            "Trainable params: 101\n",
            "Non-trainable params: 0\n",
            "_________________________________________________________________\n"
          ]
        }
      ]
    },
    {
      "cell_type": "code",
      "source": [
        "model.fit(X_train, y_train, verbose=1, epochs=10)"
      ],
      "metadata": {
        "colab": {
          "base_uri": "https://localhost:8080/"
        },
        "id": "036UNteXkGH8",
        "outputId": "78ce51ab-62c7-428a-c78c-9eba998697b6"
      },
      "execution_count": 64,
      "outputs": [
        {
          "output_type": "stream",
          "name": "stdout",
          "text": [
            "Epoch 1/10\n",
            "20/20 [==============================] - 1s 2ms/step - loss: -0.3532 - accuracy: 0.0688 \n",
            "Epoch 2/10\n",
            "20/20 [==============================] - 0s 2ms/step - loss: -1.0679 - accuracy: 0.0734\n",
            "Epoch 3/10\n",
            "20/20 [==============================] - 0s 2ms/step - loss: -1.7519 - accuracy: 0.0750\n",
            "Epoch 4/10\n",
            "20/20 [==============================] - 0s 2ms/step - loss: -2.4190 - accuracy: 0.0734\n",
            "Epoch 5/10\n",
            "20/20 [==============================] - 0s 2ms/step - loss: -3.0795 - accuracy: 0.0734\n",
            "Epoch 6/10\n",
            "20/20 [==============================] - 0s 2ms/step - loss: -3.7480 - accuracy: 0.0734\n",
            "Epoch 7/10\n",
            "20/20 [==============================] - 0s 2ms/step - loss: -4.4367 - accuracy: 0.0734\n",
            "Epoch 8/10\n",
            "20/20 [==============================] - 0s 2ms/step - loss: -5.1383 - accuracy: 0.0734\n",
            "Epoch 9/10\n",
            "20/20 [==============================] - 0s 2ms/step - loss: -5.8779 - accuracy: 0.0734\n",
            "Epoch 10/10\n",
            "20/20 [==============================] - 0s 2ms/step - loss: -6.6255 - accuracy: 0.0734\n"
          ]
        },
        {
          "output_type": "execute_result",
          "data": {
            "text/plain": [
              "<keras.callbacks.History at 0x7f8c1cb7a410>"
            ]
          },
          "metadata": {},
          "execution_count": 64
        }
      ]
    },
    {
      "cell_type": "code",
      "source": [
        "score = model.evaluate(X_test, y_test,\n",
        "                       batch_size=64, verbose=1)"
      ],
      "metadata": {
        "colab": {
          "base_uri": "https://localhost:8080/"
        },
        "id": "ZFjqNiKXaw2m",
        "outputId": "8e11eb66-fa63-4cc4-895d-1d785a50f962"
      },
      "execution_count": 65,
      "outputs": [
        {
          "output_type": "stream",
          "name": "stdout",
          "text": [
            "3/3 [==============================] - 0s 8ms/step - loss: -7.3843 - accuracy: 0.0875\n"
          ]
        }
      ]
    }
  ]
}