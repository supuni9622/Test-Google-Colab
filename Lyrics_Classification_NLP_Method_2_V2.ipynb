{
  "nbformat": 4,
  "nbformat_minor": 0,
  "metadata": {
    "colab": {
      "name": "Lyrics Classification-NLP-Method 2-V2.ipynb",
      "provenance": [],
      "mount_file_id": "1YAj2b7RAUboshPjCvb_qctJMYK4zPUJE",
      "authorship_tag": "ABX9TyMZIdVJvPrs6oCuISFRLHxA",
      "include_colab_link": true
    },
    "kernelspec": {
      "name": "python3",
      "display_name": "Python 3"
    },
    "language_info": {
      "name": "python"
    }
  },
  "cells": [
    {
      "cell_type": "markdown",
      "metadata": {
        "id": "view-in-github",
        "colab_type": "text"
      },
      "source": [
        "<a href=\"https://colab.research.google.com/github/supuni9622/Test-Google-Colab/blob/main/Lyrics_Classification_NLP_Method_2_V2.ipynb\" target=\"_parent\"><img src=\"https://colab.research.google.com/assets/colab-badge.svg\" alt=\"Open In Colab\"/></a>"
      ]
    },
    {
      "cell_type": "markdown",
      "metadata": {
        "id": "_phlJRDRPrfC"
      },
      "source": [
        "https://towardsdatascience.com/natural-language-processing-nlp-for-machine-learning-d44498845d5b\n"
      ]
    },
    {
      "cell_type": "markdown",
      "metadata": {
        "id": "4ZeR2CCsP2RR"
      },
      "source": [
        "https://github.com/supuni9622/Natural-Language-Processing-NLP-for-Machine-Learning"
      ]
    },
    {
      "cell_type": "markdown",
      "metadata": {
        "id": "zp06jbveP6xe"
      },
      "source": [
        ""
      ]
    },
    {
      "cell_type": "code",
      "metadata": {
        "id": "bGRsbfpSaJ_a"
      },
      "source": [
        "import numpy as np\n",
        "import matplotlib.pyplot as plt\n",
        "import pandas as pd"
      ],
      "execution_count": 1,
      "outputs": []
    },
    {
      "cell_type": "code",
      "metadata": {
        "colab": {
          "base_uri": "https://localhost:8080/",
          "height": 35
        },
        "id": "xZ6hvFVSbGAC",
        "outputId": "387bc811-1cc9-44c6-aa94-2f67f08c242c"
      },
      "source": [
        "pwd"
      ],
      "execution_count": 2,
      "outputs": [
        {
          "output_type": "execute_result",
          "data": {
            "application/vnd.google.colaboratory.intrinsic+json": {
              "type": "string"
            },
            "text/plain": [
              "'/content'"
            ]
          },
          "metadata": {},
          "execution_count": 2
        }
      ]
    },
    {
      "cell_type": "code",
      "metadata": {
        "colab": {
          "base_uri": "https://localhost:8080/"
        },
        "id": "uyqMtBqLbPPe",
        "outputId": "95c6a631-8ecb-4175-c1fb-1fbb44df4e05"
      },
      "source": [
        "cd /content/drive/MyDrive/4th Year Research/M3/Test Implementation/Test-Google-Colab/TestV2"
      ],
      "execution_count": 4,
      "outputs": [
        {
          "output_type": "stream",
          "name": "stdout",
          "text": [
            "/content/drive/MyDrive/4th Year Research/M3/Test Implementation/Test-Google-Colab/TestV2\n"
          ]
        }
      ]
    },
    {
      "cell_type": "code",
      "metadata": {
        "colab": {
          "base_uri": "https://localhost:8080/",
          "height": 35
        },
        "id": "fTIf7lrObRgb",
        "outputId": "d116b27b-376d-4d6d-cb3e-996cb8decc38"
      },
      "source": [
        "pwd"
      ],
      "execution_count": 5,
      "outputs": [
        {
          "output_type": "execute_result",
          "data": {
            "application/vnd.google.colaboratory.intrinsic+json": {
              "type": "string"
            },
            "text/plain": [
              "'/content/drive/MyDrive/4th Year Research/M3/Test Implementation/Test-Google-Colab/TestV2'"
            ]
          },
          "metadata": {},
          "execution_count": 5
        }
      ]
    },
    {
      "cell_type": "code",
      "metadata": {
        "id": "WD5oKe9kaip_"
      },
      "source": [
        "dataset = pd.read_csv('Lyrical_data_2.csv',encoding='cp1252')"
      ],
      "execution_count": 6,
      "outputs": []
    },
    {
      "cell_type": "code",
      "metadata": {
        "colab": {
          "base_uri": "https://localhost:8080/",
          "height": 206
        },
        "id": "AGH4dWb6bWOO",
        "outputId": "f792a476-b3e4-4ccc-92d7-e754d4c5258f"
      },
      "source": [
        "dataset.head()"
      ],
      "execution_count": 7,
      "outputs": [
        {
          "output_type": "execute_result",
          "data": {
            "text/html": [
              "<div>\n",
              "<style scoped>\n",
              "    .dataframe tbody tr th:only-of-type {\n",
              "        vertical-align: middle;\n",
              "    }\n",
              "\n",
              "    .dataframe tbody tr th {\n",
              "        vertical-align: top;\n",
              "    }\n",
              "\n",
              "    .dataframe thead th {\n",
              "        text-align: right;\n",
              "    }\n",
              "</style>\n",
              "<table border=\"1\" class=\"dataframe\">\n",
              "  <thead>\n",
              "    <tr style=\"text-align: right;\">\n",
              "      <th></th>\n",
              "      <th>Song_ID</th>\n",
              "      <th>Song_Title</th>\n",
              "      <th>Chorus</th>\n",
              "      <th>Emotion</th>\n",
              "    </tr>\n",
              "  </thead>\n",
              "  <tbody>\n",
              "    <tr>\n",
              "      <th>0</th>\n",
              "      <td>1</td>\n",
              "      <td>Diana</td>\n",
              "      <td>Diana,\\rLet me be the one to light a fire insi...</td>\n",
              "      <td>Inspiration</td>\n",
              "    </tr>\n",
              "    <tr>\n",
              "      <th>1</th>\n",
              "      <td>2</td>\n",
              "      <td>Don't forget where you belong</td>\n",
              "      <td>Don't forget where you belong\\rHome\\rDon't for...</td>\n",
              "      <td>Inspiration</td>\n",
              "    </tr>\n",
              "    <tr>\n",
              "      <th>2</th>\n",
              "      <td>3</td>\n",
              "      <td>Strong</td>\n",
              "      <td>I'm sorry if I say, \"I need you\"\\nBut I don't ...</td>\n",
              "      <td>Inspiration</td>\n",
              "    </tr>\n",
              "    <tr>\n",
              "      <th>3</th>\n",
              "      <td>4</td>\n",
              "      <td>Happily</td>\n",
              "      <td>I don't care what people say when we're togeth...</td>\n",
              "      <td>Sad</td>\n",
              "    </tr>\n",
              "    <tr>\n",
              "      <th>4</th>\n",
              "      <td>5</td>\n",
              "      <td>Better than words</td>\n",
              "      <td>Better than words\\rMore than a feeling Crazy i...</td>\n",
              "      <td>Love</td>\n",
              "    </tr>\n",
              "  </tbody>\n",
              "</table>\n",
              "</div>"
            ],
            "text/plain": [
              "   Song_ID  ...      Emotion\n",
              "0        1  ...  Inspiration\n",
              "1        2  ...  Inspiration\n",
              "2        3  ...  Inspiration\n",
              "3        4  ...          Sad\n",
              "4        5  ...         Love\n",
              "\n",
              "[5 rows x 4 columns]"
            ]
          },
          "metadata": {},
          "execution_count": 7
        }
      ]
    },
    {
      "cell_type": "code",
      "metadata": {
        "colab": {
          "base_uri": "https://localhost:8080/"
        },
        "id": "MD99bHypKLar",
        "outputId": "702c4842-ef56-4c10-ba78-ae03863c5eef"
      },
      "source": [
        "lyrics = dataset['Chorus']\n",
        "lyrics"
      ],
      "execution_count": 10,
      "outputs": [
        {
          "output_type": "execute_result",
          "data": {
            "text/plain": [
              "0      Diana,\\rLet me be the one to light a fire insi...\n",
              "1      Don't forget where you belong\\rHome\\rDon't for...\n",
              "2      I'm sorry if I say, \"I need you\"\\nBut I don't ...\n",
              "3      I don't care what people say when we're togeth...\n",
              "4      Better than words\\rMore than a feeling Crazy i...\n",
              "                             ...                        \n",
              "276    Anyway I'm just gonna sing and play\\nUm, and I...\n",
              "277    Heart beats fast\\rColors and promises\\rHow to ...\n",
              "278    It's a pity\\rLow down and dirty shame\\rLord, i...\n",
              "279    I went down to the river\\rSat there all night ...\n",
              "280    You think that you have left me behind\\rAnd th...\n",
              "Name: Chorus, Length: 281, dtype: object"
            ]
          },
          "metadata": {},
          "execution_count": 10
        }
      ]
    },
    {
      "cell_type": "code",
      "metadata": {
        "id": "wSdSruceNU_J"
      },
      "source": [
        "dataset.dropna(how='all', axis=1, inplace=True)"
      ],
      "execution_count": 11,
      "outputs": []
    },
    {
      "cell_type": "code",
      "metadata": {
        "colab": {
          "base_uri": "https://localhost:8080/",
          "height": 206
        },
        "id": "bqqfiEj8NahK",
        "outputId": "b156352b-f22c-4247-a0dc-89f111d36de7"
      },
      "source": [
        "dataset.head()"
      ],
      "execution_count": 12,
      "outputs": [
        {
          "output_type": "execute_result",
          "data": {
            "text/html": [
              "<div>\n",
              "<style scoped>\n",
              "    .dataframe tbody tr th:only-of-type {\n",
              "        vertical-align: middle;\n",
              "    }\n",
              "\n",
              "    .dataframe tbody tr th {\n",
              "        vertical-align: top;\n",
              "    }\n",
              "\n",
              "    .dataframe thead th {\n",
              "        text-align: right;\n",
              "    }\n",
              "</style>\n",
              "<table border=\"1\" class=\"dataframe\">\n",
              "  <thead>\n",
              "    <tr style=\"text-align: right;\">\n",
              "      <th></th>\n",
              "      <th>Song_ID</th>\n",
              "      <th>Song_Title</th>\n",
              "      <th>Chorus</th>\n",
              "      <th>Emotion</th>\n",
              "    </tr>\n",
              "  </thead>\n",
              "  <tbody>\n",
              "    <tr>\n",
              "      <th>0</th>\n",
              "      <td>1</td>\n",
              "      <td>Diana</td>\n",
              "      <td>Diana,\\rLet me be the one to light a fire insi...</td>\n",
              "      <td>Inspiration</td>\n",
              "    </tr>\n",
              "    <tr>\n",
              "      <th>1</th>\n",
              "      <td>2</td>\n",
              "      <td>Don't forget where you belong</td>\n",
              "      <td>Don't forget where you belong\\rHome\\rDon't for...</td>\n",
              "      <td>Inspiration</td>\n",
              "    </tr>\n",
              "    <tr>\n",
              "      <th>2</th>\n",
              "      <td>3</td>\n",
              "      <td>Strong</td>\n",
              "      <td>I'm sorry if I say, \"I need you\"\\nBut I don't ...</td>\n",
              "      <td>Inspiration</td>\n",
              "    </tr>\n",
              "    <tr>\n",
              "      <th>3</th>\n",
              "      <td>4</td>\n",
              "      <td>Happily</td>\n",
              "      <td>I don't care what people say when we're togeth...</td>\n",
              "      <td>Sad</td>\n",
              "    </tr>\n",
              "    <tr>\n",
              "      <th>4</th>\n",
              "      <td>5</td>\n",
              "      <td>Better than words</td>\n",
              "      <td>Better than words\\rMore than a feeling Crazy i...</td>\n",
              "      <td>Love</td>\n",
              "    </tr>\n",
              "  </tbody>\n",
              "</table>\n",
              "</div>"
            ],
            "text/plain": [
              "   Song_ID  ...      Emotion\n",
              "0        1  ...  Inspiration\n",
              "1        2  ...  Inspiration\n",
              "2        3  ...  Inspiration\n",
              "3        4  ...          Sad\n",
              "4        5  ...         Love\n",
              "\n",
              "[5 rows x 4 columns]"
            ]
          },
          "metadata": {},
          "execution_count": 12
        }
      ]
    },
    {
      "cell_type": "code",
      "metadata": {
        "colab": {
          "base_uri": "https://localhost:8080/",
          "height": 424
        },
        "id": "-QPC9EIAN8yx",
        "outputId": "27654d15-1bc0-4920-efe0-8bc09dddf881"
      },
      "source": [
        "dataset"
      ],
      "execution_count": 13,
      "outputs": [
        {
          "output_type": "execute_result",
          "data": {
            "text/html": [
              "<div>\n",
              "<style scoped>\n",
              "    .dataframe tbody tr th:only-of-type {\n",
              "        vertical-align: middle;\n",
              "    }\n",
              "\n",
              "    .dataframe tbody tr th {\n",
              "        vertical-align: top;\n",
              "    }\n",
              "\n",
              "    .dataframe thead th {\n",
              "        text-align: right;\n",
              "    }\n",
              "</style>\n",
              "<table border=\"1\" class=\"dataframe\">\n",
              "  <thead>\n",
              "    <tr style=\"text-align: right;\">\n",
              "      <th></th>\n",
              "      <th>Song_ID</th>\n",
              "      <th>Song_Title</th>\n",
              "      <th>Chorus</th>\n",
              "      <th>Emotion</th>\n",
              "    </tr>\n",
              "  </thead>\n",
              "  <tbody>\n",
              "    <tr>\n",
              "      <th>0</th>\n",
              "      <td>1</td>\n",
              "      <td>Diana</td>\n",
              "      <td>Diana,\\rLet me be the one to light a fire insi...</td>\n",
              "      <td>Inspiration</td>\n",
              "    </tr>\n",
              "    <tr>\n",
              "      <th>1</th>\n",
              "      <td>2</td>\n",
              "      <td>Don't forget where you belong</td>\n",
              "      <td>Don't forget where you belong\\rHome\\rDon't for...</td>\n",
              "      <td>Inspiration</td>\n",
              "    </tr>\n",
              "    <tr>\n",
              "      <th>2</th>\n",
              "      <td>3</td>\n",
              "      <td>Strong</td>\n",
              "      <td>I'm sorry if I say, \"I need you\"\\nBut I don't ...</td>\n",
              "      <td>Inspiration</td>\n",
              "    </tr>\n",
              "    <tr>\n",
              "      <th>3</th>\n",
              "      <td>4</td>\n",
              "      <td>Happily</td>\n",
              "      <td>I don't care what people say when we're togeth...</td>\n",
              "      <td>Sad</td>\n",
              "    </tr>\n",
              "    <tr>\n",
              "      <th>4</th>\n",
              "      <td>5</td>\n",
              "      <td>Better than words</td>\n",
              "      <td>Better than words\\rMore than a feeling Crazy i...</td>\n",
              "      <td>Love</td>\n",
              "    </tr>\n",
              "    <tr>\n",
              "      <th>...</th>\n",
              "      <td>...</td>\n",
              "      <td>...</td>\n",
              "      <td>...</td>\n",
              "      <td>...</td>\n",
              "    </tr>\n",
              "    <tr>\n",
              "      <th>276</th>\n",
              "      <td>277</td>\n",
              "      <td>Love me like you do</td>\n",
              "      <td>Anyway I'm just gonna sing and play\\nUm, and I...</td>\n",
              "      <td>Love</td>\n",
              "    </tr>\n",
              "    <tr>\n",
              "      <th>277</th>\n",
              "      <td>278</td>\n",
              "      <td>A thousand years</td>\n",
              "      <td>Heart beats fast\\rColors and promises\\rHow to ...</td>\n",
              "      <td>Love</td>\n",
              "    </tr>\n",
              "    <tr>\n",
              "      <th>278</th>\n",
              "      <td>279</td>\n",
              "      <td>Money Is The Name of The Game</td>\n",
              "      <td>It's a pity\\rLow down and dirty shame\\rLord, i...</td>\n",
              "      <td>Angry</td>\n",
              "    </tr>\n",
              "    <tr>\n",
              "      <th>279</th>\n",
              "      <td>280</td>\n",
              "      <td>Blues In My Bottle</td>\n",
              "      <td>I went down to the river\\rSat there all night ...</td>\n",
              "      <td>Sad</td>\n",
              "    </tr>\n",
              "    <tr>\n",
              "      <th>280</th>\n",
              "      <td>281</td>\n",
              "      <td>As The Years Go Passing By</td>\n",
              "      <td>You think that you have left me behind\\rAnd th...</td>\n",
              "      <td>Sad</td>\n",
              "    </tr>\n",
              "  </tbody>\n",
              "</table>\n",
              "<p>281 rows × 4 columns</p>\n",
              "</div>"
            ],
            "text/plain": [
              "     Song_ID  ...      Emotion\n",
              "0          1  ...  Inspiration\n",
              "1          2  ...  Inspiration\n",
              "2          3  ...  Inspiration\n",
              "3          4  ...          Sad\n",
              "4          5  ...         Love\n",
              "..       ...  ...          ...\n",
              "276      277  ...         Love\n",
              "277      278  ...         Love\n",
              "278      279  ...        Angry\n",
              "279      280  ...          Sad\n",
              "280      281  ...          Sad\n",
              "\n",
              "[281 rows x 4 columns]"
            ]
          },
          "metadata": {},
          "execution_count": 13
        }
      ]
    },
    {
      "cell_type": "code",
      "metadata": {
        "colab": {
          "base_uri": "https://localhost:8080/"
        },
        "id": "TWHQX8pWNpOa",
        "outputId": "7fbc8e46-c4a1-4482-801b-8357efc2467e"
      },
      "source": [
        "lyrics2 = dataset['Chorus']\n",
        "lyrics2"
      ],
      "execution_count": 14,
      "outputs": [
        {
          "output_type": "execute_result",
          "data": {
            "text/plain": [
              "0      Diana,\\rLet me be the one to light a fire insi...\n",
              "1      Don't forget where you belong\\rHome\\rDon't for...\n",
              "2      I'm sorry if I say, \"I need you\"\\nBut I don't ...\n",
              "3      I don't care what people say when we're togeth...\n",
              "4      Better than words\\rMore than a feeling Crazy i...\n",
              "                             ...                        \n",
              "276    Anyway I'm just gonna sing and play\\nUm, and I...\n",
              "277    Heart beats fast\\rColors and promises\\rHow to ...\n",
              "278    It's a pity\\rLow down and dirty shame\\rLord, i...\n",
              "279    I went down to the river\\rSat there all night ...\n",
              "280    You think that you have left me behind\\rAnd th...\n",
              "Name: Chorus, Length: 281, dtype: object"
            ]
          },
          "metadata": {},
          "execution_count": 14
        }
      ]
    },
    {
      "cell_type": "markdown",
      "metadata": {
        "id": "7vvB4soGOFXP"
      },
      "source": [
        "Checking the empty rows in dataset"
      ]
    },
    {
      "cell_type": "code",
      "metadata": {
        "colab": {
          "base_uri": "https://localhost:8080/"
        },
        "id": "ZKKWupuDOE-g",
        "outputId": "f792d39d-ed96-4f7b-c413-ef6e54cdd8fa"
      },
      "source": [
        "print (dataset.isnull().sum())"
      ],
      "execution_count": 16,
      "outputs": [
        {
          "output_type": "stream",
          "name": "stdout",
          "text": [
            "Song_ID       0\n",
            "Song_Title    0\n",
            "Chorus        1\n",
            "Emotion       2\n",
            "dtype: int64\n"
          ]
        }
      ]
    },
    {
      "cell_type": "code",
      "metadata": {
        "colab": {
          "base_uri": "https://localhost:8080/",
          "height": 424
        },
        "id": "1zhJtwuJObZu",
        "outputId": "44b2263b-6c82-411e-e435-055318ff743e"
      },
      "source": [
        "modifiedDF = dataset.dropna()\n",
        "modifiedDF"
      ],
      "execution_count": 17,
      "outputs": [
        {
          "output_type": "execute_result",
          "data": {
            "text/html": [
              "<div>\n",
              "<style scoped>\n",
              "    .dataframe tbody tr th:only-of-type {\n",
              "        vertical-align: middle;\n",
              "    }\n",
              "\n",
              "    .dataframe tbody tr th {\n",
              "        vertical-align: top;\n",
              "    }\n",
              "\n",
              "    .dataframe thead th {\n",
              "        text-align: right;\n",
              "    }\n",
              "</style>\n",
              "<table border=\"1\" class=\"dataframe\">\n",
              "  <thead>\n",
              "    <tr style=\"text-align: right;\">\n",
              "      <th></th>\n",
              "      <th>Song_ID</th>\n",
              "      <th>Song_Title</th>\n",
              "      <th>Chorus</th>\n",
              "      <th>Emotion</th>\n",
              "    </tr>\n",
              "  </thead>\n",
              "  <tbody>\n",
              "    <tr>\n",
              "      <th>0</th>\n",
              "      <td>1</td>\n",
              "      <td>Diana</td>\n",
              "      <td>Diana,\\rLet me be the one to light a fire insi...</td>\n",
              "      <td>Inspiration</td>\n",
              "    </tr>\n",
              "    <tr>\n",
              "      <th>1</th>\n",
              "      <td>2</td>\n",
              "      <td>Don't forget where you belong</td>\n",
              "      <td>Don't forget where you belong\\rHome\\rDon't for...</td>\n",
              "      <td>Inspiration</td>\n",
              "    </tr>\n",
              "    <tr>\n",
              "      <th>2</th>\n",
              "      <td>3</td>\n",
              "      <td>Strong</td>\n",
              "      <td>I'm sorry if I say, \"I need you\"\\nBut I don't ...</td>\n",
              "      <td>Inspiration</td>\n",
              "    </tr>\n",
              "    <tr>\n",
              "      <th>3</th>\n",
              "      <td>4</td>\n",
              "      <td>Happily</td>\n",
              "      <td>I don't care what people say when we're togeth...</td>\n",
              "      <td>Sad</td>\n",
              "    </tr>\n",
              "    <tr>\n",
              "      <th>4</th>\n",
              "      <td>5</td>\n",
              "      <td>Better than words</td>\n",
              "      <td>Better than words\\rMore than a feeling Crazy i...</td>\n",
              "      <td>Love</td>\n",
              "    </tr>\n",
              "    <tr>\n",
              "      <th>...</th>\n",
              "      <td>...</td>\n",
              "      <td>...</td>\n",
              "      <td>...</td>\n",
              "      <td>...</td>\n",
              "    </tr>\n",
              "    <tr>\n",
              "      <th>276</th>\n",
              "      <td>277</td>\n",
              "      <td>Love me like you do</td>\n",
              "      <td>Anyway I'm just gonna sing and play\\nUm, and I...</td>\n",
              "      <td>Love</td>\n",
              "    </tr>\n",
              "    <tr>\n",
              "      <th>277</th>\n",
              "      <td>278</td>\n",
              "      <td>A thousand years</td>\n",
              "      <td>Heart beats fast\\rColors and promises\\rHow to ...</td>\n",
              "      <td>Love</td>\n",
              "    </tr>\n",
              "    <tr>\n",
              "      <th>278</th>\n",
              "      <td>279</td>\n",
              "      <td>Money Is The Name of The Game</td>\n",
              "      <td>It's a pity\\rLow down and dirty shame\\rLord, i...</td>\n",
              "      <td>Angry</td>\n",
              "    </tr>\n",
              "    <tr>\n",
              "      <th>279</th>\n",
              "      <td>280</td>\n",
              "      <td>Blues In My Bottle</td>\n",
              "      <td>I went down to the river\\rSat there all night ...</td>\n",
              "      <td>Sad</td>\n",
              "    </tr>\n",
              "    <tr>\n",
              "      <th>280</th>\n",
              "      <td>281</td>\n",
              "      <td>As The Years Go Passing By</td>\n",
              "      <td>You think that you have left me behind\\rAnd th...</td>\n",
              "      <td>Sad</td>\n",
              "    </tr>\n",
              "  </tbody>\n",
              "</table>\n",
              "<p>279 rows × 4 columns</p>\n",
              "</div>"
            ],
            "text/plain": [
              "     Song_ID  ...      Emotion\n",
              "0          1  ...  Inspiration\n",
              "1          2  ...  Inspiration\n",
              "2          3  ...  Inspiration\n",
              "3          4  ...          Sad\n",
              "4          5  ...         Love\n",
              "..       ...  ...          ...\n",
              "276      277  ...         Love\n",
              "277      278  ...         Love\n",
              "278      279  ...        Angry\n",
              "279      280  ...          Sad\n",
              "280      281  ...          Sad\n",
              "\n",
              "[279 rows x 4 columns]"
            ]
          },
          "metadata": {},
          "execution_count": 17
        }
      ]
    },
    {
      "cell_type": "code",
      "metadata": {
        "id": "BrVmd4PBDhZ9"
      },
      "source": [
        ""
      ],
      "execution_count": null,
      "outputs": []
    },
    {
      "cell_type": "code",
      "metadata": {
        "colab": {
          "base_uri": "https://localhost:8080/"
        },
        "id": "FTGlaPVebvyM",
        "outputId": "7dc6d4ac-da82-4a01-8aa9-91d60b69449b"
      },
      "source": [
        "import re\n",
        "import nltk\n",
        "nltk.download('stopwords')\n",
        "from nltk.corpus import stopwords\n",
        "from nltk.stem.porter import PorterStemmer\n",
        "corpus = []\n",
        "\n"
      ],
      "execution_count": 20,
      "outputs": [
        {
          "output_type": "stream",
          "name": "stdout",
          "text": [
            "[nltk_data] Downloading package stopwords to /root/nltk_data...\n",
            "[nltk_data]   Unzipping corpora/stopwords.zip.\n"
          ]
        }
      ]
    },
    {
      "cell_type": "markdown",
      "metadata": {
        "id": "L0980jOpGxul"
      },
      "source": [
        "Remove punctuation"
      ]
    },
    {
      "cell_type": "code",
      "metadata": {
        "colab": {
          "base_uri": "https://localhost:8080/",
          "height": 35
        },
        "id": "DfjuMIRlFKkJ",
        "outputId": "95fb9041-e78b-454b-8a79-6690bb6b2f67"
      },
      "source": [
        "import string\n",
        "string.punctuation"
      ],
      "execution_count": 21,
      "outputs": [
        {
          "output_type": "execute_result",
          "data": {
            "application/vnd.google.colaboratory.intrinsic+json": {
              "type": "string"
            },
            "text/plain": [
              "'!\"#$%&\\'()*+,-./:;<=>?@[\\\\]^_`{|}~'"
            ]
          },
          "metadata": {},
          "execution_count": 21
        }
      ]
    },
    {
      "cell_type": "code",
      "metadata": {
        "colab": {
          "base_uri": "https://localhost:8080/",
          "height": 310
        },
        "id": "47VeY-RFFV7b",
        "outputId": "4936579d-7a2d-46b8-b6b9-93e739f4f19a"
      },
      "source": [
        "def remove_punct(text):\n",
        "  text_nopunct = \"\".join({char for char in text if char not in string.punctuation})\n",
        "  return text_nopunct\n",
        "\n",
        "modifiedDF['Chorus_Cleaned'] = modifiedDF['Chorus'].apply(lambda x: remove_punct(x)) \n",
        "\n",
        "modifiedDF.head()"
      ],
      "execution_count": 22,
      "outputs": [
        {
          "output_type": "stream",
          "name": "stderr",
          "text": [
            "/usr/local/lib/python3.7/dist-packages/ipykernel_launcher.py:5: SettingWithCopyWarning: \n",
            "A value is trying to be set on a copy of a slice from a DataFrame.\n",
            "Try using .loc[row_indexer,col_indexer] = value instead\n",
            "\n",
            "See the caveats in the documentation: https://pandas.pydata.org/pandas-docs/stable/user_guide/indexing.html#returning-a-view-versus-a-copy\n",
            "  \"\"\"\n"
          ]
        },
        {
          "output_type": "execute_result",
          "data": {
            "text/html": [
              "<div>\n",
              "<style scoped>\n",
              "    .dataframe tbody tr th:only-of-type {\n",
              "        vertical-align: middle;\n",
              "    }\n",
              "\n",
              "    .dataframe tbody tr th {\n",
              "        vertical-align: top;\n",
              "    }\n",
              "\n",
              "    .dataframe thead th {\n",
              "        text-align: right;\n",
              "    }\n",
              "</style>\n",
              "<table border=\"1\" class=\"dataframe\">\n",
              "  <thead>\n",
              "    <tr style=\"text-align: right;\">\n",
              "      <th></th>\n",
              "      <th>Song_ID</th>\n",
              "      <th>Song_Title</th>\n",
              "      <th>Chorus</th>\n",
              "      <th>Emotion</th>\n",
              "      <th>Chorus_Cleaned</th>\n",
              "    </tr>\n",
              "  </thead>\n",
              "  <tbody>\n",
              "    <tr>\n",
              "      <th>0</th>\n",
              "      <td>1</td>\n",
              "      <td>Diana</td>\n",
              "      <td>Diana,\\rLet me be the one to light a fire insi...</td>\n",
              "      <td>Inspiration</td>\n",
              "      <td>ibYpvz\\rl tDIwLouehBcrydksnmagf</td>\n",
              "    </tr>\n",
              "    <tr>\n",
              "      <th>1</th>\n",
              "      <td>2</td>\n",
              "      <td>Don't forget where you belong</td>\n",
              "      <td>Don't forget where you belong\\rHome\\rDon't for...</td>\n",
              "      <td>Inspiration</td>\n",
              "      <td>biYpv\\rl tDIwouHehrydsnAmagf</td>\n",
              "    </tr>\n",
              "    <tr>\n",
              "      <th>2</th>\n",
              "      <td>3</td>\n",
              "      <td>Strong</td>\n",
              "      <td>I'm sorry if I say, \"I need you\"\\nBut I don't ...</td>\n",
              "      <td>Inspiration</td>\n",
              "      <td>iTvl Itw\\noueBchrydksnCmagf</td>\n",
              "    </tr>\n",
              "    <tr>\n",
              "      <th>3</th>\n",
              "      <td>4</td>\n",
              "      <td>Happily</td>\n",
              "      <td>I don't care what people say when we're togeth...</td>\n",
              "      <td>Sad</td>\n",
              "      <td>biYpv\\rl SItwoujehcrydksnmagf</td>\n",
              "    </tr>\n",
              "    <tr>\n",
              "      <th>4</th>\n",
              "      <td>5</td>\n",
              "      <td>Better than words</td>\n",
              "      <td>Better than words\\rMore than a feeling Crazy i...</td>\n",
              "      <td>Love</td>\n",
              "      <td>ibYpvz\\rl tDIwoueBhcrydkMsnEGCmagf</td>\n",
              "    </tr>\n",
              "  </tbody>\n",
              "</table>\n",
              "</div>"
            ],
            "text/plain": [
              "   Song_ID  ...                      Chorus_Cleaned\n",
              "0        1  ...     ibYpvz\\rl tDIwLouehBcrydksnmagf\n",
              "1        2  ...        biYpv\\rl tDIwouHehrydsnAmagf\n",
              "2        3  ...         iTvl Itw\\noueBchrydksnCmagf\n",
              "3        4  ...       biYpv\\rl SItwoujehcrydksnmagf\n",
              "4        5  ...  ibYpvz\\rl tDIwoueBhcrydkMsnEGCmagf\n",
              "\n",
              "[5 rows x 5 columns]"
            ]
          },
          "metadata": {},
          "execution_count": 22
        }
      ]
    },
    {
      "cell_type": "markdown",
      "metadata": {
        "id": "1AZliC5uG2ep"
      },
      "source": [
        "Tokenization : Tokenizing separates text into units such as sentences or words. It gives structure to previously unstructured text. eg: Plata o Plomo-> ‘Plata’,’o’,’Plomo’."
      ]
    },
    {
      "cell_type": "code",
      "metadata": {
        "colab": {
          "base_uri": "https://localhost:8080/",
          "height": 345
        },
        "id": "8hTaA0LLG-Fg",
        "outputId": "ca17b1e1-d3e6-4e1b-addd-44e3cb75f56e"
      },
      "source": [
        "import re\n",
        "\n",
        "#Function to tokenize words\n",
        "def tokenize(text):\n",
        "  tokens = re.split('\\W+', text) #W+ means that either a word character (A-Za-z0-9) or a dash (-) can go there\n",
        "  return tokens\n",
        "\n",
        "modifiedDF['Chorus_tokenized'] = modifiedDF['Chorus'].apply(lambda x: tokenize(x.lower()))\n",
        "\n",
        "modifiedDF.head()\n"
      ],
      "execution_count": 26,
      "outputs": [
        {
          "output_type": "stream",
          "name": "stderr",
          "text": [
            "/usr/local/lib/python3.7/dist-packages/ipykernel_launcher.py:8: SettingWithCopyWarning: \n",
            "A value is trying to be set on a copy of a slice from a DataFrame.\n",
            "Try using .loc[row_indexer,col_indexer] = value instead\n",
            "\n",
            "See the caveats in the documentation: https://pandas.pydata.org/pandas-docs/stable/user_guide/indexing.html#returning-a-view-versus-a-copy\n",
            "  \n"
          ]
        },
        {
          "output_type": "execute_result",
          "data": {
            "text/html": [
              "<div>\n",
              "<style scoped>\n",
              "    .dataframe tbody tr th:only-of-type {\n",
              "        vertical-align: middle;\n",
              "    }\n",
              "\n",
              "    .dataframe tbody tr th {\n",
              "        vertical-align: top;\n",
              "    }\n",
              "\n",
              "    .dataframe thead th {\n",
              "        text-align: right;\n",
              "    }\n",
              "</style>\n",
              "<table border=\"1\" class=\"dataframe\">\n",
              "  <thead>\n",
              "    <tr style=\"text-align: right;\">\n",
              "      <th></th>\n",
              "      <th>Song_ID</th>\n",
              "      <th>Song_Title</th>\n",
              "      <th>Chorus</th>\n",
              "      <th>Emotion</th>\n",
              "      <th>Chorus_Cleaned</th>\n",
              "      <th>Chorus_tokenized</th>\n",
              "    </tr>\n",
              "  </thead>\n",
              "  <tbody>\n",
              "    <tr>\n",
              "      <th>0</th>\n",
              "      <td>1</td>\n",
              "      <td>Diana</td>\n",
              "      <td>Diana,\\rLet me be the one to light a fire insi...</td>\n",
              "      <td>Inspiration</td>\n",
              "      <td>ibYpvz\\rl tDIwLouehBcrydksnmagf</td>\n",
              "      <td>[diana, let, me, be, the, one, to, light, a, f...</td>\n",
              "    </tr>\n",
              "    <tr>\n",
              "      <th>1</th>\n",
              "      <td>2</td>\n",
              "      <td>Don't forget where you belong</td>\n",
              "      <td>Don't forget where you belong\\rHome\\rDon't for...</td>\n",
              "      <td>Inspiration</td>\n",
              "      <td>biYpv\\rl tDIwouHehrydsnAmagf</td>\n",
              "      <td>[don, t, forget, where, you, belong, home, don...</td>\n",
              "    </tr>\n",
              "    <tr>\n",
              "      <th>2</th>\n",
              "      <td>3</td>\n",
              "      <td>Strong</td>\n",
              "      <td>I'm sorry if I say, \"I need you\"\\nBut I don't ...</td>\n",
              "      <td>Inspiration</td>\n",
              "      <td>iTvl Itw\\noueBchrydksnCmagf</td>\n",
              "      <td>[i, m, sorry, if, i, say, i, need, you, but, i...</td>\n",
              "    </tr>\n",
              "    <tr>\n",
              "      <th>3</th>\n",
              "      <td>4</td>\n",
              "      <td>Happily</td>\n",
              "      <td>I don't care what people say when we're togeth...</td>\n",
              "      <td>Sad</td>\n",
              "      <td>biYpv\\rl SItwoujehcrydksnmagf</td>\n",
              "      <td>[i, don, t, care, what, people, say, when, we,...</td>\n",
              "    </tr>\n",
              "    <tr>\n",
              "      <th>4</th>\n",
              "      <td>5</td>\n",
              "      <td>Better than words</td>\n",
              "      <td>Better than words\\rMore than a feeling Crazy i...</td>\n",
              "      <td>Love</td>\n",
              "      <td>ibYpvz\\rl tDIwoueBhcrydkMsnEGCmagf</td>\n",
              "      <td>[better, than, words, more, than, a, feeling, ...</td>\n",
              "    </tr>\n",
              "  </tbody>\n",
              "</table>\n",
              "</div>"
            ],
            "text/plain": [
              "   Song_ID  ...                                   Chorus_tokenized\n",
              "0        1  ...  [diana, let, me, be, the, one, to, light, a, f...\n",
              "1        2  ...  [don, t, forget, where, you, belong, home, don...\n",
              "2        3  ...  [i, m, sorry, if, i, say, i, need, you, but, i...\n",
              "3        4  ...  [i, don, t, care, what, people, say, when, we,...\n",
              "4        5  ...  [better, than, words, more, than, a, feeling, ...\n",
              "\n",
              "[5 rows x 6 columns]"
            ]
          },
          "metadata": {},
          "execution_count": 26
        }
      ]
    },
    {
      "cell_type": "markdown",
      "metadata": {
        "id": "2njiGr_qIXgw"
      },
      "source": [
        "Remove stopwords"
      ]
    },
    {
      "cell_type": "code",
      "metadata": {
        "colab": {
          "base_uri": "https://localhost:8080/",
          "height": 414
        },
        "id": "AmPMHHKpIaG5",
        "outputId": "24c17bf1-dde7-418a-9583-b5c7f72ee333"
      },
      "source": [
        "import nltk\n",
        "nltk.download('stopwords')\n",
        "from nltk.corpus import stopwords\n",
        "\n",
        "stopwords = stopwords.words('english') #All english stop words\n",
        "stopwords.remove('not')\n",
        "stopwords.remove('down')\n",
        "stopwords.remove('up')\n",
        "stopwords.remove('in')\n",
        "stopwords.remove('with')\n",
        "stopwords.remove('you')\n",
        "stopwords.remove('why')\n",
        "# nltk.download('stopwords')\n",
        "# from nltk.corpus import stopwords\n",
        "# from nltk.stem.porter import PorterStemmer\n",
        "# corpus = []\n",
        "# for i in range(0, 34):\n",
        "#   Lyrics = re.sub('[^a-zA-Z]', ' ', modifiedDF['Chorus'][i])\n",
        "#   Lyrics = Lyrics.lower()\n",
        "#   Lyrics = Lyrics.split()\n",
        "#   ps = PorterStemmer()\n",
        "#   all_stopwords = stopwords.words('english')\n",
        "#   all_stopwords.remove('not')\n",
        "#   Lyrics = [ps.stem(word) for word in Lyrics if not word in set(all_stopwords)]\n",
        "#   Lyrics = ' '.join(Lyrics)\n",
        "#   corpus.append(Lyrics)\n",
        "\n",
        "#Function to remove stopwords\n",
        "def remove_stopwords(tokernized_list):\n",
        "  text = [word for word in tokernized_list if word not in stopwords] \n",
        "  return text\n",
        "\n",
        "modifiedDF['Chorus_nostop'] = modifiedDF['Chorus_tokenized'].apply(lambda x: remove_stopwords(x))\n",
        "\n",
        "modifiedDF.head()\n"
      ],
      "execution_count": 34,
      "outputs": [
        {
          "output_type": "stream",
          "name": "stdout",
          "text": [
            "[nltk_data] Downloading package stopwords to /root/nltk_data...\n",
            "[nltk_data]   Package stopwords is already up-to-date!\n"
          ]
        },
        {
          "output_type": "stream",
          "name": "stderr",
          "text": [
            "/usr/local/lib/python3.7/dist-packages/ipykernel_launcher.py:33: SettingWithCopyWarning: \n",
            "A value is trying to be set on a copy of a slice from a DataFrame.\n",
            "Try using .loc[row_indexer,col_indexer] = value instead\n",
            "\n",
            "See the caveats in the documentation: https://pandas.pydata.org/pandas-docs/stable/user_guide/indexing.html#returning-a-view-versus-a-copy\n"
          ]
        },
        {
          "output_type": "execute_result",
          "data": {
            "text/html": [
              "<div>\n",
              "<style scoped>\n",
              "    .dataframe tbody tr th:only-of-type {\n",
              "        vertical-align: middle;\n",
              "    }\n",
              "\n",
              "    .dataframe tbody tr th {\n",
              "        vertical-align: top;\n",
              "    }\n",
              "\n",
              "    .dataframe thead th {\n",
              "        text-align: right;\n",
              "    }\n",
              "</style>\n",
              "<table border=\"1\" class=\"dataframe\">\n",
              "  <thead>\n",
              "    <tr style=\"text-align: right;\">\n",
              "      <th></th>\n",
              "      <th>Song_ID</th>\n",
              "      <th>Song_Title</th>\n",
              "      <th>Chorus</th>\n",
              "      <th>Emotion</th>\n",
              "      <th>Chorus_Cleaned</th>\n",
              "      <th>Chorus_tokenized</th>\n",
              "      <th>Chorus_nostop</th>\n",
              "    </tr>\n",
              "  </thead>\n",
              "  <tbody>\n",
              "    <tr>\n",
              "      <th>0</th>\n",
              "      <td>1</td>\n",
              "      <td>Diana</td>\n",
              "      <td>Diana,\\rLet me be the one to light a fire insi...</td>\n",
              "      <td>Inspiration</td>\n",
              "      <td>ibYpvz\\rl tDIwLouehBcrydksnmagf</td>\n",
              "      <td>[diana, let, me, be, the, one, to, light, a, f...</td>\n",
              "      <td>[diana, let, one, light, fire, inside, eyes, y...</td>\n",
              "    </tr>\n",
              "    <tr>\n",
              "      <th>1</th>\n",
              "      <td>2</td>\n",
              "      <td>Don't forget where you belong</td>\n",
              "      <td>Don't forget where you belong\\rHome\\rDon't for...</td>\n",
              "      <td>Inspiration</td>\n",
              "      <td>biYpv\\rl tDIwouHehrydsnAmagf</td>\n",
              "      <td>[don, t, forget, where, you, belong, home, don...</td>\n",
              "      <td>[forget, you, belong, home, forget, you, belon...</td>\n",
              "    </tr>\n",
              "    <tr>\n",
              "      <th>2</th>\n",
              "      <td>3</td>\n",
              "      <td>Strong</td>\n",
              "      <td>I'm sorry if I say, \"I need you\"\\nBut I don't ...</td>\n",
              "      <td>Inspiration</td>\n",
              "      <td>iTvl Itw\\noueBchrydksnCmagf</td>\n",
              "      <td>[i, m, sorry, if, i, say, i, need, you, but, i...</td>\n",
              "      <td>[sorry, say, need, you, care, not, scared, lov...</td>\n",
              "    </tr>\n",
              "    <tr>\n",
              "      <th>3</th>\n",
              "      <td>4</td>\n",
              "      <td>Happily</td>\n",
              "      <td>I don't care what people say when we're togeth...</td>\n",
              "      <td>Sad</td>\n",
              "      <td>biYpv\\rl SItwoujehcrydksnmagf</td>\n",
              "      <td>[i, don, t, care, what, people, say, when, we,...</td>\n",
              "      <td>[care, people, say, together, you, know, wanna...</td>\n",
              "    </tr>\n",
              "    <tr>\n",
              "      <th>4</th>\n",
              "      <td>5</td>\n",
              "      <td>Better than words</td>\n",
              "      <td>Better than words\\rMore than a feeling Crazy i...</td>\n",
              "      <td>Love</td>\n",
              "      <td>ibYpvz\\rl tDIwoueBhcrydkMsnEGCmagf</td>\n",
              "      <td>[better, than, words, more, than, a, feeling, ...</td>\n",
              "      <td>[better, words, feeling, crazy, in, love, danc...</td>\n",
              "    </tr>\n",
              "  </tbody>\n",
              "</table>\n",
              "</div>"
            ],
            "text/plain": [
              "   Song_ID  ...                                      Chorus_nostop\n",
              "0        1  ...  [diana, let, one, light, fire, inside, eyes, y...\n",
              "1        2  ...  [forget, you, belong, home, forget, you, belon...\n",
              "2        3  ...  [sorry, say, need, you, care, not, scared, lov...\n",
              "3        4  ...  [care, people, say, together, you, know, wanna...\n",
              "4        5  ...  [better, words, feeling, crazy, in, love, danc...\n",
              "\n",
              "[5 rows x 7 columns]"
            ]
          },
          "metadata": {},
          "execution_count": 34
        }
      ]
    },
    {
      "cell_type": "markdown",
      "metadata": {
        "id": "ZqNpoctqLAwU"
      },
      "source": [
        "Stemming : Stemming helps reduce a word to its stem form. It often makes sense to treat related words in the same way. It removes suffices, like “ing”, “ly”, “s”, etc. by a simple rule-based approach. It reduces the corpus of words but often the actual words get neglected. "
      ]
    },
    {
      "cell_type": "code",
      "metadata": {
        "colab": {
          "base_uri": "https://localhost:8080/",
          "height": 605
        },
        "id": "XJ4xQiYVLEt8",
        "outputId": "2358081b-e620-44f3-d979-5aecee766001"
      },
      "source": [
        "from nltk.stem.porter import PorterStemmer\n",
        "\n",
        "ps = PorterStemmer()\n",
        "\n",
        "def stemming(tokernized_text):\n",
        "  text = [ps.stem(word) for word in tokernized_text]\n",
        "  return text\n",
        "\n",
        "modifiedDF['Chorus_nostop_stemmed'] = modifiedDF['Chorus_nostop'].apply(lambda x: stemming(x))\n",
        "modifiedDF['Chorus_stemmed'] = modifiedDF['Chorus_tokenized'].apply(lambda x: stemming(x))\n",
        "\n",
        "modifiedDF.head()"
      ],
      "execution_count": 36,
      "outputs": [
        {
          "output_type": "stream",
          "name": "stderr",
          "text": [
            "/usr/local/lib/python3.7/dist-packages/ipykernel_launcher.py:9: SettingWithCopyWarning: \n",
            "A value is trying to be set on a copy of a slice from a DataFrame.\n",
            "Try using .loc[row_indexer,col_indexer] = value instead\n",
            "\n",
            "See the caveats in the documentation: https://pandas.pydata.org/pandas-docs/stable/user_guide/indexing.html#returning-a-view-versus-a-copy\n",
            "  if __name__ == '__main__':\n",
            "/usr/local/lib/python3.7/dist-packages/ipykernel_launcher.py:10: SettingWithCopyWarning: \n",
            "A value is trying to be set on a copy of a slice from a DataFrame.\n",
            "Try using .loc[row_indexer,col_indexer] = value instead\n",
            "\n",
            "See the caveats in the documentation: https://pandas.pydata.org/pandas-docs/stable/user_guide/indexing.html#returning-a-view-versus-a-copy\n",
            "  # Remove the CWD from sys.path while we load stuff.\n"
          ]
        },
        {
          "output_type": "execute_result",
          "data": {
            "text/html": [
              "<div>\n",
              "<style scoped>\n",
              "    .dataframe tbody tr th:only-of-type {\n",
              "        vertical-align: middle;\n",
              "    }\n",
              "\n",
              "    .dataframe tbody tr th {\n",
              "        vertical-align: top;\n",
              "    }\n",
              "\n",
              "    .dataframe thead th {\n",
              "        text-align: right;\n",
              "    }\n",
              "</style>\n",
              "<table border=\"1\" class=\"dataframe\">\n",
              "  <thead>\n",
              "    <tr style=\"text-align: right;\">\n",
              "      <th></th>\n",
              "      <th>Song_ID</th>\n",
              "      <th>Song_Title</th>\n",
              "      <th>Chorus</th>\n",
              "      <th>Emotion</th>\n",
              "      <th>Chorus_Cleaned</th>\n",
              "      <th>Chorus_tokenized</th>\n",
              "      <th>Chorus_nostop</th>\n",
              "      <th>Chorus_nostop_stemmed</th>\n",
              "      <th>Chorus_stemmed</th>\n",
              "    </tr>\n",
              "  </thead>\n",
              "  <tbody>\n",
              "    <tr>\n",
              "      <th>0</th>\n",
              "      <td>1</td>\n",
              "      <td>Diana</td>\n",
              "      <td>Diana,\\rLet me be the one to light a fire insi...</td>\n",
              "      <td>Inspiration</td>\n",
              "      <td>ibYpvz\\rl tDIwLouehBcrydksnmagf</td>\n",
              "      <td>[diana, let, me, be, the, one, to, light, a, f...</td>\n",
              "      <td>[diana, let, one, light, fire, inside, eyes, y...</td>\n",
              "      <td>[diana, let, one, light, fire, insid, eye, you...</td>\n",
              "      <td>[diana, let, me, be, the, one, to, light, a, f...</td>\n",
              "    </tr>\n",
              "    <tr>\n",
              "      <th>1</th>\n",
              "      <td>2</td>\n",
              "      <td>Don't forget where you belong</td>\n",
              "      <td>Don't forget where you belong\\rHome\\rDon't for...</td>\n",
              "      <td>Inspiration</td>\n",
              "      <td>biYpv\\rl tDIwouHehrydsnAmagf</td>\n",
              "      <td>[don, t, forget, where, you, belong, home, don...</td>\n",
              "      <td>[forget, you, belong, home, forget, you, belon...</td>\n",
              "      <td>[forget, you, belong, home, forget, you, belon...</td>\n",
              "      <td>[don, t, forget, where, you, belong, home, don...</td>\n",
              "    </tr>\n",
              "    <tr>\n",
              "      <th>2</th>\n",
              "      <td>3</td>\n",
              "      <td>Strong</td>\n",
              "      <td>I'm sorry if I say, \"I need you\"\\nBut I don't ...</td>\n",
              "      <td>Inspiration</td>\n",
              "      <td>iTvl Itw\\noueBchrydksnCmagf</td>\n",
              "      <td>[i, m, sorry, if, i, say, i, need, you, but, i...</td>\n",
              "      <td>[sorry, say, need, you, care, not, scared, lov...</td>\n",
              "      <td>[sorri, say, need, you, care, not, scare, love...</td>\n",
              "      <td>[i, m, sorri, if, i, say, i, need, you, but, i...</td>\n",
              "    </tr>\n",
              "    <tr>\n",
              "      <th>3</th>\n",
              "      <td>4</td>\n",
              "      <td>Happily</td>\n",
              "      <td>I don't care what people say when we're togeth...</td>\n",
              "      <td>Sad</td>\n",
              "      <td>biYpv\\rl SItwoujehcrydksnmagf</td>\n",
              "      <td>[i, don, t, care, what, people, say, when, we,...</td>\n",
              "      <td>[care, people, say, together, you, know, wanna...</td>\n",
              "      <td>[care, peopl, say, togeth, you, know, wanna, o...</td>\n",
              "      <td>[i, don, t, care, what, peopl, say, when, we, ...</td>\n",
              "    </tr>\n",
              "    <tr>\n",
              "      <th>4</th>\n",
              "      <td>5</td>\n",
              "      <td>Better than words</td>\n",
              "      <td>Better than words\\rMore than a feeling Crazy i...</td>\n",
              "      <td>Love</td>\n",
              "      <td>ibYpvz\\rl tDIwoueBhcrydkMsnEGCmagf</td>\n",
              "      <td>[better, than, words, more, than, a, feeling, ...</td>\n",
              "      <td>[better, words, feeling, crazy, in, love, danc...</td>\n",
              "      <td>[better, word, feel, crazi, in, love, danc, ce...</td>\n",
              "      <td>[better, than, word, more, than, a, feel, craz...</td>\n",
              "    </tr>\n",
              "  </tbody>\n",
              "</table>\n",
              "</div>"
            ],
            "text/plain": [
              "   Song_ID  ...                                     Chorus_stemmed\n",
              "0        1  ...  [diana, let, me, be, the, one, to, light, a, f...\n",
              "1        2  ...  [don, t, forget, where, you, belong, home, don...\n",
              "2        3  ...  [i, m, sorri, if, i, say, i, need, you, but, i...\n",
              "3        4  ...  [i, don, t, care, what, peopl, say, when, we, ...\n",
              "4        5  ...  [better, than, word, more, than, a, feel, craz...\n",
              "\n",
              "[5 rows x 9 columns]"
            ]
          },
          "metadata": {},
          "execution_count": 36
        }
      ]
    },
    {
      "cell_type": "markdown",
      "metadata": {
        "id": "86nT9K4HMZAV"
      },
      "source": [
        "#Lemmatizing:\n",
        "Lemmatizing derives the canonical form (‘lemma’) of a word. i.e the root form. It is better than stemming as it uses a dictionary-based approach i.e a morphological analysis to the root word.eg: Entitling, Entitled->Entitle\n",
        "In Short, Stemming is typically faster as it simply chops off the end of the word, without understanding the context of the word. Lemmatizing is slower and more accurate as it takes an informed analysis with the context of the word in mind."
      ]
    },
    {
      "cell_type": "code",
      "metadata": {
        "colab": {
          "base_uri": "https://localhost:8080/",
          "height": 695
        },
        "id": "HbX2iH2kMeBW",
        "outputId": "03baf3f8-8509-41be-a6d2-9d674b3129f6"
      },
      "source": [
        "import nltk\n",
        "nltk.download('wordnet')\n",
        "wn = nltk.WordNetLemmatizer()\n",
        "\n",
        "def lematizing(tokenized_text):\n",
        "  text = [wn.lemmatize(word) for word in tokenized_text]\n",
        "  return text\n",
        "\n",
        "modifiedDF['Chorus_nostop_lematized'] = modifiedDF['Chorus_nostop'].apply(lambda x: lematizing(x))\n",
        "modifiedDF['Chorus_lematized'] = modifiedDF['Chorus_tokenized'].apply(lambda x: lematizing(x))\n",
        "\n",
        "modifiedDF.head()"
      ],
      "execution_count": 39,
      "outputs": [
        {
          "output_type": "stream",
          "name": "stdout",
          "text": [
            "[nltk_data] Downloading package wordnet to /root/nltk_data...\n",
            "[nltk_data]   Unzipping corpora/wordnet.zip.\n"
          ]
        },
        {
          "output_type": "stream",
          "name": "stderr",
          "text": [
            "/usr/local/lib/python3.7/dist-packages/ipykernel_launcher.py:9: SettingWithCopyWarning: \n",
            "A value is trying to be set on a copy of a slice from a DataFrame.\n",
            "Try using .loc[row_indexer,col_indexer] = value instead\n",
            "\n",
            "See the caveats in the documentation: https://pandas.pydata.org/pandas-docs/stable/user_guide/indexing.html#returning-a-view-versus-a-copy\n",
            "  if __name__ == '__main__':\n",
            "/usr/local/lib/python3.7/dist-packages/ipykernel_launcher.py:10: SettingWithCopyWarning: \n",
            "A value is trying to be set on a copy of a slice from a DataFrame.\n",
            "Try using .loc[row_indexer,col_indexer] = value instead\n",
            "\n",
            "See the caveats in the documentation: https://pandas.pydata.org/pandas-docs/stable/user_guide/indexing.html#returning-a-view-versus-a-copy\n",
            "  # Remove the CWD from sys.path while we load stuff.\n"
          ]
        },
        {
          "output_type": "execute_result",
          "data": {
            "text/html": [
              "<div>\n",
              "<style scoped>\n",
              "    .dataframe tbody tr th:only-of-type {\n",
              "        vertical-align: middle;\n",
              "    }\n",
              "\n",
              "    .dataframe tbody tr th {\n",
              "        vertical-align: top;\n",
              "    }\n",
              "\n",
              "    .dataframe thead th {\n",
              "        text-align: right;\n",
              "    }\n",
              "</style>\n",
              "<table border=\"1\" class=\"dataframe\">\n",
              "  <thead>\n",
              "    <tr style=\"text-align: right;\">\n",
              "      <th></th>\n",
              "      <th>Song_ID</th>\n",
              "      <th>Song_Title</th>\n",
              "      <th>Chorus</th>\n",
              "      <th>Emotion</th>\n",
              "      <th>Chorus_Cleaned</th>\n",
              "      <th>Chorus_tokenized</th>\n",
              "      <th>Chorus_nostop</th>\n",
              "      <th>Chorus_nostop_stemmed</th>\n",
              "      <th>Chorus_stemmed</th>\n",
              "      <th>Chorus_nostop_lematized</th>\n",
              "      <th>Chorus_lematized</th>\n",
              "    </tr>\n",
              "  </thead>\n",
              "  <tbody>\n",
              "    <tr>\n",
              "      <th>0</th>\n",
              "      <td>1</td>\n",
              "      <td>Diana</td>\n",
              "      <td>Diana,\\rLet me be the one to light a fire insi...</td>\n",
              "      <td>Inspiration</td>\n",
              "      <td>ibYpvz\\rl tDIwLouehBcrydksnmagf</td>\n",
              "      <td>[diana, let, me, be, the, one, to, light, a, f...</td>\n",
              "      <td>[diana, let, one, light, fire, inside, eyes, y...</td>\n",
              "      <td>[diana, let, one, light, fire, insid, eye, you...</td>\n",
              "      <td>[diana, let, me, be, the, one, to, light, a, f...</td>\n",
              "      <td>[diana, let, one, light, fire, inside, eye, yo...</td>\n",
              "      <td>[diana, let, me, be, the, one, to, light, a, f...</td>\n",
              "    </tr>\n",
              "    <tr>\n",
              "      <th>1</th>\n",
              "      <td>2</td>\n",
              "      <td>Don't forget where you belong</td>\n",
              "      <td>Don't forget where you belong\\rHome\\rDon't for...</td>\n",
              "      <td>Inspiration</td>\n",
              "      <td>biYpv\\rl tDIwouHehrydsnAmagf</td>\n",
              "      <td>[don, t, forget, where, you, belong, home, don...</td>\n",
              "      <td>[forget, you, belong, home, forget, you, belon...</td>\n",
              "      <td>[forget, you, belong, home, forget, you, belon...</td>\n",
              "      <td>[don, t, forget, where, you, belong, home, don...</td>\n",
              "      <td>[forget, you, belong, home, forget, you, belon...</td>\n",
              "      <td>[don, t, forget, where, you, belong, home, don...</td>\n",
              "    </tr>\n",
              "    <tr>\n",
              "      <th>2</th>\n",
              "      <td>3</td>\n",
              "      <td>Strong</td>\n",
              "      <td>I'm sorry if I say, \"I need you\"\\nBut I don't ...</td>\n",
              "      <td>Inspiration</td>\n",
              "      <td>iTvl Itw\\noueBchrydksnCmagf</td>\n",
              "      <td>[i, m, sorry, if, i, say, i, need, you, but, i...</td>\n",
              "      <td>[sorry, say, need, you, care, not, scared, lov...</td>\n",
              "      <td>[sorri, say, need, you, care, not, scare, love...</td>\n",
              "      <td>[i, m, sorri, if, i, say, i, need, you, but, i...</td>\n",
              "      <td>[sorry, say, need, you, care, not, scared, lov...</td>\n",
              "      <td>[i, m, sorry, if, i, say, i, need, you, but, i...</td>\n",
              "    </tr>\n",
              "    <tr>\n",
              "      <th>3</th>\n",
              "      <td>4</td>\n",
              "      <td>Happily</td>\n",
              "      <td>I don't care what people say when we're togeth...</td>\n",
              "      <td>Sad</td>\n",
              "      <td>biYpv\\rl SItwoujehcrydksnmagf</td>\n",
              "      <td>[i, don, t, care, what, people, say, when, we,...</td>\n",
              "      <td>[care, people, say, together, you, know, wanna...</td>\n",
              "      <td>[care, peopl, say, togeth, you, know, wanna, o...</td>\n",
              "      <td>[i, don, t, care, what, peopl, say, when, we, ...</td>\n",
              "      <td>[care, people, say, together, you, know, wanna...</td>\n",
              "      <td>[i, don, t, care, what, people, say, when, we,...</td>\n",
              "    </tr>\n",
              "    <tr>\n",
              "      <th>4</th>\n",
              "      <td>5</td>\n",
              "      <td>Better than words</td>\n",
              "      <td>Better than words\\rMore than a feeling Crazy i...</td>\n",
              "      <td>Love</td>\n",
              "      <td>ibYpvz\\rl tDIwoueBhcrydkMsnEGCmagf</td>\n",
              "      <td>[better, than, words, more, than, a, feeling, ...</td>\n",
              "      <td>[better, words, feeling, crazy, in, love, danc...</td>\n",
              "      <td>[better, word, feel, crazi, in, love, danc, ce...</td>\n",
              "      <td>[better, than, word, more, than, a, feel, craz...</td>\n",
              "      <td>[better, word, feeling, crazy, in, love, danci...</td>\n",
              "      <td>[better, than, word, more, than, a, feeling, c...</td>\n",
              "    </tr>\n",
              "  </tbody>\n",
              "</table>\n",
              "</div>"
            ],
            "text/plain": [
              "   Song_ID  ...                                   Chorus_lematized\n",
              "0        1  ...  [diana, let, me, be, the, one, to, light, a, f...\n",
              "1        2  ...  [don, t, forget, where, you, belong, home, don...\n",
              "2        3  ...  [i, m, sorry, if, i, say, i, need, you, but, i...\n",
              "3        4  ...  [i, don, t, care, what, people, say, when, we,...\n",
              "4        5  ...  [better, than, word, more, than, a, feeling, c...\n",
              "\n",
              "[5 rows x 11 columns]"
            ]
          },
          "metadata": {},
          "execution_count": 39
        }
      ]
    },
    {
      "cell_type": "markdown",
      "metadata": {
        "id": "Gii2xt-5Nixm"
      },
      "source": [
        "#Vectorizing Data\n",
        "Vectorizing is the process of encoding text as integers i.e. numeric form to create feature vectors so that machine learning algorithms can understand our data.\n"
      ]
    },
    {
      "cell_type": "markdown",
      "metadata": {
        "id": "tN6RbG4QNpZN"
      },
      "source": [
        "#Vectorizing Data: Bag-Of-Words\n",
        "\n",
        "Bag of Words (BoW) or CountVectorizer describes the presence of words within the text data. It gives a result of 1 if present in the sentence and 0 if not present. It, therefore, creates a bag of words with a document-matrix count in each text document."
      ]
    },
    {
      "cell_type": "code",
      "metadata": {
        "id": "O-Z5T-U5NupV"
      },
      "source": [
        ""
      ],
      "execution_count": null,
      "outputs": []
    },
    {
      "cell_type": "markdown",
      "metadata": {
        "id": "esG0jgZSQK0Q"
      },
      "source": [
        "Print corpus"
      ]
    },
    {
      "cell_type": "code",
      "metadata": {
        "colab": {
          "base_uri": "https://localhost:8080/"
        },
        "id": "kFaGMJ3LQODW",
        "outputId": "3848288e-625e-4dea-f331-3ebeb5450354"
      },
      "source": [
        "print(corpus)"
      ],
      "execution_count": null,
      "outputs": [
        {
          "output_type": "stream",
          "name": "stdout",
          "text": [
            "['diana let one light fire insid eye lone even know feel cri diana let one lift heart save life think even realiz babi save mine', 'forget belong home forget belong home ever feel alon never proof song', 'sorri say need care not scare love caus not weaker wrong wrong make strong', 'care peopl say togeth know wanna one hold sleep want forev know wanna leav c mon babi happili', 'better word feel crazi love danc ceil everi time touch shook make wanna deep love god know babi', 'tell hurt vain see heart love rememb laugh let laugh burn even scream shout come back back oh carri fire water love hold closer hope heart strong enough night come find way dark', 'know know know know everi everi everi time lone sometim wanna cave wanna fight tri tri tri tri tri hold lone momma sorri not sober anymor daddi pleas forgiv drink spill floor one never left road sorri not sober anymor not sober anymor sorri promis get help intent sorri', 'walk th park saw anoth arm month apart look happier saw walk insid bar said somethin make laugh saw smile twice wide yeah look happier nobodi hurt like hurt nobodi love like promis not take person babi movin someon new caus babi look happier knew one day fall someon new break heart like lover know waitin', 'life get numb way feel drown drink date prescript pill one love left shelf farewel save someon els got save', 'club best place find lover bar go friend tabl shot drink fast talk slow come start convers trust give chanc take hand stop put van man jukebox start danc sing like girl know want love love handmad somebodi like come follow lead may crazi mind say boy let not talk much grab waist put bodi come follow lead come come follow lead love shape push pull like magnet although heart fall love bodi last night room bedsheet smell like everi day discov someth brand new love bodi', 'well found woman stronger anyon know share dream hope someday share home found love carri secret carri love carri children still kid love fight odd know alright time darl hold hand girl man see futur eye babi danc dark arm barefoot grass listen favorit song saw dress look beauti deserv darl look perfect tonight', 'oh compar everyon alway got finger self destruct wonder love enough wonder love enough alway look ride die caus mine heart gonna life time went fuck time went fuck wonder love enough', 'face face see eye eye like fire rain like fire rain drive insan drive insan stay mad anyth venu mar venu mar like differ star like differ star harmoni everi song sing chang thing ye hold let go perfectli imperfect chang thing', 'feel like drop ocean nobodi notic mayb head feel like trap skin bodi frozen broken got noth left high emot lose focu feel exhaust pray get lost moment give closest need somebodi say okay not okay okay not okay feel asham okay not okay', 'alway kind girl hid face afraid tell world got say dream right insid gonna let show time let know let know real exactli suppos gonna let light shine found way hold hide want', 'wanna play wanna stay wanna start messin head hit wall mayb known mayb known would walk would walk door hey said done met someon brought face cut part broke heart ran away guess known guess known would talk would talk even star moon collid never want back life take word lie oh oh oh realli care', 'let go let go hold back anymor let go let go turn back slam door snow glow white mountain tonight not footprint seen kingdom isol look like queen wind howl like swirl storm insid keep heaven know tri let let see good girl alway conceal feel let know well know', 'readi ha time take boss right not gonna fake not go caus game better come play use hold freak back let go make choic bitch run show leav light make behav uh huh huh say complic must mind underr rate rate', 'even heart see not bein true deep within soul feel noth like use sometim wish could turn back time imposs may seem wish could bad babi quit playin game heart quit playin game heart tear us apart quit playin game heart known start know got stop heart tear us apart heart quit playin game heart', 'got everyon watchin us babi let keep secret littl bit scandal babi let see littl less convers littl touch bodi caus caus tell came caus wait edg control need need know know oh babi come light mayb let littl bit danger babi want littl less convers littl touch bodi caus', 'tell get feel realli wanna turn tell get feel realli wanna make ah caus see tryin sublimin tryin see gon one sing along admit excit part kinda like lead babi tell motiv motiv motiv tell motiv motiv', 'day thing take way much energi look whole room spin take care away overcompl peopl tell medic feel blood runnin swear sky fallin know shit fabric time goe control mind know els tri tell everi time keep breathin breathin breathin breathin oh gotta keep keep breathin keep breathin breathin breathin breathin oh gotta keep keep breathin', 'took away tabl pace back forth lay still pull feel heartbeat hear scream pleas leav hold still want come back still need let take hand make right swear love life hold still need wanna let go know not strong wanna hear say babi let go home let go home yeah wanna take home', 'awhil sinc lost ya get close year world keep turn alway still heartach friendli face us want get place let get place pleas take home pleas take home pleas take wheel night lay cloth blind save hit floor let leav alon babi pleas take home', 'babi sink bed stare ceil let lay catch breath slip away high feel promis regret let love death', 'oh kill know one tri not lose mind wait day come everyon alright know one pretend like noth wrong frozen underneath sun feel like belong know one see shadow dark hallucin tear apart tear apart feel like world', 'yeah ooh darlin part want let go oh charmin part still holdin kiss crawl back love want nothin lose yeah caus nothin compar good old fashion heartach put yeah portland tri sellin organ babi kept caus nothin compar good old fashion heartach put', 'one told way lie well one told mani peopl cri well late say sorri would know care pleas bother tri find not let tell way look way act color hair voic soft cool eye clear bright not', 'matter go everybodi stare not fanci cloth rock baggi jean get close comfort comfort need eat bodi weight chocol ice cream mayb bite nail think speak fit crowd ever get much sleep wish leg bigger bigger new york citi love want love caus love gender free feel like put makeup cheek wanna love everi singl part bodi top bottom not supermodel magazin okay not perfect caus perfect caus perfect caus perfect', 'mess talk shit gonna push away say love make crazi go go look look eye realli go away without fight reason done polit told one two three four five six thousand time made obviou made clear want spell f r e n made obviou made clear want spell f r e n f r e n', 'honest right sunday morn bedsheet wake alon thought day honest better way everi time think get head never ever let forget caus think gone hear song radio like take back place use go tri fight hear stop smile rememb gone babi song radio use know', 'think love bad health see one els guess blame anyon hey ayi yeah know today call like hundr time yesterday call like hundr five nobodi els want side hey ayi yeah bad day still great time drunk face listen red red wine ok laugh cri raini day still sunshin got problem need deal haha ah trust us want let deal yeah', 'realli know someth start caus deep insid feel good whenev part ever wanna go backtrack broken heart feel like hit head caus star star eye sky babe sit seat car hand thigh ye think alright babe ever go far think love think feel way back young heard love never believ chang mind world record time said hello said babi tell goodby caus love believ love easi breath love easi breath', 'run run chase sunset alright alright done done howev dark get alright alright pull trigger tight uh glitter night live live love live like free like breathin fire like breathin fire roll downtown ride dragon night long like breathin fire']\n"
          ]
        }
      ]
    },
    {
      "cell_type": "markdown",
      "metadata": {
        "id": "hV0uWOYCQWKF"
      },
      "source": [
        "Creating the bag of words modal"
      ]
    },
    {
      "cell_type": "code",
      "metadata": {
        "id": "PRT_E8GkQY4x"
      },
      "source": [
        "from sklearn.feature_extraction.text import CountVectorizer\n",
        "cv = CountVectorizer(max_features = 2500)\n",
        "X = cv.fit_transform(corpus).toarray()\n",
        "y = modifiedDF.iloc[0:34, -1].values"
      ],
      "execution_count": null,
      "outputs": []
    },
    {
      "cell_type": "code",
      "metadata": {
        "colab": {
          "base_uri": "https://localhost:8080/"
        },
        "id": "LMww1MtmRTE0",
        "outputId": "538c29f3-3807-4b7a-c89d-f9af52f05e28"
      },
      "source": [
        "X"
      ],
      "execution_count": null,
      "outputs": [
        {
          "output_type": "execute_result",
          "data": {
            "text/plain": [
              "array([[0, 0, 0, ..., 0, 0, 0],\n",
              "       [0, 0, 0, ..., 0, 0, 0],\n",
              "       [0, 0, 0, ..., 0, 0, 0],\n",
              "       ...,\n",
              "       [0, 0, 0, ..., 1, 0, 0],\n",
              "       [0, 0, 0, ..., 0, 0, 1],\n",
              "       [0, 0, 0, ..., 0, 0, 0]])"
            ]
          },
          "metadata": {},
          "execution_count": 33
        }
      ]
    },
    {
      "cell_type": "code",
      "metadata": {
        "colab": {
          "base_uri": "https://localhost:8080/"
        },
        "id": "u4OdIqTNRZ6k",
        "outputId": "6f3f5041-60ae-4f2f-b224-af59b66ac156"
      },
      "source": [
        "y"
      ],
      "execution_count": null,
      "outputs": [
        {
          "output_type": "execute_result",
          "data": {
            "text/plain": [
              "array(['Inspiration', 'Inspiration', 'Inspiration', 'Sad', 'Love',\n",
              "       'Inspiration', 'Sad', 'Sad', 'Sad', 'Happy', 'Love', 'Inspiration',\n",
              "       'Love', 'Inspiration', 'Inspiration', 'Angry', 'Inspiration',\n",
              "       'Angry', 'Sad', 'Love', 'Sad', 'Inspiration', 'Sad', 'Sad', 'Love',\n",
              "       'Sad', 'Love', 'Sad', 'Calm', 'Tense', 'Love', 'Inspiration',\n",
              "       'Love', 'Love'], dtype=object)"
            ]
          },
          "metadata": {},
          "execution_count": 41
        }
      ]
    },
    {
      "cell_type": "markdown",
      "metadata": {
        "id": "PmG9-Z7PQyea"
      },
      "source": [
        "Splitting the dataset into the Training set and Test set"
      ]
    },
    {
      "cell_type": "code",
      "metadata": {
        "id": "PShXt3tuQzIx"
      },
      "source": [
        "from sklearn.model_selection import train_test_split\n",
        "X_train, X_test, y_train, y_test = train_test_split(X, y, test_size = 0.2, random_state = 0)"
      ],
      "execution_count": null,
      "outputs": []
    },
    {
      "cell_type": "markdown",
      "metadata": {
        "id": "8o6BdfkSRnnC"
      },
      "source": [
        "Training the Kernal SVM model on the Training set"
      ]
    },
    {
      "cell_type": "code",
      "metadata": {
        "colab": {
          "base_uri": "https://localhost:8080/"
        },
        "id": "2TdKzzyyRoNv",
        "outputId": "0c4ef76f-9f85-49c3-b824-312a8884683c"
      },
      "source": [
        "from sklearn.svm import SVC\n",
        "classifier = SVC(kernel = 'rbf', random_state = 0)\n",
        "classifier.fit(X_train, y_train)"
      ],
      "execution_count": null,
      "outputs": [
        {
          "output_type": "execute_result",
          "data": {
            "text/plain": [
              "SVC(random_state=0)"
            ]
          },
          "metadata": {},
          "execution_count": 48
        }
      ]
    },
    {
      "cell_type": "markdown",
      "metadata": {
        "id": "maG3b8yiRup0"
      },
      "source": [
        "Predicting the Test set results"
      ]
    },
    {
      "cell_type": "code",
      "metadata": {
        "colab": {
          "base_uri": "https://localhost:8080/"
        },
        "id": "56RB62bSRvbY",
        "outputId": "8d709a0b-8e7c-4ead-c4ca-4de7a17d2929"
      },
      "source": [
        "y_pred = classifier.predict(X_test)\n",
        "print(np.concatenate((y_pred.reshape(len(y_pred),1), y_test.reshape(len(y_test),1)),1))"
      ],
      "execution_count": null,
      "outputs": [
        {
          "output_type": "stream",
          "name": "stdout",
          "text": [
            "[['Love' 'Inspiration']\n",
            " ['Sad' 'Sad']\n",
            " ['Sad' 'Sad']\n",
            " ['Sad' 'Angry']\n",
            " ['Sad' 'Inspiration']\n",
            " ['Love' 'Love']\n",
            " ['Sad' 'Inspiration']]\n"
          ]
        }
      ]
    },
    {
      "cell_type": "markdown",
      "metadata": {
        "id": "2Uiv0xDxR7c9"
      },
      "source": [
        "Making the Confusion Matrix"
      ]
    },
    {
      "cell_type": "code",
      "metadata": {
        "colab": {
          "base_uri": "https://localhost:8080/"
        },
        "id": "-taVWdyIR79B",
        "outputId": "49232577-5a3c-4080-fc0d-05bb8852e6d7"
      },
      "source": [
        "from sklearn.metrics import confusion_matrix, accuracy_score\n",
        "cm = confusion_matrix(y_test, y_pred)\n",
        "print(cm)\n",
        "accuracy_score(y_test, y_pred)"
      ],
      "execution_count": null,
      "outputs": [
        {
          "output_type": "stream",
          "name": "stdout",
          "text": [
            "[[0 0 0 1]\n",
            " [0 0 1 2]\n",
            " [0 0 1 0]\n",
            " [0 0 0 2]]\n"
          ]
        },
        {
          "output_type": "execute_result",
          "data": {
            "text/plain": [
              "0.42857142857142855"
            ]
          },
          "metadata": {},
          "execution_count": 50
        }
      ]
    },
    {
      "cell_type": "markdown",
      "metadata": {
        "id": "RUsVbKXOUWsd"
      },
      "source": [
        "Appyling K-fold cross validation"
      ]
    },
    {
      "cell_type": "code",
      "metadata": {
        "colab": {
          "base_uri": "https://localhost:8080/"
        },
        "id": "Sl-4bKUMUZro",
        "outputId": "7ea95763-f75a-43de-f7e4-6dfa909ea4e7"
      },
      "source": [
        "from sklearn.model_selection import cross_val_score\n",
        "accuracies = cross_val_score(estimator = classifier, X = X_train, y = y_train, cv = 3)\n",
        "print(\"Accuracy: {:.2f} %\".format(accuracies.mean()*100))\n",
        "print(\"Standard Deviation: {:.2f} %\".format(accuracies.std()*100))"
      ],
      "execution_count": null,
      "outputs": [
        {
          "output_type": "stream",
          "name": "stdout",
          "text": [
            "Accuracy: 29.63 %\n",
            "Standard Deviation: 5.24 %\n"
          ]
        },
        {
          "output_type": "stream",
          "name": "stderr",
          "text": [
            "/usr/local/lib/python3.7/dist-packages/sklearn/model_selection/_split.py:680: UserWarning: The least populated class in y has only 1 members, which is less than n_splits=3.\n",
            "  UserWarning,\n"
          ]
        }
      ]
    },
    {
      "cell_type": "code",
      "metadata": {
        "colab": {
          "base_uri": "https://localhost:8080/"
        },
        "id": "PqL3rJ_tWA9b",
        "outputId": "a7eaf3e2-03e2-413a-877b-d22f00a50a34"
      },
      "source": [
        "from sklearn.model_selection import cross_val_score\n",
        "accuracies = cross_val_score(estimator = classifier, X = X_train, y = y_train, cv = 5)\n",
        "print(\"Accuracy: {:.2f} %\".format(accuracies.mean()*100))\n",
        "print(\"Standard Deviation: {:.2f} %\".format(accuracies.std()*100))"
      ],
      "execution_count": null,
      "outputs": [
        {
          "output_type": "stream",
          "name": "stdout",
          "text": [
            "Accuracy: 10.67 %\n",
            "Standard Deviation: 8.79 %\n"
          ]
        },
        {
          "output_type": "stream",
          "name": "stderr",
          "text": [
            "/usr/local/lib/python3.7/dist-packages/sklearn/model_selection/_split.py:680: UserWarning: The least populated class in y has only 1 members, which is less than n_splits=5.\n",
            "  UserWarning,\n"
          ]
        }
      ]
    },
    {
      "cell_type": "code",
      "metadata": {
        "colab": {
          "base_uri": "https://localhost:8080/"
        },
        "id": "TSRCA3NOWFdI",
        "outputId": "04010d07-df64-464c-c86d-e17cc1bf4f4d"
      },
      "source": [
        "from sklearn.model_selection import cross_val_score\n",
        "accuracies = cross_val_score(estimator = classifier, X = X_train, y = y_train, cv = 8)\n",
        "print(\"Accuracy: {:.2f} %\".format(accuracies.mean()*100))\n",
        "print(\"Standard Deviation: {:.2f} %\".format(accuracies.std()*100))"
      ],
      "execution_count": null,
      "outputs": [
        {
          "output_type": "stream",
          "name": "stdout",
          "text": [
            "Accuracy: 33.33 %\n",
            "Standard Deviation: 18.16 %\n"
          ]
        },
        {
          "output_type": "stream",
          "name": "stderr",
          "text": [
            "/usr/local/lib/python3.7/dist-packages/sklearn/model_selection/_split.py:680: UserWarning: The least populated class in y has only 1 members, which is less than n_splits=8.\n",
            "  UserWarning,\n"
          ]
        }
      ]
    },
    {
      "cell_type": "markdown",
      "metadata": {
        "id": "JwsxT0mQZrAF"
      },
      "source": [
        "## Applying Grid Search to find the best model and the best parameters"
      ]
    },
    {
      "cell_type": "code",
      "metadata": {
        "colab": {
          "base_uri": "https://localhost:8080/"
        },
        "id": "o3OU9AWrZr-E",
        "outputId": "6de55efb-cc44-4979-f06f-a698b62b5f2a"
      },
      "source": [
        "from sklearn.model_selection import GridSearchCV\n",
        "parameters = [{'C': [0.25, 0.5, 0.75, 1], 'kernel': ['linear']},\n",
        "              {'C': [0.25, 0.5, 0.75, 1], 'kernel': ['rbf'], 'gamma': [0.1, 0.2, 0.3, 0.4, 0.5, 0.6, 0.7, 0.8, 0.9]}]\n",
        "grid_search = GridSearchCV(estimator = classifier,\n",
        "                           param_grid = parameters,\n",
        "                           scoring = 'accuracy',\n",
        "                           cv = 2,\n",
        "                           n_jobs = -1)\n",
        "grid_search.fit(X_train, y_train)\n",
        "best_accuracy = grid_search.best_score_\n",
        "best_parameters = grid_search.best_params_\n",
        "print(\"Best Accuracy: {:.2f} %\".format(best_accuracy*100))\n",
        "print(\"Best Parameters:\", best_parameters)"
      ],
      "execution_count": null,
      "outputs": [
        {
          "output_type": "stream",
          "name": "stderr",
          "text": [
            "/usr/local/lib/python3.7/dist-packages/sklearn/model_selection/_split.py:680: UserWarning: The least populated class in y has only 1 members, which is less than n_splits=2.\n",
            "  UserWarning,\n"
          ]
        },
        {
          "output_type": "stream",
          "name": "stdout",
          "text": [
            "Best Accuracy: 51.65 %\n",
            "Best Parameters: {'C': 0.25, 'kernel': 'linear'}\n"
          ]
        }
      ]
    },
    {
      "cell_type": "code",
      "metadata": {
        "colab": {
          "base_uri": "https://localhost:8080/"
        },
        "id": "8XdALpTNafYI",
        "outputId": "d2188448-64f9-4f32-988b-411053d43866"
      },
      "source": [
        "from sklearn.model_selection import GridSearchCV\n",
        "parameters = [{'C': [0.25, 0.5, 0.75, 1], 'kernel': ['linear']},\n",
        "              {'C': [0.25, 0.5, 0.75, 1], 'kernel': ['rbf'], 'gamma': [0.1, 0.2, 0.3, 0.4, 0.5, 0.6, 0.7, 0.8, 0.9]}]\n",
        "grid_search = GridSearchCV(estimator = classifier,\n",
        "                           param_grid = parameters,\n",
        "                           scoring = 'accuracy',\n",
        "                           cv = 3,\n",
        "                           n_jobs = -1)\n",
        "grid_search.fit(X_train, y_train)\n",
        "best_accuracy = grid_search.best_score_\n",
        "best_parameters = grid_search.best_params_\n",
        "print(\"Best Accuracy: {:.2f} %\".format(best_accuracy*100))\n",
        "print(\"Best Parameters:\", best_parameters)"
      ],
      "execution_count": null,
      "outputs": [
        {
          "output_type": "stream",
          "name": "stderr",
          "text": [
            "/usr/local/lib/python3.7/dist-packages/sklearn/model_selection/_split.py:680: UserWarning: The least populated class in y has only 1 members, which is less than n_splits=3.\n",
            "  UserWarning,\n"
          ]
        },
        {
          "output_type": "stream",
          "name": "stdout",
          "text": [
            "Best Accuracy: 40.74 %\n",
            "Best Parameters: {'C': 0.25, 'gamma': 0.9, 'kernel': 'rbf'}\n"
          ]
        }
      ]
    },
    {
      "cell_type": "code",
      "metadata": {
        "colab": {
          "base_uri": "https://localhost:8080/"
        },
        "id": "ngEoPmZyakJe",
        "outputId": "a3485c85-4c28-449e-b012-1b274bd4df61"
      },
      "source": [
        "from sklearn.model_selection import GridSearchCV\n",
        "parameters = [{'C': [0.25, 0.5, 0.75, 1], 'kernel': ['linear']},\n",
        "              {'C': [0.25, 0.5, 0.75, 1], 'kernel': ['rbf'], 'gamma': [0.1, 0.2, 0.3, 0.4, 0.5, 0.6, 0.7, 0.8, 0.9]}]\n",
        "grid_search = GridSearchCV(estimator = classifier,\n",
        "                           param_grid = parameters,\n",
        "                           scoring = 'accuracy',\n",
        "                           cv = 4,\n",
        "                           n_jobs = -1)\n",
        "grid_search.fit(X_train, y_train)\n",
        "best_accuracy = grid_search.best_score_\n",
        "best_parameters = grid_search.best_params_\n",
        "print(\"Best Accuracy: {:.2f} %\".format(best_accuracy*100))\n",
        "print(\"Best Parameters:\", best_parameters)"
      ],
      "execution_count": null,
      "outputs": [
        {
          "output_type": "stream",
          "name": "stderr",
          "text": [
            "/usr/local/lib/python3.7/dist-packages/sklearn/model_selection/_split.py:680: UserWarning: The least populated class in y has only 1 members, which is less than n_splits=4.\n",
            "  UserWarning,\n"
          ]
        },
        {
          "output_type": "stream",
          "name": "stdout",
          "text": [
            "Best Accuracy: 40.48 %\n",
            "Best Parameters: {'C': 0.25, 'kernel': 'linear'}\n"
          ]
        }
      ]
    },
    {
      "cell_type": "code",
      "metadata": {
        "colab": {
          "base_uri": "https://localhost:8080/"
        },
        "id": "aoccUbMnapI0",
        "outputId": "6ca5a709-004b-44f7-91a9-b00ddccc2daf"
      },
      "source": [
        "from sklearn.model_selection import GridSearchCV\n",
        "parameters = [{'C': [0.25, 0.5, 0.75, 1], 'kernel': ['linear']},\n",
        "              {'C': [0.25, 0.5, 0.75, 1], 'kernel': ['rbf'], 'gamma': [0.1, 0.2, 0.3, 0.4, 0.5, 0.6, 0.7, 0.8, 0.9]}]\n",
        "grid_search = GridSearchCV(estimator = classifier,\n",
        "                           param_grid = parameters,\n",
        "                           scoring = 'accuracy',\n",
        "                           cv = 5,\n",
        "                           n_jobs = -1)\n",
        "grid_search.fit(X_train, y_train)\n",
        "best_accuracy = grid_search.best_score_\n",
        "best_parameters = grid_search.best_params_\n",
        "print(\"Best Accuracy: {:.2f} %\".format(best_accuracy*100))\n",
        "print(\"Best Parameters:\", best_parameters)"
      ],
      "execution_count": null,
      "outputs": [
        {
          "output_type": "stream",
          "name": "stderr",
          "text": [
            "/usr/local/lib/python3.7/dist-packages/sklearn/model_selection/_split.py:680: UserWarning: The least populated class in y has only 1 members, which is less than n_splits=5.\n",
            "  UserWarning,\n"
          ]
        },
        {
          "output_type": "stream",
          "name": "stdout",
          "text": [
            "Best Accuracy: 36.67 %\n",
            "Best Parameters: {'C': 0.25, 'kernel': 'linear'}\n"
          ]
        }
      ]
    },
    {
      "cell_type": "code",
      "metadata": {
        "colab": {
          "base_uri": "https://localhost:8080/"
        },
        "id": "tu4lmwcuar63",
        "outputId": "d159d34c-e0c1-453d-8feb-9676f0e479bb"
      },
      "source": [
        "from sklearn.model_selection import GridSearchCV\n",
        "parameters = [{'C': [0.25, 0.5, 0.75, 1], 'kernel': ['linear']},\n",
        "              {'C': [0.25, 0.5, 0.75, 1], 'kernel': ['rbf'], 'gamma': [0.1, 0.2, 0.3, 0.4, 0.5, 0.6, 0.7, 0.8, 0.9]}]\n",
        "grid_search = GridSearchCV(estimator = classifier,\n",
        "                           param_grid = parameters,\n",
        "                           scoring = 'accuracy',\n",
        "                           cv = 6,\n",
        "                           n_jobs = -1)\n",
        "grid_search.fit(X_train, y_train)\n",
        "best_accuracy = grid_search.best_score_\n",
        "best_parameters = grid_search.best_params_\n",
        "print(\"Best Accuracy: {:.2f} %\".format(best_accuracy*100))\n",
        "print(\"Best Parameters:\", best_parameters)"
      ],
      "execution_count": null,
      "outputs": [
        {
          "output_type": "stream",
          "name": "stderr",
          "text": [
            "/usr/local/lib/python3.7/dist-packages/sklearn/model_selection/_split.py:680: UserWarning: The least populated class in y has only 1 members, which is less than n_splits=6.\n",
            "  UserWarning,\n"
          ]
        },
        {
          "output_type": "stream",
          "name": "stdout",
          "text": [
            "Best Accuracy: 36.67 %\n",
            "Best Parameters: {'C': 0.25, 'kernel': 'linear'}\n"
          ]
        }
      ]
    },
    {
      "cell_type": "code",
      "metadata": {
        "colab": {
          "base_uri": "https://localhost:8080/"
        },
        "id": "j9tzg6qFau77",
        "outputId": "55da4929-aac0-4537-fc70-0ea5b7692eec"
      },
      "source": [
        "from sklearn.model_selection import GridSearchCV\n",
        "parameters = [{'C': [0.25, 0.5, 0.75, 1], 'kernel': ['linear']},\n",
        "              {'C': [0.25, 0.5, 0.75, 1], 'kernel': ['rbf'], 'gamma': [0.1, 0.2, 0.3, 0.4, 0.5, 0.6, 0.7, 0.8, 0.9]}]\n",
        "grid_search = GridSearchCV(estimator = classifier,\n",
        "                           param_grid = parameters,\n",
        "                           scoring = 'accuracy',\n",
        "                           cv = 7,\n",
        "                           n_jobs = -1)\n",
        "grid_search.fit(X_train, y_train)\n",
        "best_accuracy = grid_search.best_score_\n",
        "best_parameters = grid_search.best_params_\n",
        "print(\"Best Accuracy: {:.2f} %\".format(best_accuracy*100))\n",
        "print(\"Best Parameters:\", best_parameters)"
      ],
      "execution_count": null,
      "outputs": [
        {
          "output_type": "stream",
          "name": "stderr",
          "text": [
            "/usr/local/lib/python3.7/dist-packages/sklearn/model_selection/_split.py:680: UserWarning: The least populated class in y has only 1 members, which is less than n_splits=7.\n",
            "  UserWarning,\n"
          ]
        },
        {
          "output_type": "stream",
          "name": "stdout",
          "text": [
            "Best Accuracy: 33.33 %\n",
            "Best Parameters: {'C': 0.25, 'kernel': 'linear'}\n"
          ]
        }
      ]
    },
    {
      "cell_type": "code",
      "metadata": {
        "colab": {
          "base_uri": "https://localhost:8080/"
        },
        "id": "Ap0PMDiqayEu",
        "outputId": "d63eb9b9-cc61-4e9e-b0bf-f788027785b8"
      },
      "source": [
        "from sklearn.model_selection import GridSearchCV\n",
        "parameters = [{'C': [0.25, 0.5, 0.75, 1], 'kernel': ['linear']},\n",
        "              {'C': [0.25, 0.5, 0.75, 1], 'kernel': ['rbf'], 'gamma': [0.1, 0.2, 0.3, 0.4, 0.5, 0.6, 0.7, 0.8, 0.9]}]\n",
        "grid_search = GridSearchCV(estimator = classifier,\n",
        "                           param_grid = parameters,\n",
        "                           scoring = 'accuracy',\n",
        "                           cv = 8,\n",
        "                           n_jobs = -1)\n",
        "grid_search.fit(X_train, y_train)\n",
        "best_accuracy = grid_search.best_score_\n",
        "best_parameters = grid_search.best_params_\n",
        "print(\"Best Accuracy: {:.2f} %\".format(best_accuracy*100))\n",
        "print(\"Best Parameters:\", best_parameters)"
      ],
      "execution_count": null,
      "outputs": [
        {
          "output_type": "stream",
          "name": "stderr",
          "text": [
            "/usr/local/lib/python3.7/dist-packages/sklearn/model_selection/_split.py:680: UserWarning: The least populated class in y has only 1 members, which is less than n_splits=8.\n",
            "  UserWarning,\n"
          ]
        },
        {
          "output_type": "stream",
          "name": "stdout",
          "text": [
            "Best Accuracy: 41.67 %\n",
            "Best Parameters: {'C': 0.25, 'kernel': 'linear'}\n"
          ]
        }
      ]
    }
  ]
}