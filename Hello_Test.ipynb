{
  "nbformat": 4,
  "nbformat_minor": 0,
  "metadata": {
    "colab": {
      "name": "Hello Test.ipynb",
      "provenance": [],
      "collapsed_sections": [],
      "mount_file_id": "1tbu5bzWMoN0JHYm_PZKDZEecwARKgDYy",
      "authorship_tag": "ABX9TyOXxaZCJroBNrXiuKpYA58D",
      "include_colab_link": true
    },
    "kernelspec": {
      "name": "python3",
      "display_name": "Python 3"
    },
    "language_info": {
      "name": "python"
    }
  },
  "cells": [
    {
      "cell_type": "markdown",
      "metadata": {
        "id": "view-in-github",
        "colab_type": "text"
      },
      "source": [
        "<a href=\"https://colab.research.google.com/github/supuni9622/Test-Google-Colab/blob/main/Hello_Test.ipynb\" target=\"_parent\"><img src=\"https://colab.research.google.com/assets/colab-badge.svg\" alt=\"Open In Colab\"/></a>"
      ]
    },
    {
      "cell_type": "code",
      "metadata": {
        "colab": {
          "base_uri": "https://localhost:8080/"
        },
        "id": "0aVt93XVx_u6",
        "outputId": "988fd8b1-270a-4103-faa2-87ee3a4d7c0d"
      },
      "source": [
        "print(\"Hello World\")"
      ],
      "execution_count": 1,
      "outputs": [
        {
          "output_type": "stream",
          "name": "stdout",
          "text": [
            "Hello World\n"
          ]
        }
      ]
    },
    {
      "cell_type": "markdown",
      "metadata": {
        "id": "fte6KUwv1TdQ"
      },
      "source": [
        "# ***Importing Libraries***"
      ]
    },
    {
      "cell_type": "code",
      "metadata": {
        "id": "aJ2sbpuW1nEZ"
      },
      "source": [
        "import numpy as np\n",
        "import matplotlib.pyplot as plt\n",
        "import pandas as pd"
      ],
      "execution_count": 2,
      "outputs": []
    },
    {
      "cell_type": "markdown",
      "metadata": {
        "id": "h9hskWzU3zLi"
      },
      "source": [
        "# ***Import Dataset***"
      ]
    },
    {
      "cell_type": "code",
      "metadata": {
        "colab": {
          "base_uri": "https://localhost:8080/",
          "height": 409
        },
        "id": "tRfmE7qV36zm",
        "outputId": "43ad2ae4-ef7e-4ed4-855b-6e6f105571a1"
      },
      "source": [
        "dataset = pd.read_csv('Data.csv')\n",
        "X = dataset.iloc[:, :-1].values\n",
        "Y = dataset.iloc[: , -1].values"
      ],
      "execution_count": 5,
      "outputs": [
        {
          "output_type": "error",
          "ename": "FileNotFoundError",
          "evalue": "ignored",
          "traceback": [
            "\u001b[0;31m---------------------------------------------------------------------------\u001b[0m",
            "\u001b[0;31mFileNotFoundError\u001b[0m                         Traceback (most recent call last)",
            "\u001b[0;32m<ipython-input-5-ff6980ff3463>\u001b[0m in \u001b[0;36m<module>\u001b[0;34m()\u001b[0m\n\u001b[0;32m----> 1\u001b[0;31m \u001b[0mdataset\u001b[0m \u001b[0;34m=\u001b[0m \u001b[0mpd\u001b[0m\u001b[0;34m.\u001b[0m\u001b[0mread_csv\u001b[0m\u001b[0;34m(\u001b[0m\u001b[0;34m'Data.csv'\u001b[0m\u001b[0;34m)\u001b[0m\u001b[0;34m\u001b[0m\u001b[0;34m\u001b[0m\u001b[0m\n\u001b[0m\u001b[1;32m      2\u001b[0m \u001b[0mX\u001b[0m \u001b[0;34m=\u001b[0m \u001b[0mdataset\u001b[0m\u001b[0;34m.\u001b[0m\u001b[0miloc\u001b[0m\u001b[0;34m[\u001b[0m\u001b[0;34m:\u001b[0m\u001b[0;34m,\u001b[0m \u001b[0;34m:\u001b[0m\u001b[0;34m-\u001b[0m\u001b[0;36m1\u001b[0m\u001b[0;34m]\u001b[0m\u001b[0;34m.\u001b[0m\u001b[0mvalues\u001b[0m\u001b[0;34m\u001b[0m\u001b[0;34m\u001b[0m\u001b[0m\n\u001b[1;32m      3\u001b[0m \u001b[0mY\u001b[0m \u001b[0;34m=\u001b[0m \u001b[0mdataset\u001b[0m\u001b[0;34m.\u001b[0m\u001b[0miloc\u001b[0m\u001b[0;34m[\u001b[0m\u001b[0;34m:\u001b[0m \u001b[0;34m,\u001b[0m \u001b[0;34m-\u001b[0m\u001b[0;36m1\u001b[0m\u001b[0;34m]\u001b[0m\u001b[0;34m.\u001b[0m\u001b[0mvalues\u001b[0m\u001b[0;34m\u001b[0m\u001b[0;34m\u001b[0m\u001b[0m\n",
            "\u001b[0;32m/usr/local/lib/python3.7/dist-packages/pandas/io/parsers.py\u001b[0m in \u001b[0;36mread_csv\u001b[0;34m(filepath_or_buffer, sep, delimiter, header, names, index_col, usecols, squeeze, prefix, mangle_dupe_cols, dtype, engine, converters, true_values, false_values, skipinitialspace, skiprows, skipfooter, nrows, na_values, keep_default_na, na_filter, verbose, skip_blank_lines, parse_dates, infer_datetime_format, keep_date_col, date_parser, dayfirst, cache_dates, iterator, chunksize, compression, thousands, decimal, lineterminator, quotechar, quoting, doublequote, escapechar, comment, encoding, dialect, error_bad_lines, warn_bad_lines, delim_whitespace, low_memory, memory_map, float_precision)\u001b[0m\n\u001b[1;32m    686\u001b[0m     )\n\u001b[1;32m    687\u001b[0m \u001b[0;34m\u001b[0m\u001b[0m\n\u001b[0;32m--> 688\u001b[0;31m     \u001b[0;32mreturn\u001b[0m \u001b[0m_read\u001b[0m\u001b[0;34m(\u001b[0m\u001b[0mfilepath_or_buffer\u001b[0m\u001b[0;34m,\u001b[0m \u001b[0mkwds\u001b[0m\u001b[0;34m)\u001b[0m\u001b[0;34m\u001b[0m\u001b[0;34m\u001b[0m\u001b[0m\n\u001b[0m\u001b[1;32m    689\u001b[0m \u001b[0;34m\u001b[0m\u001b[0m\n\u001b[1;32m    690\u001b[0m \u001b[0;34m\u001b[0m\u001b[0m\n",
            "\u001b[0;32m/usr/local/lib/python3.7/dist-packages/pandas/io/parsers.py\u001b[0m in \u001b[0;36m_read\u001b[0;34m(filepath_or_buffer, kwds)\u001b[0m\n\u001b[1;32m    452\u001b[0m \u001b[0;34m\u001b[0m\u001b[0m\n\u001b[1;32m    453\u001b[0m     \u001b[0;31m# Create the parser.\u001b[0m\u001b[0;34m\u001b[0m\u001b[0;34m\u001b[0m\u001b[0;34m\u001b[0m\u001b[0m\n\u001b[0;32m--> 454\u001b[0;31m     \u001b[0mparser\u001b[0m \u001b[0;34m=\u001b[0m \u001b[0mTextFileReader\u001b[0m\u001b[0;34m(\u001b[0m\u001b[0mfp_or_buf\u001b[0m\u001b[0;34m,\u001b[0m \u001b[0;34m**\u001b[0m\u001b[0mkwds\u001b[0m\u001b[0;34m)\u001b[0m\u001b[0;34m\u001b[0m\u001b[0;34m\u001b[0m\u001b[0m\n\u001b[0m\u001b[1;32m    455\u001b[0m \u001b[0;34m\u001b[0m\u001b[0m\n\u001b[1;32m    456\u001b[0m     \u001b[0;32mif\u001b[0m \u001b[0mchunksize\u001b[0m \u001b[0;32mor\u001b[0m \u001b[0miterator\u001b[0m\u001b[0;34m:\u001b[0m\u001b[0;34m\u001b[0m\u001b[0;34m\u001b[0m\u001b[0m\n",
            "\u001b[0;32m/usr/local/lib/python3.7/dist-packages/pandas/io/parsers.py\u001b[0m in \u001b[0;36m__init__\u001b[0;34m(self, f, engine, **kwds)\u001b[0m\n\u001b[1;32m    946\u001b[0m             \u001b[0mself\u001b[0m\u001b[0;34m.\u001b[0m\u001b[0moptions\u001b[0m\u001b[0;34m[\u001b[0m\u001b[0;34m\"has_index_names\"\u001b[0m\u001b[0;34m]\u001b[0m \u001b[0;34m=\u001b[0m \u001b[0mkwds\u001b[0m\u001b[0;34m[\u001b[0m\u001b[0;34m\"has_index_names\"\u001b[0m\u001b[0;34m]\u001b[0m\u001b[0;34m\u001b[0m\u001b[0;34m\u001b[0m\u001b[0m\n\u001b[1;32m    947\u001b[0m \u001b[0;34m\u001b[0m\u001b[0m\n\u001b[0;32m--> 948\u001b[0;31m         \u001b[0mself\u001b[0m\u001b[0;34m.\u001b[0m\u001b[0m_make_engine\u001b[0m\u001b[0;34m(\u001b[0m\u001b[0mself\u001b[0m\u001b[0;34m.\u001b[0m\u001b[0mengine\u001b[0m\u001b[0;34m)\u001b[0m\u001b[0;34m\u001b[0m\u001b[0;34m\u001b[0m\u001b[0m\n\u001b[0m\u001b[1;32m    949\u001b[0m \u001b[0;34m\u001b[0m\u001b[0m\n\u001b[1;32m    950\u001b[0m     \u001b[0;32mdef\u001b[0m \u001b[0mclose\u001b[0m\u001b[0;34m(\u001b[0m\u001b[0mself\u001b[0m\u001b[0;34m)\u001b[0m\u001b[0;34m:\u001b[0m\u001b[0;34m\u001b[0m\u001b[0;34m\u001b[0m\u001b[0m\n",
            "\u001b[0;32m/usr/local/lib/python3.7/dist-packages/pandas/io/parsers.py\u001b[0m in \u001b[0;36m_make_engine\u001b[0;34m(self, engine)\u001b[0m\n\u001b[1;32m   1178\u001b[0m     \u001b[0;32mdef\u001b[0m \u001b[0m_make_engine\u001b[0m\u001b[0;34m(\u001b[0m\u001b[0mself\u001b[0m\u001b[0;34m,\u001b[0m \u001b[0mengine\u001b[0m\u001b[0;34m=\u001b[0m\u001b[0;34m\"c\"\u001b[0m\u001b[0;34m)\u001b[0m\u001b[0;34m:\u001b[0m\u001b[0;34m\u001b[0m\u001b[0;34m\u001b[0m\u001b[0m\n\u001b[1;32m   1179\u001b[0m         \u001b[0;32mif\u001b[0m \u001b[0mengine\u001b[0m \u001b[0;34m==\u001b[0m \u001b[0;34m\"c\"\u001b[0m\u001b[0;34m:\u001b[0m\u001b[0;34m\u001b[0m\u001b[0;34m\u001b[0m\u001b[0m\n\u001b[0;32m-> 1180\u001b[0;31m             \u001b[0mself\u001b[0m\u001b[0;34m.\u001b[0m\u001b[0m_engine\u001b[0m \u001b[0;34m=\u001b[0m \u001b[0mCParserWrapper\u001b[0m\u001b[0;34m(\u001b[0m\u001b[0mself\u001b[0m\u001b[0;34m.\u001b[0m\u001b[0mf\u001b[0m\u001b[0;34m,\u001b[0m \u001b[0;34m**\u001b[0m\u001b[0mself\u001b[0m\u001b[0;34m.\u001b[0m\u001b[0moptions\u001b[0m\u001b[0;34m)\u001b[0m\u001b[0;34m\u001b[0m\u001b[0;34m\u001b[0m\u001b[0m\n\u001b[0m\u001b[1;32m   1181\u001b[0m         \u001b[0;32melse\u001b[0m\u001b[0;34m:\u001b[0m\u001b[0;34m\u001b[0m\u001b[0;34m\u001b[0m\u001b[0m\n\u001b[1;32m   1182\u001b[0m             \u001b[0;32mif\u001b[0m \u001b[0mengine\u001b[0m \u001b[0;34m==\u001b[0m \u001b[0;34m\"python\"\u001b[0m\u001b[0;34m:\u001b[0m\u001b[0;34m\u001b[0m\u001b[0;34m\u001b[0m\u001b[0m\n",
            "\u001b[0;32m/usr/local/lib/python3.7/dist-packages/pandas/io/parsers.py\u001b[0m in \u001b[0;36m__init__\u001b[0;34m(self, src, **kwds)\u001b[0m\n\u001b[1;32m   2008\u001b[0m         \u001b[0mkwds\u001b[0m\u001b[0;34m[\u001b[0m\u001b[0;34m\"usecols\"\u001b[0m\u001b[0;34m]\u001b[0m \u001b[0;34m=\u001b[0m \u001b[0mself\u001b[0m\u001b[0;34m.\u001b[0m\u001b[0musecols\u001b[0m\u001b[0;34m\u001b[0m\u001b[0;34m\u001b[0m\u001b[0m\n\u001b[1;32m   2009\u001b[0m \u001b[0;34m\u001b[0m\u001b[0m\n\u001b[0;32m-> 2010\u001b[0;31m         \u001b[0mself\u001b[0m\u001b[0;34m.\u001b[0m\u001b[0m_reader\u001b[0m \u001b[0;34m=\u001b[0m \u001b[0mparsers\u001b[0m\u001b[0;34m.\u001b[0m\u001b[0mTextReader\u001b[0m\u001b[0;34m(\u001b[0m\u001b[0msrc\u001b[0m\u001b[0;34m,\u001b[0m \u001b[0;34m**\u001b[0m\u001b[0mkwds\u001b[0m\u001b[0;34m)\u001b[0m\u001b[0;34m\u001b[0m\u001b[0;34m\u001b[0m\u001b[0m\n\u001b[0m\u001b[1;32m   2011\u001b[0m         \u001b[0mself\u001b[0m\u001b[0;34m.\u001b[0m\u001b[0munnamed_cols\u001b[0m \u001b[0;34m=\u001b[0m \u001b[0mself\u001b[0m\u001b[0;34m.\u001b[0m\u001b[0m_reader\u001b[0m\u001b[0;34m.\u001b[0m\u001b[0munnamed_cols\u001b[0m\u001b[0;34m\u001b[0m\u001b[0;34m\u001b[0m\u001b[0m\n\u001b[1;32m   2012\u001b[0m \u001b[0;34m\u001b[0m\u001b[0m\n",
            "\u001b[0;32mpandas/_libs/parsers.pyx\u001b[0m in \u001b[0;36mpandas._libs.parsers.TextReader.__cinit__\u001b[0;34m()\u001b[0m\n",
            "\u001b[0;32mpandas/_libs/parsers.pyx\u001b[0m in \u001b[0;36mpandas._libs.parsers.TextReader._setup_parser_source\u001b[0;34m()\u001b[0m\n",
            "\u001b[0;31mFileNotFoundError\u001b[0m: [Errno 2] No such file or directory: 'Data.csv'"
          ]
        }
      ]
    },
    {
      "cell_type": "code",
      "metadata": {
        "colab": {
          "base_uri": "https://localhost:8080/",
          "height": 35
        },
        "id": "KOo7C55E8TRx",
        "outputId": "8c0dcc67-6572-4b77-fd5e-8bd03f1d3a6a"
      },
      "source": [
        "pwd"
      ],
      "execution_count": 6,
      "outputs": [
        {
          "output_type": "execute_result",
          "data": {
            "application/vnd.google.colaboratory.intrinsic+json": {
              "type": "string"
            },
            "text/plain": [
              "'/content'"
            ]
          },
          "metadata": {},
          "execution_count": 6
        }
      ]
    },
    {
      "cell_type": "code",
      "metadata": {
        "colab": {
          "base_uri": "https://localhost:8080/"
        },
        "id": "eB8-BAtK8ePR",
        "outputId": "89116803-4a8b-4969-a7f3-08472884779c"
      },
      "source": [
        "cd /content/drive/MyDrive/4th Year Research/M3/Test Implementation/Test-Google-Colab"
      ],
      "execution_count": 7,
      "outputs": [
        {
          "output_type": "stream",
          "name": "stdout",
          "text": [
            "/content/drive/MyDrive/4th Year Research/M3/Test Implementation/Test-Google-Colab\n"
          ]
        }
      ]
    },
    {
      "cell_type": "code",
      "metadata": {
        "id": "F-mBB0-48iBC"
      },
      "source": [
        "dataset = pd.read_csv('Data.csv', encoding='cp1252')\n",
        "X = dataset.iloc[:, 2:12].values\n",
        "Y = dataset.iloc[: , 13].values"
      ],
      "execution_count": 16,
      "outputs": []
    },
    {
      "cell_type": "code",
      "metadata": {
        "colab": {
          "base_uri": "https://localhost:8080/",
          "height": 292
        },
        "id": "b1YDA8wL9RAi",
        "outputId": "c389c8d5-c4f4-4145-d75f-c60e1cbf1565"
      },
      "source": [
        "dataset.head()"
      ],
      "execution_count": 14,
      "outputs": [
        {
          "output_type": "execute_result",
          "data": {
            "text/html": [
              "<div>\n",
              "<style scoped>\n",
              "    .dataframe tbody tr th:only-of-type {\n",
              "        vertical-align: middle;\n",
              "    }\n",
              "\n",
              "    .dataframe tbody tr th {\n",
              "        vertical-align: top;\n",
              "    }\n",
              "\n",
              "    .dataframe thead th {\n",
              "        text-align: right;\n",
              "    }\n",
              "</style>\n",
              "<table border=\"1\" class=\"dataframe\">\n",
              "  <thead>\n",
              "    <tr style=\"text-align: right;\">\n",
              "      <th></th>\n",
              "      <th>Song_ID</th>\n",
              "      <th>Song_Title</th>\n",
              "      <th>Genre</th>\n",
              "      <th>Acorsticness</th>\n",
              "      <th>Tempo (bpm)</th>\n",
              "      <th>Loudness (db)</th>\n",
              "      <th>Energy</th>\n",
              "      <th>Danceability</th>\n",
              "      <th>Valence</th>\n",
              "      <th>Instrumentalness</th>\n",
              "      <th>Mode</th>\n",
              "      <th>Time Signature</th>\n",
              "      <th>Key</th>\n",
              "      <th>Emotion</th>\n",
              "      <th>Unnamed: 14</th>\n",
              "      <th>Unnamed: 15</th>\n",
              "      <th>Unnamed: 16</th>\n",
              "      <th>Unnamed: 17</th>\n",
              "      <th>Unnamed: 18</th>\n",
              "      <th>Unnamed: 19</th>\n",
              "      <th>Unnamed: 20</th>\n",
              "    </tr>\n",
              "  </thead>\n",
              "  <tbody>\n",
              "    <tr>\n",
              "      <th>0</th>\n",
              "      <td>1</td>\n",
              "      <td>Diana</td>\n",
              "      <td>Pop</td>\n",
              "      <td>0.06</td>\n",
              "      <td>172</td>\n",
              "      <td>-4</td>\n",
              "      <td>0.87</td>\n",
              "      <td>0.55</td>\n",
              "      <td>0.76</td>\n",
              "      <td>0.0</td>\n",
              "      <td>1</td>\n",
              "      <td>4</td>\n",
              "      <td>2</td>\n",
              "      <td>Happy</td>\n",
              "      <td>NaN</td>\n",
              "      <td>NaN</td>\n",
              "      <td>NaN</td>\n",
              "      <td>NaN</td>\n",
              "      <td>NaN</td>\n",
              "      <td>NaN</td>\n",
              "      <td>NaN</td>\n",
              "    </tr>\n",
              "    <tr>\n",
              "      <th>1</th>\n",
              "      <td>2</td>\n",
              "      <td>Don't forget where you belong</td>\n",
              "      <td>Pop</td>\n",
              "      <td>0.10</td>\n",
              "      <td>92</td>\n",
              "      <td>-6</td>\n",
              "      <td>0.71</td>\n",
              "      <td>0.54</td>\n",
              "      <td>0.29</td>\n",
              "      <td>0.0</td>\n",
              "      <td>1</td>\n",
              "      <td>4</td>\n",
              "      <td>7</td>\n",
              "      <td>Sad</td>\n",
              "      <td>NaN</td>\n",
              "      <td>NaN</td>\n",
              "      <td>NaN</td>\n",
              "      <td>NaN</td>\n",
              "      <td>NaN</td>\n",
              "      <td>NaN</td>\n",
              "      <td>NaN</td>\n",
              "    </tr>\n",
              "    <tr>\n",
              "      <th>2</th>\n",
              "      <td>3</td>\n",
              "      <td>Strong</td>\n",
              "      <td>Pop</td>\n",
              "      <td>0.06</td>\n",
              "      <td>115</td>\n",
              "      <td>-7</td>\n",
              "      <td>0.66</td>\n",
              "      <td>0.74</td>\n",
              "      <td>0.34</td>\n",
              "      <td>0.0</td>\n",
              "      <td>1</td>\n",
              "      <td>4</td>\n",
              "      <td>0</td>\n",
              "      <td>Dark</td>\n",
              "      <td>NaN</td>\n",
              "      <td>NaN</td>\n",
              "      <td>NaN</td>\n",
              "      <td>NaN</td>\n",
              "      <td>NaN</td>\n",
              "      <td>NaN</td>\n",
              "      <td>NaN</td>\n",
              "    </tr>\n",
              "    <tr>\n",
              "      <th>3</th>\n",
              "      <td>4</td>\n",
              "      <td>Happily</td>\n",
              "      <td>Pop</td>\n",
              "      <td>0.04</td>\n",
              "      <td>117</td>\n",
              "      <td>-5</td>\n",
              "      <td>0.89</td>\n",
              "      <td>0.62</td>\n",
              "      <td>0.82</td>\n",
              "      <td>0.0</td>\n",
              "      <td>1</td>\n",
              "      <td>4</td>\n",
              "      <td>9</td>\n",
              "      <td>Scary</td>\n",
              "      <td>NaN</td>\n",
              "      <td>NaN</td>\n",
              "      <td>NaN</td>\n",
              "      <td>NaN</td>\n",
              "      <td>NaN</td>\n",
              "      <td>NaN</td>\n",
              "      <td>NaN</td>\n",
              "    </tr>\n",
              "    <tr>\n",
              "      <th>4</th>\n",
              "      <td>5</td>\n",
              "      <td>Better than words</td>\n",
              "      <td>Pop</td>\n",
              "      <td>0.11</td>\n",
              "      <td>158</td>\n",
              "      <td>-6</td>\n",
              "      <td>0.84</td>\n",
              "      <td>0.63</td>\n",
              "      <td>0.79</td>\n",
              "      <td>0.0</td>\n",
              "      <td>0</td>\n",
              "      <td>4</td>\n",
              "      <td>11</td>\n",
              "      <td>Tense</td>\n",
              "      <td>NaN</td>\n",
              "      <td>NaN</td>\n",
              "      <td>NaN</td>\n",
              "      <td>NaN</td>\n",
              "      <td>NaN</td>\n",
              "      <td>NaN</td>\n",
              "      <td>NaN</td>\n",
              "    </tr>\n",
              "  </tbody>\n",
              "</table>\n",
              "</div>"
            ],
            "text/plain": [
              "   Song_ID                     Song_Title  ... Unnamed: 19  Unnamed: 20\n",
              "0        1                          Diana  ...         NaN          NaN\n",
              "1        2  Don't forget where you belong  ...         NaN          NaN\n",
              "2        3                        Strong   ...         NaN          NaN\n",
              "3        4                        Happily  ...         NaN          NaN\n",
              "4        5              Better than words  ...         NaN          NaN\n",
              "\n",
              "[5 rows x 21 columns]"
            ]
          },
          "metadata": {},
          "execution_count": 14
        }
      ]
    },
    {
      "cell_type": "code",
      "metadata": {
        "colab": {
          "base_uri": "https://localhost:8080/"
        },
        "id": "dlUARlf_9ifx",
        "outputId": "7c41e1a0-5b9c-44c6-880d-f287e3eb7800"
      },
      "source": [
        "X"
      ],
      "execution_count": 17,
      "outputs": [
        {
          "output_type": "execute_result",
          "data": {
            "text/plain": [
              "array([['Pop', 0.06, 172, ..., 0.0, 1, 4],\n",
              "       ['Pop', 0.1, 92, ..., 0.0, 1, 4],\n",
              "       ['Pop', 0.06, 115, ..., 0.0, 1, 4],\n",
              "       ...,\n",
              "       ['Pop', 0.01, 123, ..., 0.0, 1, 4],\n",
              "       ['Pop', 0.56, 184, ..., 0.0, 0, 4],\n",
              "       ['Pop', 0.21, 110, ..., 0.0, 0, 4]], dtype=object)"
            ]
          },
          "metadata": {},
          "execution_count": 17
        }
      ]
    },
    {
      "cell_type": "code",
      "metadata": {
        "colab": {
          "base_uri": "https://localhost:8080/"
        },
        "id": "XTxwSzEM-DcA",
        "outputId": "f8725fde-c569-41b6-ddbe-24bd08fc7797"
      },
      "source": [
        "Y"
      ],
      "execution_count": 18,
      "outputs": [
        {
          "output_type": "execute_result",
          "data": {
            "text/plain": [
              "array(['Happy', 'Sad', 'Dark', 'Scary', 'Tense', 'Love', 'Inspiration',\n",
              "       'Motivation', 'Angry', 'Calm', 'Love', 'Dreamy', 'Happy', 'Sad',\n",
              "       'Dark', 'Scary', 'Tense', 'Love', 'Inspiration', 'Motivation',\n",
              "       'Angry', 'Calm', 'Sad', 'Happy', 'Sad', 'Dark', 'Scary', 'Tense',\n",
              "       'Happy', 'Sad', 'Dark', 'Scary', 'Tense', 'Happy', 'Sad', 'Dark',\n",
              "       'Scary', 'Tense', 'Love', 'Inspiration', 'Motivation', 'Angry',\n",
              "       'Calm', 'Love', 'Dreamy', 'Happy', 'Sad', 'Dark', 'Scary', 'Tense',\n",
              "       'Love', 'Inspiration', 'Motivation', 'Angry', 'Calm', 'Love',\n",
              "       'Dreamy', 'Love', 'Angry', 'Calm', 'Calm', 'Angry', 'Calm',\n",
              "       'Angry', 'Happy', 'Happy', 'Sad', 'Inspiration', 'Inspiration ',\n",
              "       'Sad', 'Sad', 'Sad', 'Sad', 'Inspiration', 'Sad', 'Angry', 'Angry',\n",
              "       'Angry', 'Calm', 'Dreamy', 'Happy', 'Tense', 'Sad', 'Sad', 'Happy',\n",
              "       'Inspiration', 'Happy', 'Motivation', 'Inspiration', 'Love',\n",
              "       'Tense', 'Happy', 'Sad', 'Dark', 'Love', 'Calm', 'Happy',\n",
              "       'Motivation', 'Scary', 'Love', 'Scary', 'Happy', 'Happy', 'Love',\n",
              "       'Motivation', 'Love', 'Sad', 'Happy', 'Happy', 'Dreamy', 'Calm',\n",
              "       'Tense', 'Angry', 'Dreamy', 'Happy', 'Sad', 'Happy', 'Happy',\n",
              "       'Happy', 'Happy', 'Happy', 'Happy', 'Happy', 'Inspiration',\n",
              "       'Happy', 'Happy', 'Happy', 'Tense', 'Happy', 'Happy', 'Happy',\n",
              "       'Dark', 'Happy', 'Happy', 'Happy', 'Happy', 'Sad', 'Dark', 'Scary',\n",
              "       'Tense', 'Love', 'Inspiration', 'Motivation', 'Angry', 'Calm',\n",
              "       'Love', 'Dreamy', 'Happy', 'Sad', 'Sad', 'Love ', 'Sad', 'Happy',\n",
              "       'Love', 'Angry', 'Angry', 'Angry', 'Angry', 'Angry', 'Calm',\n",
              "       'Dreamy', 'Angry', 'Angry', 'Angry', 'Angry', 'Angry', 'Angry',\n",
              "       'Angry', 'Motivation', 'Calm', 'Inspiration', 'Sad', 'Sad',\n",
              "       'Angry', 'Calm', 'Dreamy', 'Sad', 'Sad', 'Tense', 'Angry', 'Calm',\n",
              "       'Motivation', 'Sad', 'Inspiration ', 'Inspiration ', 'Sad', 'Sad',\n",
              "       'Sad', 'Love', 'Inspiration', 'Inspiration', 'Motivation',\n",
              "       'Inspiration', 'Inspiration', 'Inspiration', 'Inspiration',\n",
              "       'Inspiration', 'Inspiration', 'Inspiration', 'Inspiration',\n",
              "       'Inspiration', 'Happy', 'Happy', 'Dark', 'Love', 'Love', 'Happy ',\n",
              "       'Dark', 'Sad', 'Happy', 'Happy', 'Calm', 'Happy', 'Happy', 'Love',\n",
              "       'Dreamy', 'Sad', 'Love', 'Tense', 'Angry', 'Dark', 'Tense',\n",
              "       'Scary', 'Tense', 'Scary', 'Dark', 'Tense', 'Scary', 'Dark',\n",
              "       'Dark', 'Tense', 'Scary', 'Scary', 'Motivation', 'Happy ',\n",
              "       'Happy ', 'Happy ', 'Motivation', 'Tense', 'Sad', 'Sad', 'Sad',\n",
              "       'Sad', 'Sad', 'Sad', 'Sad', 'Sad ', 'Sad', 'Sad', 'Calm', 'Calm',\n",
              "       'Calm', 'Calm', 'Calm', 'Calm', 'Calm', 'Calm', 'Love', 'Calm',\n",
              "       'Happy', 'Calm', 'Dreamy', 'Calm', 'Calm', 'Calm', 'Calm', 'Calm',\n",
              "       'Calm', 'Sad', 'Calm', 'Motivation', 'Sad', 'Calm', 'Motivation',\n",
              "       'Tense', 'Calm', 'Happy', 'Happy', 'Calm', 'Calm', 'Sad', 'Calm',\n",
              "       'Sad', 'Sad', 'Sad', 'Sad', 'Sad', 'Sad', 'Sad', 'Sad', 'Sad',\n",
              "       'Sad', 'Sad', 'Sad', 'Sad', 'Sad', 'Sad', 'Sad', 'Dark', 'Sad',\n",
              "       'Sad', 'Sad', 'Sad', 'Happy', 'Sad', 'Sad', 'Sad', 'Happy', 'Sad',\n",
              "       'Dark', 'Happy', 'Sad ', 'Calm', 'Motivation', 'Sad ', 'Sad',\n",
              "       'Sad', 'Dreamy', 'Motivation', 'Happy', 'Happy', 'Happy', 'Dreamy',\n",
              "       'Love', 'Love', 'Love', 'Love', 'Love', 'Love', 'Love', 'Love',\n",
              "       'Love', 'Love', 'Love', 'Inspiration', 'Angry', 'Motivation',\n",
              "       'Motivation', 'Angry', 'Angry', 'Angry', 'Angry', 'Angry', 'Angry',\n",
              "       'Angry', 'Angry', 'Happy', 'Angry', 'Happy', 'Inspiration',\n",
              "       'Motivation', 'Motivation', 'Inspiration', 'Angry', 'Angry', 'Sad',\n",
              "       'Sad', 'Happy', 'Happy', 'Happy', 'Happy', 'Happy', 'Happy',\n",
              "       'Happy', 'Happy', 'Sad', 'Happy', 'Sad', 'Happy', 'Sad', 'Sad',\n",
              "       'Sad', 'Tense', 'Happy', 'Happy', 'Happy', 'Happy', 'Sad', 'Sad',\n",
              "       'Sad', 'Tense', 'Calm', 'Happy', 'Calm', 'Happy', 'Calm', 'Sad',\n",
              "       'Sad', 'Sad', 'Happy', 'Happy', 'Happy', 'Happy', 'Sad', 'Sad',\n",
              "       'Sad', 'Tense', 'Calm', 'Happy', 'Calm', 'Happy', 'Calm', 'Sad',\n",
              "       'Sad', 'Sad', 'Happy', 'Calm', 'Happy', 'Sad', 'Happy', 'Sad',\n",
              "       'Tense', 'Sad', 'Calm', 'Happy', 'Tense', 'Happy', 'Calm', 'Happy',\n",
              "       'Sad ', 'Sad', 'Sad', 'Sad', 'Sad', 'Sad', 'Sad', 'Calm', 'Sad',\n",
              "       'Calm', 'Sad', 'Calm', 'Sad', 'Calm', 'Calm', 'Sad', 'Calm', 'Sad',\n",
              "       'Dreamy', 'Angry', 'Sad', 'Dreamy', 'Tense ', 'Tense ', 'Happy',\n",
              "       'Sad', 'Sad', 'Sad', 'Sad', 'Calm', 'Happy', 'Calm', 'Sad', 'Sad',\n",
              "       'Tense ', 'Tense ', 'Sad', 'Calm', 'Calm', 'Happy', 'Sad', 'Sad',\n",
              "       'Sad', 'Sad', 'Sad', 'Sad', 'Sad', 'Happy', 'Sad', 'Sad', 'Sad',\n",
              "       'Sad', 'Sad', 'Happy', 'Happy', 'Sad', 'Love', 'Tense ', 'Calm',\n",
              "       'Happy', 'Happy', 'Sad', 'Sad', 'Happy', 'Sad', 'Happy', 'Calm',\n",
              "       'Calm', 'Calm', 'Calm', 'Calm', 'Sad', 'Calm', 'Calm', 'Sad',\n",
              "       'Sad', 'Sad', 'Dreamy', 'Happy', 'Sad', 'Tense ', 'Tense ',\n",
              "       'Tense ', 'Tense ', 'Tense ', 'Calm', 'Calm', 'Happy', 'Happy',\n",
              "       'Happy', 'Love', 'Happy', 'Happy', 'Calm', 'Tense ', 'Love',\n",
              "       'Happy', 'Sad', 'Happy', 'Tense ', 'Tense ', 'Sad', 'Sad', 'Happy',\n",
              "       'Dreamy', 'Happy', 'Calm', 'Tense ', 'Sad', 'Sad', 'Dreamy',\n",
              "       'Tense ', 'Tense ', 'Sad', 'Dreamy', 'Sad', 'Dreamy', 'Sad',\n",
              "       'Tense', 'Happy', 'Calm', 'Happy', 'Tense', 'Sad ', 'Love',\n",
              "       'Happy', 'Sad ', 'Tense', 'Happy', 'Happy', 'Tense', 'Sad ',\n",
              "       'Sad ', 'Sad ', 'Tense', 'Sad ', 'Sad ', 'Motivation', 'Sad ',\n",
              "       'Sad ', 'Happy', 'Tense', 'Happy', 'Tense', 'Tense', 'Tense',\n",
              "       'Sad ', 'Happy', 'Happy', 'Happy', 'Inspiration', 'Sad ', 'Happy',\n",
              "       'Happy', 'Love', 'Sad ', 'Sad ', 'Love', 'Happy', 'Love', 'Sad ',\n",
              "       'Sad ', 'Happy', 'Sad ', 'Sad ', 'Tense', 'Sad ', 'Calm', 'Happy',\n",
              "       'Happy', 'Calm', 'Sad ', 'Tense', 'Sad ', 'Calm', 'Sad ', 'Sad ',\n",
              "       'Happy', 'Sad ', 'Sad ', 'Inspiration ', 'Inspiration ',\n",
              "       'Inspiration ', 'Inspiration ', 'Inspiration ', 'Inspiration ',\n",
              "       'Inspiration ', 'Inspiration ', 'Happy', 'Inspiration ',\n",
              "       'Inspiration ', 'Inspiration ', 'Inspiration ', 'Inspiration ',\n",
              "       'Happy', 'Inspiration ', 'Inspiration ', 'Sad', 'Inspiration ',\n",
              "       'Inspiration ', 'Inspiration ', 'Sad', 'Angry', 'Inspiration ',\n",
              "       'Sad ', 'Inspiration ', 'Happy', 'Happy ', 'Motivation',\n",
              "       'Motivation', 'Inspiration ', 'Inspiration ', 'Happy ', 'Happy ',\n",
              "       'Happy', 'Happy', 'Happy ', 'Dreamy', 'Angry', 'Happy ', 'Happy ',\n",
              "       'Dreamy', 'Love', 'Love', 'Sad', 'Inspiration', 'Dreamy', 'Sad',\n",
              "       'Motivation', 'Happy', 'Sad', 'Happy', 'Dreamy', 'Dreamy', 'Scary',\n",
              "       'Scary', 'Scary', 'Dreamy', 'Dreamy', 'Happy', 'Dreamy', 'Dreamy',\n",
              "       'Dreamy', 'Dreamy', 'Dreamy', 'Happy', 'Inspiration', 'Tense',\n",
              "       'Happy ', 'Happy', 'Happy', 'Happy', 'Happy', 'Happy', 'Dreamy',\n",
              "       'Inspiration', 'Inspiration', 'Calm ', 'Dreamy ', 'Dark', 'Dark',\n",
              "       'Happy', 'Dreamy ', 'Dreamy', 'Dreamy', 'Dreamy ', 'Dreamy',\n",
              "       'Dark', 'Happy', 'Dreamy ', 'Happy', 'Happy', 'Sad', 'Happy',\n",
              "       'Happy', 'Sad', 'Sad', 'Dark', 'Dark', 'Happy', 'Calm', 'Happy',\n",
              "       'Calm', 'Happy', 'Happy', 'Love', 'Happy', 'Happy', 'Happy',\n",
              "       'Happy', 'Happy', 'Happy', 'Happy', 'Happy', 'Happy', 'Happy',\n",
              "       'Happy', 'Happy', 'Love', 'Love', 'Calm', 'Calm', 'Inspiration',\n",
              "       'Sad', 'Love', 'Sad', 'Love', 'Happy', 'Dark', 'Dark', 'Dark',\n",
              "       'Sad', 'Dark', 'Dark', 'Dark', 'Dark', 'Sad', 'Dark', 'Dark',\n",
              "       'Dark', 'Dark', 'Dark', 'Dark', 'Dark', 'Dark', 'Dark', 'Dark',\n",
              "       'Dark', 'Dark', 'Dark', 'Dark', 'Dark', 'Dark', 'Dark', 'Dark',\n",
              "       'Dark', 'Dark', 'Dark', 'Dark', 'Dark', 'Dark', 'Dark', 'Tense',\n",
              "       'Tense', 'Tense', 'Tense', 'Tense', 'Dark', 'Scary', 'Scary',\n",
              "       'Scary', 'Scary', 'Scary', 'Dark', 'Dark', 'Calm', 'Scary',\n",
              "       'Scary', 'Scary', 'Scary', 'Scary', 'Dark', 'Scary', 'Dreamy',\n",
              "       'Dreamy', 'Dreamy', 'Love', 'Dreamy', 'Love', 'Calm', 'Calm',\n",
              "       'Calm', 'Calm', 'Sad', 'Dreamy', 'Happy', 'Love', 'Happy', 'Happy',\n",
              "       'Love', 'Sad'], dtype=object)"
            ]
          },
          "metadata": {},
          "execution_count": 18
        }
      ]
    }
  ]
}