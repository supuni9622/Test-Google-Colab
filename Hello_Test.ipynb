{
  "nbformat": 4,
  "nbformat_minor": 0,
  "metadata": {
    "colab": {
      "name": "Hello Test.ipynb",
      "provenance": [],
      "collapsed_sections": [],
      "mount_file_id": "1tbu5bzWMoN0JHYm_PZKDZEecwARKgDYy",
      "authorship_tag": "ABX9TyNE+3SotdE5KtJErMuQTQSc",
      "include_colab_link": true
    },
    "kernelspec": {
      "name": "python3",
      "display_name": "Python 3"
    },
    "language_info": {
      "name": "python"
    }
  },
  "cells": [
    {
      "cell_type": "markdown",
      "metadata": {
        "id": "view-in-github",
        "colab_type": "text"
      },
      "source": [
        "<a href=\"https://colab.research.google.com/github/supuni9622/Test-Google-Colab/blob/main/Hello_Test.ipynb\" target=\"_parent\"><img src=\"https://colab.research.google.com/assets/colab-badge.svg\" alt=\"Open In Colab\"/></a>"
      ]
    },
    {
      "cell_type": "code",
      "metadata": {
        "colab": {
          "base_uri": "https://localhost:8080/"
        },
        "id": "0aVt93XVx_u6",
        "outputId": "988fd8b1-270a-4103-faa2-87ee3a4d7c0d"
      },
      "source": [
        "print(\"Hello World\")"
      ],
      "execution_count": 1,
      "outputs": [
        {
          "output_type": "stream",
          "name": "stdout",
          "text": [
            "Hello World\n"
          ]
        }
      ]
    },
    {
      "cell_type": "markdown",
      "metadata": {
        "id": "fte6KUwv1TdQ"
      },
      "source": [
        "# ***Importing Libraries***"
      ]
    },
    {
      "cell_type": "code",
      "metadata": {
        "id": "aJ2sbpuW1nEZ"
      },
      "source": [
        "import numpy as np\n",
        "import matplotlib.pyplot as plt\n",
        "import pandas as pd"
      ],
      "execution_count": 2,
      "outputs": []
    },
    {
      "cell_type": "markdown",
      "metadata": {
        "id": "h9hskWzU3zLi"
      },
      "source": [
        "# ***Import Dataset***"
      ]
    },
    {
      "cell_type": "code",
      "metadata": {
        "colab": {
          "base_uri": "https://localhost:8080/",
          "height": 35
        },
        "id": "KOo7C55E8TRx",
        "outputId": "8c0dcc67-6572-4b77-fd5e-8bd03f1d3a6a"
      },
      "source": [
        "pwd"
      ],
      "execution_count": 6,
      "outputs": [
        {
          "output_type": "execute_result",
          "data": {
            "application/vnd.google.colaboratory.intrinsic+json": {
              "type": "string"
            },
            "text/plain": [
              "'/content'"
            ]
          },
          "metadata": {},
          "execution_count": 6
        }
      ]
    },
    {
      "cell_type": "code",
      "metadata": {
        "colab": {
          "base_uri": "https://localhost:8080/"
        },
        "id": "eB8-BAtK8ePR",
        "outputId": "89116803-4a8b-4969-a7f3-08472884779c"
      },
      "source": [
        "cd /content/drive/MyDrive/4th Year Research/M3/Test Implementation/Test-Google-Colab"
      ],
      "execution_count": 7,
      "outputs": [
        {
          "output_type": "stream",
          "name": "stdout",
          "text": [
            "/content/drive/MyDrive/4th Year Research/M3/Test Implementation/Test-Google-Colab\n"
          ]
        }
      ]
    },
    {
      "cell_type": "code",
      "metadata": {
        "id": "F-mBB0-48iBC"
      },
      "source": [
        "dataset = pd.read_csv('Data.csv', encoding='cp1252')\n",
        "X = dataset.iloc[:, 2:13].values\n",
        "Y = dataset.iloc[: , 13].values"
      ],
      "execution_count": 36,
      "outputs": []
    },
    {
      "cell_type": "code",
      "metadata": {
        "colab": {
          "base_uri": "https://localhost:8080/",
          "height": 292
        },
        "id": "b1YDA8wL9RAi",
        "outputId": "d2ed0458-9b25-40c3-a99c-ff67a9f3919b"
      },
      "source": [
        "dataset.head()"
      ],
      "execution_count": 37,
      "outputs": [
        {
          "output_type": "execute_result",
          "data": {
            "text/html": [
              "<div>\n",
              "<style scoped>\n",
              "    .dataframe tbody tr th:only-of-type {\n",
              "        vertical-align: middle;\n",
              "    }\n",
              "\n",
              "    .dataframe tbody tr th {\n",
              "        vertical-align: top;\n",
              "    }\n",
              "\n",
              "    .dataframe thead th {\n",
              "        text-align: right;\n",
              "    }\n",
              "</style>\n",
              "<table border=\"1\" class=\"dataframe\">\n",
              "  <thead>\n",
              "    <tr style=\"text-align: right;\">\n",
              "      <th></th>\n",
              "      <th>Song_ID</th>\n",
              "      <th>Song_Title</th>\n",
              "      <th>Genre</th>\n",
              "      <th>Acorsticness</th>\n",
              "      <th>Tempo (bpm)</th>\n",
              "      <th>Loudness (db)</th>\n",
              "      <th>Energy</th>\n",
              "      <th>Danceability</th>\n",
              "      <th>Valence</th>\n",
              "      <th>Instrumentalness</th>\n",
              "      <th>Mode</th>\n",
              "      <th>Time Signature</th>\n",
              "      <th>Key</th>\n",
              "      <th>Emotion</th>\n",
              "      <th>Unnamed: 14</th>\n",
              "      <th>Unnamed: 15</th>\n",
              "      <th>Unnamed: 16</th>\n",
              "      <th>Unnamed: 17</th>\n",
              "      <th>Unnamed: 18</th>\n",
              "      <th>Unnamed: 19</th>\n",
              "      <th>Unnamed: 20</th>\n",
              "    </tr>\n",
              "  </thead>\n",
              "  <tbody>\n",
              "    <tr>\n",
              "      <th>0</th>\n",
              "      <td>1</td>\n",
              "      <td>Diana</td>\n",
              "      <td>Pop</td>\n",
              "      <td>0.06</td>\n",
              "      <td>172</td>\n",
              "      <td>-4</td>\n",
              "      <td>0.87</td>\n",
              "      <td>0.55</td>\n",
              "      <td>0.76</td>\n",
              "      <td>0.0</td>\n",
              "      <td>1</td>\n",
              "      <td>4</td>\n",
              "      <td>2</td>\n",
              "      <td>Happy</td>\n",
              "      <td>NaN</td>\n",
              "      <td>NaN</td>\n",
              "      <td>NaN</td>\n",
              "      <td>NaN</td>\n",
              "      <td>NaN</td>\n",
              "      <td>NaN</td>\n",
              "      <td>NaN</td>\n",
              "    </tr>\n",
              "    <tr>\n",
              "      <th>1</th>\n",
              "      <td>2</td>\n",
              "      <td>Don't forget where you belong</td>\n",
              "      <td>Pop</td>\n",
              "      <td>0.10</td>\n",
              "      <td>92</td>\n",
              "      <td>-6</td>\n",
              "      <td>0.71</td>\n",
              "      <td>0.54</td>\n",
              "      <td>0.29</td>\n",
              "      <td>0.0</td>\n",
              "      <td>1</td>\n",
              "      <td>4</td>\n",
              "      <td>7</td>\n",
              "      <td>Sad</td>\n",
              "      <td>NaN</td>\n",
              "      <td>NaN</td>\n",
              "      <td>NaN</td>\n",
              "      <td>NaN</td>\n",
              "      <td>NaN</td>\n",
              "      <td>NaN</td>\n",
              "      <td>NaN</td>\n",
              "    </tr>\n",
              "    <tr>\n",
              "      <th>2</th>\n",
              "      <td>3</td>\n",
              "      <td>Strong</td>\n",
              "      <td>Pop</td>\n",
              "      <td>0.06</td>\n",
              "      <td>115</td>\n",
              "      <td>-7</td>\n",
              "      <td>0.66</td>\n",
              "      <td>0.74</td>\n",
              "      <td>0.34</td>\n",
              "      <td>0.0</td>\n",
              "      <td>1</td>\n",
              "      <td>4</td>\n",
              "      <td>0</td>\n",
              "      <td>Dark</td>\n",
              "      <td>NaN</td>\n",
              "      <td>NaN</td>\n",
              "      <td>NaN</td>\n",
              "      <td>NaN</td>\n",
              "      <td>NaN</td>\n",
              "      <td>NaN</td>\n",
              "      <td>NaN</td>\n",
              "    </tr>\n",
              "    <tr>\n",
              "      <th>3</th>\n",
              "      <td>4</td>\n",
              "      <td>Happily</td>\n",
              "      <td>Pop</td>\n",
              "      <td>0.04</td>\n",
              "      <td>117</td>\n",
              "      <td>-5</td>\n",
              "      <td>0.89</td>\n",
              "      <td>0.62</td>\n",
              "      <td>0.82</td>\n",
              "      <td>0.0</td>\n",
              "      <td>1</td>\n",
              "      <td>4</td>\n",
              "      <td>9</td>\n",
              "      <td>Scary</td>\n",
              "      <td>NaN</td>\n",
              "      <td>NaN</td>\n",
              "      <td>NaN</td>\n",
              "      <td>NaN</td>\n",
              "      <td>NaN</td>\n",
              "      <td>NaN</td>\n",
              "      <td>NaN</td>\n",
              "    </tr>\n",
              "    <tr>\n",
              "      <th>4</th>\n",
              "      <td>5</td>\n",
              "      <td>Better than words</td>\n",
              "      <td>Pop</td>\n",
              "      <td>0.11</td>\n",
              "      <td>158</td>\n",
              "      <td>-6</td>\n",
              "      <td>0.84</td>\n",
              "      <td>0.63</td>\n",
              "      <td>0.79</td>\n",
              "      <td>0.0</td>\n",
              "      <td>0</td>\n",
              "      <td>4</td>\n",
              "      <td>11</td>\n",
              "      <td>Tense</td>\n",
              "      <td>NaN</td>\n",
              "      <td>NaN</td>\n",
              "      <td>NaN</td>\n",
              "      <td>NaN</td>\n",
              "      <td>NaN</td>\n",
              "      <td>NaN</td>\n",
              "      <td>NaN</td>\n",
              "    </tr>\n",
              "  </tbody>\n",
              "</table>\n",
              "</div>"
            ],
            "text/plain": [
              "   Song_ID                     Song_Title  ... Unnamed: 19  Unnamed: 20\n",
              "0        1                          Diana  ...         NaN          NaN\n",
              "1        2  Don't forget where you belong  ...         NaN          NaN\n",
              "2        3                        Strong   ...         NaN          NaN\n",
              "3        4                        Happily  ...         NaN          NaN\n",
              "4        5              Better than words  ...         NaN          NaN\n",
              "\n",
              "[5 rows x 21 columns]"
            ]
          },
          "metadata": {},
          "execution_count": 37
        }
      ]
    },
    {
      "cell_type": "code",
      "metadata": {
        "colab": {
          "base_uri": "https://localhost:8080/"
        },
        "id": "dlUARlf_9ifx",
        "outputId": "4cda09e9-86b4-4923-ff0e-28b03b0bd056"
      },
      "source": [
        "X"
      ],
      "execution_count": 38,
      "outputs": [
        {
          "output_type": "execute_result",
          "data": {
            "text/plain": [
              "array([['Pop', 0.06, 172, ..., 1, 4, 2],\n",
              "       ['Pop', 0.1, 92, ..., 1, 4, 7],\n",
              "       ['Pop', 0.06, 115, ..., 1, 4, 0],\n",
              "       ...,\n",
              "       ['Pop', 0.01, 123, ..., 1, 4, 4],\n",
              "       ['Pop', 0.56, 184, ..., 0, 4, 10],\n",
              "       ['Pop', 0.21, 110, ..., 0, 4, 1]], dtype=object)"
            ]
          },
          "metadata": {},
          "execution_count": 38
        }
      ]
    },
    {
      "cell_type": "code",
      "metadata": {
        "colab": {
          "base_uri": "https://localhost:8080/"
        },
        "id": "isWWSZLrEcC8",
        "outputId": "862a12c2-c1f9-48b0-e5cf-1153e3fe97b1"
      },
      "source": [
        "print(X.shape)"
      ],
      "execution_count": 30,
      "outputs": [
        {
          "output_type": "stream",
          "name": "stdout",
          "text": [
            "(800, 11)\n"
          ]
        }
      ]
    },
    {
      "cell_type": "code",
      "metadata": {
        "colab": {
          "base_uri": "https://localhost:8080/"
        },
        "id": "XTxwSzEM-DcA",
        "outputId": "fcf58ef5-4b8c-4cf7-d4c5-5e288accb68b"
      },
      "source": [
        "Y"
      ],
      "execution_count": 39,
      "outputs": [
        {
          "output_type": "execute_result",
          "data": {
            "text/plain": [
              "array(['Happy', 'Sad', 'Dark', 'Scary', 'Tense', 'Love', 'Inspiration',\n",
              "       'Motivation', 'Angry', 'Calm', 'Love', 'Dreamy', 'Happy', 'Sad',\n",
              "       'Dark', 'Scary', 'Tense', 'Love', 'Inspiration', 'Motivation',\n",
              "       'Angry', 'Calm', 'Sad', 'Happy', 'Sad', 'Dark', 'Scary', 'Tense',\n",
              "       'Happy', 'Sad', 'Dark', 'Scary', 'Tense', 'Happy', 'Sad', 'Dark',\n",
              "       'Scary', 'Tense', 'Love', 'Inspiration', 'Motivation', 'Angry',\n",
              "       'Calm', 'Love', 'Dreamy', 'Happy', 'Sad', 'Dark', 'Scary', 'Tense',\n",
              "       'Love', 'Inspiration', 'Motivation', 'Angry', 'Calm', 'Love',\n",
              "       'Dreamy', 'Love', 'Angry', 'Calm', 'Calm', 'Angry', 'Calm',\n",
              "       'Angry', 'Happy', 'Happy', 'Sad', 'Inspiration', 'Inspiration ',\n",
              "       'Sad', 'Sad', 'Sad', 'Sad', 'Inspiration', 'Sad', 'Angry', 'Angry',\n",
              "       'Angry', 'Calm', 'Dreamy', 'Happy', 'Tense', 'Sad', 'Sad', 'Happy',\n",
              "       'Inspiration', 'Happy', 'Motivation', 'Inspiration', 'Love',\n",
              "       'Tense', 'Happy', 'Sad', 'Dark', 'Love', 'Calm', 'Happy',\n",
              "       'Motivation', 'Scary', 'Love', 'Scary', 'Happy', 'Happy', 'Love',\n",
              "       'Motivation', 'Love', 'Sad', 'Happy', 'Happy', 'Dreamy', 'Calm',\n",
              "       'Tense', 'Angry', 'Dreamy', 'Happy', 'Sad', 'Happy', 'Happy',\n",
              "       'Happy', 'Happy', 'Happy', 'Happy', 'Happy', 'Inspiration',\n",
              "       'Happy', 'Happy', 'Happy', 'Tense', 'Happy', 'Happy', 'Happy',\n",
              "       'Dark', 'Happy', 'Happy', 'Happy', 'Happy', 'Sad', 'Dark', 'Scary',\n",
              "       'Tense', 'Love', 'Inspiration', 'Motivation', 'Angry', 'Calm',\n",
              "       'Love', 'Dreamy', 'Happy', 'Sad', 'Sad', 'Love ', 'Sad', 'Happy',\n",
              "       'Love', 'Angry', 'Angry', 'Angry', 'Angry', 'Angry', 'Calm',\n",
              "       'Dreamy', 'Angry', 'Angry', 'Angry', 'Angry', 'Angry', 'Angry',\n",
              "       'Angry', 'Motivation', 'Calm', 'Inspiration', 'Sad', 'Sad',\n",
              "       'Angry', 'Calm', 'Dreamy', 'Sad', 'Sad', 'Tense', 'Angry', 'Calm',\n",
              "       'Motivation', 'Sad', 'Inspiration ', 'Inspiration ', 'Sad', 'Sad',\n",
              "       'Sad', 'Love', 'Inspiration', 'Inspiration', 'Motivation',\n",
              "       'Inspiration', 'Inspiration', 'Inspiration', 'Inspiration',\n",
              "       'Inspiration', 'Inspiration', 'Inspiration', 'Inspiration',\n",
              "       'Inspiration', 'Happy', 'Happy', 'Dark', 'Love', 'Love', 'Happy ',\n",
              "       'Dark', 'Sad', 'Happy', 'Happy', 'Calm', 'Happy', 'Happy', 'Love',\n",
              "       'Dreamy', 'Sad', 'Love', 'Tense', 'Angry', 'Dark', 'Tense',\n",
              "       'Scary', 'Tense', 'Scary', 'Dark', 'Tense', 'Scary', 'Dark',\n",
              "       'Dark', 'Tense', 'Scary', 'Scary', 'Motivation', 'Happy ',\n",
              "       'Happy ', 'Happy ', 'Motivation', 'Tense', 'Sad', 'Sad', 'Sad',\n",
              "       'Sad', 'Sad', 'Sad', 'Sad', 'Sad ', 'Sad', 'Sad', 'Calm', 'Calm',\n",
              "       'Calm', 'Calm', 'Calm', 'Calm', 'Calm', 'Calm', 'Love', 'Calm',\n",
              "       'Happy', 'Calm', 'Dreamy', 'Calm', 'Calm', 'Calm', 'Calm', 'Calm',\n",
              "       'Calm', 'Sad', 'Calm', 'Motivation', 'Sad', 'Calm', 'Motivation',\n",
              "       'Tense', 'Calm', 'Happy', 'Happy', 'Calm', 'Calm', 'Sad', 'Calm',\n",
              "       'Sad', 'Sad', 'Sad', 'Sad', 'Sad', 'Sad', 'Sad', 'Sad', 'Sad',\n",
              "       'Sad', 'Sad', 'Sad', 'Sad', 'Sad', 'Sad', 'Sad', 'Dark', 'Sad',\n",
              "       'Sad', 'Sad', 'Sad', 'Happy', 'Sad', 'Sad', 'Sad', 'Happy', 'Sad',\n",
              "       'Dark', 'Happy', 'Sad ', 'Calm', 'Motivation', 'Sad ', 'Sad',\n",
              "       'Sad', 'Dreamy', 'Motivation', 'Happy', 'Happy', 'Happy', 'Dreamy',\n",
              "       'Love', 'Love', 'Love', 'Love', 'Love', 'Love', 'Love', 'Love',\n",
              "       'Love', 'Love', 'Love', 'Inspiration', 'Angry', 'Motivation',\n",
              "       'Motivation', 'Angry', 'Angry', 'Angry', 'Angry', 'Angry', 'Angry',\n",
              "       'Angry', 'Angry', 'Happy', 'Angry', 'Happy', 'Inspiration',\n",
              "       'Motivation', 'Motivation', 'Inspiration', 'Angry', 'Angry', 'Sad',\n",
              "       'Sad', 'Happy', 'Happy', 'Happy', 'Happy', 'Happy', 'Happy',\n",
              "       'Happy', 'Happy', 'Sad', 'Happy', 'Sad', 'Happy', 'Sad', 'Sad',\n",
              "       'Sad', 'Tense', 'Happy', 'Happy', 'Happy', 'Happy', 'Sad', 'Sad',\n",
              "       'Sad', 'Tense', 'Calm', 'Happy', 'Calm', 'Happy', 'Calm', 'Sad',\n",
              "       'Sad', 'Sad', 'Happy', 'Happy', 'Happy', 'Happy', 'Sad', 'Sad',\n",
              "       'Sad', 'Tense', 'Calm', 'Happy', 'Calm', 'Happy', 'Calm', 'Sad',\n",
              "       'Sad', 'Sad', 'Happy', 'Calm', 'Happy', 'Sad', 'Happy', 'Sad',\n",
              "       'Tense', 'Sad', 'Calm', 'Happy', 'Tense', 'Happy', 'Calm', 'Happy',\n",
              "       'Sad ', 'Sad', 'Sad', 'Sad', 'Sad', 'Sad', 'Sad', 'Calm', 'Sad',\n",
              "       'Calm', 'Sad', 'Calm', 'Sad', 'Calm', 'Calm', 'Sad', 'Calm', 'Sad',\n",
              "       'Dreamy', 'Angry', 'Sad', 'Dreamy', 'Tense ', 'Tense ', 'Happy',\n",
              "       'Sad', 'Sad', 'Sad', 'Sad', 'Calm', 'Happy', 'Calm', 'Sad', 'Sad',\n",
              "       'Tense ', 'Tense ', 'Sad', 'Calm', 'Calm', 'Happy', 'Sad', 'Sad',\n",
              "       'Sad', 'Sad', 'Sad', 'Sad', 'Sad', 'Happy', 'Sad', 'Sad', 'Sad',\n",
              "       'Sad', 'Sad', 'Happy', 'Happy', 'Sad', 'Love', 'Tense ', 'Calm',\n",
              "       'Happy', 'Happy', 'Sad', 'Sad', 'Happy', 'Sad', 'Happy', 'Calm',\n",
              "       'Calm', 'Calm', 'Calm', 'Calm', 'Sad', 'Calm', 'Calm', 'Sad',\n",
              "       'Sad', 'Sad', 'Dreamy', 'Happy', 'Sad', 'Tense ', 'Tense ',\n",
              "       'Tense ', 'Tense ', 'Tense ', 'Calm', 'Calm', 'Happy', 'Happy',\n",
              "       'Happy', 'Love', 'Happy', 'Happy', 'Calm', 'Tense ', 'Love',\n",
              "       'Happy', 'Sad', 'Happy', 'Tense ', 'Tense ', 'Sad', 'Sad', 'Happy',\n",
              "       'Dreamy', 'Happy', 'Calm', 'Tense ', 'Sad', 'Sad', 'Dreamy',\n",
              "       'Tense ', 'Tense ', 'Sad', 'Dreamy', 'Sad', 'Dreamy', 'Sad',\n",
              "       'Tense', 'Happy', 'Calm', 'Happy', 'Tense', 'Sad ', 'Love',\n",
              "       'Happy', 'Sad ', 'Tense', 'Happy', 'Happy', 'Tense', 'Sad ',\n",
              "       'Sad ', 'Sad ', 'Tense', 'Sad ', 'Sad ', 'Motivation', 'Sad ',\n",
              "       'Sad ', 'Happy', 'Tense', 'Happy', 'Tense', 'Tense', 'Tense',\n",
              "       'Sad ', 'Happy', 'Happy', 'Happy', 'Inspiration', 'Sad ', 'Happy',\n",
              "       'Happy', 'Love', 'Sad ', 'Sad ', 'Love', 'Happy', 'Love', 'Sad ',\n",
              "       'Sad ', 'Happy', 'Sad ', 'Sad ', 'Tense', 'Sad ', 'Calm', 'Happy',\n",
              "       'Happy', 'Calm', 'Sad ', 'Tense', 'Sad ', 'Calm', 'Sad ', 'Sad ',\n",
              "       'Happy', 'Sad ', 'Sad ', 'Inspiration ', 'Inspiration ',\n",
              "       'Inspiration ', 'Inspiration ', 'Inspiration ', 'Inspiration ',\n",
              "       'Inspiration ', 'Inspiration ', 'Happy', 'Inspiration ',\n",
              "       'Inspiration ', 'Inspiration ', 'Inspiration ', 'Inspiration ',\n",
              "       'Happy', 'Inspiration ', 'Inspiration ', 'Sad', 'Inspiration ',\n",
              "       'Inspiration ', 'Inspiration ', 'Sad', 'Angry', 'Inspiration ',\n",
              "       'Sad ', 'Inspiration ', 'Happy', 'Happy ', 'Motivation',\n",
              "       'Motivation', 'Inspiration ', 'Inspiration ', 'Happy ', 'Happy ',\n",
              "       'Happy', 'Happy', 'Happy ', 'Dreamy', 'Angry', 'Happy ', 'Happy ',\n",
              "       'Dreamy', 'Love', 'Love', 'Sad', 'Inspiration', 'Dreamy', 'Sad',\n",
              "       'Motivation', 'Happy', 'Sad', 'Happy', 'Dreamy', 'Dreamy', 'Scary',\n",
              "       'Scary', 'Scary', 'Dreamy', 'Dreamy', 'Happy', 'Dreamy', 'Dreamy',\n",
              "       'Dreamy', 'Dreamy', 'Dreamy', 'Happy', 'Inspiration', 'Tense',\n",
              "       'Happy ', 'Happy', 'Happy', 'Happy', 'Happy', 'Happy', 'Dreamy',\n",
              "       'Inspiration', 'Inspiration', 'Calm ', 'Dreamy ', 'Dark', 'Dark',\n",
              "       'Happy', 'Dreamy ', 'Dreamy', 'Dreamy', 'Dreamy ', 'Dreamy',\n",
              "       'Dark', 'Happy', 'Dreamy ', 'Happy', 'Happy', 'Sad', 'Happy',\n",
              "       'Happy', 'Sad', 'Sad', 'Dark', 'Dark', 'Happy', 'Calm', 'Happy',\n",
              "       'Calm', 'Happy', 'Happy', 'Love', 'Happy', 'Happy', 'Happy',\n",
              "       'Happy', 'Happy', 'Happy', 'Happy', 'Happy', 'Happy', 'Happy',\n",
              "       'Happy', 'Happy', 'Love', 'Love', 'Calm', 'Calm', 'Inspiration',\n",
              "       'Sad', 'Love', 'Sad', 'Love', 'Happy', 'Dark', 'Dark', 'Dark',\n",
              "       'Sad', 'Dark', 'Dark', 'Dark', 'Dark', 'Sad', 'Dark', 'Dark',\n",
              "       'Dark', 'Dark', 'Dark', 'Dark', 'Dark', 'Dark', 'Dark', 'Dark',\n",
              "       'Dark', 'Dark', 'Dark', 'Dark', 'Dark', 'Dark', 'Dark', 'Dark',\n",
              "       'Dark', 'Dark', 'Dark', 'Dark', 'Dark', 'Dark', 'Dark', 'Tense',\n",
              "       'Tense', 'Tense', 'Tense', 'Tense', 'Dark', 'Scary', 'Scary',\n",
              "       'Scary', 'Scary', 'Scary', 'Dark', 'Dark', 'Calm', 'Scary',\n",
              "       'Scary', 'Scary', 'Scary', 'Scary', 'Dark', 'Scary', 'Dreamy',\n",
              "       'Dreamy', 'Dreamy', 'Love', 'Dreamy', 'Love', 'Calm', 'Calm',\n",
              "       'Calm', 'Calm', 'Sad', 'Dreamy', 'Happy', 'Love', 'Happy', 'Happy',\n",
              "       'Love', 'Sad'], dtype=object)"
            ]
          },
          "metadata": {},
          "execution_count": 39
        }
      ]
    },
    {
      "cell_type": "code",
      "metadata": {
        "colab": {
          "base_uri": "https://localhost:8080/"
        },
        "id": "nijN5UyJENmd",
        "outputId": "6eeca58b-0783-4c8b-89a5-80c49cbc9d10"
      },
      "source": [
        "print(Y.shape)"
      ],
      "execution_count": 32,
      "outputs": [
        {
          "output_type": "stream",
          "name": "stdout",
          "text": [
            "(800,)\n"
          ]
        }
      ]
    },
    {
      "cell_type": "markdown",
      "metadata": {
        "id": "zFl4u5Xw_nYu"
      },
      "source": [
        "# ***Encord Categorical Data***"
      ]
    },
    {
      "cell_type": "code",
      "metadata": {
        "id": "qnAO3P42_tMp"
      },
      "source": [
        "from sklearn.preprocessing import LabelEncoder\n",
        "le = LabelEncoder()\n",
        "y = le.fit_transform(Y)\n"
      ],
      "execution_count": 40,
      "outputs": []
    },
    {
      "cell_type": "code",
      "metadata": {
        "colab": {
          "base_uri": "https://localhost:8080/"
        },
        "id": "DhRKiLCqAU2-",
        "outputId": "154f347a-b100-4734-eae2-09864762d2f1"
      },
      "source": [
        "print(y)"
      ],
      "execution_count": 34,
      "outputs": [
        {
          "output_type": "stream",
          "name": "stdout",
          "text": [
            "[ 6 13  3 15 16 10  8 12  0  1 10  4  6 13  3 15 16 10  8 12  0  1 13  6\n",
            " 13  3 15 16  6 13  3 15 16  6 13  3 15 16 10  8 12  0  1 10  4  6 13  3\n",
            " 15 16 10  8 12  0  1 10  4 10  0  1  1  0  1  0  6  6 13  8  9 13 13 13\n",
            " 13  8 13  0  0  0  1  4  6 16 13 13  6  8  6 12  8 10 16  6 13  3 10  1\n",
            "  6 12 15 10 15  6  6 10 12 10 13  6  6  4  1 16  0  4  6 13  6  6  6  6\n",
            "  6  6  6  8  6  6  6 16  6  6  6  3  6  6  6  6 13  3 15 16 10  8 12  0\n",
            "  1 10  4  6 13 13 11 13  6 10  0  0  0  0  0  1  4  0  0  0  0  0  0  0\n",
            " 12  1  8 13 13  0  1  4 13 13 16  0  1 12 13  9  9 13 13 13 10  8  8 12\n",
            "  8  8  8  8  8  8  8  8  8  6  6  3 10 10  7  3 13  6  6  1  6  6 10  4\n",
            " 13 10 16  0  3 16 15 16 15  3 16 15  3  3 16 15 15 12  7  7  7 12 16 13\n",
            " 13 13 13 13 13 13 14 13 13  1  1  1  1  1  1  1  1 10  1  6  1  4  1  1\n",
            "  1  1  1  1 13  1 12 13  1 12 16  1  6  6  1  1 13  1 13 13 13 13 13 13\n",
            " 13 13 13 13 13 13 13 13 13 13  3 13 13 13 13  6 13 13 13  6 13  3  6 14\n",
            "  1 12 14 13 13  4 12  6  6  6  4 10 10 10 10 10 10 10 10 10 10 10  8  0\n",
            " 12 12  0  0  0  0  0  0  0  0  6  0  6  8 12 12  8  0  0 13 13  6  6  6\n",
            "  6  6  6  6  6 13  6 13  6 13 13 13 16  6  6  6  6 13 13 13 16  1  6  1\n",
            "  6  1 13 13 13  6  6  6  6 13 13 13 16  1  6  1  6  1 13 13 13  6  1  6\n",
            " 13  6 13 16 13  1  6 16  6  1  6 14 13 13 13 13 13 13  1 13  1 13  1 13\n",
            "  1  1 13  1 13  4  0 13  4 17 17  6 13 13 13 13  1  6  1 13 13 17 17 13\n",
            "  1  1  6 13 13 13 13 13 13 13  6 13 13 13 13 13  6  6 13 10 17  1  6  6\n",
            " 13 13  6 13  6  1  1  1  1  1 13  1  1 13 13 13  4  6 13 17 17 17 17 17\n",
            "  1  1  6  6  6 10  6  6  1 17 10  6 13  6 17 17 13 13  6  4  6  1 17 13\n",
            " 13  4 17 17 13  4 13  4 13 16  6  1  6 16 14 10  6 14 16  6  6 16 14 14\n",
            " 14 16 14 14 12 14 14  6 16  6 16 16 16 14  6  6  6  8 14  6  6 10 14 14\n",
            " 10  6 10 14 14  6 14 14 16 14  1  6  6  1 14 16 14  1 14 14  6 14 14  9\n",
            "  9  9  9  9  9  9  9  6  9  9  9  9  9  6  9  9 13  9  9  9 13  0  9 14\n",
            "  9  6  7 12 12  9  9  7  7  6  6  7  4  0  7  7  4 10 10 13  8  4 13 12\n",
            "  6 13  6  4  4 15 15 15  4  4  6  4  4  4  4  4  6  8 16  7  6  6  6  6\n",
            "  6  4  8  8  2  5  3  3  6  5  4  4  5  4  3  6  5  6  6 13  6  6 13 13\n",
            "  3  3  6  1  6  1  6  6 10  6  6  6  6  6  6  6  6  6  6  6  6 10 10  1\n",
            "  1  8 13 10 13 10  6  3  3  3 13  3  3  3  3 13  3  3  3  3  3  3  3  3\n",
            "  3  3  3  3  3  3  3  3  3  3  3  3  3  3  3  3  3 16 16 16 16 16  3 15\n",
            " 15 15 15 15  3  3  1 15 15 15 15 15  3 15  4  4  4 10  4 10  1  1  1  1\n",
            " 13  4  6 10  6  6 10 13]\n"
          ]
        }
      ]
    },
    {
      "cell_type": "code",
      "metadata": {
        "colab": {
          "base_uri": "https://localhost:8080/"
        },
        "id": "v57EAaG9FO0Y",
        "outputId": "29b5c0e3-c035-47e0-f382-d2cca1fc0473"
      },
      "source": [
        "from sklearn.compose import ColumnTransformer\n",
        "from sklearn.preprocessing import OneHotEncoder\n",
        "ct = ColumnTransformer(transformers=[('encoder', OneHotEncoder(), [0])], remainder=\"passthrough\")\n",
        "X = np.array(ct.fit_transform(X))\n",
        "print(X)"
      ],
      "execution_count": 43,
      "outputs": [
        {
          "output_type": "stream",
          "name": "stdout",
          "text": [
            "[[1.0 0.0 0.0 ... 1 4 2]\n",
            " [1.0 0.0 0.0 ... 1 4 7]\n",
            " [1.0 0.0 0.0 ... 1 4 0]\n",
            " ...\n",
            " [1.0 0.0 0.0 ... 1 4 4]\n",
            " [1.0 0.0 0.0 ... 0 4 10]\n",
            " [1.0 0.0 0.0 ... 0 4 1]]\n"
          ]
        }
      ]
    },
    {
      "cell_type": "markdown",
      "metadata": {
        "id": "G_AyPRyXIe7I"
      },
      "source": [
        "# ***Spliting the data to testing and trainng***"
      ]
    },
    {
      "cell_type": "code",
      "metadata": {
        "id": "idjieD25Ij51"
      },
      "source": [
        "from sklearn.model_selection import train_test_split\n",
        "X_train, X_test, y_train, y_test = train_test_split(X, y, test_size = 0.2, random_state = 1)"
      ],
      "execution_count": 44,
      "outputs": []
    },
    {
      "cell_type": "code",
      "metadata": {
        "colab": {
          "base_uri": "https://localhost:8080/"
        },
        "id": "rtbgNjuYJ3Ce",
        "outputId": "7cd74d85-7e1d-4531-9116-aee79bc9a074"
      },
      "source": [
        "print(X_train)\n",
        "print(X_train.shape)"
      ],
      "execution_count": 45,
      "outputs": [
        {
          "output_type": "stream",
          "name": "stdout",
          "text": [
            "[[1.0 0.0 0.0 ... 1 4 4]\n",
            " [1.0 0.0 0.0 ... 0 3 2]\n",
            " [1.0 0.0 0.0 ... 1 4 2]\n",
            " ...\n",
            " [1.0 0.0 0.0 ... 1 4 4]\n",
            " [1.0 0.0 0.0 ... 1 4 0]\n",
            " [1.0 0.0 0.0 ... 0 4 6]]\n",
            "(640, 25)\n"
          ]
        }
      ]
    },
    {
      "cell_type": "code",
      "metadata": {
        "colab": {
          "base_uri": "https://localhost:8080/"
        },
        "id": "JHGYChwHJ_AI",
        "outputId": "29a6a33c-2559-4702-8d82-058f4b3d77a3"
      },
      "source": [
        "print(X_test)\n",
        "print(X_test.shape)"
      ],
      "execution_count": 46,
      "outputs": [
        {
          "output_type": "stream",
          "name": "stdout",
          "text": [
            "[[1.0 0.0 0.0 ... 1 4 2]\n",
            " [1.0 0.0 0.0 ... 0 4 6]\n",
            " [1.0 0.0 0.0 ... 1 4 2]\n",
            " ...\n",
            " [1.0 0.0 0.0 ... 0 4 5]\n",
            " [1.0 0.0 0.0 ... 1 5 0]\n",
            " [1.0 0.0 0.0 ... 0 4 6]]\n",
            "(160, 25)\n"
          ]
        }
      ]
    },
    {
      "cell_type": "code",
      "metadata": {
        "colab": {
          "base_uri": "https://localhost:8080/"
        },
        "id": "jQ3DVl3jKCDo",
        "outputId": "bea767bd-0259-4b9c-dcbd-6cfad4694026"
      },
      "source": [
        "print(y_train)\n",
        "print(y_train.shape)"
      ],
      "execution_count": 47,
      "outputs": [
        {
          "output_type": "stream",
          "name": "stdout",
          "text": [
            "[ 6 16  6 12 14 13 16  0 13  1 14  6 13 12  6  9  1  9  0 14  6  6 10 13\n",
            "  6 16  6 14 13  6  6  6  6 13  6  4 13  3  8  6  6 12 10  1 13 13  1 12\n",
            " 10 13 15  9  0  1  6 13 16  6  3  6  1  8  3  6 10 13  6  6 16 13  4  3\n",
            " 13  3  1  6 13 13  9  9  8  6 10  6 13 13  3 10  4  0  1  6  3  6  6  6\n",
            " 13  9 10  4 10 10  6  1  3  7  7  0 16 16 15  6  3 13 13 13  6 13  1 10\n",
            " 13 14  6 16  1  1 13 14  9  6  1 10  6 13  1 13  8  1  4  6 16  6  6  1\n",
            "  0  1  6 17  6  1  6 13  4  0 16 14 13 13 10  8  7  9  4  4  6 13 17 10\n",
            "  6  6 10  0  8  6  8 16  6  6  7  0 13  3 10 14  9  7 14  6  6  1  9 17\n",
            "  0  8 17  1  6 13 10  6 13  1  1 10 10 14 13  8 16  6  1  1 10 16  1  6\n",
            " 16 13  4  1  4  6  6  8  3  6 13  9  3  9 16  0 14  1 15 13 13 13  9  6\n",
            " 12  0  1 13 15 12  1  6 13 13  0  1  9 13 12  1  0 10 12  6  8  4  1  9\n",
            " 12  3  6  1  0 12 15  3  4  3  6 13  6  3  4 13 10  6 13  6 13  3  8 12\n",
            "  3 13 13  3  1 15  6  9 10 13  3  9  9 13  3  6  1 12 13 13  1  4 13 13\n",
            "  0  4  0 15 10 13  6 13 10 13 16 14 13  0 17 14 15 14 12  3  1  5  6  4\n",
            "  1  4  0  4  1 13  4 13 13 16 13  3 13 13 17 15  9  3 14 16  6 13  1 13\n",
            " 13 13  1  6 13  6 13 13  6  6 13  0  1 11 13  8  6  0 17  5 13  4  3 16\n",
            "  1  4 12  6 14  8 15  8  1  3  0  1 13 13  3 13 16 10  6 13  0  0 10  7\n",
            " 17 10 10  3 10  4 13  8  3 13 15 13 13  3  0  6 15 10  1 17 10 13  4  4\n",
            " 13  1  1 16 15  6 13 16  4 13 10 15  6 13 10  6  1 15 13  4 14  1  6  0\n",
            "  1  6  6  4 13 14  7 14 13 13 10  6  6  0  3 13  1 13 10  8  1  3 13 12\n",
            "  6 15  3  3  1  4 15  6  6  4  9  3  5  9  7  1  1  9  0  8  1  3  6 13\n",
            " 10  8 13  8  1  9  1  6  0  4  1  6  9  8 10  6  4 17  6 10 10  1  6  6\n",
            "  1  8  6  3 13  3 10  0  0  1 13  3 10  3 13 16 13  1 13  6 13 13 13  8\n",
            "  1  6 13 12 15  3  6 13  6  0 14  1  0 13  1  1  6  6 13 13  8 13 13 13\n",
            "  3  8  6 15  6 13  0 12 15  6 10  6  6 16  6 17 13 13 14  1  6 13 12 15\n",
            "  3  1  6 13 17 12 13  6 12 13  8  6  6 17  3  4 14 16  6  6 13  1 13  6\n",
            "  1  6 16  1  6  6  3 14  6  1  4  6 15 13  7 16]\n",
            "(640,)\n"
          ]
        }
      ]
    },
    {
      "cell_type": "code",
      "metadata": {
        "colab": {
          "base_uri": "https://localhost:8080/"
        },
        "id": "TebYxBW3KFGZ",
        "outputId": "83125459-452e-48b0-8958-529a5b51053c"
      },
      "source": [
        "print(y_test)\n",
        "print(y_test.shape)"
      ],
      "execution_count": 48,
      "outputs": [
        {
          "output_type": "stream",
          "name": "stdout",
          "text": [
            "[ 0  6  4 13 13 16  6  1  6 10  1 16 13  8  6 13  4 14 15 13 13 16  0  6\n",
            "  6  3 16  1  3  6 10 16 12 14 16  8 10  2  3  3 10  4  3  6 13 14  7  6\n",
            " 13  3 13  6  6  9 12  6 13  8 10  8 13 13  6  6 12  1 13  6 15  6 13  6\n",
            " 14  6 15  6  7  1 13 15 13 16 13 13 13  6 13  8  4 15 10  3  6  4  6  1\n",
            " 13 13 12  4 16 17  6  5  0 13  6 17 16  6  3  0 10 13  3  6  0  1  6 16\n",
            " 16  6 10 13  1 14  0 16 13  0 13 16  6  3  1  6  6  6 12 13 10 15  6  6\n",
            "  4 13  6  6  3 13  3 17 16  4  0  6  3  6 14  6]\n",
            "(160,)\n"
          ]
        }
      ]
    }
  ]
}