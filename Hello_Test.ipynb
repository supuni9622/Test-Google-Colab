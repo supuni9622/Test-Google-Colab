{
  "nbformat": 4,
  "nbformat_minor": 0,
  "metadata": {
    "colab": {
      "name": "Hello Test.ipynb",
      "provenance": [],
      "collapsed_sections": [],
      "mount_file_id": "1tbu5bzWMoN0JHYm_PZKDZEecwARKgDYy",
      "authorship_tag": "ABX9TyPfsGrHVvaqfn2GObp/0lek",
      "include_colab_link": true
    },
    "kernelspec": {
      "name": "python3",
      "display_name": "Python 3"
    },
    "language_info": {
      "name": "python"
    }
  },
  "cells": [
    {
      "cell_type": "markdown",
      "metadata": {
        "id": "view-in-github",
        "colab_type": "text"
      },
      "source": [
        "<a href=\"https://colab.research.google.com/github/supuni9622/Test-Google-Colab/blob/main/Hello_Test.ipynb\" target=\"_parent\"><img src=\"https://colab.research.google.com/assets/colab-badge.svg\" alt=\"Open In Colab\"/></a>"
      ]
    },
    {
      "cell_type": "code",
      "metadata": {
        "colab": {
          "base_uri": "https://localhost:8080/"
        },
        "id": "0aVt93XVx_u6",
        "outputId": "59daa272-c0be-4434-de66-94c3edf6d5a7"
      },
      "source": [
        "print(\"Hello World\")"
      ],
      "execution_count": 1,
      "outputs": [
        {
          "output_type": "stream",
          "name": "stdout",
          "text": [
            "Hello World\n"
          ]
        }
      ]
    },
    {
      "cell_type": "markdown",
      "metadata": {
        "id": "fte6KUwv1TdQ"
      },
      "source": [
        "# ***Importing Libraries***"
      ]
    },
    {
      "cell_type": "code",
      "metadata": {
        "id": "aJ2sbpuW1nEZ"
      },
      "source": [
        "import numpy as np\n",
        "import matplotlib.pyplot as plt\n",
        "import pandas as pd"
      ],
      "execution_count": 12,
      "outputs": []
    },
    {
      "cell_type": "markdown",
      "metadata": {
        "id": "h9hskWzU3zLi"
      },
      "source": [
        "# ***Import Dataset***"
      ]
    },
    {
      "cell_type": "code",
      "metadata": {
        "colab": {
          "base_uri": "https://localhost:8080/",
          "height": 35
        },
        "id": "KOo7C55E8TRx",
        "outputId": "8d38feb8-09da-46a0-d8c1-77ed0876e5a7"
      },
      "source": [
        "pwd"
      ],
      "execution_count": 13,
      "outputs": [
        {
          "output_type": "execute_result",
          "data": {
            "application/vnd.google.colaboratory.intrinsic+json": {
              "type": "string"
            },
            "text/plain": [
              "'/content/drive/My Drive/4th Year Research/M3/Test Implementation/Test-Google-Colab'"
            ]
          },
          "metadata": {},
          "execution_count": 13
        }
      ]
    },
    {
      "cell_type": "code",
      "metadata": {
        "colab": {
          "base_uri": "https://localhost:8080/"
        },
        "id": "eB8-BAtK8ePR",
        "outputId": "8c4239e6-2681-41dd-9861-a0a8fa4091ae"
      },
      "source": [
        "cd /content/drive/MyDrive/4th Year Research/M3/Test Implementation/Test-Google-Colab"
      ],
      "execution_count": 14,
      "outputs": [
        {
          "output_type": "stream",
          "name": "stdout",
          "text": [
            "/content/drive/MyDrive/4th Year Research/M3/Test Implementation/Test-Google-Colab\n"
          ]
        }
      ]
    },
    {
      "cell_type": "code",
      "metadata": {
        "id": "F-mBB0-48iBC"
      },
      "source": [
        "dataset = pd.read_csv('Data.csv', encoding='cp1252')\n",
        "X = dataset.iloc[:, 0:11].values\n",
        "Y = dataset.iloc[: , 12].values\n",
        "Y1 = dataset.iloc[: , 13].values\n",
        "Y2 = dataset.iloc[: , 14].values\n",
        "Y3 = dataset.iloc[: , 15].values"
      ],
      "execution_count": 91,
      "outputs": []
    },
    {
      "cell_type": "code",
      "metadata": {
        "colab": {
          "base_uri": "https://localhost:8080/",
          "height": 326
        },
        "id": "b1YDA8wL9RAi",
        "outputId": "37bc0d6b-fbd7-47a0-9a68-c651ec045555"
      },
      "source": [
        "dataset.head()"
      ],
      "execution_count": 92,
      "outputs": [
        {
          "output_type": "execute_result",
          "data": {
            "text/html": [
              "<div>\n",
              "<style scoped>\n",
              "    .dataframe tbody tr th:only-of-type {\n",
              "        vertical-align: middle;\n",
              "    }\n",
              "\n",
              "    .dataframe tbody tr th {\n",
              "        vertical-align: top;\n",
              "    }\n",
              "\n",
              "    .dataframe thead th {\n",
              "        text-align: right;\n",
              "    }\n",
              "</style>\n",
              "<table border=\"1\" class=\"dataframe\">\n",
              "  <thead>\n",
              "    <tr style=\"text-align: right;\">\n",
              "      <th></th>\n",
              "      <th>Genre</th>\n",
              "      <th>Acorsticness</th>\n",
              "      <th>Tempo (bpm)</th>\n",
              "      <th>Loudness (db)</th>\n",
              "      <th>Energy</th>\n",
              "      <th>Danceability</th>\n",
              "      <th>Valence</th>\n",
              "      <th>Instrumentalness</th>\n",
              "      <th>Mode</th>\n",
              "      <th>Time Signature</th>\n",
              "      <th>Key</th>\n",
              "      <th>Key-Name</th>\n",
              "      <th>Emotion - v1</th>\n",
              "      <th>Emotion - v2</th>\n",
              "      <th>Emotion - v3</th>\n",
              "      <th>E-KEY</th>\n",
              "      <th>Unnamed: 16</th>\n",
              "      <th>Unnamed: 17</th>\n",
              "      <th>Unnamed: 18</th>\n",
              "      <th>Unnamed: 19</th>\n",
              "    </tr>\n",
              "  </thead>\n",
              "  <tbody>\n",
              "    <tr>\n",
              "      <th>0</th>\n",
              "      <td>Pop</td>\n",
              "      <td>0.06</td>\n",
              "      <td>172</td>\n",
              "      <td>-4</td>\n",
              "      <td>0.87</td>\n",
              "      <td>0.55</td>\n",
              "      <td>0.76</td>\n",
              "      <td>0.0</td>\n",
              "      <td>1</td>\n",
              "      <td>4</td>\n",
              "      <td>2</td>\n",
              "      <td>D major</td>\n",
              "      <td>Inspiration</td>\n",
              "      <td>Inspiration</td>\n",
              "      <td>Inspiration</td>\n",
              "      <td>6</td>\n",
              "      <td>NaN</td>\n",
              "      <td>NaN</td>\n",
              "      <td>NaN</td>\n",
              "      <td>NaN</td>\n",
              "    </tr>\n",
              "    <tr>\n",
              "      <th>1</th>\n",
              "      <td>Pop</td>\n",
              "      <td>0.10</td>\n",
              "      <td>92</td>\n",
              "      <td>-6</td>\n",
              "      <td>0.71</td>\n",
              "      <td>0.54</td>\n",
              "      <td>0.29</td>\n",
              "      <td>0.0</td>\n",
              "      <td>1</td>\n",
              "      <td>4</td>\n",
              "      <td>7</td>\n",
              "      <td>G major</td>\n",
              "      <td>Inspiration</td>\n",
              "      <td>Inspiration</td>\n",
              "      <td>Inspiration</td>\n",
              "      <td>6</td>\n",
              "      <td>NaN</td>\n",
              "      <td>NaN</td>\n",
              "      <td>NaN</td>\n",
              "      <td>NaN</td>\n",
              "    </tr>\n",
              "    <tr>\n",
              "      <th>2</th>\n",
              "      <td>Pop</td>\n",
              "      <td>0.06</td>\n",
              "      <td>115</td>\n",
              "      <td>-7</td>\n",
              "      <td>0.66</td>\n",
              "      <td>0.74</td>\n",
              "      <td>0.34</td>\n",
              "      <td>0.0</td>\n",
              "      <td>1</td>\n",
              "      <td>4</td>\n",
              "      <td>0</td>\n",
              "      <td>C major</td>\n",
              "      <td>Happy</td>\n",
              "      <td>Happy</td>\n",
              "      <td>Happy</td>\n",
              "      <td>1</td>\n",
              "      <td>NaN</td>\n",
              "      <td>NaN</td>\n",
              "      <td>NaN</td>\n",
              "      <td>NaN</td>\n",
              "    </tr>\n",
              "    <tr>\n",
              "      <th>3</th>\n",
              "      <td>Pop</td>\n",
              "      <td>0.04</td>\n",
              "      <td>117</td>\n",
              "      <td>-5</td>\n",
              "      <td>0.89</td>\n",
              "      <td>0.62</td>\n",
              "      <td>0.82</td>\n",
              "      <td>0.0</td>\n",
              "      <td>1</td>\n",
              "      <td>4</td>\n",
              "      <td>9</td>\n",
              "      <td>A major</td>\n",
              "      <td>Happy</td>\n",
              "      <td>Happy</td>\n",
              "      <td>Happy</td>\n",
              "      <td>1</td>\n",
              "      <td>NaN</td>\n",
              "      <td>NaN</td>\n",
              "      <td>NaN</td>\n",
              "      <td>NaN</td>\n",
              "    </tr>\n",
              "    <tr>\n",
              "      <th>4</th>\n",
              "      <td>Pop</td>\n",
              "      <td>0.11</td>\n",
              "      <td>158</td>\n",
              "      <td>-6</td>\n",
              "      <td>0.84</td>\n",
              "      <td>0.63</td>\n",
              "      <td>0.79</td>\n",
              "      <td>0.0</td>\n",
              "      <td>0</td>\n",
              "      <td>4</td>\n",
              "      <td>11</td>\n",
              "      <td>B minor</td>\n",
              "      <td>Inspiration</td>\n",
              "      <td>Inspiration</td>\n",
              "      <td>Inspiration</td>\n",
              "      <td>6</td>\n",
              "      <td>NaN</td>\n",
              "      <td>NaN</td>\n",
              "      <td>NaN</td>\n",
              "      <td>NaN</td>\n",
              "    </tr>\n",
              "  </tbody>\n",
              "</table>\n",
              "</div>"
            ],
            "text/plain": [
              "  Genre  Acorsticness  Tempo (bpm)  ...  Unnamed: 17  Unnamed: 18  Unnamed: 19\n",
              "0   Pop          0.06          172  ...          NaN          NaN          NaN\n",
              "1   Pop          0.10           92  ...          NaN          NaN          NaN\n",
              "2   Pop          0.06          115  ...          NaN          NaN          NaN\n",
              "3   Pop          0.04          117  ...          NaN          NaN          NaN\n",
              "4   Pop          0.11          158  ...          NaN          NaN          NaN\n",
              "\n",
              "[5 rows x 20 columns]"
            ]
          },
          "metadata": {},
          "execution_count": 92
        }
      ]
    },
    {
      "cell_type": "code",
      "metadata": {
        "colab": {
          "base_uri": "https://localhost:8080/"
        },
        "id": "dlUARlf_9ifx",
        "outputId": "efdf3512-0a8a-44e7-a0a1-f2a2b469c746"
      },
      "source": [
        "X"
      ],
      "execution_count": 93,
      "outputs": [
        {
          "output_type": "execute_result",
          "data": {
            "text/plain": [
              "array([['Pop', 0.06, 172, ..., 1, 4, 2],\n",
              "       ['Pop', 0.1, 92, ..., 1, 4, 7],\n",
              "       ['Pop', 0.06, 115, ..., 1, 4, 0],\n",
              "       ...,\n",
              "       ['Pop', 0.01, 123, ..., 1, 4, 4],\n",
              "       ['Pop', 0.56, 184, ..., 0, 4, 10],\n",
              "       ['Pop', 0.21, 110, ..., 0, 4, 1]], dtype=object)"
            ]
          },
          "metadata": {},
          "execution_count": 93
        }
      ]
    },
    {
      "cell_type": "code",
      "metadata": {
        "colab": {
          "base_uri": "https://localhost:8080/"
        },
        "id": "isWWSZLrEcC8",
        "outputId": "9797f1a0-bfc7-4a6d-f978-e18401a03667"
      },
      "source": [
        "print(X.shape)"
      ],
      "execution_count": 94,
      "outputs": [
        {
          "output_type": "stream",
          "name": "stdout",
          "text": [
            "(800, 11)\n"
          ]
        }
      ]
    },
    {
      "cell_type": "code",
      "metadata": {
        "colab": {
          "base_uri": "https://localhost:8080/"
        },
        "id": "XTxwSzEM-DcA",
        "outputId": "9806df18-afd9-45fd-8c94-a6251be4f690"
      },
      "source": [
        "Y"
      ],
      "execution_count": 95,
      "outputs": [
        {
          "output_type": "execute_result",
          "data": {
            "text/plain": [
              "array(['Inspiration', 'Inspiration', 'Happy', 'Happy', 'Inspiration',\n",
              "       'Inspiration', 'Sad', 'Dreamy', 'Happy', 'Happy', 'Love',\n",
              "       'Inspiration', 'Inspiration', 'Inspiration', 'Inspiration',\n",
              "       'Happy', 'Calm', 'Inspiration', 'Dreamy', 'Love', 'Happy', 'Love',\n",
              "       'Sad', 'Sad', 'Love', 'Calm', 'Love', 'Happy', 'Happy', 'Tense',\n",
              "       'Dreamy', 'Tense', 'Dreamy', 'Happy', 'Happy', 'Sad',\n",
              "       'Inspiration', 'Happy', 'Angry', 'Inspiration', 'Tense', 'Happy',\n",
              "       'Happy', 'Happy', 'Inspiration', 'Inspiration', 'Tense', 'Love',\n",
              "       'Inspiration', 'Love', 'Happy', 'Love', 'Tense', 'Dreamy', 'Calm',\n",
              "       'Happy', 'Angry', 'Calm', 'Angry', 'Calm', 'Angry', 'Inspiration',\n",
              "       'Tense', 'Tense', 'Dreamy', 'Angry', 'Angry', 'Inspiration',\n",
              "       'Inspiration ', 'Angry', 'Tense', 'Angry', 'Tense', 'Inspiration',\n",
              "       'Happy', 'Tense', 'Scary', 'Tense', 'Dreamy', 'Inspiration',\n",
              "       'Happy', 'Love', 'Sad', 'Inspiration', 'Happy', 'Inspiration',\n",
              "       'Happy', 'Inspiration', 'Inspiration', 'Love', 'Love', 'Sad',\n",
              "       'Inspiration', 'Angry', 'Dreamy', 'Calm', 'Happy', 'Happy',\n",
              "       'Tense', 'Love', 'Inspiration', 'Sad', 'Happy', 'Love', 'Love',\n",
              "       'Tense', 'Love', 'Happy', 'Happy', 'Dreamy', 'Dreamy', 'Calm',\n",
              "       'Happy', 'Dreamy', 'Dreamy', 'Happy', 'Happy', 'Happy', 'Happy',\n",
              "       'Happy', 'Happy', 'Happy', 'Happy', 'Inspiration', 'Happy',\n",
              "       'Happy', 'Happy', 'Tense', 'Happy', 'Happy', 'Happy', 'Happy ',\n",
              "       'Happy', 'Happy', 'Love', 'Tense', 'Inspiration', 'Calm ', 'Calm ',\n",
              "       'Love', 'Dreamy ', 'Dreamy', 'Dreamy', 'Dreamy', 'Tense', 'Sad',\n",
              "       'Inspiration', 'Happy ', 'Happy', 'Sad', 'Love ', 'Happy', 'Happy',\n",
              "       'Happy', 'Angry', 'Angry', 'Angry', 'Angry', 'Angry', 'Tense',\n",
              "       'Tense', 'Angry', 'Angry', 'Angry', 'Angry', 'Angry', 'Angry',\n",
              "       'Angry', 'Inspiration', 'Calm', 'Inspiration', 'Sad', 'Sad',\n",
              "       'Angry', 'Calm', 'Dreamy', 'Sad', 'Sad', 'Dreamy', 'Happy ',\n",
              "       'Calm', 'Inspiration', 'Sad', 'Inspiration ', 'Inspiration ',\n",
              "       'Sad', 'Sad', 'Sad', 'Love', 'Inspiration', 'Inspiration',\n",
              "       'Inspiration', 'Inspiration', 'Inspiration', 'Inspiration',\n",
              "       'Inspiration', 'Inspiration', 'Inspiration', 'Inspiration',\n",
              "       'Inspiration', 'Inspiration', 'Happy', 'Happy', 'Dark', 'Happy',\n",
              "       'Love', 'Happy ', 'Dark', 'Love', 'Tense', 'Happy', 'Calm',\n",
              "       'Love ', 'Love ', 'Love', 'Happy', 'Happy', 'Love', 'Angry',\n",
              "       'Inspiration', 'Tense', 'Angry', 'Angry ', 'Inspiration', 'Tense',\n",
              "       'Inspiration', 'Tense', 'Tense ', 'Dreamy', 'Dreamy', 'Scary',\n",
              "       'Tense', 'Scary', 'Inspiration', 'Happy ', 'Happy ', 'Dreamy',\n",
              "       'Inspiration', 'Tense', 'Sad', 'Sad', 'Sad', 'Sad', 'Sad', 'Sad',\n",
              "       'Sad', 'Sad ', 'Sad', 'Sad', 'Calm', 'Calm', 'Calm', 'Calm',\n",
              "       'Calm', 'Calm', 'Calm', 'Calm', 'Love', 'Calm', 'Dreamy ', 'Calm',\n",
              "       'Calm', 'Calm', 'Calm', 'Calm', 'Calm', 'Calm', 'Calm', 'Sad',\n",
              "       'Calm', 'Inspiration', 'Sad', 'Calm', 'Happy', 'Tense', 'Calm',\n",
              "       'Dreamy', 'Love ', 'Sad', 'Sad', 'Sad', 'Sad', 'Sad', 'Sad',\n",
              "       'Love ', 'Sad', 'Sad', 'Sad', 'Love ', 'Sad', 'Sad', 'Sad', 'Sad',\n",
              "       'Sad', 'Sad', 'Sad', 'Sad', 'Sad', 'Dreamy', 'Love ', 'Sad', 'Sad',\n",
              "       'Dreamy', 'Inspiration', 'Dreamy', 'Tense', 'Sad', 'Happy',\n",
              "       'Inspiration', 'Tense', 'Love ', 'Sad ', 'Calm', 'Inspration',\n",
              "       'Sad ', 'Love', 'Love ', 'Dreamy', 'Inspiration', 'Happy', 'Happy',\n",
              "       'Happy', 'Dreamy', 'Love', 'Love', 'Love', 'Love', 'Love', 'Love',\n",
              "       'Love', 'Love', 'Love', 'Love', 'Love', 'Tense ', 'Happy', 'Happy',\n",
              "       'Happy', 'Inspiration', 'Happy', 'Happy', 'Happy', 'Tense',\n",
              "       'Happy', 'Tense', 'Happy', 'Happy', 'Happy', 'Inspiration',\n",
              "       'Tense', 'Dreamy', 'Inspiration', 'Inspiration', 'Tense', 'Dreamy',\n",
              "       'Happy', 'Dreamy', 'Happy', 'Happy', 'Happy', 'Happy',\n",
              "       'Inspiration', 'Happy', 'Happy', 'Inspiration', 'Tense', 'Happy',\n",
              "       'Dreamy', 'Dreamy', 'Tense', 'Dreamy', 'Happy', 'Happy', 'Happy',\n",
              "       'Tense', 'Dreamy', 'Happy', 'Dreamy', 'Happy', 'Happy', 'Happy',\n",
              "       'Happy', 'Happy', 'Happy', 'Dreamy', 'Dreamy', 'Happy', 'Dreamy',\n",
              "       'Happy', 'Happy', 'Happy', 'Dreamy', 'Dreamy', 'Sad', 'Sad', 'Sad',\n",
              "       'Tense', 'Calm', 'Happy', 'Calm', 'Happy', 'Calm', 'Sad', 'Sad',\n",
              "       'Sad', 'Happy', 'Calm', 'Happy', 'Sad', 'Happy', 'Sad', 'Tense',\n",
              "       'Sad', 'Calm', 'Happy', 'Tense', 'Happy', 'Calm', 'Happy', 'Sad ',\n",
              "       'Sad', 'Sad', 'Sad', 'Sad', 'Sad', 'Sad', 'Calm', 'Sad', 'Calm',\n",
              "       'Sad', 'Calm', 'Sad', 'Calm', 'Calm', 'Sad', 'Calm', 'Sad',\n",
              "       'Dreamy', 'Angry', 'Sad', 'Dreamy', 'Tense ', 'Tense ', 'Happy',\n",
              "       'Sad', 'Sad', 'Sad', 'Sad', 'Calm', 'Happy', 'Calm', 'Sad', 'Sad',\n",
              "       'Tense ', 'Tense ', 'Sad', 'Calm', 'Calm', 'Happy', 'Sad', 'Sad',\n",
              "       'Sad', 'Sad', 'Sad', 'Sad', 'Sad', 'Happy', 'Sad', 'Sad', 'Sad',\n",
              "       'Sad', 'Sad', 'Happy', 'Happy', 'Happy', 'Love', 'Tense ', 'Calm',\n",
              "       'Happy', 'Happy', 'Sad', 'Sad', 'Happy', 'Sad', 'Happy', 'Calm',\n",
              "       'Calm', 'Calm', 'Calm', 'Calm', 'Sad', 'Calm', 'Calm', 'Sad',\n",
              "       'Sad', 'Sad', 'Dreamy', 'Happy', 'Sad', 'Tense ', 'Tense ',\n",
              "       'Tense ', 'Tense ', 'Tense ', 'Calm', 'Calm', 'Happy', 'Happy',\n",
              "       'Happy', 'Love', 'Happy', 'Happy', 'Calm', 'Tense ', 'Love',\n",
              "       'Happy', 'Sad', 'Happy', 'Tense ', 'Tense ', 'Sad', 'Sad', 'Happy',\n",
              "       'Dreamy', 'Happy', 'Calm', 'Tense ', 'Sad', 'Sad', 'Dreamy',\n",
              "       'Tense ', 'Tense ', 'Sad', 'Dreamy', 'Sad', 'Dreamy', 'Sad',\n",
              "       'Tense ', 'Happy', 'Calm', 'Happy', 'Happy', 'Sad ', 'Love',\n",
              "       'Happy', 'Sad ', 'Happy', 'Happy', 'Happy', 'Tense', 'Sad ',\n",
              "       'Sad ', 'Sad ', 'Happy', 'Sad ', 'Sad ', 'Tense ', 'Sad ', 'Sad ',\n",
              "       'Happy', 'Tense', 'Happy', 'Scare', 'Tense', 'Inspiration', 'Sad ',\n",
              "       'Happy', 'Happy', 'Dreamy', 'Happy', 'Sad ', 'Happy', 'Happy',\n",
              "       'Love', 'Sad ', 'Sad ', 'Love', 'Happy', 'Love', 'Sad ', 'Sad ',\n",
              "       'Dreamy', 'Sad ', 'Sad ', 'Tense', 'Sad ', 'Calm', 'Happy',\n",
              "       'Happy', 'Calm', 'Sad ', 'Tense', 'Sad ', 'Calm', 'Sad ', 'Sad ',\n",
              "       'Happy', 'Sad ', 'Sad ', 'Inspiration ', 'Inspiration ',\n",
              "       'Inspiration ', 'Inspiration ', 'Inspiration ', 'Inspiration ',\n",
              "       'Inspiration ', 'Inspiration ', 'Happy', 'Inspiration ',\n",
              "       'Inspiration ', 'Inspiration ', 'Inspiration ', 'Inspiration ',\n",
              "       'Dreamy', 'Inspiration ', 'Inspiration ', 'Sad', 'Inspiration ',\n",
              "       'Inspiration ', 'Inspiration ', 'Sad', 'Love', 'Inspiration ',\n",
              "       'Sad ', 'Inspiration ', 'Sad', 'Happy ', 'Dreamy', 'Happy',\n",
              "       'Inspiration ', 'Inspiration ', 'Happy ', 'Happy ', 'Happy',\n",
              "       'Happy', 'Happy ', 'Dreamy', 'Angry', 'Happy ', 'Happy ', 'Dreamy',\n",
              "       'Love', 'Dreamy', 'Happy', 'Inspiration', 'Inspiration', 'Happy ',\n",
              "       'Happy', 'Happy', 'Tense', 'Happy', 'Dreamy', 'Dreamy', 'Scary',\n",
              "       'Scary', 'Scary', 'Dreamy', 'Dreamy', 'Happy', 'Dreamy', 'Dreamy',\n",
              "       'Dreamy', 'Dreamy', 'Dreamy', 'Happy', 'Inspiration', 'Tense',\n",
              "       'Happy ', 'Happy', 'Happy', 'Happy', 'Happy', 'Happy', 'Dreamy',\n",
              "       'Inspiration', 'Inspiration', 'Calm ', 'Dreamy ', 'Dark', 'Dark',\n",
              "       'Happy', 'Dreamy ', 'Dreamy', 'Dreamy', 'Dreamy ', 'Dreamy',\n",
              "       'Dark', 'Happy', 'Dreamy ', 'Happy', 'Happy', 'Sad', 'Happy',\n",
              "       'Happy', 'Sad', 'Sad', 'Dark', 'Dark', 'Happy', 'Calm', 'Happy',\n",
              "       'Calm', 'Happy', 'Happy', 'Love', 'Happy', 'Happy', 'Happy',\n",
              "       'Happy', 'Happy', 'Happy', 'Happy', 'Happy', 'Happy', 'Happy',\n",
              "       'Happy', 'Happy', 'Love', 'Love', 'Calm', 'Calm', 'Love', 'Love',\n",
              "       'Love', 'Love', 'Love', 'Happy', 'Dark', 'Dark', 'Dark', 'Sad',\n",
              "       'Dark', 'Dark', 'Dark', 'Dark', 'Sad', 'Dark', 'Dark', 'Dark',\n",
              "       'Dark', 'Dark', 'Dark', 'Dark', 'Dark', 'Inspiration', 'Dark',\n",
              "       'Dark', 'Dark', 'Dark', 'Dark', 'Dark', 'Dark', 'Dark', 'Dark',\n",
              "       'Dark', 'Dark', 'Dark', 'Dark', 'Dark', 'Dark', 'Dark', 'Tense',\n",
              "       'Tense', 'Tense', 'Tense', 'Tense', 'Dark', 'Scary', 'Scary',\n",
              "       'Scary', 'Scary', 'Scary', 'Dark', 'Dark', 'Calm', 'Scary',\n",
              "       'Scary', 'Scary', 'Scary', 'Scary', 'Dark', 'Scary', 'Dreamy',\n",
              "       'Dreamy', 'Dreamy', 'Love', 'Dreamy', 'Love', 'Calm', 'Calm',\n",
              "       'Calm', 'Calm', 'Love  ', 'Dreamy', 'Happy', 'Love', 'Happy',\n",
              "       'Happy', 'Love', 'Happy'], dtype=object)"
            ]
          },
          "metadata": {},
          "execution_count": 95
        }
      ]
    },
    {
      "cell_type": "code",
      "metadata": {
        "colab": {
          "base_uri": "https://localhost:8080/"
        },
        "id": "nijN5UyJENmd",
        "outputId": "678a3b22-5186-4e68-f661-a93fdbb49a18"
      },
      "source": [
        "print(Y.shape)"
      ],
      "execution_count": 96,
      "outputs": [
        {
          "output_type": "stream",
          "name": "stdout",
          "text": [
            "(800,)\n"
          ]
        }
      ]
    },
    {
      "cell_type": "code",
      "metadata": {
        "colab": {
          "base_uri": "https://localhost:8080/"
        },
        "id": "00CGwHE3cLXW",
        "outputId": "1961bd86-9cce-403f-e8cc-ef3907aa5a01"
      },
      "source": [
        "print(X.shape)"
      ],
      "execution_count": 97,
      "outputs": [
        {
          "output_type": "stream",
          "name": "stdout",
          "text": [
            "(800, 11)\n"
          ]
        }
      ]
    },
    {
      "cell_type": "code",
      "metadata": {
        "colab": {
          "base_uri": "https://localhost:8080/"
        },
        "id": "v_3MtfOvXxoN",
        "outputId": "911f63a0-b2aa-448f-cca3-fe04ed1df9bf"
      },
      "source": [
        "Y1"
      ],
      "execution_count": 98,
      "outputs": [
        {
          "output_type": "execute_result",
          "data": {
            "text/plain": [
              "array(['Inspiration', 'Inspiration', 'Happy', 'Happy', 'Inspiration',\n",
              "       'Inspiration', 'Sad', 'Dreamy', 'Happy', 'Happy', 'Love',\n",
              "       'Inspiration', 'Inspiration', 'Inspiration', 'Inspiration',\n",
              "       'Happy', 'Calm', 'Inspiration', 'Dreamy', 'Love', 'Happy', 'Love',\n",
              "       'Sad', 'Sad', 'Love', 'Calm', 'Love', 'Happy', 'Happy', 'Tense',\n",
              "       'Dreamy', 'Tense', 'Dreamy', 'Happy', 'Happy', 'Sad',\n",
              "       'Inspiration', 'Happy', 'Angry', 'Inspiration', 'Tense', 'Happy',\n",
              "       'Happy', 'Happy', 'Inspiration', 'Inspiration', 'Tense', 'Love',\n",
              "       'Inspiration', 'Love', 'Happy', 'Love', 'Tense', 'Dreamy', 'Calm',\n",
              "       'Happy', 'Angry', 'Calm', 'Angry', 'Calm', 'Angry', 'Inspiration',\n",
              "       'Tense', 'Tense', 'Dreamy', 'Angry', 'Angry', 'Inspiration',\n",
              "       'Inspiration ', 'Angry', 'Tense', 'Angry', 'Tense', 'Inspiration',\n",
              "       'Happy', 'Tense', 'Scary', 'Tense', 'Dreamy', 'Inspiration',\n",
              "       'Happy', 'Love', 'Sad', 'Inspiration', 'Happy', 'Inspiration',\n",
              "       'Happy', 'Inspiration', 'Inspiration', 'Love', 'Love', 'Sad',\n",
              "       'Inspiration', 'Angry', 'Dreamy', 'Calm', 'Happy', 'Happy',\n",
              "       'Tense', 'Love', 'Inspiration', 'Sad', 'Happy', 'Love', 'Love',\n",
              "       'Tense', 'Love', 'Happy', 'Happy', 'Dreamy', 'Dreamy', 'Calm',\n",
              "       'Happy', 'Dreamy', 'Dreamy', 'Happy', 'Happy', 'Happy', 'Happy',\n",
              "       'Happy', 'Happy', 'Happy', 'Happy', 'Inspiration', 'Happy',\n",
              "       'Happy', 'Happy', 'Tense', 'Happy', 'Happy', 'Happy', 'Calm',\n",
              "       'Happy', 'Happy', 'Love', 'Tense', 'Inspiration', 'Dreamy',\n",
              "       'Dreamy', 'Love', 'Sad', 'Dreamy', 'Calm', 'Dreamy', 'Tense',\n",
              "       'Sad', 'Inspiration', 'Dreamy', 'Happy', 'Sad', 'Love ', 'Happy',\n",
              "       'Happy', 'Happy', 'Angry', 'Angry', 'Angry', 'Angry', 'Angry',\n",
              "       'Tense', 'Tense', 'Angry', 'Angry', 'Angry', 'Angry', 'Angry',\n",
              "       'Angry', 'Angry', 'Inspiration', 'Calm', 'Inspiration', 'Sad',\n",
              "       'Sad', 'Angry', 'Calm', 'Dreamy', 'Sad', 'Sad', 'Dreamy', 'Dreamy',\n",
              "       'Calm', 'Inspiration', 'Sad', 'Inspiration', 'Inspiration', 'Sad',\n",
              "       'Sad', 'Sad', 'Love', 'Inspiration', 'Inspiration', 'Inspiration',\n",
              "       'Inspiration', 'Inspiration', 'Inspiration', 'Inspiration',\n",
              "       'Inspiration', 'Inspiration', 'Inspiration', 'Inspiration',\n",
              "       'Inspiration', 'Happy', 'Happy', 'Dark', 'Happy', 'Love', 'Happy ',\n",
              "       'Dark', 'Love', 'Tense', 'Happy', 'Calm', 'Dreamy', 'Happy',\n",
              "       'Love', 'Happy', 'Love', 'Love', 'Angry', 'Inspiration', 'Tense',\n",
              "       'Scary', 'Scary', 'Inspiration', 'Dark', 'Inspiration', 'Tense',\n",
              "       'Angry', 'Dreamy', 'Dreamy', 'Angry', 'Tense', 'Scary',\n",
              "       'Inspiration', 'Happy ', 'Happy ', 'Dreamy', 'Inspiration',\n",
              "       'Tense', 'Sad', 'Sad', 'Sad', 'Sad', 'Sad', 'Sad', 'Sad', 'Sad ',\n",
              "       'Sad', 'Sad', 'Calm', 'Calm', 'Calm', 'Calm', 'Calm', 'Calm',\n",
              "       'Calm', 'Calm', 'Love', 'Calm', 'Love', 'Calm', 'Calm', 'Calm',\n",
              "       'Calm', 'Calm', 'Calm', 'Calm', 'Calm', 'Sad', 'Calm',\n",
              "       'Inspiration', 'Sad', 'Calm', 'Happy', 'Tense', 'Calm', 'Dreamy',\n",
              "       'Love ', 'Sad', 'Sad', 'Sad', 'Sad', 'Sad', 'Sad', 'Happy', 'Sad',\n",
              "       'Sad', 'Sad', 'Happy', 'Sad', 'Sad', 'Sad', 'Sad', 'Sad', 'Sad',\n",
              "       'Sad', 'Sad', 'Sad', 'Dreamy', 'Dreamy', 'Sad', 'Sad', 'Dreamy',\n",
              "       'Inspiration', 'Dreamy', 'Tense', 'Sad', 'Happy', 'Inspiration',\n",
              "       'Scary', 'Love ', 'Sad ', 'Calm', 'Inspration', 'Sad ', 'Love',\n",
              "       'Dreamy', 'Dreamy', 'Inspiration', 'Happy', 'Happy', 'Happy',\n",
              "       'Dreamy', 'Love', 'Love', 'Love', 'Love', 'Love', 'Love', 'Love',\n",
              "       'Love', 'Love', 'Love', 'Love', 'Angry', 'Happy', 'Happy', 'Happy',\n",
              "       'Inspiration', 'Happy', 'Happy', 'Happy', 'Angry', 'Happy',\n",
              "       'Tense', 'Happy', 'Happy', 'Happy', 'Inspiration', 'Tense',\n",
              "       'Dreamy', 'Inspiration', 'Inspiration', 'Tense', 'Dreamy', 'Happy',\n",
              "       'Dreamy', 'Happy', 'Happy', 'Happy', 'Happy', 'Inspiration',\n",
              "       'Happy', 'Happy', 'Inspiration', 'Tense', 'Happy', 'Dreamy',\n",
              "       'Dreamy', 'Tense', 'Dreamy', 'Happy', 'Happy', 'Happy', 'Tense',\n",
              "       'Dreamy', 'Happy', 'Dreamy', 'Happy', 'Happy', 'Happy', 'Happy',\n",
              "       'Happy', 'Happy', 'Dreamy', 'Dreamy', 'Happy', 'Dreamy', 'Happy',\n",
              "       'Happy', 'Happy', 'Dreamy', 'Dreamy', 'Sad', 'Sad', 'Sad', 'Tense',\n",
              "       'Calm', 'Happy', 'Calm', 'Happy', 'Calm', 'Sad', 'Sad', 'Sad',\n",
              "       'Happy', 'Calm', 'Happy', 'Sad', 'Happy', 'Sad', 'Tense', 'Sad',\n",
              "       'Calm', 'Happy', 'Tense', 'Happy', 'Calm', 'Happy', 'Sad ', 'Sad',\n",
              "       'Sad', 'Sad', 'Sad', 'Sad', 'Sad', 'Calm', 'Sad', 'Calm', 'Sad',\n",
              "       'Calm', 'Sad', 'Calm', 'Calm', 'Sad', 'Calm', 'Sad', 'Dreamy',\n",
              "       'Angry', 'Sad', 'Dreamy', 'Tense ', 'Tense ', 'Happy', 'Sad',\n",
              "       'Sad', 'Sad', 'Sad', 'Calm', 'Happy', 'Calm', 'Sad', 'Sad',\n",
              "       'Tense ', 'Tense ', 'Sad', 'Calm', 'Calm', 'Happy', 'Sad', 'Sad',\n",
              "       'Sad', 'Sad', 'Sad', 'Sad', 'Sad', 'Happy', 'Sad', 'Sad', 'Sad',\n",
              "       'Sad', 'Sad', 'Happy', 'Happy', 'Happy', 'Love', 'Tense ', 'Calm',\n",
              "       'Happy', 'Happy', 'Sad', 'Sad', 'Happy', 'Sad', 'Happy', 'Calm',\n",
              "       'Calm', 'Calm', 'Calm', 'Calm', 'Sad', 'Calm', 'Calm', 'Sad',\n",
              "       'Sad', 'Sad', 'Dreamy', 'Happy', 'Sad', 'Tense ', 'Tense ',\n",
              "       'Tense ', 'Tense ', 'Tense ', 'Calm', 'Calm', 'Happy', 'Happy',\n",
              "       'Happy', 'Love', 'Happy', 'Happy', 'Calm', 'Tense ', 'Love',\n",
              "       'Happy', 'Sad', 'Happy', 'Tense ', 'Tense ', 'Sad', 'Sad', 'Happy',\n",
              "       'Dreamy', 'Happy', 'Calm', 'Tense ', 'Sad', 'Sad', 'Dreamy',\n",
              "       'Tense ', 'Tense ', 'Sad', 'Dreamy', 'Sad', 'Dreamy', 'Sad',\n",
              "       'Tense ', 'Happy', 'Calm', 'Happy', 'Happy', 'Sad ', 'Love',\n",
              "       'Happy', 'Sad ', 'Happy', 'Happy', 'Happy', 'Tense', 'Sad ',\n",
              "       'Sad ', 'Sad ', 'Happy', 'Sad ', 'Sad ', 'Scary', 'Sad ', 'Sad ',\n",
              "       'Happy', 'Tense', 'Happy', 'Scare', 'Tense', 'Inspiration', 'Sad ',\n",
              "       'Happy', 'Happy', 'Dreamy', 'Happy', 'Sad ', 'Happy', 'Happy',\n",
              "       'Love', 'Sad ', 'Sad ', 'Love', 'Happy', 'Love', 'Sad ', 'Sad ',\n",
              "       'Dreamy', 'Sad ', 'Sad ', 'Tense', 'Sad ', 'Calm', 'Happy',\n",
              "       'Happy', 'Calm', 'Sad ', 'Tense', 'Sad ', 'Calm', 'Sad ', 'Sad ',\n",
              "       'Happy', 'Sad ', 'Sad ', 'Inspiration ', 'Inspiration ',\n",
              "       'Inspiration ', 'Inspiration ', 'Inspiration ', 'Inspiration ',\n",
              "       'Inspiration ', 'Inspiration ', 'Happy', 'Inspiration ',\n",
              "       'Inspiration ', 'Inspiration ', 'Inspiration ', 'Inspiration ',\n",
              "       'Dreamy', 'Inspiration ', 'Inspiration ', 'Sad', 'Inspiration ',\n",
              "       'Inspiration ', 'Inspiration ', 'Sad', 'Love', 'Inspiration ',\n",
              "       'Sad ', 'Inspiration ', 'Sad', 'Happy ', 'Dreamy', 'Happy',\n",
              "       'Inspiration ', 'Inspiration ', 'Happy ', 'Happy ', 'Happy',\n",
              "       'Happy', 'Happy ', 'Dreamy', 'Angry', 'Happy ', 'Happy ', 'Dreamy',\n",
              "       'Love', 'Dreamy', 'Happy', 'Inspiration', 'Inspiration', 'Love',\n",
              "       'Happy', 'Happy', 'Tense', 'Happy', 'Dreamy', 'Dreamy', 'Scary',\n",
              "       'Scary', 'Scary', 'Dreamy', 'Dreamy', 'Happy', 'Dreamy', 'Dreamy',\n",
              "       'Dreamy', 'Dreamy', 'Dreamy', 'Happy', 'Inspiration', 'Tense',\n",
              "       'Happy ', 'Happy', 'Happy', 'Happy', 'Happy', 'Happy', 'Dreamy',\n",
              "       'Inspiration', 'Inspiration', 'Calm ', 'Dreamy ', 'Dark', 'Dark',\n",
              "       'Happy', 'Dreamy ', 'Dreamy', 'Dreamy', 'Dreamy ', 'Dreamy',\n",
              "       'Dark', 'Happy', 'Dreamy ', 'Happy', 'Happy', 'Sad', 'Happy',\n",
              "       'Happy', 'Sad', 'Sad', 'Dark', 'Dark', 'Happy', 'Calm', 'Happy',\n",
              "       'Calm', 'Happy', 'Happy', 'Love', 'Happy', 'Happy', 'Happy',\n",
              "       'Happy', 'Happy', 'Happy', 'Happy', 'Happy', 'Happy', 'Happy',\n",
              "       'Happy', 'Happy', 'Love', 'Love', 'Calm', 'Calm', 'Love', 'Love',\n",
              "       'Love', 'Love', 'Love', 'Happy', 'Dark', 'Dark', 'Dark', 'Sad',\n",
              "       'Dark', 'Dark', 'Dark', 'Dark', 'Sad', 'Dark', 'Dark', 'Dark',\n",
              "       'Dark', 'Dark', 'Dark', 'Dark', 'Dark', 'Inspiration', 'Dark',\n",
              "       'Dark', 'Dark', 'Dark', 'Dark', 'Dark', 'Dark', 'Dark', 'Dark',\n",
              "       'Dark', 'Dark', 'Dark', 'Dark', 'Dark', 'Dark', 'Dark', 'Tense',\n",
              "       'Tense', 'Tense', 'Tense', 'Tense', 'Dark', 'Scary', 'Scary',\n",
              "       'Scary', 'Scary', 'Scary', 'Dark', 'Dark', 'Calm', 'Scary',\n",
              "       'Scary', 'Scary', 'Scary', 'Scary', 'Dark', 'Scary', 'Dreamy',\n",
              "       'Dreamy', 'Dreamy', 'Love', 'Dreamy', 'Love', 'Calm', 'Calm',\n",
              "       'Calm', 'Calm', 'Dream', 'Dreamy', 'Happy', 'Love', 'Happy',\n",
              "       'Happy', 'Love', 'Happy'], dtype=object)"
            ]
          },
          "metadata": {},
          "execution_count": 98
        }
      ]
    },
    {
      "cell_type": "code",
      "metadata": {
        "colab": {
          "base_uri": "https://localhost:8080/"
        },
        "id": "ldB5445jXz4I",
        "outputId": "69aeb143-c141-44cd-c67e-c49820dedf65"
      },
      "source": [
        "Y2"
      ],
      "execution_count": 99,
      "outputs": [
        {
          "output_type": "execute_result",
          "data": {
            "text/plain": [
              "array(['Inspiration', 'Inspiration', 'Happy', 'Happy', 'Inspiration',\n",
              "       'Inspiration', 'Sad', 'Dreamy', 'Happy', 'Happy', 'Love',\n",
              "       'Inspiration', 'Inspiration', 'Inspiration', 'Inspiration',\n",
              "       'Happy', 'Calm', 'Inspiration', 'Dreamy', 'Love', 'Happy', 'Love',\n",
              "       'Sad', 'Sad', 'Love', 'Calm', 'Love', 'Happy', 'Happy', 'Tense',\n",
              "       'Dreamy', 'Tense', 'Dreamy', 'Happy', 'Happy', 'Sad',\n",
              "       'Inspiration', 'Happy', 'Angry', 'Inspiration', 'Tense', 'Happy',\n",
              "       'Happy', 'Happy', 'Inspiration', 'Inspiration', 'Tense', 'Love',\n",
              "       'Inspiration', 'Love', 'Happy', 'Love', 'Tense', 'Dreamy', 'Calm',\n",
              "       'Happy', 'Angry', 'Calm', 'Angry', 'Calm', 'Angry', 'Inspiration',\n",
              "       'Tense', 'Tense', 'Dreamy', 'Angry', 'Angry', 'Inspiration',\n",
              "       'Inspiration ', 'Angry', 'Tense', 'Angry', 'Tense', 'Inspiration',\n",
              "       'Happy', 'Tense', 'Scary', 'Tense', 'Dreamy', 'Inspiration',\n",
              "       'Happy', 'Love', 'Sad', 'Inspiration', 'Happy', 'Inspiration',\n",
              "       'Happy', 'Inspiration', 'Inspiration', 'Love', 'Love', 'Sad',\n",
              "       'Inspiration', 'Angry', 'Dreamy', 'Calm', 'Happy', 'Happy',\n",
              "       'Tense', 'Love', 'Inspiration', 'Sad', 'Happy', 'Love', 'Love',\n",
              "       'Tense', 'Love', 'Happy', 'Happy', 'Dreamy', 'Dreamy', 'Calm',\n",
              "       'Happy', 'Dreamy', 'Dreamy', 'Happy', 'Happy', 'Happy', 'Happy',\n",
              "       'Happy', 'Happy', 'Happy', 'Happy', 'Inspiration', 'Happy',\n",
              "       'Happy', 'Happy', 'Tense', 'Happy', 'Happy', 'Happy', 'Calm',\n",
              "       'Happy', 'Happy', 'Love', 'Tense', 'Inspiration', 'Dreamy',\n",
              "       'Dreamy', 'Love', 'Sad', 'Dreamy', 'Dreamy', 'Dreamy', 'Tense',\n",
              "       'Sad', 'Inspiration', 'Dreamy', 'Happy', 'Sad', 'Love ', 'Happy',\n",
              "       'Happy', 'Happy', 'Angry', 'Angry', 'Angry', 'Angry', 'Angry',\n",
              "       'Tense', 'Tense', 'Angry', 'Angry', 'Angry', 'Angry', 'Angry',\n",
              "       'Angry', 'Angry', 'Inspiration', 'Calm', 'Inspiration', 'Sad',\n",
              "       'Sad', 'Angry', 'Calm', 'Dreamy', 'Sad', 'Sad', 'Dreamy', 'Dreamy',\n",
              "       'Calm', 'Inspiration', 'Sad', 'Inspiration', 'Inspiration', 'Sad',\n",
              "       'Sad', 'Sad', 'Love', 'Inspiration', 'Inspiration', 'Inspiration',\n",
              "       'Inspiration', 'Inspiration', 'Inspiration', 'Inspiration',\n",
              "       'Inspiration', 'Inspiration', 'Inspiration', 'Inspiration',\n",
              "       'Inspiration', 'Happy', 'Happy', 'Dark', 'Happy', 'Love', 'Happy ',\n",
              "       'Dark', 'Love', 'Tense', 'Happy', 'Calm', 'Dreamy', 'Happy',\n",
              "       'Love', 'Happy', 'Dreamy', 'Love', 'Angry', 'Inspiration', 'Tense',\n",
              "       'Scary', 'Scary', 'Inspiration', 'Dark', 'Inspiration', 'Tense',\n",
              "       'Angry', 'Dreamy', 'Dreamy', 'Angry', 'Tense', 'Scary',\n",
              "       'Inspiration', 'Happy ', 'Happy ', 'Dreamy', 'Inspiration',\n",
              "       'Tense', 'Sad', 'Sad', 'Sad', 'Sad', 'Sad', 'Sad', 'Sad', 'Sad ',\n",
              "       'Sad', 'Sad', 'Calm', 'Calm', 'Calm', 'Calm', 'Calm', 'Calm',\n",
              "       'Calm', 'Calm', 'Love', 'Calm', 'Love', 'Calm', 'Calm', 'Calm',\n",
              "       'Calm', 'Calm', 'Calm', 'Calm', 'Calm', 'Sad', 'Calm',\n",
              "       'Inspiration', 'Sad', 'Calm', 'Happy', 'Tense', 'Calm', 'Dreamy',\n",
              "       'Love ', 'Sad', 'Sad', 'Sad', 'Sad', 'Sad', 'Sad', 'Happy', 'Sad',\n",
              "       'Sad', 'Sad', 'Happy', 'Sad', 'Sad', 'Sad', 'Sad', 'Sad', 'Sad',\n",
              "       'Sad', 'Sad', 'Sad', 'Dreamy', 'Dreamy', 'Sad', 'Sad', 'Dreamy',\n",
              "       'Inspiration', 'Dreamy', 'Tense', 'Sad', 'Happy', 'Inspiration',\n",
              "       'Sad', 'Love ', 'Sad ', 'Calm', 'Inspration', 'Sad ', 'Love',\n",
              "       'Dreamy', 'Dreamy', 'Inspiration', 'Happy', 'Happy', 'Happy',\n",
              "       'Dreamy', 'Love', 'Love', 'Love', 'Love', 'Love', 'Love', 'Love',\n",
              "       'Love', 'Love', 'Love', 'Love', 'Angry', 'Happy', 'Happy', 'Happy',\n",
              "       'Inspiration', 'Happy', 'Happy', 'Happy', 'Angry', 'Happy',\n",
              "       'Tense', 'Happy', 'Happy', 'Happy', 'Inspiration', 'Tense',\n",
              "       'Dreamy', 'Inspiration', 'Inspiration', 'Tense', 'Dreamy', 'Happy',\n",
              "       'Dreamy', 'Happy', 'Happy', 'Happy', 'Happy', 'Inspiration',\n",
              "       'Happy', 'Happy', 'Inspiration', 'Tense', 'Happy', 'Dreamy',\n",
              "       'Dreamy', 'Tense', 'Dreamy', 'Happy', 'Happy', 'Happy', 'Tense',\n",
              "       'Dreamy', 'Happy', 'Dreamy', 'Happy', 'Happy', 'Happy', 'Happy',\n",
              "       'Happy', 'Happy', 'Dreamy', 'Dreamy', 'Happy', 'Dreamy', 'Happy',\n",
              "       'Happy', 'Happy', 'Dreamy', 'Dreamy', 'Sad', 'Sad', 'Sad', 'Tense',\n",
              "       'Calm', 'Happy', 'Calm', 'Happy', 'Calm', 'Sad', 'Sad', 'Sad',\n",
              "       'Happy', 'Calm', 'Happy', 'Sad', 'Happy', 'Sad', 'Tense', 'Sad',\n",
              "       'Calm', 'Happy', 'Tense', 'Happy', 'Calm', 'Happy', 'Sad ', 'Sad',\n",
              "       'Sad', 'Sad', 'Sad', 'Sad', 'Sad', 'Calm', 'Sad', 'Calm', 'Sad',\n",
              "       'Calm', 'Sad', 'Calm', 'Calm', 'Sad', 'Calm', 'Sad', 'Dreamy',\n",
              "       'Angry', 'Sad', 'Dreamy', 'Tense ', 'Tense ', 'Happy', 'Sad',\n",
              "       'Sad', 'Sad', 'Sad', 'Calm', 'Happy', 'Calm', 'Sad', 'Sad',\n",
              "       'Tense ', 'Tense ', 'Sad', 'Calm', 'Calm', 'Happy', 'Sad', 'Sad',\n",
              "       'Sad', 'Sad', 'Sad', 'Sad', 'Sad', 'Happy', 'Sad', 'Sad', 'Sad',\n",
              "       'Sad', 'Sad', 'Happy', 'Happy', 'Happy', 'Love', 'Tense ', 'Calm',\n",
              "       'Happy', 'Happy', 'Sad', 'Sad', 'Happy', 'Sad', 'Happy', 'Calm',\n",
              "       'Calm', 'Calm', 'Calm', 'Calm', 'Sad', 'Calm', 'Calm', 'Sad',\n",
              "       'Sad', 'Sad', 'Dreamy', 'Happy', 'Sad', 'Tense ', 'Tense ',\n",
              "       'Tense ', 'Tense ', 'Tense ', 'Calm', 'Calm', 'Happy', 'Happy',\n",
              "       'Happy', 'Love', 'Happy', 'Happy', 'Calm', 'Tense ', 'Love',\n",
              "       'Happy', 'Sad', 'Happy', 'Tense ', 'Tense ', 'Sad', 'Sad', 'Happy',\n",
              "       'Dreamy', 'Happy', 'Calm', 'Tense ', 'Sad', 'Sad', 'Dreamy',\n",
              "       'Tense ', 'Tense ', 'Sad', 'Dreamy', 'Sad', 'Dreamy', 'Sad',\n",
              "       'Tense ', 'Happy', 'Calm', 'Happy', 'Happy', 'Sad ', 'Love',\n",
              "       'Happy', 'Sad ', 'Happy', 'Happy', 'Happy', 'Tense', 'Sad ',\n",
              "       'Sad ', 'Sad ', 'Happy', 'Sad ', 'Sad ', 'Scary', 'Sad ', 'Sad ',\n",
              "       'Happy', 'Tense', 'Happy', 'Scare', 'Tense', 'Inspiration', 'Sad ',\n",
              "       'Happy', 'Happy', 'Dreamy', 'Happy', 'Sad ', 'Happy', 'Happy',\n",
              "       'Love', 'Sad ', 'Sad ', 'Love', 'Happy', 'Love', 'Sad ', 'Sad ',\n",
              "       'Dreamy', 'Sad ', 'Sad ', 'Tense', 'Sad ', 'Calm', 'Happy',\n",
              "       'Happy', 'Calm', 'Sad ', 'Tense', 'Sad ', 'Calm', 'Sad ', 'Sad ',\n",
              "       'Happy', 'Sad ', 'Sad ', 'Inspiration ', 'Inspiration ',\n",
              "       'Inspiration ', 'Inspiration ', 'Inspiration ', 'Inspiration ',\n",
              "       'Inspiration ', 'Inspiration ', 'Happy', 'Inspiration ',\n",
              "       'Inspiration ', 'Inspiration ', 'Inspiration ', 'Inspiration ',\n",
              "       'Dreamy', 'Inspiration ', 'Inspiration ', 'Sad', 'Inspiration ',\n",
              "       'Inspiration ', 'Inspiration ', 'Sad', 'Love', 'Inspiration ',\n",
              "       'Sad ', 'Inspiration ', 'Sad', 'Happy ', 'Dreamy', 'Happy',\n",
              "       'Inspiration ', 'Inspiration ', 'Happy ', 'Happy ', 'Happy',\n",
              "       'Happy', 'Happy ', 'Dreamy', 'Angry', 'Happy ', 'Happy ', 'Dreamy',\n",
              "       'Love', 'Dreamy', 'Happy', 'Inspiration', 'Inspiration', 'Dreamy',\n",
              "       'Happy', 'Happy', 'Tense', 'Happy', 'Dreamy', 'Dreamy', 'Scary',\n",
              "       'Scary', 'Scary', 'Dreamy', 'Dreamy', 'Happy', 'Dreamy', 'Dreamy',\n",
              "       'Dreamy', 'Dreamy', 'Dreamy', 'Happy', 'Inspiration', 'Tense',\n",
              "       'Happy ', 'Happy', 'Happy', 'Happy', 'Happy', 'Happy', 'Dreamy',\n",
              "       'Inspiration', 'Inspiration', 'Calm ', 'Dreamy ', 'Dark', 'Dark',\n",
              "       'Happy', 'Dreamy ', 'Dreamy', 'Dreamy', 'Dreamy ', 'Dreamy',\n",
              "       'Dark', 'Happy', 'Dreamy ', 'Happy', 'Happy', 'Sad', 'Happy',\n",
              "       'Happy', 'Sad', 'Sad', 'Dark', 'Dark', 'Happy', 'Calm', 'Happy',\n",
              "       'Calm', 'Happy', 'Happy', 'Love', 'Happy', 'Happy', 'Happy',\n",
              "       'Happy', 'Happy', 'Happy', 'Happy', 'Happy', 'Happy', 'Happy',\n",
              "       'Happy', 'Happy', 'Love', 'Love', 'Calm', 'Calm', 'Love', 'Love',\n",
              "       'Love', 'Love', 'Love', 'Happy', 'Dark', 'Dark', 'Dark', 'Sad',\n",
              "       'Dark', 'Dark', 'Dark', 'Dark', 'Sad', 'Dark', 'Dark', 'Dark',\n",
              "       'Dark', 'Dark', 'Dark', 'Dark', 'Dark', 'Inspiration', 'Dark',\n",
              "       'Dark', 'Dark', 'Dark', 'Dark', 'Dark', 'Dark', 'Dark', 'Dark',\n",
              "       'Dark', 'Dark', 'Dark', 'Dark', 'Dark', 'Dark', 'Dark', 'Tense',\n",
              "       'Tense', 'Tense', 'Tense', 'Tense', 'Dark', 'Scary', 'Scary',\n",
              "       'Scary', 'Scary', 'Scary', 'Dark', 'Dark', 'Calm', 'Scary',\n",
              "       'Scary', 'Scary', 'Scary', 'Scary', 'Dark', 'Scary', 'Dreamy',\n",
              "       'Dreamy', 'Dreamy', 'Love', 'Dreamy', 'Love', 'Calm', 'Calm',\n",
              "       'Calm', 'Calm', 'Dream', 'Dreamy', 'Happy', 'Love', 'Happy',\n",
              "       'Happy', 'Love', 'Happy'], dtype=object)"
            ]
          },
          "metadata": {},
          "execution_count": 99
        }
      ]
    },
    {
      "cell_type": "code",
      "metadata": {
        "colab": {
          "base_uri": "https://localhost:8080/"
        },
        "id": "oCK7BtsDYS8n",
        "outputId": "1b7c5e30-1971-4cc2-aa34-d36d76c4f9ad"
      },
      "source": [
        "Y3"
      ],
      "execution_count": 100,
      "outputs": [
        {
          "output_type": "execute_result",
          "data": {
            "text/plain": [
              "array([ 6,  6,  1,  1,  6,  6,  2,  4,  1,  1,  9,  6,  6,  6,  6,  1,  3,\n",
              "        6,  4,  9,  1,  9,  2,  2,  9,  3,  9,  1,  1,  7,  4,  7,  4,  1,\n",
              "        1,  2,  6,  1,  5,  6,  7,  1,  1,  1,  6,  6,  7,  9,  6,  9,  1,\n",
              "        9,  7,  4,  3,  1,  5,  3,  5,  3,  5,  6,  7,  7,  4,  5,  5,  6,\n",
              "        6,  5,  7,  5,  7,  6,  1,  7,  8,  7,  4,  6,  1,  9,  2,  6,  1,\n",
              "        6,  1,  6,  6,  9,  9,  2,  6,  5,  4,  3,  1,  1,  7,  9,  6,  2,\n",
              "        1,  9,  9,  7,  9,  1,  1,  4,  4,  3,  1,  4,  4,  1,  1,  1,  1,\n",
              "        1,  1,  1,  1,  6,  1,  1,  1,  7,  1,  1,  1,  1,  1,  1,  9,  7,\n",
              "        6,  4,  3,  9,  4,  4,  4,  4,  7,  2,  6,  4,  1,  2,  9,  1,  1,\n",
              "        1,  5,  5,  5,  5,  5,  7,  7,  5,  5,  5,  5,  5,  5,  5,  6,  3,\n",
              "        6,  2,  2,  5,  3,  4,  2,  2,  4,  4,  3,  6,  2,  6,  6,  2,  2,\n",
              "        2,  9,  6,  6,  6,  6,  6,  6,  6,  6,  6,  6,  6,  6,  1,  1, 10,\n",
              "        1,  9,  1, 10,  9,  7,  1,  3,  4,  1,  9,  1,  4,  9,  5,  6,  7,\n",
              "        8,  8,  6, 10,  6,  7,  5,  4,  4,  5,  7,  8,  6,  1,  1,  4,  6,\n",
              "        7,  2,  2,  2,  2,  2,  2,  2,  2,  2,  2,  3,  3,  3,  3,  3,  3,\n",
              "        3,  3,  9,  3,  9,  3,  3,  3,  3,  3,  3,  3,  3,  2,  3,  6,  2,\n",
              "        3,  1,  7,  3,  4,  9,  2,  2,  2,  2,  2,  2,  1,  2,  2,  2,  9,\n",
              "        2,  2,  2,  2,  2,  2,  2,  2,  2,  4,  4,  2,  2,  4,  6,  4,  7,\n",
              "        2,  1,  6,  7,  9,  2,  3,  6,  2,  9,  9,  4,  6,  1,  1,  1,  4,\n",
              "        9,  9,  9,  9,  9,  9,  9,  9,  9,  9,  9,  7,  1,  1,  1,  6,  1,\n",
              "        1,  1,  7,  1,  7,  1,  1,  1,  6,  7,  4,  6,  6,  7,  4,  1,  4,\n",
              "        1,  1,  1,  1,  6,  1,  1,  6,  7,  1,  4,  4,  7,  4,  1,  1,  1,\n",
              "        7,  4,  1,  4,  1,  1,  1,  1,  1,  1,  4,  4,  1,  4,  1,  1,  1,\n",
              "        4,  4,  2,  2,  2,  7,  3,  1,  3,  1,  3,  2,  2,  2,  1,  3,  1,\n",
              "        2,  1,  2,  7,  2,  3,  1,  7,  1,  3,  1,  2,  2,  2,  2,  2,  2,\n",
              "        2,  3,  2,  1,  2,  3,  2,  3,  3,  2,  3,  2,  4,  5,  2,  4,  7,\n",
              "        7,  1,  2,  2,  2,  2,  3,  1,  3,  2,  2,  7,  7,  2,  3,  3,  1,\n",
              "        2,  2,  2,  2,  2,  2,  2,  1,  2,  2,  2,  2,  2,  1,  1,  1,  9,\n",
              "        7,  3,  1,  1,  2,  2,  1,  2,  1,  3,  3,  3,  3,  3,  2,  3,  3,\n",
              "        2,  2,  2,  4,  1,  2,  7,  7,  7,  7,  7,  3,  3,  1,  1,  1,  9,\n",
              "        1,  1,  3,  7,  9,  1,  2,  1,  7,  7,  2,  2,  1,  4,  1,  3,  7,\n",
              "        2,  2,  4,  7,  7,  2,  4,  2,  4,  2,  7,  1,  3,  1,  1,  2,  9,\n",
              "        1,  2,  1,  1,  1,  7,  2,  2,  2,  1,  2,  2,  8,  2,  2,  1,  7,\n",
              "        1,  8,  7,  6,  2,  1,  1,  4,  1,  2,  1,  1,  9,  2,  2,  9,  1,\n",
              "        9,  2,  2,  4,  2,  2,  7,  2,  3,  1,  1,  3,  2,  7,  2,  3,  2,\n",
              "        2,  1,  2,  2,  6,  6,  6,  6,  6,  6,  6,  6,  1,  6,  6,  6,  6,\n",
              "        6,  4,  6,  6,  2,  6,  6,  6,  2,  9,  6,  2,  6,  2,  1,  4,  1,\n",
              "        6,  6,  1,  1,  1,  1,  1,  4,  5,  1,  1,  4,  9,  4,  1,  6,  6,\n",
              "        4,  1,  1,  7,  1,  4,  4,  8,  8,  8,  4,  4,  1,  4,  4,  4,  4,\n",
              "        4,  1,  6,  7,  1,  1,  1,  1,  1,  1,  4,  6,  6,  3,  4, 10, 10,\n",
              "        1,  4,  4,  4,  4,  4, 10,  1,  4,  1,  1,  2,  1,  1,  2,  2, 10,\n",
              "       10,  1,  3,  1,  3,  1,  1,  9,  1,  1,  1,  1,  1,  1,  1,  1,  1,\n",
              "        1,  1,  1,  9,  9,  3,  3,  9,  9,  9,  9,  9,  1, 10, 10, 10,  2,\n",
              "       10, 10, 10, 10,  2, 10, 10, 10, 10, 10, 10, 10, 10,  6, 10, 10, 10,\n",
              "       10, 10, 10, 10, 10, 10, 10, 10, 10, 10, 10, 10, 10,  7,  7,  7,  7,\n",
              "        7, 10,  8,  8,  8,  8,  8, 10, 10,  3,  8,  8,  8,  8,  8, 10,  8,\n",
              "        4,  4,  4,  9,  4,  9,  3,  3,  3,  3,  9,  4,  1,  9,  1,  1,  9,\n",
              "        1])"
            ]
          },
          "metadata": {},
          "execution_count": 100
        }
      ]
    },
    {
      "cell_type": "markdown",
      "metadata": {
        "id": "zFl4u5Xw_nYu"
      },
      "source": [
        "# ***Encord Categorical Data***"
      ]
    },
    {
      "cell_type": "code",
      "metadata": {
        "id": "qnAO3P42_tMp"
      },
      "source": [
        "from sklearn.preprocessing import LabelEncoder\n",
        "le = LabelEncoder()\n",
        "y = le.fit_transform(Y)\n",
        "y1 = le.fit_transform(Y1)\n",
        "y2 = le.fit_transform(Y2)\n"
      ],
      "execution_count": 101,
      "outputs": []
    },
    {
      "cell_type": "code",
      "metadata": {
        "colab": {
          "base_uri": "https://localhost:8080/"
        },
        "id": "DhRKiLCqAU2-",
        "outputId": "d65a2046-edf5-4c20-f35c-97549a1e86b8"
      },
      "source": [
        "print(y)"
      ],
      "execution_count": 106,
      "outputs": [
        {
          "output_type": "stream",
          "name": "stdout",
          "text": [
            "[ 9  9  7  7  9  9 15  5  7  7 12  9  9  9  9  7  2  9  5 12  7 12 15 15\n",
            " 12  2 12  7  7 19  5 19  5  7  7 15  9  7  0  9 19  7  7  7  9  9 19 12\n",
            "  9 12  7 12 19  5  2  7  0  2  0  2  0  9 19 19  5  0  0  9 10  0 19  0\n",
            " 19  9  7 19 18 19  5  9  7 12 15  9  7  9  7  9  9 12 12 15  9  0  5  2\n",
            "  7  7 19 12  9 15  7 12 12 19 12  7  7  5  5  2  7  5  5  7  7  7  7  7\n",
            "  7  7  7  9  7  7  7 19  7  7  7  8  7  7 12 19  9  3  3 12  6  5  5  5\n",
            " 19 15  9  8  7 15 13  7  7  7  0  0  0  0  0 19 19  0  0  0  0  0  0  0\n",
            "  9  2  9 15 15  0  2  5 15 15  5  8  2  9 15 10 10 15 15 15 12  9  9  9\n",
            "  9  9  9  9  9  9  9  9  9  7  7  4  7 12  8  4 12 19  7  2 13 13 12  7\n",
            "  7 12  0  9 19  0  1  9 19  9 19 20  5  5 18 19 18  9  8  8  5  9 19 15\n",
            " 15 15 15 15 15 15 16 15 15  2  2  2  2  2  2  2  2 12  2  6  2  2  2  2\n",
            "  2  2  2  2 15  2  9 15  2  7 19  2  5 13 15 15 15 15 15 15 13 15 15 15\n",
            " 13 15 15 15 15 15 15 15 15 15  5 13 15 15  5  9  5 19 15  7  9 19 13 16\n",
            "  2 11 16 12 13  5  9  7  7  7  5 12 12 12 12 12 12 12 12 12 12 12 20  7\n",
            "  7  7  9  7  7  7 19  7 19  7  7  7  9 19  5  9  9 19  5  7  5  7  7  7\n",
            "  7  9  7  7  9 19  7  5  5 19  5  7  7  7 19  5  7  5  7  7  7  7  7  7\n",
            "  5  5  7  5  7  7  7  5  5 15 15 15 19  2  7  2  7  2 15 15 15  7  2  7\n",
            " 15  7 15 19 15  2  7 19  7  2  7 16 15 15 15 15 15 15  2 15  2 15  2 15\n",
            "  2  2 15  2 15  5  0 15  5 20 20  7 15 15 15 15  2  7  2 15 15 20 20 15\n",
            "  2  2  7 15 15 15 15 15 15 15  7 15 15 15 15 15  7  7  7 12 20  2  7  7\n",
            " 15 15  7 15  7  2  2  2  2  2 15  2  2 15 15 15  5  7 15 20 20 20 20 20\n",
            "  2  2  7  7  7 12  7  7  2 20 12  7 15  7 20 20 15 15  7  5  7  2 20 15\n",
            " 15  5 20 20 15  5 15  5 15 20  7  2  7  7 16 12  7 16  7  7  7 19 16 16\n",
            " 16  7 16 16 20 16 16  7 19  7 17 19  9 16  7  7  5  7 16  7  7 12 16 16\n",
            " 12  7 12 16 16  5 16 16 19 16  2  7  7  2 16 19 16  2 16 16  7 16 16 10\n",
            " 10 10 10 10 10 10 10  7 10 10 10 10 10  5 10 10 15 10 10 10 15 12 10 16\n",
            " 10 15  8  5  7 10 10  8  8  7  7  8  5  0  8  8  5 12  5  7  9  9  8  7\n",
            "  7 19  7  5  5 18 18 18  5  5  7  5  5  5  5  5  7  9 19  8  7  7  7  7\n",
            "  7  5  9  9  3  6  4  4  7  6  5  5  6  5  4  7  6  7  7 15  7  7 15 15\n",
            "  4  4  7  2  7  2  7  7 12  7  7  7  7  7  7  7  7  7  7  7  7 12 12  2\n",
            "  2 12 12 12 12 12  7  4  4  4 15  4  4  4  4 15  4  4  4  4  4  4  4  4\n",
            "  9  4  4  4  4  4  4  4  4  4  4  4  4  4  4  4  4 19 19 19 19 19  4 18\n",
            " 18 18 18 18  4  4  2 18 18 18 18 18  4 18  5  5  5 12  5 12  2  2  2  2\n",
            " 14  5  7 12  7  7 12  7]\n"
          ]
        }
      ]
    },
    {
      "cell_type": "code",
      "metadata": {
        "colab": {
          "base_uri": "https://localhost:8080/"
        },
        "id": "9p8f8wnJaTaB",
        "outputId": "c6b78351-2351-4f9e-8cf0-16f7eede5934"
      },
      "source": [
        "y1"
      ],
      "execution_count": 107,
      "outputs": [
        {
          "output_type": "execute_result",
          "data": {
            "text/plain": [
              "array([ 9,  9,  7,  7,  9,  9, 14,  5,  7,  7, 12,  9,  9,  9,  9,  7,  1,\n",
              "        9,  5, 12,  7, 12, 14, 14, 12,  1, 12,  7,  7, 18,  5, 18,  5,  7,\n",
              "        7, 14,  9,  7,  0,  9, 18,  7,  7,  7,  9,  9, 18, 12,  9, 12,  7,\n",
              "       12, 18,  5,  1,  7,  0,  1,  0,  1,  0,  9, 18, 18,  5,  0,  0,  9,\n",
              "       10,  0, 18,  0, 18,  9,  7, 18, 17, 18,  5,  9,  7, 12, 14,  9,  7,\n",
              "        9,  7,  9,  9, 12, 12, 14,  9,  0,  5,  1,  7,  7, 18, 12,  9, 14,\n",
              "        7, 12, 12, 18, 12,  7,  7,  5,  5,  1,  7,  5,  5,  7,  7,  7,  7,\n",
              "        7,  7,  7,  7,  9,  7,  7,  7, 18,  7,  7,  7,  1,  7,  7, 12, 18,\n",
              "        9,  5,  5, 12, 14,  5,  1,  5, 18, 14,  9,  5,  7, 14, 13,  7,  7,\n",
              "        7,  0,  0,  0,  0,  0, 18, 18,  0,  0,  0,  0,  0,  0,  0,  9,  1,\n",
              "        9, 14, 14,  0,  1,  5, 14, 14,  5,  5,  1,  9, 14,  9,  9, 14, 14,\n",
              "       14, 12,  9,  9,  9,  9,  9,  9,  9,  9,  9,  9,  9,  9,  7,  7,  3,\n",
              "        7, 12,  8,  3, 12, 18,  7,  1,  5,  7, 12,  7, 12, 12,  0,  9, 18,\n",
              "       17, 17,  9,  3,  9, 18,  0,  5,  5,  0, 18, 17,  9,  8,  8,  5,  9,\n",
              "       18, 14, 14, 14, 14, 14, 14, 14, 15, 14, 14,  1,  1,  1,  1,  1,  1,\n",
              "        1,  1, 12,  1, 12,  1,  1,  1,  1,  1,  1,  1,  1, 14,  1,  9, 14,\n",
              "        1,  7, 18,  1,  5, 13, 14, 14, 14, 14, 14, 14,  7, 14, 14, 14,  7,\n",
              "       14, 14, 14, 14, 14, 14, 14, 14, 14,  5,  5, 14, 14,  5,  9,  5, 18,\n",
              "       14,  7,  9, 17, 13, 15,  1, 11, 15, 12,  5,  5,  9,  7,  7,  7,  5,\n",
              "       12, 12, 12, 12, 12, 12, 12, 12, 12, 12, 12,  0,  7,  7,  7,  9,  7,\n",
              "        7,  7,  0,  7, 18,  7,  7,  7,  9, 18,  5,  9,  9, 18,  5,  7,  5,\n",
              "        7,  7,  7,  7,  9,  7,  7,  9, 18,  7,  5,  5, 18,  5,  7,  7,  7,\n",
              "       18,  5,  7,  5,  7,  7,  7,  7,  7,  7,  5,  5,  7,  5,  7,  7,  7,\n",
              "        5,  5, 14, 14, 14, 18,  1,  7,  1,  7,  1, 14, 14, 14,  7,  1,  7,\n",
              "       14,  7, 14, 18, 14,  1,  7, 18,  7,  1,  7, 15, 14, 14, 14, 14, 14,\n",
              "       14,  1, 14,  1, 14,  1, 14,  1,  1, 14,  1, 14,  5,  0, 14,  5, 19,\n",
              "       19,  7, 14, 14, 14, 14,  1,  7,  1, 14, 14, 19, 19, 14,  1,  1,  7,\n",
              "       14, 14, 14, 14, 14, 14, 14,  7, 14, 14, 14, 14, 14,  7,  7,  7, 12,\n",
              "       19,  1,  7,  7, 14, 14,  7, 14,  7,  1,  1,  1,  1,  1, 14,  1,  1,\n",
              "       14, 14, 14,  5,  7, 14, 19, 19, 19, 19, 19,  1,  1,  7,  7,  7, 12,\n",
              "        7,  7,  1, 19, 12,  7, 14,  7, 19, 19, 14, 14,  7,  5,  7,  1, 19,\n",
              "       14, 14,  5, 19, 19, 14,  5, 14,  5, 14, 19,  7,  1,  7,  7, 15, 12,\n",
              "        7, 15,  7,  7,  7, 18, 15, 15, 15,  7, 15, 15, 17, 15, 15,  7, 18,\n",
              "        7, 16, 18,  9, 15,  7,  7,  5,  7, 15,  7,  7, 12, 15, 15, 12,  7,\n",
              "       12, 15, 15,  5, 15, 15, 18, 15,  1,  7,  7,  1, 15, 18, 15,  1, 15,\n",
              "       15,  7, 15, 15, 10, 10, 10, 10, 10, 10, 10, 10,  7, 10, 10, 10, 10,\n",
              "       10,  5, 10, 10, 14, 10, 10, 10, 14, 12, 10, 15, 10, 14,  8,  5,  7,\n",
              "       10, 10,  8,  8,  7,  7,  8,  5,  0,  8,  8,  5, 12,  5,  7,  9,  9,\n",
              "       12,  7,  7, 18,  7,  5,  5, 17, 17, 17,  5,  5,  7,  5,  5,  5,  5,\n",
              "        5,  7,  9, 18,  8,  7,  7,  7,  7,  7,  5,  9,  9,  2,  6,  3,  3,\n",
              "        7,  6,  5,  5,  6,  5,  3,  7,  6,  7,  7, 14,  7,  7, 14, 14,  3,\n",
              "        3,  7,  1,  7,  1,  7,  7, 12,  7,  7,  7,  7,  7,  7,  7,  7,  7,\n",
              "        7,  7,  7, 12, 12,  1,  1, 12, 12, 12, 12, 12,  7,  3,  3,  3, 14,\n",
              "        3,  3,  3,  3, 14,  3,  3,  3,  3,  3,  3,  3,  3,  9,  3,  3,  3,\n",
              "        3,  3,  3,  3,  3,  3,  3,  3,  3,  3,  3,  3,  3, 18, 18, 18, 18,\n",
              "       18,  3, 17, 17, 17, 17, 17,  3,  3,  1, 17, 17, 17, 17, 17,  3, 17,\n",
              "        5,  5,  5, 12,  5, 12,  1,  1,  1,  1,  4,  5,  7, 12,  7,  7, 12,\n",
              "        7])"
            ]
          },
          "metadata": {},
          "execution_count": 107
        }
      ]
    },
    {
      "cell_type": "code",
      "metadata": {
        "colab": {
          "base_uri": "https://localhost:8080/"
        },
        "id": "pwGHZRE9aaFz",
        "outputId": "f6b0072b-1445-4653-e76c-3b629308839a"
      },
      "source": [
        "y2"
      ],
      "execution_count": 108,
      "outputs": [
        {
          "output_type": "execute_result",
          "data": {
            "text/plain": [
              "array([ 9,  9,  7,  7,  9,  9, 14,  5,  7,  7, 12,  9,  9,  9,  9,  7,  1,\n",
              "        9,  5, 12,  7, 12, 14, 14, 12,  1, 12,  7,  7, 18,  5, 18,  5,  7,\n",
              "        7, 14,  9,  7,  0,  9, 18,  7,  7,  7,  9,  9, 18, 12,  9, 12,  7,\n",
              "       12, 18,  5,  1,  7,  0,  1,  0,  1,  0,  9, 18, 18,  5,  0,  0,  9,\n",
              "       10,  0, 18,  0, 18,  9,  7, 18, 17, 18,  5,  9,  7, 12, 14,  9,  7,\n",
              "        9,  7,  9,  9, 12, 12, 14,  9,  0,  5,  1,  7,  7, 18, 12,  9, 14,\n",
              "        7, 12, 12, 18, 12,  7,  7,  5,  5,  1,  7,  5,  5,  7,  7,  7,  7,\n",
              "        7,  7,  7,  7,  9,  7,  7,  7, 18,  7,  7,  7,  1,  7,  7, 12, 18,\n",
              "        9,  5,  5, 12, 14,  5,  5,  5, 18, 14,  9,  5,  7, 14, 13,  7,  7,\n",
              "        7,  0,  0,  0,  0,  0, 18, 18,  0,  0,  0,  0,  0,  0,  0,  9,  1,\n",
              "        9, 14, 14,  0,  1,  5, 14, 14,  5,  5,  1,  9, 14,  9,  9, 14, 14,\n",
              "       14, 12,  9,  9,  9,  9,  9,  9,  9,  9,  9,  9,  9,  9,  7,  7,  3,\n",
              "        7, 12,  8,  3, 12, 18,  7,  1,  5,  7, 12,  7,  5, 12,  0,  9, 18,\n",
              "       17, 17,  9,  3,  9, 18,  0,  5,  5,  0, 18, 17,  9,  8,  8,  5,  9,\n",
              "       18, 14, 14, 14, 14, 14, 14, 14, 15, 14, 14,  1,  1,  1,  1,  1,  1,\n",
              "        1,  1, 12,  1, 12,  1,  1,  1,  1,  1,  1,  1,  1, 14,  1,  9, 14,\n",
              "        1,  7, 18,  1,  5, 13, 14, 14, 14, 14, 14, 14,  7, 14, 14, 14,  7,\n",
              "       14, 14, 14, 14, 14, 14, 14, 14, 14,  5,  5, 14, 14,  5,  9,  5, 18,\n",
              "       14,  7,  9, 14, 13, 15,  1, 11, 15, 12,  5,  5,  9,  7,  7,  7,  5,\n",
              "       12, 12, 12, 12, 12, 12, 12, 12, 12, 12, 12,  0,  7,  7,  7,  9,  7,\n",
              "        7,  7,  0,  7, 18,  7,  7,  7,  9, 18,  5,  9,  9, 18,  5,  7,  5,\n",
              "        7,  7,  7,  7,  9,  7,  7,  9, 18,  7,  5,  5, 18,  5,  7,  7,  7,\n",
              "       18,  5,  7,  5,  7,  7,  7,  7,  7,  7,  5,  5,  7,  5,  7,  7,  7,\n",
              "        5,  5, 14, 14, 14, 18,  1,  7,  1,  7,  1, 14, 14, 14,  7,  1,  7,\n",
              "       14,  7, 14, 18, 14,  1,  7, 18,  7,  1,  7, 15, 14, 14, 14, 14, 14,\n",
              "       14,  1, 14,  1, 14,  1, 14,  1,  1, 14,  1, 14,  5,  0, 14,  5, 19,\n",
              "       19,  7, 14, 14, 14, 14,  1,  7,  1, 14, 14, 19, 19, 14,  1,  1,  7,\n",
              "       14, 14, 14, 14, 14, 14, 14,  7, 14, 14, 14, 14, 14,  7,  7,  7, 12,\n",
              "       19,  1,  7,  7, 14, 14,  7, 14,  7,  1,  1,  1,  1,  1, 14,  1,  1,\n",
              "       14, 14, 14,  5,  7, 14, 19, 19, 19, 19, 19,  1,  1,  7,  7,  7, 12,\n",
              "        7,  7,  1, 19, 12,  7, 14,  7, 19, 19, 14, 14,  7,  5,  7,  1, 19,\n",
              "       14, 14,  5, 19, 19, 14,  5, 14,  5, 14, 19,  7,  1,  7,  7, 15, 12,\n",
              "        7, 15,  7,  7,  7, 18, 15, 15, 15,  7, 15, 15, 17, 15, 15,  7, 18,\n",
              "        7, 16, 18,  9, 15,  7,  7,  5,  7, 15,  7,  7, 12, 15, 15, 12,  7,\n",
              "       12, 15, 15,  5, 15, 15, 18, 15,  1,  7,  7,  1, 15, 18, 15,  1, 15,\n",
              "       15,  7, 15, 15, 10, 10, 10, 10, 10, 10, 10, 10,  7, 10, 10, 10, 10,\n",
              "       10,  5, 10, 10, 14, 10, 10, 10, 14, 12, 10, 15, 10, 14,  8,  5,  7,\n",
              "       10, 10,  8,  8,  7,  7,  8,  5,  0,  8,  8,  5, 12,  5,  7,  9,  9,\n",
              "        5,  7,  7, 18,  7,  5,  5, 17, 17, 17,  5,  5,  7,  5,  5,  5,  5,\n",
              "        5,  7,  9, 18,  8,  7,  7,  7,  7,  7,  5,  9,  9,  2,  6,  3,  3,\n",
              "        7,  6,  5,  5,  6,  5,  3,  7,  6,  7,  7, 14,  7,  7, 14, 14,  3,\n",
              "        3,  7,  1,  7,  1,  7,  7, 12,  7,  7,  7,  7,  7,  7,  7,  7,  7,\n",
              "        7,  7,  7, 12, 12,  1,  1, 12, 12, 12, 12, 12,  7,  3,  3,  3, 14,\n",
              "        3,  3,  3,  3, 14,  3,  3,  3,  3,  3,  3,  3,  3,  9,  3,  3,  3,\n",
              "        3,  3,  3,  3,  3,  3,  3,  3,  3,  3,  3,  3,  3, 18, 18, 18, 18,\n",
              "       18,  3, 17, 17, 17, 17, 17,  3,  3,  1, 17, 17, 17, 17, 17,  3, 17,\n",
              "        5,  5,  5, 12,  5, 12,  1,  1,  1,  1,  4,  5,  7, 12,  7,  7, 12,\n",
              "        7])"
            ]
          },
          "metadata": {},
          "execution_count": 108
        }
      ]
    },
    {
      "cell_type": "code",
      "metadata": {
        "colab": {
          "base_uri": "https://localhost:8080/"
        },
        "id": "v57EAaG9FO0Y",
        "outputId": "26051258-6c56-49be-844b-a1d0d0edd19f"
      },
      "source": [
        "from sklearn.compose import ColumnTransformer\n",
        "from sklearn.preprocessing import OneHotEncoder\n",
        "ct = ColumnTransformer(transformers=[('encoder', OneHotEncoder(), [0])], remainder=\"passthrough\")\n",
        "X = np.array(ct.fit_transform(X))\n",
        "print(X)"
      ],
      "execution_count": 109,
      "outputs": [
        {
          "output_type": "stream",
          "name": "stdout",
          "text": [
            "[[1.0 0.0 0.0 ... 1 4 2]\n",
            " [1.0 0.0 0.0 ... 1 4 7]\n",
            " [1.0 0.0 0.0 ... 1 4 0]\n",
            " ...\n",
            " [1.0 0.0 0.0 ... 1 4 4]\n",
            " [1.0 0.0 0.0 ... 0 4 10]\n",
            " [1.0 0.0 0.0 ... 0 4 1]]\n"
          ]
        }
      ]
    },
    {
      "cell_type": "markdown",
      "metadata": {
        "id": "G_AyPRyXIe7I"
      },
      "source": [
        "# ***Spliting the data to testing and trainng***"
      ]
    },
    {
      "cell_type": "code",
      "metadata": {
        "id": "idjieD25Ij51"
      },
      "source": [
        "from sklearn.model_selection import train_test_split\n",
        "X_train, X_test, y_train, y_test = train_test_split(X, y, test_size = 0.2, random_state = 0)"
      ],
      "execution_count": 110,
      "outputs": []
    },
    {
      "cell_type": "code",
      "metadata": {
        "colab": {
          "base_uri": "https://localhost:8080/"
        },
        "id": "rtbgNjuYJ3Ce",
        "outputId": "16adcce2-3108-455a-cb0b-175ca28b5521"
      },
      "source": [
        "print(X_train)\n",
        "print(X_train.shape)"
      ],
      "execution_count": 111,
      "outputs": [
        {
          "output_type": "stream",
          "name": "stdout",
          "text": [
            "[[1.0 0.0 0.0 ... 1 3 6]\n",
            " [1.0 0.0 0.0 ... 0 4 9]\n",
            " [1.0 0.0 0.0 ... 1 3 9]\n",
            " ...\n",
            " [1.0 0.0 0.0 ... 1 4 8]\n",
            " [1.0 0.0 0.0 ... 0 3 7]\n",
            " [1.0 0.0 0.0 ... 0 4 5]]\n",
            "(640, 25)\n"
          ]
        }
      ]
    },
    {
      "cell_type": "code",
      "metadata": {
        "colab": {
          "base_uri": "https://localhost:8080/"
        },
        "id": "JHGYChwHJ_AI",
        "outputId": "6a8c9ee6-5462-4906-a52c-89cc14644ece"
      },
      "source": [
        "print(X_test)\n",
        "print(X_test.shape)"
      ],
      "execution_count": 112,
      "outputs": [
        {
          "output_type": "stream",
          "name": "stdout",
          "text": [
            "[[1.0 0.0 1.0 ... 1 3 5]\n",
            " [1.0 0.0 0.0 ... 1 4 2]\n",
            " [1.0 0.0 0.0 ... 1 4 0]\n",
            " ...\n",
            " [1.0 0.0 0.0 ... 1 4 8]\n",
            " [0.0 1.0 0.0 ... 0 3 9]\n",
            " [1.0 0.0 0.0 ... 0 4 4]]\n",
            "(160, 25)\n"
          ]
        }
      ]
    },
    {
      "cell_type": "code",
      "metadata": {
        "colab": {
          "base_uri": "https://localhost:8080/"
        },
        "id": "jQ3DVl3jKCDo",
        "outputId": "6d9bdf81-a498-4563-9cd4-2dbc58c14f40"
      },
      "source": [
        "print(y_train)\n",
        "print(y_train.shape)"
      ],
      "execution_count": 113,
      "outputs": [
        {
          "output_type": "stream",
          "name": "stdout",
          "text": [
            "[15 18  5 19 19  9 15 15 20  2  7  7 15  7  7  9  0 16  7  7 20  9  5  7\n",
            "  5 15  2  4 18  7  2  9 19  7 10 18 15  7  9 13  7 15 20 15  2 10  4  9\n",
            " 10  9 15 12 16  9  2  2 19  5 15 15  5  6  9  5  7 19  9  4 15 19 12 15\n",
            " 15 12  5  7 15 12 19 15 19  7  7 15  5  4  2 15  7 19  9  2  2  2  4  5\n",
            " 15 12  2  7  0 19 12  7 15  7  9  0 15 15  5  5  0  5  5 15  0  5 15  7\n",
            "  7  7  4  9  7  5 16  7 19 15  4  7  7 15  9 15  5 19 12 20 12  2 12  5\n",
            "  7 15  0 16 18 12 18  9  5 10  9  5  7  9  0  5 11 12  4  5  8 10  7  4\n",
            " 19  2 12 19  8  9 19 15  8 15  7  7 15  9  2 12  9  7  7  7 13 20  5 15\n",
            " 16  2  8  7 20 16 20  7 19 12  5  7 19  7  7 12 12  7  2 15  4 15  7  7\n",
            "  7  8  2  9  5 12 19 15 12 15 15  7 19 19  8  9  7 15 10  7 12  7  7  0\n",
            "  5  7  6  7  7 15  7  7  5  7  3 19  5 19  4 19 19  2 16  6  7 15  7 19\n",
            "  4  7  2  5  5  7  9  2  7  2  9 15  0  7  0 20  2  7  2  4 10 12  5  7\n",
            "  7  0  0 15  7 18 15  5  5  2  4  0  7  0  7  2  5  5  4  7  7  7  2  5\n",
            " 16 15 15 15  0 12 12  4 16  9  7 15  9  7  9  7 15  7  9  4  9  9  5 15\n",
            " 10  7 12  9  5 19  2 19  7  7  7 15 12  7  5 13 15  2 15  7  5  9  7 15\n",
            " 19 19 18  7  7  7  9  9  0 12  2  5 12 15 15  4  7 16  0  2  9  3 12  7\n",
            " 16 16  4  5  7  0 12 12  7  0  4  9 15 19  5  7  8 18 15  9  7  7 10  7\n",
            "  5 10  9  9 15  5  2  7 15  4  4 18  7  9  9  7  9 12  9 15 18 15 15  9\n",
            " 15  7 16  7  7  7  9 12  2  5 15  3 13 18  7  7  4  8  9 12  7  7  7 19\n",
            "  2  0  4  0 16 19  7 19  2  2 15 15 12  7  7  5 16 15  7 15  2  5 15  7\n",
            " 15 12 15 16 12  2 12 12 15  2 15  7 12 12 15  2 19  5  7  0 15 15  2  9\n",
            " 15 10  7  2 18  2  4 15  5  7  7  9  7  7  9  0  7 19 17 19  7 16  9 16\n",
            " 19  5  7 15  4 16  5  2  7  7  5 16 10  5 15  7  2 10  9  2 18  4  2  5\n",
            " 19 19  7 20  5  5  2  8  4 12 12  4  7  7 16 10  7 15 15  2  7 15  2  7\n",
            " 12  4 20  7 10  7  7  7  2 16  5  4  7  7 10 15  7  9  7 15  7 12  7  8\n",
            "  4  2 13 15  8  5  4 15 12  2 15  7  4  7 19 20  6 12  2  9 16  2  7 16\n",
            " 19 10  7 19 10  4 13 12  7  7  7 19  9 10  7  6]\n",
            "(640,)\n"
          ]
        }
      ]
    },
    {
      "cell_type": "code",
      "metadata": {
        "colab": {
          "base_uri": "https://localhost:8080/"
        },
        "id": "TebYxBW3KFGZ",
        "outputId": "bfc44a92-c802-4c6f-f039-2230861bc918"
      },
      "source": [
        "print(y_test)\n",
        "print(y_test.shape)"
      ],
      "execution_count": 114,
      "outputs": [
        {
          "output_type": "stream",
          "name": "stdout",
          "text": [
            "[13 20  9 19 15 15  5 10  7 19  9 15 18  7  7  7 19  1  0  7  7  5  5 15\n",
            " 18 15  0 15  5  5 15 16  9 20  2 19 15 10  5  2 12  7  2 10 15  2  7 15\n",
            " 12  6  8 16  2 19  2  7 15 15  4  5 12  7 12 10 15 18 15  5  2  8 20  2\n",
            "  9 12 20  9 15  8  2  7  2  2  7  7  7 15  5  4  7 15  4  7 12 20 15  2\n",
            " 16  7  4  2 20 15  7 10  5  7  7 20 15  7  7  7  7 18 15 16 15  9  9  7\n",
            " 12  5 12 16 10 20 15  7 15 19  7  2  7 14  5 13  9  7  4  4 20  2 12  7\n",
            "  2  7  2  0 12  4  5  7  7  2  9  9  7 13  2 15]\n",
            "(160,)\n"
          ]
        }
      ]
    },
    {
      "cell_type": "markdown",
      "metadata": {
        "id": "SLFYDHmmSN5O"
      },
      "source": [
        "# ***ANN***"
      ]
    },
    {
      "cell_type": "code",
      "metadata": {
        "id": "W2Z5Y5cESabR"
      },
      "source": [
        "import tensorflow as tf"
      ],
      "execution_count": 115,
      "outputs": []
    },
    {
      "cell_type": "code",
      "metadata": {
        "colab": {
          "base_uri": "https://localhost:8080/",
          "height": 35
        },
        "id": "SKbJCBXlSmB_",
        "outputId": "b688c0f0-09f5-4c68-d25d-01755c7dcdee"
      },
      "source": [
        "tf.__version__"
      ],
      "execution_count": 116,
      "outputs": [
        {
          "output_type": "execute_result",
          "data": {
            "application/vnd.google.colaboratory.intrinsic+json": {
              "type": "string"
            },
            "text/plain": [
              "'2.7.0'"
            ]
          },
          "metadata": {},
          "execution_count": 116
        }
      ]
    },
    {
      "cell_type": "markdown",
      "metadata": {
        "id": "S5wUprP0S4In"
      },
      "source": [
        "**Feature Scaling**"
      ]
    },
    {
      "cell_type": "code",
      "metadata": {
        "id": "yusrNlasS86-"
      },
      "source": [
        "from sklearn.preprocessing import StandardScaler\n",
        "sc = StandardScaler()\n",
        "X_train = sc.fit_transform(X_train)\n",
        "X_test = sc.transform(X_test)"
      ],
      "execution_count": 117,
      "outputs": []
    },
    {
      "cell_type": "markdown",
      "metadata": {
        "id": "VmMoMfTnTAgP"
      },
      "source": [
        "# ***Build ANN***"
      ]
    },
    {
      "cell_type": "code",
      "metadata": {
        "id": "ke70NrG_TEO1"
      },
      "source": [
        "ann = tf.keras.models.Sequential()"
      ],
      "execution_count": 118,
      "outputs": []
    },
    {
      "cell_type": "code",
      "metadata": {
        "id": "jpVl9kHzTORx"
      },
      "source": [
        "ann.add(tf.keras.layers.Dense(units=24, activation='relu'))"
      ],
      "execution_count": 119,
      "outputs": []
    },
    {
      "cell_type": "code",
      "metadata": {
        "id": "pdAoG7hXTOpY"
      },
      "source": [
        "ann.add(tf.keras.layers.Dense(units=1, activation='sigmoid'))"
      ],
      "execution_count": 120,
      "outputs": []
    },
    {
      "cell_type": "code",
      "metadata": {
        "id": "dyPUh1efTdqh"
      },
      "source": [
        "ann.compile(optimizer = 'adam', loss = 'binary_crossentropy', metrics = ['accuracy'])"
      ],
      "execution_count": 121,
      "outputs": []
    },
    {
      "cell_type": "code",
      "metadata": {
        "colab": {
          "base_uri": "https://localhost:8080/"
        },
        "id": "ed_OZlPHTeJF",
        "outputId": "b34533be-90ba-49ff-caf6-4c2f0d3bb60a"
      },
      "source": [
        "ann.fit(X_train, y_train, batch_size = 10, epochs = 100)"
      ],
      "execution_count": 123,
      "outputs": [
        {
          "output_type": "stream",
          "name": "stdout",
          "text": [
            "Epoch 1/100\n",
            "64/64 [==============================] - 0s 1ms/step - loss: -426774.4062 - accuracy: 0.0000e+00\n",
            "Epoch 2/100\n",
            "64/64 [==============================] - 0s 1ms/step - loss: -428372.1875 - accuracy: 0.0000e+00\n",
            "Epoch 3/100\n",
            "64/64 [==============================] - 0s 2ms/step - loss: -429979.5938 - accuracy: 0.0000e+00\n",
            "Epoch 4/100\n",
            "64/64 [==============================] - 0s 2ms/step - loss: -431589.6562 - accuracy: 0.0000e+00\n",
            "Epoch 5/100\n",
            "64/64 [==============================] - 0s 2ms/step - loss: -433189.9375 - accuracy: 0.0000e+00\n",
            "Epoch 6/100\n",
            "64/64 [==============================] - 0s 2ms/step - loss: -434810.5625 - accuracy: 0.0000e+00\n",
            "Epoch 7/100\n",
            "64/64 [==============================] - 0s 2ms/step - loss: -436423.0625 - accuracy: 0.0000e+00\n",
            "Epoch 8/100\n",
            "64/64 [==============================] - 0s 2ms/step - loss: -438043.0938 - accuracy: 0.0000e+00\n",
            "Epoch 9/100\n",
            "64/64 [==============================] - 0s 2ms/step - loss: -439664.8438 - accuracy: 0.0000e+00\n",
            "Epoch 10/100\n",
            "64/64 [==============================] - 0s 2ms/step - loss: -441283.8125 - accuracy: 0.0000e+00\n",
            "Epoch 11/100\n",
            "64/64 [==============================] - 0s 2ms/step - loss: -442913.5000 - accuracy: 0.0000e+00\n",
            "Epoch 12/100\n",
            "64/64 [==============================] - 0s 1ms/step - loss: -444545.5938 - accuracy: 0.0000e+00\n",
            "Epoch 13/100\n",
            "64/64 [==============================] - 0s 1ms/step - loss: -446175.1562 - accuracy: 0.0000e+00\n",
            "Epoch 14/100\n",
            "64/64 [==============================] - 0s 2ms/step - loss: -447810.4062 - accuracy: 0.0000e+00\n",
            "Epoch 15/100\n",
            "64/64 [==============================] - 0s 2ms/step - loss: -449447.1875 - accuracy: 0.0000e+00\n",
            "Epoch 16/100\n",
            "64/64 [==============================] - 0s 1ms/step - loss: -451092.3438 - accuracy: 0.0000e+00\n",
            "Epoch 17/100\n",
            "64/64 [==============================] - 0s 1ms/step - loss: -452732.2500 - accuracy: 0.0000e+00\n",
            "Epoch 18/100\n",
            "64/64 [==============================] - 0s 2ms/step - loss: -454382.8438 - accuracy: 0.0000e+00\n",
            "Epoch 19/100\n",
            "64/64 [==============================] - 0s 1ms/step - loss: -456035.1875 - accuracy: 0.0000e+00\n",
            "Epoch 20/100\n",
            "64/64 [==============================] - 0s 2ms/step - loss: -457682.4375 - accuracy: 0.0000e+00\n",
            "Epoch 21/100\n",
            "64/64 [==============================] - 0s 1ms/step - loss: -459344.5938 - accuracy: 0.0000e+00\n",
            "Epoch 22/100\n",
            "64/64 [==============================] - 0s 2ms/step - loss: -460998.0938 - accuracy: 0.0000e+00\n",
            "Epoch 23/100\n",
            "64/64 [==============================] - 0s 2ms/step - loss: -462665.0625 - accuracy: 0.0000e+00\n",
            "Epoch 24/100\n",
            "64/64 [==============================] - 0s 2ms/step - loss: -464329.7500 - accuracy: 0.0000e+00\n",
            "Epoch 25/100\n",
            "64/64 [==============================] - 0s 2ms/step - loss: -465998.0938 - accuracy: 0.0000e+00\n",
            "Epoch 26/100\n",
            "64/64 [==============================] - 0s 1ms/step - loss: -467672.3125 - accuracy: 0.0000e+00\n",
            "Epoch 27/100\n",
            "64/64 [==============================] - 0s 1ms/step - loss: -469345.5938 - accuracy: 0.0000e+00\n",
            "Epoch 28/100\n",
            "64/64 [==============================] - 0s 1ms/step - loss: -471017.5625 - accuracy: 0.0000e+00\n",
            "Epoch 29/100\n",
            "64/64 [==============================] - 0s 1ms/step - loss: -472702.3438 - accuracy: 0.0000e+00\n",
            "Epoch 30/100\n",
            "64/64 [==============================] - 0s 1ms/step - loss: -474382.0000 - accuracy: 0.0000e+00\n",
            "Epoch 31/100\n",
            "64/64 [==============================] - 0s 2ms/step - loss: -476065.9375 - accuracy: 0.0000e+00\n",
            "Epoch 32/100\n",
            "64/64 [==============================] - 0s 1ms/step - loss: -477760.1875 - accuracy: 0.0000e+00\n",
            "Epoch 33/100\n",
            "64/64 [==============================] - 0s 2ms/step - loss: -479446.4062 - accuracy: 0.0000e+00\n",
            "Epoch 34/100\n",
            "64/64 [==============================] - 0s 2ms/step - loss: -481137.1875 - accuracy: 0.0000e+00\n",
            "Epoch 35/100\n",
            "64/64 [==============================] - 0s 1ms/step - loss: -482836.9062 - accuracy: 0.0000e+00\n",
            "Epoch 36/100\n",
            "64/64 [==============================] - 0s 1ms/step - loss: -484530.8438 - accuracy: 0.0000e+00\n",
            "Epoch 37/100\n",
            "64/64 [==============================] - 0s 2ms/step - loss: -486236.8125 - accuracy: 0.0000e+00\n",
            "Epoch 38/100\n",
            "64/64 [==============================] - 0s 1ms/step - loss: -487940.6562 - accuracy: 0.0000e+00\n",
            "Epoch 39/100\n",
            "64/64 [==============================] - 0s 1ms/step - loss: -489648.4375 - accuracy: 0.0000e+00\n",
            "Epoch 40/100\n",
            "64/64 [==============================] - 0s 2ms/step - loss: -491360.0000 - accuracy: 0.0000e+00\n",
            "Epoch 41/100\n",
            "64/64 [==============================] - 0s 2ms/step - loss: -493073.3438 - accuracy: 0.0000e+00\n",
            "Epoch 42/100\n",
            "64/64 [==============================] - 0s 2ms/step - loss: -494800.8438 - accuracy: 0.0000e+00\n",
            "Epoch 43/100\n",
            "64/64 [==============================] - 0s 2ms/step - loss: -496516.1562 - accuracy: 0.0000e+00\n",
            "Epoch 44/100\n",
            "64/64 [==============================] - 0s 2ms/step - loss: -498236.0000 - accuracy: 0.0000e+00\n",
            "Epoch 45/100\n",
            "64/64 [==============================] - 0s 2ms/step - loss: -499964.9062 - accuracy: 0.0000e+00\n",
            "Epoch 46/100\n",
            "64/64 [==============================] - 0s 2ms/step - loss: -501702.2500 - accuracy: 0.0000e+00\n",
            "Epoch 47/100\n",
            "64/64 [==============================] - 0s 1ms/step - loss: -503429.5625 - accuracy: 0.0000e+00\n",
            "Epoch 48/100\n",
            "64/64 [==============================] - 0s 2ms/step - loss: -505163.5000 - accuracy: 0.0000e+00\n",
            "Epoch 49/100\n",
            "64/64 [==============================] - 0s 2ms/step - loss: -506906.8438 - accuracy: 0.0000e+00\n",
            "Epoch 50/100\n",
            "64/64 [==============================] - 0s 1ms/step - loss: -508645.5000 - accuracy: 0.0000e+00\n",
            "Epoch 51/100\n",
            "64/64 [==============================] - 0s 1ms/step - loss: -510395.9375 - accuracy: 0.0000e+00\n",
            "Epoch 52/100\n",
            "64/64 [==============================] - 0s 2ms/step - loss: -512135.9375 - accuracy: 0.0000e+00\n",
            "Epoch 53/100\n",
            "64/64 [==============================] - 0s 2ms/step - loss: -513887.3125 - accuracy: 0.0000e+00\n",
            "Epoch 54/100\n",
            "64/64 [==============================] - 0s 2ms/step - loss: -515645.5000 - accuracy: 0.0000e+00\n",
            "Epoch 55/100\n",
            "64/64 [==============================] - 0s 1ms/step - loss: -517395.0625 - accuracy: 0.0000e+00\n",
            "Epoch 56/100\n",
            "64/64 [==============================] - 0s 2ms/step - loss: -519146.8125 - accuracy: 0.0000e+00\n",
            "Epoch 57/100\n",
            "64/64 [==============================] - 0s 1ms/step - loss: -520910.4375 - accuracy: 0.0000e+00\n",
            "Epoch 58/100\n",
            "64/64 [==============================] - 0s 1ms/step - loss: -522671.9062 - accuracy: 0.0000e+00\n",
            "Epoch 59/100\n",
            "64/64 [==============================] - 0s 1ms/step - loss: -524430.9375 - accuracy: 0.0000e+00\n",
            "Epoch 60/100\n",
            "64/64 [==============================] - 0s 1ms/step - loss: -526211.6875 - accuracy: 0.0000e+00\n",
            "Epoch 61/100\n",
            "64/64 [==============================] - 0s 1ms/step - loss: -527978.8125 - accuracy: 0.0000e+00\n",
            "Epoch 62/100\n",
            "64/64 [==============================] - 0s 2ms/step - loss: -529749.9375 - accuracy: 0.0000e+00\n",
            "Epoch 63/100\n",
            "64/64 [==============================] - 0s 1ms/step - loss: -531532.3125 - accuracy: 0.0000e+00\n",
            "Epoch 64/100\n",
            "64/64 [==============================] - 0s 2ms/step - loss: -533320.1250 - accuracy: 0.0000e+00\n",
            "Epoch 65/100\n",
            "64/64 [==============================] - 0s 2ms/step - loss: -535101.9375 - accuracy: 0.0000e+00\n",
            "Epoch 66/100\n",
            "64/64 [==============================] - 0s 1ms/step - loss: -536886.2500 - accuracy: 0.0000e+00\n",
            "Epoch 67/100\n",
            "64/64 [==============================] - 0s 1ms/step - loss: -538678.7500 - accuracy: 0.0000e+00\n",
            "Epoch 68/100\n",
            "64/64 [==============================] - 0s 2ms/step - loss: -540474.3750 - accuracy: 0.0000e+00\n",
            "Epoch 69/100\n",
            "64/64 [==============================] - 0s 1ms/step - loss: -542268.3125 - accuracy: 0.0000e+00\n",
            "Epoch 70/100\n",
            "64/64 [==============================] - 0s 2ms/step - loss: -544066.4375 - accuracy: 0.0000e+00\n",
            "Epoch 71/100\n",
            "64/64 [==============================] - 0s 1ms/step - loss: -545873.6250 - accuracy: 0.0000e+00\n",
            "Epoch 72/100\n",
            "64/64 [==============================] - 0s 2ms/step - loss: -547679.2500 - accuracy: 0.0000e+00\n",
            "Epoch 73/100\n",
            "64/64 [==============================] - 0s 1ms/step - loss: -549487.3750 - accuracy: 0.0000e+00\n",
            "Epoch 74/100\n",
            "64/64 [==============================] - 0s 1ms/step - loss: -551298.8750 - accuracy: 0.0000e+00\n",
            "Epoch 75/100\n",
            "64/64 [==============================] - 0s 1ms/step - loss: -553119.0625 - accuracy: 0.0000e+00\n",
            "Epoch 76/100\n",
            "64/64 [==============================] - 0s 1ms/step - loss: -554932.3125 - accuracy: 0.0000e+00\n",
            "Epoch 77/100\n",
            "64/64 [==============================] - 0s 2ms/step - loss: -556754.3750 - accuracy: 0.0000e+00\n",
            "Epoch 78/100\n",
            "64/64 [==============================] - 0s 2ms/step - loss: -558577.1250 - accuracy: 0.0000e+00\n",
            "Epoch 79/100\n",
            "64/64 [==============================] - 0s 1ms/step - loss: -560407.6875 - accuracy: 0.0000e+00\n",
            "Epoch 80/100\n",
            "64/64 [==============================] - 0s 2ms/step - loss: -562235.2500 - accuracy: 0.0000e+00\n",
            "Epoch 81/100\n",
            "64/64 [==============================] - 0s 1ms/step - loss: -564066.1875 - accuracy: 0.0000e+00\n",
            "Epoch 82/100\n",
            "64/64 [==============================] - 0s 2ms/step - loss: -565901.9375 - accuracy: 0.0000e+00\n",
            "Epoch 83/100\n",
            "64/64 [==============================] - 0s 2ms/step - loss: -567740.5000 - accuracy: 0.0000e+00\n",
            "Epoch 84/100\n",
            "64/64 [==============================] - 0s 2ms/step - loss: -569583.6875 - accuracy: 0.0000e+00\n",
            "Epoch 85/100\n",
            "64/64 [==============================] - 0s 2ms/step - loss: -571420.7500 - accuracy: 0.0000e+00\n",
            "Epoch 86/100\n",
            "64/64 [==============================] - 0s 1ms/step - loss: -573270.9375 - accuracy: 0.0000e+00\n",
            "Epoch 87/100\n",
            "64/64 [==============================] - 0s 1ms/step - loss: -575120.6875 - accuracy: 0.0000e+00\n",
            "Epoch 88/100\n",
            "64/64 [==============================] - 0s 1ms/step - loss: -576971.8125 - accuracy: 0.0000e+00\n",
            "Epoch 89/100\n",
            "64/64 [==============================] - 0s 1ms/step - loss: -578827.5000 - accuracy: 0.0000e+00\n",
            "Epoch 90/100\n",
            "64/64 [==============================] - 0s 2ms/step - loss: -580684.1250 - accuracy: 0.0000e+00\n",
            "Epoch 91/100\n",
            "64/64 [==============================] - 0s 2ms/step - loss: -582545.6250 - accuracy: 0.0000e+00\n",
            "Epoch 92/100\n",
            "64/64 [==============================] - 0s 2ms/step - loss: -584411.3750 - accuracy: 0.0000e+00\n",
            "Epoch 93/100\n",
            "64/64 [==============================] - 0s 2ms/step - loss: -586279.5625 - accuracy: 0.0000e+00\n",
            "Epoch 94/100\n",
            "64/64 [==============================] - 0s 1ms/step - loss: -588147.6250 - accuracy: 0.0000e+00\n",
            "Epoch 95/100\n",
            "64/64 [==============================] - 0s 2ms/step - loss: -590018.2500 - accuracy: 0.0000e+00\n",
            "Epoch 96/100\n",
            "64/64 [==============================] - 0s 1ms/step - loss: -591900.4375 - accuracy: 0.0000e+00\n",
            "Epoch 97/100\n",
            "64/64 [==============================] - 0s 1ms/step - loss: -593778.2500 - accuracy: 0.0000e+00\n",
            "Epoch 98/100\n",
            "64/64 [==============================] - 0s 1ms/step - loss: -595663.0625 - accuracy: 0.0000e+00\n",
            "Epoch 99/100\n",
            "64/64 [==============================] - 0s 2ms/step - loss: -597535.8125 - accuracy: 0.0000e+00\n",
            "Epoch 100/100\n",
            "64/64 [==============================] - 0s 1ms/step - loss: -599435.6875 - accuracy: 0.0000e+00\n"
          ]
        },
        {
          "output_type": "execute_result",
          "data": {
            "text/plain": [
              "<keras.callbacks.History at 0x7f9bd38b4f50>"
            ]
          },
          "metadata": {},
          "execution_count": 123
        }
      ]
    },
    {
      "cell_type": "code",
      "metadata": {
        "id": "_VNfKIuyTeMa"
      },
      "source": [
        ""
      ],
      "execution_count": 86,
      "outputs": []
    },
    {
      "cell_type": "markdown",
      "metadata": {
        "id": "ZoyQn-wZXGEL"
      },
      "source": [
        "# ***Naive Bayes***"
      ]
    },
    {
      "cell_type": "code",
      "metadata": {
        "colab": {
          "base_uri": "https://localhost:8080/"
        },
        "id": "6aPN1UIwXYVp",
        "outputId": "f946827a-245c-447a-cac1-51e9a3eb1ae9"
      },
      "source": [
        "from sklearn.naive_bayes import GaussianNB\n",
        "classifier = GaussianNB()\n",
        "classifier.fit(X_train, y_train)"
      ],
      "execution_count": 124,
      "outputs": [
        {
          "output_type": "execute_result",
          "data": {
            "text/plain": [
              "GaussianNB(priors=None, var_smoothing=1e-09)"
            ]
          },
          "metadata": {},
          "execution_count": 124
        }
      ]
    },
    {
      "cell_type": "code",
      "metadata": {
        "colab": {
          "base_uri": "https://localhost:8080/"
        },
        "id": "YMBJgTxaX5pM",
        "outputId": "4d32cc0c-aba8-4e97-b1e1-d45021c0435a"
      },
      "source": [
        "y_pred = classifier.predict(X_test)\n",
        "print(np.concatenate((y_pred.reshape(len(y_pred),1), y_test.reshape(len(y_test),1)),1))"
      ],
      "execution_count": 125,
      "outputs": [
        {
          "output_type": "stream",
          "name": "stdout",
          "text": [
            "[[13 13]\n",
            " [ 4 20]\n",
            " [13  9]\n",
            " [ 6 19]\n",
            " [12 15]\n",
            " [ 4 15]\n",
            " [ 3  5]\n",
            " [10 10]\n",
            " [10  7]\n",
            " [ 4 19]\n",
            " [13  9]\n",
            " [ 3 15]\n",
            " [ 8 18]\n",
            " [13  7]\n",
            " [ 8  7]\n",
            " [ 8  7]\n",
            " [10 19]\n",
            " [ 4  1]\n",
            " [ 6  0]\n",
            " [10  7]\n",
            " [ 8  7]\n",
            " [13  5]\n",
            " [ 4  5]\n",
            " [ 8 15]\n",
            " [ 4 18]\n",
            " [ 6 15]\n",
            " [ 8  0]\n",
            " [ 3 15]\n",
            " [13  5]\n",
            " [ 3  5]\n",
            " [ 6 15]\n",
            " [16 16]\n",
            " [13  9]\n",
            " [20 20]\n",
            " [18  2]\n",
            " [ 6 19]\n",
            " [15 15]\n",
            " [ 8 10]\n",
            " [ 3  5]\n",
            " [ 0  2]\n",
            " [ 6 12]\n",
            " [13  7]\n",
            " [ 8  2]\n",
            " [ 4 10]\n",
            " [ 4 15]\n",
            " [ 8  2]\n",
            " [10  7]\n",
            " [16 15]\n",
            " [ 8 12]\n",
            " [16  6]\n",
            " [ 8  8]\n",
            " [16 16]\n",
            " [18  2]\n",
            " [13 19]\n",
            " [ 8  2]\n",
            " [12  7]\n",
            " [15 15]\n",
            " [ 3 15]\n",
            " [ 8  4]\n",
            " [ 6  5]\n",
            " [ 8 12]\n",
            " [13  7]\n",
            " [12 12]\n",
            " [10 10]\n",
            " [ 6 15]\n",
            " [ 4 18]\n",
            " [ 6 15]\n",
            " [13  5]\n",
            " [18  2]\n",
            " [12  8]\n",
            " [19 20]\n",
            " [ 4  2]\n",
            " [ 3  9]\n",
            " [ 8 12]\n",
            " [ 4 20]\n",
            " [ 6  9]\n",
            " [13 15]\n",
            " [ 8  8]\n",
            " [ 8  2]\n",
            " [13  7]\n",
            " [18  2]\n",
            " [18  2]\n",
            " [13  7]\n",
            " [ 8  7]\n",
            " [ 8  7]\n",
            " [16 15]\n",
            " [ 6  5]\n",
            " [ 8  4]\n",
            " [ 8  7]\n",
            " [10 15]\n",
            " [ 4  4]\n",
            " [10  7]\n",
            " [ 8 12]\n",
            " [20 20]\n",
            " [13 15]\n",
            " [ 6  2]\n",
            " [ 4 16]\n",
            " [ 8  7]\n",
            " [ 4  4]\n",
            " [18  2]\n",
            " [20 20]\n",
            " [ 3 15]\n",
            " [ 8  7]\n",
            " [ 8 10]\n",
            " [ 8  5]\n",
            " [ 8  7]\n",
            " [13  7]\n",
            " [18 20]\n",
            " [19 15]\n",
            " [ 6  7]\n",
            " [ 8  7]\n",
            " [ 8  7]\n",
            " [10  7]\n",
            " [ 4 18]\n",
            " [ 6 15]\n",
            " [ 6 16]\n",
            " [10 15]\n",
            " [ 8  9]\n",
            " [20  9]\n",
            " [ 8  7]\n",
            " [ 3 12]\n",
            " [13  5]\n",
            " [13 12]\n",
            " [13 16]\n",
            " [ 8 10]\n",
            " [10 20]\n",
            " [ 3 15]\n",
            " [12  7]\n",
            " [ 6 15]\n",
            " [ 8 19]\n",
            " [12  7]\n",
            " [ 8  2]\n",
            " [13  7]\n",
            " [13 14]\n",
            " [ 8  5]\n",
            " [ 3 13]\n",
            " [ 3  9]\n",
            " [ 8  7]\n",
            " [ 4  4]\n",
            " [ 4  4]\n",
            " [20 20]\n",
            " [ 8  2]\n",
            " [16 12]\n",
            " [ 8  7]\n",
            " [18  2]\n",
            " [13  7]\n",
            " [ 2  2]\n",
            " [ 8  0]\n",
            " [ 4 12]\n",
            " [ 4  4]\n",
            " [13  5]\n",
            " [13  7]\n",
            " [ 8  7]\n",
            " [12  2]\n",
            " [ 4  9]\n",
            " [13  9]\n",
            " [ 8  7]\n",
            " [ 3 13]\n",
            " [ 2  2]\n",
            " [ 6 15]]\n"
          ]
        }
      ]
    },
    {
      "cell_type": "code",
      "metadata": {
        "id": "f1ABHXxrYYFw",
        "colab": {
          "base_uri": "https://localhost:8080/"
        },
        "outputId": "55d022eb-4351-43b9-e6a6-ba5a039ec298"
      },
      "source": [
        "from sklearn.metrics import confusion_matrix, accuracy_score\n",
        "cm = confusion_matrix(y_test, y_pred)\n",
        "print(cm)\n",
        "accuracy_score(y_test, y_pred)"
      ],
      "execution_count": 126,
      "outputs": [
        {
          "output_type": "stream",
          "name": "stdout",
          "text": [
            "[[ 0  0  0  0  0  0  1  0  2  0  0  0  0  0  0  0  0  0  0]\n",
            " [ 0  0  0  0  1  0  0  0  0  0  0  0  0  0  0  0  0  0  0]\n",
            " [ 1  0  2  0  1  0  1  0  6  0  0  1  0  0  0  0  7  0  0]\n",
            " [ 0  0  0  0  0  0  0  0  0  0  0  0  0  0  0  0  0  0  0]\n",
            " [ 0  0  0  0  5  0  0  0  2  0  0  0  0  0  0  0  0  0  0]\n",
            " [ 0  0  0  3  1  0  2  0  2  0  0  0  5  0  0  0  0  0  0]\n",
            " [ 0  0  0  0  0  0  0  0  0  0  0  0  0  0  0  1  0  0  0]\n",
            " [ 0  0  0  0  0  0  1  0 16  0  5  3  9  0  0  0  0  0  0]\n",
            " [ 0  0  0  0  0  0  0  0  2  0  0  1  0  0  0  0  0  0  0]\n",
            " [ 0  0  0  2  1  0  1  0  1  0  0  0  4  0  0  0  0  0  1]\n",
            " [ 0  0  0  0  1  0  0  0  3  0  2  0  0  0  0  0  0  0  0]\n",
            " [ 0  0  0  1  1  0  1  0  4  0  0  1  1  0  0  1  0  0  0]\n",
            " [ 0  0  0  2  0  0  0  0  0  0  0  0  1  0  0  0  0  0  0]\n",
            " [ 0  0  0  0  0  0  0  0  0  0  0  0  1  0  0  0  0  0  0]\n",
            " [ 0  0  0  5  2  0  7  0  1  0  2  1  2  0  2  2  0  1  0]\n",
            " [ 0  0  0  0  1  0  1  0  0  0  0  0  1  0  0  2  0  0  0]\n",
            " [ 0  0  0  0  3  0  0  0  1  0  0  0  0  0  0  0  0  0  0]\n",
            " [ 0  0  0  0  1  0  2  0  1  0  1  0  1  0  0  0  0  0  0]\n",
            " [ 0  0  0  0  2  0  0  0  0  0  1  0  0  0  0  0  1  1  4]]\n"
          ]
        },
        {
          "output_type": "execute_result",
          "data": {
            "text/plain": [
              "0.13125"
            ]
          },
          "metadata": {},
          "execution_count": 126
        }
      ]
    }
  ]
}