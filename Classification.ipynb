{
  "nbformat": 4,
  "nbformat_minor": 0,
  "metadata": {
    "colab": {
      "name": "Classification.ipynb",
      "provenance": [],
      "mount_file_id": "1__no8UGiTyl2nUgyp7Y0eI94nrI7H17j",
      "authorship_tag": "ABX9TyNccOcDJm9B52Nxpj0Dkde4",
      "include_colab_link": true
    },
    "kernelspec": {
      "name": "python3",
      "display_name": "Python 3"
    },
    "language_info": {
      "name": "python"
    }
  },
  "cells": [
    {
      "cell_type": "markdown",
      "metadata": {
        "id": "view-in-github",
        "colab_type": "text"
      },
      "source": [
        "<a href=\"https://colab.research.google.com/github/supuni9622/Test-Google-Colab/blob/main/Classification.ipynb\" target=\"_parent\"><img src=\"https://colab.research.google.com/assets/colab-badge.svg\" alt=\"Open In Colab\"/></a>"
      ]
    },
    {
      "cell_type": "code",
      "execution_count": 1,
      "metadata": {
        "colab": {
          "base_uri": "https://localhost:8080/"
        },
        "id": "e0ygwQ5Xjgoh",
        "outputId": "674de1ae-d0fb-4e4a-8187-b3e441825c34"
      },
      "outputs": [
        {
          "output_type": "stream",
          "name": "stdout",
          "text": [
            "/content/drive/MyDrive/4th Year Research/M3/Test Implementation/Test-Google-Colab/TestV2/TFID\n"
          ]
        }
      ],
      "source": [
        "cd /content/drive/MyDrive/4th Year Research/M3/Test Implementation/Test-Google-Colab/TestV2/TFID"
      ]
    },
    {
      "cell_type": "markdown",
      "source": [
        "Load libraries we will need"
      ],
      "metadata": {
        "id": "pXQQB3etjq18"
      }
    },
    {
      "cell_type": "code",
      "source": [
        "import pandas as pd\n",
        "import numpy as np\n",
        "from zipfile import ZipFile\n",
        "import re\n",
        "from nltk.stem.snowball import SnowballStemmer\n",
        "from sklearn.pipeline import Pipeline\n",
        "from sklearn.linear_model import LogisticRegression\n",
        "from sklearn.svm import LinearSVC\n",
        "from sklearn.linear_model import PassiveAggressiveClassifier\n",
        "from sklearn.naive_bayes import MultinomialNB\n",
        "from sklearn.feature_extraction.text import TfidfVectorizer, CountVectorizer, TfidfTransformer\n",
        "from sklearn.neighbors import KNeighborsClassifier\n",
        "from sklearn.model_selection import GridSearchCV\n",
        "from sklearn.metrics import accuracy_score, confusion_matrix, roc_auc_score\n",
        "import nltk\n",
        "from nltk.stem import WordNetLemmatizer\n",
        "from nltk import word_tokenize\n",
        "from nltk.corpus import stopwords\n",
        "import string\n",
        "from sklearn.linear_model import SGDClassifier\n",
        "import logging\n",
        "from textblob import TextBlob\n",
        "from sklearn.preprocessing import LabelEncoder\n",
        "from sklearn.model_selection import train_test_split"
      ],
      "metadata": {
        "id": "-zM--4_gjrc7"
      },
      "execution_count": 2,
      "outputs": []
    },
    {
      "cell_type": "code",
      "source": [
        "df = pd.read_csv('Lyrical_data_5.csv',encoding='cp1252')\n",
        "df = df.dropna(how=\"any\").reset_index(drop=True)"
      ],
      "metadata": {
        "id": "UIgfBKtzjyul"
      },
      "execution_count": 3,
      "outputs": []
    },
    {
      "cell_type": "code",
      "source": [
        "df.info()"
      ],
      "metadata": {
        "colab": {
          "base_uri": "https://localhost:8080/"
        },
        "id": "dZBONKzNj2xQ",
        "outputId": "fe3689e9-bf88-4f3c-9389-806514b946f2"
      },
      "execution_count": 4,
      "outputs": [
        {
          "output_type": "stream",
          "name": "stdout",
          "text": [
            "<class 'pandas.core.frame.DataFrame'>\n",
            "RangeIndex: 800 entries, 0 to 799\n",
            "Data columns (total 4 columns):\n",
            " #   Column      Non-Null Count  Dtype \n",
            "---  ------      --------------  ----- \n",
            " 0   Song_ID     800 non-null    int64 \n",
            " 1   Song_Title  800 non-null    object\n",
            " 2   Chorus      800 non-null    object\n",
            " 3   Emotion     800 non-null    object\n",
            "dtypes: int64(1), object(3)\n",
            "memory usage: 25.1+ KB\n"
          ]
        }
      ]
    },
    {
      "cell_type": "markdown",
      "source": [
        "Category Distribution"
      ],
      "metadata": {
        "id": "SltoL0xskCOu"
      }
    },
    {
      "cell_type": "code",
      "source": [
        "len(df['Emotion'].unique())"
      ],
      "metadata": {
        "colab": {
          "base_uri": "https://localhost:8080/"
        },
        "id": "7-Y_ZKRMj5MP",
        "outputId": "370993d4-5989-47dd-bcea-01e8347628db"
      },
      "execution_count": 5,
      "outputs": [
        {
          "output_type": "execute_result",
          "data": {
            "text/plain": [
              "6"
            ]
          },
          "metadata": {},
          "execution_count": 5
        }
      ]
    },
    {
      "cell_type": "code",
      "source": [
        "df['Emotion'].value_counts().plot( kind='bar', figsize=(15,10))"
      ],
      "metadata": {
        "colab": {
          "base_uri": "https://localhost:8080/",
          "height": 652
        },
        "id": "uMOMlODjkJWE",
        "outputId": "57dbf448-fd76-41c4-c95b-18b9fd3d8804"
      },
      "execution_count": 6,
      "outputs": [
        {
          "output_type": "execute_result",
          "data": {
            "text/plain": [
              "<matplotlib.axes._subplots.AxesSubplot at 0x7ff10da55f50>"
            ]
          },
          "metadata": {},
          "execution_count": 6
        },
        {
          "output_type": "display_data",
          "data": {
            "image/png": "[encoded data removed]",
            "text/plain": [
              "<Figure size 1080x720 with 1 Axes>"
            ]
          },
          "metadata": {
            "needs_background": "light"
          }
        }
      ]
    },
    {
      "cell_type": "markdown",
      "source": [
        "Data pre-processing"
      ],
      "metadata": {
        "id": "z9dlAmzokQXZ"
      }
    },
    {
      "cell_type": "code",
      "source": [
        "import nltk\n",
        "nltk.download('punkt')\n",
        "nltk.download('stopwords')\n",
        "nltk.download('wordnet')\n",
        "nltk.download('averaged_perceptron_tagger')"
      ],
      "metadata": {
        "colab": {
          "base_uri": "https://localhost:8080/"
        },
        "id": "qQ6wqd8AkNjf",
        "outputId": "733bd3ad-4fd3-4395-d5ed-d12acc6b896e"
      },
      "execution_count": 7,
      "outputs": [
        {
          "output_type": "stream",
          "name": "stdout",
          "text": [
            "[nltk_data] Downloading package punkt to /root/nltk_data...\n",
            "[nltk_data]   Unzipping tokenizers/punkt.zip.\n",
            "[nltk_data] Downloading package stopwords to /root/nltk_data...\n",
            "[nltk_data]   Unzipping corpora/stopwords.zip.\n",
            "[nltk_data] Downloading package wordnet to /root/nltk_data...\n",
            "[nltk_data]   Unzipping corpora/wordnet.zip.\n",
            "[nltk_data] Downloading package averaged_perceptron_tagger to\n",
            "[nltk_data]     /root/nltk_data...\n",
            "[nltk_data]   Unzipping taggers/averaged_perceptron_tagger.zip.\n"
          ]
        },
        {
          "output_type": "execute_result",
          "data": {
            "text/plain": [
              "True"
            ]
          },
          "metadata": {},
          "execution_count": 7
        }
      ]
    },
    {
      "cell_type": "markdown",
      "source": [
        "Function to clean, tokenize, remove stop word, and not alphanumeric from data"
      ],
      "metadata": {
        "id": "t2NywP_ZkWgT"
      }
    },
    {
      "cell_type": "code",
      "source": [
        "stop_words_ = set(stopwords.words('english'))\n",
        "wn = WordNetLemmatizer()\n",
        "\n",
        "my_sw = ['make', 'amp',  'news','new' ,'time', 'u','s', 'photos',  'get', 'say']\n",
        "def black_txt(token):\n",
        "    return  token not in stop_words_ and token not in list(string.punctuation)  and len(token)>2 and token not in my_sw\n",
        "  \n",
        "  \n",
        "def clean_txt(text):\n",
        "  clean_text = []\n",
        "  clean_text2 = []\n",
        "  text = re.sub(\"'\", \"\",text)\n",
        "  text=re.sub(\"(\\\\d|\\\\W)+\",\" \",text)    \n",
        "  clean_text = [ wn.lemmatize(word, pos=\"v\") for word in word_tokenize(text.lower()) if black_txt(word)]\n",
        "  clean_text2 = [word for word in clean_text if black_txt(word)]\n",
        "  return \" \".join(clean_text2)"
      ],
      "metadata": {
        "id": "8svG84A8kUKG"
      },
      "execution_count": 8,
      "outputs": []
    },
    {
      "cell_type": "code",
      "source": [
        "df['Chorus'] = df['Chorus'].apply(clean_txt)"
      ],
      "metadata": {
        "id": "l7vW8DsElL8B"
      },
      "execution_count": 9,
      "outputs": []
    },
    {
      "cell_type": "markdown",
      "source": [
        "Next we are going to create some news variables columns to try to improve the quaity of our classifier, we will create:\n",
        "Polarity: to check the sentiment of the text\n",
        "Subjectivity: to check if text is objective or subjective\n",
        "The number of word in the text"
      ],
      "metadata": {
        "id": "hF9XY_5gkxJ1"
      }
    },
    {
      "cell_type": "code",
      "source": [
        "blob = TextBlob((df.Chorus[0]))\n",
        "str(blob.correct())"
      ],
      "metadata": {
        "colab": {
          "base_uri": "https://localhost:8080/",
          "height": 53
        },
        "id": "Gp6xXjrbkwzK",
        "outputId": "be5a2e3e-dcb3-4d87-d857-2a59adc4ac2c"
      },
      "execution_count": 11,
      "outputs": [
        {
          "output_type": "execute_result",
          "data": {
            "application/vnd.google.colaboratory.intrinsic+json": {
              "type": "string"
            },
            "text/plain": [
              "'diana let one light fire inside eye you lonely dont even know feel cry diana let one lift heart save life dont think even realize baby you save mine'"
            ]
          },
          "metadata": {},
          "execution_count": 11
        }
      ]
    },
    {
      "cell_type": "code",
      "source": [
        "def polarity_txt(text):\n",
        "  return TextBlob(text).sentiment[0] "
      ],
      "metadata": {
        "id": "kPj1wDCulYAV"
      },
      "execution_count": 12,
      "outputs": []
    },
    {
      "cell_type": "code",
      "source": [
        "def subj_txt(text):\n",
        "  return  TextBlob(text).sentiment[1]"
      ],
      "metadata": {
        "id": "Dnk2PaDzlbi9"
      },
      "execution_count": 13,
      "outputs": []
    },
    {
      "cell_type": "code",
      "source": [
        "def len_text(text):\n",
        "  if len(text.split())>0:\n",
        "         return len(set(clean_txt(text).split()))/ len(text.split())\n",
        "  else:\n",
        "         return 0"
      ],
      "metadata": {
        "id": "WksOM0CXleGC"
      },
      "execution_count": 14,
      "outputs": []
    },
    {
      "cell_type": "code",
      "source": [
        "df['polarity'] = df['Chorus'].apply(polarity_txt)\n",
        "df.head(2)"
      ],
      "metadata": {
        "colab": {
          "base_uri": "https://localhost:8080/",
          "height": 112
        },
        "id": "VXgGESeulgwR",
        "outputId": "1325913f-2a98-4cbb-9bca-f5c6870d7bca"
      },
      "execution_count": 15,
      "outputs": [
        {
          "output_type": "execute_result",
          "data": {
            "text/html": [
              "\n",
              "  <div id=\"df-8bec7de0-349f-4dc7-989c-4aa8ea429357\">\n",
              "    <div class=\"colab-df-container\">\n",
              "      <div>\n",
              "<style scoped>\n",
              "    .dataframe tbody tr th:only-of-type {\n",
              "        vertical-align: middle;\n",
              "    }\n",
              "\n",
              "    .dataframe tbody tr th {\n",
              "        vertical-align: top;\n",
              "    }\n",
              "\n",
              "    .dataframe thead th {\n",
              "        text-align: right;\n",
              "    }\n",
              "</style>\n",
              "<table border=\"1\" class=\"dataframe\">\n",
              "  <thead>\n",
              "    <tr style=\"text-align: right;\">\n",
              "      <th></th>\n",
              "      <th>Song_ID</th>\n",
              "      <th>Song_Title</th>\n",
              "      <th>Chorus</th>\n",
              "      <th>Emotion</th>\n",
              "      <th>polarity</th>\n",
              "    </tr>\n",
              "  </thead>\n",
              "  <tbody>\n",
              "    <tr>\n",
              "      <th>0</th>\n",
              "      <td>1</td>\n",
              "      <td>Diana</td>\n",
              "      <td>diana let one light fire inside eye youve lone...</td>\n",
              "      <td>Inspiration</td>\n",
              "      <td>0.15</td>\n",
              "    </tr>\n",
              "    <tr>\n",
              "      <th>1</th>\n",
              "      <td>2</td>\n",
              "      <td>Don't forget where you belong</td>\n",
              "      <td>dont forget belong home dont forget belong hom...</td>\n",
              "      <td>Inspiration</td>\n",
              "      <td>0.00</td>\n",
              "    </tr>\n",
              "  </tbody>\n",
              "</table>\n",
              "</div>\n",
              "      <button class=\"colab-df-convert\" onclick=\"convertToInteractive('df-8bec7de0-349f-4dc7-989c-4aa8ea429357')\"\n",
              "              title=\"Convert this dataframe to an interactive table.\"\n",
              "              style=\"display:none;\">\n",
              "        \n",
              "  <svg xmlns=\"http://www.w3.org/2000/svg\" height=\"24px\"viewBox=\"0 0 24 24\"\n",
              "       width=\"24px\">\n",
              "    <path d=\"M0 0h24v24H0V0z\" fill=\"none\"/>\n",
              "    <path d=\"M18.56 5.44l.94 2.06.94-2.06 2.06-.94-2.06-.94-.94-2.06-.94 2.06-2.06.94zm-11 1L8.5 8.5l.94-2.06 2.06-.94-2.06-.94L8.5 2.5l-.94 2.06-2.06.94zm10 10l.94 2.06.94-2.06 2.06-.94-2.06-.94-.94-2.06-.94 2.06-2.06.94z\"/><path d=\"M17.41 7.96l-1.37-1.37c-.4-.4-.92-.59-1.43-.59-.52 0-1.04.2-1.43.59L10.3 9.45l-7.72 7.72c-.78.78-.78 2.05 0 2.83L4 21.41c.39.39.9.59 1.41.59.51 0 1.02-.2 1.41-.59l7.78-7.78 2.81-2.81c.8-.78.8-2.07 0-2.86zM5.41 20L4 18.59l7.72-7.72 1.47 1.35L5.41 20z\"/>\n",
              "  </svg>\n",
              "      </button>\n",
              "      \n",
              "  <style>\n",
              "    .colab-df-container {\n",
              "      display:flex;\n",
              "      flex-wrap:wrap;\n",
              "      gap: 12px;\n",
              "    }\n",
              "\n",
              "    .colab-df-convert {\n",
              "      background-color: #E8F0FE;\n",
              "      border: none;\n",
              "      border-radius: 50%;\n",
              "      cursor: pointer;\n",
              "      display: none;\n",
              "      fill: #1967D2;\n",
              "      height: 32px;\n",
              "      padding: 0 0 0 0;\n",
              "      width: 32px;\n",
              "    }\n",
              "\n",
              "    .colab-df-convert:hover {\n",
              "      background-color: #E2EBFA;\n",
              "      box-shadow: 0px 1px 2px rgba(60, 64, 67, 0.3), 0px 1px 3px 1px rgba(60, 64, 67, 0.15);\n",
              "      fill: #174EA6;\n",
              "    }\n",
              "\n",
              "    [theme=dark] .colab-df-convert {\n",
              "      background-color: #3B4455;\n",
              "      fill: #D2E3FC;\n",
              "    }\n",
              "\n",
              "    [theme=dark] .colab-df-convert:hover {\n",
              "      background-color: #434B5C;\n",
              "      box-shadow: 0px 1px 3px 1px rgba(0, 0, 0, 0.15);\n",
              "      filter: drop-shadow(0px 1px 2px rgba(0, 0, 0, 0.3));\n",
              "      fill: #FFFFFF;\n",
              "    }\n",
              "  </style>\n",
              "\n",
              "      <script>\n",
              "        const buttonEl =\n",
              "          document.querySelector('#df-8bec7de0-349f-4dc7-989c-4aa8ea429357 button.colab-df-convert');\n",
              "        buttonEl.style.display =\n",
              "          google.colab.kernel.accessAllowed ? 'block' : 'none';\n",
              "\n",
              "        async function convertToInteractive(key) {\n",
              "          const element = document.querySelector('#df-8bec7de0-349f-4dc7-989c-4aa8ea429357');\n",
              "          const dataTable =\n",
              "            await google.colab.kernel.invokeFunction('convertToInteractive',\n",
              "                                                     [key], {});\n",
              "          if (!dataTable) return;\n",
              "\n",
              "          const docLinkHtml = 'Like what you see? Visit the ' +\n",
              "            '<a target=\"_blank\" href=https://colab.research.google.com/notebooks/data_table.ipynb>data table notebook</a>'\n",
              "            + ' to learn more about interactive tables.';\n",
              "          element.innerHTML = '';\n",
              "          dataTable['output_type'] = 'display_data';\n",
              "          await google.colab.output.renderOutput(dataTable, element);\n",
              "          const docLink = document.createElement('div');\n",
              "          docLink.innerHTML = docLinkHtml;\n",
              "          element.appendChild(docLink);\n",
              "        }\n",
              "      </script>\n",
              "    </div>\n",
              "  </div>\n",
              "  "
            ],
            "text/plain": [
              "   Song_ID                     Song_Title  ...      Emotion polarity\n",
              "0        1                          Diana  ...  Inspiration     0.15\n",
              "1        2  Don't forget where you belong  ...  Inspiration     0.00\n",
              "\n",
              "[2 rows x 5 columns]"
            ]
          },
          "metadata": {},
          "execution_count": 15
        }
      ]
    },
    {
      "cell_type": "code",
      "source": [
        "df['subjectivity'] = df['Chorus'].apply(subj_txt)\n",
        "df.head(2)"
      ],
      "metadata": {
        "colab": {
          "base_uri": "https://localhost:8080/",
          "height": 112
        },
        "id": "w_Lg8Serlrcp",
        "outputId": "fc8ecca9-0218-4cca-e2f1-01f5cbf43b1f"
      },
      "execution_count": 16,
      "outputs": [
        {
          "output_type": "execute_result",
          "data": {
            "text/html": [
              "\n",
              "  <div id=\"df-0d4ff97e-e2f0-4672-9cee-7a0d9a9f42c9\">\n",
              "    <div class=\"colab-df-container\">\n",
              "      <div>\n",
              "<style scoped>\n",
              "    .dataframe tbody tr th:only-of-type {\n",
              "        vertical-align: middle;\n",
              "    }\n",
              "\n",
              "    .dataframe tbody tr th {\n",
              "        vertical-align: top;\n",
              "    }\n",
              "\n",
              "    .dataframe thead th {\n",
              "        text-align: right;\n",
              "    }\n",
              "</style>\n",
              "<table border=\"1\" class=\"dataframe\">\n",
              "  <thead>\n",
              "    <tr style=\"text-align: right;\">\n",
              "      <th></th>\n",
              "      <th>Song_ID</th>\n",
              "      <th>Song_Title</th>\n",
              "      <th>Chorus</th>\n",
              "      <th>Emotion</th>\n",
              "      <th>polarity</th>\n",
              "      <th>subjectivity</th>\n",
              "    </tr>\n",
              "  </thead>\n",
              "  <tbody>\n",
              "    <tr>\n",
              "      <th>0</th>\n",
              "      <td>1</td>\n",
              "      <td>Diana</td>\n",
              "      <td>diana let one light fire inside eye youve lone...</td>\n",
              "      <td>Inspiration</td>\n",
              "      <td>0.15</td>\n",
              "      <td>0.7</td>\n",
              "    </tr>\n",
              "    <tr>\n",
              "      <th>1</th>\n",
              "      <td>2</td>\n",
              "      <td>Don't forget where you belong</td>\n",
              "      <td>dont forget belong home dont forget belong hom...</td>\n",
              "      <td>Inspiration</td>\n",
              "      <td>0.00</td>\n",
              "      <td>0.0</td>\n",
              "    </tr>\n",
              "  </tbody>\n",
              "</table>\n",
              "</div>\n",
              "      <button class=\"colab-df-convert\" onclick=\"convertToInteractive('df-0d4ff97e-e2f0-4672-9cee-7a0d9a9f42c9')\"\n",
              "              title=\"Convert this dataframe to an interactive table.\"\n",
              "              style=\"display:none;\">\n",
              "        \n",
              "  <svg xmlns=\"http://www.w3.org/2000/svg\" height=\"24px\"viewBox=\"0 0 24 24\"\n",
              "       width=\"24px\">\n",
              "    <path d=\"M0 0h24v24H0V0z\" fill=\"none\"/>\n",
              "    <path d=\"M18.56 5.44l.94 2.06.94-2.06 2.06-.94-2.06-.94-.94-2.06-.94 2.06-2.06.94zm-11 1L8.5 8.5l.94-2.06 2.06-.94-2.06-.94L8.5 2.5l-.94 2.06-2.06.94zm10 10l.94 2.06.94-2.06 2.06-.94-2.06-.94-.94-2.06-.94 2.06-2.06.94z\"/><path d=\"M17.41 7.96l-1.37-1.37c-.4-.4-.92-.59-1.43-.59-.52 0-1.04.2-1.43.59L10.3 9.45l-7.72 7.72c-.78.78-.78 2.05 0 2.83L4 21.41c.39.39.9.59 1.41.59.51 0 1.02-.2 1.41-.59l7.78-7.78 2.81-2.81c.8-.78.8-2.07 0-2.86zM5.41 20L4 18.59l7.72-7.72 1.47 1.35L5.41 20z\"/>\n",
              "  </svg>\n",
              "      </button>\n",
              "      \n",
              "  <style>\n",
              "    .colab-df-container {\n",
              "      display:flex;\n",
              "      flex-wrap:wrap;\n",
              "      gap: 12px;\n",
              "    }\n",
              "\n",
              "    .colab-df-convert {\n",
              "      background-color: #E8F0FE;\n",
              "      border: none;\n",
              "      border-radius: 50%;\n",
              "      cursor: pointer;\n",
              "      display: none;\n",
              "      fill: #1967D2;\n",
              "      height: 32px;\n",
              "      padding: 0 0 0 0;\n",
              "      width: 32px;\n",
              "    }\n",
              "\n",
              "    .colab-df-convert:hover {\n",
              "      background-color: #E2EBFA;\n",
              "      box-shadow: 0px 1px 2px rgba(60, 64, 67, 0.3), 0px 1px 3px 1px rgba(60, 64, 67, 0.15);\n",
              "      fill: #174EA6;\n",
              "    }\n",
              "\n",
              "    [theme=dark] .colab-df-convert {\n",
              "      background-color: #3B4455;\n",
              "      fill: #D2E3FC;\n",
              "    }\n",
              "\n",
              "    [theme=dark] .colab-df-convert:hover {\n",
              "      background-color: #434B5C;\n",
              "      box-shadow: 0px 1px 3px 1px rgba(0, 0, 0, 0.15);\n",
              "      filter: drop-shadow(0px 1px 2px rgba(0, 0, 0, 0.3));\n",
              "      fill: #FFFFFF;\n",
              "    }\n",
              "  </style>\n",
              "\n",
              "      <script>\n",
              "        const buttonEl =\n",
              "          document.querySelector('#df-0d4ff97e-e2f0-4672-9cee-7a0d9a9f42c9 button.colab-df-convert');\n",
              "        buttonEl.style.display =\n",
              "          google.colab.kernel.accessAllowed ? 'block' : 'none';\n",
              "\n",
              "        async function convertToInteractive(key) {\n",
              "          const element = document.querySelector('#df-0d4ff97e-e2f0-4672-9cee-7a0d9a9f42c9');\n",
              "          const dataTable =\n",
              "            await google.colab.kernel.invokeFunction('convertToInteractive',\n",
              "                                                     [key], {});\n",
              "          if (!dataTable) return;\n",
              "\n",
              "          const docLinkHtml = 'Like what you see? Visit the ' +\n",
              "            '<a target=\"_blank\" href=https://colab.research.google.com/notebooks/data_table.ipynb>data table notebook</a>'\n",
              "            + ' to learn more about interactive tables.';\n",
              "          element.innerHTML = '';\n",
              "          dataTable['output_type'] = 'display_data';\n",
              "          await google.colab.output.renderOutput(dataTable, element);\n",
              "          const docLink = document.createElement('div');\n",
              "          docLink.innerHTML = docLinkHtml;\n",
              "          element.appendChild(docLink);\n",
              "        }\n",
              "      </script>\n",
              "    </div>\n",
              "  </div>\n",
              "  "
            ],
            "text/plain": [
              "   Song_ID                     Song_Title  ... polarity subjectivity\n",
              "0        1                          Diana  ...     0.15          0.7\n",
              "1        2  Don't forget where you belong  ...     0.00          0.0\n",
              "\n",
              "[2 rows x 6 columns]"
            ]
          },
          "metadata": {},
          "execution_count": 16
        }
      ]
    },
    {
      "cell_type": "code",
      "source": [
        "df['len'] = df['Chorus'].apply(len_text)\n",
        "df.head(2)"
      ],
      "metadata": {
        "colab": {
          "base_uri": "https://localhost:8080/",
          "height": 173
        },
        "id": "zgjZ5hS4l2Fs",
        "outputId": "d721e82d-4ee7-42e8-b23b-0d5dcc1778e5"
      },
      "execution_count": 17,
      "outputs": [
        {
          "output_type": "execute_result",
          "data": {
            "text/html": [
              "\n",
              "  <div id=\"df-a74db66d-f3c5-4bad-afb3-fd0dafa6989e\">\n",
              "    <div class=\"colab-df-container\">\n",
              "      <div>\n",
              "<style scoped>\n",
              "    .dataframe tbody tr th:only-of-type {\n",
              "        vertical-align: middle;\n",
              "    }\n",
              "\n",
              "    .dataframe tbody tr th {\n",
              "        vertical-align: top;\n",
              "    }\n",
              "\n",
              "    .dataframe thead th {\n",
              "        text-align: right;\n",
              "    }\n",
              "</style>\n",
              "<table border=\"1\" class=\"dataframe\">\n",
              "  <thead>\n",
              "    <tr style=\"text-align: right;\">\n",
              "      <th></th>\n",
              "      <th>Song_ID</th>\n",
              "      <th>Song_Title</th>\n",
              "      <th>Chorus</th>\n",
              "      <th>Emotion</th>\n",
              "      <th>polarity</th>\n",
              "      <th>subjectivity</th>\n",
              "      <th>len</th>\n",
              "    </tr>\n",
              "  </thead>\n",
              "  <tbody>\n",
              "    <tr>\n",
              "      <th>0</th>\n",
              "      <td>1</td>\n",
              "      <td>Diana</td>\n",
              "      <td>diana let one light fire inside eye youve lone...</td>\n",
              "      <td>Inspiration</td>\n",
              "      <td>0.15</td>\n",
              "      <td>0.7</td>\n",
              "      <td>0.793103</td>\n",
              "    </tr>\n",
              "    <tr>\n",
              "      <th>1</th>\n",
              "      <td>2</td>\n",
              "      <td>Don't forget where you belong</td>\n",
              "      <td>dont forget belong home dont forget belong hom...</td>\n",
              "      <td>Inspiration</td>\n",
              "      <td>0.00</td>\n",
              "      <td>0.0</td>\n",
              "      <td>0.666667</td>\n",
              "    </tr>\n",
              "  </tbody>\n",
              "</table>\n",
              "</div>\n",
              "      <button class=\"colab-df-convert\" onclick=\"convertToInteractive('df-a74db66d-f3c5-4bad-afb3-fd0dafa6989e')\"\n",
              "              title=\"Convert this dataframe to an interactive table.\"\n",
              "              style=\"display:none;\">\n",
              "        \n",
              "  <svg xmlns=\"http://www.w3.org/2000/svg\" height=\"24px\"viewBox=\"0 0 24 24\"\n",
              "       width=\"24px\">\n",
              "    <path d=\"M0 0h24v24H0V0z\" fill=\"none\"/>\n",
              "    <path d=\"M18.56 5.44l.94 2.06.94-2.06 2.06-.94-2.06-.94-.94-2.06-.94 2.06-2.06.94zm-11 1L8.5 8.5l.94-2.06 2.06-.94-2.06-.94L8.5 2.5l-.94 2.06-2.06.94zm10 10l.94 2.06.94-2.06 2.06-.94-2.06-.94-.94-2.06-.94 2.06-2.06.94z\"/><path d=\"M17.41 7.96l-1.37-1.37c-.4-.4-.92-.59-1.43-.59-.52 0-1.04.2-1.43.59L10.3 9.45l-7.72 7.72c-.78.78-.78 2.05 0 2.83L4 21.41c.39.39.9.59 1.41.59.51 0 1.02-.2 1.41-.59l7.78-7.78 2.81-2.81c.8-.78.8-2.07 0-2.86zM5.41 20L4 18.59l7.72-7.72 1.47 1.35L5.41 20z\"/>\n",
              "  </svg>\n",
              "      </button>\n",
              "      \n",
              "  <style>\n",
              "    .colab-df-container {\n",
              "      display:flex;\n",
              "      flex-wrap:wrap;\n",
              "      gap: 12px;\n",
              "    }\n",
              "\n",
              "    .colab-df-convert {\n",
              "      background-color: #E8F0FE;\n",
              "      border: none;\n",
              "      border-radius: 50%;\n",
              "      cursor: pointer;\n",
              "      display: none;\n",
              "      fill: #1967D2;\n",
              "      height: 32px;\n",
              "      padding: 0 0 0 0;\n",
              "      width: 32px;\n",
              "    }\n",
              "\n",
              "    .colab-df-convert:hover {\n",
              "      background-color: #E2EBFA;\n",
              "      box-shadow: 0px 1px 2px rgba(60, 64, 67, 0.3), 0px 1px 3px 1px rgba(60, 64, 67, 0.15);\n",
              "      fill: #174EA6;\n",
              "    }\n",
              "\n",
              "    [theme=dark] .colab-df-convert {\n",
              "      background-color: #3B4455;\n",
              "      fill: #D2E3FC;\n",
              "    }\n",
              "\n",
              "    [theme=dark] .colab-df-convert:hover {\n",
              "      background-color: #434B5C;\n",
              "      box-shadow: 0px 1px 3px 1px rgba(0, 0, 0, 0.15);\n",
              "      filter: drop-shadow(0px 1px 2px rgba(0, 0, 0, 0.3));\n",
              "      fill: #FFFFFF;\n",
              "    }\n",
              "  </style>\n",
              "\n",
              "      <script>\n",
              "        const buttonEl =\n",
              "          document.querySelector('#df-a74db66d-f3c5-4bad-afb3-fd0dafa6989e button.colab-df-convert');\n",
              "        buttonEl.style.display =\n",
              "          google.colab.kernel.accessAllowed ? 'block' : 'none';\n",
              "\n",
              "        async function convertToInteractive(key) {\n",
              "          const element = document.querySelector('#df-a74db66d-f3c5-4bad-afb3-fd0dafa6989e');\n",
              "          const dataTable =\n",
              "            await google.colab.kernel.invokeFunction('convertToInteractive',\n",
              "                                                     [key], {});\n",
              "          if (!dataTable) return;\n",
              "\n",
              "          const docLinkHtml = 'Like what you see? Visit the ' +\n",
              "            '<a target=\"_blank\" href=https://colab.research.google.com/notebooks/data_table.ipynb>data table notebook</a>'\n",
              "            + ' to learn more about interactive tables.';\n",
              "          element.innerHTML = '';\n",
              "          dataTable['output_type'] = 'display_data';\n",
              "          await google.colab.output.renderOutput(dataTable, element);\n",
              "          const docLink = document.createElement('div');\n",
              "          docLink.innerHTML = docLinkHtml;\n",
              "          element.appendChild(docLink);\n",
              "        }\n",
              "      </script>\n",
              "    </div>\n",
              "  </div>\n",
              "  "
            ],
            "text/plain": [
              "   Song_ID                     Song_Title  ... subjectivity       len\n",
              "0        1                          Diana  ...          0.7  0.793103\n",
              "1        2  Don't forget where you belong  ...          0.0  0.666667\n",
              "\n",
              "[2 rows x 7 columns]"
            ]
          },
          "metadata": {},
          "execution_count": 17
        }
      ]
    },
    {
      "cell_type": "markdown",
      "source": [
        "**Make the Custom class for feature union Transformer of sklearn**"
      ],
      "metadata": {
        "id": "QppOgTXzl_hD"
      }
    },
    {
      "cell_type": "code",
      "source": [
        "from sklearn.base import BaseEstimator, TransformerMixin\n",
        "from sklearn.pipeline import FeatureUnion\n",
        "from sklearn.feature_extraction import DictVectorizer\n",
        "class ItemSelector(BaseEstimator, TransformerMixin):\n",
        "    def __init__(self, key):\n",
        "        self.key = key\n",
        "\n",
        "    def fit(self, x, y=None):\n",
        "        return self\n",
        "\n",
        "    def transform(self, data_dict):\n",
        "        return data_dict[self.key]\n",
        "\n",
        "\n",
        "class TextStats(BaseEstimator, TransformerMixin):\n",
        "    \"\"\"Extract features from each document for DictVectorizer\"\"\"\n",
        "\n",
        "    def fit(self, x, y=None):\n",
        "        return self\n",
        "\n",
        "    def transform(self, data):\n",
        "        return [{'pos':  row['polarity'], 'sub': row['subjectivity'],  'len': row['len']} for _, row in data.iterrows()]"
      ],
      "metadata": {
        "id": "hOYxNeRVl7zV"
      },
      "execution_count": 18,
      "outputs": []
    },
    {
      "cell_type": "markdown",
      "source": [
        "**Make our Custom Pipeline**"
      ],
      "metadata": {
        "id": "WntQf8BDmMGl"
      }
    },
    {
      "cell_type": "code",
      "source": [
        "pipeline = Pipeline([\n",
        "    ('union', FeatureUnion(\n",
        "        transformer_list=[\n",
        "\n",
        "            # Pipeline for pulling features from the text\n",
        "            ('Chorus', Pipeline([\n",
        "                ('selector', ItemSelector(key='Chorus')),\n",
        "                ('tfidf', TfidfVectorizer( min_df =3, max_df=0.2, max_features=None, \n",
        "                    strip_accents='unicode', analyzer='word',token_pattern=r'\\w{1,}',\n",
        "                    ngram_range=(1, 10), use_idf=1,smooth_idf=1,sublinear_tf=1,\n",
        "                    stop_words = None, preprocessor=clean_txt)),\n",
        "            ])),\n",
        "\n",
        "            # Pipeline for pulling metadata features\n",
        "            ('stats', Pipeline([\n",
        "                ('selector', ItemSelector(key=['polarity', 'subjectivity', 'len'])),\n",
        "                ('stats', TextStats()),  # returns a list of dicts\n",
        "                ('vect', DictVectorizer()),  # list of dicts -> feature matrix\n",
        "            ])),\n",
        "\n",
        "        ],\n",
        "\n",
        "        # weight components in FeatureUnion\n",
        "        transformer_weights={\n",
        "            'Chorus': 0.9,\n",
        "            'stats': 1.5,\n",
        "        },\n",
        "    ))\n",
        "])"
      ],
      "metadata": {
        "id": "9lWYq1eqmNs_"
      },
      "execution_count": 25,
      "outputs": []
    },
    {
      "cell_type": "markdown",
      "source": [
        "Build the pipeline"
      ],
      "metadata": {
        "id": "GTuf6zptmUZs"
      }
    },
    {
      "cell_type": "code",
      "source": [
        "from sklearn.preprocessing import LabelEncoder\n",
        "from sklearn.model_selection import train_test_split\n",
        "seed = 40\n",
        "X = df[['Chorus', 'polarity', 'subjectivity','len']]\n",
        "y =df['Emotion']\n",
        "encoder = LabelEncoder()\n",
        "y = encoder.fit_transform(y)\n",
        "x_train, x_test, y_train, y_test = train_test_split(X, y, test_size=0.2, random_state=seed, stratify=y)"
      ],
      "metadata": {
        "id": "nrZTW4gtmU4E"
      },
      "execution_count": 26,
      "outputs": []
    },
    {
      "cell_type": "code",
      "source": [
        "pipeline.fit(x_train)"
      ],
      "metadata": {
        "colab": {
          "base_uri": "https://localhost:8080/"
        },
        "id": "uwfS38Ewmlnb",
        "outputId": "26b763fb-bd51-4e23-d175-b99cf843a8f3"
      },
      "execution_count": 27,
      "outputs": [
        {
          "output_type": "execute_result",
          "data": {
            "text/plain": [
              "Pipeline(steps=[('union',\n",
              "                 FeatureUnion(transformer_list=[('Chorus',\n",
              "                                                 Pipeline(steps=[('selector',\n",
              "                                                                  ItemSelector(key='Chorus')),\n",
              "                                                                 ('tfidf',\n",
              "                                                                  TfidfVectorizer(max_df=0.2,\n",
              "                                                                                  min_df=3,\n",
              "                                                                                  ngram_range=(1,\n",
              "                                                                                               10),\n",
              "                                                                                  preprocessor=<function clean_txt at 0x7ff10d055f80>,\n",
              "                                                                                  smooth_idf=1,\n",
              "                                                                                  strip_accents='unicode',\n",
              "                                                                                  sublinear_tf=1,\n",
              "                                                                                  token_pattern='\\\\w{1,}',\n",
              "                                                                                  use_idf=1))])),\n",
              "                                                ('stats',\n",
              "                                                 Pipeline(steps=[('selector',\n",
              "                                                                  ItemSelector(key=['polarity',\n",
              "                                                                                    'subjectivity',\n",
              "                                                                                    'len'])),\n",
              "                                                                 ('stats',\n",
              "                                                                  TextStats()),\n",
              "                                                                 ('vect',\n",
              "                                                                  DictVectorizer())]))],\n",
              "                              transformer_weights={'Chorus': 0.9,\n",
              "                                                   'stats': 1.5}))])"
            ]
          },
          "metadata": {},
          "execution_count": 27
        }
      ]
    },
    {
      "cell_type": "markdown",
      "source": [
        "Transform and train the ML models"
      ],
      "metadata": {
        "id": "iXnvx0NgnDgj"
      }
    },
    {
      "cell_type": "code",
      "source": [
        "%%time\n",
        "train_vec = pipeline.transform(x_train)\n",
        "test_vec = pipeline.transform(x_test)\n",
        "print(\"Checking that the number of features in train and test correspond: %s - %s\" % (train_vec.shape, test_vec.shape))"
      ],
      "metadata": {
        "colab": {
          "base_uri": "https://localhost:8080/"
        },
        "id": "SxhpeSSznD76",
        "outputId": "6eb55bdf-a298-4e26-aab3-711efa489a06"
      },
      "execution_count": 28,
      "outputs": [
        {
          "output_type": "stream",
          "name": "stdout",
          "text": [
            "Checking that the number of features in train and test correspond: (640, 1301) - (160, 1301)\n",
            "CPU times: user 591 ms, sys: 0 ns, total: 591 ms\n",
            "Wall time: 598 ms\n"
          ]
        }
      ]
    },
    {
      "cell_type": "code",
      "source": [
        "clf_sv = LinearSVC(C=1, class_weight='balanced', multi_class='ovr', random_state=40, max_iter=10000) #Support Vector machines\n",
        "clf_sgd = SGDClassifier(max_iter=200,) # Stochastic Gradient Classifier"
      ],
      "metadata": {
        "id": "_QSzzVwlnLSg"
      },
      "execution_count": 29,
      "outputs": []
    },
    {
      "cell_type": "code",
      "source": [
        "%%time\n",
        "from sklearn.model_selection import cross_val_score\n",
        "\n",
        "clfs = [clf_sv, clf_sgd]\n",
        "cv = 6\n",
        "for clf in clfs:\n",
        "    scores = cross_val_score(clf,train_vec, y_train, cv=cv, scoring=\"accuracy\" )\n",
        "    print (scores)\n",
        "    print ((\"Mean score: {0:.3f} (+/-{1:.3f})\").format(\n",
        "        np.mean(scores), np.std(scores)))"
      ],
      "metadata": {
        "colab": {
          "base_uri": "https://localhost:8080/"
        },
        "id": "fHPwvFyQnOld",
        "outputId": "8db18bc0-8f88-472b-86e8-b89683b3205c"
      },
      "execution_count": 32,
      "outputs": [
        {
          "output_type": "stream",
          "name": "stdout",
          "text": [
            "[0.5046729  0.47663551 0.57009346 0.46728972 0.41509434 0.47169811]\n",
            "Mean score: 0.484 (+/-0.047)\n",
            "[0.41121495 0.44859813 0.5046729  0.42056075 0.36792453 0.44339623]\n",
            "Mean score: 0.433 (+/-0.042)\n",
            "CPU times: user 234 ms, sys: 0 ns, total: 234 ms\n",
            "Wall time: 234 ms\n"
          ]
        }
      ]
    },
    {
      "cell_type": "code",
      "source": [
        "%%time\n",
        "from sklearn.metrics import classification_report\n",
        "clf_sv.fit(train_vec, y_train )\n",
        "y_pred = clf_sv.predict(test_vec)\n",
        "list_result =[]\n",
        "list_result.append((\"SVC\",accuracy_score(y_test, y_pred)))\n",
        "clf_sgd.fit(train_vec, y_train )\n",
        "y_pred = clf_sgd.predict(test_vec)\n",
        "list_result.append((\"SGD\",accuracy_score(y_test, y_pred)))"
      ],
      "metadata": {
        "colab": {
          "base_uri": "https://localhost:8080/"
        },
        "id": "zKfr5SZ5ncF4",
        "outputId": "0d8a6eab-2f0f-4341-a3bc-fdc36b04f938"
      },
      "execution_count": 33,
      "outputs": [
        {
          "output_type": "stream",
          "name": "stdout",
          "text": [
            "CPU times: user 48.6 ms, sys: 823 µs, total: 49.4 ms\n",
            "Wall time: 51.2 ms\n"
          ]
        }
      ]
    },
    {
      "cell_type": "markdown",
      "source": [
        "**Deep Learning and Spacy Models**"
      ],
      "metadata": {
        "id": "GACRGUvKn0qD"
      }
    },
    {
      "cell_type": "code",
      "source": [
        "import spacy\n",
        "!python -m spacy download en_core_web_lg"
      ],
      "metadata": {
        "colab": {
          "base_uri": "https://localhost:8080/"
        },
        "id": "H7guFR8vn3Ry",
        "outputId": "a8799921-5acc-43b7-a0e0-a9f7665a11eb"
      },
      "execution_count": 34,
      "outputs": [
        {
          "output_type": "stream",
          "name": "stdout",
          "text": [
            "Collecting en_core_web_lg==2.2.5\n",
            "  Downloading https://github.com/explosion/spacy-models/releases/download/en_core_web_lg-2.2.5/en_core_web_lg-2.2.5.tar.gz (827.9 MB)\n",
            "\u001b[K     |████████████████████████████████| 827.9 MB 1.3 MB/s \n",
            "\u001b[?25hRequirement already satisfied: spacy>=2.2.2 in /usr/local/lib/python3.7/dist-packages (from en_core_web_lg==2.2.5) (2.2.4)\n",
            "Requirement already satisfied: murmurhash<1.1.0,>=0.28.0 in /usr/local/lib/python3.7/dist-packages (from spacy>=2.2.2->en_core_web_lg==2.2.5) (1.0.6)\n",
            "Requirement already satisfied: wasabi<1.1.0,>=0.4.0 in /usr/local/lib/python3.7/dist-packages (from spacy>=2.2.2->en_core_web_lg==2.2.5) (0.9.0)\n",
            "Requirement already satisfied: requests<3.0.0,>=2.13.0 in /usr/local/lib/python3.7/dist-packages (from spacy>=2.2.2->en_core_web_lg==2.2.5) (2.23.0)\n",
            "Requirement already satisfied: blis<0.5.0,>=0.4.0 in /usr/local/lib/python3.7/dist-packages (from spacy>=2.2.2->en_core_web_lg==2.2.5) (0.4.1)\n",
            "Requirement already satisfied: srsly<1.1.0,>=1.0.2 in /usr/local/lib/python3.7/dist-packages (from spacy>=2.2.2->en_core_web_lg==2.2.5) (1.0.5)\n",
            "Requirement already satisfied: thinc==7.4.0 in /usr/local/lib/python3.7/dist-packages (from spacy>=2.2.2->en_core_web_lg==2.2.5) (7.4.0)\n",
            "Requirement already satisfied: numpy>=1.15.0 in /usr/local/lib/python3.7/dist-packages (from spacy>=2.2.2->en_core_web_lg==2.2.5) (1.19.5)\n",
            "Requirement already satisfied: preshed<3.1.0,>=3.0.2 in /usr/local/lib/python3.7/dist-packages (from spacy>=2.2.2->en_core_web_lg==2.2.5) (3.0.6)\n",
            "Requirement already satisfied: setuptools in /usr/local/lib/python3.7/dist-packages (from spacy>=2.2.2->en_core_web_lg==2.2.5) (57.4.0)\n",
            "Requirement already satisfied: plac<1.2.0,>=0.9.6 in /usr/local/lib/python3.7/dist-packages (from spacy>=2.2.2->en_core_web_lg==2.2.5) (1.1.3)\n",
            "Requirement already satisfied: tqdm<5.0.0,>=4.38.0 in /usr/local/lib/python3.7/dist-packages (from spacy>=2.2.2->en_core_web_lg==2.2.5) (4.62.3)\n",
            "Requirement already satisfied: cymem<2.1.0,>=2.0.2 in /usr/local/lib/python3.7/dist-packages (from spacy>=2.2.2->en_core_web_lg==2.2.5) (2.0.6)\n",
            "Requirement already satisfied: catalogue<1.1.0,>=0.0.7 in /usr/local/lib/python3.7/dist-packages (from spacy>=2.2.2->en_core_web_lg==2.2.5) (1.0.0)\n",
            "Requirement already satisfied: importlib-metadata>=0.20 in /usr/local/lib/python3.7/dist-packages (from catalogue<1.1.0,>=0.0.7->spacy>=2.2.2->en_core_web_lg==2.2.5) (4.10.0)\n",
            "Requirement already satisfied: typing-extensions>=3.6.4 in /usr/local/lib/python3.7/dist-packages (from importlib-metadata>=0.20->catalogue<1.1.0,>=0.0.7->spacy>=2.2.2->en_core_web_lg==2.2.5) (3.10.0.2)\n",
            "Requirement already satisfied: zipp>=0.5 in /usr/local/lib/python3.7/dist-packages (from importlib-metadata>=0.20->catalogue<1.1.0,>=0.0.7->spacy>=2.2.2->en_core_web_lg==2.2.5) (3.7.0)\n",
            "Requirement already satisfied: chardet<4,>=3.0.2 in /usr/local/lib/python3.7/dist-packages (from requests<3.0.0,>=2.13.0->spacy>=2.2.2->en_core_web_lg==2.2.5) (3.0.4)\n",
            "Requirement already satisfied: urllib3!=1.25.0,!=1.25.1,<1.26,>=1.21.1 in /usr/local/lib/python3.7/dist-packages (from requests<3.0.0,>=2.13.0->spacy>=2.2.2->en_core_web_lg==2.2.5) (1.24.3)\n",
            "Requirement already satisfied: certifi>=2017.4.17 in /usr/local/lib/python3.7/dist-packages (from requests<3.0.0,>=2.13.0->spacy>=2.2.2->en_core_web_lg==2.2.5) (2021.10.8)\n",
            "Requirement already satisfied: idna<3,>=2.5 in /usr/local/lib/python3.7/dist-packages (from requests<3.0.0,>=2.13.0->spacy>=2.2.2->en_core_web_lg==2.2.5) (2.10)\n",
            "Building wheels for collected packages: en-core-web-lg\n",
            "  Building wheel for en-core-web-lg (setup.py) ... \u001b[?25l\u001b[?25hdone\n",
            "  Created wheel for en-core-web-lg: filename=en_core_web_lg-2.2.5-py3-none-any.whl size=829180942 sha256=cc867099d79fbe12291923a2948cf1c8a5ec3661d67c80d16e6976174a5f95b7\n",
            "  Stored in directory: /tmp/pip-ephem-wheel-cache-wmw24olj/wheels/11/95/ba/2c36cc368c0bd339b44a791c2c1881a1fb714b78c29a4cb8f5\n",
            "Successfully built en-core-web-lg\n",
            "Installing collected packages: en-core-web-lg\n",
            "Successfully installed en-core-web-lg-2.2.5\n",
            "\u001b[38;5;2m✔ Download and installation successful\u001b[0m\n",
            "You can now load the model via spacy.load('en_core_web_lg')\n"
          ]
        }
      ]
    },
    {
      "cell_type": "code",
      "source": [
        "import en_core_web_lg\n",
        "nlp = en_core_web_lg.load()"
      ],
      "metadata": {
        "id": "UEdSUXRwonxa"
      },
      "execution_count": 37,
      "outputs": []
    },
    {
      "cell_type": "code",
      "source": [
        "from keras.preprocessing.text import Tokenizer\n",
        "from keras.models import Sequential\n",
        "from keras.layers import Activation, Dense, Dropout, LSTM, Embedding\n",
        "from sklearn.preprocessing import LabelBinarizer\n",
        "from keras.preprocessing.text import Tokenizer, text_to_word_sequence\n",
        "from keras.preprocessing.sequence import pad_sequences\n",
        "from keras.utils import np_utils\n",
        "from keras.layers import Dense, Input, LSTM, Bidirectional, Activation, Conv1D, GRU, TimeDistributed\n",
        "from keras.layers import Dropout, Embedding, GlobalMaxPooling1D, MaxPooling1D, Add, Flatten, SpatialDropout1D\n",
        "from keras.layers import GlobalAveragePooling1D, BatchNormalization, concatenate\n",
        "from keras.layers import Reshape, merge, Concatenate, Lambda, Average\n",
        "from keras import backend as K\n",
        "from keras import initializers, regularizers, constraints"
      ],
      "metadata": {
        "id": "UE6TstABo88l"
      },
      "execution_count": 43,
      "outputs": []
    },
    {
      "cell_type": "markdown",
      "source": [
        "Using TensorFlow backend."
      ],
      "metadata": {
        "id": "TejSWblZpfmD"
      }
    },
    {
      "cell_type": "code",
      "source": [
        "from sklearn.model_selection import train_test_split\n",
        "import time\n",
        "X = df['Chorus']\n",
        "y =df['Emotion']\n",
        "encoder = LabelEncoder()\n",
        "y = encoder.fit_transform(y)\n",
        "Y = np_utils.to_categorical(y)\n",
        "##Create the tf-idf vector\n",
        "vectorizer = TfidfVectorizer( min_df =3, max_df=0.2, max_features=None, \n",
        "            strip_accents='unicode', analyzer='word',token_pattern=r'\\w{1,}',\n",
        "            use_idf=1,smooth_idf=1,sublinear_tf=1,\n",
        "            stop_words = None, preprocessor=clean_txt)"
      ],
      "metadata": {
        "id": "6zDYRi0Fpe59"
      },
      "execution_count": 45,
      "outputs": []
    },
    {
      "cell_type": "code",
      "source": [
        "seed = 40\n",
        "x_train, x_test, y_train, y_test = train_test_split(X, Y, test_size=0.2, random_state=seed, stratify =y)\n",
        "vectorizer.fit(x_train)"
      ],
      "metadata": {
        "colab": {
          "base_uri": "https://localhost:8080/"
        },
        "id": "HV6-1AKLpsJk",
        "outputId": "b8d71d1c-cbb0-447f-c966-b02c11359a32"
      },
      "execution_count": 46,
      "outputs": [
        {
          "output_type": "execute_result",
          "data": {
            "text/plain": [
              "TfidfVectorizer(max_df=0.2, min_df=3,\n",
              "                preprocessor=<function clean_txt at 0x7ff10d055f80>,\n",
              "                smooth_idf=1, strip_accents='unicode', sublinear_tf=1,\n",
              "                token_pattern='\\\\w{1,}', use_idf=1)"
            ]
          },
          "metadata": {},
          "execution_count": 46
        }
      ]
    },
    {
      "cell_type": "code",
      "source": [
        "word2idx = {word: idx for idx, word in enumerate(vectorizer.get_feature_names())}\n",
        "tokenize = vectorizer.build_tokenizer()\n",
        "preprocess = vectorizer.build_preprocessor()\n",
        " \n",
        "def to_sequence(tokenizer, preprocessor, index, text):\n",
        "    words = tokenizer(preprocessor(text))\n",
        "    indexes = [index[word] for word in words if word in index]\n",
        "    return indexes\n",
        "\n",
        "X_train_sequences = [to_sequence(tokenize, preprocess, word2idx, x) for x in x_train]\n",
        "print(X_train_sequences[0])"
      ],
      "metadata": {
        "colab": {
          "base_uri": "https://localhost:8080/"
        },
        "id": "8WU2sZJPpvqY",
        "outputId": "97029b69-6975-4f78-c4d3-e0632087dc57"
      },
      "execution_count": 47,
      "outputs": [
        {
          "output_type": "stream",
          "name": "stderr",
          "text": [
            "/usr/local/lib/python3.7/dist-packages/sklearn/utils/deprecation.py:87: FutureWarning: Function get_feature_names is deprecated; get_feature_names is deprecated in 1.0 and will be removed in 1.2. Please use get_feature_names_out instead.\n",
            "  warnings.warn(msg, category=FutureWarning)\n"
          ]
        },
        {
          "output_type": "stream",
          "name": "stdout",
          "text": [
            "[80, 297, 214, 5, 844, 614, 671, 702, 131, 614, 760, 608, 165, 493, 215, 607, 766, 764, 749, 305, 180, 760, 215, 608, 760]\n"
          ]
        }
      ]
    },
    {
      "cell_type": "code",
      "source": [
        "# Compute the max lenght of a text\n",
        "\n",
        "MAX_SEQ_LENGHT=60\n",
        "\n",
        "N_FEATURES = len(vectorizer.get_feature_names())\n",
        "X_train_sequences = pad_sequences(X_train_sequences, maxlen=MAX_SEQ_LENGHT, value=N_FEATURES)\n",
        "print(X_train_sequences[0])"
      ],
      "metadata": {
        "colab": {
          "base_uri": "https://localhost:8080/"
        },
        "id": "LmUalCgFpzS2",
        "outputId": "50685777-cf89-40c5-d8c2-c386b0f4718e"
      },
      "execution_count": 48,
      "outputs": [
        {
          "output_type": "stream",
          "name": "stdout",
          "text": [
            "[859 859 859 859 859 859 859 859 859 859 859 859 859 859 859 859 859 859\n",
            " 859 859 859 859 859 859 859 859 859 859 859 859 859 859 859 859 859  80\n",
            " 297 214   5 844 614 671 702 131 614 760 608 165 493 215 607 766 764 749\n",
            " 305 180 760 215 608 760]\n"
          ]
        },
        {
          "output_type": "stream",
          "name": "stderr",
          "text": [
            "/usr/local/lib/python3.7/dist-packages/sklearn/utils/deprecation.py:87: FutureWarning: Function get_feature_names is deprecated; get_feature_names is deprecated in 1.0 and will be removed in 1.2. Please use get_feature_names_out instead.\n",
            "  warnings.warn(msg, category=FutureWarning)\n"
          ]
        }
      ]
    },
    {
      "cell_type": "code",
      "source": [
        "X_test_sequences = [to_sequence(tokenize, preprocess, word2idx, x) for x in x_test]\n",
        "X_test_sequences = pad_sequences(X_test_sequences, maxlen=MAX_SEQ_LENGHT, value=N_FEATURES)"
      ],
      "metadata": {
        "id": "stkEwKP2p2dL"
      },
      "execution_count": 49,
      "outputs": []
    },
    {
      "cell_type": "markdown",
      "source": [
        "Making the spacy embeding"
      ],
      "metadata": {
        "id": "AXRSmvUYp5Rh"
      }
    },
    {
      "cell_type": "code",
      "source": [
        "EMBEDDINGS_LEN = 300\n",
        "\n",
        "embeddings_index = np.zeros((len(vectorizer.get_feature_names()) + 1, EMBEDDINGS_LEN))\n",
        "for word, idx in word2idx.items():\n",
        "    try:\n",
        "        embedding = nlp.vocab[word].vector\n",
        "        embeddings_index[idx] = embedding\n",
        "    except:\n",
        "        pass\n",
        "      \n",
        "print(\"EMBEDDINGS_LEN=\", EMBEDDINGS_LEN)   "
      ],
      "metadata": {
        "colab": {
          "base_uri": "https://localhost:8080/"
        },
        "id": "m5jk3V8Tp6ap",
        "outputId": "9ec50f05-d362-48ca-a0fb-bd7ea367d3eb"
      },
      "execution_count": 50,
      "outputs": [
        {
          "output_type": "stream",
          "name": "stdout",
          "text": [
            "EMBEDDINGS_LEN= 300\n"
          ]
        },
        {
          "output_type": "stream",
          "name": "stderr",
          "text": [
            "/usr/local/lib/python3.7/dist-packages/sklearn/utils/deprecation.py:87: FutureWarning: Function get_feature_names is deprecated; get_feature_names is deprecated in 1.0 and will be removed in 1.2. Please use get_feature_names_out instead.\n",
            "  warnings.warn(msg, category=FutureWarning)\n"
          ]
        }
      ]
    },
    {
      "cell_type": "markdown",
      "source": [
        "Simple LSTM Model"
      ],
      "metadata": {
        "id": "OQExQNmXqBK5"
      }
    },
    {
      "cell_type": "code",
      "source": [
        " \n",
        "model = Sequential()\n",
        "model.add(Embedding(len(vectorizer.get_feature_names()) + 1,\n",
        "                    EMBEDDINGS_LEN,  # Embedding size\n",
        "                    weights=[embeddings_index],\n",
        "                    input_length=MAX_SEQ_LENGHT,\n",
        "                    trainable=False))\n",
        "model.add(LSTM(300, dropout=0.2))\n",
        "model.add(Dense(len(set(y)), activation='softmax'))\n",
        " \n",
        "model.compile(loss='categorical_crossentropy', optimizer='adam', metrics=['accuracy'])\n",
        "print(model.summary())"
      ],
      "metadata": {
        "colab": {
          "base_uri": "https://localhost:8080/"
        },
        "id": "PeS3iz5Jp-0z",
        "outputId": "b01a287a-8e85-48f5-b456-f3be7d8d8460"
      },
      "execution_count": 51,
      "outputs": [
        {
          "output_type": "stream",
          "name": "stderr",
          "text": [
            "/usr/local/lib/python3.7/dist-packages/sklearn/utils/deprecation.py:87: FutureWarning: Function get_feature_names is deprecated; get_feature_names is deprecated in 1.0 and will be removed in 1.2. Please use get_feature_names_out instead.\n",
            "  warnings.warn(msg, category=FutureWarning)\n"
          ]
        },
        {
          "output_type": "stream",
          "name": "stdout",
          "text": [
            "Model: \"sequential\"\n",
            "_________________________________________________________________\n",
            " Layer (type)                Output Shape              Param #   \n",
            "=================================================================\n",
            " embedding (Embedding)       (None, 60, 300)           258000    \n",
            "                                                                 \n",
            " lstm (LSTM)                 (None, 300)               721200    \n",
            "                                                                 \n",
            " dense (Dense)               (None, 6)                 1806      \n",
            "                                                                 \n",
            "=================================================================\n",
            "Total params: 981,006\n",
            "Trainable params: 723,006\n",
            "Non-trainable params: 258,000\n",
            "_________________________________________________________________\n",
            "None\n"
          ]
        }
      ]
    },
    {
      "cell_type": "code",
      "source": [
        "model.fit(X_train_sequences, y_train, \n",
        "          epochs=5, batch_size=128, verbose=1, \n",
        "          validation_split=0.1)\n",
        " \n",
        "scores = model.evaluate(X_test_sequences, y_test, verbose=1)\n",
        "print(\"Accuracy:\", scores[1])  #\n",
        "list_result.append((\"LSTM Simple\", scores[1]))"
      ],
      "metadata": {
        "colab": {
          "base_uri": "https://localhost:8080/"
        },
        "id": "ExX0P74DqF9S",
        "outputId": "54e34c59-3a6a-427b-8b0f-85fe57debb66"
      },
      "execution_count": 52,
      "outputs": [
        {
          "output_type": "stream",
          "name": "stdout",
          "text": [
            "Epoch 1/5\n",
            "5/5 [==============================] - 6s 777ms/step - loss: 1.7268 - accuracy: 0.2517 - val_loss: 1.7097 - val_accuracy: 0.2969\n",
            "Epoch 2/5\n",
            "5/5 [==============================] - 3s 623ms/step - loss: 1.5379 - accuracy: 0.4184 - val_loss: 1.5860 - val_accuracy: 0.3594\n",
            "Epoch 3/5\n",
            "5/5 [==============================] - 3s 616ms/step - loss: 1.3749 - accuracy: 0.5191 - val_loss: 1.6067 - val_accuracy: 0.4219\n",
            "Epoch 4/5\n",
            "5/5 [==============================] - 3s 624ms/step - loss: 1.2106 - accuracy: 0.5417 - val_loss: 1.7025 - val_accuracy: 0.4531\n",
            "Epoch 5/5\n",
            "5/5 [==============================] - 3s 631ms/step - loss: 1.0989 - accuracy: 0.6076 - val_loss: 1.6253 - val_accuracy: 0.3906\n",
            "5/5 [==============================] - 1s 91ms/step - loss: 1.5389 - accuracy: 0.3875\n",
            "Accuracy: 0.38749998807907104\n"
          ]
        }
      ]
    },
    {
      "cell_type": "code",
      "source": [
        "len(x_train.keys())"
      ],
      "metadata": {
        "colab": {
          "base_uri": "https://localhost:8080/"
        },
        "id": "Klv2BLVHqSQC",
        "outputId": "bba3f49f-6db9-47a0-988f-52e27072a676"
      },
      "execution_count": 53,
      "outputs": [
        {
          "output_type": "execute_result",
          "data": {
            "text/plain": [
              "640"
            ]
          },
          "metadata": {},
          "execution_count": 53
        }
      ]
    },
    {
      "cell_type": "markdown",
      "source": [
        "Model LSTM and concatenate new columns"
      ],
      "metadata": {
        "id": "9WB9fRlAqVfU"
      }
    },
    {
      "cell_type": "code",
      "source": [
        "from keras.models import Model\n",
        "from keras.layers import Dense ,LSTM,concatenate,Input,Flatten,BatchNormalization, GRU\n",
        "\n",
        "text_data = Input(shape=(MAX_SEQ_LENGHT,), name='text')\n",
        "meta_data = Input(shape=(3,), name = 'meta')\n",
        "x=(Embedding(len(vectorizer.get_feature_names()) + 1,\n",
        "                    EMBEDDINGS_LEN,  # Embedding size\n",
        "                    weights=[embeddings_index],\n",
        "                    input_length=MAX_SEQ_LENGHT,\n",
        "                    trainable=False))(text_data)\n",
        "x2 = ((LSTM(300, dropout=0.2, recurrent_dropout=0.2)))(x)\n",
        "x4 = concatenate([x2, meta_data])\n",
        "x5 = Dense(150, activation='relu')(x4)\n",
        "x6 = Dropout(0.25)(x5)\n",
        "x7 = BatchNormalization()(x6)\n",
        "out=(Dense(len(set(y)), activation=\"softmax\"))(x7)\n",
        "model = Model(inputs=[text_data, meta_data ], outputs=out)\n",
        "model.compile(loss='categorical_crossentropy', optimizer='adam', metrics=['accuracy'])\n",
        "print(model.summary())"
      ],
      "metadata": {
        "colab": {
          "base_uri": "https://localhost:8080/"
        },
        "id": "tJz9-1CbqWEw",
        "outputId": "c1372df7-b6ad-4f34-e783-8f8eb2a6b1be"
      },
      "execution_count": 54,
      "outputs": [
        {
          "output_type": "stream",
          "name": "stderr",
          "text": [
            "/usr/local/lib/python3.7/dist-packages/sklearn/utils/deprecation.py:87: FutureWarning: Function get_feature_names is deprecated; get_feature_names is deprecated in 1.0 and will be removed in 1.2. Please use get_feature_names_out instead.\n",
            "  warnings.warn(msg, category=FutureWarning)\n"
          ]
        },
        {
          "output_type": "stream",
          "name": "stdout",
          "text": [
            "Model: \"model\"\n",
            "__________________________________________________________________________________________________\n",
            " Layer (type)                   Output Shape         Param #     Connected to                     \n",
            "==================================================================================================\n",
            " text (InputLayer)              [(None, 60)]         0           []                               \n",
            "                                                                                                  \n",
            " embedding_1 (Embedding)        (None, 60, 300)      258000      ['text[0][0]']                   \n",
            "                                                                                                  \n",
            " lstm_1 (LSTM)                  (None, 300)          721200      ['embedding_1[0][0]']            \n",
            "                                                                                                  \n",
            " meta (InputLayer)              [(None, 3)]          0           []                               \n",
            "                                                                                                  \n",
            " concatenate (Concatenate)      (None, 303)          0           ['lstm_1[0][0]',                 \n",
            "                                                                  'meta[0][0]']                   \n",
            "                                                                                                  \n",
            " dense_1 (Dense)                (None, 150)          45600       ['concatenate[0][0]']            \n",
            "                                                                                                  \n",
            " dropout (Dropout)              (None, 150)          0           ['dense_1[0][0]']                \n",
            "                                                                                                  \n",
            " batch_normalization (BatchNorm  (None, 150)         600         ['dropout[0][0]']                \n",
            " alization)                                                                                       \n",
            "                                                                                                  \n",
            " dense_2 (Dense)                (None, 6)            906         ['batch_normalization[0][0]']    \n",
            "                                                                                                  \n",
            "==================================================================================================\n",
            "Total params: 1,026,306\n",
            "Trainable params: 768,006\n",
            "Non-trainable params: 258,300\n",
            "__________________________________________________________________________________________________\n",
            "None\n"
          ]
        }
      ]
    },
    {
      "cell_type": "code",
      "source": [
        "df_cat_train = df.iloc[x_train.index][['polarity', 'subjectivity', 'len']]\n",
        "df_cat_test = df.iloc[x_test.index][['polarity', 'subjectivity', 'len']]"
      ],
      "metadata": {
        "id": "vhaBSvimqct3"
      },
      "execution_count": 56,
      "outputs": []
    },
    {
      "cell_type": "code",
      "source": [
        "model.fit([X_train_sequences, df_cat_train], y_train, \n",
        "          epochs=12, batch_size=128, verbose=1, \n",
        "          validation_split=0.1)\n",
        " \n",
        "scores = model.evaluate([X_test_sequences, df_cat_test],y_test, verbose=1)\n",
        "print(\"Accuracy:\", scores[1])  \n",
        "list_result.append((\"LSTM with Multi-Input\", scores[1]))"
      ],
      "metadata": {
        "colab": {
          "base_uri": "https://localhost:8080/"
        },
        "id": "pv_BTdkuqkAa",
        "outputId": "90b26164-4d8f-4e31-894b-5e3f8931fa31"
      },
      "execution_count": 57,
      "outputs": [
        {
          "output_type": "stream",
          "name": "stdout",
          "text": [
            "Epoch 1/12\n",
            "5/5 [==============================] - 10s 1s/step - loss: 2.0072 - accuracy: 0.2188 - val_loss: 1.7584 - val_accuracy: 0.2188\n",
            "Epoch 2/12\n",
            "5/5 [==============================] - 6s 1s/step - loss: 1.5092 - accuracy: 0.3924 - val_loss: 1.7276 - val_accuracy: 0.3125\n",
            "Epoch 3/12\n",
            "5/5 [==============================] - 6s 1s/step - loss: 1.2878 - accuracy: 0.5087 - val_loss: 1.7024 - val_accuracy: 0.3281\n",
            "Epoch 4/12\n",
            "5/5 [==============================] - 6s 1s/step - loss: 1.1191 - accuracy: 0.5781 - val_loss: 1.6706 - val_accuracy: 0.3594\n",
            "Epoch 5/12\n",
            "5/5 [==============================] - 6s 1s/step - loss: 0.9466 - accuracy: 0.6615 - val_loss: 1.6559 - val_accuracy: 0.3906\n",
            "Epoch 6/12\n",
            "5/5 [==============================] - 6s 1s/step - loss: 0.8140 - accuracy: 0.6979 - val_loss: 1.6699 - val_accuracy: 0.3594\n",
            "Epoch 7/12\n",
            "5/5 [==============================] - 6s 1s/step - loss: 0.7384 - accuracy: 0.7517 - val_loss: 1.6374 - val_accuracy: 0.3906\n",
            "Epoch 8/12\n",
            "5/5 [==============================] - 6s 1s/step - loss: 0.6850 - accuracy: 0.7535 - val_loss: 1.6389 - val_accuracy: 0.3438\n",
            "Epoch 9/12\n",
            "5/5 [==============================] - 6s 1s/step - loss: 0.5984 - accuracy: 0.8038 - val_loss: 1.6245 - val_accuracy: 0.3594\n",
            "Epoch 10/12\n",
            "5/5 [==============================] - 6s 1s/step - loss: 0.5247 - accuracy: 0.8229 - val_loss: 1.6287 - val_accuracy: 0.3750\n",
            "Epoch 11/12\n",
            "5/5 [==============================] - 6s 1s/step - loss: 0.4780 - accuracy: 0.8368 - val_loss: 1.6011 - val_accuracy: 0.3906\n",
            "Epoch 12/12\n",
            "5/5 [==============================] - 6s 1s/step - loss: 0.4050 - accuracy: 0.8837 - val_loss: 1.5899 - val_accuracy: 0.4062\n",
            "5/5 [==============================] - 1s 121ms/step - loss: 1.5168 - accuracy: 0.4313\n",
            "Accuracy: 0.4312500059604645\n"
          ]
        }
      ]
    },
    {
      "cell_type": "markdown",
      "source": [
        "Model with 2 GRU (Bi-GRU)"
      ],
      "metadata": {
        "id": "HgE2moNHq4kl"
      }
    },
    {
      "cell_type": "code",
      "source": [
        "text_data = Input(shape=(MAX_SEQ_LENGHT,), name='text')\n",
        "meta_data = Input(shape=(3,), name = 'meta')\n",
        "x=(Embedding(len(vectorizer.get_feature_names()) + 1,\n",
        "                    EMBEDDINGS_LEN,  # Embedding size\n",
        "                    weights=[embeddings_index],\n",
        "                    input_length=MAX_SEQ_LENGHT,\n",
        "                    trainable=False))(text_data)\n",
        "x2 = ((GRU(128, dropout=0.2, recurrent_dropout=0.2,  return_sequences=True)))(x)\n",
        "x3 = ((GRU(128, dropout=0.2, recurrent_dropout=0.2)))(x2)\n",
        "x4 = concatenate([x3, meta_data])\n",
        "x5 = Dense(150, activation='relu')(x4)\n",
        "x6 = Dropout(0.25)(x5)\n",
        "x7 = BatchNormalization()(x6)\n",
        "out=(Dense(len(set(y)), activation=\"softmax\"))(x7)\n",
        "model = Model(inputs=[text_data, meta_data], outputs=out)\n",
        "model.compile(loss='categorical_crossentropy', optimizer='adam', metrics=['accuracy'])\n",
        "print(model.summary())"
      ],
      "metadata": {
        "colab": {
          "base_uri": "https://localhost:8080/"
        },
        "id": "uyhl9GQ7q7CG",
        "outputId": "2cb2e94b-9aed-478b-95df-d43fb93043df"
      },
      "execution_count": 58,
      "outputs": [
        {
          "output_type": "stream",
          "name": "stderr",
          "text": [
            "/usr/local/lib/python3.7/dist-packages/sklearn/utils/deprecation.py:87: FutureWarning: Function get_feature_names is deprecated; get_feature_names is deprecated in 1.0 and will be removed in 1.2. Please use get_feature_names_out instead.\n",
            "  warnings.warn(msg, category=FutureWarning)\n"
          ]
        },
        {
          "output_type": "stream",
          "name": "stdout",
          "text": [
            "Model: \"model_1\"\n",
            "__________________________________________________________________________________________________\n",
            " Layer (type)                   Output Shape         Param #     Connected to                     \n",
            "==================================================================================================\n",
            " text (InputLayer)              [(None, 60)]         0           []                               \n",
            "                                                                                                  \n",
            " embedding_2 (Embedding)        (None, 60, 300)      258000      ['text[0][0]']                   \n",
            "                                                                                                  \n",
            " gru (GRU)                      (None, 60, 128)      165120      ['embedding_2[0][0]']            \n",
            "                                                                                                  \n",
            " gru_1 (GRU)                    (None, 128)          99072       ['gru[0][0]']                    \n",
            "                                                                                                  \n",
            " meta (InputLayer)              [(None, 3)]          0           []                               \n",
            "                                                                                                  \n",
            " concatenate_1 (Concatenate)    (None, 131)          0           ['gru_1[0][0]',                  \n",
            "                                                                  'meta[0][0]']                   \n",
            "                                                                                                  \n",
            " dense_3 (Dense)                (None, 150)          19800       ['concatenate_1[0][0]']          \n",
            "                                                                                                  \n",
            " dropout_1 (Dropout)            (None, 150)          0           ['dense_3[0][0]']                \n",
            "                                                                                                  \n",
            " batch_normalization_1 (BatchNo  (None, 150)         600         ['dropout_1[0][0]']              \n",
            " rmalization)                                                                                     \n",
            "                                                                                                  \n",
            " dense_4 (Dense)                (None, 6)            906         ['batch_normalization_1[0][0]']  \n",
            "                                                                                                  \n",
            "==================================================================================================\n",
            "Total params: 543,498\n",
            "Trainable params: 285,198\n",
            "Non-trainable params: 258,300\n",
            "__________________________________________________________________________________________________\n",
            "None\n"
          ]
        }
      ]
    },
    {
      "cell_type": "code",
      "source": [
        "model.fit([X_train_sequences, df_cat_train], y_train, \n",
        "          epochs=20, batch_size=128, verbose=1, \n",
        "          validation_split=0.1)\n",
        " \n",
        "scores = model.evaluate([X_test_sequences, df_cat_test],y_test, verbose=1)\n",
        "print(\"Accuracy:\", scores[1])  # \n",
        "list_result.append((\"Bi-GRU\", scores[1]))"
      ],
      "metadata": {
        "colab": {
          "base_uri": "https://localhost:8080/"
        },
        "id": "P3zDOKPzq-ok",
        "outputId": "4cf63487-2012-4c9c-cc86-ffeee94c8c61"
      },
      "execution_count": 59,
      "outputs": [
        {
          "output_type": "stream",
          "name": "stdout",
          "text": [
            "Epoch 1/20\n",
            "5/5 [==============================] - 10s 839ms/step - loss: 2.1754 - accuracy: 0.1910 - val_loss: 1.7468 - val_accuracy: 0.2188\n",
            "Epoch 2/20\n",
            "5/5 [==============================] - 3s 651ms/step - loss: 1.7425 - accuracy: 0.3003 - val_loss: 1.7120 - val_accuracy: 0.3125\n",
            "Epoch 3/20\n",
            "5/5 [==============================] - 3s 646ms/step - loss: 1.6408 - accuracy: 0.3455 - val_loss: 1.6933 - val_accuracy: 0.3125\n",
            "Epoch 4/20\n",
            "5/5 [==============================] - 3s 644ms/step - loss: 1.4867 - accuracy: 0.4201 - val_loss: 1.6778 - val_accuracy: 0.3125\n",
            "Epoch 5/20\n",
            "5/5 [==============================] - 3s 652ms/step - loss: 1.3890 - accuracy: 0.4549 - val_loss: 1.6626 - val_accuracy: 0.3594\n",
            "Epoch 6/20\n",
            "5/5 [==============================] - 3s 649ms/step - loss: 1.2796 - accuracy: 0.5104 - val_loss: 1.6607 - val_accuracy: 0.3594\n",
            "Epoch 7/20\n",
            "5/5 [==============================] - 3s 648ms/step - loss: 1.1510 - accuracy: 0.5642 - val_loss: 1.6565 - val_accuracy: 0.3594\n",
            "Epoch 8/20\n",
            "5/5 [==============================] - 3s 639ms/step - loss: 1.0972 - accuracy: 0.5990 - val_loss: 1.6405 - val_accuracy: 0.3906\n",
            "Epoch 9/20\n",
            "5/5 [==============================] - 3s 645ms/step - loss: 0.9607 - accuracy: 0.6441 - val_loss: 1.6259 - val_accuracy: 0.3594\n",
            "Epoch 10/20\n",
            "5/5 [==============================] - 3s 646ms/step - loss: 0.9309 - accuracy: 0.6597 - val_loss: 1.6301 - val_accuracy: 0.3906\n",
            "Epoch 11/20\n",
            "5/5 [==============================] - 3s 650ms/step - loss: 0.8362 - accuracy: 0.6910 - val_loss: 1.6427 - val_accuracy: 0.3438\n",
            "Epoch 12/20\n",
            "5/5 [==============================] - 3s 649ms/step - loss: 0.8067 - accuracy: 0.7135 - val_loss: 1.6308 - val_accuracy: 0.3594\n",
            "Epoch 13/20\n",
            "5/5 [==============================] - 3s 646ms/step - loss: 0.7749 - accuracy: 0.7257 - val_loss: 1.6047 - val_accuracy: 0.3906\n",
            "Epoch 14/20\n",
            "5/5 [==============================] - 3s 645ms/step - loss: 0.7375 - accuracy: 0.7378 - val_loss: 1.5950 - val_accuracy: 0.3906\n",
            "Epoch 15/20\n",
            "5/5 [==============================] - 3s 653ms/step - loss: 0.6165 - accuracy: 0.7760 - val_loss: 1.6078 - val_accuracy: 0.3750\n",
            "Epoch 16/20\n",
            "5/5 [==============================] - 3s 650ms/step - loss: 0.6059 - accuracy: 0.7951 - val_loss: 1.6049 - val_accuracy: 0.3750\n",
            "Epoch 17/20\n",
            "5/5 [==============================] - 3s 651ms/step - loss: 0.5629 - accuracy: 0.8056 - val_loss: 1.5948 - val_accuracy: 0.3750\n",
            "Epoch 18/20\n",
            "5/5 [==============================] - 3s 650ms/step - loss: 0.4985 - accuracy: 0.8281 - val_loss: 1.5949 - val_accuracy: 0.3750\n",
            "Epoch 19/20\n",
            "5/5 [==============================] - 3s 640ms/step - loss: 0.4828 - accuracy: 0.8403 - val_loss: 1.5799 - val_accuracy: 0.3906\n",
            "Epoch 20/20\n",
            "5/5 [==============================] - 3s 644ms/step - loss: 0.4553 - accuracy: 0.8385 - val_loss: 1.5774 - val_accuracy: 0.4219\n",
            "5/5 [==============================] - 1s 45ms/step - loss: 1.5760 - accuracy: 0.3875\n",
            "Accuracy: 0.38749998807907104\n"
          ]
        }
      ]
    },
    {
      "cell_type": "markdown",
      "source": [
        "Models Comparison"
      ],
      "metadata": {
        "id": "tfAc1mfDr3ws"
      }
    },
    {
      "cell_type": "code",
      "source": [
        "pd.DataFrame(list_result, columns=['model', 'accuracy'])"
      ],
      "metadata": {
        "colab": {
          "base_uri": "https://localhost:8080/",
          "height": 206
        },
        "id": "LbFZdveMr5vP",
        "outputId": "10c66023-bd65-4e83-abe0-8ec6181ae7bb"
      },
      "execution_count": 61,
      "outputs": [
        {
          "output_type": "execute_result",
          "data": {
            "text/html": [
              "\n",
              "  <div id=\"df-df293988-8826-4580-8deb-be3d7508f17d\">\n",
              "    <div class=\"colab-df-container\">\n",
              "      <div>\n",
              "<style scoped>\n",
              "    .dataframe tbody tr th:only-of-type {\n",
              "        vertical-align: middle;\n",
              "    }\n",
              "\n",
              "    .dataframe tbody tr th {\n",
              "        vertical-align: top;\n",
              "    }\n",
              "\n",
              "    .dataframe thead th {\n",
              "        text-align: right;\n",
              "    }\n",
              "</style>\n",
              "<table border=\"1\" class=\"dataframe\">\n",
              "  <thead>\n",
              "    <tr style=\"text-align: right;\">\n",
              "      <th></th>\n",
              "      <th>model</th>\n",
              "      <th>accuracy</th>\n",
              "    </tr>\n",
              "  </thead>\n",
              "  <tbody>\n",
              "    <tr>\n",
              "      <th>0</th>\n",
              "      <td>SVC</td>\n",
              "      <td>0.45625</td>\n",
              "    </tr>\n",
              "    <tr>\n",
              "      <th>1</th>\n",
              "      <td>SGD</td>\n",
              "      <td>0.45625</td>\n",
              "    </tr>\n",
              "    <tr>\n",
              "      <th>2</th>\n",
              "      <td>LSTM Simple</td>\n",
              "      <td>0.38750</td>\n",
              "    </tr>\n",
              "    <tr>\n",
              "      <th>3</th>\n",
              "      <td>LSTM with Multi-Input</td>\n",
              "      <td>0.43125</td>\n",
              "    </tr>\n",
              "    <tr>\n",
              "      <th>4</th>\n",
              "      <td>Bi-GRU</td>\n",
              "      <td>0.38750</td>\n",
              "    </tr>\n",
              "  </tbody>\n",
              "</table>\n",
              "</div>\n",
              "      <button class=\"colab-df-convert\" onclick=\"convertToInteractive('df-df293988-8826-4580-8deb-be3d7508f17d')\"\n",
              "              title=\"Convert this dataframe to an interactive table.\"\n",
              "              style=\"display:none;\">\n",
              "        \n",
              "  <svg xmlns=\"http://www.w3.org/2000/svg\" height=\"24px\"viewBox=\"0 0 24 24\"\n",
              "       width=\"24px\">\n",
              "    <path d=\"M0 0h24v24H0V0z\" fill=\"none\"/>\n",
              "    <path d=\"M18.56 5.44l.94 2.06.94-2.06 2.06-.94-2.06-.94-.94-2.06-.94 2.06-2.06.94zm-11 1L8.5 8.5l.94-2.06 2.06-.94-2.06-.94L8.5 2.5l-.94 2.06-2.06.94zm10 10l.94 2.06.94-2.06 2.06-.94-2.06-.94-.94-2.06-.94 2.06-2.06.94z\"/><path d=\"M17.41 7.96l-1.37-1.37c-.4-.4-.92-.59-1.43-.59-.52 0-1.04.2-1.43.59L10.3 9.45l-7.72 7.72c-.78.78-.78 2.05 0 2.83L4 21.41c.39.39.9.59 1.41.59.51 0 1.02-.2 1.41-.59l7.78-7.78 2.81-2.81c.8-.78.8-2.07 0-2.86zM5.41 20L4 18.59l7.72-7.72 1.47 1.35L5.41 20z\"/>\n",
              "  </svg>\n",
              "      </button>\n",
              "      \n",
              "  <style>\n",
              "    .colab-df-container {\n",
              "      display:flex;\n",
              "      flex-wrap:wrap;\n",
              "      gap: 12px;\n",
              "    }\n",
              "\n",
              "    .colab-df-convert {\n",
              "      background-color: #E8F0FE;\n",
              "      border: none;\n",
              "      border-radius: 50%;\n",
              "      cursor: pointer;\n",
              "      display: none;\n",
              "      fill: #1967D2;\n",
              "      height: 32px;\n",
              "      padding: 0 0 0 0;\n",
              "      width: 32px;\n",
              "    }\n",
              "\n",
              "    .colab-df-convert:hover {\n",
              "      background-color: #E2EBFA;\n",
              "      box-shadow: 0px 1px 2px rgba(60, 64, 67, 0.3), 0px 1px 3px 1px rgba(60, 64, 67, 0.15);\n",
              "      fill: #174EA6;\n",
              "    }\n",
              "\n",
              "    [theme=dark] .colab-df-convert {\n",
              "      background-color: #3B4455;\n",
              "      fill: #D2E3FC;\n",
              "    }\n",
              "\n",
              "    [theme=dark] .colab-df-convert:hover {\n",
              "      background-color: #434B5C;\n",
              "      box-shadow: 0px 1px 3px 1px rgba(0, 0, 0, 0.15);\n",
              "      filter: drop-shadow(0px 1px 2px rgba(0, 0, 0, 0.3));\n",
              "      fill: #FFFFFF;\n",
              "    }\n",
              "  </style>\n",
              "\n",
              "      <script>\n",
              "        const buttonEl =\n",
              "          document.querySelector('#df-df293988-8826-4580-8deb-be3d7508f17d button.colab-df-convert');\n",
              "        buttonEl.style.display =\n",
              "          google.colab.kernel.accessAllowed ? 'block' : 'none';\n",
              "\n",
              "        async function convertToInteractive(key) {\n",
              "          const element = document.querySelector('#df-df293988-8826-4580-8deb-be3d7508f17d');\n",
              "          const dataTable =\n",
              "            await google.colab.kernel.invokeFunction('convertToInteractive',\n",
              "                                                     [key], {});\n",
              "          if (!dataTable) return;\n",
              "\n",
              "          const docLinkHtml = 'Like what you see? Visit the ' +\n",
              "            '<a target=\"_blank\" href=https://colab.research.google.com/notebooks/data_table.ipynb>data table notebook</a>'\n",
              "            + ' to learn more about interactive tables.';\n",
              "          element.innerHTML = '';\n",
              "          dataTable['output_type'] = 'display_data';\n",
              "          await google.colab.output.renderOutput(dataTable, element);\n",
              "          const docLink = document.createElement('div');\n",
              "          docLink.innerHTML = docLinkHtml;\n",
              "          element.appendChild(docLink);\n",
              "        }\n",
              "      </script>\n",
              "    </div>\n",
              "  </div>\n",
              "  "
            ],
            "text/plain": [
              "                   model  accuracy\n",
              "0                    SVC   0.45625\n",
              "1                    SGD   0.45625\n",
              "2            LSTM Simple   0.38750\n",
              "3  LSTM with Multi-Input   0.43125\n",
              "4                 Bi-GRU   0.38750"
            ]
          },
          "metadata": {},
          "execution_count": 61
        }
      ]
    },
    {
      "cell_type": "markdown",
      "source": [
        "[A Basic NLP Tutorial for News Multiclass Categorization](https://github.com/ArmandDS/news_category/blob/master/News_Analysis_AO.ipynb)\n",
        "\n",
        "[A Basic NLP Tutorial for News Multiclass Categorization](https://medium.com/@armandj.olivares/a-basic-nlp-tutorial-for-news-multiclass-categorization-82afa6d46aa5)"
      ],
      "metadata": {
        "id": "Lm_glYPzr_cS"
      }
    }
  ]
}