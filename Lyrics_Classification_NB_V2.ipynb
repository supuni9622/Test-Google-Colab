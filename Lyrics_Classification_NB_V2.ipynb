{
  "nbformat": 4,
  "nbformat_minor": 0,
  "metadata": {
    "colab": {
      "name": "Lyrics Classification-NB-V2.ipynb",
      "provenance": [],
      "mount_file_id": "1tjr1TEP3GrdUIJVbVJQ6oyZFmzxPXlS0",
      "authorship_tag": "ABX9TyMif8aOLgvnTmi1+uYxeoGM",
      "include_colab_link": true
    },
    "kernelspec": {
      "name": "python3",
      "display_name": "Python 3"
    },
    "language_info": {
      "name": "python"
    }
  },
  "cells": [
    {
      "cell_type": "markdown",
      "metadata": {
        "id": "view-in-github",
        "colab_type": "text"
      },
      "source": [
        "<a href=\"https://colab.research.google.com/github/supuni9622/Test-Google-Colab/blob/main/Lyrics_Classification_NB_V2.ipynb\" target=\"_parent\"><img src=\"https://colab.research.google.com/assets/colab-badge.svg\" alt=\"Open In Colab\"/></a>"
      ]
    },
    {
      "cell_type": "code",
      "metadata": {
        "id": "bGRsbfpSaJ_a"
      },
      "source": [
        "import numpy as np\n",
        "import matplotlib.pyplot as plt\n",
        "import pandas as pd"
      ],
      "execution_count": 1,
      "outputs": []
    },
    {
      "cell_type": "code",
      "metadata": {
        "colab": {
          "base_uri": "https://localhost:8080/",
          "height": 35
        },
        "id": "xZ6hvFVSbGAC",
        "outputId": "e0626ae5-fe7d-47fb-bf49-db5bdf0472ad"
      },
      "source": [
        "pwd"
      ],
      "execution_count": 2,
      "outputs": [
        {
          "output_type": "execute_result",
          "data": {
            "application/vnd.google.colaboratory.intrinsic+json": {
              "type": "string"
            },
            "text/plain": [
              "'/content'"
            ]
          },
          "metadata": {},
          "execution_count": 2
        }
      ]
    },
    {
      "cell_type": "code",
      "metadata": {
        "colab": {
          "base_uri": "https://localhost:8080/"
        },
        "id": "uyqMtBqLbPPe",
        "outputId": "4e213fdf-5f83-4d7d-8888-add2d0465208"
      },
      "source": [
        "cd /content/drive/MyDrive/4th Year Research/M3/Test Implementation/Test-Google-Colab/TestV2"
      ],
      "execution_count": 3,
      "outputs": [
        {
          "output_type": "stream",
          "name": "stdout",
          "text": [
            "/content/drive/MyDrive/4th Year Research/M3/Test Implementation/Test-Google-Colab/TestV2\n"
          ]
        }
      ]
    },
    {
      "cell_type": "code",
      "metadata": {
        "colab": {
          "base_uri": "https://localhost:8080/",
          "height": 35
        },
        "id": "fTIf7lrObRgb",
        "outputId": "79d1b086-e507-42b7-c97f-7f2d5068d157"
      },
      "source": [
        "pwd"
      ],
      "execution_count": 4,
      "outputs": [
        {
          "output_type": "execute_result",
          "data": {
            "application/vnd.google.colaboratory.intrinsic+json": {
              "type": "string"
            },
            "text/plain": [
              "'/content/drive/MyDrive/4th Year Research/M3/Test Implementation/Test-Google-Colab/TestV2'"
            ]
          },
          "metadata": {},
          "execution_count": 4
        }
      ]
    },
    {
      "cell_type": "code",
      "metadata": {
        "id": "WD5oKe9kaip_"
      },
      "source": [
        "dataset = pd.read_csv('Lyrical_data_3.csv',encoding='cp1252')"
      ],
      "execution_count": 5,
      "outputs": []
    },
    {
      "cell_type": "code",
      "metadata": {
        "colab": {
          "base_uri": "https://localhost:8080/",
          "height": 206
        },
        "id": "AGH4dWb6bWOO",
        "outputId": "91936d78-56cb-467d-c65b-9315d713d7bf"
      },
      "source": [
        "dataset.head()"
      ],
      "execution_count": 6,
      "outputs": [
        {
          "output_type": "execute_result",
          "data": {
            "text/html": [
              "\n",
              "  <div id=\"df-3a95137b-2b30-4605-bf4a-c52da6bb54b8\">\n",
              "    <div class=\"colab-df-container\">\n",
              "      <div>\n",
              "<style scoped>\n",
              "    .dataframe tbody tr th:only-of-type {\n",
              "        vertical-align: middle;\n",
              "    }\n",
              "\n",
              "    .dataframe tbody tr th {\n",
              "        vertical-align: top;\n",
              "    }\n",
              "\n",
              "    .dataframe thead th {\n",
              "        text-align: right;\n",
              "    }\n",
              "</style>\n",
              "<table border=\"1\" class=\"dataframe\">\n",
              "  <thead>\n",
              "    <tr style=\"text-align: right;\">\n",
              "      <th></th>\n",
              "      <th>Song_ID</th>\n",
              "      <th>Song_Title</th>\n",
              "      <th>Chorus</th>\n",
              "      <th>Emotion</th>\n",
              "    </tr>\n",
              "  </thead>\n",
              "  <tbody>\n",
              "    <tr>\n",
              "      <th>0</th>\n",
              "      <td>1</td>\n",
              "      <td>Diana</td>\n",
              "      <td>Diana,\\rLet me be the one to light a fire insi...</td>\n",
              "      <td>Inspiration</td>\n",
              "    </tr>\n",
              "    <tr>\n",
              "      <th>1</th>\n",
              "      <td>2</td>\n",
              "      <td>Don't forget where you belong</td>\n",
              "      <td>Don't forget where you belong\\rHome\\rDon't for...</td>\n",
              "      <td>Inspiration</td>\n",
              "    </tr>\n",
              "    <tr>\n",
              "      <th>2</th>\n",
              "      <td>3</td>\n",
              "      <td>Strong</td>\n",
              "      <td>I'm sorry if I say, \"I need you\"\\nBut I don't ...</td>\n",
              "      <td>Inspiration</td>\n",
              "    </tr>\n",
              "    <tr>\n",
              "      <th>3</th>\n",
              "      <td>4</td>\n",
              "      <td>Happily</td>\n",
              "      <td>I don't care what people say when we're togeth...</td>\n",
              "      <td>Sad</td>\n",
              "    </tr>\n",
              "    <tr>\n",
              "      <th>4</th>\n",
              "      <td>5</td>\n",
              "      <td>Better than words</td>\n",
              "      <td>Better than words\\rMore than a feeling Crazy i...</td>\n",
              "      <td>Love</td>\n",
              "    </tr>\n",
              "  </tbody>\n",
              "</table>\n",
              "</div>\n",
              "      <button class=\"colab-df-convert\" onclick=\"convertToInteractive('df-3a95137b-2b30-4605-bf4a-c52da6bb54b8')\"\n",
              "              title=\"Convert this dataframe to an interactive table.\"\n",
              "              style=\"display:none;\">\n",
              "        \n",
              "  <svg xmlns=\"http://www.w3.org/2000/svg\" height=\"24px\"viewBox=\"0 0 24 24\"\n",
              "       width=\"24px\">\n",
              "    <path d=\"M0 0h24v24H0V0z\" fill=\"none\"/>\n",
              "    <path d=\"M18.56 5.44l.94 2.06.94-2.06 2.06-.94-2.06-.94-.94-2.06-.94 2.06-2.06.94zm-11 1L8.5 8.5l.94-2.06 2.06-.94-2.06-.94L8.5 2.5l-.94 2.06-2.06.94zm10 10l.94 2.06.94-2.06 2.06-.94-2.06-.94-.94-2.06-.94 2.06-2.06.94z\"/><path d=\"M17.41 7.96l-1.37-1.37c-.4-.4-.92-.59-1.43-.59-.52 0-1.04.2-1.43.59L10.3 9.45l-7.72 7.72c-.78.78-.78 2.05 0 2.83L4 21.41c.39.39.9.59 1.41.59.51 0 1.02-.2 1.41-.59l7.78-7.78 2.81-2.81c.8-.78.8-2.07 0-2.86zM5.41 20L4 18.59l7.72-7.72 1.47 1.35L5.41 20z\"/>\n",
              "  </svg>\n",
              "      </button>\n",
              "      \n",
              "  <style>\n",
              "    .colab-df-container {\n",
              "      display:flex;\n",
              "      flex-wrap:wrap;\n",
              "      gap: 12px;\n",
              "    }\n",
              "\n",
              "    .colab-df-convert {\n",
              "      background-color: #E8F0FE;\n",
              "      border: none;\n",
              "      border-radius: 50%;\n",
              "      cursor: pointer;\n",
              "      display: none;\n",
              "      fill: #1967D2;\n",
              "      height: 32px;\n",
              "      padding: 0 0 0 0;\n",
              "      width: 32px;\n",
              "    }\n",
              "\n",
              "    .colab-df-convert:hover {\n",
              "      background-color: #E2EBFA;\n",
              "      box-shadow: 0px 1px 2px rgba(60, 64, 67, 0.3), 0px 1px 3px 1px rgba(60, 64, 67, 0.15);\n",
              "      fill: #174EA6;\n",
              "    }\n",
              "\n",
              "    [theme=dark] .colab-df-convert {\n",
              "      background-color: #3B4455;\n",
              "      fill: #D2E3FC;\n",
              "    }\n",
              "\n",
              "    [theme=dark] .colab-df-convert:hover {\n",
              "      background-color: #434B5C;\n",
              "      box-shadow: 0px 1px 3px 1px rgba(0, 0, 0, 0.15);\n",
              "      filter: drop-shadow(0px 1px 2px rgba(0, 0, 0, 0.3));\n",
              "      fill: #FFFFFF;\n",
              "    }\n",
              "  </style>\n",
              "\n",
              "      <script>\n",
              "        const buttonEl =\n",
              "          document.querySelector('#df-3a95137b-2b30-4605-bf4a-c52da6bb54b8 button.colab-df-convert');\n",
              "        buttonEl.style.display =\n",
              "          google.colab.kernel.accessAllowed ? 'block' : 'none';\n",
              "\n",
              "        async function convertToInteractive(key) {\n",
              "          const element = document.querySelector('#df-3a95137b-2b30-4605-bf4a-c52da6bb54b8');\n",
              "          const dataTable =\n",
              "            await google.colab.kernel.invokeFunction('convertToInteractive',\n",
              "                                                     [key], {});\n",
              "          if (!dataTable) return;\n",
              "\n",
              "          const docLinkHtml = 'Like what you see? Visit the ' +\n",
              "            '<a target=\"_blank\" href=https://colab.research.google.com/notebooks/data_table.ipynb>data table notebook</a>'\n",
              "            + ' to learn more about interactive tables.';\n",
              "          element.innerHTML = '';\n",
              "          dataTable['output_type'] = 'display_data';\n",
              "          await google.colab.output.renderOutput(dataTable, element);\n",
              "          const docLink = document.createElement('div');\n",
              "          docLink.innerHTML = docLinkHtml;\n",
              "          element.appendChild(docLink);\n",
              "        }\n",
              "      </script>\n",
              "    </div>\n",
              "  </div>\n",
              "  "
            ],
            "text/plain": [
              "   Song_ID  ...      Emotion\n",
              "0        1  ...  Inspiration\n",
              "1        2  ...  Inspiration\n",
              "2        3  ...  Inspiration\n",
              "3        4  ...          Sad\n",
              "4        5  ...         Love\n",
              "\n",
              "[5 rows x 4 columns]"
            ]
          },
          "metadata": {},
          "execution_count": 6
        }
      ]
    },
    {
      "cell_type": "code",
      "metadata": {
        "colab": {
          "base_uri": "https://localhost:8080/"
        },
        "id": "MD99bHypKLar",
        "outputId": "9fee4fcd-037b-444a-cdd5-02fe064cb096"
      },
      "source": [
        "lyrics = dataset['Chorus']\n",
        "lyrics"
      ],
      "execution_count": 7,
      "outputs": [
        {
          "output_type": "execute_result",
          "data": {
            "text/plain": [
              "0      Diana,\\rLet me be the one to light a fire insi...\n",
              "1      Don't forget where you belong\\rHome\\rDon't for...\n",
              "2      I'm sorry if I say, \"I need you\"\\nBut I don't ...\n",
              "3      I don't care what people say when we're togeth...\n",
              "4      Better than words\\rMore than a feeling Crazy i...\n",
              "                             ...                        \n",
              "795                                                  NaN\n",
              "796                                                  NaN\n",
              "797                                                  NaN\n",
              "798                                                  NaN\n",
              "799                                                  NaN\n",
              "Name: Chorus, Length: 800, dtype: object"
            ]
          },
          "metadata": {},
          "execution_count": 7
        }
      ]
    },
    {
      "cell_type": "code",
      "metadata": {
        "id": "wSdSruceNU_J"
      },
      "source": [
        "dataset.dropna(how='all', axis=1, inplace=True)"
      ],
      "execution_count": 8,
      "outputs": []
    },
    {
      "cell_type": "code",
      "metadata": {
        "colab": {
          "base_uri": "https://localhost:8080/",
          "height": 206
        },
        "id": "bqqfiEj8NahK",
        "outputId": "e0e1fe1a-ed58-4993-d1bf-a520336d495d"
      },
      "source": [
        "dataset.head()"
      ],
      "execution_count": 9,
      "outputs": [
        {
          "output_type": "execute_result",
          "data": {
            "text/html": [
              "\n",
              "  <div id=\"df-aaaa7ab5-56fb-47ec-9728-ecaf3931f2ca\">\n",
              "    <div class=\"colab-df-container\">\n",
              "      <div>\n",
              "<style scoped>\n",
              "    .dataframe tbody tr th:only-of-type {\n",
              "        vertical-align: middle;\n",
              "    }\n",
              "\n",
              "    .dataframe tbody tr th {\n",
              "        vertical-align: top;\n",
              "    }\n",
              "\n",
              "    .dataframe thead th {\n",
              "        text-align: right;\n",
              "    }\n",
              "</style>\n",
              "<table border=\"1\" class=\"dataframe\">\n",
              "  <thead>\n",
              "    <tr style=\"text-align: right;\">\n",
              "      <th></th>\n",
              "      <th>Song_ID</th>\n",
              "      <th>Song_Title</th>\n",
              "      <th>Chorus</th>\n",
              "      <th>Emotion</th>\n",
              "    </tr>\n",
              "  </thead>\n",
              "  <tbody>\n",
              "    <tr>\n",
              "      <th>0</th>\n",
              "      <td>1</td>\n",
              "      <td>Diana</td>\n",
              "      <td>Diana,\\rLet me be the one to light a fire insi...</td>\n",
              "      <td>Inspiration</td>\n",
              "    </tr>\n",
              "    <tr>\n",
              "      <th>1</th>\n",
              "      <td>2</td>\n",
              "      <td>Don't forget where you belong</td>\n",
              "      <td>Don't forget where you belong\\rHome\\rDon't for...</td>\n",
              "      <td>Inspiration</td>\n",
              "    </tr>\n",
              "    <tr>\n",
              "      <th>2</th>\n",
              "      <td>3</td>\n",
              "      <td>Strong</td>\n",
              "      <td>I'm sorry if I say, \"I need you\"\\nBut I don't ...</td>\n",
              "      <td>Inspiration</td>\n",
              "    </tr>\n",
              "    <tr>\n",
              "      <th>3</th>\n",
              "      <td>4</td>\n",
              "      <td>Happily</td>\n",
              "      <td>I don't care what people say when we're togeth...</td>\n",
              "      <td>Sad</td>\n",
              "    </tr>\n",
              "    <tr>\n",
              "      <th>4</th>\n",
              "      <td>5</td>\n",
              "      <td>Better than words</td>\n",
              "      <td>Better than words\\rMore than a feeling Crazy i...</td>\n",
              "      <td>Love</td>\n",
              "    </tr>\n",
              "  </tbody>\n",
              "</table>\n",
              "</div>\n",
              "      <button class=\"colab-df-convert\" onclick=\"convertToInteractive('df-aaaa7ab5-56fb-47ec-9728-ecaf3931f2ca')\"\n",
              "              title=\"Convert this dataframe to an interactive table.\"\n",
              "              style=\"display:none;\">\n",
              "        \n",
              "  <svg xmlns=\"http://www.w3.org/2000/svg\" height=\"24px\"viewBox=\"0 0 24 24\"\n",
              "       width=\"24px\">\n",
              "    <path d=\"M0 0h24v24H0V0z\" fill=\"none\"/>\n",
              "    <path d=\"M18.56 5.44l.94 2.06.94-2.06 2.06-.94-2.06-.94-.94-2.06-.94 2.06-2.06.94zm-11 1L8.5 8.5l.94-2.06 2.06-.94-2.06-.94L8.5 2.5l-.94 2.06-2.06.94zm10 10l.94 2.06.94-2.06 2.06-.94-2.06-.94-.94-2.06-.94 2.06-2.06.94z\"/><path d=\"M17.41 7.96l-1.37-1.37c-.4-.4-.92-.59-1.43-.59-.52 0-1.04.2-1.43.59L10.3 9.45l-7.72 7.72c-.78.78-.78 2.05 0 2.83L4 21.41c.39.39.9.59 1.41.59.51 0 1.02-.2 1.41-.59l7.78-7.78 2.81-2.81c.8-.78.8-2.07 0-2.86zM5.41 20L4 18.59l7.72-7.72 1.47 1.35L5.41 20z\"/>\n",
              "  </svg>\n",
              "      </button>\n",
              "      \n",
              "  <style>\n",
              "    .colab-df-container {\n",
              "      display:flex;\n",
              "      flex-wrap:wrap;\n",
              "      gap: 12px;\n",
              "    }\n",
              "\n",
              "    .colab-df-convert {\n",
              "      background-color: #E8F0FE;\n",
              "      border: none;\n",
              "      border-radius: 50%;\n",
              "      cursor: pointer;\n",
              "      display: none;\n",
              "      fill: #1967D2;\n",
              "      height: 32px;\n",
              "      padding: 0 0 0 0;\n",
              "      width: 32px;\n",
              "    }\n",
              "\n",
              "    .colab-df-convert:hover {\n",
              "      background-color: #E2EBFA;\n",
              "      box-shadow: 0px 1px 2px rgba(60, 64, 67, 0.3), 0px 1px 3px 1px rgba(60, 64, 67, 0.15);\n",
              "      fill: #174EA6;\n",
              "    }\n",
              "\n",
              "    [theme=dark] .colab-df-convert {\n",
              "      background-color: #3B4455;\n",
              "      fill: #D2E3FC;\n",
              "    }\n",
              "\n",
              "    [theme=dark] .colab-df-convert:hover {\n",
              "      background-color: #434B5C;\n",
              "      box-shadow: 0px 1px 3px 1px rgba(0, 0, 0, 0.15);\n",
              "      filter: drop-shadow(0px 1px 2px rgba(0, 0, 0, 0.3));\n",
              "      fill: #FFFFFF;\n",
              "    }\n",
              "  </style>\n",
              "\n",
              "      <script>\n",
              "        const buttonEl =\n",
              "          document.querySelector('#df-aaaa7ab5-56fb-47ec-9728-ecaf3931f2ca button.colab-df-convert');\n",
              "        buttonEl.style.display =\n",
              "          google.colab.kernel.accessAllowed ? 'block' : 'none';\n",
              "\n",
              "        async function convertToInteractive(key) {\n",
              "          const element = document.querySelector('#df-aaaa7ab5-56fb-47ec-9728-ecaf3931f2ca');\n",
              "          const dataTable =\n",
              "            await google.colab.kernel.invokeFunction('convertToInteractive',\n",
              "                                                     [key], {});\n",
              "          if (!dataTable) return;\n",
              "\n",
              "          const docLinkHtml = 'Like what you see? Visit the ' +\n",
              "            '<a target=\"_blank\" href=https://colab.research.google.com/notebooks/data_table.ipynb>data table notebook</a>'\n",
              "            + ' to learn more about interactive tables.';\n",
              "          element.innerHTML = '';\n",
              "          dataTable['output_type'] = 'display_data';\n",
              "          await google.colab.output.renderOutput(dataTable, element);\n",
              "          const docLink = document.createElement('div');\n",
              "          docLink.innerHTML = docLinkHtml;\n",
              "          element.appendChild(docLink);\n",
              "        }\n",
              "      </script>\n",
              "    </div>\n",
              "  </div>\n",
              "  "
            ],
            "text/plain": [
              "   Song_ID  ...      Emotion\n",
              "0        1  ...  Inspiration\n",
              "1        2  ...  Inspiration\n",
              "2        3  ...  Inspiration\n",
              "3        4  ...          Sad\n",
              "4        5  ...         Love\n",
              "\n",
              "[5 rows x 4 columns]"
            ]
          },
          "metadata": {},
          "execution_count": 9
        }
      ]
    },
    {
      "cell_type": "code",
      "metadata": {
        "colab": {
          "base_uri": "https://localhost:8080/",
          "height": 424
        },
        "id": "-QPC9EIAN8yx",
        "outputId": "0bd9d9f6-d64a-4b7a-8a61-2dbc8199963a"
      },
      "source": [
        "dataset"
      ],
      "execution_count": 10,
      "outputs": [
        {
          "output_type": "execute_result",
          "data": {
            "text/html": [
              "\n",
              "  <div id=\"df-fd1384a2-35fd-4b5b-b07e-44ba8e2eccc1\">\n",
              "    <div class=\"colab-df-container\">\n",
              "      <div>\n",
              "<style scoped>\n",
              "    .dataframe tbody tr th:only-of-type {\n",
              "        vertical-align: middle;\n",
              "    }\n",
              "\n",
              "    .dataframe tbody tr th {\n",
              "        vertical-align: top;\n",
              "    }\n",
              "\n",
              "    .dataframe thead th {\n",
              "        text-align: right;\n",
              "    }\n",
              "</style>\n",
              "<table border=\"1\" class=\"dataframe\">\n",
              "  <thead>\n",
              "    <tr style=\"text-align: right;\">\n",
              "      <th></th>\n",
              "      <th>Song_ID</th>\n",
              "      <th>Song_Title</th>\n",
              "      <th>Chorus</th>\n",
              "      <th>Emotion</th>\n",
              "    </tr>\n",
              "  </thead>\n",
              "  <tbody>\n",
              "    <tr>\n",
              "      <th>0</th>\n",
              "      <td>1</td>\n",
              "      <td>Diana</td>\n",
              "      <td>Diana,\\rLet me be the one to light a fire insi...</td>\n",
              "      <td>Inspiration</td>\n",
              "    </tr>\n",
              "    <tr>\n",
              "      <th>1</th>\n",
              "      <td>2</td>\n",
              "      <td>Don't forget where you belong</td>\n",
              "      <td>Don't forget where you belong\\rHome\\rDon't for...</td>\n",
              "      <td>Inspiration</td>\n",
              "    </tr>\n",
              "    <tr>\n",
              "      <th>2</th>\n",
              "      <td>3</td>\n",
              "      <td>Strong</td>\n",
              "      <td>I'm sorry if I say, \"I need you\"\\nBut I don't ...</td>\n",
              "      <td>Inspiration</td>\n",
              "    </tr>\n",
              "    <tr>\n",
              "      <th>3</th>\n",
              "      <td>4</td>\n",
              "      <td>Happily</td>\n",
              "      <td>I don't care what people say when we're togeth...</td>\n",
              "      <td>Sad</td>\n",
              "    </tr>\n",
              "    <tr>\n",
              "      <th>4</th>\n",
              "      <td>5</td>\n",
              "      <td>Better than words</td>\n",
              "      <td>Better than words\\rMore than a feeling Crazy i...</td>\n",
              "      <td>Love</td>\n",
              "    </tr>\n",
              "    <tr>\n",
              "      <th>...</th>\n",
              "      <td>...</td>\n",
              "      <td>...</td>\n",
              "      <td>...</td>\n",
              "      <td>...</td>\n",
              "    </tr>\n",
              "    <tr>\n",
              "      <th>795</th>\n",
              "      <td>796</td>\n",
              "      <td>Who says</td>\n",
              "      <td>NaN</td>\n",
              "      <td>NaN</td>\n",
              "    </tr>\n",
              "    <tr>\n",
              "      <th>796</th>\n",
              "      <td>797</td>\n",
              "      <td>One call away</td>\n",
              "      <td>NaN</td>\n",
              "      <td>NaN</td>\n",
              "    </tr>\n",
              "    <tr>\n",
              "      <th>797</th>\n",
              "      <td>798</td>\n",
              "      <td>Cheating on you</td>\n",
              "      <td>NaN</td>\n",
              "      <td>NaN</td>\n",
              "    </tr>\n",
              "    <tr>\n",
              "      <th>798</th>\n",
              "      <td>799</td>\n",
              "      <td>I warned myself</td>\n",
              "      <td>NaN</td>\n",
              "      <td>NaN</td>\n",
              "    </tr>\n",
              "    <tr>\n",
              "      <th>799</th>\n",
              "      <td>800</td>\n",
              "      <td>How long</td>\n",
              "      <td>NaN</td>\n",
              "      <td>NaN</td>\n",
              "    </tr>\n",
              "  </tbody>\n",
              "</table>\n",
              "<p>800 rows × 4 columns</p>\n",
              "</div>\n",
              "      <button class=\"colab-df-convert\" onclick=\"convertToInteractive('df-fd1384a2-35fd-4b5b-b07e-44ba8e2eccc1')\"\n",
              "              title=\"Convert this dataframe to an interactive table.\"\n",
              "              style=\"display:none;\">\n",
              "        \n",
              "  <svg xmlns=\"http://www.w3.org/2000/svg\" height=\"24px\"viewBox=\"0 0 24 24\"\n",
              "       width=\"24px\">\n",
              "    <path d=\"M0 0h24v24H0V0z\" fill=\"none\"/>\n",
              "    <path d=\"M18.56 5.44l.94 2.06.94-2.06 2.06-.94-2.06-.94-.94-2.06-.94 2.06-2.06.94zm-11 1L8.5 8.5l.94-2.06 2.06-.94-2.06-.94L8.5 2.5l-.94 2.06-2.06.94zm10 10l.94 2.06.94-2.06 2.06-.94-2.06-.94-.94-2.06-.94 2.06-2.06.94z\"/><path d=\"M17.41 7.96l-1.37-1.37c-.4-.4-.92-.59-1.43-.59-.52 0-1.04.2-1.43.59L10.3 9.45l-7.72 7.72c-.78.78-.78 2.05 0 2.83L4 21.41c.39.39.9.59 1.41.59.51 0 1.02-.2 1.41-.59l7.78-7.78 2.81-2.81c.8-.78.8-2.07 0-2.86zM5.41 20L4 18.59l7.72-7.72 1.47 1.35L5.41 20z\"/>\n",
              "  </svg>\n",
              "      </button>\n",
              "      \n",
              "  <style>\n",
              "    .colab-df-container {\n",
              "      display:flex;\n",
              "      flex-wrap:wrap;\n",
              "      gap: 12px;\n",
              "    }\n",
              "\n",
              "    .colab-df-convert {\n",
              "      background-color: #E8F0FE;\n",
              "      border: none;\n",
              "      border-radius: 50%;\n",
              "      cursor: pointer;\n",
              "      display: none;\n",
              "      fill: #1967D2;\n",
              "      height: 32px;\n",
              "      padding: 0 0 0 0;\n",
              "      width: 32px;\n",
              "    }\n",
              "\n",
              "    .colab-df-convert:hover {\n",
              "      background-color: #E2EBFA;\n",
              "      box-shadow: 0px 1px 2px rgba(60, 64, 67, 0.3), 0px 1px 3px 1px rgba(60, 64, 67, 0.15);\n",
              "      fill: #174EA6;\n",
              "    }\n",
              "\n",
              "    [theme=dark] .colab-df-convert {\n",
              "      background-color: #3B4455;\n",
              "      fill: #D2E3FC;\n",
              "    }\n",
              "\n",
              "    [theme=dark] .colab-df-convert:hover {\n",
              "      background-color: #434B5C;\n",
              "      box-shadow: 0px 1px 3px 1px rgba(0, 0, 0, 0.15);\n",
              "      filter: drop-shadow(0px 1px 2px rgba(0, 0, 0, 0.3));\n",
              "      fill: #FFFFFF;\n",
              "    }\n",
              "  </style>\n",
              "\n",
              "      <script>\n",
              "        const buttonEl =\n",
              "          document.querySelector('#df-fd1384a2-35fd-4b5b-b07e-44ba8e2eccc1 button.colab-df-convert');\n",
              "        buttonEl.style.display =\n",
              "          google.colab.kernel.accessAllowed ? 'block' : 'none';\n",
              "\n",
              "        async function convertToInteractive(key) {\n",
              "          const element = document.querySelector('#df-fd1384a2-35fd-4b5b-b07e-44ba8e2eccc1');\n",
              "          const dataTable =\n",
              "            await google.colab.kernel.invokeFunction('convertToInteractive',\n",
              "                                                     [key], {});\n",
              "          if (!dataTable) return;\n",
              "\n",
              "          const docLinkHtml = 'Like what you see? Visit the ' +\n",
              "            '<a target=\"_blank\" href=https://colab.research.google.com/notebooks/data_table.ipynb>data table notebook</a>'\n",
              "            + ' to learn more about interactive tables.';\n",
              "          element.innerHTML = '';\n",
              "          dataTable['output_type'] = 'display_data';\n",
              "          await google.colab.output.renderOutput(dataTable, element);\n",
              "          const docLink = document.createElement('div');\n",
              "          docLink.innerHTML = docLinkHtml;\n",
              "          element.appendChild(docLink);\n",
              "        }\n",
              "      </script>\n",
              "    </div>\n",
              "  </div>\n",
              "  "
            ],
            "text/plain": [
              "     Song_ID  ...      Emotion\n",
              "0          1  ...  Inspiration\n",
              "1          2  ...  Inspiration\n",
              "2          3  ...  Inspiration\n",
              "3          4  ...          Sad\n",
              "4          5  ...         Love\n",
              "..       ...  ...          ...\n",
              "795      796  ...          NaN\n",
              "796      797  ...          NaN\n",
              "797      798  ...          NaN\n",
              "798      799  ...          NaN\n",
              "799      800  ...          NaN\n",
              "\n",
              "[800 rows x 4 columns]"
            ]
          },
          "metadata": {},
          "execution_count": 10
        }
      ]
    },
    {
      "cell_type": "code",
      "metadata": {
        "colab": {
          "base_uri": "https://localhost:8080/"
        },
        "id": "TWHQX8pWNpOa",
        "outputId": "80b6f855-d501-4800-91ec-725742b66fab"
      },
      "source": [
        "lyrics2 = dataset['Chorus']\n",
        "lyrics2"
      ],
      "execution_count": 11,
      "outputs": [
        {
          "output_type": "execute_result",
          "data": {
            "text/plain": [
              "0      Diana,\\rLet me be the one to light a fire insi...\n",
              "1      Don't forget where you belong\\rHome\\rDon't for...\n",
              "2      I'm sorry if I say, \"I need you\"\\nBut I don't ...\n",
              "3      I don't care what people say when we're togeth...\n",
              "4      Better than words\\rMore than a feeling Crazy i...\n",
              "                             ...                        \n",
              "795                                                  NaN\n",
              "796                                                  NaN\n",
              "797                                                  NaN\n",
              "798                                                  NaN\n",
              "799                                                  NaN\n",
              "Name: Chorus, Length: 800, dtype: object"
            ]
          },
          "metadata": {},
          "execution_count": 11
        }
      ]
    },
    {
      "cell_type": "markdown",
      "metadata": {
        "id": "7vvB4soGOFXP"
      },
      "source": [
        "Checking the empty rows in dataset"
      ]
    },
    {
      "cell_type": "code",
      "metadata": {
        "colab": {
          "base_uri": "https://localhost:8080/"
        },
        "id": "ZKKWupuDOE-g",
        "outputId": "127ea704-a058-4d8a-b8a5-dfd939b0ce4c"
      },
      "source": [
        "print (dataset.isnull().sum())"
      ],
      "execution_count": 12,
      "outputs": [
        {
          "output_type": "stream",
          "name": "stdout",
          "text": [
            "Song_ID         0\n",
            "Song_Title      0\n",
            "Chorus        290\n",
            "Emotion       290\n",
            "dtype: int64\n"
          ]
        }
      ]
    },
    {
      "cell_type": "code",
      "metadata": {
        "colab": {
          "base_uri": "https://localhost:8080/",
          "height": 424
        },
        "id": "1zhJtwuJObZu",
        "outputId": "13042615-e0e8-4181-952b-3006ed2c209a"
      },
      "source": [
        "modifiedDF = dataset.dropna()\n",
        "modifiedDF"
      ],
      "execution_count": 13,
      "outputs": [
        {
          "output_type": "execute_result",
          "data": {
            "text/html": [
              "\n",
              "  <div id=\"df-7e2f4915-62d5-413b-a7f4-bc2cf9dc24fe\">\n",
              "    <div class=\"colab-df-container\">\n",
              "      <div>\n",
              "<style scoped>\n",
              "    .dataframe tbody tr th:only-of-type {\n",
              "        vertical-align: middle;\n",
              "    }\n",
              "\n",
              "    .dataframe tbody tr th {\n",
              "        vertical-align: top;\n",
              "    }\n",
              "\n",
              "    .dataframe thead th {\n",
              "        text-align: right;\n",
              "    }\n",
              "</style>\n",
              "<table border=\"1\" class=\"dataframe\">\n",
              "  <thead>\n",
              "    <tr style=\"text-align: right;\">\n",
              "      <th></th>\n",
              "      <th>Song_ID</th>\n",
              "      <th>Song_Title</th>\n",
              "      <th>Chorus</th>\n",
              "      <th>Emotion</th>\n",
              "    </tr>\n",
              "  </thead>\n",
              "  <tbody>\n",
              "    <tr>\n",
              "      <th>0</th>\n",
              "      <td>1</td>\n",
              "      <td>Diana</td>\n",
              "      <td>Diana,\\rLet me be the one to light a fire insi...</td>\n",
              "      <td>Inspiration</td>\n",
              "    </tr>\n",
              "    <tr>\n",
              "      <th>1</th>\n",
              "      <td>2</td>\n",
              "      <td>Don't forget where you belong</td>\n",
              "      <td>Don't forget where you belong\\rHome\\rDon't for...</td>\n",
              "      <td>Inspiration</td>\n",
              "    </tr>\n",
              "    <tr>\n",
              "      <th>2</th>\n",
              "      <td>3</td>\n",
              "      <td>Strong</td>\n",
              "      <td>I'm sorry if I say, \"I need you\"\\nBut I don't ...</td>\n",
              "      <td>Inspiration</td>\n",
              "    </tr>\n",
              "    <tr>\n",
              "      <th>3</th>\n",
              "      <td>4</td>\n",
              "      <td>Happily</td>\n",
              "      <td>I don't care what people say when we're togeth...</td>\n",
              "      <td>Sad</td>\n",
              "    </tr>\n",
              "    <tr>\n",
              "      <th>4</th>\n",
              "      <td>5</td>\n",
              "      <td>Better than words</td>\n",
              "      <td>Better than words\\rMore than a feeling Crazy i...</td>\n",
              "      <td>Love</td>\n",
              "    </tr>\n",
              "    <tr>\n",
              "      <th>...</th>\n",
              "      <td>...</td>\n",
              "      <td>...</td>\n",
              "      <td>...</td>\n",
              "      <td>...</td>\n",
              "    </tr>\n",
              "    <tr>\n",
              "      <th>505</th>\n",
              "      <td>506</td>\n",
              "      <td>Crazy In Love</td>\n",
              "      <td>Crazy In Love</td>\n",
              "      <td>Love</td>\n",
              "    </tr>\n",
              "    <tr>\n",
              "      <th>506</th>\n",
              "      <td>507</td>\n",
              "      <td>Thank You Next</td>\n",
              "      <td>Thank You Next</td>\n",
              "      <td>Happy</td>\n",
              "    </tr>\n",
              "    <tr>\n",
              "      <th>507</th>\n",
              "      <td>508</td>\n",
              "      <td>I Wanna Dance With Somebody</td>\n",
              "      <td>I Wanna Dance With Somebody</td>\n",
              "      <td>Happy</td>\n",
              "    </tr>\n",
              "    <tr>\n",
              "      <th>508</th>\n",
              "      <td>509</td>\n",
              "      <td>Up</td>\n",
              "      <td>Up</td>\n",
              "      <td>Inspiration</td>\n",
              "    </tr>\n",
              "    <tr>\n",
              "      <th>509</th>\n",
              "      <td>510</td>\n",
              "      <td>Always Remember Us This Way</td>\n",
              "      <td>Always Remember Us This Way</td>\n",
              "      <td>Happy</td>\n",
              "    </tr>\n",
              "  </tbody>\n",
              "</table>\n",
              "<p>510 rows × 4 columns</p>\n",
              "</div>\n",
              "      <button class=\"colab-df-convert\" onclick=\"convertToInteractive('df-7e2f4915-62d5-413b-a7f4-bc2cf9dc24fe')\"\n",
              "              title=\"Convert this dataframe to an interactive table.\"\n",
              "              style=\"display:none;\">\n",
              "        \n",
              "  <svg xmlns=\"http://www.w3.org/2000/svg\" height=\"24px\"viewBox=\"0 0 24 24\"\n",
              "       width=\"24px\">\n",
              "    <path d=\"M0 0h24v24H0V0z\" fill=\"none\"/>\n",
              "    <path d=\"M18.56 5.44l.94 2.06.94-2.06 2.06-.94-2.06-.94-.94-2.06-.94 2.06-2.06.94zm-11 1L8.5 8.5l.94-2.06 2.06-.94-2.06-.94L8.5 2.5l-.94 2.06-2.06.94zm10 10l.94 2.06.94-2.06 2.06-.94-2.06-.94-.94-2.06-.94 2.06-2.06.94z\"/><path d=\"M17.41 7.96l-1.37-1.37c-.4-.4-.92-.59-1.43-.59-.52 0-1.04.2-1.43.59L10.3 9.45l-7.72 7.72c-.78.78-.78 2.05 0 2.83L4 21.41c.39.39.9.59 1.41.59.51 0 1.02-.2 1.41-.59l7.78-7.78 2.81-2.81c.8-.78.8-2.07 0-2.86zM5.41 20L4 18.59l7.72-7.72 1.47 1.35L5.41 20z\"/>\n",
              "  </svg>\n",
              "      </button>\n",
              "      \n",
              "  <style>\n",
              "    .colab-df-container {\n",
              "      display:flex;\n",
              "      flex-wrap:wrap;\n",
              "      gap: 12px;\n",
              "    }\n",
              "\n",
              "    .colab-df-convert {\n",
              "      background-color: #E8F0FE;\n",
              "      border: none;\n",
              "      border-radius: 50%;\n",
              "      cursor: pointer;\n",
              "      display: none;\n",
              "      fill: #1967D2;\n",
              "      height: 32px;\n",
              "      padding: 0 0 0 0;\n",
              "      width: 32px;\n",
              "    }\n",
              "\n",
              "    .colab-df-convert:hover {\n",
              "      background-color: #E2EBFA;\n",
              "      box-shadow: 0px 1px 2px rgba(60, 64, 67, 0.3), 0px 1px 3px 1px rgba(60, 64, 67, 0.15);\n",
              "      fill: #174EA6;\n",
              "    }\n",
              "\n",
              "    [theme=dark] .colab-df-convert {\n",
              "      background-color: #3B4455;\n",
              "      fill: #D2E3FC;\n",
              "    }\n",
              "\n",
              "    [theme=dark] .colab-df-convert:hover {\n",
              "      background-color: #434B5C;\n",
              "      box-shadow: 0px 1px 3px 1px rgba(0, 0, 0, 0.15);\n",
              "      filter: drop-shadow(0px 1px 2px rgba(0, 0, 0, 0.3));\n",
              "      fill: #FFFFFF;\n",
              "    }\n",
              "  </style>\n",
              "\n",
              "      <script>\n",
              "        const buttonEl =\n",
              "          document.querySelector('#df-7e2f4915-62d5-413b-a7f4-bc2cf9dc24fe button.colab-df-convert');\n",
              "        buttonEl.style.display =\n",
              "          google.colab.kernel.accessAllowed ? 'block' : 'none';\n",
              "\n",
              "        async function convertToInteractive(key) {\n",
              "          const element = document.querySelector('#df-7e2f4915-62d5-413b-a7f4-bc2cf9dc24fe');\n",
              "          const dataTable =\n",
              "            await google.colab.kernel.invokeFunction('convertToInteractive',\n",
              "                                                     [key], {});\n",
              "          if (!dataTable) return;\n",
              "\n",
              "          const docLinkHtml = 'Like what you see? Visit the ' +\n",
              "            '<a target=\"_blank\" href=https://colab.research.google.com/notebooks/data_table.ipynb>data table notebook</a>'\n",
              "            + ' to learn more about interactive tables.';\n",
              "          element.innerHTML = '';\n",
              "          dataTable['output_type'] = 'display_data';\n",
              "          await google.colab.output.renderOutput(dataTable, element);\n",
              "          const docLink = document.createElement('div');\n",
              "          docLink.innerHTML = docLinkHtml;\n",
              "          element.appendChild(docLink);\n",
              "        }\n",
              "      </script>\n",
              "    </div>\n",
              "  </div>\n",
              "  "
            ],
            "text/plain": [
              "     Song_ID  ...      Emotion\n",
              "0          1  ...  Inspiration\n",
              "1          2  ...  Inspiration\n",
              "2          3  ...  Inspiration\n",
              "3          4  ...          Sad\n",
              "4          5  ...         Love\n",
              "..       ...  ...          ...\n",
              "505      506  ...         Love\n",
              "506      507  ...        Happy\n",
              "507      508  ...        Happy\n",
              "508      509  ...  Inspiration\n",
              "509      510  ...        Happy\n",
              "\n",
              "[510 rows x 4 columns]"
            ]
          },
          "metadata": {},
          "execution_count": 13
        }
      ]
    },
    {
      "cell_type": "code",
      "metadata": {
        "colab": {
          "base_uri": "https://localhost:8080/"
        },
        "id": "FTGlaPVebvyM",
        "outputId": "1f03ae3a-33ed-47d5-f3f2-7ec8ea06d647"
      },
      "source": [
        "import re\n",
        "import nltk\n",
        "nltk.download('stopwords')\n",
        "from nltk.corpus import stopwords\n",
        "from nltk.stem.porter import PorterStemmer\n",
        "corpus = []\n",
        "for i in range(0, 509):\n",
        "  Lyrics = re.sub('[^a-zA-Z]', ' ', modifiedDF['Chorus'][i])\n",
        "  Lyrics = Lyrics.lower()\n",
        "  Lyrics = Lyrics.split()\n",
        "  ps = PorterStemmer()\n",
        "  all_stopwords = stopwords.words('english')\n",
        "  all_stopwords.remove('not')\n",
        "  all_stopwords.remove('down')\n",
        "  all_stopwords.remove('over')\n",
        "  all_stopwords.remove('under')\n",
        "  all_stopwords.remove('no')\n",
        "  all_stopwords.remove('only')\n",
        "  all_stopwords.remove(\"don't\")\n",
        "  all_stopwords.remove(\"aren't\")\n",
        "  Lyrics = [ps.stem(word) for word in Lyrics if not word in set(all_stopwords)]\n",
        "  Lyrics = ' '.join(Lyrics)\n",
        "  corpus.append(Lyrics)"
      ],
      "execution_count": 27,
      "outputs": [
        {
          "output_type": "stream",
          "name": "stdout",
          "text": [
            "[nltk_data] Downloading package stopwords to /root/nltk_data...\n",
            "[nltk_data]   Package stopwords is already up-to-date!\n"
          ]
        }
      ]
    },
    {
      "cell_type": "markdown",
      "metadata": {
        "id": "esG0jgZSQK0Q"
      },
      "source": [
        "Print corpus"
      ]
    },
    {
      "cell_type": "code",
      "metadata": {
        "colab": {
          "base_uri": "https://localhost:8080/"
        },
        "id": "kFaGMJ3LQODW",
        "outputId": "5c8a28a0-b7f2-43c9-d182-1db6e11e1286"
      },
      "source": [
        "print(corpus)"
      ],
      "execution_count": 15,
      "outputs": [
        {
          "output_type": "stream",
          "name": "stdout",
          "text": [
            "['diana let one light fire insid eye lone even know feel cri diana let one lift heart save life think even realiz babi save mine', 'forget belong home forget belong home ever feel alon never proof song', 'sorri say need care not scare love caus not weaker wrong wrong make strong', 'care peopl say togeth know wanna one hold sleep want forev know wanna leav c mon babi happili', 'better word feel crazi love danc ceil everi time touch shook make wanna deep love god know babi', 'tell hurt vain see heart love rememb laugh let laugh burn even scream shout come back back oh carri fire water love hold closer hope heart strong enough night come find way dark', 'know know know know everi everi everi time lone sometim wanna cave wanna fight tri tri tri tri tri hold lone momma sorri not sober anymor daddi pleas forgiv drink spill floor one never left road sorri not sober anymor not sober anymor sorri promis get help intent sorri', 'walk th park saw anoth arm month apart look happier saw walk insid bar said somethin make laugh saw smile twice wide yeah look happier nobodi hurt like hurt nobodi love like promis not take person babi movin someon new caus babi look happier knew one day fall someon new break heart like lover know waitin', 'life get numb way feel drown drink date prescript pill one love left shelf farewel save someon els got save', 'club best place find lover bar go friend tabl shot drink fast talk slow come start convers trust give chanc take hand stop put van man jukebox start danc sing like girl know want love love handmad somebodi like come follow lead may crazi mind say boy let not talk much grab waist put bodi come follow lead come come follow lead love shape push pull like magnet although heart fall love bodi last night room bedsheet smell like everi day discov someth brand new love bodi', 'well found woman stronger anyon know share dream hope someday share home found love carri secret carri love carri children still kid love fight odd know alright time darl hold hand girl man see futur eye babi danc dark arm barefoot grass listen favorit song saw dress look beauti deserv darl look perfect tonight', 'oh compar everyon alway got finger self destruct wonder love enough wonder love enough alway look ride die caus mine heart gonna life time went fuck time went fuck wonder love enough', 'face face see eye eye like fire rain like fire rain drive insan drive insan stay mad anyth venu mar venu mar like differ star like differ star harmoni everi song sing chang thing ye hold let go perfectli imperfect chang thing', 'feel like drop ocean nobodi notic mayb head feel like trap skin bodi frozen broken got noth left high emot lose focu feel exhaust pray get lost moment give closest need somebodi say okay not okay okay not okay feel asham okay not okay', 'alway kind girl hid face afraid tell world got say dream right insid gonna let show time let know let know real exactli suppos gonna let light shine found way hold hide want', 'wanna play wanna stay wanna start messin head hit wall mayb known mayb known would walk would walk door hey said done met someon brought face cut part broke heart ran away guess known guess known would talk would talk even star moon collid never want back life take word lie oh oh oh realli care', 'let go let go hold back anymor let go let go turn back slam door snow glow white mountain tonight not footprint seen kingdom isol look like queen wind howl like swirl storm insid keep heaven know tri let let see good girl alway conceal feel let know well know', 'readi ha time take boss right not gonna fake not go caus game better come play use hold freak back let go make choic bitch run show leav light make behav uh huh huh say complic must mind underr rate rate', 'even heart see not bein true deep within soul feel noth like use sometim wish could turn back time imposs may seem wish could bad babi quit playin game heart quit playin game heart tear us apart quit playin game heart known start know got stop heart tear us apart heart quit playin game heart', 'got everyon watchin us babi let keep secret littl bit scandal babi let see littl less convers littl touch bodi caus caus tell came caus wait edg control need need know know oh babi come light mayb let littl bit danger babi want littl less convers littl touch bodi caus', 'tell get feel realli wanna turn tell get feel realli wanna make ah caus see tryin sublimin tryin see gon one sing along admit excit part kinda like lead babi tell motiv motiv motiv tell motiv motiv', 'day thing take way much energi look whole room spin take care away overcompl peopl tell medic feel blood runnin swear sky fallin know shit fabric time goe control mind know els tri tell everi time keep breathin breathin breathin breathin oh gotta keep keep breathin keep breathin breathin breathin breathin oh gotta keep keep breathin', 'took away tabl pace back forth lay still pull feel heartbeat hear scream pleas leav hold still want come back still need let take hand make right swear love life hold still need wanna let go know not strong wanna hear say babi let go home let go home yeah wanna take home', 'awhil sinc lost ya get close year world keep turn alway still heartach friendli face us want get place let get place pleas take home pleas take home pleas take wheel night lay cloth blind save hit floor let leav alon babi pleas take home', 'babi sink bed stare ceil let lay catch breath slip away high feel promis regret let love death', 'oh kill know one tri not lose mind wait day come everyon alright know one pretend like noth wrong frozen underneath sun feel like belong know one see shadow dark hallucin tear apart tear apart feel like world', 'yeah ooh darlin part want let go oh charmin part still holdin kiss crawl back love want nothin lose yeah caus nothin compar good old fashion heartach put yeah portland tri sellin organ babi kept caus nothin compar good old fashion heartach put', 'one told way lie well one told mani peopl cri well late say sorri would know care pleas bother tri find not let tell way look way act color hair voic soft cool eye clear bright not', 'matter go everybodi stare not fanci cloth rock baggi jean get close comfort comfort need eat bodi weight chocol ice cream mayb bite nail think speak fit crowd ever get much sleep wish leg bigger bigger new york citi love want love caus love gender free feel like put makeup cheek wanna love everi singl part bodi top bottom not supermodel magazin okay not perfect caus perfect caus perfect caus perfect', 'mess talk shit gonna push away say love make crazi go go look look eye realli go away without fight reason done polit told one two three four five six thousand time made obviou made clear want spell f r e n made obviou made clear want spell f r e n f r e n', 'honest right sunday morn bedsheet wake alon thought day honest better way everi time think get head never ever let forget caus think gone hear song radio like take back place use go tri fight hear stop smile rememb gone babi song radio use know', 'think love bad health see one els guess blame anyon hey ayi yeah know today call like hundr time yesterday call like hundr five nobodi els want side hey ayi yeah bad day still great time drunk face listen red red wine ok laugh cri raini day still sunshin got problem need deal haha ah trust us want let deal yeah', 'realli know someth start caus deep insid feel good whenev part ever wanna go backtrack broken heart feel like hit head caus star star eye sky babe sit seat car hand thigh ye think alright babe ever go far think love think feel way back young heard love never believ chang mind world record time said hello said babi tell goodby caus love believ love easi breath love easi breath', 'run run chase sunset alright alright done done howev dark get alright alright pull trigger tight uh glitter night live live love live like free like breathin fire like breathin fire roll downtown ride dragon night long like breathin fire', 'caus like give damn got enough drama need fake friend need anyon understand like give damn', 'without feel broke like half whole without got hand hold without feel torn like sail storm without sad song sad song', 'not memori feelin way blood rush finger not movi caus lie not issu caus mine everi movement way shiver twist hair end finger young daylight dream gone music meet song fell right wrong would come back one last song', 'chase sun till burn keep go use move sound keep', 'vibe one els help feel way', 'miss forev thought wanna know know better want let go kiss never oh babi take home know better want let go', 'got want know heart mine bruis knew start lose blood carpet not tri wash scar mark skin etch like stone save yeah yeah call love still hate yeah yeah lord tri say pain medicin one tast numb save yeah yeah lord tri say', 'good morn song', 'laugh song', 'wanna show u everyth see way im fell need u tonight trow arm around love u deeper depest snow winter greatest gift live u', 'life never gonna live forev want live aliv', 'five word swear breath wanna air live die steal sun sky word say love', 'oh littl runaway daddi girl learn fast thing say ooh littl runaway', 'cowboy steel hors ride want dead aliv want dead aliv', 'never say goodby old friend hope would never end never say goodby holdin gotta tri holdin never say goodby', 'hard say thing want say sometim one broken old street light lock door leav world outsid got give five word thank love eye see part lip breath thank love', 'prayer thought want send round bend break understand', 'gonna take miracl top save us time savior left town gonna need miracl caus line let river hope flood know dam bust need come run let', 'came like mani find better life find piec easi street final aliv knew noth good come easi good thing take time made bed lie die crime', 'father love daughter like mother love son write stori one day arriv til walk til run noth pride noth love', 'oh pleas ask make play pretend oh oh use oh pleas bet everybodi fake happi', 'gonna make wonder even tri hard time gonna take laugh cri live still know even surviv gotta get rock bottom', 'heart beat beat heart', 'not angri anymor well sometim think badli well sometim', 'best thing could happen longer made not war not raptur person take trick fool get anywher not kid memori well fend wanna hear sad song wanna feel pain swear fault caus know not not oh not yeah friend stuck togeth wrote name blood guess accept chang good good good', 'hold onto hope got let go nobodi say dream free care cost', 'alon feel much better around feel togeth feel right togeth togeth built wall togeth hold hand fall hand fall', 'got dumb friend know say tell difficult know even know thing hide shit', 'life good think hell want mess around realli care love hate save babi babi life good hell hell', 'make hot make wanna drop ridicul bare stop hardli breath make wanna scream fabul good babi babi', 'anyon tryin find somebodi come take home damn cold night tri figur life take hand take somewher new know', 'rememb crazi thing said left run head alway everywher right wish crazi thing think went alway everywher right wish', 'smile sinc everi day everyth felt right turn around suddenli need reason smile', 'not alon togeth stand side know take hand get cold feel like end place go know give give keep hold caus know make make stay strong', 'hold everyth heavi hold much carri keep drag around bring let go set free hold everyth heavi', 'take river bend take fight end wash poison skin show whole fli silver wing past black siren sing warm nova glow drop dream caus crack castl glass hardli anyth see see', 'build break back build burn wait burn ground fall take turn fan flame blaze burn wait burn ground fall take turn fan flame blaze burn wait burn ground', 'sit empti room tri forget past never meant last wish know take move know feel lie wanna trade life someth new hold got', 'feel way turn back ignor time heal damag anymor turn back ignor', 'say care one light goe sky million star flicker flicker care someon time run moment quicker quicker care one light goe well', 'wake sweat anoth day laid wast disgrac stuck head feel like never leav place escap worst enemi given sick feel noth say take away suffoc tell fuck wrong', 'light guid home ignit bone tri fix high love let go never tri never know worth', 'upon time side upon time side game go go throw water flame caus realli hurt', 'call magic cut two magic disappear view', 'girl expect world flew away reach ran away sleep dream paradis everi time close eye', 'lose blur star see deceiv dream believ okay not okay', 'know love know care shout whenev love heart never ever ever apart babi babi babi oh like babi babi babi like babi babi babi oh thought alway mine mine', 'yeah late say sorri caus miss bodi late say sorri yeah know let late say sorri', 'nobodi call mayb know caus everyth one listen lone lone', 'need hold heaven place not far away know one say make mistak take hand hold tell everyth need say caus know feel someon feel someon lose way', 'caus like way look much oh babi go love think still hold someth go love', 'never say never fight fight til forev make right whenev knock not stay ground pick never say never', 'bright fade light set heart fire', 'take night fall dark side need light live dark side see let feel still young fearless let go light fall dark side', 'night not forev least togeth know not alon know not alon anywher whenev apart still togeth know not alon know not alon', 'love like love song babi love like love song babi love like love song babi keep hit repeat', 'wanna hold not suppos lie close someon els stuck head get could know go back know go back know go back', 'caus wanna look good good oh oh wanna look good good oh oh let show proud leav dress mess floor still look good good oh oh', 'readi readi perfect storm perfect storm caus mine mine go back mark word love make levit like bird like bird without cage earth choos walk away walk away', 'held got get readi caus enough see see got eye tiger fighter danc fire caus champion gonna hear roar louder louder lion caus champion gonna hear roar', 'done world look done peac pledg son flower field time dream said mine ever stop notic children dead war ever stop notic cri earth weep shore', 'heal world make better place entir human race peopl die care enough live make better place', 'wanna rock night danc day sunlight wanna rock night gonna rock night away', 'got number ah know game ah put ah insan ah sinc seduc ah feel ah know woman ah kill', 'beat beat beat beat one want defeat showin funki strong fight matter wrong right', 'near far wherev believ heart go open door heart heart go love touch us one time last lifetim never let go til gone love love one true time hold life alway go', 'surrend everyth feel chanc live reach know feel make thousand dream still believ make give hold arm never let go surrend', 'love pleas say love three word could chang live forev promis alway togeth til end time', 'got one life learn care gonna say let wanna danc love danc', 'super ladi got babi got babi babi move bodi move bodi danc papi rock bodi rock bodi danc papi put hand air danc man care put hand air air air move bodi move bodi danc papi rock bodi rock bodi danc papi', 'lone', 'control put someth insid caus problem boy must poison know tryin stop stop caus got need got open tri leav hold drop drop stop stop stop', 'babi love babi need babi need gotta babi gotta without without babi love babi love yeah yeah babi need gotta gotta yeah yeah without', 'tropic island breez natur wild free long la isla bonita samba play sun would set high ring ear sting eye spanish lullabi', 'burn burn burn love burn burn love burn burn love love', 'see eye want see life want frozen heart not open consum much get wast time hate regret broken heart not open could melt heart never apart give hold key point place blame know suffer lose heart broken love bird need fli let hurt insid die frozen heart not open could melt heart', 'gonna carri lift watch stumbl heartach gonna carri live love live love not give gonna carri live love live love not gonna stop caus love gonna lift love gonna lift', 'took holiday took time celebr one day life would would nice holiday celebr holiday celebr turn world around bring back happi day put troubl time celebr', 'thought much fun guess one grown up get job done peopl give busi not live fear live chao gotta get away parti want free soul', 'dream song sing help cope anyth see wonder fairi tale take futur even fail believ angel someth good everyth see believ angel know time right cross stream dream cross stream dream', 'peopl stop fight angel cri better love answer', 'everyth seem better know see today ment togeth pain away come save lose touch day day caus miss much come save lose mind wait wait mine', 'never miss beat lightn feet see see danc make move go know know shake', 'huh happi clap along feel like room without roof happi clap along feel like happi truth happi clap along know happi happi clap along feel like wanna', 'danc queen young sweet seventeen danc queen feel beat tambourin oh yeah danc jive time life ooh see girl watch scene dig danc queen', 'use think mayb love babi sure cant wait till day knock door everytim go mailbox gotta hold co wait till write come around walk sunshin', 'hair toss check nail babi feelin feel good hell hair toss check nail babi feelin feel good hell feel good hell babi feelin feel good hell', 'worri thing caus everi littl thing gonna right singin worri thing caus everi littl thing gonna right', 'feel tonight gonna good night tonight gonna good night tonight gonna good good night tonight night let live got money let spend go smash like oh god jump sofa let kick', 'kill make stronger stronger kill make stronger stand littl taller mean lone alon', 'gotta ignit light let shine night like fourth juli caus babi firework come show em worth make em go oh oh oh shoot across sky babi firework come let color burst make em go oh oh oh gonna leav em awe awe awe', 'littl song wrote might want sing note note worri happi everi life troubl worri make doubl worri happi worri happi', 'babi light world like nobodi els way flip hair get overwhelm smile ground hard tell know oh oh know beauti saw see understand want desper right lookin believ know oh oh know beauti oh oh make beauti', 'wake everi morn head daze not sure say fuck say anyway everybodi tri tell go phase know phase wanna feel okay yeah battl depress question still remain post traumat stress suppress rage doctor tri tell go phase yeah not fuck phase wanna feel okay okay yeah struggl bullshit everi day probabl caus demon simultan rage obliter disintegr annihil caus break search way liar cheater non believ popular popular monster break fall love fall apart popular popular monster', 'let go crazi let get nut let look purpl banana til put us truck let go', 'matter love capit h put paw caus born way babi mama told young born superstar roll hair put lipstick glass boudoir noth wrong love said caus made perfect babe hold head girl go far listen say beauti way caus god make mistak right track babi born way hide regret love set right track babi born way', 'babi one love one need one see come babi one give one alway call need make everyth stop final put love top', 'care long love care long love', 'uptown funk uptown funk uptown funk uptown funk said uptown funk uptown funk uptown funk uptown funk come danc jump sexi flaunt freaki brag come show come danc jump sexi flaunt well saturday night spot believ watch come', 'want want babi sugarboo levit milki way renegad yeah yeah yeah yeah got moonlight starlight need night come danc levit moonlight starlight moonlight need night come danc levit', 'touch like touch nobodi put hand tire hear sorri kiss make kiss kiss make leav parti caus want tire hear sorri kiss make kiss kiss make', 'would stay home caus doin better alon said hello know end stay home caus let go fall love one could break heart oh doin better alon said hello know end stay home caus let go fall love one could break heart', 'pain made made believ believ pain break build believ believ pain oh let bullet fli oh let rain life love drive came pain made made believ believ', 'not live without even want tri everi night dream ever sinc day said goodby fool right hold nothin babi knew word say road take find way back heart get find way back heart', 'hello wonder year like meet go everyth say time suppos heal ya done much heal hello hear california dream use younger free forgotten felt world fell feet differ us million mile', 'could make happi make dream come true noth go end earth make feel love make feel love', 'take eye leav far asham watch never end stay time caus love anymor pleas stay come closer tri chang mind cruel kind love dark feel like ocean apart much space us babi alreadi defeat ah yeah yeah yeah yeah yeah yeah yeah everyth chang', 'know not one regret thing done sometim feel stand reflect see wish could live littl look sky not floor feel like life flash watch cri miss air miss friend miss mother miss life parti thrown million year ago', 'daydream sit sea soak sun real lover make past feel girl like never felt figur', 'pain cut deep night keep sleep look see remedi world seem cruel heart make feel like fool promis see remedi', 'miss light go illumin doubt pull hold tight let go babi give light miss light go illumin doubt pull hold tight let go babi give light love way bodi move toward across room brush past everi groov one like babi bring heart bring soul delic ego wanna step great unknown set tone', 'right feet air made brick pull turn weak find repeat like broken tune forev excus intent give pretend forgiv time without know melt heart stone hear word made say name like could us best tidi head one love one love', 'wait readi love put hand everyth differ better wait readi love put hand somebodi differ better', 'heart beat faster caus know want swear hell never leav caus know one thing love need let live tonight like last streak town live fast caus nake came nake leav saw world die live stole crown free let get breath', 'season chang love went cold feed flame caus let go run away run circl run away run away dare someth wait take blame run away run circl run away run away run away', 'go time fear one save noth realli got way drive crazi need somebodi heal somebodi know somebodi somebodi hold easi say never guess kinda like way numb pain day bleed nightfal not get let guard pull rug get kinda use someon love', 'caus girl like run round guy like til sun come need girl like yeah yeah girl like love fun yeah want come need girl like yeah yeah', 'know alway night shift stand night alon need explan caus babi boss home gotta go work gotta put work let bodi work work home', 'wanna know take home love way use love', 'oh mess right insid search sweet surrend not end work go motion go us see flame insid eye burn bright wanna feel love easi babi mayb liar tonight wanna fall love put faith stomach long love lover', 'want grind shine stride stunt cheat leav cri harder trust lie die realiz yeah yeah tri want grind shine stride stunt cheat leav cri harder trust lie die somehow realiz harder love harder harder teach heart beat drum harder keep harder sleep scare dark not gonna run harder break harder make get way draw gun not gonna play not game not gonna chang put son put mom put sister put bitch hoe put team put g say mean alreadi know put citi put bentley got beamer want roll sip henni ride semi nigga call toast blah blah blah callin plug callin cop call snitch holdin grudg callin judg say thug call bitch call ho call bro call call trick tire hate tire snake tire face dick want fame want name want break want love want cake wanna great want chang want fall want crawl want starv want drug want fail want jail wantin soul wantin blood reveng end respect crown reign start aim hop plane not go dodg flame callin name wanna save know thought save got plan let load chopper ride around woo roll em sleep hey gon see fuckin murder spree brrat brrat gon see nobodi say peep bah bah gon see turn back brrat bah gon see roll em sleep bah catch nigga slippin might hit bah bah bah gon miss caus reveng feel sweet woo gon see nobodi say peep bah bah gon see give pen even drink fuck need henni gin plenti sin broke bitch heart never forgiv go find kill buri friend never could swim use push weight nigga gym come step timb could not walk path never caught cab walk nigga lost sad never would call dad fuck nigga depress fuck mental torn half feelin stuck hard laugh music wish could never got clout plottin drownin everyon callin nobodi tri reach proud nigga flip script cannot live quit wanna chill wanna get flick wanna rekindl shit n flex not get sleep bare hope ant word p know need reveng peac rollin deep finna turn block world war', 'world wish side hoax withhold pain make swear life feel make want truth caus tell empti hope', 'hold breath caus forget never forgiv know know true friend stab front', 'bring alreadi life turn upsid ride downward spiral round round keep fli keep fight ever bring good fine life divin hate shame one blame might disguis life lie chastis', 'care world end today invit anyway said tast famou drew heart not artist fuck work art got f c got k thing miss bitch like', 'throw wolv tomorrow come back leader whole pack beat black blue everi wound shape everi scar build throne', 'man whatev dre let run ayo turn beat littl bit ayo song anyon fuck shut listen ayo', 'cut broken heart union avenu let street run red reveng fake apolog everyth repay price head price head sky come ghost town first wall gun held high dead night first wall come test first take fall sky come ghost town first first wall', 'like littl game like tilt stage role made play fool like like perfect crime laugh lie said gun mine cool like got smarter got harder nick time honey rose dead time got list name red underlin check check twice oh ooh look made', 'word like knive sword weapon use knock feet got feel like noth voic like nail chalkboard call wound pick weaker man well take one singl blow know know someday live big old citi ever gonna mean someday big enough hit ever gonna mean gotta mean', 'one want hear one want see desper pathet beg spare pleasur compani diamond leav bone burn everi bridg made watch choke heart break bleed everi word said go hell heaven sake burn everi bridg made watch choke heart break bleed everi word said go hell heaven sake', 'oh think know forgotten would make feel drag spirit thank pain made rais game still rise still rise yeah make joke go broke blow smoke not alon laugh laugh rais bar hit hard play card star laugh laugh', 'caus babi got bad blood know use mad love take look done caus babi got bad blood hey got problem think solv made realli deep cut babi got bad blood hey think could trust ruin shine rust hit weak babi breath rub deep salt wound like laugh right', 'well good look happi healthi not ever care ask good great without babi god wish could lost mind spent night cri floor bathroom unaffect realli get guess good', 'away happier ever wish could explain better wish true give day two think someth clever write letter tell', 'better lose music moment better never let go get one shot not miss chanc blow opportun come lifetim', 'not afraid not afraid take stand ride everybodi guess go place get one might still place tryin get follow get', 'betray caus know never feel sorri way hurt yeah talk togeth gave word matter took two week go date guess cheat still still traitor yeah still traitor', 'hope happi not like selfish know let go find someon great find one better hope happi wish best realli say love babi not like love think fondli hand hope happi happier', 'go stand corner think ha time littl reveng stori start hot summer right want came along got alon let hear applaus took faster could say sabotag never saw come would suspect underestim deal know pain beat like drum underestim steal not saint not think actress whoa better known thing mattress whoa soon gonna find steal peopl toy playground make mani friend keep mind keep mind noth better reveng ha', 'feel cool top bottom cool everi littl thing dammit feel cool yeah', 'write one song not drink without thinkin late tell everyth mean noth', 'could find way let slowli littl sympathi hope show wanna go lone leavin babi let slowli let let let let let let wanna go lone leavin babi let slowli', 'talk anymor talk anymor talk anymor like use love anymor oh talk anymor like use', 'know dress karma perfum regret got think bout mine oh ya expect not come home tonight want attent want heart mayb hate thought someon new yeah want attent knew start make sure never gettin', 'know treat better girl like deserv gentleman tell wast time wast cri instead know treat better better', 'admit wrong els say girl blame head not heart drunk gone make right promis feel involv mmh said boy tell honestli real show yeah said save apolog babi gotta know long goin creepin round callin babi long goin actin shadi feelin late babi', 'speak word hear melodi twilight hard see wrong resist give truth littl twist gonna get away not sorri believ fell fell hole bottom soul think could go low look done lose got plan go solo solo', 'hate love hate love want put nobodi els hate love hate want want need never', 'everyth gonna alright everyth gonna okay gonna good good life therapist say everyth gonna alright everyth gonna fine gonna good good life', 'ooh love one ever gonna hurt love gonna give love nobodi matter like rockaby babi rockaby gonna rock rockaby babi cri somebodi got rockaby babi rockaby gonna rock rockaby babi cri', 'unbreak broken unsay spoken word find hope hopeless pull train wreck unburn ash unchain reaction not readi die not yet pull train wreck', 'let water rise drift surviv need stay let drift away love love whenev readi whenev readi whenev readi whenev readi surrend surrend surrend', 'said forev almost bought miss fight old apart break dish disappoint still love promis noth happen way want everi corner hous haunt know said not talk miss sorri', 'lone broken angel lone listen heart lonley broken angel come save fall apart', 'suppos sit around wait well turn back need time move need love feel strong caus time think mayb good oh believ life love feel someth insid say realli think strong enough', 'mess tonight lost anoth fight lost start keep fall keep hit ground alway get see next bird fli fall get nobodi learn without get wrong give give till reach end start leav want tri everyth want tri even though could fail give give till reach end start leav want tri everyth want tri even though could fail', 'fight song take back life song prove alright song power turn start right strong play fight song realli care nobodi els believ caus still got lot fight left', 'gonna love need anybodi els gonna love need anybodi els love help need anybodi els anytim day night love gonna love need anybodi els gonna love need anybodi els love help need anybodi els anytim like', 'stand light seen tell hear say never look back walk away carri music memori keep insid laugh everi day stop tear fall insid not go hide caus greatest risk ever take far stand light seen stand light seen courag kind hold onto faith get give never late reach branch climb leav sad behind fight hard love never give enough', 'dream big loud jump high touch cloud wo oh wo oh stretch hand sky danc monster night wo oh wo oh never gonna look back woah never gonna give pleas wake gonna best day life', 'amaz turn phrase weapon drug outcast backlash somebodi lack love start speak noth gonna hurt way word settl neath skin kept insid sunlight sometim shadow win wonder would happen say wanna say let word fall honestli wanna see brave', 'life worth live life worth live live anoth day mean forgiv peopl make mistak mean give life worth live', 'wanna hide truth wanna shelter beast insid nowher hide matter breed still made greed kingdom come kingdom come feel heat look eye demon hide demon hide get close dark insid demon hide demon hide', 'tri best caus man man gotto learn take tri believ go get rough thing get difficult gotta hang tough make strong histori repeat tri succeed never doubt one dream best around noth gonna ever keep', 'yeah greatest best king kong bang chest beat world beat war talk god go bang door throw hand beat clock move mountain break rock call practic call luck either way go histori book standin hall fame world gonna know name caus burn brightest flame world gonna know name wall hall fame', 'work harder make better faster make us stronger ever hour hour work never', 'hurt babi broken need love love need without someth weak got beg beg knee', 'late lose sleep dream thing could babi pray hard said count dollar count star yeah count star', 'almost heaven west virginia blue ridg mountain shenandoah river life old older tree younger mountain growin like breez countri road take home place belong west virginia mountain mama take home countri road', 'oh wanna danc somebodi wanna feel heat somebodi yeah wanna danc somebodi somebodi love', 'romeo save feel alon keep wait never come head know think knelt ground pull ring said marri juliet never alon love realli know talk dad go pick white dress love stori babi say ye', 'alway rememb day kiss lip light feather went like never better summer ooh uh eleven act like grown up like present drink plastic cup sing love forev ever well guess true', 'quarter one alon need said call lost control need know without need', 'come yellow mountain dark flat land ride poni name wildfir whirlwind side cold nebraska night', 'long day without friend tell see come long way began oh tell see see', 'song repeat dancin heartbeat gone feel incomplet want truth wanna part symphoni hold tight not let go symphoni like love song radio hold tight not let go', 'world boy one guy well could specif uh human want know sake us earthl want say love earth planet love earth home', 'oh love hold forev reach love seem far say littl prayer hope dream take sky blue see love oversea coast coast find place love field green see love', 'lay love wanna everi time breath feel brand new open heart show love walk right lay love', 'look back thing done tri someon play part kept dark let show shape heart sad beauti loneli tragic help win war oh touch bother everi second make weaker save man becom', 'see not tough love uptown girl know seen uptown world get tire high class toy present uptown boy got choic', 'show mean lone feel need walk tell someth miss heart life goe never end eye stone observ trend never say forev gaze guilti road endless love endless love control everi wish done tell', 'never wish lone heart not fault chose play fool one day may come shoe heart break feel like exchang heart know fell apart feel pain memori start exchang heart', 'blood shot eye watch sleep warmth feel besid slowli fade would hear call name would hold knew shame alway someth differ go wrong path walk wrong direct alway someon fuck hang anybodi help make thing better tear fall crash around consciou call guilti come home tear fall crash around consciou call guilti come home', 'everi breath take die everi step take fall apart one chanc breath let take chanc right scream live one life short time make everi second divin go live life hard live life hard', 'help hopeless well beg knee save bastard soul wait sorri brother sorri lover forgiv father love mother hear silenc see dark fix broken feel heart scare get close hate alon long feel not feel higher get lower sink drown demon know swim', 'born seed sown not obey life battl row enslav expos lie enrag believ heaven believ hell never join herd could not adjust well slave master not choos path set free go way swim stream forev fight power go way swim stream forev fight p wer eagl fli alon', 'nightmar nightmar come life drag devil show guest forev peac mind less never hate twist mind god side old acquaint sever burn world last endeavor flesh burn smell air caus men like easi soul steal steal stand line ink number head slave end time noth stop mad turn haunt yearn pull trigger known price evil hurt know belong yeah ooh fuckin nightmar nightmar come life fight not fail not fall end like other die die drench sin respect anoth feel fire feel hate pain desir lost hit wall watch crawl replac liar', 'walk street shoot peopl meet rubber tommi water gun come deputi gonna come get gotta get get run got siren loos ran right juic gonna put cell go heaven let go hell crazi stone cold crazi know', 'life seem fade away drift everi day get lost within noth matter one els lost live simpli noth give noth need end set free thing not use miss one insid deathli loss real cannot stand hell feel empti fill point agoni grow dark take dawn gone one save late think think even tri yesterday seem though never exist death greet warm say goodby bye', 'freedom fighter sent sun escap brainwash mind pollut leav earth sin hate find anoth world freedom wait yeah past star field ancient void shield dark find love upon land world unknown son freedom make home leav earth satan slave leav futur grave make home love stay peac happi everi day', 'nobodi want stare world plan vengeanc soon unfurl time iron man spread fear vengeanc grave kill peopl save', 'reveng scream reveng wrong wrong far long constantli frustrat move mountain less channel hate product find hard impress', 'live night neath devil torn asund call solv crook rhyme close impos slumber call bell begin chime squar level readi swear right right devil squar level readi stand right right right right hide light sacrif noth still call entranc shrine hammer nail sacr coffin call power clandestin', 'rock like hurrican rock like hurrican', 'split lung blood thunder see white whale break back crack oar men wish prevail ivori leg propel harpoon thrust sky aim directli crook brow look straight eye', 'see easili bother persist one step lash want get skin call friend got friend like standard anymor take belong someth not stay away lesson learn life known dawn time respect walk say respect walk talkin talkin run mouth not around easi achiev cri weak friend sympath hear violin play song friend tell everi word', 'auschwitz mean pain way want die slow death immens decay shower cleans life forc like cattl run strip life worth human mice angel death four hundr thousand die angel death monarch kingdom dead sadist surgeon demis sadist noblest blood destroy without merci benefit aryan race surgeri anesthesia feel knife pierc intens inferior use mankind strap scream die angel death monarch kingdom dead infam butcher angel death pump fluid insid brain pressur skull begin push eye burn flesh drip away test heat burn skin mind start boil frigid cold crack limb long last frozen water burial sewn togeth join head matter time til rip apart million laid crowd tomb sicken way achiev holocaust sea blood buri life smell death burn deep insid abacin eye bleed pray end wide awak nightmar wing pain reach face death stare blood run cold inject cell die eye feed scream mutant creat pathet harmless victim left die rancid angel death fli free', 'caus gonna stand even break find way break even find heaven walk hell love not alon caus gonna stand', 'littl song wrote might want sing note note worri happi everi life troubl worri make doubl worri happi worri happi', 'god lone open window hear sound peopl hear sound peopl venu planet love destroy global warm peopl want much peopl want much want piti want somebodi near guess coward want feel alright know one save need someon kiss give one good honest kiss alright nobodi nobodi nobodi', 'far away still near light come music die see stand came say goodby corner watch kiss oh give not guy take home ooh keep danc', 'well need light burn low miss sun start snow know love let go know high feel low hate road miss home know love let go let go stare bottom glass hope one day make dream last dream come slow go fast see close eye mayb one day understand everyth touch sure die', 'hurt close much say watch walk away never know could not see love tri hard deal pain lose everywher go hard forc smile see old friend alon still harder get get dress live regret know could would trade give away word save heart left unspoken', 'hope buy flower hope hold hand give hour chanc take everi parti caus rememb much love danc thing done man thing done man', 'wish could could said goodby would said want mayb even cri knew would last time would broke heart two tri save part', 'close love need pain twice enough vain time start pass know frozen ooh someth happen first time heart melt ground found someth true everyon look round think go crazi oh care say love tri pull away know truth heart crippl vein keep close cut open keep bleed keep keep bleed love', 'heard settl found girl marri heard dream came true guess gave thing give old friend shi like hold back hide light hate turn blue uninvit stay away fight hope see face remind never mind find someon like wish noth best forget beg rememb said sometim last love sometim hurt instead', 'alway need time never thought would need cri day feel like year alon bed lie made side walk away count step take see much need right gone piec heart miss gone face came know miss gone word need hear alway get day make okay miss', 'think would let easi oh girl think walk away like noth babi moment hard breath yeah caus took away biggest part yeah life unpredict yeah never thought love like would leav alon oh wast time like alreadi made mind sympathi caus line oh yeah think would let easi oh girl think walk away like noth girl bad day hey hey hey know wrong could said goodby babi bad day like whoa', 'tri get tri get behind back back back ooh yeah tryna tell like other bad bad bad bad', 'well mayb god ever learn love shoot somebodi outdrew not crime hear tonight not pilgrim claim seen light cold broken hallelujah', 'say class team stuck daydream way sinc late face seem slowli sink wast crumbl like pastri scream worst thing life come free us caus upper hand go mad coupl gram wanna go outsid tonight pipe fli motherland sell love anoth man cold outsid angel fli angel die cover white close eye hopin better life time fade tonight straight line', 'come skinni love happen suckl hope lite brassier sullen load slow spit told patient told fine told balanc told kind love wast well hell caus break britch end line love fight fall far behind love fight fall far behind', 'float emerald sea keep danc keep still tri keep balanc right tri feel like wast time heavi hand pull chest latch color flesh quietli hover fight feel like wast time feel like wast time say goodnight know swallow sea collid color devour say goodnight alreadi cri alreadi', 'walk water stare across blue look love stolen take leav give unbroken find love knew past around take leav shall meet sunris stand one last time two look deep eye take leav', 'cover blanket silent breath demon room scare reason tear shed tonight come back sing sweet lullabi dream come aliv angel sing along turn world song gonna keep safe warm sleep sleep siren slowli fade know found way need afraid hold', 'everglad greener yesterday skip stone away go back start photo darkroom fade hold even arc beyond furthest edg world full strang tower sky chanc choos time set way know doctor know live past way go go back', 'crush burn break pleas stay fade lose control start fall stop turn around lose ground lose ground stop turn around lose ground lose ground time let go time let go time let go', 'seren', 'pulsar', 'quasar', 'love storm come let sky keep fall yeah world got noth us scare away bring rain love tide turn let sun keep burn perfect worst day mean say love', 'nebula', 'fight fear tast grip feel slip shake soul feel wave look eye reason stay know thing say blame reason came mayb caus feel pain feel weight wash away mistak made live time tear soul bone let tide suck chemic burst friend give wave end', 'never want chang mani ugli way thought could stay find way night rain promis made lead lie lead pain slowli seem float away afraid see die see fade insid mind', 'trust', 'petrichor', 'farewel', 'hous quiet big invas silenc wait someon come home feel around wind whisper though heart break bend know see', 'world wait', 'hypnagog', 'love broke come closer darl forget fake smile tri hard fool instead gave given luck head dust gave wait side friend wait side', 'lose yeah lose almost point give oh yeah lose lose think see love', 'forgiv hopeless face sing voic like know suddenli start see perfect complex caus smile around tri best like know', 'not afraid love love not afraid not afraid not afraid love love not afraid not afraid', 'feel wind darl think love sink could swim love somebodi feel wind darl think love sink could swim love somebodi', 'drown ocean keep us apart map distant star oh voic call shelter skin end begin', 'long hair longer stride cut painter pant charg craggi mountain thrift store friend find love fall earth oh wake middl fall night summer play coy attic citi night talk corso mc could danc like right', 'fortun fame mirror vain gone insan memori remain heavi ring finger wave anoth star deni grave see nowher crowd cri nowher tear honor like twist vine grow hide swallow mansion whole dim light alreadi fade prima donna', 'form firelight', 'anyway gonna sing play um gonna play song may know may know light night color blood cure pain thing wanna touch never knew could mean much much fear care caus never high follow dark let take past satellit see world brought life life love like love like touch like wait', 'heart beat fast color promis brave love afraid fall watch stand alon doubt suddenli goe away somehow one step closer die everyday wait darl afraid love thousand year love thousand', 'piti low dirti shame lord piti low dirti shame tell poor man make say money name game', 'went river sat night long wonder life wonder went wrong blue bottl sorrow cup', 'think left behind man safe away babi uh one day gonna break cri escap man man love strong gonna haunt know love follow mmm day die one thing want tell go gonna leav gonna leav leav long babi bye bye hey gonna leav babi long babi bye bye', 'way man carri think want love one go said love ever know ever know not tryin kind man tryna somebodi yeah love trust understand know know part one els see yeah', 'somebodi loan dime need call old time use somebodi loan dime mmm need call old time use littl girl gone long know worri hey worri worri', 'babi got tell gotta tell go head know spend one night sleep lone bed', 'best girl pack leav knew not want see earli morn cri last thing night see cri earli morn moan last thing night woman pack leav thing right', 'lone world everybodi tri hide alon fight peopl live live rule satisfi nobodi see cri nobodi know hard tri send angel need help hand would send angel need help hand take get along caus stand', 'blue feel', 'wake everi morn tender love touch fool get enough love much crazi stand crazi woman crazi man', 'black night cold ice left think twice tri stop god know tri', 'got sweet littl angel love way spread wing ye got sweet littl angel love way spread wing ye spread wing around get joy everyth', 'two women sit bar blind man play guitar barcelona red sound blue everyth push love asid get colour night colour night one hue place time love got reason rhyme say love love til love live world one hue everyth picasso blue live world without everyth picasso blue go place see face everyth love got reason love got season place time pain', 'blue got teardrop eye oh blue got teardrop eye ye dark night sinc babi said goodby', 'pleas realli hurt realli sad got tie month oh babi chang flow', 'happen die doubt babe honey think time come happen die doubt babi honey think time come want buri bodi right highway', 'even everi night come find must alway remind babi gone even got deeper power everi minut seem like hour sinc babi gone', 'love left behind feel sorri drive crazi', 'bad luck make fool trip well stand make fool believ stay feel fresh thing fall apart confid failur put tabl let caus joy lose stack chip mine put odd favor tri keep low key got back like hang get fuck tri shake hope get lucki hope believ bad luck make fool hope believ bad luck get ahold never ever let go never let get hope believ bad luck make fool', 'money buy peopl place stay got dime got littl time faith get knee', 'even love rainbow streak blue beat old guitar still sing happi song tune across valley shadow mountain blue past ocean full nois still silent voic call side lonesom place children laugh sun shine everybodi smile walk room come brother speak truth side lonesom place', 'softli let kiss lip gentli take hair softli let kiss lip gentli take hair make love bad anoth care whole damn world except love want guid babi let show man want guid babi let show man know treat nice ye make love realli nice slow honey lay lay right next honey lay lay right next', 'place bed decid better better dead letter read use lookin babi ever hope get back use lookin babi ever hope get back caus babi', 'rememb full broken bone tri bring cigarett said leav alon rememb', 'one two three play sexi three four five six kit got brand new lick six seven eight snake lake joint readi blow', 'wound left behind seem never go heal never seem catch fall', 'dark fall end day word caus noth left say take place drift away wanna lay lay lay head', 'blue heal earli one morn heal blue heal', 'walk street night mind run around cri oh babi babi wrong someon told ought get babi back home', 'love know realli got hold wanna figur gotta alon tri come togeth equal startin today', 'afraid come might run across old friend loneli tri sooth play blue', 'move man honey see done gotta pocket full money littl girl tri help none', 'stare window complain say wait turn eighteen said make money make rule momma put car park front school kiss head said like', 'put like burn end midnight cigarett broke heart spent whole life tryin forget watch drink pain away littl time never could get drunk enough get mind night', 'miss train know gone hear whistl blow hundr mile', 'oh soul weari troubl come heart burden still wait silenc come sit awhil rais stand mountain rais walk stormi sea strong shoulder rais', 'went skydiv went rocki mountain climb went second bull name fumanchu love deeper spoke sweeter gave forgiv deni said someday hope get chanc live like die like tomorrow gift got etern think', 'hold go roll unfamiliar road although wave string us along know not alon caus gonna make place home settl clear pay mind demon fill fear troubl might drag get lost alway found', 'still time time buy time choos hey never wish better got hundr year live', 'bless feel like found way thank god given end everi day bless much deserv one love', 'hope danc hope danc hope never fear mountain distanc never settl path least resist live might mean takin chanc worth take love might mistak worth make let hell bent heart leav bitter come close sellin reconsid give heaven pass glanc get choic sit danc', 'moon moon glow cool even light star aglow tunisia never shine bright care day seem vanish end day bring releas wonder night tunisia night fill peac', 'see tree green red rose see bloom think wonder world see sky blue cloud white bright bless day dark sacr night think wonder world', 'everi move make everi vow break everi smile fake everi claim stake watch sinc gone lost without trace dream night see face look around replac feel cold long embrac keep cri babi babi pleas', 'someon told long ago calm storm know comin time say rain sunni day know shinin like water wanna know ever seen rain wanna know ever seen rain come sunni day', 'sometim feel got run away got get away pain drive heart love share seem go nowher lost light toss turn sleep night', 'bird bee even educ flea let let fall love', 'fli moon let play among star let see spring like jupit mar word hold hand word babi kiss fill heart song let sing forevermor long worship ador word pleas true word love', 'live kind daydream happi queen foolish though may seem everyth', 'arm feel close wildest dream came true need soft light enchant would grant right hold ever tight feel night near', 'hue blue green surround know found anoth love turn world sorrow green envi anoth fear may one soar life lose', 'lone heart learn lesson would call wee small hour morn time miss', 'must rememb kiss still kiss sight sight fundament thing appli time goe two lover woo still say love reli matter futur bring time goe', 'lip much close mine bewar foolish heart eager lip combin let fire start time fascin dream fade fall apart love time love foolish heart', 'shadow fall spread mystic charm hush night arm feel lip warm tender one love touch hand like heaven heaven never known blush cheek whenev speak tell', 'someday come along man love big strong man love come way best make stay look smile understand littl take hand though seem absurd know say word', 'better lose music moment better never let go get one shot not miss chanc blow opportun come lifetim', 'gonna stand watch burn well alright like way hurt gonna stand hear cri well alright love way lie love way lie love way lie', 'alway gotta get thing know love never give never slow till final prove never listen wanna keep move', 'cold outsid alon alright cold outsid alon alright yeah let go wanna break alway feel like could break never let take place ever let thought get away got better thing pick fate wanna best call great know okay insan rememb better day playground hope find way better place even feel fight even know right pick side take pride decid fate never let tell tri shape damn plant ground stand never give alway plan', 'keep real feel tri kill everi beat know everyth work everi night anoth song quiet along gone notic gone', 'look like job everybodi follow caus need littl controversi caus feel empti without said look like job everybodi follow caus need littl controversi caus feel empti without', 'bitch player motherfuckin stingi cher even lend ear even pretendin care tell bitch marri buri face genit area origin richard ramirez christian rivera caus lyric never sit well wanna give chair like parapleg scari call harri carri caus everi tom dick harri carri merriam motherfuckin dictionari got em swearin spit shit hilari time put bitch obituari column see eye eye stare problem get shaft like steer column mark jack trigger happi pack heat black ink evil half bad meet evil mean take back seat take back fat pete maxi singl look rap sheet attract peopl gangster bitch like apach catchi jingl stack chip bare got half eaten cheeto fill em venom elimin em word minut maid em want hurt em em fit rage murderin nobodi evad finna kill em dump fuckin bodi lake obliteratin everyth incineratin renegad em make anybodi want pen afraid nobodi want gonna get anyway caus beginnin feel like mental ill atilla kill kill killer vanilla gorilla bringin killer within want enemi demon went reciev stupid everi bit epitom spitter vicin motherfuck better duck finna dead minut run hundr percent fifth percent bout fuckin finish bitch unfad wanna battl avail blowin like inflat undebat unavoid unevad', 'look gonna go easi not hurt feel go get one chanc someth wrong feel', 'suppos go oh hey realli idea know everi time think hit ceil go higher ever fuck', 'not afraid not afraid take stand ride everybodi guess go place get one might still place tryin get follow get', 'tear gone cold wonder got bed morn rain cloud window see even could gray put pictur wall remind not bad not bad', 'hi name name name chika chika slim shadi', 'friend monster bed get along voic insid head tryin save stop holdin breath think crazi yeah think crazi', 'may attent pleas may attent pleas real slim shadi pleas stand repeat real slim shadi pleas stand gonna problem', 'venom adrenalin momentum not knowin ever gonna slow readi snap moment think time go get gonna know hit', 'music like magic certain feel get real spit peopl feel shit moment everi singl minut spend tri hold may never get', 'ever love someon much give arm not express liter give arm know heart know armor destroy anyon would tri harm happen karma turn right around bite', 'haili know miss mom know miss dad gone tri give life never see sad even smile even laugh see eye deep insid wanna cri caus scare', 'littl late say sorri kick say hurt yeah right hurt need wanna see ha bitch get love show noth hate ran ground come around goe around hurt right hurt need want see ha bitch get love love love love ha bitch get love love love need ha bitch get love', 'sing sing year sing sing laughter sing tear sing today mayb tomorrow good lord take away say music alter mood talk', 'sound like bitch bitch shut fuck fan becom hater done fuck beard weird alright yellin mic weird beard doin beard weird yellin mic', 'shake ass shake ass come girl shake ass shake ass ohh girl shake ass shake ass come girl shake ass shake ass', 'say trash listen tekashi damn b lost yeah fair weather wishi washi think machin wash swear god man favorit rapper wish cross', 'wanna live cold insid give feel aliv fight live fight strive one day want life', 'alway live life till not forgiv hold never give move forward never miss chanc take alway live life till not forgiv hold never give move forward never miss chanc take got one life live right keep friend tight famili sight never ceas fight thing think right caus might find control mind hey fine hey take time hey enjoy climb hey enjoy grind hey never realli know side till give shit tri know limit sky hey', 'late rememb careless could day night stay felt right young dumb would get drunk hook ok alright stay awak till sun rise', 'rumor around say bodi fantast natur girl not piec plastic head toe yea say elast yea whisper around say reput believ til see want demonstr', 'never gonna make way make yeah mayb fake never gonna make gonna take make take back tell believ gonna take fuck fight back fuck fight back', 'wanna best know better rest watch grow put test watch go quest make known call obsess oh know call select note call agress flow call offens even though gonna lie life tough tri get life rough tri right not enough even though tri still mess still gonna fight love still gonna die love still gonna tri give still gonna fight', 'dream need make happen work belief know want take made mistak mistak make strong', 'yeah one get bruh swear god get bruh never give yeah never give', 'could watch lifetim favorit movi thousand end mean everyth never know come forev fascin hope stop run caus alway wait cinema could watch forev action thriller could watch forev cinema hollywood treasur love way cinema cinema', 'one time celebr know gonna right tonight hey feel music got feel need need yeah come alright gonna celebr one time celebr danc free music got feel free celebr danc free one time', 'oh oh sometim get good feel yeah get feel never never never never get good feel yeah oh oh sometim get good feel yeah get feel never never never never get good feel yeah', 'stare sun thought peopl place thing love feel light start trembl wash know sea see life window tonight', 'sorri babi sun moon never get never get', 'everi day peopl everyday thing one know hear differ kind anyth could hero could hero could hero could hero could', 'come far give let rais bar cup star night til sun night get night good fun night get lucki', 'yellow diamond light stand side side shadow cross mine take come aliv way feel deni gotta let go found love hopeless place', 'feel way dark guid beat heart tell journey end know start tell young understand say caught dream well life pass open eye well fine wake wiser older time find know lost', 'high dive frozen wave past come back life fight fear selfish pain worth everi time hold still right crash caus know end clock tick til break glass drown caus piec wish need chase relentlessli still fight know love tragedi remedi love insan clariti', 'time use look father eye happi home king golden throne day gone memori wall hear song place born hill across blue lake first heartbreak still rememb chang father said worri worri child see heaven got plan worri worri', 'recal not long ago would walk sidewalk innoc rememb care night warm bold young around wind blow would hold let go blow kiss fire gun need someon lean blow kiss fire gun need somebodi lean', 'gave heart said broken ye gave key door open admit see gave faith turn doubt hope deni alon joy turn mope tell need need find anywher broke leav side need need', 'met summer heartbeat sound fell love leav turn brown', 'shout hear word say talk loud not say much critic bullet ricochet shoot get bulletproof noth lose fire away fire away ricochet take aim fire away fire away shoot fall titanium', 'meet shine light wait right life feel deni live open eye wanna sink crazi laughter come make feel pain matter everi second make heart beat faster final think found chase alon beat insid soul take home dream made gold zone beat uncontrol know feel like come make feel aliv feel aliv', 'show light stop turn stone shine alon tell strong dream gone', 'side everyth want side need light shine', 'feel helpless watch eye fill fear tell feel hold arm need love need time everyth wrong make right feel high come aliv need free tonight need love', 'far home oh brother hear call lose oh sister help oh sky come fall noth world', 'say go darkest day heaven heartbreak away never let go never let oh hell ride drive edg knife never let go never let give give let love let love', 'ask free ride ask show real good time never ask rainfal least show show noth come water like miseri come readi rain rather dri least aliv rain rain rain rain rain rain rather dri least aliv rain rain rain', 'mess fight slam door magnifi flaw wonder wonder like keep come back bodi lose mind reason hold tonight caus scare lone need somebodi feel like alright reason hold tonight caus scare lone scare lone', 'work make make us harder better faster stronger hour hour never', 'start danc sexual romanc nasti fanci mona lisa master piec nation wonder got attent confid', 'life worri life life problem life life worri life life problem life life take leav set free crap papa knew got life got life live life set free mind busi leav busi know everyth papa knew littl knowledg danger stop bug stop bother stop bug stop forc stop fight stop yell life', 'said would rather die young live moment forget tomorrow guess got wrong still tryna find road follow alway tri ride paper plane said fine mistak tri call yesterday go back alway get right light go music die goodby gonna realiz cast us paradis hold hold', 'confetti fall five morn scream cri know sorri made stori lone fall like sorri', 'go back begin control tomorrow bring know middl place promis not enough unless come meet caus want meet', 'walk upon salvat spirit aliv life declar promis soul stand could say could offer heart oh god complet', 'would run throne merci would kneel cross grace great love strong hand hold us beauti beauti bow lift high jesu glorifi thing life forev', 'sorri wanna talk need moment fore go noth person draw blind need see cri caus even understand understand finish bout busi readi save world take miseri make bitch everyon favorit girl take aim fire away never wide awak nobodi keep safe way blood moon rise fire burn eye nobodi keep safe way', 'tough guy like realli rough guy get enough guy chest alway puf guy bad type make mama sad type make girlfriend mad tight might seduc dad type bad guy', 'tonight night let go put show wanna see lose control leav behind caus night get away come fli make great escap babi worri lone even sky fall need worri', 'read book old legend myth achil gold hercul gift spider man control batman fist clearli see upon list', 'life like way caus life like uh huh uh huh way chill ya yellin lay back done could let see like way drive car talk one one becom', 'tell stori tell lay reason say need help got expect sometim go wrong one listen put song', 'born walk fire made run flame yeah even broken tire enough enough enough know feel like nobodi care look love everywher nobodi secret hidden buri deep insid tri not show see pride see fear not welcom fight hard persever slow switch gear focu make year yeah hopeless give tear', 'lost lost moment lost moment lost moment get lost lost moment lost moment lost moment', 'promis world fell put first ador set fire forest let burn sang key choru love love yeah love love yeah love yeah need hate love yeah love love yeah love love yeah love yeah need lose love', 'know girl wanna wear expens thing like diamond ring wanna puppet play string queen need king oh know told girl right gonna rule world yeah gonna wanna wanna sit still look pretti', 'look like reveng feelin like best ever yeah know bad must hurt see like get wors wait minut look like regret proud beg second chanc never get yeah know bad must hurt see like get wors payback bad bitch babi baddest fuck savag nice take easi ya nah', 'day thing know thing burn night grow cold look away look away beg stay beg stay yeah sometim stranger bed know love want dead push away push away beg stay beg stay yeah call morn apolog everi littl lie give butterfli someth way look eye know gonna make aliv', 'yell sky scream world babi go away still girl hold tight head cloud heaven know love love trust trust stay night tell alright babi harder see put record wait til hear song everi night danc ghost everi night danc ghost', 'regret day left believ bless probabl lyin alon head look love stranger bed think find caus could fill empti space', 'keep come back come back keep run round run round run round head certain thing ador certain certain certain someth get angri merci like shoulder turn caus certain thing mend us hang dear life held tight', 'trust anyth anyon sun feel anyth king cloud cloud get lift get lift king cloud cloud get lift get lift imagin take somewher know lost better find alon king cloud cloud get lift get lift', 'long live long love never not think hmm never not think moment love knew one matter whatev ooh hmm never not think come lifetim rest mine alway compar', 'lookin real friend ever let everi time let somebodi find lookin real friend wonder hidin lookin real friend gotta get town', 'know like admit wrong right least tri keep cool thrown fire go hate say told love say told hate say told love say told say say told say say told well say say told throw fire throw pull', 'stay late wanna get stone tell friend never home face fill blood still say like bourgeoi cough promethazin live like evergreen sorri thing done selena friend kiss emili love never fault', 'oh tire restless soul run run oh place go nowher fast know calm lay restless soul wear wear current come restless soul', 'talk talk talk go get lost let first get want without know never felt like apolog move far talk talk figur go', 'oh sweet psycho littl bit psycho night screamin mind oh hot psycho left right though night screamin mind', 'found heart broke fill cup overflow took far keep close keep close afraid leav said catch fall laugh fuck em got knee put right back feet could take advantag', 'broken love whole heart sin hold caus grace hold grace own ground grave shame remain left dead wake crash age old gate left stone unturn step grave shoulder way come stand high surrend need hold heart forev soul cri', 'dark wait without hope without light til heaven came run merci eye fulfil law prophet virgin came word throne endless glori cradl dirt', 'peopl come togeth strang neighbor blood one children gener everi nation kingdom come let heart troubl hold head high fear evil fix eye one truth god madli love take courag hold strong rememb help come', 'spirit jesu live within us never fail forsak unend promis heaven insid us whisper sound name', 'shadow light mountain climb come wall kick lie tear come', 'beauti name beauti name name jesu christ king beauti name noth compar beauti name name jesu', 'fuck hate friend hate hot girl bummer anthem turn throw tantrum fuck hate friend hate fuck hot girl bummer anthem turn throw tantrum', 'say someth give one want anywher would follow say someth give feel small head know noth stumbl fall still learn love start crawl', 'everyth hurt littl littl oh everyth hurt littl littl oh everyth hurt littl less', 'oh perfect way perfect way perfect way us good good father love', 'walk line like u wanna go higher love love love u wanna go hard reach dim light go real far u must tire love love love call name like hurt lot fall deeper tonight u wanna stop babi u wanna couch give give u wanna stop babi u wanna couch give give', 'fire morn cool even breath soul life bone', 'tell realli like babi take time ever fight take step step see eye caus never tell lie feel bodi shake heat leg scare love run know simpl touch set free rush alon feel come feel come babe', 'close eye color fli hide grace deni heart mine unrel chase edg decept caught hesit love took let go let love show life like suppos oasi await us freedom ever need aliv', 'know could go anywher could anyth girl whatev mood yeah know get lost late night star find love stand right lip pull moment alon peopl may watch mind caus anywher feel right anywher feel like pari rain need fanci town bottl pronounc caus anywher babe like pari rain', 'yesterday day sun cold rain hard know way time til forev goe circl fast slow know stop wonder wanna know ever seen rain wanna know ever seen rain come sunni day', 'wear shoe shine got toe jam footbal got monkey finger shoot coca cola say know know one thing tell got free come togeth right', 'love hope know darl love worth weight gold come far dear look grown wanna stay grey old say let go say let go wanna live even ghost caus alway need', 'noth better sometim said goodby let let go let let go', 'wanna anymor hand hand get cold lose feel get old made broken mold hurt shake made everi mistak know way break', 'know make nervou promis worth show em everyth kept insid hide hide shi say hope stay hide away come play look window see snow let though leav home feel wind blow caus colder insid silenc keep quiet', 'let dark', 'follow everywher go top mountain valley low give everyth dream let ooh everyth want gold magic stori told safe control let', 'catch rude like rendevu knuckl b boy fill cup choos wise mind tell true lie go toe toe homi shoe size ay turn us make hot like william duck camera stuck traffic come pick kinda canva fuck savag come ravag flexin like muhammad not eas stand tall', 'babi step child may noth make daddi proud weak strength know got question closer think promis oh let go let go see right hold heart', 'alway seen heart soul everi breath compos symphoni beauti hope believ alway love', 'home heart come dwell come dwell open welcom place welcom place come way us welcom welcom place welcom place come way us welcom', 'wait worri tomorrow need focu thing control attent wonder moment jesu presenc comfort soul', 'take away music thing got piec rock knew alway song suppos bear gone would separ word hoo sweet melodi babi would take away music symphoni', 'tall tan young love girl ipanema goe walk pass one pass goe ah walk like samba swing cool sway gentli pass one pass goe ah', 'gave love leav first told hurt tri hide wors broke heart got shirt someth bout way love seem curs learn karma tend b word hope get everyth deserv broke heart got shirt', 'carousel back around go one mani time end carousel back around go ride win', 'tell okay', 'phoemix', 'close combin', 'find', 'luftballon', 'stranger like', 'want way', 'rejoic', 'noth without', 'simpl gospel', 'passion', 'highland', 'alon', 'countri road', 'life', 'bohemian rhapsodi', 'friend jesu', 'name holi', 'stand awe', 'young beauti', 'new friend', 'boy', '', 'beauti white', 'play', 'sli', 'wish best', 'gave love away', 'iscariot', 'say love', 'mama', 'sucker', 'sunset lover', 'runaway train', 'gambler', 'blue aint colour', 'fuck im lone', 'beauti peopl', 'not meant', 'guiltless', 'human', 'reign', 'endless alleluia', 'imit game', 'sunflow', 'danc stranger', 'everyth need', 'time make proud see come day light proud rais shelter peac time make proud', 'american nightmar american dream countin bodi count sheep american nightmar yeah live dream slash way golden age silver scream sweet dream', 'oh oh night oh awoo night thing wors bark bite oh awoo night', 'bad intens', 'hard bight time', 'buri friend', 'crazi love', 'thank next', 'wanna danc somebodi', '']\n"
          ]
        }
      ]
    },
    {
      "cell_type": "markdown",
      "metadata": {
        "id": "hV0uWOYCQWKF"
      },
      "source": [
        "Creating the bag of words modal"
      ]
    },
    {
      "cell_type": "code",
      "metadata": {
        "id": "PRT_E8GkQY4x"
      },
      "source": [
        "from sklearn.feature_extraction.text import CountVectorizer\n",
        "cv = CountVectorizer(max_features = 1500)\n",
        "X = cv.fit_transform(corpus).toarray()\n",
        "y = modifiedDF.iloc[0:509, -1].values"
      ],
      "execution_count": 28,
      "outputs": []
    },
    {
      "cell_type": "code",
      "metadata": {
        "colab": {
          "base_uri": "https://localhost:8080/"
        },
        "id": "LMww1MtmRTE0",
        "outputId": "20fe0b86-a70b-4ac4-b85b-ae24fa562ba7"
      },
      "source": [
        "X"
      ],
      "execution_count": 17,
      "outputs": [
        {
          "output_type": "execute_result",
          "data": {
            "text/plain": [
              "array([[0, 0, 0, ..., 0, 0, 0],\n",
              "       [0, 0, 0, ..., 0, 0, 0],\n",
              "       [0, 0, 0, ..., 0, 0, 0],\n",
              "       ...,\n",
              "       [0, 0, 0, ..., 0, 0, 0],\n",
              "       [0, 0, 0, ..., 0, 0, 0],\n",
              "       [0, 0, 0, ..., 0, 0, 0]])"
            ]
          },
          "metadata": {},
          "execution_count": 17
        }
      ]
    },
    {
      "cell_type": "code",
      "metadata": {
        "colab": {
          "base_uri": "https://localhost:8080/"
        },
        "id": "u4OdIqTNRZ6k",
        "outputId": "fa836801-08f0-4a78-cd3f-44ad8fd7c695"
      },
      "source": [
        "y"
      ],
      "execution_count": 18,
      "outputs": [
        {
          "output_type": "execute_result",
          "data": {
            "text/plain": [
              "array(['Inspiration', 'Inspiration', 'Inspiration', 'Sad', 'Love',\n",
              "       'Inspiration', 'Sad', 'Sad', 'Sad', 'Happy', 'Love', 'Inspiration',\n",
              "       'Love', 'Inspiration', 'Inspiration', 'Angry', 'Inspiration',\n",
              "       'Angry', 'Sad', 'Love', 'Sad', 'Inspiration', 'Sad', 'Sad', 'Love',\n",
              "       'Sad', 'Love', 'Sad', 'Calm', 'Angry', 'Love', 'Inspiration',\n",
              "       'Love', 'Love', 'Calm', 'Sad', 'Sad', 'Sad', 'Sad', 'Sad', 'Sad',\n",
              "       'Happy', 'Happy', 'Love', 'Inspiration', 'Love', 'Sad', 'Sad',\n",
              "       'Inspiration', 'Love', 'Inspiration', 'Love', 'Inspiration',\n",
              "       'Love', 'Inspiration', 'Inspiration', 'Love', 'Calm', 'Angry',\n",
              "       'Inspiration', 'Angry', 'Angry', 'Angry', 'Love', 'Inspiration',\n",
              "       'Sad', 'Sad', 'Inspiration', 'Inspiration', 'Happy', 'Angry',\n",
              "       'Inspiration', 'Sad', 'Inspiration', 'Sad', 'Inspiration', 'Sad',\n",
              "       'Sad', 'Calm', 'Inspiration', 'Love', 'Love', 'Sad', 'Inspiration',\n",
              "       'Inspiration', 'Inspiration', 'Love', 'Inspiration', 'Inspiration',\n",
              "       'Love', 'Sad', 'Happy', 'Love', 'Angry', 'Sad', 'Calm', 'Happy',\n",
              "       'Angry', 'Happy', 'Love', 'Love', 'Love', 'Happy', 'Love', 'Sad',\n",
              "       'Angry', 'Love', 'Happy', 'Love', 'Sad', 'Love', 'Happy', 'Happy',\n",
              "       'Happy', 'Love', 'Sad', 'Happy', 'Happy', 'Happy', 'Love', 'Happy',\n",
              "       'Inspiration', 'Happy', 'Angry', 'Inspiration', 'Happy', 'Happy',\n",
              "       'Angry', 'Happy', 'Inspiration', 'Love', 'Love', 'Happy', 'Love',\n",
              "       'Love', 'Sad', 'Inspiration', 'Sad', 'Calm', 'Love', 'Sad', 'Sad',\n",
              "       'Love', 'Inspiration', 'Love', 'Sad', 'Sad', 'Love', 'Love', 'Sad',\n",
              "       'Happy', 'Happy', 'Love', 'Love', 'Angry', 'Sad', 'Angry',\n",
              "       'Inspiration', 'Angry', 'Inspiration', 'Angry', 'Angry', 'Angry',\n",
              "       'Inspiration', 'Angry', 'Inspiration', 'Sad', 'Sad', 'Inspiration',\n",
              "       'Inspiration', 'Inspiration', 'Angry', 'Love', 'Angry', 'Calm',\n",
              "       'Love', 'Sad', 'Sad', 'Sad', 'Love', 'Sad', 'Angry', 'Sad',\n",
              "       'Inspiration', 'Love', 'Inspiration', 'Sad', 'Sad', 'Sad', 'Sad',\n",
              "       'Inspiration', 'Inspiration', 'Inspiration', 'Inspiration',\n",
              "       'Happy', 'Inspiration', 'Inspiration', 'Inspiration',\n",
              "       'Inspiration', 'Inspiration', 'Inspiration', 'Sad', 'Inspiration',\n",
              "       'Calm', 'Love', 'Love', 'Love', 'Sad', 'Happy', 'Sad', 'Love',\n",
              "       'Calm', 'Love', 'Love', 'Sad', 'Love', 'Love', 'Sad', 'Sad',\n",
              "       'Inspiration', 'Sad', 'Inspiration', 'Angry', 'Happy', 'Sad',\n",
              "       'Calm', 'Angry', 'Angry', 'Happy', 'Happy', 'Angry', 'Angry',\n",
              "       'Angry', 'Inspiration', 'Happy', 'Sad', 'Sad', 'Inspiration',\n",
              "       'Sad', 'Sad', 'Sad', 'Sad', 'Sad', 'Sad', 'Sad', 'Sad', 'Sad',\n",
              "       'Sad', 'Love', 'Sad', 'Sad', 'Inspiration', 'Inspiration', 'Sad',\n",
              "       'Calm', 'Calm', 'Calm', 'Love', 'Calm', 'Happy', 'Sad', 'Love',\n",
              "       'Calm', 'Sad', 'Love', 'Love', 'Calm', 'Love', 'Sad', 'Calm',\n",
              "       'Love', 'Love', 'Sad', 'Happy', 'Calm', 'Calm', 'Love', 'Love',\n",
              "       'Angry', 'Sad', 'Sad', 'Love', 'Sad', 'Sad', 'Sad', 'Sad', 'Sad',\n",
              "       'Love', 'Sad', 'Happy', 'Sad', 'Sad', 'Sad', 'Sad', 'Sad', 'Love',\n",
              "       'Inspiration', 'Sad', 'Inspiration', 'Love', 'Sad', 'Sad', 'Happy',\n",
              "       'Sad', 'Calm', 'Calm', 'Sad', 'Love', 'Inspiration', 'Inspiration',\n",
              "       'Love', 'Sad', 'Calm', 'Inspiration', 'Inspiration', 'Inspiration',\n",
              "       'Inspiration', 'Happy', 'Inspiration', 'Calm', 'Happy', 'Sad',\n",
              "       'Calm', 'Love', 'Love', 'Love', 'Happy', 'Love', 'Sad', 'Sad',\n",
              "       'Love', 'Love', 'Love', 'Love', 'Inspiration', 'Love',\n",
              "       'Inspiration', 'Inspiration', 'Inspiration', 'Inspiration',\n",
              "       'Angry', 'Sad', 'Angry', 'Inspiration', 'Inspiration', 'Happy',\n",
              "       'Happy', 'Happy', 'Happy', 'Inspiration', 'Inspiration', 'Sad',\n",
              "       'Angry', 'Happy', 'Angry', 'Happy', 'Happy', 'Inspiration',\n",
              "       'Inspiration', 'Happy', 'Happy', 'Inspiration', 'Inspiration',\n",
              "       'Inspiration', 'Inspiration', 'Love', 'Happy', 'Calm', 'Calm',\n",
              "       'Sad', 'Inspiration', 'Happy', 'Love', 'Inspiration',\n",
              "       'Inspiration', 'Happy', 'Happy', 'Sad', 'Love', 'Inspiration',\n",
              "       'Happy', 'Happy', 'Inspiration', 'Love', 'Inspiration', 'Love',\n",
              "       'Inspiration', 'Sad', 'Inspiration', 'Happy', 'Angry',\n",
              "       'Inspiration', 'Sad', 'Love', 'Sad', 'Love', 'Angry', 'Happy',\n",
              "       'Love', 'Calm', 'Happy', 'Sad', 'Inspiration', 'Angry', 'Sad',\n",
              "       'Angry', 'Angry', 'Sad', 'Love', 'Sad', 'Sad', 'Angry', 'Sad',\n",
              "       'Calm', 'Angry', 'Sad', 'Calm', 'Sad', 'Happy', 'Sad', 'Sad',\n",
              "       'Calm', 'Inspiration', 'Calm', 'Calm', 'Calm', 'Angry', 'Sad',\n",
              "       'Sad', 'Happy', 'Love', 'Calm', 'Love', 'Love', 'Love', 'Calm',\n",
              "       'Happy', 'Love', 'Sad', 'Sad', 'Inspiration', 'Angry', 'Calm',\n",
              "       'Angry', 'Happy', 'Love', 'Happy', 'Calm', 'Happy', 'Happy', 'Sad',\n",
              "       'Sad', 'Inspiration', 'Happy', 'Calm', 'Love', 'Calm', 'Happy',\n",
              "       'Happy', 'Happy', 'Sad', 'Calm', 'Happy', 'Calm', 'Sad', 'Calm',\n",
              "       'Happy', 'Happy', 'Calm', 'Calm', 'Happy', 'Happy', 'Calm',\n",
              "       'Happy', 'Sad', 'Happy', 'Happy', 'Angry', 'Happy', 'Sad', 'Calm',\n",
              "       'Love', 'Calm', 'Happy', 'Happy', 'Happy', 'Happy', 'Calm', 'Sad',\n",
              "       'Happy', 'Sad', 'Calm', 'Calm', 'Calm', 'Calm', 'Happy', 'Calm',\n",
              "       'Happy', 'Happy', 'Inspiration', 'Calm', 'Inspiration', 'Angry',\n",
              "       'Sad', 'Sad', 'Love', 'Happy', 'Happy', 'Inspiration'],\n",
              "      dtype=object)"
            ]
          },
          "metadata": {},
          "execution_count": 18
        }
      ]
    },
    {
      "cell_type": "markdown",
      "metadata": {
        "id": "PmG9-Z7PQyea"
      },
      "source": [
        "Splitting the dataset into the Training set and Test set"
      ]
    },
    {
      "cell_type": "code",
      "metadata": {
        "id": "PShXt3tuQzIx"
      },
      "source": [
        "from sklearn.model_selection import train_test_split\n",
        "X_train, X_test, y_train, y_test = train_test_split(X, y, test_size = 0.20, random_state = 20)"
      ],
      "execution_count": 100,
      "outputs": []
    },
    {
      "cell_type": "markdown",
      "metadata": {
        "id": "8o6BdfkSRnnC"
      },
      "source": [
        "Training the Naive Bayes model on the Training set"
      ]
    },
    {
      "cell_type": "code",
      "metadata": {
        "colab": {
          "base_uri": "https://localhost:8080/"
        },
        "id": "2TdKzzyyRoNv",
        "outputId": "fbd07d86-ad31-4f7c-fe5d-afa3d90c480e"
      },
      "source": [
        "from sklearn.naive_bayes import GaussianNB\n",
        "classifier = GaussianNB()\n",
        "classifier.fit(X_train, y_train)"
      ],
      "execution_count": 101,
      "outputs": [
        {
          "output_type": "execute_result",
          "data": {
            "text/plain": [
              "GaussianNB()"
            ]
          },
          "metadata": {},
          "execution_count": 101
        }
      ]
    },
    {
      "cell_type": "markdown",
      "metadata": {
        "id": "maG3b8yiRup0"
      },
      "source": [
        "Predicting the Test set results"
      ]
    },
    {
      "cell_type": "code",
      "metadata": {
        "colab": {
          "base_uri": "https://localhost:8080/"
        },
        "id": "56RB62bSRvbY",
        "outputId": "933320ad-bd6c-44d2-ca79-fdafe5906388"
      },
      "source": [
        "y_pred = classifier.predict(X_test)\n",
        "print(np.concatenate((y_pred.reshape(len(y_pred),1), y_test.reshape(len(y_test),1)),1))"
      ],
      "execution_count": 102,
      "outputs": [
        {
          "output_type": "stream",
          "name": "stdout",
          "text": [
            "[['Inspiration' 'Happy']\n",
            " ['Inspiration' 'Inspiration']\n",
            " ['Sad' 'Sad']\n",
            " ['Love' 'Love']\n",
            " ['Inspiration' 'Inspiration']\n",
            " ['Inspiration' 'Inspiration']\n",
            " ['Love' 'Happy']\n",
            " ['Love' 'Love']\n",
            " ['Sad' 'Sad']\n",
            " ['Inspiration' 'Sad']\n",
            " ['Inspiration' 'Angry']\n",
            " ['Sad' 'Love']\n",
            " ['Happy' 'Inspiration']\n",
            " ['Inspiration' 'Sad']\n",
            " ['Sad' 'Sad']\n",
            " ['Sad' 'Inspiration']\n",
            " ['Happy' 'Love']\n",
            " ['Calm' 'Happy']\n",
            " ['Love' 'Love']\n",
            " ['Inspiration' 'Inspiration']\n",
            " ['Happy' 'Happy']\n",
            " ['Inspiration' 'Inspiration']\n",
            " ['Happy' 'Happy']\n",
            " ['Happy' 'Love']\n",
            " ['Happy' 'Happy']\n",
            " ['Sad' 'Angry']\n",
            " ['Happy' 'Angry']\n",
            " ['Love' 'Happy']\n",
            " ['Sad' 'Sad']\n",
            " ['Angry' 'Sad']\n",
            " ['Inspiration' 'Love']\n",
            " ['Sad' 'Sad']\n",
            " ['Sad' 'Sad']\n",
            " ['Love' 'Love']\n",
            " ['Love' 'Inspiration']\n",
            " ['Calm' 'Calm']\n",
            " ['Sad' 'Angry']\n",
            " ['Sad' 'Sad']\n",
            " ['Inspiration' 'Inspiration']\n",
            " ['Inspiration' 'Happy']\n",
            " ['Inspiration' 'Love']\n",
            " ['Inspiration' 'Inspiration']\n",
            " ['Angry' 'Inspiration']\n",
            " ['Inspiration' 'Sad']\n",
            " ['Sad' 'Inspiration']\n",
            " ['Angry' 'Inspiration']\n",
            " ['Sad' 'Inspiration']\n",
            " ['Inspiration' 'Sad']\n",
            " ['Love' 'Love']\n",
            " ['Angry' 'Sad']\n",
            " ['Angry' 'Happy']\n",
            " ['Sad' 'Sad']\n",
            " ['Love' 'Inspiration']\n",
            " ['Inspiration' 'Calm']\n",
            " ['Love' 'Inspiration']\n",
            " ['Calm' 'Calm']\n",
            " ['Sad' 'Inspiration']\n",
            " ['Inspiration' 'Calm']\n",
            " ['Inspiration' 'Happy']\n",
            " ['Love' 'Love']\n",
            " ['Inspiration' 'Sad']\n",
            " ['Happy' 'Love']\n",
            " ['Inspiration' 'Sad']\n",
            " ['Calm' 'Happy']\n",
            " ['Love' 'Love']\n",
            " ['Calm' 'Happy']\n",
            " ['Sad' 'Love']\n",
            " ['Sad' 'Sad']\n",
            " ['Inspiration' 'Sad']\n",
            " ['Inspiration' 'Inspiration']\n",
            " ['Happy' 'Inspiration']\n",
            " ['Sad' 'Inspiration']\n",
            " ['Sad' 'Happy']\n",
            " ['Happy' 'Happy']\n",
            " ['Inspiration' 'Happy']\n",
            " ['Love' 'Sad']\n",
            " ['Angry' 'Angry']\n",
            " ['Sad' 'Happy']\n",
            " ['Love' 'Sad']\n",
            " ['Love' 'Happy']\n",
            " ['Angry' 'Angry']\n",
            " ['Inspiration' 'Inspiration']\n",
            " ['Love' 'Angry']\n",
            " ['Angry' 'Angry']\n",
            " ['Inspiration' 'Calm']\n",
            " ['Inspiration' 'Sad']\n",
            " ['Angry' 'Inspiration']\n",
            " ['Love' 'Calm']\n",
            " ['Inspiration' 'Inspiration']\n",
            " ['Calm' 'Sad']\n",
            " ['Love' 'Calm']\n",
            " ['Sad' 'Sad']\n",
            " ['Love' 'Sad']\n",
            " ['Angry' 'Sad']\n",
            " ['Happy' 'Happy']\n",
            " ['Love' 'Love']\n",
            " ['Sad' 'Love']\n",
            " ['Love' 'Sad']\n",
            " ['Inspiration' 'Inspiration']\n",
            " ['Love' 'Love']\n",
            " ['Happy' 'Inspiration']\n",
            " ['Sad' 'Happy']]\n"
          ]
        }
      ]
    },
    {
      "cell_type": "markdown",
      "metadata": {
        "id": "2Uiv0xDxR7c9"
      },
      "source": [
        "Making the Confusion Matrix"
      ]
    },
    {
      "cell_type": "code",
      "metadata": {
        "colab": {
          "base_uri": "https://localhost:8080/"
        },
        "id": "-taVWdyIR79B",
        "outputId": "e3aa141d-557c-4252-a566-531442cc75d6"
      },
      "source": [
        "from sklearn.metrics import confusion_matrix, accuracy_score\n",
        "cm = confusion_matrix(y_test, y_pred)\n",
        "print(cm)\n",
        "accuracy_score(y_test, y_pred)"
      ],
      "execution_count": 103,
      "outputs": [
        {
          "output_type": "stream",
          "name": "stdout",
          "text": [
            "[[ 3  0  1  1  1  2]\n",
            " [ 0  2  0  3  2  0]\n",
            " [ 1  3  5  4  3  3]\n",
            " [ 3  0  3 11  3  5]\n",
            " [ 0  0  3  2  9  3]\n",
            " [ 3  1  0  8  4 10]]\n"
          ]
        },
        {
          "output_type": "execute_result",
          "data": {
            "text/plain": [
              "0.39215686274509803"
            ]
          },
          "metadata": {},
          "execution_count": 103
        }
      ]
    },
    {
      "cell_type": "markdown",
      "metadata": {
        "id": "RUsVbKXOUWsd"
      },
      "source": [
        "Appyling K-fold cross validation"
      ]
    },
    {
      "cell_type": "code",
      "metadata": {
        "colab": {
          "base_uri": "https://localhost:8080/"
        },
        "id": "Sl-4bKUMUZro",
        "outputId": "6132520a-9ebf-465a-9531-f73d5a66ccae"
      },
      "source": [
        "from sklearn.model_selection import cross_val_score\n",
        "accuracies = cross_val_score(estimator = classifier, X = X_train, y = y_train, cv = 3)\n",
        "print(\"Accuracy: {:.2f} %\".format(accuracies.mean()*100))\n",
        "print(\"Standard Deviation: {:.2f} %\".format(accuracies.std()*100))"
      ],
      "execution_count": 67,
      "outputs": [
        {
          "output_type": "stream",
          "name": "stdout",
          "text": [
            "Accuracy: 38.08 %\n",
            "Standard Deviation: 5.75 %\n"
          ]
        }
      ]
    },
    {
      "cell_type": "code",
      "metadata": {
        "colab": {
          "base_uri": "https://localhost:8080/"
        },
        "id": "PqL3rJ_tWA9b",
        "outputId": "0e83fa59-6b83-4fc9-ac85-4a9a219f3dc5"
      },
      "source": [
        "from sklearn.model_selection import cross_val_score\n",
        "accuracies = cross_val_score(estimator = classifier, X = X_train, y = y_train, cv = 5)\n",
        "print(\"Accuracy: {:.2f} %\".format(accuracies.mean()*100))\n",
        "print(\"Standard Deviation: {:.2f} %\".format(accuracies.std()*100))"
      ],
      "execution_count": 68,
      "outputs": [
        {
          "output_type": "stream",
          "name": "stdout",
          "text": [
            "Accuracy: 35.35 %\n",
            "Standard Deviation: 5.38 %\n"
          ]
        }
      ]
    },
    {
      "cell_type": "code",
      "metadata": {
        "colab": {
          "base_uri": "https://localhost:8080/"
        },
        "id": "Q2_ukrIejrd8",
        "outputId": "443ba5ea-cf50-4790-ace8-47c26c03e569"
      },
      "source": [
        "from sklearn.model_selection import cross_val_score\n",
        "accuracies = cross_val_score(estimator = classifier, X = X_train, y = y_train, cv = 4)\n",
        "print(\"Accuracy: {:.2f} %\".format(accuracies.mean()*100))\n",
        "print(\"Standard Deviation: {:.2f} %\".format(accuracies.std()*100))"
      ],
      "execution_count": 69,
      "outputs": [
        {
          "output_type": "stream",
          "name": "stdout",
          "text": [
            "Accuracy: 37.83 %\n",
            "Standard Deviation: 6.03 %\n"
          ]
        }
      ]
    },
    {
      "cell_type": "code",
      "metadata": {
        "colab": {
          "base_uri": "https://localhost:8080/"
        },
        "id": "TSRCA3NOWFdI",
        "outputId": "b76faf74-6dc9-4aa4-ea49-8bd362d2a63e"
      },
      "source": [
        "from sklearn.model_selection import cross_val_score\n",
        "accuracies = cross_val_score(estimator = classifier, X = X_train, y = y_train, cv = 8)\n",
        "print(\"Accuracy: {:.2f} %\".format(accuracies.mean()*100))\n",
        "print(\"Standard Deviation: {:.2f} %\".format(accuracies.std()*100))"
      ],
      "execution_count": 70,
      "outputs": [
        {
          "output_type": "stream",
          "name": "stdout",
          "text": [
            "Accuracy: 36.86 %\n",
            "Standard Deviation: 7.55 %\n"
          ]
        }
      ]
    },
    {
      "cell_type": "code",
      "source": [
        "from sklearn.model_selection import cross_val_score\n",
        "accuracies = cross_val_score(estimator = classifier, X = X_train, y = y_train, cv = 10)\n",
        "print(\"Accuracy: {:.2f} %\".format(accuracies.mean()*100))\n",
        "print(\"Standard Deviation: {:.2f} %\".format(accuracies.std()*100))"
      ],
      "metadata": {
        "colab": {
          "base_uri": "https://localhost:8080/"
        },
        "id": "T67OmzT0KJ-e",
        "outputId": "5ad2b968-26d9-40db-cc05-2e6a57b96400"
      },
      "execution_count": 71,
      "outputs": [
        {
          "output_type": "stream",
          "name": "stdout",
          "text": [
            "Accuracy: 38.32 %\n",
            "Standard Deviation: 7.15 %\n"
          ]
        }
      ]
    }
  ]
}