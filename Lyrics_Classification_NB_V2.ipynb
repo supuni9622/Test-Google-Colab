{
  "nbformat": 4,
  "nbformat_minor": 0,
  "metadata": {
    "colab": {
      "name": "Lyrics Classification-NB-V2.ipynb",
      "provenance": [],
      "mount_file_id": "1tjr1TEP3GrdUIJVbVJQ6oyZFmzxPXlS0",
      "authorship_tag": "ABX9TyP6K9Glhfg8l3XXn4monB5c",
      "include_colab_link": true
    },
    "kernelspec": {
      "name": "python3",
      "display_name": "Python 3"
    },
    "language_info": {
      "name": "python"
    }
  },
  "cells": [
    {
      "cell_type": "markdown",
      "metadata": {
        "id": "view-in-github",
        "colab_type": "text"
      },
      "source": [
        "<a href=\"https://colab.research.google.com/github/supuni9622/Test-Google-Colab/blob/main/Lyrics_Classification_NB_V2.ipynb\" target=\"_parent\"><img src=\"https://colab.research.google.com/assets/colab-badge.svg\" alt=\"Open In Colab\"/></a>"
      ]
    },
    {
      "cell_type": "code",
      "metadata": {
        "id": "bGRsbfpSaJ_a"
      },
      "source": [
        "import numpy as np\n",
        "import matplotlib.pyplot as plt\n",
        "import pandas as pd"
      ],
      "execution_count": 16,
      "outputs": []
    },
    {
      "cell_type": "code",
      "metadata": {
        "colab": {
          "base_uri": "https://localhost:8080/",
          "height": 35
        },
        "id": "xZ6hvFVSbGAC",
        "outputId": "bb99a83c-babb-4732-e9ea-6215d8973a54"
      },
      "source": [
        "pwd"
      ],
      "execution_count": 17,
      "outputs": [
        {
          "output_type": "execute_result",
          "data": {
            "application/vnd.google.colaboratory.intrinsic+json": {
              "type": "string"
            },
            "text/plain": [
              "'/content/drive/My Drive/4th Year Research/M3/Test Implementation/Test-Google-Colab/TestV2'"
            ]
          },
          "metadata": {},
          "execution_count": 17
        }
      ]
    },
    {
      "cell_type": "code",
      "metadata": {
        "colab": {
          "base_uri": "https://localhost:8080/"
        },
        "id": "uyqMtBqLbPPe",
        "outputId": "cfb5ecfa-e07c-44ff-f8bd-ef080f9aa35c"
      },
      "source": [
        "cd /content/drive/MyDrive/4th Year Research/M3/Test Implementation/Test-Google-Colab/TestV2"
      ],
      "execution_count": 18,
      "outputs": [
        {
          "output_type": "stream",
          "name": "stdout",
          "text": [
            "/content/drive/MyDrive/4th Year Research/M3/Test Implementation/Test-Google-Colab/TestV2\n"
          ]
        }
      ]
    },
    {
      "cell_type": "code",
      "metadata": {
        "colab": {
          "base_uri": "https://localhost:8080/",
          "height": 35
        },
        "id": "fTIf7lrObRgb",
        "outputId": "83fb2e91-865b-44d7-ca7a-cae8c53d4bf6"
      },
      "source": [
        "pwd"
      ],
      "execution_count": 19,
      "outputs": [
        {
          "output_type": "execute_result",
          "data": {
            "application/vnd.google.colaboratory.intrinsic+json": {
              "type": "string"
            },
            "text/plain": [
              "'/content/drive/MyDrive/4th Year Research/M3/Test Implementation/Test-Google-Colab/TestV2'"
            ]
          },
          "metadata": {},
          "execution_count": 19
        }
      ]
    },
    {
      "cell_type": "code",
      "metadata": {
        "id": "WD5oKe9kaip_"
      },
      "source": [
        "dataset = pd.read_csv('Lyrical_data_2.csv',encoding='cp1252')"
      ],
      "execution_count": 20,
      "outputs": []
    },
    {
      "cell_type": "code",
      "metadata": {
        "colab": {
          "base_uri": "https://localhost:8080/",
          "height": 206
        },
        "id": "AGH4dWb6bWOO",
        "outputId": "c7402004-c6f6-48f4-e8a1-e41b7dcd5237"
      },
      "source": [
        "dataset.head()"
      ],
      "execution_count": 21,
      "outputs": [
        {
          "output_type": "execute_result",
          "data": {
            "text/html": [
              "<div>\n",
              "<style scoped>\n",
              "    .dataframe tbody tr th:only-of-type {\n",
              "        vertical-align: middle;\n",
              "    }\n",
              "\n",
              "    .dataframe tbody tr th {\n",
              "        vertical-align: top;\n",
              "    }\n",
              "\n",
              "    .dataframe thead th {\n",
              "        text-align: right;\n",
              "    }\n",
              "</style>\n",
              "<table border=\"1\" class=\"dataframe\">\n",
              "  <thead>\n",
              "    <tr style=\"text-align: right;\">\n",
              "      <th></th>\n",
              "      <th>Song_ID</th>\n",
              "      <th>Song_Title</th>\n",
              "      <th>Chorus</th>\n",
              "      <th>Emotion</th>\n",
              "    </tr>\n",
              "  </thead>\n",
              "  <tbody>\n",
              "    <tr>\n",
              "      <th>0</th>\n",
              "      <td>1</td>\n",
              "      <td>Diana</td>\n",
              "      <td>Diana,\\r\\nLet me be the one to light a fire in...</td>\n",
              "      <td>Inspiration</td>\n",
              "    </tr>\n",
              "    <tr>\n",
              "      <th>1</th>\n",
              "      <td>2</td>\n",
              "      <td>Don't forget where you belong</td>\n",
              "      <td>Don't forget where you belong\\r\\nHome\\r\\nDon't...</td>\n",
              "      <td>Inspiration</td>\n",
              "    </tr>\n",
              "    <tr>\n",
              "      <th>2</th>\n",
              "      <td>3</td>\n",
              "      <td>Strong</td>\n",
              "      <td>I'm sorry if I say, \"I need you\"\\nBut I don't ...</td>\n",
              "      <td>Inspiration</td>\n",
              "    </tr>\n",
              "    <tr>\n",
              "      <th>3</th>\n",
              "      <td>4</td>\n",
              "      <td>Happily</td>\n",
              "      <td>I don't care what people say when we're togeth...</td>\n",
              "      <td>Sad</td>\n",
              "    </tr>\n",
              "    <tr>\n",
              "      <th>4</th>\n",
              "      <td>5</td>\n",
              "      <td>Better than words</td>\n",
              "      <td>Better than words\\r\\nMore than a feeling \\r\\nC...</td>\n",
              "      <td>Love</td>\n",
              "    </tr>\n",
              "  </tbody>\n",
              "</table>\n",
              "</div>"
            ],
            "text/plain": [
              "   Song_ID  ...      Emotion\n",
              "0        1  ...  Inspiration\n",
              "1        2  ...  Inspiration\n",
              "2        3  ...  Inspiration\n",
              "3        4  ...          Sad\n",
              "4        5  ...         Love\n",
              "\n",
              "[5 rows x 4 columns]"
            ]
          },
          "metadata": {},
          "execution_count": 21
        }
      ]
    },
    {
      "cell_type": "code",
      "metadata": {
        "colab": {
          "base_uri": "https://localhost:8080/"
        },
        "id": "MD99bHypKLar",
        "outputId": "a918e2af-bfc5-46d7-a915-a6904716190e"
      },
      "source": [
        "lyrics = dataset['Chorus']\n",
        "lyrics"
      ],
      "execution_count": 22,
      "outputs": [
        {
          "output_type": "execute_result",
          "data": {
            "text/plain": [
              "0      Diana,\\r\\nLet me be the one to light a fire in...\n",
              "1      Don't forget where you belong\\r\\nHome\\r\\nDon't...\n",
              "2      I'm sorry if I say, \"I need you\"\\nBut I don't ...\n",
              "3      I don't care what people say when we're togeth...\n",
              "4      Better than words\\r\\nMore than a feeling \\r\\nC...\n",
              "                             ...                        \n",
              "276    Anyway I'm just gonna sing and play\\nUm, and I...\n",
              "277    Heart beats fast\\r\\nColors and promises\\r\\nHow...\n",
              "278    It's a pity\\r\\nLow down and dirty shame\\r\\nLor...\n",
              "279    I went down to the river\\r\\nSat there all nigh...\n",
              "280    You think that you have left me behind\\r\\nAnd ...\n",
              "Name: Chorus, Length: 281, dtype: object"
            ]
          },
          "metadata": {},
          "execution_count": 22
        }
      ]
    },
    {
      "cell_type": "code",
      "metadata": {
        "id": "wSdSruceNU_J"
      },
      "source": [
        "dataset.dropna(how='all', axis=1, inplace=True)"
      ],
      "execution_count": 23,
      "outputs": []
    },
    {
      "cell_type": "code",
      "metadata": {
        "colab": {
          "base_uri": "https://localhost:8080/",
          "height": 206
        },
        "id": "bqqfiEj8NahK",
        "outputId": "f4a94246-6e90-4695-98ee-fa5c70c86d5c"
      },
      "source": [
        "dataset.head()"
      ],
      "execution_count": 24,
      "outputs": [
        {
          "output_type": "execute_result",
          "data": {
            "text/html": [
              "<div>\n",
              "<style scoped>\n",
              "    .dataframe tbody tr th:only-of-type {\n",
              "        vertical-align: middle;\n",
              "    }\n",
              "\n",
              "    .dataframe tbody tr th {\n",
              "        vertical-align: top;\n",
              "    }\n",
              "\n",
              "    .dataframe thead th {\n",
              "        text-align: right;\n",
              "    }\n",
              "</style>\n",
              "<table border=\"1\" class=\"dataframe\">\n",
              "  <thead>\n",
              "    <tr style=\"text-align: right;\">\n",
              "      <th></th>\n",
              "      <th>Song_ID</th>\n",
              "      <th>Song_Title</th>\n",
              "      <th>Chorus</th>\n",
              "      <th>Emotion</th>\n",
              "    </tr>\n",
              "  </thead>\n",
              "  <tbody>\n",
              "    <tr>\n",
              "      <th>0</th>\n",
              "      <td>1</td>\n",
              "      <td>Diana</td>\n",
              "      <td>Diana,\\r\\nLet me be the one to light a fire in...</td>\n",
              "      <td>Inspiration</td>\n",
              "    </tr>\n",
              "    <tr>\n",
              "      <th>1</th>\n",
              "      <td>2</td>\n",
              "      <td>Don't forget where you belong</td>\n",
              "      <td>Don't forget where you belong\\r\\nHome\\r\\nDon't...</td>\n",
              "      <td>Inspiration</td>\n",
              "    </tr>\n",
              "    <tr>\n",
              "      <th>2</th>\n",
              "      <td>3</td>\n",
              "      <td>Strong</td>\n",
              "      <td>I'm sorry if I say, \"I need you\"\\nBut I don't ...</td>\n",
              "      <td>Inspiration</td>\n",
              "    </tr>\n",
              "    <tr>\n",
              "      <th>3</th>\n",
              "      <td>4</td>\n",
              "      <td>Happily</td>\n",
              "      <td>I don't care what people say when we're togeth...</td>\n",
              "      <td>Sad</td>\n",
              "    </tr>\n",
              "    <tr>\n",
              "      <th>4</th>\n",
              "      <td>5</td>\n",
              "      <td>Better than words</td>\n",
              "      <td>Better than words\\r\\nMore than a feeling \\r\\nC...</td>\n",
              "      <td>Love</td>\n",
              "    </tr>\n",
              "  </tbody>\n",
              "</table>\n",
              "</div>"
            ],
            "text/plain": [
              "   Song_ID  ...      Emotion\n",
              "0        1  ...  Inspiration\n",
              "1        2  ...  Inspiration\n",
              "2        3  ...  Inspiration\n",
              "3        4  ...          Sad\n",
              "4        5  ...         Love\n",
              "\n",
              "[5 rows x 4 columns]"
            ]
          },
          "metadata": {},
          "execution_count": 24
        }
      ]
    },
    {
      "cell_type": "code",
      "metadata": {
        "colab": {
          "base_uri": "https://localhost:8080/",
          "height": 424
        },
        "id": "-QPC9EIAN8yx",
        "outputId": "886fce20-4a68-4dfe-9cb9-c3732fc6a625"
      },
      "source": [
        "dataset"
      ],
      "execution_count": 25,
      "outputs": [
        {
          "output_type": "execute_result",
          "data": {
            "text/html": [
              "<div>\n",
              "<style scoped>\n",
              "    .dataframe tbody tr th:only-of-type {\n",
              "        vertical-align: middle;\n",
              "    }\n",
              "\n",
              "    .dataframe tbody tr th {\n",
              "        vertical-align: top;\n",
              "    }\n",
              "\n",
              "    .dataframe thead th {\n",
              "        text-align: right;\n",
              "    }\n",
              "</style>\n",
              "<table border=\"1\" class=\"dataframe\">\n",
              "  <thead>\n",
              "    <tr style=\"text-align: right;\">\n",
              "      <th></th>\n",
              "      <th>Song_ID</th>\n",
              "      <th>Song_Title</th>\n",
              "      <th>Chorus</th>\n",
              "      <th>Emotion</th>\n",
              "    </tr>\n",
              "  </thead>\n",
              "  <tbody>\n",
              "    <tr>\n",
              "      <th>0</th>\n",
              "      <td>1</td>\n",
              "      <td>Diana</td>\n",
              "      <td>Diana,\\r\\nLet me be the one to light a fire in...</td>\n",
              "      <td>Inspiration</td>\n",
              "    </tr>\n",
              "    <tr>\n",
              "      <th>1</th>\n",
              "      <td>2</td>\n",
              "      <td>Don't forget where you belong</td>\n",
              "      <td>Don't forget where you belong\\r\\nHome\\r\\nDon't...</td>\n",
              "      <td>Inspiration</td>\n",
              "    </tr>\n",
              "    <tr>\n",
              "      <th>2</th>\n",
              "      <td>3</td>\n",
              "      <td>Strong</td>\n",
              "      <td>I'm sorry if I say, \"I need you\"\\nBut I don't ...</td>\n",
              "      <td>Inspiration</td>\n",
              "    </tr>\n",
              "    <tr>\n",
              "      <th>3</th>\n",
              "      <td>4</td>\n",
              "      <td>Happily</td>\n",
              "      <td>I don't care what people say when we're togeth...</td>\n",
              "      <td>Sad</td>\n",
              "    </tr>\n",
              "    <tr>\n",
              "      <th>4</th>\n",
              "      <td>5</td>\n",
              "      <td>Better than words</td>\n",
              "      <td>Better than words\\r\\nMore than a feeling \\r\\nC...</td>\n",
              "      <td>Love</td>\n",
              "    </tr>\n",
              "    <tr>\n",
              "      <th>...</th>\n",
              "      <td>...</td>\n",
              "      <td>...</td>\n",
              "      <td>...</td>\n",
              "      <td>...</td>\n",
              "    </tr>\n",
              "    <tr>\n",
              "      <th>276</th>\n",
              "      <td>277</td>\n",
              "      <td>Love me like you do</td>\n",
              "      <td>Anyway I'm just gonna sing and play\\nUm, and I...</td>\n",
              "      <td>Love</td>\n",
              "    </tr>\n",
              "    <tr>\n",
              "      <th>277</th>\n",
              "      <td>278</td>\n",
              "      <td>A thousand years</td>\n",
              "      <td>Heart beats fast\\r\\nColors and promises\\r\\nHow...</td>\n",
              "      <td>Love</td>\n",
              "    </tr>\n",
              "    <tr>\n",
              "      <th>278</th>\n",
              "      <td>279</td>\n",
              "      <td>Money Is The Name of The Game</td>\n",
              "      <td>It's a pity\\r\\nLow down and dirty shame\\r\\nLor...</td>\n",
              "      <td>Angry</td>\n",
              "    </tr>\n",
              "    <tr>\n",
              "      <th>279</th>\n",
              "      <td>280</td>\n",
              "      <td>Blues In My Bottle</td>\n",
              "      <td>I went down to the river\\r\\nSat there all nigh...</td>\n",
              "      <td>Sad</td>\n",
              "    </tr>\n",
              "    <tr>\n",
              "      <th>280</th>\n",
              "      <td>281</td>\n",
              "      <td>As The Years Go Passing By</td>\n",
              "      <td>You think that you have left me behind\\r\\nAnd ...</td>\n",
              "      <td>Sad</td>\n",
              "    </tr>\n",
              "  </tbody>\n",
              "</table>\n",
              "<p>281 rows × 4 columns</p>\n",
              "</div>"
            ],
            "text/plain": [
              "     Song_ID  ...      Emotion\n",
              "0          1  ...  Inspiration\n",
              "1          2  ...  Inspiration\n",
              "2          3  ...  Inspiration\n",
              "3          4  ...          Sad\n",
              "4          5  ...         Love\n",
              "..       ...  ...          ...\n",
              "276      277  ...         Love\n",
              "277      278  ...         Love\n",
              "278      279  ...        Angry\n",
              "279      280  ...          Sad\n",
              "280      281  ...          Sad\n",
              "\n",
              "[281 rows x 4 columns]"
            ]
          },
          "metadata": {},
          "execution_count": 25
        }
      ]
    },
    {
      "cell_type": "code",
      "metadata": {
        "colab": {
          "base_uri": "https://localhost:8080/"
        },
        "id": "TWHQX8pWNpOa",
        "outputId": "b36ae2e2-cbed-407a-9198-69acd980f55e"
      },
      "source": [
        "lyrics2 = dataset['Chorus']\n",
        "lyrics2"
      ],
      "execution_count": 27,
      "outputs": [
        {
          "output_type": "execute_result",
          "data": {
            "text/plain": [
              "0      Diana,\\r\\nLet me be the one to light a fire in...\n",
              "1      Don't forget where you belong\\r\\nHome\\r\\nDon't...\n",
              "2      I'm sorry if I say, \"I need you\"\\nBut I don't ...\n",
              "3      I don't care what people say when we're togeth...\n",
              "4      Better than words\\r\\nMore than a feeling \\r\\nC...\n",
              "                             ...                        \n",
              "276    Anyway I'm just gonna sing and play\\nUm, and I...\n",
              "277    Heart beats fast\\r\\nColors and promises\\r\\nHow...\n",
              "278    It's a pity\\r\\nLow down and dirty shame\\r\\nLor...\n",
              "279    I went down to the river\\r\\nSat there all nigh...\n",
              "280    You think that you have left me behind\\r\\nAnd ...\n",
              "Name: Chorus, Length: 281, dtype: object"
            ]
          },
          "metadata": {},
          "execution_count": 27
        }
      ]
    },
    {
      "cell_type": "markdown",
      "metadata": {
        "id": "7vvB4soGOFXP"
      },
      "source": [
        "Checking the empty rows in dataset"
      ]
    },
    {
      "cell_type": "code",
      "metadata": {
        "colab": {
          "base_uri": "https://localhost:8080/"
        },
        "id": "ZKKWupuDOE-g",
        "outputId": "a4b2b8c4-aca9-4cc8-bf06-3d9bd44d537c"
      },
      "source": [
        "print (dataset.isnull().sum())"
      ],
      "execution_count": 28,
      "outputs": [
        {
          "output_type": "stream",
          "name": "stdout",
          "text": [
            "Song_ID       0\n",
            "Song_Title    0\n",
            "Chorus        1\n",
            "Emotion       2\n",
            "dtype: int64\n"
          ]
        }
      ]
    },
    {
      "cell_type": "code",
      "metadata": {
        "colab": {
          "base_uri": "https://localhost:8080/",
          "height": 424
        },
        "id": "1zhJtwuJObZu",
        "outputId": "9de6a3c1-3f36-45ca-cde6-8b2c36525a1a"
      },
      "source": [
        "modifiedDF = dataset.dropna()\n",
        "modifiedDF"
      ],
      "execution_count": 29,
      "outputs": [
        {
          "output_type": "execute_result",
          "data": {
            "text/html": [
              "<div>\n",
              "<style scoped>\n",
              "    .dataframe tbody tr th:only-of-type {\n",
              "        vertical-align: middle;\n",
              "    }\n",
              "\n",
              "    .dataframe tbody tr th {\n",
              "        vertical-align: top;\n",
              "    }\n",
              "\n",
              "    .dataframe thead th {\n",
              "        text-align: right;\n",
              "    }\n",
              "</style>\n",
              "<table border=\"1\" class=\"dataframe\">\n",
              "  <thead>\n",
              "    <tr style=\"text-align: right;\">\n",
              "      <th></th>\n",
              "      <th>Song_ID</th>\n",
              "      <th>Song_Title</th>\n",
              "      <th>Chorus</th>\n",
              "      <th>Emotion</th>\n",
              "    </tr>\n",
              "  </thead>\n",
              "  <tbody>\n",
              "    <tr>\n",
              "      <th>0</th>\n",
              "      <td>1</td>\n",
              "      <td>Diana</td>\n",
              "      <td>Diana,\\r\\nLet me be the one to light a fire in...</td>\n",
              "      <td>Inspiration</td>\n",
              "    </tr>\n",
              "    <tr>\n",
              "      <th>1</th>\n",
              "      <td>2</td>\n",
              "      <td>Don't forget where you belong</td>\n",
              "      <td>Don't forget where you belong\\r\\nHome\\r\\nDon't...</td>\n",
              "      <td>Inspiration</td>\n",
              "    </tr>\n",
              "    <tr>\n",
              "      <th>2</th>\n",
              "      <td>3</td>\n",
              "      <td>Strong</td>\n",
              "      <td>I'm sorry if I say, \"I need you\"\\nBut I don't ...</td>\n",
              "      <td>Inspiration</td>\n",
              "    </tr>\n",
              "    <tr>\n",
              "      <th>3</th>\n",
              "      <td>4</td>\n",
              "      <td>Happily</td>\n",
              "      <td>I don't care what people say when we're togeth...</td>\n",
              "      <td>Sad</td>\n",
              "    </tr>\n",
              "    <tr>\n",
              "      <th>4</th>\n",
              "      <td>5</td>\n",
              "      <td>Better than words</td>\n",
              "      <td>Better than words\\r\\nMore than a feeling \\r\\nC...</td>\n",
              "      <td>Love</td>\n",
              "    </tr>\n",
              "    <tr>\n",
              "      <th>...</th>\n",
              "      <td>...</td>\n",
              "      <td>...</td>\n",
              "      <td>...</td>\n",
              "      <td>...</td>\n",
              "    </tr>\n",
              "    <tr>\n",
              "      <th>276</th>\n",
              "      <td>277</td>\n",
              "      <td>Love me like you do</td>\n",
              "      <td>Anyway I'm just gonna sing and play\\nUm, and I...</td>\n",
              "      <td>Love</td>\n",
              "    </tr>\n",
              "    <tr>\n",
              "      <th>277</th>\n",
              "      <td>278</td>\n",
              "      <td>A thousand years</td>\n",
              "      <td>Heart beats fast\\r\\nColors and promises\\r\\nHow...</td>\n",
              "      <td>Love</td>\n",
              "    </tr>\n",
              "    <tr>\n",
              "      <th>278</th>\n",
              "      <td>279</td>\n",
              "      <td>Money Is The Name of The Game</td>\n",
              "      <td>It's a pity\\r\\nLow down and dirty shame\\r\\nLor...</td>\n",
              "      <td>Angry</td>\n",
              "    </tr>\n",
              "    <tr>\n",
              "      <th>279</th>\n",
              "      <td>280</td>\n",
              "      <td>Blues In My Bottle</td>\n",
              "      <td>I went down to the river\\r\\nSat there all nigh...</td>\n",
              "      <td>Sad</td>\n",
              "    </tr>\n",
              "    <tr>\n",
              "      <th>280</th>\n",
              "      <td>281</td>\n",
              "      <td>As The Years Go Passing By</td>\n",
              "      <td>You think that you have left me behind\\r\\nAnd ...</td>\n",
              "      <td>Sad</td>\n",
              "    </tr>\n",
              "  </tbody>\n",
              "</table>\n",
              "<p>279 rows × 4 columns</p>\n",
              "</div>"
            ],
            "text/plain": [
              "     Song_ID  ...      Emotion\n",
              "0          1  ...  Inspiration\n",
              "1          2  ...  Inspiration\n",
              "2          3  ...  Inspiration\n",
              "3          4  ...          Sad\n",
              "4          5  ...         Love\n",
              "..       ...  ...          ...\n",
              "276      277  ...         Love\n",
              "277      278  ...         Love\n",
              "278      279  ...        Angry\n",
              "279      280  ...          Sad\n",
              "280      281  ...          Sad\n",
              "\n",
              "[279 rows x 4 columns]"
            ]
          },
          "metadata": {},
          "execution_count": 29
        }
      ]
    },
    {
      "cell_type": "code",
      "metadata": {
        "colab": {
          "base_uri": "https://localhost:8080/"
        },
        "id": "FTGlaPVebvyM",
        "outputId": "63cd160b-7b7e-4173-e26b-082aa17326df"
      },
      "source": [
        "import re\n",
        "import nltk\n",
        "nltk.download('stopwords')\n",
        "from nltk.corpus import stopwords\n",
        "from nltk.stem.porter import PorterStemmer\n",
        "corpus = []\n",
        "for i in range(0, 34):\n",
        "  Lyrics = re.sub('[^a-zA-Z]', ' ', modifiedDF['Chorus'][i])\n",
        "  Lyrics = Lyrics.lower()\n",
        "  Lyrics = Lyrics.split()\n",
        "  ps = PorterStemmer()\n",
        "  all_stopwords = stopwords.words('english')\n",
        "  all_stopwords.remove('not')\n",
        "  Lyrics = [ps.stem(word) for word in Lyrics if not word in set(all_stopwords)]\n",
        "  Lyrics = ' '.join(Lyrics)\n",
        "  corpus.append(Lyrics)"
      ],
      "execution_count": 51,
      "outputs": [
        {
          "output_type": "stream",
          "name": "stdout",
          "text": [
            "[nltk_data] Downloading package stopwords to /root/nltk_data...\n",
            "[nltk_data]   Package stopwords is already up-to-date!\n"
          ]
        }
      ]
    },
    {
      "cell_type": "markdown",
      "metadata": {
        "id": "esG0jgZSQK0Q"
      },
      "source": [
        "Print corpus"
      ]
    },
    {
      "cell_type": "code",
      "metadata": {
        "colab": {
          "base_uri": "https://localhost:8080/"
        },
        "id": "kFaGMJ3LQODW",
        "outputId": "ed7cf1a7-83a5-4fb2-f383-f78311c8775b"
      },
      "source": [
        "print(corpus)"
      ],
      "execution_count": 52,
      "outputs": [
        {
          "output_type": "stream",
          "name": "stdout",
          "text": [
            "['diana let one light fire insid eye lone even know feel cri diana let one lift heart save life think even realiz babi save mine', 'forget belong home forget belong home ever feel alon never proof song', 'sorri say need care not scare love caus not weaker wrong wrong make strong', 'care peopl say togeth know wanna one hold sleep want forev know wanna leav c mon babi happili', 'better word feel crazi love danc ceil everi time touch shook make wanna deep love god know babi', 'tell hurt vain see heart love rememb laugh let laugh burn even scream shout come back back oh carri fire water love hold closer hope heart strong enough night come find way dark', 'know know know know everi everi everi time lone sometim wanna cave wanna fight tri tri tri tri tri hold lone momma sorri not sober anymor daddi pleas forgiv drink spill floor one never left road sorri not sober anymor not sober anymor sorri promis get help intent sorri', 'walk th park saw anoth arm month apart look happier saw walk insid bar said somethin make laugh saw smile twice wide yeah look happier nobodi hurt like hurt nobodi love like promis not take person babi movin someon new caus babi look happier knew one day fall someon new break heart like lover know waitin', 'life get numb way feel drown drink date prescript pill one love left shelf farewel save someon els got save', 'club best place find lover bar go friend tabl shot drink fast talk slow come start convers trust give chanc take hand stop put van man jukebox start danc sing like girl know want love love handmad somebodi like come follow lead may crazi mind say boy let not talk much grab waist put bodi come follow lead come come follow lead love shape push pull like magnet although heart fall love bodi last night room bedsheet smell like everi day discov someth brand new love bodi', 'well found woman stronger anyon know share dream hope someday share home found love carri secret carri love carri children still kid love fight odd know alright time darl hold hand girl man see futur eye babi danc dark arm barefoot grass listen favorit song saw dress look beauti deserv darl look perfect tonight', 'oh compar everyon alway got finger self destruct wonder love enough wonder love enough alway look ride die caus mine heart gonna life time went fuck time went fuck wonder love enough', 'face face see eye eye like fire rain like fire rain drive insan drive insan stay mad anyth venu mar venu mar like differ star like differ star harmoni everi song sing chang thing ye hold let go perfectli imperfect chang thing', 'feel like drop ocean nobodi notic mayb head feel like trap skin bodi frozen broken got noth left high emot lose focu feel exhaust pray get lost moment give closest need somebodi say okay not okay okay not okay feel asham okay not okay', 'alway kind girl hid face afraid tell world got say dream right insid gonna let show time let know let know real exactli suppos gonna let light shine found way hold hide want', 'wanna play wanna stay wanna start messin head hit wall mayb known mayb known would walk would walk door hey said done met someon brought face cut part broke heart ran away guess known guess known would talk would talk even star moon collid never want back life take word lie oh oh oh realli care', 'let go let go hold back anymor let go let go turn back slam door snow glow white mountain tonight not footprint seen kingdom isol look like queen wind howl like swirl storm insid keep heaven know tri let let see good girl alway conceal feel let know well know', 'readi ha time take boss right not gonna fake not go caus game better come play use hold freak back let go make choic bitch run show leav light make behav uh huh huh say complic must mind underr rate rate', 'even heart see not bein true deep within soul feel noth like use sometim wish could turn back time imposs may seem wish could bad babi quit playin game heart quit playin game heart tear us apart quit playin game heart known start know got stop heart tear us apart heart quit playin game heart', 'got everyon watchin us babi let keep secret littl bit scandal babi let see littl less convers littl touch bodi caus caus tell came caus wait edg control need need know know oh babi come light mayb let littl bit danger babi want littl less convers littl touch bodi caus', 'tell get feel realli wanna turn tell get feel realli wanna make ah caus see tryin sublimin tryin see gon one sing along admit excit part kinda like lead babi tell motiv motiv motiv tell motiv motiv', 'day thing take way much energi look whole room spin take care away overcompl peopl tell medic feel blood runnin swear sky fallin know shit fabric time goe control mind know els tri tell everi time keep breathin breathin breathin breathin oh gotta keep keep breathin keep breathin breathin breathin breathin oh gotta keep keep breathin', 'took away tabl pace back forth lay still pull feel heartbeat hear scream pleas leav hold still want come back still need let take hand make right swear love life hold still need wanna let go know not strong wanna hear say babi let go home let go home yeah wanna take home', 'awhil sinc lost ya get close year world keep turn alway still heartach friendli face us want get place let get place pleas take home pleas take home pleas take wheel night lay cloth blind save hit floor let leav alon babi pleas take home', 'babi sink bed stare ceil let lay catch breath slip away high feel promis regret let love death', 'oh kill know one tri not lose mind wait day come everyon alright know one pretend like noth wrong frozen underneath sun feel like belong know one see shadow dark hallucin tear apart tear apart feel like world', 'yeah ooh darlin part want let go oh charmin part still holdin kiss crawl back love want nothin lose yeah caus nothin compar good old fashion heartach put yeah portland tri sellin organ babi kept caus nothin compar good old fashion heartach put', 'one told way lie well one told mani peopl cri well late say sorri would know care pleas bother tri find not let tell way look way act color hair voic soft cool eye clear bright not', 'matter go everybodi stare not fanci cloth rock baggi jean get close comfort comfort need eat bodi weight chocol ice cream mayb bite nail think speak fit crowd ever get much sleep wish leg bigger bigger new york citi love want love caus love gender free feel like put makeup cheek wanna love everi singl part bodi top bottom not supermodel magazin okay not perfect caus perfect caus perfect caus perfect', 'mess talk shit gonna push away say love make crazi go go look look eye realli go away without fight reason done polit told one two three four five six thousand time made obviou made clear want spell f r e n made obviou made clear want spell f r e n f r e n', 'honest right sunday morn bedsheet wake alon thought day honest better way everi time think get head never ever let forget caus think gone hear song radio like take back place use go tri fight hear stop smile rememb gone babi song radio use know', 'think love bad health see one els guess blame anyon hey ayi yeah know today call like hundr time yesterday call like hundr five nobodi els want side hey ayi yeah bad day still great time drunk face listen red red wine ok laugh cri raini day still sunshin got problem need deal haha ah trust us want let deal yeah', 'realli know someth start caus deep insid feel good whenev part ever wanna go backtrack broken heart feel like hit head caus star star eye sky babe sit seat car hand thigh ye think alright babe ever go far think love think feel way back young heard love never believ chang mind world record time said hello said babi tell goodby caus love believ love easi breath love easi breath', 'run run chase sunset alright alright done done howev dark get alright alright pull trigger tight uh glitter night live live love live like free like breathin fire like breathin fire roll downtown ride dragon night long like breathin fire']\n"
          ]
        }
      ]
    },
    {
      "cell_type": "markdown",
      "metadata": {
        "id": "hV0uWOYCQWKF"
      },
      "source": [
        "Creating the bag of words modal"
      ]
    },
    {
      "cell_type": "code",
      "metadata": {
        "id": "PRT_E8GkQY4x"
      },
      "source": [
        "from sklearn.feature_extraction.text import CountVectorizer\n",
        "cv = CountVectorizer(max_features = 1500)\n",
        "X = cv.fit_transform(corpus).toarray()\n",
        "y = modifiedDF.iloc[0:34, -1].values"
      ],
      "execution_count": 53,
      "outputs": []
    },
    {
      "cell_type": "code",
      "metadata": {
        "colab": {
          "base_uri": "https://localhost:8080/"
        },
        "id": "LMww1MtmRTE0",
        "outputId": "7f7756af-4382-42d8-feb8-d862892f2fd8"
      },
      "source": [
        "X"
      ],
      "execution_count": 54,
      "outputs": [
        {
          "output_type": "execute_result",
          "data": {
            "text/plain": [
              "array([[0, 0, 0, ..., 0, 0, 0],\n",
              "       [0, 0, 0, ..., 0, 0, 0],\n",
              "       [0, 0, 0, ..., 0, 0, 0],\n",
              "       ...,\n",
              "       [0, 0, 0, ..., 1, 0, 0],\n",
              "       [0, 0, 0, ..., 0, 0, 1],\n",
              "       [0, 0, 0, ..., 0, 0, 0]])"
            ]
          },
          "metadata": {},
          "execution_count": 54
        }
      ]
    },
    {
      "cell_type": "code",
      "metadata": {
        "colab": {
          "base_uri": "https://localhost:8080/"
        },
        "id": "u4OdIqTNRZ6k",
        "outputId": "7211deff-7d50-48dc-fd49-ea58b260e357"
      },
      "source": [
        "y"
      ],
      "execution_count": 55,
      "outputs": [
        {
          "output_type": "execute_result",
          "data": {
            "text/plain": [
              "array(['Inspiration', 'Inspiration', 'Inspiration', 'Sad', 'Love',\n",
              "       'Inspiration', 'Sad', 'Sad', 'Sad', 'Happy', 'Love', 'Inspiration',\n",
              "       'Love', 'Inspiration', 'Inspiration', 'Angry', 'Inspiration',\n",
              "       'Angry', 'Sad', 'Love', 'Sad', 'Inspiration', 'Sad', 'Sad', 'Love',\n",
              "       'Sad', 'Love', 'Sad', 'Calm', 'Tense', 'Love', 'Inspiration',\n",
              "       'Love', 'Love'], dtype=object)"
            ]
          },
          "metadata": {},
          "execution_count": 55
        }
      ]
    },
    {
      "cell_type": "markdown",
      "metadata": {
        "id": "PmG9-Z7PQyea"
      },
      "source": [
        "Splitting the dataset into the Training set and Test set"
      ]
    },
    {
      "cell_type": "code",
      "metadata": {
        "id": "PShXt3tuQzIx"
      },
      "source": [
        "from sklearn.model_selection import train_test_split\n",
        "X_train, X_test, y_train, y_test = train_test_split(X, y, test_size = 0.20, random_state = 0)"
      ],
      "execution_count": 56,
      "outputs": []
    },
    {
      "cell_type": "markdown",
      "metadata": {
        "id": "8o6BdfkSRnnC"
      },
      "source": [
        "Training the Naive Bayes model on the Training set"
      ]
    },
    {
      "cell_type": "code",
      "metadata": {
        "colab": {
          "base_uri": "https://localhost:8080/"
        },
        "id": "2TdKzzyyRoNv",
        "outputId": "42172088-72b8-4bd8-de5f-b58ecb4ed484"
      },
      "source": [
        "from sklearn.naive_bayes import GaussianNB\n",
        "classifier = GaussianNB()\n",
        "classifier.fit(X_train, y_train)"
      ],
      "execution_count": 57,
      "outputs": [
        {
          "output_type": "execute_result",
          "data": {
            "text/plain": [
              "GaussianNB()"
            ]
          },
          "metadata": {},
          "execution_count": 57
        }
      ]
    },
    {
      "cell_type": "markdown",
      "metadata": {
        "id": "maG3b8yiRup0"
      },
      "source": [
        "Predicting the Test set results"
      ]
    },
    {
      "cell_type": "code",
      "metadata": {
        "colab": {
          "base_uri": "https://localhost:8080/"
        },
        "id": "56RB62bSRvbY",
        "outputId": "bc1e4235-ed5c-4d41-9575-860ef2914ac9"
      },
      "source": [
        "y_pred = classifier.predict(X_test)\n",
        "print(np.concatenate((y_pred.reshape(len(y_pred),1), y_test.reshape(len(y_test),1)),1))"
      ],
      "execution_count": 58,
      "outputs": [
        {
          "output_type": "stream",
          "name": "stdout",
          "text": [
            "[['Inspiration' 'Inspiration']\n",
            " ['Love' 'Sad']\n",
            " ['Sad' 'Sad']\n",
            " ['Sad' 'Angry']\n",
            " ['Sad' 'Inspiration']\n",
            " ['Sad' 'Love']\n",
            " ['Sad' 'Inspiration']]\n"
          ]
        }
      ]
    },
    {
      "cell_type": "markdown",
      "metadata": {
        "id": "2Uiv0xDxR7c9"
      },
      "source": [
        "Making the Confusion Matrix"
      ]
    },
    {
      "cell_type": "code",
      "metadata": {
        "colab": {
          "base_uri": "https://localhost:8080/"
        },
        "id": "-taVWdyIR79B",
        "outputId": "8b7eae79-3a9b-4ac3-be7b-81761eaa82fe"
      },
      "source": [
        "from sklearn.metrics import confusion_matrix, accuracy_score\n",
        "cm = confusion_matrix(y_test, y_pred)\n",
        "print(cm)\n",
        "accuracy_score(y_test, y_pred)"
      ],
      "execution_count": 59,
      "outputs": [
        {
          "output_type": "stream",
          "name": "stdout",
          "text": [
            "[[0 0 0 1]\n",
            " [0 1 0 2]\n",
            " [0 0 0 1]\n",
            " [0 0 1 1]]\n"
          ]
        },
        {
          "output_type": "execute_result",
          "data": {
            "text/plain": [
              "0.2857142857142857"
            ]
          },
          "metadata": {},
          "execution_count": 59
        }
      ]
    },
    {
      "cell_type": "markdown",
      "metadata": {
        "id": "FsiMoAThSzwS"
      },
      "source": [
        "Stop words"
      ]
    },
    {
      "cell_type": "code",
      "metadata": {
        "colab": {
          "base_uri": "https://localhost:8080/"
        },
        "id": "07h3GQJ_S2zd",
        "outputId": "86112a5f-a560-4867-94c7-1bde48cbf80b"
      },
      "source": [
        "all_stopwords"
      ],
      "execution_count": 39,
      "outputs": [
        {
          "output_type": "execute_result",
          "data": {
            "text/plain": [
              "['i',\n",
              " 'me',\n",
              " 'my',\n",
              " 'myself',\n",
              " 'we',\n",
              " 'our',\n",
              " 'ours',\n",
              " 'ourselves',\n",
              " 'you',\n",
              " \"you're\",\n",
              " \"you've\",\n",
              " \"you'll\",\n",
              " \"you'd\",\n",
              " 'your',\n",
              " 'yours',\n",
              " 'yourself',\n",
              " 'yourselves',\n",
              " 'he',\n",
              " 'him',\n",
              " 'his',\n",
              " 'himself',\n",
              " 'she',\n",
              " \"she's\",\n",
              " 'her',\n",
              " 'hers',\n",
              " 'herself',\n",
              " 'it',\n",
              " \"it's\",\n",
              " 'its',\n",
              " 'itself',\n",
              " 'they',\n",
              " 'them',\n",
              " 'their',\n",
              " 'theirs',\n",
              " 'themselves',\n",
              " 'what',\n",
              " 'which',\n",
              " 'who',\n",
              " 'whom',\n",
              " 'this',\n",
              " 'that',\n",
              " \"that'll\",\n",
              " 'these',\n",
              " 'those',\n",
              " 'am',\n",
              " 'is',\n",
              " 'are',\n",
              " 'was',\n",
              " 'were',\n",
              " 'be',\n",
              " 'been',\n",
              " 'being',\n",
              " 'have',\n",
              " 'has',\n",
              " 'had',\n",
              " 'having',\n",
              " 'do',\n",
              " 'does',\n",
              " 'did',\n",
              " 'doing',\n",
              " 'a',\n",
              " 'an',\n",
              " 'the',\n",
              " 'and',\n",
              " 'but',\n",
              " 'if',\n",
              " 'or',\n",
              " 'because',\n",
              " 'as',\n",
              " 'until',\n",
              " 'while',\n",
              " 'of',\n",
              " 'at',\n",
              " 'by',\n",
              " 'for',\n",
              " 'with',\n",
              " 'about',\n",
              " 'against',\n",
              " 'between',\n",
              " 'into',\n",
              " 'through',\n",
              " 'during',\n",
              " 'before',\n",
              " 'after',\n",
              " 'above',\n",
              " 'below',\n",
              " 'to',\n",
              " 'from',\n",
              " 'up',\n",
              " 'down',\n",
              " 'in',\n",
              " 'out',\n",
              " 'on',\n",
              " 'off',\n",
              " 'over',\n",
              " 'under',\n",
              " 'again',\n",
              " 'further',\n",
              " 'then',\n",
              " 'once',\n",
              " 'here',\n",
              " 'there',\n",
              " 'when',\n",
              " 'where',\n",
              " 'why',\n",
              " 'how',\n",
              " 'all',\n",
              " 'any',\n",
              " 'both',\n",
              " 'each',\n",
              " 'few',\n",
              " 'more',\n",
              " 'most',\n",
              " 'other',\n",
              " 'some',\n",
              " 'such',\n",
              " 'no',\n",
              " 'nor',\n",
              " 'only',\n",
              " 'own',\n",
              " 'same',\n",
              " 'so',\n",
              " 'than',\n",
              " 'too',\n",
              " 'very',\n",
              " 's',\n",
              " 't',\n",
              " 'can',\n",
              " 'will',\n",
              " 'just',\n",
              " 'don',\n",
              " \"don't\",\n",
              " 'should',\n",
              " \"should've\",\n",
              " 'now',\n",
              " 'd',\n",
              " 'll',\n",
              " 'm',\n",
              " 'o',\n",
              " 're',\n",
              " 've',\n",
              " 'y',\n",
              " 'ain',\n",
              " 'aren',\n",
              " \"aren't\",\n",
              " 'couldn',\n",
              " \"couldn't\",\n",
              " 'didn',\n",
              " \"didn't\",\n",
              " 'doesn',\n",
              " \"doesn't\",\n",
              " 'hadn',\n",
              " \"hadn't\",\n",
              " 'hasn',\n",
              " \"hasn't\",\n",
              " 'haven',\n",
              " \"haven't\",\n",
              " 'isn',\n",
              " \"isn't\",\n",
              " 'ma',\n",
              " 'mightn',\n",
              " \"mightn't\",\n",
              " 'mustn',\n",
              " \"mustn't\",\n",
              " 'needn',\n",
              " \"needn't\",\n",
              " 'shan',\n",
              " \"shan't\",\n",
              " 'shouldn',\n",
              " \"shouldn't\",\n",
              " 'wasn',\n",
              " \"wasn't\",\n",
              " 'weren',\n",
              " \"weren't\",\n",
              " 'won',\n",
              " \"won't\",\n",
              " 'wouldn',\n",
              " \"wouldn't\"]"
            ]
          },
          "metadata": {},
          "execution_count": 39
        }
      ]
    },
    {
      "cell_type": "markdown",
      "metadata": {
        "id": "RUsVbKXOUWsd"
      },
      "source": [
        "Appyling K-fold cross validation"
      ]
    },
    {
      "cell_type": "code",
      "metadata": {
        "colab": {
          "base_uri": "https://localhost:8080/"
        },
        "id": "Sl-4bKUMUZro",
        "outputId": "d7e55e5b-b2f5-47dd-ee0d-3d205b9a46bc"
      },
      "source": [
        "from sklearn.model_selection import cross_val_score\n",
        "accuracies = cross_val_score(estimator = classifier, X = X_train, y = y_train, cv = 3)\n",
        "print(\"Accuracy: {:.2f} %\".format(accuracies.mean()*100))\n",
        "print(\"Standard Deviation: {:.2f} %\".format(accuracies.std()*100))"
      ],
      "execution_count": 71,
      "outputs": [
        {
          "output_type": "stream",
          "name": "stdout",
          "text": [
            "Accuracy: 37.04 %\n",
            "Standard Deviation: 5.24 %\n"
          ]
        },
        {
          "output_type": "stream",
          "name": "stderr",
          "text": [
            "/usr/local/lib/python3.7/dist-packages/sklearn/model_selection/_split.py:680: UserWarning: The least populated class in y has only 1 members, which is less than n_splits=3.\n",
            "  UserWarning,\n"
          ]
        }
      ]
    },
    {
      "cell_type": "code",
      "metadata": {
        "colab": {
          "base_uri": "https://localhost:8080/"
        },
        "id": "PqL3rJ_tWA9b",
        "outputId": "7a18b1d2-0b0a-4157-ea78-256c472917d6"
      },
      "source": [
        "from sklearn.model_selection import cross_val_score\n",
        "accuracies = cross_val_score(estimator = classifier, X = X_train, y = y_train, cv = 5)\n",
        "print(\"Accuracy: {:.2f} %\".format(accuracies.mean()*100))\n",
        "print(\"Standard Deviation: {:.2f} %\".format(accuracies.std()*100))"
      ],
      "execution_count": 72,
      "outputs": [
        {
          "output_type": "stream",
          "name": "stdout",
          "text": [
            "Accuracy: 34.00 %\n",
            "Standard Deviation: 9.04 %\n"
          ]
        },
        {
          "output_type": "stream",
          "name": "stderr",
          "text": [
            "/usr/local/lib/python3.7/dist-packages/sklearn/model_selection/_split.py:680: UserWarning: The least populated class in y has only 1 members, which is less than n_splits=5.\n",
            "  UserWarning,\n"
          ]
        }
      ]
    },
    {
      "cell_type": "code",
      "metadata": {
        "colab": {
          "base_uri": "https://localhost:8080/"
        },
        "id": "TSRCA3NOWFdI",
        "outputId": "becbc06f-7c21-4326-f45b-e202c8ea0870"
      },
      "source": [
        "from sklearn.model_selection import cross_val_score\n",
        "accuracies = cross_val_score(estimator = classifier, X = X_train, y = y_train, cv = 8)\n",
        "print(\"Accuracy: {:.2f} %\".format(accuracies.mean()*100))\n",
        "print(\"Standard Deviation: {:.2f} %\".format(accuracies.std()*100))"
      ],
      "execution_count": 73,
      "outputs": [
        {
          "output_type": "stream",
          "name": "stdout",
          "text": [
            "Accuracy: 34.38 %\n",
            "Standard Deviation: 21.01 %\n"
          ]
        },
        {
          "output_type": "stream",
          "name": "stderr",
          "text": [
            "/usr/local/lib/python3.7/dist-packages/sklearn/model_selection/_split.py:680: UserWarning: The least populated class in y has only 1 members, which is less than n_splits=8.\n",
            "  UserWarning,\n"
          ]
        }
      ]
    }
  ]
}