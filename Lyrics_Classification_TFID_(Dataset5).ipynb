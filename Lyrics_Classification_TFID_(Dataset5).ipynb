{
  "nbformat": 4,
  "nbformat_minor": 0,
  "metadata": {
    "colab": {
      "name": "Lyrics Classification-TFID (Dataset5).ipynb",
      "provenance": [],
      "mount_file_id": "1L6eoG9uANUFq5vFk-8zIjAkhJ6ivEaz_",
      "authorship_tag": "ABX9TyO946NkmYd8Og8yRf3GfKO1",
      "include_colab_link": true
    },
    "kernelspec": {
      "name": "python3",
      "display_name": "Python 3"
    },
    "language_info": {
      "name": "python"
    }
  },
  "cells": [
    {
      "cell_type": "markdown",
      "metadata": {
        "id": "view-in-github",
        "colab_type": "text"
      },
      "source": [
        "<a href=\"https://colab.research.google.com/github/supuni9622/Test-Google-Colab/blob/main/Lyrics_Classification_TFID_(Dataset5).ipynb\" target=\"_parent\"><img src=\"https://colab.research.google.com/assets/colab-badge.svg\" alt=\"Open In Colab\"/></a>"
      ]
    },
    {
      "cell_type": "code",
      "metadata": {
        "id": "bGRsbfpSaJ_a"
      },
      "source": [
        "import logging\n",
        "import pandas as pd\n",
        "import numpy as np\n",
        "from numpy import random\n",
        "import gensim\n",
        "import nltk\n",
        "from sklearn.model_selection import train_test_split\n",
        "from sklearn.feature_extraction.text import CountVectorizer, TfidfVectorizer\n",
        "from sklearn.metrics import accuracy_score, confusion_matrix\n",
        "import matplotlib.pyplot as plt\n",
        "from nltk.corpus import stopwords\n",
        "import re\n",
        "from bs4 import BeautifulSoup\n",
        "\n",
        "%matplotlib inline"
      ],
      "execution_count": 1,
      "outputs": []
    },
    {
      "cell_type": "code",
      "metadata": {
        "colab": {
          "base_uri": "https://localhost:8080/"
        },
        "id": "uyqMtBqLbPPe",
        "outputId": "599ff5fe-ce12-48e8-b9a0-642ab84a6b01"
      },
      "source": [
        "cd /content/drive/MyDrive/4th Year Research/M3/Test Implementation/Test-Google-Colab/TestV2/TFID"
      ],
      "execution_count": 125,
      "outputs": [
        {
          "output_type": "stream",
          "name": "stdout",
          "text": [
            "/content/drive/MyDrive/4th Year Research/M3/Test Implementation/Test-Google-Colab/TestV2/TFID\n"
          ]
        }
      ]
    },
    {
      "cell_type": "code",
      "metadata": {
        "id": "WD5oKe9kaip_"
      },
      "source": [
        "dataset = pd.read_csv('Lyrical_data_5.csv',encoding='cp1252')"
      ],
      "execution_count": 126,
      "outputs": []
    },
    {
      "cell_type": "code",
      "metadata": {
        "colab": {
          "base_uri": "https://localhost:8080/",
          "height": 206
        },
        "id": "AGH4dWb6bWOO",
        "outputId": "5d0b6318-f840-4d7f-a317-b5c6c0cc6d83"
      },
      "source": [
        "dataset.head()"
      ],
      "execution_count": 127,
      "outputs": [
        {
          "output_type": "execute_result",
          "data": {
            "text/html": [
              "\n",
              "  <div id=\"df-4961b68c-bd53-4c9e-8713-e3966beea6c2\">\n",
              "    <div class=\"colab-df-container\">\n",
              "      <div>\n",
              "<style scoped>\n",
              "    .dataframe tbody tr th:only-of-type {\n",
              "        vertical-align: middle;\n",
              "    }\n",
              "\n",
              "    .dataframe tbody tr th {\n",
              "        vertical-align: top;\n",
              "    }\n",
              "\n",
              "    .dataframe thead th {\n",
              "        text-align: right;\n",
              "    }\n",
              "</style>\n",
              "<table border=\"1\" class=\"dataframe\">\n",
              "  <thead>\n",
              "    <tr style=\"text-align: right;\">\n",
              "      <th></th>\n",
              "      <th>Song_ID</th>\n",
              "      <th>Song_Title</th>\n",
              "      <th>Chorus</th>\n",
              "      <th>Emotion</th>\n",
              "    </tr>\n",
              "  </thead>\n",
              "  <tbody>\n",
              "    <tr>\n",
              "      <th>0</th>\n",
              "      <td>1</td>\n",
              "      <td>Diana</td>\n",
              "      <td>Diana,\\rLet me be the one to light a fire insi...</td>\n",
              "      <td>Inspiration</td>\n",
              "    </tr>\n",
              "    <tr>\n",
              "      <th>1</th>\n",
              "      <td>2</td>\n",
              "      <td>Don't forget where you belong</td>\n",
              "      <td>Don't forget where you belong\\rHome\\rDon't for...</td>\n",
              "      <td>Inspiration</td>\n",
              "    </tr>\n",
              "    <tr>\n",
              "      <th>2</th>\n",
              "      <td>3</td>\n",
              "      <td>Strong</td>\n",
              "      <td>I'm sorry if I say, \"I need you\"\\nBut I don't ...</td>\n",
              "      <td>Inspiration</td>\n",
              "    </tr>\n",
              "    <tr>\n",
              "      <th>3</th>\n",
              "      <td>4</td>\n",
              "      <td>Happily</td>\n",
              "      <td>I don't care what people say when we're togeth...</td>\n",
              "      <td>Love</td>\n",
              "    </tr>\n",
              "    <tr>\n",
              "      <th>4</th>\n",
              "      <td>5</td>\n",
              "      <td>Better than words</td>\n",
              "      <td>Better than words\\rMore than a feeling Crazy i...</td>\n",
              "      <td>Love</td>\n",
              "    </tr>\n",
              "  </tbody>\n",
              "</table>\n",
              "</div>\n",
              "      <button class=\"colab-df-convert\" onclick=\"convertToInteractive('df-4961b68c-bd53-4c9e-8713-e3966beea6c2')\"\n",
              "              title=\"Convert this dataframe to an interactive table.\"\n",
              "              style=\"display:none;\">\n",
              "        \n",
              "  <svg xmlns=\"http://www.w3.org/2000/svg\" height=\"24px\"viewBox=\"0 0 24 24\"\n",
              "       width=\"24px\">\n",
              "    <path d=\"M0 0h24v24H0V0z\" fill=\"none\"/>\n",
              "    <path d=\"M18.56 5.44l.94 2.06.94-2.06 2.06-.94-2.06-.94-.94-2.06-.94 2.06-2.06.94zm-11 1L8.5 8.5l.94-2.06 2.06-.94-2.06-.94L8.5 2.5l-.94 2.06-2.06.94zm10 10l.94 2.06.94-2.06 2.06-.94-2.06-.94-.94-2.06-.94 2.06-2.06.94z\"/><path d=\"M17.41 7.96l-1.37-1.37c-.4-.4-.92-.59-1.43-.59-.52 0-1.04.2-1.43.59L10.3 9.45l-7.72 7.72c-.78.78-.78 2.05 0 2.83L4 21.41c.39.39.9.59 1.41.59.51 0 1.02-.2 1.41-.59l7.78-7.78 2.81-2.81c.8-.78.8-2.07 0-2.86zM5.41 20L4 18.59l7.72-7.72 1.47 1.35L5.41 20z\"/>\n",
              "  </svg>\n",
              "      </button>\n",
              "      \n",
              "  <style>\n",
              "    .colab-df-container {\n",
              "      display:flex;\n",
              "      flex-wrap:wrap;\n",
              "      gap: 12px;\n",
              "    }\n",
              "\n",
              "    .colab-df-convert {\n",
              "      background-color: #E8F0FE;\n",
              "      border: none;\n",
              "      border-radius: 50%;\n",
              "      cursor: pointer;\n",
              "      display: none;\n",
              "      fill: #1967D2;\n",
              "      height: 32px;\n",
              "      padding: 0 0 0 0;\n",
              "      width: 32px;\n",
              "    }\n",
              "\n",
              "    .colab-df-convert:hover {\n",
              "      background-color: #E2EBFA;\n",
              "      box-shadow: 0px 1px 2px rgba(60, 64, 67, 0.3), 0px 1px 3px 1px rgba(60, 64, 67, 0.15);\n",
              "      fill: #174EA6;\n",
              "    }\n",
              "\n",
              "    [theme=dark] .colab-df-convert {\n",
              "      background-color: #3B4455;\n",
              "      fill: #D2E3FC;\n",
              "    }\n",
              "\n",
              "    [theme=dark] .colab-df-convert:hover {\n",
              "      background-color: #434B5C;\n",
              "      box-shadow: 0px 1px 3px 1px rgba(0, 0, 0, 0.15);\n",
              "      filter: drop-shadow(0px 1px 2px rgba(0, 0, 0, 0.3));\n",
              "      fill: #FFFFFF;\n",
              "    }\n",
              "  </style>\n",
              "\n",
              "      <script>\n",
              "        const buttonEl =\n",
              "          document.querySelector('#df-4961b68c-bd53-4c9e-8713-e3966beea6c2 button.colab-df-convert');\n",
              "        buttonEl.style.display =\n",
              "          google.colab.kernel.accessAllowed ? 'block' : 'none';\n",
              "\n",
              "        async function convertToInteractive(key) {\n",
              "          const element = document.querySelector('#df-4961b68c-bd53-4c9e-8713-e3966beea6c2');\n",
              "          const dataTable =\n",
              "            await google.colab.kernel.invokeFunction('convertToInteractive',\n",
              "                                                     [key], {});\n",
              "          if (!dataTable) return;\n",
              "\n",
              "          const docLinkHtml = 'Like what you see? Visit the ' +\n",
              "            '<a target=\"_blank\" href=https://colab.research.google.com/notebooks/data_table.ipynb>data table notebook</a>'\n",
              "            + ' to learn more about interactive tables.';\n",
              "          element.innerHTML = '';\n",
              "          dataTable['output_type'] = 'display_data';\n",
              "          await google.colab.output.renderOutput(dataTable, element);\n",
              "          const docLink = document.createElement('div');\n",
              "          docLink.innerHTML = docLinkHtml;\n",
              "          element.appendChild(docLink);\n",
              "        }\n",
              "      </script>\n",
              "    </div>\n",
              "  </div>\n",
              "  "
            ],
            "text/plain": [
              "   Song_ID  ...      Emotion\n",
              "0        1  ...  Inspiration\n",
              "1        2  ...  Inspiration\n",
              "2        3  ...  Inspiration\n",
              "3        4  ...         Love\n",
              "4        5  ...         Love\n",
              "\n",
              "[5 rows x 4 columns]"
            ]
          },
          "metadata": {},
          "execution_count": 127
        }
      ]
    },
    {
      "cell_type": "code",
      "metadata": {
        "colab": {
          "base_uri": "https://localhost:8080/"
        },
        "id": "MD99bHypKLar",
        "outputId": "d9672770-59fb-417a-af67-eccf690bf5e0"
      },
      "source": [
        "lyrics = dataset['Chorus']\n",
        "lyrics"
      ],
      "execution_count": 128,
      "outputs": [
        {
          "output_type": "execute_result",
          "data": {
            "text/plain": [
              "0      Diana,\\rLet me be the one to light a fire insi...\n",
              "1      Don't forget where you belong\\rHome\\rDon't for...\n",
              "2      I'm sorry if I say, \"I need you\"\\nBut I don't ...\n",
              "3      I don't care what people say when we're togeth...\n",
              "4      Better than words\\rMore than a feeling Crazy i...\n",
              "                             ...                        \n",
              "795    You've got every right\\r\\nTo a beautiful life\\...\n",
              "796    I'm only one call away\\r\\nI'll be there to sav...\n",
              "797    It started with a kiss on your mama's couch\\r\\...\n",
              "798    I warned myself that I shouldn't play with fir...\n",
              "799    I'll admit, I was wrong, what else can I say, ...\n",
              "Name: Chorus, Length: 800, dtype: object"
            ]
          },
          "metadata": {},
          "execution_count": 128
        }
      ]
    },
    {
      "cell_type": "code",
      "metadata": {
        "id": "wSdSruceNU_J"
      },
      "source": [
        "dataset.dropna(how='all', axis=1, inplace=True)"
      ],
      "execution_count": 129,
      "outputs": []
    },
    {
      "cell_type": "markdown",
      "metadata": {
        "id": "7vvB4soGOFXP"
      },
      "source": [
        "Checking the empty rows in dataset"
      ]
    },
    {
      "cell_type": "code",
      "metadata": {
        "colab": {
          "base_uri": "https://localhost:8080/"
        },
        "id": "ZKKWupuDOE-g",
        "outputId": "3ff72c06-e346-4349-a978-b3519f12ea0b"
      },
      "source": [
        "print (dataset.isnull().sum())"
      ],
      "execution_count": 71,
      "outputs": [
        {
          "output_type": "stream",
          "name": "stdout",
          "text": [
            "Song_ID       0\n",
            "Song_Title    0\n",
            "Chorus        0\n",
            "Emotion       0\n",
            "dtype: int64\n"
          ]
        }
      ]
    },
    {
      "cell_type": "code",
      "metadata": {
        "id": "1zhJtwuJObZu"
      },
      "source": [
        "modifiedDF = dataset.dropna()"
      ],
      "execution_count": 130,
      "outputs": []
    },
    {
      "cell_type": "code",
      "source": [
        "modifiedDF['Chorus'].apply(lambda x: len(x.split(' '))).sum()\n",
        "#We have 42,081 words in data"
      ],
      "metadata": {
        "colab": {
          "base_uri": "https://localhost:8080/"
        },
        "id": "6oBOMfKanEY3",
        "outputId": "712215fc-ee03-47f5-a984-c6ac57c4ade4"
      },
      "execution_count": 131,
      "outputs": [
        {
          "output_type": "execute_result",
          "data": {
            "text/plain": [
              "42081"
            ]
          },
          "metadata": {},
          "execution_count": 131
        }
      ]
    },
    {
      "cell_type": "code",
      "source": [
        "my_emotions = ['Happy','Sad','Calm','Inspiration','Angry','Love']\n",
        "plt.figure(figsize=(10,4))\n",
        "modifiedDF.Emotion.value_counts().plot(kind='bar');"
      ],
      "metadata": {
        "colab": {
          "base_uri": "https://localhost:8080/",
          "height": 308
        },
        "id": "gB1rfBujnaA5",
        "outputId": "23028a58-742c-4957-f89c-5bd7177fdbfe"
      },
      "execution_count": 132,
      "outputs": [
        {
          "output_type": "display_data",
          "data": {
            "image/png": "[encoded data removed]",
            "text/plain": [
              "<Figure size 720x288 with 1 Axes>"
            ]
          },
          "metadata": {
            "needs_background": "light"
          }
        }
      ]
    },
    {
      "cell_type": "code",
      "source": [
        "from numpy import random\n",
        "import gensim\n",
        "import nltk\n",
        "nltk.download('stopwords')\n",
        "from sklearn.model_selection import train_test_split\n",
        "from sklearn.feature_extraction.text import CountVectorizer, TfidfVectorizer\n",
        "from sklearn.metrics import accuracy_score, confusion_matrix\n",
        "import matplotlib.pyplot as plt\n",
        "from nltk.corpus import stopwords\n",
        "import re\n",
        "\n",
        "modifiedDF = modifiedDF.reset_index(drop=True)\n",
        "REPLACE = re.compile('[^a-zA-Z]')\n",
        "REPLACE_BY_SPACE_RE = re.compile('[/(){}\\[\\]\\|@,;]')\n",
        "BAD_SYMBOLS_RE = re.compile('[^0-9a-z #+_]')\n",
        "STOPWORDS = set(stopwords.words('english'))\n",
        "\n",
        "def clean_text(text):\n",
        "    \"\"\"\n",
        "        text: a string\n",
        "        \n",
        "        return: modified initial string\n",
        "    \"\"\"\n",
        "    text = text.lower() # lowercase text\n",
        "    text = REPLACE.sub(' ', text)\n",
        "    #text = REPLACE_BY_SPACE_RE.sub(' ', text) # replace REPLACE_BY_SPACE_RE symbols by space in text. substitute the matched string in REPLACE_BY_SPACE_RE with space.\n",
        "    text = BAD_SYMBOLS_RE.sub('', text) # remove symbols which are in BAD_SYMBOLS_RE from text. substitute the matched string in BAD_SYMBOLS_RE with nothing. \n",
        "    text = text.replace('x', '')\n",
        "#    text = re.sub(r'\\W+', '', text)\n",
        "    text = ' '.join(word for word in text.split() if word not in STOPWORDS) # remove stopwors from text\n",
        "    return text"
      ],
      "metadata": {
        "colab": {
          "base_uri": "https://localhost:8080/"
        },
        "id": "eNIyHCid-UeQ",
        "outputId": "2743718c-41e5-4729-8b59-606c48aea171"
      },
      "execution_count": 133,
      "outputs": [
        {
          "output_type": "stream",
          "name": "stdout",
          "text": [
            "[nltk_data] Downloading package stopwords to /root/nltk_data...\n",
            "[nltk_data]   Package stopwords is already up-to-date!\n"
          ]
        }
      ]
    },
    {
      "cell_type": "code",
      "source": [
        "modifiedDF['Chorus'] = modifiedDF['Chorus'].apply(clean_text)\n",
        "# X = modifiedDF['Chorus']\n",
        "# y = modifiedDF['Emotion']"
      ],
      "metadata": {
        "id": "XTemJTNf-mVS"
      },
      "execution_count": 134,
      "outputs": []
    },
    {
      "cell_type": "code",
      "source": [
        "def pad_str(s):\n",
        "        return ' '+s+' '\n",
        "        \n",
        "SPECIAL_TOKENS = {\n",
        "    'quoted': 'quoted_item',\n",
        "    'non-ascii': 'non_ascii_word',\n",
        "    'undefined': 'something'\n",
        "}"
      ],
      "metadata": {
        "id": "0xilThT4EK_R"
      },
      "execution_count": 135,
      "outputs": []
    },
    {
      "cell_type": "code",
      "metadata": {
        "colab": {
          "base_uri": "https://localhost:8080/"
        },
        "id": "FTGlaPVebvyM",
        "outputId": "71b87412-bc99-406a-99c7-bf47406c60de"
      },
      "source": [
        "import re\n",
        "import nltk\n",
        "nltk.download('stopwords')\n",
        "from nltk.corpus import stopwords\n",
        "from nltk.stem.porter import PorterStemmer\n",
        "from string import punctuation\n",
        "corpus = []\n",
        "for i in range(0, 799):\n",
        "  Lyrics = re.sub('[^a-zA-Z]', ' ', modifiedDF['Chorus'][i])\n",
        "  # Lyrics = re.sub(\"\\\\r\", \" \", modifiedDF['Chorus'][i])\n",
        "  # Lyrics = re.sub(\"\\,\", \" \", Lyrics)\n",
        "  # Lyrics = re.sub(\"\\'s\", \" \", Lyrics) # we have cases like \"Sam is\" or \"Sam's\" (i.e. his) these two cases aren't separable, I choose to compromise are kill \"'s\" directly\n",
        "  # Lyrics = re.sub(\" whats \", \" what is \", Lyrics, flags=re.IGNORECASE)\n",
        "  # Lyrics = re.sub(\"\\'ve\", \" have \", Lyrics)\n",
        "  # Lyrics = re.sub(\"can't\", \"can not\", Lyrics)\n",
        "  # Lyrics = re.sub(\"n't\", \" not \", Lyrics)\n",
        "  # Lyrics = re.sub(\"i'm\", \"i am\", Lyrics, flags=re.IGNORECASE)\n",
        "  # Lyrics = re.sub(\"\\'re\", \" are \", Lyrics)\n",
        "  # Lyrics = re.sub(\"\\'d\", \" would \", Lyrics)\n",
        "  # Lyrics = re.sub(\"\\'ll\", \" will \", Lyrics)\n",
        "  # Lyrics = re.sub(\"e\\.g\\.\", \" eg \", Lyrics, flags=re.IGNORECASE)\n",
        "  # Lyrics = re.sub(\"b\\.g\\.\", \" bg \", Lyrics, flags=re.IGNORECASE)\n",
        "  # Lyrics = re.sub(\"(\\d+)(kK)\", \" \\g<1>000 \", Lyrics)\n",
        "  # Lyrics = re.sub('\\$', \" dollar \", Lyrics)\n",
        "  # Lyrics = re.sub('\\%', \" percent \", Lyrics)\n",
        "  # Lyrics = re.sub('\\&', \" and \", Lyrics)\n",
        "  # Lyrics = re.sub('[^\\x00-\\x7F]+', pad_str(SPECIAL_TOKENS['non-ascii']), Lyrics)\n",
        "  Lyrics = Lyrics.lower()\n",
        "  Lyrics = Lyrics.split()\n",
        "  ps = PorterStemmer()\n",
        "  all_stopwords = stopwords.words('english')\n",
        "  all_stopwords.remove('not')\n",
        "  all_stopwords.remove('down')\n",
        "  all_stopwords.remove(\"y\")\n",
        "  all_stopwords.remove(\"i\")\n",
        "  all_stopwords.remove('over')\n",
        "  all_stopwords.remove('under')\n",
        "  all_stopwords.remove('no')\n",
        "  all_stopwords.remove('only')\n",
        "  all_stopwords.remove(\"don't\")\n",
        "  all_stopwords.remove(\"aren't\")\n",
        "  all_stopwords.remove(\"o\")\n",
        "  all_stopwords.remove(\"ma\")\n",
        "  all_stopwords.remove(\"didn't\")\n",
        "  all_stopwords.remove(\"can\")\n",
        "  all_stopwords.remove(\"be\")\n",
        "  all_stopwords.remove(\"to\")\n",
        "  all_stopwords.remove(\"for\")\n",
        "  all_stopwords.remove(\"you\")\n",
        "  all_stopwords.remove(\"your\")\n",
        "  all_stopwords.remove(\"we\")\n",
        "  all_stopwords.remove(\"our\")\n",
        "  all_stopwords.remove(\"my\")\n",
        "  all_stopwords.remove(\"you're\")\n",
        "  Lyrics = [ps.stem(word) for word in Lyrics if not word in set(all_stopwords)]\n",
        "  Lyrics = ' '.join(Lyrics)\n",
        "  #Lyrics = [c for c in Lyrics if c not in punctuation]\n",
        "  #Lyrics = ' '.join(Lyrics)\n",
        "  corpus.append(Lyrics)"
      ],
      "execution_count": 136,
      "outputs": [
        {
          "output_type": "stream",
          "name": "stdout",
          "text": [
            "[nltk_data] Downloading package stopwords to /root/nltk_data...\n",
            "[nltk_data]   Package stopwords is already up-to-date!\n"
          ]
        }
      ]
    },
    {
      "cell_type": "markdown",
      "metadata": {
        "id": "hV0uWOYCQWKF"
      },
      "source": [
        "Creating the bag of words modal"
      ]
    },
    {
      "cell_type": "code",
      "metadata": {
        "id": "PRT_E8GkQY4x"
      },
      "source": [
        "from sklearn.feature_extraction.text import CountVectorizer\n",
        "cv = CountVectorizer(max_features = 475)\n",
        "X = cv.fit_transform(corpus).toarray()\n",
        "y = modifiedDF.iloc[0:799, -1].values"
      ],
      "execution_count": 137,
      "outputs": []
    },
    {
      "cell_type": "markdown",
      "metadata": {
        "id": "PmG9-Z7PQyea"
      },
      "source": [
        "Splitting the dataset into the Training set and Test set"
      ]
    },
    {
      "cell_type": "code",
      "metadata": {
        "id": "PShXt3tuQzIx"
      },
      "source": [
        "from sklearn.model_selection import train_test_split\n",
        "X_train, X_test, y_train, y_test = train_test_split(X, y, test_size = 0.2, random_state = 10)"
      ],
      "execution_count": 138,
      "outputs": []
    },
    {
      "cell_type": "markdown",
      "source": [
        "Naive Bayes classifier for multinomial models"
      ],
      "metadata": {
        "id": "urgEM2XEp7RT"
      }
    },
    {
      "cell_type": "code",
      "source": [
        "from sklearn.naive_bayes import MultinomialNB\n",
        "from sklearn.pipeline import Pipeline\n",
        "from sklearn.feature_extraction.text import TfidfTransformer\n",
        "from sklearn.feature_extraction.text import CountVectorizer\n",
        "\n",
        "nb = Pipeline([\n",
        "               ('tfidf', TfidfTransformer()),\n",
        "               ('clf', MultinomialNB()),\n",
        "              ])\n",
        "nb.fit(X_train, y_train)"
      ],
      "metadata": {
        "colab": {
          "base_uri": "https://localhost:8080/"
        },
        "id": "M-SKYE0dp8dB",
        "outputId": "2ff1eacf-10bb-4630-ebf6-41a118a2d96f"
      },
      "execution_count": 139,
      "outputs": [
        {
          "output_type": "execute_result",
          "data": {
            "text/plain": [
              "Pipeline(steps=[('tfidf', TfidfTransformer()), ('clf', MultinomialNB())])"
            ]
          },
          "metadata": {},
          "execution_count": 139
        }
      ]
    },
    {
      "cell_type": "code",
      "source": [
        "%%time\n",
        "from sklearn.metrics import classification_report\n",
        "y_pred = nb.predict(X_test)\n",
        "\n",
        "print('accuracy %s' % accuracy_score(y_pred, y_test))\n",
        "print(classification_report(y_test, y_pred,target_names=my_emotions))"
      ],
      "metadata": {
        "colab": {
          "base_uri": "https://localhost:8080/"
        },
        "id": "BQosWJnArI_i",
        "outputId": "d029f526-62e9-4b8d-a333-7e5929ff267d"
      },
      "execution_count": 140,
      "outputs": [
        {
          "output_type": "stream",
          "name": "stdout",
          "text": [
            "accuracy 0.55625\n",
            "              precision    recall  f1-score   support\n",
            "\n",
            "       Happy       0.75      0.23      0.35        13\n",
            "         Sad       0.80      0.27      0.40        15\n",
            "        Calm       0.53      0.42      0.47        19\n",
            " Inspiration       0.52      0.53      0.52        32\n",
            "       Angry       0.59      0.43      0.50        30\n",
            "        Love       0.54      0.86      0.67        51\n",
            "\n",
            "    accuracy                           0.56       160\n",
            "   macro avg       0.62      0.46      0.49       160\n",
            "weighted avg       0.59      0.56      0.53       160\n",
            "\n",
            "CPU times: user 12.3 ms, sys: 0 ns, total: 12.3 ms\n",
            "Wall time: 12.1 ms\n"
          ]
        }
      ]
    },
    {
      "cell_type": "markdown",
      "source": [
        "Linear support vector machine"
      ],
      "metadata": {
        "id": "yZc_W4dJrkKQ"
      }
    },
    {
      "cell_type": "code",
      "source": [
        "from sklearn.linear_model import SGDClassifier\n",
        "\n",
        "sgd = Pipeline([\n",
        "                ('tfidf', TfidfTransformer()),\n",
        "                ('clf', SGDClassifier(loss='hinge', penalty='l2',alpha=1e-3, random_state=10, max_iter=5, tol=None)),\n",
        "               ])\n",
        "sgd.fit(X_train, y_train)"
      ],
      "metadata": {
        "colab": {
          "base_uri": "https://localhost:8080/"
        },
        "id": "SeqGwl_WrlBu",
        "outputId": "30465036-2081-4252-ad18-136c48a45996"
      },
      "execution_count": 141,
      "outputs": [
        {
          "output_type": "execute_result",
          "data": {
            "text/plain": [
              "Pipeline(steps=[('tfidf', TfidfTransformer()),\n",
              "                ('clf',\n",
              "                 SGDClassifier(alpha=0.001, max_iter=5, random_state=10,\n",
              "                               tol=None))])"
            ]
          },
          "metadata": {},
          "execution_count": 141
        }
      ]
    },
    {
      "cell_type": "code",
      "source": [
        "%%time\n",
        "\n",
        "y_pred = sgd.predict(X_test)\n",
        "\n",
        "print('accuracy %s' % accuracy_score(y_pred, y_test))\n",
        "print(classification_report(y_test, y_pred,target_names=my_emotions))"
      ],
      "metadata": {
        "colab": {
          "base_uri": "https://localhost:8080/"
        },
        "id": "_CzIlS_pruF5",
        "outputId": "3d8623af-cd7c-4d0c-a697-f91b33f43a49"
      },
      "execution_count": 142,
      "outputs": [
        {
          "output_type": "stream",
          "name": "stdout",
          "text": [
            "accuracy 0.5125\n",
            "              precision    recall  f1-score   support\n",
            "\n",
            "       Happy       0.82      0.69      0.75        13\n",
            "         Sad       0.55      0.40      0.46        15\n",
            "        Calm       0.31      0.53      0.39        19\n",
            " Inspiration       0.50      0.50      0.50        32\n",
            "       Angry       0.45      0.43      0.44        30\n",
            "        Love       0.62      0.55      0.58        51\n",
            "\n",
            "    accuracy                           0.51       160\n",
            "   macro avg       0.54      0.52      0.52       160\n",
            "weighted avg       0.54      0.51      0.52       160\n",
            "\n",
            "CPU times: user 10.8 ms, sys: 1.94 ms, total: 12.8 ms\n",
            "Wall time: 12.6 ms\n"
          ]
        }
      ]
    },
    {
      "cell_type": "markdown",
      "source": [
        "Logistic regression"
      ],
      "metadata": {
        "id": "nCOAKEZ4r5Vv"
      }
    },
    {
      "cell_type": "code",
      "source": [
        "from sklearn.linear_model import LogisticRegression\n",
        "\n",
        "logreg = Pipeline([\n",
        "                   ('tfidf', TfidfTransformer()),\n",
        "                ('clf', LogisticRegression(n_jobs=2, C=1e5)),\n",
        "               ])\n",
        "logreg.fit(X_train, y_train)"
      ],
      "metadata": {
        "colab": {
          "base_uri": "https://localhost:8080/"
        },
        "id": "OSC4Y7dcr54h",
        "outputId": "bb116055-c631-4e82-d385-849ad0166e16"
      },
      "execution_count": 143,
      "outputs": [
        {
          "output_type": "execute_result",
          "data": {
            "text/plain": [
              "Pipeline(steps=[('tfidf', TfidfTransformer()),\n",
              "                ('clf', LogisticRegression(C=100000.0, n_jobs=2))])"
            ]
          },
          "metadata": {},
          "execution_count": 143
        }
      ]
    },
    {
      "cell_type": "code",
      "source": [
        "%%time\n",
        "\n",
        "y_pred = logreg.predict(X_test)\n",
        "\n",
        "print('accuracy %s' % accuracy_score(y_pred, y_test))\n",
        "print(classification_report(y_test, y_pred,target_names=my_emotions))"
      ],
      "metadata": {
        "colab": {
          "base_uri": "https://localhost:8080/"
        },
        "id": "UFDlv3RUsDJS",
        "outputId": "961097ac-0410-47a8-8571-b4003e03699c"
      },
      "execution_count": 144,
      "outputs": [
        {
          "output_type": "stream",
          "name": "stdout",
          "text": [
            "accuracy 0.5125\n",
            "              precision    recall  f1-score   support\n",
            "\n",
            "       Happy       0.47      0.69      0.56        13\n",
            "         Sad       0.50      0.40      0.44        15\n",
            "        Calm       0.38      0.47      0.42        19\n",
            " Inspiration       0.51      0.56      0.54        32\n",
            "       Angry       0.42      0.33      0.37        30\n",
            "        Love       0.65      0.59      0.62        51\n",
            "\n",
            "    accuracy                           0.51       160\n",
            "   macro avg       0.49      0.51      0.49       160\n",
            "weighted avg       0.52      0.51      0.51       160\n",
            "\n",
            "CPU times: user 11.8 ms, sys: 2.13 ms, total: 14 ms\n",
            "Wall time: 13.8 ms\n"
          ]
        }
      ]
    },
    {
      "cell_type": "markdown",
      "source": [
        "Random Forest"
      ],
      "metadata": {
        "id": "UDZKfjJxB2bt"
      }
    },
    {
      "cell_type": "code",
      "source": [
        "from sklearn.ensemble import RandomForestClassifier\n",
        "\n",
        "rfc = Pipeline([\n",
        "                ('tfidf', TfidfTransformer()),\n",
        "                ('rfc', RandomForestClassifier(n_estimators=200, criterion='entropy'))])\n",
        "rfc.fit(X_train,y_train)"
      ],
      "metadata": {
        "colab": {
          "base_uri": "https://localhost:8080/"
        },
        "id": "mRpXOCVkB4JY",
        "outputId": "b1ed45cb-6ac4-4c20-bc78-3c1754d5ae80"
      },
      "execution_count": 145,
      "outputs": [
        {
          "output_type": "execute_result",
          "data": {
            "text/plain": [
              "Pipeline(steps=[('tfidf', TfidfTransformer()),\n",
              "                ('rfc',\n",
              "                 RandomForestClassifier(criterion='entropy',\n",
              "                                        n_estimators=200))])"
            ]
          },
          "metadata": {},
          "execution_count": 145
        }
      ]
    },
    {
      "cell_type": "code",
      "source": [
        "%%time\n",
        "\n",
        "y_predRF = rfc.predict(X_test)\n",
        "\n",
        "print('accuracy %s' % accuracy_score(y_predRF, y_test))\n",
        "print(classification_report(y_test, y_predRF,target_names=my_emotions))"
      ],
      "metadata": {
        "colab": {
          "base_uri": "https://localhost:8080/"
        },
        "id": "TX4tr2C1Cdmz",
        "outputId": "0c00ca84-3236-478e-88a4-6023cc2eda9b"
      },
      "execution_count": 147,
      "outputs": [
        {
          "output_type": "stream",
          "name": "stdout",
          "text": [
            "accuracy 0.525\n",
            "              precision    recall  f1-score   support\n",
            "\n",
            "       Happy       0.67      0.46      0.55        13\n",
            "         Sad       0.30      0.40      0.34        15\n",
            "        Calm       0.50      0.47      0.49        19\n",
            " Inspiration       0.46      0.38      0.41        32\n",
            "       Angry       0.64      0.70      0.67        30\n",
            "        Love       0.56      0.59      0.57        51\n",
            "\n",
            "    accuracy                           0.53       160\n",
            "   macro avg       0.52      0.50      0.50       160\n",
            "weighted avg       0.53      0.53      0.52       160\n",
            "\n",
            "CPU times: user 39.9 ms, sys: 0 ns, total: 39.9 ms\n",
            "Wall time: 42.8 ms\n"
          ]
        }
      ]
    },
    {
      "cell_type": "markdown",
      "source": [
        "BOW with keras"
      ],
      "metadata": {
        "id": "GfphFs5AspDK"
      }
    },
    {
      "cell_type": "code",
      "source": [
        "import itertools\n",
        "import os\n",
        "\n",
        "%matplotlib inline\n",
        "import matplotlib.pyplot as plt\n",
        "import numpy as np\n",
        "import pandas as pd\n",
        "import tensorflow as tf\n",
        "\n",
        "from sklearn.preprocessing import LabelBinarizer, LabelEncoder\n",
        "from sklearn.metrics import confusion_matrix\n",
        "\n",
        "from tensorflow import keras\n",
        "from keras.models import Sequential\n",
        "from keras.layers import Dense, Activation, Dropout\n",
        "from keras.preprocessing import text, sequence\n",
        "from keras import utils"
      ],
      "metadata": {
        "id": "NlKq-Msvspqk"
      },
      "execution_count": 87,
      "outputs": []
    },
    {
      "cell_type": "code",
      "source": [
        "train_size = int(len(modifiedDF) * .7)\n",
        "print (\"Train size: %d\" % train_size)\n",
        "print (\"Test size: %d\" % (len(modifiedDF) - train_size))"
      ],
      "metadata": {
        "colab": {
          "base_uri": "https://localhost:8080/"
        },
        "id": "CGYgmIkLstyt",
        "outputId": "4d0834f9-8c1b-429a-b72b-85bf2cd59058"
      },
      "execution_count": 88,
      "outputs": [
        {
          "output_type": "stream",
          "name": "stdout",
          "text": [
            "Train size: 560\n",
            "Test size: 240\n"
          ]
        }
      ]
    },
    {
      "cell_type": "code",
      "source": [
        "train_posts = modifiedDF['Chorus'][:train_size]\n",
        "train_tags = modifiedDF['Emotion'][:train_size]\n",
        "\n",
        "test_posts = modifiedDF['Chorus'][train_size:]\n",
        "test_tags = modifiedDF['Emotion'][train_size:]"
      ],
      "metadata": {
        "id": "NXa3A_has8Fa"
      },
      "execution_count": 89,
      "outputs": []
    },
    {
      "cell_type": "code",
      "source": [
        "max_words = 1000\n",
        "tokenize = text.Tokenizer(num_words=max_words, char_level=False)"
      ],
      "metadata": {
        "id": "lDjWatfntLuB"
      },
      "execution_count": 90,
      "outputs": []
    },
    {
      "cell_type": "code",
      "source": [
        "tokenize.fit_on_texts(train_posts) # only fit on train\n",
        "x_train = tokenize.texts_to_matrix(train_posts)\n",
        "x_test = tokenize.texts_to_matrix(test_posts)"
      ],
      "metadata": {
        "id": "gzaHH9VetOkd"
      },
      "execution_count": 91,
      "outputs": []
    },
    {
      "cell_type": "code",
      "source": [
        "encoder = LabelEncoder()\n",
        "encoder.fit(train_tags)\n",
        "y_train = encoder.transform(train_tags)\n",
        "y_test = encoder.transform(test_tags)"
      ],
      "metadata": {
        "id": "bd5sbAzwtRyv"
      },
      "execution_count": 92,
      "outputs": []
    },
    {
      "cell_type": "code",
      "source": [
        "from tensorflow.keras.utils import to_categorical"
      ],
      "metadata": {
        "id": "JEFivDTctjbu"
      },
      "execution_count": 93,
      "outputs": []
    },
    {
      "cell_type": "code",
      "source": [
        "num_classes = np.max(y_train) + 1\n",
        "y_train = to_categorical(y_train, num_classes)\n",
        "y_test = to_categorical(y_test, num_classes)"
      ],
      "metadata": {
        "id": "bdp60lCAtVBM"
      },
      "execution_count": 94,
      "outputs": []
    },
    {
      "cell_type": "code",
      "source": [
        "print('x_train shape:', x_train.shape)\n",
        "print('x_test shape:', x_test.shape)\n",
        "print('y_train shape:', y_train.shape)\n",
        "print('y_test shape:', y_test.shape)"
      ],
      "metadata": {
        "colab": {
          "base_uri": "https://localhost:8080/"
        },
        "id": "31GPW-CPtsWJ",
        "outputId": "0a618103-b445-4ade-d2ea-31a471f1d194"
      },
      "execution_count": 95,
      "outputs": [
        {
          "output_type": "stream",
          "name": "stdout",
          "text": [
            "x_train shape: (560, 1000)\n",
            "x_test shape: (240, 1000)\n",
            "y_train shape: (560, 6)\n",
            "y_test shape: (240, 6)\n"
          ]
        }
      ]
    },
    {
      "cell_type": "code",
      "source": [
        "# batch_size = 50\n",
        "# epochs = 100 # Accuracy - 46.25\n",
        "\n",
        "# batch_size = 50\n",
        "# epochs = 50 #Accuracy - 43.75 (validation split - 0.2)\n",
        "\n",
        "# batch_size = 50\n",
        "# epochs = 10 #45.83\n",
        "\n",
        "# batch_size = 50\n",
        "# epochs = 2 # 34.58\n",
        "\n",
        "batch_size = 64\n",
        "epochs = 30 # 47.91\n",
        "\n",
        "# batch_size = 100\n",
        "# epochs = 20 # 46.66\n",
        "\n",
        "# batch_size = 50\n",
        "# epochs = 500 # 44.99"
      ],
      "metadata": {
        "id": "EqcKh-dst2-d"
      },
      "execution_count": 120,
      "outputs": []
    },
    {
      "cell_type": "code",
      "source": [
        "# Build the model\n",
        "model = Sequential()\n",
        "model.add(Dense(512, input_shape=(max_words,)))\n",
        "model.add(Activation('relu'))\n",
        "model.add(Dropout(0.5))\n",
        "model.add(Dense(num_classes))\n",
        "model.add(Activation('softmax'))\n",
        "\n",
        "model.compile(loss='categorical_crossentropy',\n",
        "              optimizer='adam',\n",
        "              metrics=['accuracy'])"
      ],
      "metadata": {
        "id": "JKdgeDrFt7k3"
      },
      "execution_count": 121,
      "outputs": []
    },
    {
      "cell_type": "code",
      "source": [
        "history = model.fit(x_train, y_train,\n",
        "                    batch_size=batch_size,\n",
        "                    epochs=epochs,\n",
        "                    verbose=1,\n",
        "                    validation_split=0.2)"
      ],
      "metadata": {
        "colab": {
          "base_uri": "https://localhost:8080/"
        },
        "id": "v2Xk9IMRuBFI",
        "outputId": "4ba1a2e7-031e-4b5f-a0f9-faf79a3c67b2"
      },
      "execution_count": 122,
      "outputs": [
        {
          "output_type": "stream",
          "name": "stdout",
          "text": [
            "Epoch 1/30\n",
            "7/7 [==============================] - 0s 28ms/step - loss: 1.7512 - accuracy: 0.2388 - val_loss: 1.7414 - val_accuracy: 0.2143\n",
            "Epoch 2/30\n",
            "7/7 [==============================] - 0s 8ms/step - loss: 1.5120 - accuracy: 0.5000 - val_loss: 1.7238 - val_accuracy: 0.2589\n",
            "Epoch 3/30\n",
            "7/7 [==============================] - 0s 10ms/step - loss: 1.3321 - accuracy: 0.6272 - val_loss: 1.7059 - val_accuracy: 0.3036\n",
            "Epoch 4/30\n",
            "7/7 [==============================] - 0s 9ms/step - loss: 1.1497 - accuracy: 0.7143 - val_loss: 1.6710 - val_accuracy: 0.3661\n",
            "Epoch 5/30\n",
            "7/7 [==============================] - 0s 9ms/step - loss: 0.9835 - accuracy: 0.8237 - val_loss: 1.6250 - val_accuracy: 0.3750\n",
            "Epoch 6/30\n",
            "7/7 [==============================] - 0s 9ms/step - loss: 0.8450 - accuracy: 0.8817 - val_loss: 1.5859 - val_accuracy: 0.3929\n",
            "Epoch 7/30\n",
            "7/7 [==============================] - 0s 9ms/step - loss: 0.7093 - accuracy: 0.9286 - val_loss: 1.5533 - val_accuracy: 0.3750\n",
            "Epoch 8/30\n",
            "7/7 [==============================] - 0s 10ms/step - loss: 0.5924 - accuracy: 0.9576 - val_loss: 1.5276 - val_accuracy: 0.3929\n",
            "Epoch 9/30\n",
            "7/7 [==============================] - 0s 9ms/step - loss: 0.4871 - accuracy: 0.9665 - val_loss: 1.5163 - val_accuracy: 0.4018\n",
            "Epoch 10/30\n",
            "7/7 [==============================] - 0s 9ms/step - loss: 0.4045 - accuracy: 0.9844 - val_loss: 1.5111 - val_accuracy: 0.3929\n",
            "Epoch 11/30\n",
            "7/7 [==============================] - 0s 9ms/step - loss: 0.3338 - accuracy: 0.9821 - val_loss: 1.5103 - val_accuracy: 0.4196\n",
            "Epoch 12/30\n",
            "7/7 [==============================] - 0s 8ms/step - loss: 0.2752 - accuracy: 0.9866 - val_loss: 1.5159 - val_accuracy: 0.4196\n",
            "Epoch 13/30\n",
            "7/7 [==============================] - 0s 9ms/step - loss: 0.2337 - accuracy: 0.9866 - val_loss: 1.5219 - val_accuracy: 0.4196\n",
            "Epoch 14/30\n",
            "7/7 [==============================] - 0s 10ms/step - loss: 0.1976 - accuracy: 1.0000 - val_loss: 1.5280 - val_accuracy: 0.4107\n",
            "Epoch 15/30\n",
            "7/7 [==============================] - 0s 10ms/step - loss: 0.1644 - accuracy: 0.9955 - val_loss: 1.5426 - val_accuracy: 0.4107\n",
            "Epoch 16/30\n",
            "7/7 [==============================] - 0s 9ms/step - loss: 0.1384 - accuracy: 0.9978 - val_loss: 1.5619 - val_accuracy: 0.4196\n",
            "Epoch 17/30\n",
            "7/7 [==============================] - 0s 9ms/step - loss: 0.1187 - accuracy: 0.9978 - val_loss: 1.5805 - val_accuracy: 0.4107\n",
            "Epoch 18/30\n",
            "7/7 [==============================] - 0s 12ms/step - loss: 0.1016 - accuracy: 1.0000 - val_loss: 1.5991 - val_accuracy: 0.4107\n",
            "Epoch 19/30\n",
            "7/7 [==============================] - 0s 9ms/step - loss: 0.0916 - accuracy: 1.0000 - val_loss: 1.6176 - val_accuracy: 0.4018\n",
            "Epoch 20/30\n",
            "7/7 [==============================] - 0s 8ms/step - loss: 0.0812 - accuracy: 1.0000 - val_loss: 1.6341 - val_accuracy: 0.4018\n",
            "Epoch 21/30\n",
            "7/7 [==============================] - 0s 8ms/step - loss: 0.0705 - accuracy: 1.0000 - val_loss: 1.6473 - val_accuracy: 0.4286\n",
            "Epoch 22/30\n",
            "7/7 [==============================] - 0s 8ms/step - loss: 0.0618 - accuracy: 1.0000 - val_loss: 1.6621 - val_accuracy: 0.4286\n",
            "Epoch 23/30\n",
            "7/7 [==============================] - 0s 8ms/step - loss: 0.0558 - accuracy: 1.0000 - val_loss: 1.6795 - val_accuracy: 0.4196\n",
            "Epoch 24/30\n",
            "7/7 [==============================] - 0s 9ms/step - loss: 0.0499 - accuracy: 1.0000 - val_loss: 1.6969 - val_accuracy: 0.4107\n",
            "Epoch 25/30\n",
            "7/7 [==============================] - 0s 9ms/step - loss: 0.0436 - accuracy: 1.0000 - val_loss: 1.7140 - val_accuracy: 0.4107\n",
            "Epoch 26/30\n",
            "7/7 [==============================] - 0s 10ms/step - loss: 0.0404 - accuracy: 1.0000 - val_loss: 1.7294 - val_accuracy: 0.4107\n",
            "Epoch 27/30\n",
            "7/7 [==============================] - 0s 9ms/step - loss: 0.0374 - accuracy: 1.0000 - val_loss: 1.7462 - val_accuracy: 0.4107\n",
            "Epoch 28/30\n",
            "7/7 [==============================] - 0s 8ms/step - loss: 0.0343 - accuracy: 1.0000 - val_loss: 1.7616 - val_accuracy: 0.4107\n",
            "Epoch 29/30\n",
            "7/7 [==============================] - 0s 9ms/step - loss: 0.0315 - accuracy: 1.0000 - val_loss: 1.7760 - val_accuracy: 0.4107\n",
            "Epoch 30/30\n",
            "7/7 [==============================] - 0s 9ms/step - loss: 0.0282 - accuracy: 1.0000 - val_loss: 1.7877 - val_accuracy: 0.4107\n"
          ]
        }
      ]
    },
    {
      "cell_type": "code",
      "source": [
        "score = model.evaluate(x_test, y_test,\n",
        "                       batch_size=batch_size, verbose=1)\n",
        "print('Test accuracy:', score[1])"
      ],
      "metadata": {
        "colab": {
          "base_uri": "https://localhost:8080/"
        },
        "id": "D8qrga93uFlw",
        "outputId": "4c171227-852a-4f5b-fcb2-f6c181fca18c"
      },
      "execution_count": 123,
      "outputs": [
        {
          "output_type": "stream",
          "name": "stdout",
          "text": [
            "4/4 [==============================] - 0s 4ms/step - loss: 1.7112 - accuracy: 0.4250\n",
            "Test accuracy: 0.42500001192092896\n"
          ]
        }
      ]
    }
  ]
}