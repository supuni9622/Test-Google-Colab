{
  "nbformat": 4,
  "nbformat_minor": 0,
  "metadata": {
    "colab": {
      "name": "Lyrics Classification-TFID (Dataset5).ipynb",
      "provenance": [],
      "mount_file_id": "1L6eoG9uANUFq5vFk-8zIjAkhJ6ivEaz_",
      "authorship_tag": "ABX9TyOqFywy7mMa6Vtg7aAbZmgG",
      "include_colab_link": true
    },
    "kernelspec": {
      "name": "python3",
      "display_name": "Python 3"
    },
    "language_info": {
      "name": "python"
    }
  },
  "cells": [
    {
      "cell_type": "markdown",
      "metadata": {
        "id": "view-in-github",
        "colab_type": "text"
      },
      "source": [
        "<a href=\"https://colab.research.google.com/github/supuni9622/Test-Google-Colab/blob/main/Lyrics_Classification_TFID_(Dataset5).ipynb\" target=\"_parent\"><img src=\"https://colab.research.google.com/assets/colab-badge.svg\" alt=\"Open In Colab\"/></a>"
      ]
    },
    {
      "cell_type": "code",
      "metadata": {
        "id": "bGRsbfpSaJ_a"
      },
      "source": [
        "import logging\n",
        "import pandas as pd\n",
        "import numpy as np\n",
        "from numpy import random\n",
        "import gensim\n",
        "import nltk\n",
        "from sklearn.model_selection import train_test_split\n",
        "from sklearn.feature_extraction.text import CountVectorizer, TfidfVectorizer\n",
        "from sklearn.metrics import accuracy_score, confusion_matrix\n",
        "import matplotlib.pyplot as plt\n",
        "from nltk.corpus import stopwords\n",
        "import re\n",
        "from bs4 import BeautifulSoup\n",
        "\n",
        "%matplotlib inline"
      ],
      "execution_count": 620,
      "outputs": []
    },
    {
      "cell_type": "code",
      "metadata": {
        "colab": {
          "base_uri": "https://localhost:8080/"
        },
        "id": "uyqMtBqLbPPe",
        "outputId": "780405d6-1324-427f-f0b8-720c1fcc1d4b"
      },
      "source": [
        "cd /content/drive/MyDrive/4th Year Research/M3/Test Implementation/Test-Google-Colab/TestV2/TFID"
      ],
      "execution_count": 621,
      "outputs": [
        {
          "output_type": "stream",
          "name": "stdout",
          "text": [
            "/content/drive/MyDrive/4th Year Research/M3/Test Implementation/Test-Google-Colab/TestV2/TFID\n"
          ]
        }
      ]
    },
    {
      "cell_type": "code",
      "metadata": {
        "id": "WD5oKe9kaip_"
      },
      "source": [
        "dataset = pd.read_csv('Lyrical_data_5.csv',encoding='cp1252')"
      ],
      "execution_count": 622,
      "outputs": []
    },
    {
      "cell_type": "code",
      "metadata": {
        "colab": {
          "base_uri": "https://localhost:8080/",
          "height": 363
        },
        "id": "AGH4dWb6bWOO",
        "outputId": "cac8c021-22b7-4edf-9fd4-0f8cda0b5f60"
      },
      "source": [
        "dataset.head(10)"
      ],
      "execution_count": 623,
      "outputs": [
        {
          "output_type": "execute_result",
          "data": {
            "text/html": [
              "\n",
              "  <div id=\"df-68405975-3ade-4e43-b576-ea6010f53dad\">\n",
              "    <div class=\"colab-df-container\">\n",
              "      <div>\n",
              "<style scoped>\n",
              "    .dataframe tbody tr th:only-of-type {\n",
              "        vertical-align: middle;\n",
              "    }\n",
              "\n",
              "    .dataframe tbody tr th {\n",
              "        vertical-align: top;\n",
              "    }\n",
              "\n",
              "    .dataframe thead th {\n",
              "        text-align: right;\n",
              "    }\n",
              "</style>\n",
              "<table border=\"1\" class=\"dataframe\">\n",
              "  <thead>\n",
              "    <tr style=\"text-align: right;\">\n",
              "      <th></th>\n",
              "      <th>Song_ID</th>\n",
              "      <th>Song_Title</th>\n",
              "      <th>Chorus</th>\n",
              "      <th>Emotion</th>\n",
              "    </tr>\n",
              "  </thead>\n",
              "  <tbody>\n",
              "    <tr>\n",
              "      <th>0</th>\n",
              "      <td>1</td>\n",
              "      <td>Diana</td>\n",
              "      <td>Diana,\\rLet me be the one to light a fire insi...</td>\n",
              "      <td>Inspiration</td>\n",
              "    </tr>\n",
              "    <tr>\n",
              "      <th>1</th>\n",
              "      <td>2</td>\n",
              "      <td>Don't forget where you belong</td>\n",
              "      <td>Don't forget where you belong\\rHome\\rDon't for...</td>\n",
              "      <td>Inspiration</td>\n",
              "    </tr>\n",
              "    <tr>\n",
              "      <th>2</th>\n",
              "      <td>3</td>\n",
              "      <td>Strong</td>\n",
              "      <td>I'm sorry if I say, \"I need you\"\\nBut I don't ...</td>\n",
              "      <td>Inspiration</td>\n",
              "    </tr>\n",
              "    <tr>\n",
              "      <th>3</th>\n",
              "      <td>4</td>\n",
              "      <td>Happily</td>\n",
              "      <td>I don't care what people say when we're togeth...</td>\n",
              "      <td>Love</td>\n",
              "    </tr>\n",
              "    <tr>\n",
              "      <th>4</th>\n",
              "      <td>5</td>\n",
              "      <td>Better than words</td>\n",
              "      <td>Better than words\\rMore than a feeling Crazy i...</td>\n",
              "      <td>Love</td>\n",
              "    </tr>\n",
              "    <tr>\n",
              "      <th>5</th>\n",
              "      <td>6</td>\n",
              "      <td>Through the dark</td>\n",
              "      <td>You tell me that you hurt, it's all in vain\\nB...</td>\n",
              "      <td>Inspiration</td>\n",
              "    </tr>\n",
              "    <tr>\n",
              "      <th>6</th>\n",
              "      <td>7</td>\n",
              "      <td>Sober</td>\n",
              "      <td>I don't know, I don't know, I don't know, I do...</td>\n",
              "      <td>Sad</td>\n",
              "    </tr>\n",
              "    <tr>\n",
              "      <th>7</th>\n",
              "      <td>8</td>\n",
              "      <td>Happier</td>\n",
              "      <td>Walking down 29th and Park\\nI saw you in anoth...</td>\n",
              "      <td>Love</td>\n",
              "    </tr>\n",
              "    <tr>\n",
              "      <th>8</th>\n",
              "      <td>9</td>\n",
              "      <td>Save my life</td>\n",
              "      <td>Life can get you down so I just numb the way i...</td>\n",
              "      <td>Inspiration</td>\n",
              "    </tr>\n",
              "    <tr>\n",
              "      <th>9</th>\n",
              "      <td>10</td>\n",
              "      <td>Shape of you</td>\n",
              "      <td>The club isn't the best place to find a lover\\...</td>\n",
              "      <td>Love</td>\n",
              "    </tr>\n",
              "  </tbody>\n",
              "</table>\n",
              "</div>\n",
              "      <button class=\"colab-df-convert\" onclick=\"convertToInteractive('df-68405975-3ade-4e43-b576-ea6010f53dad')\"\n",
              "              title=\"Convert this dataframe to an interactive table.\"\n",
              "              style=\"display:none;\">\n",
              "        \n",
              "  <svg xmlns=\"http://www.w3.org/2000/svg\" height=\"24px\"viewBox=\"0 0 24 24\"\n",
              "       width=\"24px\">\n",
              "    <path d=\"M0 0h24v24H0V0z\" fill=\"none\"/>\n",
              "    <path d=\"M18.56 5.44l.94 2.06.94-2.06 2.06-.94-2.06-.94-.94-2.06-.94 2.06-2.06.94zm-11 1L8.5 8.5l.94-2.06 2.06-.94-2.06-.94L8.5 2.5l-.94 2.06-2.06.94zm10 10l.94 2.06.94-2.06 2.06-.94-2.06-.94-.94-2.06-.94 2.06-2.06.94z\"/><path d=\"M17.41 7.96l-1.37-1.37c-.4-.4-.92-.59-1.43-.59-.52 0-1.04.2-1.43.59L10.3 9.45l-7.72 7.72c-.78.78-.78 2.05 0 2.83L4 21.41c.39.39.9.59 1.41.59.51 0 1.02-.2 1.41-.59l7.78-7.78 2.81-2.81c.8-.78.8-2.07 0-2.86zM5.41 20L4 18.59l7.72-7.72 1.47 1.35L5.41 20z\"/>\n",
              "  </svg>\n",
              "      </button>\n",
              "      \n",
              "  <style>\n",
              "    .colab-df-container {\n",
              "      display:flex;\n",
              "      flex-wrap:wrap;\n",
              "      gap: 12px;\n",
              "    }\n",
              "\n",
              "    .colab-df-convert {\n",
              "      background-color: #E8F0FE;\n",
              "      border: none;\n",
              "      border-radius: 50%;\n",
              "      cursor: pointer;\n",
              "      display: none;\n",
              "      fill: #1967D2;\n",
              "      height: 32px;\n",
              "      padding: 0 0 0 0;\n",
              "      width: 32px;\n",
              "    }\n",
              "\n",
              "    .colab-df-convert:hover {\n",
              "      background-color: #E2EBFA;\n",
              "      box-shadow: 0px 1px 2px rgba(60, 64, 67, 0.3), 0px 1px 3px 1px rgba(60, 64, 67, 0.15);\n",
              "      fill: #174EA6;\n",
              "    }\n",
              "\n",
              "    [theme=dark] .colab-df-convert {\n",
              "      background-color: #3B4455;\n",
              "      fill: #D2E3FC;\n",
              "    }\n",
              "\n",
              "    [theme=dark] .colab-df-convert:hover {\n",
              "      background-color: #434B5C;\n",
              "      box-shadow: 0px 1px 3px 1px rgba(0, 0, 0, 0.15);\n",
              "      filter: drop-shadow(0px 1px 2px rgba(0, 0, 0, 0.3));\n",
              "      fill: #FFFFFF;\n",
              "    }\n",
              "  </style>\n",
              "\n",
              "      <script>\n",
              "        const buttonEl =\n",
              "          document.querySelector('#df-68405975-3ade-4e43-b576-ea6010f53dad button.colab-df-convert');\n",
              "        buttonEl.style.display =\n",
              "          google.colab.kernel.accessAllowed ? 'block' : 'none';\n",
              "\n",
              "        async function convertToInteractive(key) {\n",
              "          const element = document.querySelector('#df-68405975-3ade-4e43-b576-ea6010f53dad');\n",
              "          const dataTable =\n",
              "            await google.colab.kernel.invokeFunction('convertToInteractive',\n",
              "                                                     [key], {});\n",
              "          if (!dataTable) return;\n",
              "\n",
              "          const docLinkHtml = 'Like what you see? Visit the ' +\n",
              "            '<a target=\"_blank\" href=https://colab.research.google.com/notebooks/data_table.ipynb>data table notebook</a>'\n",
              "            + ' to learn more about interactive tables.';\n",
              "          element.innerHTML = '';\n",
              "          dataTable['output_type'] = 'display_data';\n",
              "          await google.colab.output.renderOutput(dataTable, element);\n",
              "          const docLink = document.createElement('div');\n",
              "          docLink.innerHTML = docLinkHtml;\n",
              "          element.appendChild(docLink);\n",
              "        }\n",
              "      </script>\n",
              "    </div>\n",
              "  </div>\n",
              "  "
            ],
            "text/plain": [
              "   Song_ID  ...      Emotion\n",
              "0        1  ...  Inspiration\n",
              "1        2  ...  Inspiration\n",
              "2        3  ...  Inspiration\n",
              "3        4  ...         Love\n",
              "4        5  ...         Love\n",
              "5        6  ...  Inspiration\n",
              "6        7  ...          Sad\n",
              "7        8  ...         Love\n",
              "8        9  ...  Inspiration\n",
              "9       10  ...         Love\n",
              "\n",
              "[10 rows x 4 columns]"
            ]
          },
          "metadata": {},
          "execution_count": 623
        }
      ]
    },
    {
      "cell_type": "code",
      "metadata": {
        "colab": {
          "base_uri": "https://localhost:8080/"
        },
        "id": "MD99bHypKLar",
        "outputId": "356dfba1-a6c1-4922-b49d-96b569a55d72"
      },
      "source": [
        "lyrics = dataset['Chorus']\n",
        "lyrics"
      ],
      "execution_count": 624,
      "outputs": [
        {
          "output_type": "execute_result",
          "data": {
            "text/plain": [
              "0      Diana,\\rLet me be the one to light a fire insi...\n",
              "1      Don't forget where you belong\\rHome\\rDon't for...\n",
              "2      I'm sorry if I say, \"I need you\"\\nBut I don't ...\n",
              "3      I don't care what people say when we're togeth...\n",
              "4      Better than words\\rMore than a feeling Crazy i...\n",
              "                             ...                        \n",
              "795    You've got every right\\r\\nTo a beautiful life\\...\n",
              "796    I'm only one call away\\r\\nI'll be there to sav...\n",
              "797    It started with a kiss on your mama's couch\\r\\...\n",
              "798    I warned myself that I shouldn't play with fir...\n",
              "799    I'll admit, I was wrong, what else can I say, ...\n",
              "Name: Chorus, Length: 800, dtype: object"
            ]
          },
          "metadata": {},
          "execution_count": 624
        }
      ]
    },
    {
      "cell_type": "code",
      "metadata": {
        "id": "wSdSruceNU_J"
      },
      "source": [
        "dataset.dropna(how='all', axis=1, inplace=True)"
      ],
      "execution_count": 625,
      "outputs": []
    },
    {
      "cell_type": "markdown",
      "metadata": {
        "id": "7vvB4soGOFXP"
      },
      "source": [
        "Checking the empty rows in dataset"
      ]
    },
    {
      "cell_type": "code",
      "metadata": {
        "colab": {
          "base_uri": "https://localhost:8080/"
        },
        "id": "ZKKWupuDOE-g",
        "outputId": "fd374780-2289-4bd1-8364-03de186fe4a3"
      },
      "source": [
        "print (dataset.isnull().sum())"
      ],
      "execution_count": 626,
      "outputs": [
        {
          "output_type": "stream",
          "name": "stdout",
          "text": [
            "Song_ID       0\n",
            "Song_Title    0\n",
            "Chorus        0\n",
            "Emotion       0\n",
            "dtype: int64\n"
          ]
        }
      ]
    },
    {
      "cell_type": "code",
      "metadata": {
        "colab": {
          "base_uri": "https://localhost:8080/",
          "height": 424
        },
        "id": "1zhJtwuJObZu",
        "outputId": "3e13f36a-f5bc-4467-ffc5-08acf00a6fe0"
      },
      "source": [
        "modifiedDF = dataset.dropna()\n",
        "modifiedDF"
      ],
      "execution_count": 627,
      "outputs": [
        {
          "output_type": "execute_result",
          "data": {
            "text/html": [
              "\n",
              "  <div id=\"df-0bc79ec2-a6be-43bc-81d4-a10f989989aa\">\n",
              "    <div class=\"colab-df-container\">\n",
              "      <div>\n",
              "<style scoped>\n",
              "    .dataframe tbody tr th:only-of-type {\n",
              "        vertical-align: middle;\n",
              "    }\n",
              "\n",
              "    .dataframe tbody tr th {\n",
              "        vertical-align: top;\n",
              "    }\n",
              "\n",
              "    .dataframe thead th {\n",
              "        text-align: right;\n",
              "    }\n",
              "</style>\n",
              "<table border=\"1\" class=\"dataframe\">\n",
              "  <thead>\n",
              "    <tr style=\"text-align: right;\">\n",
              "      <th></th>\n",
              "      <th>Song_ID</th>\n",
              "      <th>Song_Title</th>\n",
              "      <th>Chorus</th>\n",
              "      <th>Emotion</th>\n",
              "    </tr>\n",
              "  </thead>\n",
              "  <tbody>\n",
              "    <tr>\n",
              "      <th>0</th>\n",
              "      <td>1</td>\n",
              "      <td>Diana</td>\n",
              "      <td>Diana,\\rLet me be the one to light a fire insi...</td>\n",
              "      <td>Inspiration</td>\n",
              "    </tr>\n",
              "    <tr>\n",
              "      <th>1</th>\n",
              "      <td>2</td>\n",
              "      <td>Don't forget where you belong</td>\n",
              "      <td>Don't forget where you belong\\rHome\\rDon't for...</td>\n",
              "      <td>Inspiration</td>\n",
              "    </tr>\n",
              "    <tr>\n",
              "      <th>2</th>\n",
              "      <td>3</td>\n",
              "      <td>Strong</td>\n",
              "      <td>I'm sorry if I say, \"I need you\"\\nBut I don't ...</td>\n",
              "      <td>Inspiration</td>\n",
              "    </tr>\n",
              "    <tr>\n",
              "      <th>3</th>\n",
              "      <td>4</td>\n",
              "      <td>Happily</td>\n",
              "      <td>I don't care what people say when we're togeth...</td>\n",
              "      <td>Love</td>\n",
              "    </tr>\n",
              "    <tr>\n",
              "      <th>4</th>\n",
              "      <td>5</td>\n",
              "      <td>Better than words</td>\n",
              "      <td>Better than words\\rMore than a feeling Crazy i...</td>\n",
              "      <td>Love</td>\n",
              "    </tr>\n",
              "    <tr>\n",
              "      <th>...</th>\n",
              "      <td>...</td>\n",
              "      <td>...</td>\n",
              "      <td>...</td>\n",
              "      <td>...</td>\n",
              "    </tr>\n",
              "    <tr>\n",
              "      <th>795</th>\n",
              "      <td>796</td>\n",
              "      <td>Who says</td>\n",
              "      <td>You've got every right\\r\\nTo a beautiful life\\...</td>\n",
              "      <td>Inspiration</td>\n",
              "    </tr>\n",
              "    <tr>\n",
              "      <th>796</th>\n",
              "      <td>797</td>\n",
              "      <td>One call away</td>\n",
              "      <td>I'm only one call away\\r\\nI'll be there to sav...</td>\n",
              "      <td>Inspiration</td>\n",
              "    </tr>\n",
              "    <tr>\n",
              "      <th>797</th>\n",
              "      <td>798</td>\n",
              "      <td>Cheating on you</td>\n",
              "      <td>It started with a kiss on your mama's couch\\r\\...</td>\n",
              "      <td>Sad</td>\n",
              "    </tr>\n",
              "    <tr>\n",
              "      <th>798</th>\n",
              "      <td>799</td>\n",
              "      <td>I warned myself</td>\n",
              "      <td>I warned myself that I shouldn't play with fir...</td>\n",
              "      <td>Sad</td>\n",
              "    </tr>\n",
              "    <tr>\n",
              "      <th>799</th>\n",
              "      <td>800</td>\n",
              "      <td>How long</td>\n",
              "      <td>I'll admit, I was wrong, what else can I say, ...</td>\n",
              "      <td>Sad</td>\n",
              "    </tr>\n",
              "  </tbody>\n",
              "</table>\n",
              "<p>800 rows × 4 columns</p>\n",
              "</div>\n",
              "      <button class=\"colab-df-convert\" onclick=\"convertToInteractive('df-0bc79ec2-a6be-43bc-81d4-a10f989989aa')\"\n",
              "              title=\"Convert this dataframe to an interactive table.\"\n",
              "              style=\"display:none;\">\n",
              "        \n",
              "  <svg xmlns=\"http://www.w3.org/2000/svg\" height=\"24px\"viewBox=\"0 0 24 24\"\n",
              "       width=\"24px\">\n",
              "    <path d=\"M0 0h24v24H0V0z\" fill=\"none\"/>\n",
              "    <path d=\"M18.56 5.44l.94 2.06.94-2.06 2.06-.94-2.06-.94-.94-2.06-.94 2.06-2.06.94zm-11 1L8.5 8.5l.94-2.06 2.06-.94-2.06-.94L8.5 2.5l-.94 2.06-2.06.94zm10 10l.94 2.06.94-2.06 2.06-.94-2.06-.94-.94-2.06-.94 2.06-2.06.94z\"/><path d=\"M17.41 7.96l-1.37-1.37c-.4-.4-.92-.59-1.43-.59-.52 0-1.04.2-1.43.59L10.3 9.45l-7.72 7.72c-.78.78-.78 2.05 0 2.83L4 21.41c.39.39.9.59 1.41.59.51 0 1.02-.2 1.41-.59l7.78-7.78 2.81-2.81c.8-.78.8-2.07 0-2.86zM5.41 20L4 18.59l7.72-7.72 1.47 1.35L5.41 20z\"/>\n",
              "  </svg>\n",
              "      </button>\n",
              "      \n",
              "  <style>\n",
              "    .colab-df-container {\n",
              "      display:flex;\n",
              "      flex-wrap:wrap;\n",
              "      gap: 12px;\n",
              "    }\n",
              "\n",
              "    .colab-df-convert {\n",
              "      background-color: #E8F0FE;\n",
              "      border: none;\n",
              "      border-radius: 50%;\n",
              "      cursor: pointer;\n",
              "      display: none;\n",
              "      fill: #1967D2;\n",
              "      height: 32px;\n",
              "      padding: 0 0 0 0;\n",
              "      width: 32px;\n",
              "    }\n",
              "\n",
              "    .colab-df-convert:hover {\n",
              "      background-color: #E2EBFA;\n",
              "      box-shadow: 0px 1px 2px rgba(60, 64, 67, 0.3), 0px 1px 3px 1px rgba(60, 64, 67, 0.15);\n",
              "      fill: #174EA6;\n",
              "    }\n",
              "\n",
              "    [theme=dark] .colab-df-convert {\n",
              "      background-color: #3B4455;\n",
              "      fill: #D2E3FC;\n",
              "    }\n",
              "\n",
              "    [theme=dark] .colab-df-convert:hover {\n",
              "      background-color: #434B5C;\n",
              "      box-shadow: 0px 1px 3px 1px rgba(0, 0, 0, 0.15);\n",
              "      filter: drop-shadow(0px 1px 2px rgba(0, 0, 0, 0.3));\n",
              "      fill: #FFFFFF;\n",
              "    }\n",
              "  </style>\n",
              "\n",
              "      <script>\n",
              "        const buttonEl =\n",
              "          document.querySelector('#df-0bc79ec2-a6be-43bc-81d4-a10f989989aa button.colab-df-convert');\n",
              "        buttonEl.style.display =\n",
              "          google.colab.kernel.accessAllowed ? 'block' : 'none';\n",
              "\n",
              "        async function convertToInteractive(key) {\n",
              "          const element = document.querySelector('#df-0bc79ec2-a6be-43bc-81d4-a10f989989aa');\n",
              "          const dataTable =\n",
              "            await google.colab.kernel.invokeFunction('convertToInteractive',\n",
              "                                                     [key], {});\n",
              "          if (!dataTable) return;\n",
              "\n",
              "          const docLinkHtml = 'Like what you see? Visit the ' +\n",
              "            '<a target=\"_blank\" href=https://colab.research.google.com/notebooks/data_table.ipynb>data table notebook</a>'\n",
              "            + ' to learn more about interactive tables.';\n",
              "          element.innerHTML = '';\n",
              "          dataTable['output_type'] = 'display_data';\n",
              "          await google.colab.output.renderOutput(dataTable, element);\n",
              "          const docLink = document.createElement('div');\n",
              "          docLink.innerHTML = docLinkHtml;\n",
              "          element.appendChild(docLink);\n",
              "        }\n",
              "      </script>\n",
              "    </div>\n",
              "  </div>\n",
              "  "
            ],
            "text/plain": [
              "     Song_ID  ...      Emotion\n",
              "0          1  ...  Inspiration\n",
              "1          2  ...  Inspiration\n",
              "2          3  ...  Inspiration\n",
              "3          4  ...         Love\n",
              "4          5  ...         Love\n",
              "..       ...  ...          ...\n",
              "795      796  ...  Inspiration\n",
              "796      797  ...  Inspiration\n",
              "797      798  ...          Sad\n",
              "798      799  ...          Sad\n",
              "799      800  ...          Sad\n",
              "\n",
              "[800 rows x 4 columns]"
            ]
          },
          "metadata": {},
          "execution_count": 627
        }
      ]
    },
    {
      "cell_type": "code",
      "source": [
        "modifiedDF['Chorus'].apply(lambda x: len(x.split(' '))).sum()\n",
        "#We have 42,081 words in data"
      ],
      "metadata": {
        "colab": {
          "base_uri": "https://localhost:8080/"
        },
        "id": "6oBOMfKanEY3",
        "outputId": "7dc7b70a-6fbe-42d9-dfd6-09de66cc3ef2"
      },
      "execution_count": 628,
      "outputs": [
        {
          "output_type": "execute_result",
          "data": {
            "text/plain": [
              "42081"
            ]
          },
          "metadata": {},
          "execution_count": 628
        }
      ]
    },
    {
      "cell_type": "code",
      "source": [
        "my_emotions = ['Happy','Sad','Calm','Inspiration','Angry','Love']\n",
        "plt.figure(figsize=(10,4))\n",
        "modifiedDF.Emotion.value_counts().plot(kind='bar');"
      ],
      "metadata": {
        "colab": {
          "base_uri": "https://localhost:8080/",
          "height": 308
        },
        "id": "gB1rfBujnaA5",
        "outputId": "74d5c469-096f-4846-9166-ebc519c80c10"
      },
      "execution_count": 629,
      "outputs": [
        {
          "output_type": "display_data",
          "data": {
            "image/png": "[encoded data removed]",
            "text/plain": [
              "<Figure size 720x288 with 1 Axes>"
            ]
          },
          "metadata": {
            "needs_background": "light"
          }
        }
      ]
    },
    {
      "cell_type": "code",
      "metadata": {
        "colab": {
          "base_uri": "https://localhost:8080/"
        },
        "id": "FTGlaPVebvyM",
        "outputId": "d4cb48e0-ff9c-487a-dfb1-1f5640e99a61"
      },
      "source": [
        "import re\n",
        "import nltk\n",
        "nltk.download('stopwords')\n",
        "from nltk.corpus import stopwords\n",
        "from nltk.stem.porter import PorterStemmer\n",
        "corpus = []\n",
        "for i in range(0, 799):\n",
        "  Lyrics = re.sub('[^a-zA-Z]', ' ', modifiedDF['Chorus'][i])\n",
        "  Lyrics = Lyrics.lower()\n",
        "  Lyrics = Lyrics.split()\n",
        "  ps = PorterStemmer()\n",
        "  all_stopwords = stopwords.words('english')\n",
        "  all_stopwords.remove('not')\n",
        "  all_stopwords.remove('down')\n",
        "  all_stopwords.remove(\"y\")\n",
        "  all_stopwords.remove(\"i\")\n",
        "  # all_stopwords.remove('over')\n",
        "  # all_stopwords.remove('under')\n",
        "  # all_stopwords.remove('no')\n",
        "  # all_stopwords.remove('only')\n",
        "  # all_stopwords.remove(\"don't\")\n",
        "  # all_stopwords.remove(\"aren't\")\n",
        "  # all_stopwords.remove(\"o\")\n",
        "  # all_stopwords.remove(\"ma\")\n",
        "  # all_stopwords.remove(\"didn't\")\n",
        "  # all_stopwords.remove(\"can\")\n",
        "  # all_stopwords.remove(\"be\")\n",
        "  # all_stopwords.remove(\"to\")\n",
        "  # all_stopwords.remove(\"for\")\n",
        "  # all_stopwords.remove(\"you\")\n",
        "  # all_stopwords.remove(\"your\")\n",
        "  # all_stopwords.remove(\"we\")\n",
        "  # all_stopwords.remove(\"our\")\n",
        "  # all_stopwords.remove(\"my\")\n",
        "  # all_stopwords.remove(\"you're\")\n",
        "  Lyrics = [ps.stem(word) for word in Lyrics if not word in set(all_stopwords)]\n",
        "  Lyrics = ' '.join(Lyrics)\n",
        "  corpus.append(Lyrics)"
      ],
      "execution_count": 630,
      "outputs": [
        {
          "output_type": "stream",
          "name": "stdout",
          "text": [
            "[nltk_data] Downloading package stopwords to /root/nltk_data...\n",
            "[nltk_data]   Package stopwords is already up-to-date!\n"
          ]
        }
      ]
    },
    {
      "cell_type": "code",
      "source": [
        "modifiedDF['Chorus'].apply(lambda x: len(x.split(' '))).sum()\n",
        "#We have 24,461 words in data"
      ],
      "metadata": {
        "colab": {
          "base_uri": "https://localhost:8080/"
        },
        "id": "WW6RXOKtovpo",
        "outputId": "33e60792-c74d-4ddd-cec2-9779951bb6ae"
      },
      "execution_count": 631,
      "outputs": [
        {
          "output_type": "execute_result",
          "data": {
            "text/plain": [
              "42081"
            ]
          },
          "metadata": {},
          "execution_count": 631
        }
      ]
    },
    {
      "cell_type": "code",
      "source": [
        "print(all_stopwords)"
      ],
      "metadata": {
        "colab": {
          "base_uri": "https://localhost:8080/"
        },
        "id": "VQaJzoNXhUv7",
        "outputId": "507b0bd1-d0ff-4c56-c45f-1a5c9c415036"
      },
      "execution_count": 632,
      "outputs": [
        {
          "output_type": "stream",
          "name": "stdout",
          "text": [
            "['me', 'my', 'myself', 'we', 'our', 'ours', 'ourselves', 'you', \"you're\", \"you've\", \"you'll\", \"you'd\", 'your', 'yours', 'yourself', 'yourselves', 'he', 'him', 'his', 'himself', 'she', \"she's\", 'her', 'hers', 'herself', 'it', \"it's\", 'its', 'itself', 'they', 'them', 'their', 'theirs', 'themselves', 'what', 'which', 'who', 'whom', 'this', 'that', \"that'll\", 'these', 'those', 'am', 'is', 'are', 'was', 'were', 'be', 'been', 'being', 'have', 'has', 'had', 'having', 'do', 'does', 'did', 'doing', 'a', 'an', 'the', 'and', 'but', 'if', 'or', 'because', 'as', 'until', 'while', 'of', 'at', 'by', 'for', 'with', 'about', 'against', 'between', 'into', 'through', 'during', 'before', 'after', 'above', 'below', 'to', 'from', 'up', 'in', 'out', 'on', 'off', 'over', 'under', 'again', 'further', 'then', 'once', 'here', 'there', 'when', 'where', 'why', 'how', 'all', 'any', 'both', 'each', 'few', 'more', 'most', 'other', 'some', 'such', 'no', 'nor', 'only', 'own', 'same', 'so', 'than', 'too', 'very', 's', 't', 'can', 'will', 'just', 'don', \"don't\", 'should', \"should've\", 'now', 'd', 'll', 'm', 'o', 're', 've', 'ain', 'aren', \"aren't\", 'couldn', \"couldn't\", 'didn', \"didn't\", 'doesn', \"doesn't\", 'hadn', \"hadn't\", 'hasn', \"hasn't\", 'haven', \"haven't\", 'isn', \"isn't\", 'ma', 'mightn', \"mightn't\", 'mustn', \"mustn't\", 'needn', \"needn't\", 'shan', \"shan't\", 'shouldn', \"shouldn't\", 'wasn', \"wasn't\", 'weren', \"weren't\", 'won', \"won't\", 'wouldn', \"wouldn't\"]\n"
          ]
        }
      ]
    },
    {
      "cell_type": "markdown",
      "metadata": {
        "id": "esG0jgZSQK0Q"
      },
      "source": [
        "Print corpus"
      ]
    },
    {
      "cell_type": "code",
      "metadata": {
        "colab": {
          "base_uri": "https://localhost:8080/"
        },
        "id": "kFaGMJ3LQODW",
        "outputId": "f71df84b-0208-4925-e6cb-c665e0618023"
      },
      "source": [
        "print(corpus)"
      ],
      "execution_count": 633,
      "outputs": [
        {
          "output_type": "stream",
          "name": "stdout",
          "text": [
            "['diana let one light fire insid eye lone even know i feel cri diana let one lift heart save life i think even realiz babi save mine', 'forget belong home forget belong home ever feel alon never proof song', 'i sorri i say i need i care i not scare love caus i not i weaker wrong wrong make strong', 'i care peopl say togeth know i wanna one hold sleep i want i forev i know wanna leav common babi happili', 'better word feel crazi love danc ceil everi time touch i shook make wanna deep love god know babi', 'tell hurt vain i see heart love i rememb laugh let laugh burn even scream shout come back back oh i carri fire water love i hold closer hope heart strong enough night come down find way dark', 'i know i know i know i know i everi everi everi time i lone sometim i wanna cave i wanna fight i tri i tri i tri i tri i tri hold i lone momma i sorri i not sober anymor daddi pleas forgiv drink spill floor one never left down road i sorri i not sober anymor i not sober anymor i sorri i i promis i get help intent i sorri', 'walk down th park i saw anoth arm month apart look happier saw walk insid bar said someth make laugh i saw smile twice wide yeah look happier nobodi hurt like i hurt nobodi love like i promis i not take person babi move someon new caus babi look happier i knew one day fall someon new break heart like lover know i wait', 'life get down i numb way feel i drown drink date prescript pill one love left shelf farewel i save someon els i got save', 'club best place find lover bar i go friend tabl shot drink fast talk slow come start convers trust i give chanc take hand stop put van man jukebox start danc i sing like girl know i want love love handmad somebodi like come follow lead i may crazi mind say boy let not talk much grab waist put bodi come follow lead come come follow lead i love shape push pull like magnet although heart fall i love bodi last night room bedsheet smell like everi day discov someth brand new i love bodi', 'well i found woman stronger anyon i know share dream i hope someday i share home i found love carri secret carri love carri children still kid love fight odd i know alright time darl hold hand girl i man i see futur eye babi i danc dark arm barefoot grass listen favorit song i saw dress look beauti i deserv darl look perfect tonight', 'oh i compar everyon i alway got finger self destruct i wonder i love enough i wonder i love enough i alway look ride die caus mine heart i gonna life time i went fuck time i went fuck i wonder i love enough', 'face face see eye eye like fire rain like fire rain drive insan drive insan i stay mad anyth venu mar venu mar like differ star like differ star harmoni everi song i sing i chang thing i ye i hold let go perfectli imperfect i chang thing', 'feel like drop ocean nobodi notic mayb head feel like trap skin bodi frozen broken down got noth left high emot lose focu feel exhaust pray get lost moment give closest need somebodi say okay not okay okay not okay down feel asham okay not okay', 'i alway kind girl hid face afraid tell world i got say i dream right insid i gonna let show time let know let know real i exactli i suppos gonna let light shine i found i way hold hide i want', 'wanna play wanna stay wanna start mess head i hit wall mayb i known mayb i known would walk would walk door hey said done met someon brought face cut part broke heart ran away i guess known i guess known i would talk i would talk even star moon collid i never want back life take word lie oh oh oh i realli care', 'let go let go hold back anymor let go let go turn back slam door snow glow white mountain tonight not footprint seen kingdom isol look like i queen wind howl like swirl storm insid keep heaven know i tri let let see good girl alway conceal feel let know well know', 'readi ha time take i boss right not gonna fake not go down caus game better come play i use hold freak back i let go i make choic bitch i run show leav light make behav uh huh huh say i complic i must mind underr rate rate', 'even heart i see not true deep within soul i feel noth like use sometim i wish i could turn back time imposs may seem i wish i could bad babi quit play game heart quit play game heart tear us apart quit play game heart i known start know got stop heart tear us apart heart quit play game heart', 'got everyon watch us babi let keep secret littl bit scandal babi let see littl less convers littl touch bodi caus i caus i tell came caus i i wait i edg control i need i need know know oh babi come light mayb i let littl bit danger babi i want littl less convers littl touch bodi caus i', 'tell i get feel realli wanna turn tell i get feel realli wanna make ah caus i see tryin sublimin tryin see i gon one sing along i admit excit part kinda like i lead babi tell motiv motiv motiv tell motiv motiv', 'day thing take way much energi i look whole room spin take care away i overcompl peopl tell medic feel blood run swear sky fall i know shit fabric time goe i control mind know els tri tell everi time keep breathin breathin breathin breath oh i gotta keep keep breathin keep breath breath breath breath oh i gotta keep keep breathin', 'took away tabl i pace back forth lay still pull feel heartbeat hear scream pleas leav hold i still want come back i still need let take hand i make right i swear love life hold i still need i wanna let go i know i not strong i wanna hear say babi let go home let go home yeah i wanna take home', 'awhil sinc i lost get close year world keep turn i alway still heartach friendli face us want get place let get place pleas take home pleas take home pleas take wheel night lay down cloth blind save hit floor let leav alon babi pleas take home', 'babi sink bed stare ceil let lay catch breath slip away high feel i promis regret let love death', 'oh kill i know i one tri not lose mind wait day come everyon alright i know i one pretend like noth wrong frozen underneath sun i feel like i belong i know i one see shadow dark hallucin tear apart tear apart feel like world', 'yeah ooh darl part want let go oh charm part still holdin i kiss crawl back love want noth lose yeah caus noth compar good old fashion heartach put yeah i portland tri sellin organ babi kept caus noth compar good old fashion heartach put', 'one told way lie well one told mani peopl cri well late say sorri would i know i care pleas bother tri find not let tell way look way act color hair voic soft cool eye clear bright not', 'matter i go everybodi stare not fanci cloth i rock baggi jean get close comfort comfort i need i eat bodi weight chocol ice cream mayb i bite nail think i speak fit crowd ever get much sleep i wish leg bigger bigger new york citi i love i want love caus love gender free feel like put makeup cheek i wanna love everi singl part bodi top bottom i not supermodel magazin i okay not perfect caus perfect caus perfect caus perfect', 'mess talk shit gonna push away say love make crazi go go look look eye realli go away without fight reason i done polit i told one two three four five six thousand time i made obviou i made clear want spell f r i e n i made obviou i made clear want spell f r i e n f r i e n', 'i honest i right sunday morn bedsheet i wake alon i thought day i honest better way everi time i think i get head never ever let forget caus i think gone hear song radio like take back place use go i tri i fight i hear i stop smile i rememb gone babi song radio use know', 'i think love bad health i see one els guess i blame anyon hey ayi yeah i know today i call like hundr time yesterday call like hundr five nobodi els i want side hey ayi yeah bad day still great time drunk face listen red red wine ok laugh cri raini day still sunshin got problem i need deal haha ah trust us i want let deal yeah', 'i realli know someth start caus deep insid feel good whenev part i ever wanna go backtrack broken heart i feel like i hit head caus star star eye sky babe i sit seat car hand thigh ye i think i alright babe ever go far i think i love i think i feel way back i young i heard love never believ chang mind world record time said hello i said babi tell goodby caus i love believ love easi breath love easi breath', 'run run chase sunset alright alright done done howev dark get alright alright pull trigger tight uh glitter night live live love live like free like breathin fire like breath fire roll downtown ride dragon night long like breathin fire', 'caus i like i give damn got enough drama i need fake friend i need anyon understand like i give damn i', 'without i feel broke like i half whole without i got hand hold without i feel torn like sail storm without i sad song i sad song', 'not memori feel way blood rush finger not movi caus lie not issu caus mine everi movement way shiver twist hair end finger young daylight dream gone music meet song i fell right i wrong would come back one last song', 'chase sun till burn i keep go down use move sound keep', 'i vibe one els help feel way', 'i miss forev i thought wanna know i know better i want let go kiss never oh babi take home i know better i want let go', 'got want know heart mine bruis knew start i lose blood carpet not i tri wash scar mark skin etch like stone save yeah yeah call love still hate yeah yeah lord i tri i say pain medicin one tast i numb save yeah yeah lord i tri i say', 'hooray excel love happili hallelujah beauti day sweet rock wishng pleasent memori famili', 'laugh song smile enjoy life danc friend parti night happi joy danc sing music song', 'i wanna show u everyth i see way im fell i need u tonight trow arm around love u deeper depest snow winter greatest gift live u', 'life never i gonna live forev i want live i aliv', 'i five word i swear breath i wanna air i i live i die i steal sun sky word say love i', 'oh littl runaway daddi girl learn fast thing say ooh littl runaway', 'i cowboy steel hors i ride i want dead aliv want dead aliv', 'never say goodby old friend hope would never end never say goodby hold gotta tri hold never say goodby', 'hard say thing i want say sometim one broken old street light lock door leav world outsid i got give five word i thank love eye i see part lip i breath thank love', 'prayer thought i want send round bend break down understand', 'gonna take miracl top save us time savior left town gonna need miracl caus line i let down river hope flood i know dam bust need i come run i let down', 'i came like mani find better life find piec easi street final aliv i knew noth good come easi good thing take time i made bed i lie die crime', 'father love daughter like mother love son write stori one day arriv til walk til run noth pride noth love', 'oh pleas ask i make play pretend oh oh use oh pleas i bet everybodi fake happi', 'gonna make wonder even tri hard time gonna take down laugh cri live i still know i even surviv i gotta get rock bottom', 'heart beat beat heart', 'i not angri anymor well sometim i i think badli well sometim i', 'best thing could happen longer i made not war not raptur i person take trick fool get anywher i not kid memori well i fend wanna hear sad song i wanna feel pain swear fault caus know not not oh not yeah friend stuck togeth wrote name blood i guess accept chang good good good', 'hold onto hope got let go nobodi say dream free i care cost', 'i alon i feel much better i around i feel togeth feel right togeth togeth built wall togeth hold hand fall hand fall', 'got dumb friend i know say tell i difficult know even know thing hide shit', 'life i good i think hell i want mess around i realli care love hate save babi babi life i good hell hell', 'make hot make wanna drop ridicul i bare stop i hardli breath make wanna scream fabul good babi babi', 'anyon tri find somebodi come take home damn cold night tri figur life take hand take somewher new i know i i i', 'i rememb crazi thing said left run head alway everywher right i wish crazi thing think went alway everywher right i wish', 'i smile sinc everi day everyth felt right turn around suddenli i need reason i smile', 'not alon togeth stand i side know i take hand get cold feel like end place go know i give i give keep hold caus know make make stay strong', 'i hold everyth heavi hold much i carri i keep drag around bring down i let go i set free hold everyth heavi', 'take down river bend take down fight end wash poison skin show whole fli silver wing past black siren sing warm nova glow drop down dream caus i crack castl glass hardli anyth see see', 'build break back down build burn down wait burn ground fall i take turn fan flame blaze burn wait burn ground fall i take turn fan flame blaze burn wait burn ground', 'sit empti room tri forget past never meant last i wish i know take move i know feel lie i wanna trade life someth new hold i got', 'i feel way i turn back i ignor time heal damag anymor turn back i ignor', 'say care one light goe sky million star flicker flicker care someon time run moment quicker quicker care one light goe well i', 'wake sweat anoth day laid wast disgrac stuck head feel like i never leav place escap i worst enemi i given i sick feel noth say take away i suffoc tell fuck wrong', 'light guid home ignit bone i tri fix high down love let go never tri never know worth', 'upon time side upon time side game go go throw water flame caus realli hurt', 'call magic cut two magic i disappear view', 'girl expect world flew away reach ran away sleep dream paradis everi time close eye', 'lose blur star see deceiv dream believ okay not okay', 'know love i know care shout whenev i love heart never ever ever apart babi babi babi oh like babi babi babi like babi babi babi oh thought alway mine mine', 'yeah late say sorri caus i miss bodi late say sorri yeah i know i let down late say i sorri', 'nobodi call mayb know caus i everyth one listen lone i lone', 'i need hold heaven place not far away know i one say make mistak take hand hold tell everyth need say caus i know feel someon feel someon lose way', 'caus like way look much oh babi go love think i still hold someth go love', 'i never say never i fight i fight til forev make right whenev knock down i not stay ground pick never say never', 'bright fade light set heart fire', 'take night fall dark side need light live dark side i see let feel still young fearless let go light fall dark side', 'night not forev least togeth i know i not alon i know i not alon anywher whenev apart still togeth i know i not alon i know i not alon', 'i i love like love song babi i i love like love song babi i i love like love song babi i keep hit repeat', 'i wanna hold i not suppos i lie close someon els stuck head i get i could i know i go back i know i go back i know i go back', 'caus i wanna look good good oh oh i wanna look good good oh oh let show proud i leav dress mess floor still look good good oh oh', 'readi readi perfect storm perfect storm caus mine mine go back mark word love make levit like bird like bird without cage down earth choos walk away walk away', 'held down i got get readi caus i enough i see i see i got eye tiger fighter danc fire caus i champion gonna hear roar louder louder lion caus i champion gonna hear roar', 'done world look done peac pledg son flower field time dream said mine ever stop notic children dead war ever stop notic cri earth weep shore', 'heal world make better place entir human race peopl die care enough live make better place', 'i wanna rock night danc day sunlight i wanna rock night gonna rock night away', 'got number ah know game ah put ah insan ah sinc seduc ah feel ah know woman ah kill', 'beat beat beat beat one want defeat showin funki strong fight matter wrong right', 'near far wherev i believ heart go open door heart heart go love touch us one time last lifetim never let go til gone love i love one true time i hold life alway go', 'i surrend everyth feel chanc live i reach i know feel make thousand dream i still believ i make give i hold arm never let go i surrend', 'i love pleas say love three word could chang live forev i promis alway togeth til end time', 'got one life i learn care gonna say let i wanna danc love danc', 'super ladi i got babi got babi babi move bodi move bodi danc papi rock bodi rock bodi danc papi put hand air danc man care put hand air air air move bodi move bodi danc papi rock bodi rock bodi danc papi', 'i deepli broken sad peopl heart broken i cri night i feel lone i bear pain i broken i alon tear fall down', 'i control put someth insid caus problem boy must poison know tryin stop stop caus got i need got open tri leav hold drop drop stop stop stop', 'babi i love babi i need babi i need gotta babi i gotta without without babi i love babi i love yeah yeah babi i need i gotta i gotta yeah yeah without', 'tropic island breez natur wild free i long la isla bonita samba play sun would set high ring ear sting eye spanish lullabi', 'i burn i burn burn love i burn burn love i burn burn love love', 'see eye want see life want frozen heart not open consum much get wast time hate regret broken heart not open i could melt heart never apart give hold key point place blame know i suffer i lose heart broken love bird need fli let hurt insid die frozen heart not open i could melt heart', 'i gonna carri lift watch stumbl heartach i gonna carri live love i live love i not give i gonna carri live love i live love not gonna stop caus love gonna lift love gonna lift', 'took holiday took time celebr one day life would would nice holiday celebr holiday celebr turn world around bring back happi day put troubl down time celebr', 'thought i much fun guess i one grown up i get job done peopl give busi i not live fear i live chao gotta get away parti i want free soul', 'i dream song sing help cope anyth see wonder fairi tale take futur even fail i believ angel someth good everyth i see i believ angel i know time right i cross stream i dream i cross stream i dream', 'peopl stop fight angel cri better love answer', 'i everyth seem better i know i see today ment togeth i pain away come save i lose touch day day caus i miss much come save i lose mind wait wait mine', 'i never miss beat i lightn feet see see i danc i make move i go know know shake', 'huh i happi clap along feel like room without roof i happi clap along feel like happi truth i happi clap along know happi i happi clap along feel like wanna', 'danc queen young sweet seventeen danc queen feel beat tambourin oh yeah danc jive time life ooh see girl watch scene dig danc queen', 'i use think mayb love babi i sure i cant wait till day knock door everytim i go mailbox gotta hold down co i wait till write come around i walk sunshin', 'i hair toss check nail babi feel feel good hell hair toss check nail babi feel feel good hell feel good hell babi feel feel good hell', 'worri thing caus everi littl thing gonna right sing worri thing caus everi littl thing gonna right', 'feel tonight gonna good night tonight gonna good night tonight gonna good good night tonight night let live i got money let spend go smash like oh god jump sofa let kick', 'kill make stronger stronger i kill make stronger stand littl taller mean i lone i alon', 'gotta ignit light let shine night like fourth juli caus babi firework come show em worth make em go oh oh oh shoot across sky babi firework come let color burst make em go oh oh oh gonna leav em awe awe awe', 'littl song i wrote might want sing note note worri happi everi life troubl worri make doubl worri happi worri happi', 'babi light world like nobodi els way flip hair get overwhelm smile ground hard tell know oh oh know beauti saw i see understand i want desper right i lookin i believ know oh oh know beauti oh oh make beauti', 'i wake everi morn head daze i not sure i say fuck i say anyway everybodi tri tell i go phase i know phase i wanna feel okay yeah i battl depress question still remain post traumat stress i suppress rage doctor tri tell i go phase yeah not fuck phase i wanna feel okay okay yeah i struggl bullshit everi day probabl caus demon simultan rage obliter disintegr annihil caus i break down i search way i liar i cheater i non believ i popular popular monster i break down fall love fall apart i popular popular monster', 'let go crazi let get nut let look purpl banana til put us truck let go', 'matter love capit h i put paw caus born way babi mama told i young born superstar roll hair put lipstick glass boudoir noth wrong love said caus made perfect babe hold head girl go far listen i say i beauti way caus god make mistak i right track babi i born way hide regret love set i right track babi i born way', 'babi one i love one i need one i see come babi one give one i alway call i need make everyth stop final put love top', 'i care long love care long love', 'uptown funk uptown funk uptown funk uptown funk i said uptown funk uptown funk uptown funk uptown funk come danc jump sexi flaunt freaki brag come show come danc jump sexi flaunt well saturday night spot believ watch come', 'want i want babi sugarboo i levit milki way renegad yeah yeah yeah yeah i got moonlight starlight i need night come danc i levit moonlight starlight moonlight i need night come danc i levit', 'touch like touch nobodi put hand tire hear sorri kiss make kiss kiss make leav parti caus i want tire hear sorri kiss make kiss kiss make', 'i would stay home caus i doin better alon said hello i know end i stay home caus let go i fall love one could break heart oh i doin better alon said hello i know end i stay home caus let go i fall love one could break heart', 'pain made made believ believ pain break down build believ believ pain oh let bullet fli oh let rain life love drive came pain made made believ believ', 'not i live without i even want tri everi night i dream ever sinc day said goodby i fool right i hold nothin i babi i knew word say road take find way back heart i get find way back heart', 'hello i wonder year like meet go everyth say time suppos heal ya i done much heal hello hear i california dream use younger free i forgotten felt world fell feet differ us million mile', 'i could make happi make dream come true noth i go end earth make feel love make feel love', 'take eye i leav i far asham watch never end i stay time caus i love anymor pleas stay come closer tri chang mind i cruel kind i love dark feel like ocean apart much space us babi alreadi defeat ah yeah yeah yeah yeah yeah yeah yeah everyth chang', 'i know i not one regret thing done sometim i feel stand reflect see i wish i could live littl look sky not floor i feel like life flash i watch cri i miss air i miss friend i miss mother i miss life parti thrown million year ago', 'daydream sit sea soak sun real lover make past feel girl like never felt figur', 'pain cut deep night keep sleep look see i remedi world seem cruel heart make feel like fool i promis see i i remedi', 'i miss light go illumin doubt pull hold tight let go babi give light i miss light go illumin doubt pull hold tight let go babi give light i love way bodi move toward across room brush past everi groov one like babi bring heart i bring soul delic ego i wanna step great unknown set tone', 'right feet air made brick pull down turn weak i find repeat like broken tune i forev excus intent i give pretend forgiv time without know melt heart stone i hear word i made say name like could us i best tidi head i one love i one love', 'i wait readi love i put hand i everyth differ i better i wait readi love i put hand i somebodi differ i better', 'heart beat faster i caus i know want i swear hell i never leav caus i know one thing love need let live tonight like last streak town live fast caus nake came nake leav saw world die down live stole crown free let get breath', 'season chang love went cold feed flame caus let go run away run circl run away run away i dare someth i wait i take blame run away run circl run away run away run away', 'i go time i fear one save noth realli got way drive crazi i need somebodi heal somebodi know somebodi somebodi hold easi say never i guess i kinda like way numb pain day bleed nightfal not get i let guard down pull rug i get kinda use someon love', 'caus girl like run around guy like til sun down i come i need girl like yeah yeah girl like love fun yeah i want i come i need girl like yeah yeah', 'i know alway night shift i stand night alon i need explan caus babi boss home gotta go work gotta put work let bodi work work home', 'i wanna know take home love way i use love', 'oh i mess right insid search sweet surrend not end i work go motion go us see flame insid eye burn bright i wanna feel love easi babi mayb i liar tonight i wanna fall love put faith stomach long i love lover', 'i want i grind i shine i stride i stunt i cheat leav cri harder trust i lie die i realiz i i yeah yeah i tri i want i grind i shine i stride i stunt i cheat leav cri harder trust i lie die somehow i realiz i harder love i harder i harder teach heart beat i drum i harder keep harder sleep i scare dark i not gonna run i harder break harder make get way i draw gun i not gonna play i not game i not gonna chang put son put mom put sister put bitch hoe put team put g i say i mean alreadi know put citi put bentley i got beamer i want roll sip henni ride semi nigga i call toast blah blah blah callin plug callin cop i call snitch holdin grudg callin judg say thug i call bitch i call ho call bro call i call trick i tire hate i tire snake i tire face dick i want fame i want name i want break i want love i want cake i wanna great i want chang want fall want crawl want starv want drug want fail want jail wantin soul wantin blood i reveng i end i respect i crown i reign start aim i hop plane i not go down i dodg flame callin name i wanna save i know i thought i save i got plan let load chopper ride around woo i roll em sleep hey gon see fuckin murder spree brrat brrat gon see nobodi say peep bah bah gon see turn back brrat bah gon see roll em sleep bah catch nigga slippin i might hit bah bah bah gon miss caus reveng feel sweet woo gon see nobodi say peep bah bah gon see give pen i even drink fuck i need henni gin plenti sin i broke bitch heart never forgiv i go find i kill buri friend i never could swim i use push weight nigga gym come step timb could not walk path i never caught cab i walk nigga lost sad i never would call dad fuck nigga i depress fuck mental torn half feelin stuck hard laugh music i wish i could i never got clout plottin drownin everyon callin nobodi tri reach proud nigga flip script i cannot live quit i wanna chill i wanna get flick wanna rekindl shit n flex i not get sleep i bare hope ant word p know i need reveng peac i rollin deep i finna turn block world war', 'world wish side hoax withhold pain make swear life feel i make want truth caus i tell empti hope', 'i hold breath i caus i forget i never forgiv know know true friend stab front', 'bring down alreadi life turn upsid down i ride downward spiral round round i keep fli i keep fight ever bring down i good i fine life divin hate shame one blame might disguis life lie i chastis', 'i care world end today i invit anyway said i tast famou i drew heart i not artist i fuck work art i got f c i got k thing miss bitch like', 'throw wolv tomorrow i come back leader whole pack beat black blue everi wound shape everi scar build throne', 'man whatev dre let run ayo turn beat littl bit ayo song anyon fuck shut listen ayo', 'i cut broken heart down union avenu let street run red reveng fake apolog everyth repay price head price head sky come down ghost town first wall gun held high dead night first wall come test first take fall sky come down ghost town first first wall', 'i like littl game like tilt stage role made play fool i like i like perfect crime laugh lie said gun mine cool i like i got smarter i got harder nick time honey i rose dead i time i got list name red underlin i check i check twice oh ooh look made', 'word like knive sword weapon use knock feet got feel like i noth voic like nail chalkboard call i wound pick weaker man well take down one singl blow know know someday i live big old citi ever gonna mean someday i big enough hit ever gonna mean gotta mean', 'one want hear one want see desper pathet i beg spare pleasur compani diamond leav bone i burn down everi bridg made i watch choke heart break i bleed everi word said go hell heaven sake i burn down everi bridg made i watch choke heart break i bleed everi word said go hell heaven sake', 'oh think know forgotten would make feel drag spirit down thank pain made rais game i still rise i still rise yeah make joke go broke blow smoke not alon laugh laugh rais bar hit hard play card star laugh laugh', 'caus babi got bad blood know use mad love take look done caus babi got bad blood hey got problem i think solv made realli deep cut babi got bad blood hey i think could trust ruin shine rust hit i weak babi i breath i rub deep salt wound like laugh right', 'well good look happi healthi not ever care ask good great without babi god i wish i could i lost mind i spent night cri floor bathroom unaffect i realli get i guess good', 'i away i happier ever wish i could explain better i wish true give day two think someth clever write letter tell', 'better lose music moment better never let go get one shot not miss chanc blow opportun come lifetim', 'i not afraid i not afraid take stand ride everybodi i guess i go place get one might still place tri get follow i get', 'betray caus i know never feel sorri way i hurt yeah talk togeth gave word matter took two week go date guess cheat still still traitor yeah still traitor', 'i hope happi not like i selfish i know i let go find someon great find one better i hope happi i wish best realli say love babi not like love think fondli hand i hope happi happier', 'go stand corner think ha time littl reveng stori start hot summer i i right i want came along got alon let hear applaus took faster could say sabotag i never saw come would i suspect i underestim i deal know pain beat like drum underestim steal not saint not think actress whoa better known thing mattress whoa soon gonna find steal peopl toy playground make mani friend keep mind keep mind noth i better reveng ha', 'i feel cool top bottom cool everi littl thing i dammit i feel cool yeah', 'i write one song not drink without think late tell everyth mean noth i', 'could find way let down slowli littl sympathi i hope show wanna go i lone leavin babi let down slowli let down down let down down let down let down down let down down let down wanna go i lone leavin babi let down slowli', 'talk anymor talk anymor talk anymor like use love anymor oh talk anymor like use', 'i know dress karma perfum regret got think bout mine oh i ya expect not come home tonight want attent want heart mayb hate thought someon new yeah want attent i knew start make sure i never get', 'i know i treat better girl like deserv gentleman tell wast time wast cri instead i know i treat better better', 'i admit i wrong els i say girl blame head not heart i drunk i gone make right i promis feel involv mmh said boy tell honestli real show yeah said save apolog babi i gotta know long goin creep round call babi long goin act shadi i feel late babi', 'speak word i hear melodi twilight hard see wrong i resist give truth littl twist gonna get away not sorri i believ i fell i fell hole down bottom soul think could go low look done lose got plan go solo solo', 'i hate i love i hate i love want i put nobodi els i hate i love i hate i want want need i never', 'everyth gonna alright everyth gonna okay gonna good good life therapist say everyth gonna alright everyth gonna fine gonna good good life', 'ooh love one ever gonna hurt love i gonna give love nobodi matter like rockaby babi rockaby i gonna rock rockaby babi cri somebodi got rockaby babi rockaby i gonna rock rockaby babi cri', 'unbreak broken unsay spoken word find hope hopeless pull train wreck unburn ash unchain reaction i not readi die not yet pull train wreck', 'let water rise drift surviv i need stay i let drift away love love whenev readi whenev readi whenev readi whenev readi surrend surrend i surrend', 'said forev i almost bought i miss fight old apart break dish disappoint i still love i promis noth happen way i want everi corner hous haunt i know said not talk i miss i sorri', 'i lone broken angel i lone listen heart lonley broken angel come save i fall apart', 'i suppos sit around wait well i turn back i need time move i need love feel strong caus i time think mayb i good oh believ life love i feel someth insid say i realli think strong enough', 'i mess tonight i lost anoth fight lost i start i keep fall down i keep hit ground i alway get see next bird fli fall down get nobodi learn without get wrong i give i give till i reach end i start i leav i want tri everyth i want tri even though i could fail i give i give till i reach end i start i leav i want tri everyth i want tri even though i could fail', 'fight song take back life song prove i alright song power turn start right i strong i play fight song i realli care nobodi els believ caus i still got lot fight left', 'gonna love i need anybodi els gonna love i need anybodi els i love help i need anybodi els anytim day night i love gonna love i need anybodi els gonna love i need anybodi els i love help i need anybodi els anytim i like', 'stand light seen i tell i hear say never look back walk away carri music memori keep insid laugh everi day stop tear fall down i insid i i not go hide caus greatest risk ever take far stand light seen stand light seen courag kind hold onto faith get give never late reach branch climb leav sad behind fight hard love never give enough', 'i dream big loud i jump high i touch cloud i stretch hand sky danc monster night i never gonna look back woah never gonna give pleas wake gonna best day life', 'amaz turn phrase weapon drug outcast backlash somebodi lack love start speak noth gonna hurt way word settl neath skin kept insid sunlight sometim shadow win i wonder would happen say wanna say let word fall honestli i wanna see brave', 'life worth live life worth live live anoth day mean forgiv peopl make mistak mean give life worth live', 'i wanna hide truth i wanna shelter beast insid nowher hide matter breed still made greed kingdom come kingdom come feel heat look eye demon hide demon hide get close dark insid demon hide demon hide', 'tri best caus man man gotto learn take tri believ go get rough thing get difficult gotta hang tough make strong histori repeat tri succeed never doubt one dream best around noth gonna ever keep down', 'yeah greatest best king kong bang chest beat world beat war talk god go bang door throw hand beat clock move mountain break rock call practic call luck either way go histori book stand hall fame world gonna know name caus burn brightest flame world gonna know name wall hall fame', 'work harder make better faster make us stronger ever hour hour work never', 'i hurt babi i broken down i need love love i need i without i someth weak got beg beg i knee', 'late i i lose sleep dream thing could babi i i pray hard said count dollar count star yeah count star', 'almost heaven west virginia blue ridg mountain shenandoah river life old older tree younger mountain growin like breez countri road take home place i belong west virginia mountain mama take home countri road', 'oh i wanna danc somebodi i wanna feel heat somebodi yeah i wanna danc somebodi somebodi love', 'romeo save i feel alon i keep wait never come head i know think knelt ground pull ring said marri juliet never alon i love i realli know i talk dad go pick white dress love stori babi say ye', 'i alway rememb day kiss lip light feather went like never better summer uh eleven act like grown up like present drink plastic cup sing love forev ever well i guess true', 'quarter one i alon i need said i call i lost control i need i know i without i need', 'come down yellow mountain dark flat land ride poni name wildfir whirlwind side cold nebraska night', 'long day without friend i tell i see come long way began oh i tell i see i see', 'song repeat i danc heartbeat gone i feel incomplet want truth i wanna part symphoni hold tight not let go symphoni like love song radio hold tight not let go', 'world boy one guy down well i could specif uh i human i want know sake us earthl want say love earth planet love earth home', 'oh love i hold forev reach love seem far i say littl prayer hope dream take sky blue see love oversea coast coast find place i love field green see love', 'i lay love i wanna everi time i breath i feel brand new open heart show love walk right i lay love', 'look back thing i done i tri someon i play part kept dark let show shape heart sad beauti loneli tragic help i win war oh touch bother everi second make weaker save man i becom', 'see i not tough i love uptown girl know i seen uptown world get tire high class toy present uptown boy got choic', 'show mean lone feel i need walk tell i someth miss heart life goe never end eye stone observ trend never say forev gaze guilti road endless love endless love control everi wish done tell', 'i never wish lone heart not fault i chose play fool one day may come shoe heart break feel like i exchang heart know i fell apart feel pain memori start exchang heart', 'blood shot eye i watch sleep warmth i feel besid slowli fade would hear i call name would hold knew shame alway someth differ go wrong path i walk wrong direct alway someon fuck hang anybodi help make thing better tear fall crash around consciou call guilti come home tear fall crash around consciou call guilti come home', 'everi breath take die everi step take fall apart one chanc breath let take chanc right scream live one life short time make everi second divin go live life hard live life hard', 'help hopeless well i beg knee save bastard soul wait i sorri brother sorri lover forgiv father i love mother hear silenc see dark fix broken feel heart i scare get close i hate alon i long feel not feel higher i get lower i sink i drown demon know swim', 'i born seed sown i not obey life battl row enslav expos lie enrag i believ heaven i believ hell never join herd could not adjust well slave master not i choos path set free i i go way i swim stream forev i fight power i i go way i swim stream forev i fight p wer eagl fli alon', 'nightmar nightmar come life drag down down devil show guest forev peac mind less never hate twist mind god side old acquaint sever burn world last endeavor flesh burn smell air caus men like easi soul steal steal stand line ink number head slave end time noth stop mad turn haunt yearn pull trigger known price evil hurt know belong yeah ooh fuckin nightmar nightmar come life fight not fail not fall end like other die die drench sin respect anoth down feel fire feel hate pain desir lost hit wall watch crawl replac liar', 'walk down street shoot peopl i meet rubber tommi water gun come deputi gonna come get i gotta get get run got siren loos i ran right juic gonna put cell i go heaven let go hell crazi stone cold crazi know', 'life seem fade away drift everi day get lost within noth matter one els i lost live simpli noth give noth need end set free thing not use miss one insid deathli loss real i cannot stand hell i feel empti fill point agoni grow dark take dawn i gone one save late i think think i even tri yesterday seem though never exist death greet warm i say goodby bye', 'freedom fighter sent sun escap brainwash mind pollut leav earth sin hate find anoth world freedom wait yeah past star field ancient void shield dark find love upon land world unknown son freedom make home leav earth satan slave leav futur grave make home love stay peac happi everi day', 'nobodi want stare world plan vengeanc soon unfurl time iron man spread fear vengeanc grave kill peopl save', 'reveng i scream reveng wrong i wrong far long constantli frustrat i move mountain less i channel hate product i find hard impress', 'live night neath devil torn asund call solv crook rhyme i close impos slumber call bell begin chime squar level readi swear right right devil squar level readi stand right right right right hide light sacrif noth still call entranc shrine hammer nail sacr coffin call power clandestin', 'i rock like hurrican i rock like hurrican', 'split lung blood thunder see white whale break back crack oar men wish prevail ivori leg propel harpoon thrust sky aim directli crook brow look straight eye', 'see i easili bother persist one step lash want get skin call friend i got friend like i standard anymor take i i belong someth not stay away lesson learn life known dawn time respect walk say respect walk talkin talk run mouth i not around easi achiev cri weak friend sympath hear violin play song friend tell everi word', 'auschwitz mean pain way i want die slow death immens decay shower cleans life forc like cattl run strip life worth human mice angel death four hundr thousand die angel death monarch kingdom dead sadist surgeon demis sadist noblest blood destroy without merci benefit aryan race surgeri anesthesia feel knife pierc intens inferior use mankind strap down scream die angel death monarch kingdom dead infam butcher angel death pump fluid insid brain pressur skull begin push eye burn flesh drip away test heat burn skin mind start boil frigid cold crack limb long last frozen water burial sewn togeth join head matter time til rip apart million laid crowd tomb sicken way achiev holocaust sea blood buri life smell death burn deep insid abacin eye bleed pray end wide awak nightmar wing pain reach face death stare down blood run cold inject cell die eye feed scream mutant creat pathet harmless victim left die rancid angel death fli free', 'caus i gonna stand even break down find way break even find heaven i walk hell love not alon caus i gonna stand', 'littl song i wrote might want sing note note worri happi everi life troubl worri make doubl worri happi worri happi', 'god i lone i open window hear sound peopl hear sound peopl venu planet love destroy global warm peopl want much peopl want much i want piti i want somebodi near guess i coward i want feel alright i know one save i need someon kiss give one good honest kiss i alright nobodi nobodi nobodi', 'far away still near light come music die see stand i came say goodby i corner watch kiss oh i give i not guy take home ooh i keep danc', 'well need light burn low miss sun start snow know love let go know high feel low hate road miss home know love let go let go stare bottom glass hope one day make dream last dream come slow go fast see close eye mayb one day understand everyth touch sure die', 'hurt close much say watch walk away never know could not see love i tri hard deal pain lose everywher i go i hard forc smile i see old friend i alon still harder get get dress live regret i know i could i would trade give away word i save heart i left unspoken', 'i hope buy flower i hope hold hand give hour chanc take everi parti caus i rememb much love danc thing i done i man thing i done i man', 'wish i could i could said goodby i would said i want mayb even cri i knew would last time i would broke heart two tri save part', 'close love i need pain twice enough vain time start pass know frozen ooh someth happen first time heart melt ground found someth true everyon look round think i go crazi oh i care say i love tri pull away know truth heart crippl vein i keep close cut open i keep bleed keep keep bleed love', 'i heard settl down found girl marri i heard dream came true guess gave thing i give old friend shi like hold back hide light i hate turn blue uninvit i stay away i fight i hope see face remind never mind i find someon like i wish noth best forget i beg i rememb said sometim last love sometim hurt instead', 'i alway need time i never thought i would need i cri day feel like year i alon bed lie made side walk away i count step take see much i need right gone piec heart miss gone face i came know miss gone word i need hear alway get day make okay i miss', 'i think would let down easi oh girl i think walk away like noth babi moment hard breath yeah caus took away biggest part yeah life unpredict yeah never thought love like would leav alon oh wast time like alreadi made mind sympathi caus i line oh yeah i think would let down easi oh girl i think walk away like noth girl bad day hey hey hey i know i wrong could said goodby babi bad day i like whoa', 'tri get tri get behind back back back ooh yeah tryna tell i like other i bad i bad bad bad', 'well mayb god i ever learn love shoot somebodi outdrew not crime hear tonight not pilgrim claim seen light cold broken hallelujah', 'say class team stuck daydream way sinc late face seem slowli sink wast crumbl like pastri scream worst thing life come free us caus upper hand go mad coupl gram wanna go outsid tonight pipe fli motherland sell love anoth man cold outsid angel fli angel die cover white close eye hopin better life time fade tonight straight down line', 'come skinni love happen suckl hope lite brassier sullen load slow spit i told patient i told fine i told balanc i told kind love wast well hell i caus i break britch end line love fight fall far behind love fight fall far behind', 'i float emerald sea keep danc keep still i tri keep balanc right i tri feel like wast time heavi hand pull down chest latch color flesh quietli hover i fight feel like wast time feel like wast time say goodnight i know i swallow sea collid color devour say goodnight i alreadi down i cri alreadi down', 'walk down water stare across blue look love stolen i take leav i give unbroken find love knew past around i take leav shall meet sunris stand one last time two i look deep eye i take leav', 'cover blanket silent breath demon room scare reason tear shed tonight i come back sing sweet lullabi dream come aliv angel sing along turn world song i gonna keep safe warm sleep sleep siren slowli fade know i found way need afraid hold', 'everglad greener yesterday skip stone away go back start photo darkroom fade hold even arc beyond furthest edg world full strang tower sky chanc choos time set way i know i doctor i know live past way go go back', 'crush burn break down pleas stay fade lose control start fall stop turn around i lose ground i lose ground stop turn around i lose ground i lose ground time let go time let go time let go', 'seren peac even sunris morn bird sing mediat pleasent environ live peac may saul attain peac worship', 'calm i feel relax tree peac even', 'calm calm i feel free hard work', 'i love storm come let sky keep fall yeah world got noth us scare away bring rain i love tide turn let sun keep burn perfect worst day i mean i say i love', 'world need peac calm relax rest mediat mauntain', 'fight fear tast grip feel slip shake soul feel wave look eye reason i stay i know thing say blame reason i came mayb caus i feel pain feel weight wash away mistak i made live time tear soul bone let tide suck chemic burst friend give wave end', 'i never want chang mani ugli way thought could stay find way night rain promis made lead lie lead pain slowli seem float away i afraid see die see fade insid mind', 'i love mean lot i live without anger one love babi bauti danc togeth lovingli love best thing world i feel', 'petrichor calm relax peac pleasent even good morn mediat', 'farewel cri sobber sorrow i feel down someoen cheat sad memori last forev i bear hard emot anymor i want stop', 'hous quiet big invas silenc i wait someon come home i feel around wind whisper though heart break bend i know i see', 'love honey i love i know love mean lot i alway i love forev i live without', 'calm relax beauti mauntain mediat sunris sunset peac memori', 'love broke come closer darl forget fake smile tri hard fool instead gave given luck head dust gave i wait side friend i wait side', 'i lose yeah i lose i almost point give oh yeah i lose i lose i think see love', 'forgiv i hopeless face sing voic like i know suddenli i start see perfect complex caus smile i around i tri best like i know', 'i not afraid love love i not afraid i not afraid i not afraid love love i not afraid i not afraid', 'feel wind darl i think love sink i could swim i love somebodi feel wind darl i think love sink i could swim i love somebodi', 'i drown ocean keep us apart map distant star oh voic call shelter skin end begin', 'long hair longer stride cut painter pant charg down craggi mountain thrift store friend find love fall earth oh wake middl fall night summer play coy attic citi night talk corso mc could danc like right', 'fortun fame mirror vain gone insan memori remain heavi ring finger wave anoth star deni grave see nowher crowd cri nowher tear honor like twist vine grow hide swallow mansion whole dim light alreadi fade prima donna', 'calm relax beauti mauntain mediat sunris sunset peac memori', 'anyway i gonna sing play um i gonna play song may know may know light night color blood cure pain thing i wanna touch never knew could mean much much fear i care caus i never high follow dark let take past satellit see world brought life life love like love like touch like wait', 'heart beat fast color promis brave i love i afraid fall watch stand alon doubt suddenli goe away somehow one step closer i die everyday wait darl afraid i love thousand year i love thousand', 'piti low down dirti shame lord piti low down dirti shame tell poor man make i say money name game', 'i went down river sat night long wonder life wonder went wrong blue bottl sorrow cup', 'think left behind man safe away babi uh one day gonna break down cri escap man man love strong gonna haunt know love follow mmm day i die one thing i want tell i go i gonna leav i gonna leav leav long babi bye bye hey i gonna leav babi long babi bye bye', 'way man carri think i want love one go said i love ever know ever know i not tri kind man i i tryna somebodi yeah love trust understand i know i know i part one els see yeah', 'somebodi loan dime i need call old time use somebodi loan dime mmm i need call old time use littl girl gone long know worri hey worri worri', 'babi got tell gotta tell go head know i spend one night sleep lone bed', 'best girl pack leav knew i not want see earli morn cri last thing night see cri earli morn moan last thing night woman pack leav i thing right', 'lone world everybodi tri hide alon fight peopl live live rule satisfi nobodi see cri nobodi know hard tri send angel i need help hand would send angel i need help hand take get along caus i stand', 'sad pain i cri i live without i feel alon feel lone i want die i broken i broken heart i lone broken man', 'wake everi morn tender love touch fool get enough love much crazi i stand i crazi woman crazi man', 'black night cold ice left think twice i tri stop god know i tri', 'i got sweet littl angel i love way spread wing ye got sweet littl angel i love way spread wing ye spread wing around i get joy everyth', 'two women sit bar blind man play guitar barcelona red sound blue everyth i push love asid get colour night colour night one hue i place time love got reason rhyme say love love til love i live world one hue everyth picasso blue live world without everyth picasso blue i go place i see face everyth i love got reason love got season i place time pain', 'blue got teardrop eye oh blue got teardrop eye ye dark night sinc babi said goodby', 'pleas i realli hurt realli sad got tie month oh babi chang flow', 'i happen die doubt babe honey think time come i happen die doubt babi honey think time come i want buri bodi right highway', 'even everi night come find must alway remind babi gone even got deeper power everi minut seem like hour sinc babi gone', 'love left behind i feel sorri drive crazi', 'bad luck make fool trip well stand make fool believ i stay feel fresh thing fall apart i confid failur i put tabl let caus joy lose stack chip mine put odd favor tri keep low key got back like hang get fuck tri shake hope i get lucki i hope believ bad luck make fool hope believ bad luck get ahold never ever let go never let get hope believ bad luck make fool', 'i money i buy peopl place stay i got dime i got littl time i faith i get down knee', 'even love rainbow streak blue beat old guitar still sing happi song tune across valley shadow mountain blue past ocean full nois still silent voic call side lonesom place children laugh sun shine everybodi smile walk room come brother i speak truth side lonesom place', 'softli let kiss lip gentli take down hair softli let kiss lip gentli take down hair make love bad i anoth care whole damn world except love i want guid babi let show man i want guid babi let show man know i treat nice ye i make love realli nice slow honey lay down lay down right next honey lay down lay down right next', 'i place bed i decid i better better dead letter read use lookin babi ever hope get back use lookin babi ever hope get back caus babi', 'i rememb full broken bone i tri bring cigarett said leav alon i rememb', 'one two three play sexi three four five six kit got brand new lick six seven eight down snake lake joint readi blow', 'wound left behind seem never go heal never seem catch i fall', 'dark fall end day word caus noth left say take place i drift away wanna lay down lay down lay down head', 'blue heal earli one morn heal blue heal', 'i walk street night mind i run around cri oh babi babi wrong someon told ought get babi back home', 'love know realli got hold i wanna figur gotta alon tri come togeth equal start today', 'afraid come might run across old friend loneli i tri sooth i play blue', 'move man honey i see done gotta pocket full money littl girl tri help none', 'stare window complain say i wait turn eighteen said i make money i make rule momma put car park front school kiss head said i like', 'put like burn end midnight cigarett broke heart spent whole life tryin forget watch drink pain away littl time never could get drunk enough get mind night', 'miss train i know i gone hear whistl blow hundr mile', 'i down oh soul weari troubl come heart burden i still wait silenc come sit awhil rais i stand mountain rais walk stormi sea i strong i shoulder rais i', 'i went skydiv i went rocki mountain climb i went second bull name fumanchu i love deeper i spoke sweeter i gave forgiv i deni said someday i hope get chanc live like die like tomorrow gift got etern think', 'hold go roll down unfamiliar road although wave string us along know not alon caus i gonna make place home settl down clear pay mind demon fill fear troubl might drag down get lost alway found', 'still time time buy time choos hey never wish better got hundr year live', 'i bless i feel like i found way i thank god i given end everi day i bless much i deserv one love', 'i hope danc i hope danc i hope never fear mountain distanc never settl path least resist live might mean take chanc worth take love might mistak worth make let hell bent heart leav bitter come close sellin reconsid give heaven pass glanc get choic sit danc', 'moon moon glow cool even light star aglow tunisia never shine bright care day seem vanish end day bring releas wonder night tunisia night fill peac', 'i see tree green red rose i see bloom i think wonder world i see sky blue cloud white bright bless day dark sacr night i think wonder world', 'everi move make everi vow break everi smile fake everi claim stake i watch sinc gone i lost without trace i dream night i see face i look around i replac i feel cold i long embrac i keep cri babi babi pleas', 'someon told long ago calm storm i know comin time say rain sunni day i know shinin down like water i wanna know ever seen rain i wanna know ever seen rain come down sunni day', 'sometim i feel i got run away i got get away pain drive heart love share seem go nowher i lost light i toss turn i sleep night', 'bird bee even educ flea let let fall love', 'fli moon let play among star let see spring like jupit mar word hold hand word babi kiss fill heart song let sing forevermor i long i worship ador word pleas true word i love', 'i live kind daydream i happi queen foolish though may seem everyth', 'arm i feel close wildest dream came true i need soft light enchant would grant right hold ever tight feel night near', 'hue blue green surround know found anoth love turn world sorrow green envi anoth fear may one soar life lose', 'lone heart learn lesson would call wee small hour morn time miss', 'must rememb kiss still kiss sight sight fundament thing appli time goe two lover still say i love reli matter futur bring time goe', 'lip much close mine bewar foolish heart eager lip combin let fire start time fascin dream fade fall apart love time love foolish heart', 'shadow fall spread mystic charm hush night arm i feel lip warm tender one love touch hand like heaven heaven i never known blush cheek whenev i speak tell', 'someday come along man i love big strong man i love come way i best make stay look smile i understand littl take hand though seem absurd i know say word', 'better lose music moment better never let go get one shot not miss chanc blow opportun come lifetim', 'gonna stand watch burn well alright i like way hurt gonna stand hear cri well alright i love way lie i love way lie i love way lie', 'alway i gotta get thing i know love i never give never slow till i final prove never listen i wanna keep move', 'cold outsid i alon i alright cold outsid i alon i alright yeah let go i wanna break down alway feel like i could break i never let take place i ever let thought get away i got better thing pick fate i wanna best call great i know i okay insan i rememb better day playground hope i find way better place even i feel down i fight even i know right i pick side i take pride i decid fate i never let tell i tri shape i damn plant ground i stand never give alway plan', 'i keep real i i feel i tri kill everi beat i know i everyth i work everi night anoth song quiet along gone notic i gone', 'look like job everybodi follow caus need littl controversi caus feel empti without i said look like job everybodi follow caus need littl controversi caus feel empti without', 'bitch i player i motherfuckin stingi cher even lend ear even pretendin care i tell bitch i marri buri face genit area origin richard ramirez christian rivera caus lyric never sit well wanna give chair like parapleg scari call harri carri caus everi tom dick harri carri merriam motherfuckin dictionari got em swearin down spit shit hilari time put bitch obituari column see eye eye stare problem get shaft like steer column mark jack trigger happi pack heat black ink evil half bad meet evil mean take back seat take back fat pete maxi singl look rap sheet attract peopl gangster bitch like apach catchi jingl i stack chip bare got half eaten cheeto fill em venom elimin em word i minut maid em i want hurt em i em fit rage i murderin nobodi evad i finna kill em dump fuckin bodi lake obliteratin everyth incineratin renegad em i make anybodi want pen afraid nobodi want gonna get anyway caus i beginnin feel like i mental ill i atilla kill kill i killer vanilla gorilla bringin killer within want enemi demon went reciev stupid everi bit epitom spitter i vicin motherfuck better duck finna dead minut run hundr percent fifth percent i bout fuckin finish bitch i unfad wanna battl i avail i blowin like inflat i undebat i unavoid i unevad', 'look i gonna go easi not hurt feel i go get one chanc someth wrong i feel', 'i suppos go oh hey realli i idea i know everi time i think i hit ceil i go higher i ever fuck', 'i not afraid i not afraid take stand ride everybodi i guess i go place get one might still place tryin get follow i get', 'tear gone cold i wonder i got bed morn rain cloud window i see even i could gray put pictur wall remind not bad not bad', 'hi name name name chika chika slim shadi', 'i friend monster bed get along voic insid head tri save stop hold breath think i crazi yeah think i crazi', 'may i attent pleas may i attent pleas real slim shadi pleas stand i repeat real slim shadi pleas stand gonna problem', 'venom adrenalin momentum i not know i ever gonna slow i readi snap moment i think time go get gonna know hit', 'music like magic certain feel get real spit peopl feel shit moment everi singl minut spend tri hold may never get', 'ever love someon much give arm not express liter give arm know heart know armor destroy anyon would tri harm happen karma turn right around bite', 'haili i know miss mom i know miss dad i gone i tri give life i never i see sad even smile even laugh i see eye deep insid wanna cri caus scare', 'littl late say sorri kick i down say hurt yeah right hurt i need wanna see ha bitch get love show noth hate ran ground come around goe around hurt right hurt i need want see ha bitch get love love love love ha bitch get love love love i need ha bitch get love', 'sing sing year sing sing laughter sing tear sing today mayb tomorrow good lord take away say music alter mood talk', 'sound like bitch bitch shut fuck fan becom hater done fuck beard weird alright yell mic weird beard beard weird yell mic', 'shake ass shake ass come girl shake ass shake ass ohh girl shake ass shake ass come girl shake ass shake ass', 'say i trash listen tekashi damn lost yeah fair weather wishi washi think machin wash swear god man favorit rapper wish cross', 'i wanna live i cold insid give i feel aliv i fight live i fight strive one day i i want life', 'i alway live life till i not forgiv hold down i never give i move forward i never miss chanc take i alway live life till i not forgiv hold down i never give i move forward i never miss chanc take got one life live right keep friend tight famili sight never ceas fight thing think right caus might find control mind hey fine hey take time hey enjoy climb hey enjoy grind hey never realli know side till give shit tri know limit sky hey', 'late i rememb careless could day night stay felt right young dumb would get drunk hook ok alright stay awak till sun rise', 'rumor around say bodi fantast natur girl not piec plastic head toe yea say elast yea whisper around say reput believ til i see i want demonstr', 'never gonna make way make yeah mayb fake never gonna make gonna take make take back tell believ gonna take fuck fight back fuck fight back', 'i wanna best i know better rest watch grow put test watch go quest i make known call obsess oh i know call select note call agress flow call offens even though gonna lie life tough tri get life rough tri right not enough even though tri still mess i still gonna fight i love still gonna die i love still gonna tri i give still gonna fight i', 'i dream i need i make happen work belief know i want i take i made mistak mistak make strong', 'yeah i one get bruh i swear god i get bruh i never give yeah i never give', 'i could watch lifetim favorit movi thousand end mean everyth i never know come forev fascin hope stop run caus i alway wait cinema i could watch forev action thriller i could watch forev cinema hollywood treasur love way cinema cinema', 'one time celebr know gonna right tonight hey feel music got feel need need yeah come alright gonna celebr one time celebr danc free music got feel free celebr danc free one time', 'oh oh sometim i get good feel yeah get feel i never never never never i get good feel yeah oh oh sometim i get good feel yeah get feel i never never never never i get good feel yeah', 'i stare sun thought peopl place thing i love feel light start trembl wash know sea see life window tonight', 'i sorri babi sun moon i never get never get', 'everi day peopl everyday thing i one i know hear differ kind anyth could hero could hero could hero could hero could', 'come far give let rais bar cup star night til sun i night get night good fun i night get lucki', 'yellow diamond light stand side side shadow cross mine take come aliv way i feel i deni i gotta let go found love hopeless place', 'feel way dark guid beat heart i tell journey end i know start tell i young understand say i caught dream well life pass i open eye well fine wake i wiser i older time i find i know i lost', 'high dive frozen wave past come back life fight fear selfish pain worth everi time hold still right crash caus know end clock tick til break glass i drown caus piec i wish i need chase relentlessli still fight i know love tragedi remedi love insan clariti', 'time i use look father eye happi home i king i golden throne day gone memori wall i hear song place i born hill across blue lake i first heartbreak i still rememb chang father said worri worri child see heaven got plan worri worri', 'recal not long ago would walk sidewalk innoc rememb care night warm bold young around wind blow would hold let go blow kiss fire gun need someon lean blow kiss fire gun need somebodi lean', 'i gave heart said broken ye i i gave key door open admit see i gave faith turn doubt hope deni i alon joy turn mope tell i need i need find anywher broke down i leav i side i need i need', 'i met summer heartbeat sound fell love leav turn brown', 'shout i hear word say i talk loud not say much i critic bullet ricochet shoot down i get i bulletproof noth lose fire away fire away ricochet take aim fire away fire away shoot down i fall i titanium', 'meet shine light i wait right life feel deni live open eye i wanna sink crazi laughter come make feel pain matter everi second make heart beat faster final think i found i chase alon beat insid soul take home dream made gold zone beat uncontrol i know feel like come make feel aliv feel aliv', 'show light stop turn stone shine i alon i tell i strong dream gone', 'i side i everyth want i side need light shine i', 'i feel helpless watch eye fill fear tell feel hold arm i need love i need time everyth wrong make right i feel high i come aliv i need free tonight i need love', 'i far home oh brother i hear call i lose oh sister i help oh sky come fall down noth world i', 'say go darkest day heaven heartbreak away never let go never let down oh hell ride drive edg knife never let go never let down give i give let love let love', 'i ask free ride i ask show real good time i never ask rainfal least i show show noth come down water like miseri come down i readi rain i rather dri least i aliv rain rain rain rain rain rain i rather dri least i aliv rain rain rain', 'mess fight slam door magnifi flaw i wonder wonder like keep come back bodi lose mind reason hold tonight caus scare lone need somebodi feel like alright reason hold tonight caus scare lone scare lone', 'work make make us harder better faster stronger hour hour never', 'start danc sexual romanc nasti fanci mona lisa master piec nation i wonder got attent confid', 'life worri life life problem life life worri life life problem life life take leav set free crap papa knew i got life got life live life set free mind busi leav busi know everyth papa knew littl knowledg danger stop bug stop bother stop bug stop forc stop fight stop yell life', 'said would rather die young live moment forget tomorrow guess got wrong still tryna find road follow alway tri ride paper plane said fine mistak tri call yesterday go back alway get right light go music die goodby gonna realiz i cast us paradis hold hold', 'confetti fall five morn scream cri i i know i sorri i made stori i lone i fall like i sorri', 'go back begin control tomorrow bring i know middl place promis i not enough unless come meet caus i want meet', 'i walk upon salvat spirit aliv life declar promis soul stand could i say could i offer heart oh god complet', 'would i run throne merci would i kneel cross grace great love strong hand hold us beauti beauti i bow lift high jesu glorifi thing life i forev', 'i sorri wanna talk i need moment fore i go noth person i draw blind need see cri caus even understand understand i finish i bout busi readi save world i take miseri make bitch everyon favorit girl take aim fire away i never wide awak nobodi keep safe i way blood moon rise fire burn eye nobodi keep safe i way', 'tough guy like realli rough guy get enough guy chest alway puf guy i bad type make mama sad type make girlfriend mad tight might seduc dad type i bad guy', 'tonight night let go put show i wanna see lose control leav behind caus night get away come fli make great escap babi worri lone even sky fall down need worri', 'i read book old legend myth achil gold hercul gift spider man control batman fist clearli i see upon list', 'life like way caus life like uh huh uh huh way chill ya yellin lay back done could let see i like way drive car talk one one becom', 'i tell stori tell i lay reason say i need help got expect sometim go wrong one listen i put song', 'i born walk fire i made run flame yeah even i broken tire enough enough enough i know feel like nobodi care look love everywher nobodi secret hidden buri deep insid tri not show i see pride i see fear not welcom fight hard persever slow down switch gear focu make year yeah hopeless give tear', 'lost lost moment lost moment lost moment get lost lost moment lost moment lost moment', 'promis world i fell i put first ador set fire forest let burn sang key choru love love yeah love love yeah love yeah i need hate love yeah love love yeah love love yeah love yeah i need lose love', 'i know girl wanna wear expens thing like diamond ring i wanna puppet play string queen need king oh i know told girl right gonna rule world yeah i gonna i wanna i wanna sit still look pretti', 'i look like reveng feelin like best i ever yeah i know bad must hurt see like get wors wait minut look like regret proud beg second chanc never get yeah i know bad must hurt see like get wors payback bad bitch babi i baddest fuck savag nice take easi ya nah', 'day thing i know thing burn night grow cold look away look away beg stay beg stay yeah sometim stranger bed know love want dead push away push away beg stay beg stay yeah call morn apolog everi littl lie give butterfli someth way look eye know i gonna make aliv', 'yell sky scream world babi go away i still girl hold tight head cloud heaven know i love i love i trust i trust i stay night tell i alright babi harder see i put record wait til i hear song everi night i danc ghost everi night i danc ghost', 'i regret day i left i believ i bless i probabl lie i alon head look love stranger bed i think i find caus could fill empti space', 'keep come back come back keep run round run round run round head certain thing i ador i certain i certain i certain i someth get angri merci like shoulder turn caus certain thing mend us hang dear life held tight', 'i trust anyth anyon sun i feel anyth i king cloud cloud i get lift i get lift king cloud cloud i get lift i get lift imagin take somewher i know i lost i better find alon king cloud cloud i get lift i get lift', 'long i live long i love i never not think hmm i never not think moment i love i knew one matter whatev i ooh hmm i never not think come lifetim rest mine alway compar', 'i look real friend ever let down everi time i let somebodi i find i lookin real friend wonder hide i look real friend gotta get town', 'i know like i admit i wrong right least i tri keep cool i thrown fire go i hate say i told love say told i hate say i told love say told say say told say say told well say say told throw fire throw pull', 'stay late i wanna get stone tell friend i never home face fill blood still say like bourgeoi cough promethazin live like evergreen sorri thing i done selena friend i kiss emili i love never fault', 'oh tire restless soul run run oh place go nowher fast know calm lay down restless soul wear wear current come restless soul', 'talk talk talk go get lost let first get want without know i never felt like i apolog i move far talk talk figur go', 'oh sweet psycho littl bit psycho night scream i mind oh hot psycho left right though night scream i mind', 'found heart broke i fill cup overflow took far keep close keep close i afraid leav i said i catch fall laugh fuck em i got knee put right back feet could take advantag', 'i broken love whole heart sin hold caus grace hold grace own ground grave shame remain left dead wake crash age old gate left stone unturn step grave shoulder way come i stand high surrend i need hold heart forev soul cri', 'dark wait without hope without light til heaven came run merci eye fulfil law prophet virgin came word throne endless glori cradl dirt', 'peopl come togeth strang neighbor blood one children gener everi nation kingdom come let heart troubl hold head high fear evil fix eye one truth god madli love take courag hold strong rememb help come', 'spirit jesu live within us never fail forsak unend promis heaven insid us whisper sound name', 'shadow light mountain climb come wall kick down lie tear down come', 'beauti name beauti name name jesu christ king beauti name noth compar beauti name name jesu', 'fuck i hate friend hate i i i hot girl bummer anthem turn throw tantrum fuck i hate friend hate fuck hot girl bummer anthem turn throw tantrum', 'say someth i give i one want anywher i would follow say someth i give i feel small head i know noth i stumbl fall i still learn love start crawl', 'everyth hurt littl littl oh everyth hurt littl littl oh everyth hurt littl less', 'oh perfect way perfect way perfect way us good good father i love i i i', 'walk line like u wanna go higher i love love love u wanna go hard reach dim light go real far u must tire i love love love call name like hurt lot i fall deeper tonight u wanna stop babi u wanna couch i give give u wanna stop babi u wanna couch i give give', 'fire morn cool even breath soul life bone', 'tell realli like babi i take time ever fight take step step i see eye caus never tell lie i feel bodi shake heat leg scare love run i know simpl touch set free rush alon i feel come i feel come babe', 'i close eye color fli hide grace i deni heart mine unrel chase i edg decept caught hesit love took i let go i let love show life like suppos oasi await us freedom i ever need i aliv', 'i know could go anywher could anyth girl whatev mood yeah i know get lost late night star find love stand right lip pull moment i alon peopl may watch i mind caus anywher feel right anywher feel like pari rain need fanci town bottl pronounc caus anywher babe like pari rain', 'yesterday day sun cold rain hard i know way time til forev goe circl fast slow i know stop i wonder i wanna know ever seen rain i wanna know ever seen rain come down sunni day', 'wear shoe shine got toe jam footbal got monkey finger shoot coca cola say i know know one thing i tell got free come togeth right', 'i love i hope know darl love worth weight gold come far dear look grown i wanna stay grey old say let go say let go i wanna live even ghost caus alway i need', 'noth better sometim said goodby let let go let let go', 'i wanna anymor hand hand get cold lose feel get old i made broken mold hurt i shake made everi mistak know way i break', 'i know make nervou i promis worth show em everyth kept insid hide hide shi say i hope stay hide away come play look window see snow let though leav home feel wind blow caus colder insid silenc keep quiet', 'fuck i hate friend hate angri stupid bitch go hell i kill', 'follow everywher i go top mountain valley low give everyth dream let ooh everyth want gold i magic stori told safe control let', 'catch i rude like rendevu knuckl b boy fill cup choos wise mind tell true lie go toe toe homi shoe size ay turn us i make hot like william duck camera stuck traffic come pick kinda canva fuck savag come ravag flexin like muhammad not eas stand tall', 'babi step child may noth make daddi proud weak strength i know got question i closer think i promis oh i let go i let go i see right i hold heart', 'alway seen heart soul everi breath compos symphoni beauti hope believ i alway love', 'home heart come dwell come dwell i open welcom place welcom place come way us welcom welcom place welcom place come way us welcom', 'wait i worri tomorrow need focu thing i control attent wonder moment jesu presenc comfort soul', 'take away music thing i got piec rock i knew alway song i suppos bear gone would separ word hoo sweet melodi babi would take away music symphoni', 'tall tan young love girl ipanema goe walk pass one pass goe ah walk like samba swing cool sway gentli pass one pass goe ah', 'i gave love leav first told i hurt i tri hide wors broke heart i got shirt someth bout way i love seem curs i learn karma tend b word i hope get everyth deserv broke heart i got shirt', 'carousel back around go one mani time i end carousel back around go i down ride i win', 'tell okay tell okay tell okay tell okay happi tell okay i happi tell okay', 'strong let go give let win togeth proud', 'fire come close bother caus tide swallow one anoth freez start limb bother caus i follow lover', 'want heart i second guess caus i need love anyth i i love good leav love good leav', 'time i sing song nineti nine balloon way horizon think i sing song nineti nine balloon someth came', 'come see world beauti beyond dream feel thing i feel right take hand world i need know', 'fire one desir believ i say i want way two world apart reach heart say i want way tell nothin heartach tell nothin mistak tell i never wanna hear say i want way', 'sick sorrow jesu carri hill walk path us walk us still turn tragedi triumph turn agoni prais bless battl take heart stand amaz', 'oh god peal back layer heart i want communion i want fellowship i want oh god peal back layer heart i want communion i want fellowship i want', 'i want know lord like i know friend i want know lord i want know lord like i know friend i want know lord', 'love still begin forev i sing passion i sing love first done love never chang begin forev i sing passion i sing love first done', 'oh high would i climb mountain mountain hide oh far i scale valley grace side oh long i chase river lowli sea rise rush grace descend sourc suppli', 'i choos day grate lord i give prais open heart i wake heaven i wake i wake heaven i wake i choos day grate lord i give prais open heart i wake heaven i wake i wake heaven i wake alway good thank merci new thank spirit truth thank i tell thank', 'almost heaven west virginia blue ridg mountain shenandoah river life old older tree younger mountain growin like breez countri road take home place i belong west virginia mountain mama take home countri road memori gather round miner ladi stranger blue water dark dusti paint sky misti tast moonshin teardrop eye', 'song broken heart silent prayer faith depart i gonna face crowd gonna hear voic i shout loud life never i gonna live forev i want live i aliv heart like open highway like franki said i way i want live i aliv life', 'late time come send shiver down spine bodi ach time goodby everybodi i got go gotta leav behind face truth mama oooh i want die i sometim wish i never born', 'friend jesu sin grief bear privileg carri everyth god prayer oh peac often forfeit oh needless pain bear not carri everyth god prayer', 'lord i worship i worship lord i worship i worship name holi holi lord name holi holi lord', 'i consid made mighti ocean fieri star field forest give prais lord god i stand awe i stand awe i stand awe', 'i seen world done cake diamond brilliant bel air hot summer night mid juli i forev wild crazi day citi light way play like child still love i longer young beauti still love i got noth ach soul i know i know i know still love i longer beauti i seen world lit stage channel angel new age hot summer day rock roll way play show way i got know pretti face electr soul', 'oh queen king got ace queen king got ace roll dice tonight go roll em huh give enough go smile aye aye i got i need world doubt got champagn dream endless drought king queen seek ace got need new friend', 'babi i need i need i wanna freak want i want bad i heard freak right two plu two four three two one boy boy boy make girl go crazi four three two one boy boy boy make girl go crazi four three two one', 'i write one song not drink without thinkin late tell everyth mean noth i i toronto i got view i might well hotel room yeah matter caus i consum spend night read text', 'not sure know first met i got nervou i speak moment i found one life found miss piec long i live i love hold look beauti white til last breath day i cherish look beauti white tonight', 'use hide cover serenad careless melodi someth buri deep insid us major minor like piano key play play oh play i swear even sleep i hear like memori everyth use', 'not much not ever come back way i get see drop new guy new bottl top fizz shaken much must taken never gonna notic see said openli need grown sli i wait know soon get sick stand alon i want phone never think i want', 'i wish luck i wish love i wish everyth everyth ever dream i wish life i wish joy i wish everyth everyth girl would want i wish best i know i worst deserv best deserv', 'said would last time i see caus even wanna talk even wanna meet even wanna friend pretend like ooh oh oh i take time love right love take hold take time love babe tri best explain yeah i throw away i said i love babi i i gave love away i said i love babi i gave i gave love away i said i love babi i i gave love away i said i love babi i i gave love away', 'i knew thrown down lion den brother i follow perhap i lack foresight known brother right sure set sun trust anyon want not ask i said ask gonna get bargain i said come i never imagin dead i never tell even awar undo iscariot fool', 'say love face i need embrac say want take heart get torn mistak caus i wanna fall love wanna tri i think mayb might babe look though run word say love float away say love today give time caus not want feel burn flame say name want feel passion flow bone like blood vein', 'hey mama stress mind come home tonight hey mama gonna alright dri eye back morn sun start rise mama stress mind mama stress mind', 'go togeth better bird feather chang weather yeah i feel heat decemb round i danc top car stumbl bar i follow dark get enough medicin pain tattoo insid brain babi know obviou i sucker say word i go anywher blindli i sucker yeah road take know find i sucker sublimin thing one know make typic break typic rule true i sucker yeah', 'ha hallelujah oh i down beach ha hallelujah oh i down beach ha ah ah ah hallelujah oh i down beach ha hallelujah oh i down beach', 'seem one help i deep way time i realli lead astray runaway train never go back wrong way one way track seem like i get somewher somehow i neither help rememb smile make somehow seem worthwhil earth i get jade life mysteri seem fade', 'warm summer even train bound nowher i met gambler tire sleep took turn starin window dark boredom overtook us began speak said son i made life readin peopl face knowin card way held eye mind sayin i see ace tast whiskey i give advic', 'i see stare drink watch ice sink alon tonight chanc sit bar caus gonna treat right well probabl not place i gonna say anyway caus look like felt fire littl fun smile littl babi blue look good sky look good neon buzz wall darl match eye i tell need guy black white steal thunder babi blue color', 'call one time two time three time i wait finger hair mind i know minut sinc walk right door i still think time i know i know i gonna blank i know i know got sayin fuck i lone i lone i lone fuck come hold come hold come hold go go oh fuck i lone i lone i lone lone i yeah i still watch show show i still drink wine day tast bitter sweet friend way drunk save phone sorri i say thing i mean', 'fit well caus i could use help gettin convers yeah look stunnin dear ask question fear becom beauti peopl drop top design cloth front row fashion show know insid world beauti peopl champagn roll note prenup broken home surround still alon let leav parti', 'let find far i go look like someon know mayb i sound littl better featur sweet mind alreadi made saw number number good enough i write littl better i will compet i i hope inbetween not i meant i said i i want seen', 'wall life built open door kid walk oh i not bitter i tire use get angri way wire ignor trauma one afternoon i could never let know ooh never get i one let go ooh say genet real believ guiltless oh i tell believ guiltless i think i feel better i open eye i carri burden til day die real believ guiltless', 'i wanna pick scoop i want secret secret found paint trust i best friend call one night end oh share soul unzip skin let see', 'reign', 'morn i rise meet morn i lift eye one i wanna cling first thought mind let voic rise creation cri sing endless alleluia moment join heaven song sing endless alleluia', 'imit game', 'needless say i keep check bad bad nevertheless callin quit babi i wreck crash place babi wreck needless say i keep check bad bad nevertheless callin quit babi i wreck crash place babi wreck thinkin bad way losin grip screamin face babi trip someon took big l know felt lookin sideway parti tilt', 'i wanna alon tonight pretti clear i not i still think bout thing i wanna alon tonight alon tonight alon tonight light fire i need somebodi take control i know exactli i need caus i wanna alon tonight alon tonight alon tonight look made i somebodi new ooh babi babi i danc stranger look made i somebodi new ooh babi babi i danc stranger danc stranger', 'caus babi everyth everyth i need everyth babi everi singl part meant caus meant everyth i need', 'time i make proud see come day light proud rais shelter peac time i make proud', 'i american nightmar american dream countin bodi count sheep i american nightmar yeah i live dream i slash way golden age silver scream sweet dream', 'oh oh night oh awoo night thing wors bark bite oh awoo night', 'i got damn bad intent i got damn bad intent i got secret i forgot mention learn lesson i got damn bad intent i see world dimens i seen evil reign perfect blood heat tension i know', 'i wish i could hate head want heart weak i hate thought lone i love alon greatest regret first day i gave love dirti evil scheme heart like i total hate i usual regret hurt feel i call dull brain i thought alway knew b tche like one reason middl finger rais heaven i hope guy know jealousi incur ailment slowli eat victim hater die well soon even monkey asia reloc contin still remain monkey i hate u butt breath i longer human anymor i sad stress', 'step glass stapl tongu ahh buri friend tri wake ahh ha cannib class kill son ahh buri friend i wanna end', 'got look crazi right love got look crazi right love got look crazi right touch got look crazi right touch got hope page right kiss got hope save right look crazi love got look got look crazi love', 'happi joy danc parti sing music cheer wine satisfact plessur let danc let enjoy danc danc danc chill self', 'i love lost sens spin town sooner later fever end i wind feel down i need man take chanc love burn hot enough last night fall lone heart call', 'i said face bomb ass tight rack stack shaq height yeah jewelri flashlight huh i lit sinc last night woo hit good good make nigga act right ah broke boy deserv pussi i know right', 'i choke i find word everi time say goodby babi hurt sun goe down band play i alway rememb us way', 'come come turn radio friday night long gotta hair put make friday night long til i hit danc floor hit danc floor i got i need i got cash i got cash i got babi', 'i parti i wanna i ever wear suit tie yeah wonder i could sneak back nobodi even look eye take hand finish drink say shall danc hell yeah know i love i ever tell make better like', 'give whole world i need space i need space i i need know i star space i need space i need space i i need space n give whole world i need space i need space i i need know i star space i need space i need space i i need space n', 'i kill go hell i want buri i hate fuck shit hell angri furi rage', 'i reach hear call boy hurt i i miss i miss like crazi i lay side next make sure alright i take care i want i tonight', 'mind run away thought i hope see see wander i know want i wait patient though time move slow i one vacanc i want know', 'februari valentin day rose came took away tattoo arm charm disarm harm gotta keep calm truth gone i never get show song dad see tour i i see stand next mom sing along yeah arm arm', 'i sail alon came along i sing song wrote led way i say word becam lump throat i i love sweet hurrican time i know meet', 'babi i wanna true gotta knock way i want sun moon', 'well new address oh i forget evid take home run write down get get write down get get write down get get write down get get', 'i promis i hold cold loos winter coat spring caus late i think i never told everi time i see heart sing caus live carniv summer scare death ghost train like everi ferri wheel stop turn i guess expir date i say i love late', 'caus i sleep like bodi i feel right underneath everyth yeah i undon burst seam caus i pictur besid let everyth need yeah', 'cloud chang storm come quick hide need shelter side hello caught surpris oh i lost sens i met hazel eye', 'come dude know right thing say come down game instead talk let demonstr yeah get down busi skip foreplay', 'feel low low drive noho i honest i call i tri let go i hope happi live life taxi alway alway', 'longer i live jesu live i dead sin i woke see light i boast cross save soul els loss', 'i love lord merci never fail day i held hand moment i wake i lay head oh i sing good god life faith life good everi breath i abl oh i sing good god', 'rain upon life fill heart take moment god i i lift hand worship i stand king eye behold glori everyth chang everyth chang', 'cross confid i need love give never make promis keep love give love give oh amaz love ye matter far i run i run love i fall apart let go', 'i get love best thing i ever i get love promis i make whatev may come heart i choos forev i forev i i get love i get love', 'i wish luck i wish love i wish everyth everyth ever dream i wish life i wish joy i wish everyth everyth girl would want i wish best i know i worst deserv best deserv', 'rain pour blood water cold core faith fall hard shoulder time turn back could live could live like legend time turn back could live could live like legend live like legend', 'middl finger put hand high wave face tell boy bye tell boy bye middl finger i think sorri i sorri sorri i sorri i sorri nigga nah i think sorri i sorri sorri i sorri hell nah want say sorri want call cri gotta see wild i one lie i feel bad exactli get stop interrupt grind i think', 'know devil took line god drop one angel came sing angel came sing wound know bout storm angel came weather gone sick angel came weather gone sick moment i lost know fade away sleep behind play go forward take storm away stay strong fall insid drop cage line stop behold sun angel stop behold sun', 'i know littl girl dreamt world forget forget respect bow down bitch i took time live life think i littl wife get twist get twist shit bow down bitch', 'starlight', 'sweet sweet sweet love jesu sweet sweet sweet love measur love deep could fill tide everi sea noth els histori compar done', 'parti mean wear blue red green peopl know thing see know never eas ambit well kept secret even friend know intend public sight public mind wear parti tonight', 'talk morn bang head bang head wall i scare i fall lose lose control i tire talk feel say old thing love import wanna lose wanna lose way', 'turn light i get star eye love mayb someday turn light i give like emot hard borrow love word never learn room empti bottl give i want get deserv', 'first met i could hardli believ thing would happen could achiev let togeth time go thank still mine', 'angri kill hurt fuck shit blame hate reveng', 'mountain sea river run love i open heart let healer set free i happi truth i daili lift hand i alway sing love came down i could sing love forev i could sing love forev i could sing love forev i could sing love forev', 'sunris chest blind place i live daybreak open eye caus ever meant one night still chang mind dear close lip touch nose feel breath push heart pull away yeah summer winter day love i see one thing wrong us mine mine yeah anytim anytim ooh know i alon quit i i thought i knew found love i wrong time enough sinc came along i think babi bring differ kind safeti net underneath i free fall fell men appear yeah trap tightrop free fall', 'wizard word tellin energi bewitchin i go first open bar let close distanc oh oh oh oh oh make spell night i realli give fuck bout said said bullshit pick poison love let go somewher littl exclus take shot take chanc take hand boy tension intens like asteroid discreet gotta dodg tabloid let not think much problem long keep', 'cross bore i could live freedom die life i sing good forevermor worthi name jesu deserv prais worthi name worthi name jesu deserv prais worthi name', 'i hate shit i angri i want kill', 'let get straight panic bloodstream yet bring peac stutter heart beat insid last first kill better rise tide everi fuck thing insid violenc vein war insid brain glitter gloom i numb without', 'begin i not sorri part i beg pardon see know i not human one part anxieti use two part naiveti keep sane', 'break down hyster young uncomfort numb sent pain oblivion i verg break down came around not second late late late late well give two finger person i use shook noos slip head loos boy histori see i knew better yeah i knew better refus hand rescu', 'everi littl thing gonna alright everi littl thing gonna fine whether i see i know work good everi littl thing everyth alright', 'come altar father arm open wide forgiv bought preciou blood jesu christ leav behind regret mistak come today reason wait jesu call bring sorrow trade joy ash new life born jesu call', 'stay true even lie come word remain truth even thought line i stand tall promis made let rest fade away peac far beyond understand may ever set heart eas dare anxieti come i rememb peac promis keep peac promis keep', 'oh moment encount dawn breath air i never known glori bow crowd return ground', 'anoth fire stand next anoth water hold back sea i ever need remind power set free grave hold bodi power live', 'take chanc noth lose ask question i promis truth readi i wanna hear heart heavi wound left mark allow introduc i everi place ever i one held stand wonder heal broken i i i i meet hous upon hill i want', 'pleas cool strong move learn anyth strong pleas rise strength one let down', 'peac bring peac storm surround let break name still call sea still rage still name everi wave', 'worthi everi song could ever sing worthi prais could ever bring worthi everi breath could ever breath live', 'tell meant call quit call destini come easili mean tri', 'i cut mind feel like heart go burst alon tabl two i wanna serv think i best ever share one drink smile even though sad', 'give one night gonna see new light yeah give one night meet underneath moonlight oh i want take two i want break i wanna know real thing i see new light', 'strong heart strong mind tri tri one day fli life worth live give make us proud proud self', 'cool river ocean sea hill flower bloom mediat calm relax mind peaceful memori', 'open higher state conscious open higher state conscious', 'i got way much time hurt somebodi help get wors broken heart light fade everyth dark way much whiskey blood i feel bodi give i hold anoth night i time heavi thought get late put fragil state i wish i go home deal', 'i sit think i knew collaps vein wear beauti shoe not live not', 'yeah dancin singin movin groovin hit somebodi turn around shout play funki music white boy play funki music right play funki music white boy lay down boogi play funki music til die', 'famili i got sister famili get everybodi sing famili i got sister famili get everybodi sing', 'everybodi want everybodi want love i like make mine night babi give give', 'i highest king would welcom i lost brought oh love oh love', 'i still love i littl bit tire i afraid i might hurt i not nice guy i selfish say i still love lie', 'oh not i i surviv oh long i know love i know i stay aliv i got life live i got love give i surviv i surviv hey hey took strength i not fall apart kept tri hard mend piec broken heart i spent oh mani night feel sorri i use cri i hold head high see somebodi new i not chain littl person still love felt like drop expect free i save love someon love', 'soul chosen landscap bewitch masquer bergamask play lute danc almost sad beneath fanci disguis sing go minor key conquer love life favour not seem believ fortun song mingl light moon calm light moon sad fair set bird dream tree fountain sob raptur tall svelt amid marbl statu', 'jealou love like hurrican i tree bend beneath weight wind merci sudden i unawar afflict eclips glori i realiz beauti great affect oh love us oh oh love us love us oh', 'speak hundr billion galaxi born vapour breath planet form star made worship i i see heart everyth made everi burn star signal fire grace creation sing prais i', 'got togeth definit got thing togeth babi nice i mean realli sit think realli realli nice i easili feel slip way slip world nobodi got togeth babi first last everyth answer dream sun moon guid star kind wonder i know one like way could made two girl i live love i keep evermor first last everyth', 'gonna realli wannna danc stand wall get back wall tell gonna realli wanna danc stand wall', 'coffe i need morn sunshin rain pour give give oh i wanna see i wanna see beauti know i see i know star go i follow matter far life movi know best part ooh best part ooh best part', 'promis still stand great faith faith i still hand confid never fail yet i know night last word come pass heart sing prais jesu still enough keep within love heart sing prais', 'got someth i want oooh new oooh salvag balanc oooh new', 'sittin eat heart wait waitin lover call dial thousand number late almost rang phone wall look hot stuff babi even i need hot stuff babi tonight i want hot stuff babi even gotta hot stuff gotta love tonight i need hot stuff i want hot stuff i need hot stuff', 'real life peac make amend start start feel like end like world unravel i bound come undon shepherd priest comfort comfort', 'i keep fight voic mind say i not enough everi singl lie tell i never measur i sum everi high everi low remind i i need know ooh oh say i love i feel thing say i strong i think i weak say i held i fall short i belong oh say i', 'found sure get lost mad fall love truli lost i want found die alon stain red color pavement paint blood somebodi love sacrific broken lose purest heart', 'watch mouth lettin shit slide know i got way much pride sneak dissin way side i turn fuckin wave tide i fuckin tire somehow i still find time care littl rhyme care littl peer think lil less fear care lil ear i give piec everybodi i meet', 'i love turn headphon down littl bit yeah mani reason', 'i would take away fear love allegi pain i fuck i miss never like i would give anyth chang fickl mind heart love fake shini thing i fuck i miss never like', 'i want wast time without want throw away life i need someth tell alright someth tell alright alright i want wast time without want throw away life i need someth tell alright someth tell alright alright', 'everybodi hurt sometim everybodi hurt someday everyth gon alright go rais glass say one got cheer wish not caus drink bring back memori everyth toast one today toast one lost way caus drink bring back memori memori bring back memori bring back', 'i gonna see victori i gonna see victori battl belong lord i gonna see victori', 'eye blind see great grace heart see love', 'happi joy enjoy parti danc sing play move bodi let danc music play loudli worri happi', 'i like better i i like better i i knew first time i stay long time caus i like better i like better i', 'honey i prize catch perfect match like two bitter stranger i seen long short i could make last well i could spit stranger pull bitter stranger pull well i could spit stranger pull bitter stranger pull', 'i none take back night met i know i suppos haunt ghost take back night met', 'thought holdin hand heart see blue talk love rememb knew love stay decemb found love share septemb blue talk love rememb true love share today', 'mine life rais glori took down grave bright sun almighti love god forev kingdom come', 'i call upon name keep eye wave ocean rise soul rest embrac i mine', 'i final wanna aliv final wanna aliv i final wanna aliv i wanna die today i wanna die final wanna aliv final wanna aliv i final wanna aliv i wanna die i wanna die i wanna die i wanna live i wanna live pain hurt i know lane i travel feel alon i move til leg give i see tear melt snow i wanna cri i wanna cri anymor i wanna feel aliv i even wanna die anymor oh i wanna i wanna i even wanna die anymor', 'heavi heart tast light fed dark i wait see i deserv compani love way hard oh oh oh i tri turn mind say i fine i scream insid like say word repeat i tri breath count i fake smile i know know well alright like heaven i hell', 'pleas cri i came say goodby everi tear eye oh right time', 'afraid i taken beat i share i made i strong surfac not way i never perfect neither ask i want know time come forget wrong i done help leav behind reason miss resent feel empti keep memori leav rest leav rest', 'sometim i think much yeah i get caught i alway stuck head i wish i could escap i tri yesterday took sheet bed i tie linen five strip ribbon i found scale side buildin i ran hill til found put back cell alon thought guess mind prison i never gonna get', 'i wanna alon i wanna i wanna alon dark i wanna alon dark i wanna alon dark anymor i alon get hole i like wall closin help one i feel curtain closin i go open em someth pull em close', 'i want head i want bedroom tonight way i save i need save i good goodby goodby goodby goodby goodby goodby goodby goodby goodby goodby i good goodby', 'i liar thief lover cheat sin need holi water feel wash well littl one i want admit someth gonna caus pain truth lie fall like rain let river run', 'hey nate life i know alright i dealin thing like everi human realli sleep much last night last night i sorri fine i think i need littl time i think i need littl free time littl break show bu ride bu ride yeah last year i breakdown thought tellin i lost gettin loud see therapist i found somethin funni goin hous yeah i start think mayb i move know pack car take new rout clean yard get noos hang heart let air air i search mean nate i learn grabbin keepsak leav burden well i brought i not perfect lookin view like concern pick cue right i quit nervou hate i lose sight life get blurri thing might hurt prolli gonna long journey hey hey worth though', 'i thinkin bout father late person made person i becom i tryna fill empti fuck i still empti i could use love i tri find reason get tri find reason stuff bedroom closet baggag heart still dark modern loneli never alon alway depress yeah love friend death i never call i never text yeah get give give get modern loneli love get high know come down down down down down down', 'i gotta keep calm storm i want less i want must bar window door keep safe keep warm yeah life i fight part sea reach shore voic becom drive forc i let pull overboard', 'i feel alon crowd place everi convers feel fake everyth i touch alway seem break i get depress i hear name oh i realli give shit stay i realli give shit go i realli give shit either way either way i feel alon', 'i danc demon i hang edg storm cloud gather beneath wave break head headfirst hallucin i wanna fall wide awak tell alright tell i forgiven tonight nobodi save i hold light i chase dark insid caus nobodi save', 'i go wrong i lost friend somewher along bitter i would stay night i known save life', 'hello sweet grief i know death feel like morn ecstasi i drown endless sea hello old friend miseri know end i everyth i make sure i never love i wish i not know broken lover go i wish heart made stone yeah i bulletproof i love black blue i solid like jewel i diamond heart oh oh i give love i unbreak i diamond heart oh oh could shoot gun gold i unbreak', 'everi wall high everi word cold ice hear dark help hand far feel like wing move think one love tell lone night threaten break down tire fight hard find way shadow caus everi lie seem true think one love somebodi somebodi somebodi know pain hard find way shadow everi lie seem true think one love i tell somebodi', 'i know water thicker blood deeper love friend peopl come peopl go peopl ride end i blind mind i swear rescu lifelin i know i i i surviv brother sister life yeah i know peopl would die run togeth famili i get gon high i say forev famili famili i say forev famili famili i say forev famili', 'day i wanna live other i wanna die i tri i help i feel trap mind i feel like time day i die greatest night i free i tri stay aliv i feel dead insid stop action i speak', 'look eye i understand i empathis togeth stand hide take hand human', 'everi time i cri i get littl bit stronger stronger littl bit stronger everi time i cri i get littl bit stronger stronger littl bit stronger', 'pleas stop love love ooh ooh ooh ooh ooh ooh ooh ooh want want like pleas stop care care ooh ooh ooh ooh ooh ooh ooh ooh care care like', 'i hurt today see i still feel i focu pain thing real needl tear hole old familiar sting tri kill away i rememb everyth i becom sweetest friend everyon i know goe away end could empir dirt i let down', 'chang might drive half insan kill stay gonna work gonna work someday moment livin eye half open think bout chang gonna work gonna work someday', 'cri i wipe away tear scream i fight away fear i held hand year still', 'not realli sure feel someth way move make feel like i live without take way i want stay not much life live not someth take given', 'i push problem back mind surfac dream come aliv i sweep issu somewher i find hope i forget mani time i strong confront fear fear hurt sincer mani day i run mani year emot flood seem clear cri reason feel tear roll down i felt strong i break cri reason caus i buri deep i made promis i could not keep caus i never face pain i caus pain hit full forc', 'live broken home alon sixteen week sinc gone time goe piec left memori shut feel lone i get head lost everyth around not deal well shut feel lone i get head would want love somebodi love hurt end', 'leg dangl edg bottom bottl friend i think i slit wrist i gone gone gone gone leg dangl edg stomach full pill work i put bullet head i gone gone gone gone', 'feel cold lost desper build hope failur known rememb sad frustrat let go let go', 'i got gun head go spirit head go i got gun head go spirit head go gun still rattl gun still rattl oh i got gun head go spirit head go', 'i danc devil control almost made heaven closer know play enemi gambl soul hard say danc devil', 'give', 'late i stuck imagin i wanna i realli think time blow littl inappropri caus i know everybodi think light shame need releas uncontrol i wanna go way take freak tonight i wanna show dirt i got run mind whoa i wanna go way take freak tonight i wanna show dirt i got run mind whoa', 'sugar man met fals friend lone dusti road lost heart i found turn dead black coal', 'i lone lone i mr lone mr lone i nobodi i nobodi call girl i lone lone i mr lone mr lone i nobodi i nobodi call girl', 'mamma mia i go i resist mamma mia show much i miss ye i brokenheart blue sinc day part i ever let go mamma mia i realli know i could never let go i angri sad thing i count time i told go slam door i think know away long know i not strong one look i hear bell ring one look i forget everyth', 'worri thing caus everi littl thing gonna alright worri thing hey caus everi littl thing gonna alright oh rise morn smile rise sun three littl bird doorstep sing sweet song melodi pure sure say messag', 'may know mean word happi may alway lead beat chest may treat like esteem guest may get rest may catch breath may best today worst tomorrow whoa oh may road less pave road follow whoa oh well heart gonna break live gonna chang infinit possibl way love i want good time gonna need money got free pass fact i sad without i want', 'caus i whatev say i i would i say i paper news everi day i radio even play jam caus i whatev say i i would i say i paper news everi day i i know way i', 'say i lost mind say i never find i think kind right fact i kind like say i lost mind say i never find i think kind right i guess i alway gonna bad child i guess i alway gonna mad child caus never understand weird mind weird mind everi singl person doubt tell could live without caus never understand weird mind weird mind famili alway said i bad child', 'happi joy pleasent enjoy smile laugh danc sing rock let sing song friend', 'happi joy enjoy music sing danc parti', 'i down oh soul weari troubl come heart burden i still wait silenc come sit rais i stand mountain rais walk stormi sea i strong i shoulder rais i', 'could gonna wish never met roll deep tear gonna fall roll deep heart insid hand gonna wish never met play beat tear gonna fall roll deep could roll deep heart insid hand play beat', 'oh love sometim i get littl merci i get littl lone sometim i get littl keep compani i get littl lone i said oh love sometim i get littl merci i get littl lone sometim i get littl keep compani i get littl lone', 'i thing i told i never would i told i chang even i knew i never could i know i find nobodi els good i need stay need stay hey i thing i told i never would i told i chang even i knew i never could i know i find nobodi els good i need stay need stay hey', 'go down gravel head barrel take life end struggl lo angel come scam pleas empti never sleep clifton bag ladi friend mind descend strip right human control warmer hell down go', 'bad habit lead late night end alon convers stranger i bare know swearin last probabl i got noth left lose use bad habit lead wide eye starin space i know i lose control thing i say yeah i lookin way i escap nothin happen two true true bad habit lead', 'uh need uh need get album done need coupl number need plaqu everi song need like one nicki tell rap nigga i see ya hah i pop nigga like bieber hah i fuck bitch i queer hah nigga bitch like madea yeah yeah yeah ayi yeah oh let i fall i releas new shit i blew everybodi tryna sue call na hood call doobi yeah', 'human sign thing go wrong scent linger temptat strong cold cold heart harden oh thing lookin better babi passin', 'dead night i dream happen i burn i wrong mean thing understand say someth wrong i know alon drive i go full moon glow i search truth tryna brand new yeah i tri i scream fight bleed blood eye i anoth broken soul god save', 'give littl time burn play hide seek turn around i want tast lip allow oh give love oh give love oh give love oh give love oh give love give love like never caus late i crave', 'never leav mind i alway stuck time take home way back thought i found alreadi escap along dream dream dream i know never leav mind i alway stuck time', 'i eye close i slowli fall music atmospher i feel light fade softli i rememb last year i alon bed thought head live silent insid', 'agoraphob night', 'shesha', 'happi danc enjoy joy danc', 'dark moon night owl take flight crossroad best begin quest candl flame chant name incens smoke hekat invok', 'gone leav hecat tree shed wind till skeleton claw sky i alon forest memori drag behind howl winter', 'happi joy parti fun', 'two us still fight live watch histori repeat time time i dreamer i dream life away i dreamer dream better day', 'sky blue tide high i see moon i think swim circl mind act like muse paint pictur head i make silhouett like poem i never read write bed i like love love love love', 'oh walk everi night talkin sweet lookin fine i get kinda hectic insid mmm babi i darl knew thing flow mind sweet sweet i heaven boyfriend laugh boyfriend begin end feel like i dream i not sleep sweet fantasi sweet sweet fantasi', 'i want feel i want share love i tri i get overwhelm gone i one tell wait watch watch us hate wait hope i not enough', 'i babi noth better i rather i lost complet i might well moon i like tri chang mind gonna i know better', 'kiss hard go summertim sad i want know babi best i got red dress tonight danc dark pale moonlight done hair real big beauti queen style high heel i feel aliv oh god i feel air telephon wire sizzl like snare honey i fire i feel everywher noth scare anymor', 'green sea go turn deeper blue i could not forese thing happen i look hard enough set sun love laugh morn come', 'i time everyon i bad postur sit drink pennyroy tea distil life insid sit drink pennyroy tea i anem royalti', 'tear fill glass express express hide head i wanna drown sorrow tomorrow tomorrow i find kind funni i find kind sad dream i die best i ever i find hard tell i find hard take peopl run circl mad world mad world', 'fade pictur wall like talkin disconnect call phone even ring i gotta get figur shh close comfort', 'terror know world watch good friend scream let pray tomorrow get higher high pressur peopl peopl street', 'i keep look place fit i speak mind i tri hard find peopl i leav behind say i got brain good i wish could time thing start happen i think i got someth good goin goe wrong sometim i feel sad sometim i feel sad find noth i put heart soul i guess i made time', 'peopl strang stranger face look ugli alon women seem wick unwant street uneven down strang face come rain strang one rememb name strang', 'smile though heart ach smile even though break cloud sky get smile fear sorrow smile mayb tomorrow see sun come shine light face glad hide everi trace sad although tear may ever near time must keep tri smile use cri find life still worthwhil smile', 'weari feel small tear eye i dri i side oh time get rough friend found like bridg troubl water i lay down like bridg troubl water i lay down', 'regret collect like old friend reliv darkest moment i see way i see way ghoul come play everi demon want pound flesh i like keep thing i like keep issu strong alway darkest dawn', 'well everybodi hurt sometim everybodi cri everybodi hurt sometim everybodi hurt sometim hold hold', 'take makeup nobodi around girl let guard down i see right i know mean i know i got moment close eye i know i someth right i got down shirt white sheet red wine babi wanna leav want record reverb backbeat low light know i know need tonight girl i take time dot everi i i babi i i i got down stay til sunris i wanna know like last time i ever hold girl everi detail leav lay back let go even say anyth way', 'i alright slow burn takin time let world turn i gonna way alright burn down take night slow burn yeah', 'dig thousand grave never gonna buri ghost float ground caution hang hair like jesu stone crash down far heaven fell short million thing tri put piec back togeth i get flight broken wing sick die night i wanna feel aliv world wanna straighten crook line i gonna marri girl let leav love save come quiet rise slow take depth dark fall far alon face', 'well i blind reaction late i behind catch i move castaway trap caught darken sky tidal wave i move', 'kiss cheek i watch leav smile ghost i fell knee young run come back need love good', 'never find look come back front porch say name screen door come back front porch whatev done matter caus darl littl splinter batter light wait come back come back i took long way look shortcut find place made best', 'ooh necklac hang neck night quit forget decid decid move furnitur could danc babi like stood chanc two paper airplan fli fli fli i rememb think', 'road brought sure hell take home life left behind back tire pay due worn shoe broadway blue fool tell damn ol deck stack', 'i understand bodi want i know thought oh bout bout big girl world i let wanna girl ride wit ride wit i know know i know wanna ride wit shi wit i suppli wit i got girl oh i got girl', 'i said say name woo say first class flight l soon i land bill paper plane uh soon touch back end one ten tryna take chase skrrt skrrt big fat stack bag i un zip finna make rain cuh run down rain splash right wrist left wrist rain bling said wagwan goin i wet gyal rain blaow cuh run down rain splash right wrist left wrist rain bling said wagwan goin huh i wet gyal rain blaow woo', 'oh sun sure sink down moon slowli rise old world must still spin round i still love close eye close eye alright i know love song i sing blue anymor oh i sing song sing song i gone', 'ooh babi i feel right music sound better love might bring us togeth i feel good i feel right music sound better', 'i alon i thrown weight crazi stone i lost care thing i i miss i miss i miss home home', 'hous keep win i got wildcard sleev love start give lemon mix em drink whole wide world stop sing star go dark i keep light soul keep bluebird heart i keep light soul keep bluebird heart keep bluebird heart ooh bluebird sing ooh', 'get dad tell old joke laugh jack coke hope one day half funni count bless thank star caus end love give sure hell money', 'would know name i saw heaven would i saw heaven i must strong carri caus i know i belong heaven would hold hand i saw heaven would help stand i saw heaven i find way night day caus i know i stay heaven', 'everi step i take everi move i make everi singl day everi time i pray i miss thinkin day went away life take bond break i miss', 'come rain fall star drench pain becom memori rest never forget i lost wake septemb end summer come pass innoc never last wake septemb end', 'i seen fire i seen rain i seen sunni day i thought would never end i seen lone time i could not find friend i alway thought i see', 'girl angel darl angel closer peep babi shorti angel darl angel girl friend i need ladi', 'tomorrow never come know much i love i tri everi way show everi day one time earth must face world without love i gave past gonna enough last tomorrow never come', 'tick away moment make dull day fritter wast hour offhand way kick around piec ground hometown wait someon someth show way tire lie sunshin stay home watch rain young life long time kill today one day find ten year got behind one told run miss start gun', 'well show statu told pray built templ lock away aw never told price pay thing might done good die young i said good die young good die young', 'leav must know belov leav rememb i afraid howev could not rosi light strang i see hand come mirror point light point light never see put feather arm', 'i die lay rest gonna go place best i lay down die go spirit sky', 'mama take badg i use anymor gettin dark dark see i feel i knock heaven door', 'sing sing year sing laughter sing tear sing today mayb tomorrow good lord take away yeah sing sing year sing laughter sing tear sing today mayb tomorrow good lord take away dream dream dream dream dream come true', 'long long time ago i still rememb music use make smile i knew i chanc i could make peopl danc mayb happi', 'one day one time one sunset mayb i satisfi i know would leav wish still one day one day', 'take one moment say goodby plan fear like habit run like rabbit away screen door unknown i want love i want find resid high i find caus i wanna save i wanna tempt tell i aliv let prove i live die hear voic know name i', 'bright morn life i fli away home god celesti shore i fli away i fli away oh glori i fli away morn i die hallelujah i fli away', 'end world know time i time alon end world know time i time alon end world know i feel fine time i time alon', 'oh i i die arm tonight must someth said i die arm tonight oh i i die arm tonight must kind kiss i walk away i walk away', 'i lift head look said hold darl littl i held close i kiss last kiss i found love i knew i miss gone even though i hold tight i lost love life night oh oh babi lord took away gone heaven i got good i see babi i leav world', 'around home town tri track down say want bring guilti kill deputi life deputi i say i shot sheriff i swear self defens i shot sheriff say capit offens', 'valentin done gone romeo juliet togeth etern romeo juliet men women everyday like romeo juliet men women everyday redefin happi anoth come everyday like come babi fear reaper babi take hand fear reaper abl fli fear reaper babi i man', 'i not frighten die time i mind i frighten die reason gotta go sometim hear whisper die', 'sweetheart gone i lone said i i start drink past time drivin nail coffin i drivin nail coffin everi time i drink bottl booz i drive nail coffin lord i drive nail', 'teddi snif glue twelv year old fell roof east two nine cathi eleven pull plug twenti six red bottl wine bobbi got leukemia fourteen year old look like sixti five die friend mine', 'live easi love free season ticket one way ride askin nothin leav takin everythin stride need reason need rhyme nothin i rather go down parti time friend gonna i highway hell highway hell highway hell i highway hell', 'think i go get along without gone took everyth i kick happi satisfi long stand heat doorway bullet rip sound beat look', 'love mine someday die i close behind i follow dark blind light tunnel gate white hand clasp tight wait hint spark', 'i one glori one strength beauti face without name long beauti smile hide pain', 'hey matter tell truth i laugh word cruel unkind guy fool cross line', 'i went skydiv i went rocki mountain climb i went second bull name fumanchu i love deeper i spoke sweeter i gave forgiv i deni said someday i hope get chanc live like die like tomorrow gift got etern think', 'broken heart peopl live world agre answer let though may part still chanc see answer let let let let let answer let', 'i die young buri satin lay down bed rose sink river dawn send away word love song', 'woah love darl i hunger touch long lone time time goe slowli time much still mine i need love i need love god speed love', 'i saw light fade sky wind i heard sigh snowflak cover fallen brother i say last goodby memori i hold bless i go turn last path lead home though road take i cannot tell came way come day bid farewel i bid fond farewel', 'darl anyth i felt everyth i want i think i find someon worth wait year heartbreak i know i found one i love i love way never find right thing say sit still hour day i love let run away us enough i get nervou i look eye butterfli stop fall', 'rememb though i say goodby rememb let make cri ever i far away i hold heart i sing secret song night apart rememb though i travel far rememb time hear sad guitar know i way i arm rememb', 'day i die i spill heart day i die i spill heart year go i race clock die right know i die i die', 'carri carri though dead gone believ memori carri carri heart i contain anthem explain', 'thing not use miss one insid deathli loss real i cannot stand hell i feel empti fill point agoni grow dark take dawn i gone one save late i think think i even tri yesterday seem though never exist death greet warm i say goodby bye', 'i miss miss bad i forget oh sad i hope hear i rememb clearli', 'i readi die ye i readi nah gonna kill ass yet gonna make suffer die motherfuck die motherfuck die', 'mayb anoth life i could find pull away time i deal unfair feel feel like heaven far away feel yeah feel like world grown cold gone away', 'i without babi still lone mind i think babi i dream time i without babi still dream tonight yeah', 'i wanna feel better i wanna not rememb i alway see face shadow haunt place i laugh i cri shake fist sky i not say goodby', 'friend year imag red blew motherfuck head confid death insecur men fall unreal unreal unreal make decis death everyon around plead fli peac i hope friend man avoid meant meant even realli want', 'heard news dead one ever much nice say i think never like anyway oh take hospit bed grand exactli plan great dead oh dead', 'tie knot tie noos lie love truth coffin built two left skin bone i still love rest peac rest dark light i hold close i hold tight forev forev forev close eye one last time tonight fall asleep i pray soul keep keep', 'i wanna die wanna scream mad left behind million tear sad night night i grope not side', 'i see everi shade everi moment i breath came silent wander travel distant shore i life learn die i choic i lost voic i tear broke fear i return death i turn human like swan i could bear burden eas never wit heartless diseas wound time neglect', 'alic frighten alic scare i kill birth i shoot final scene basement trap insan alison hell look alison hell i close door alison hell shall dwell alison hell alic dwell hell', 'time tell power mind make war fun treat peopl like pawn chess wait till judgement day come yeah dark world stop turn ash bodi burn war pig power hand god struck hour', 'bela lugosi dead bela lugosi dead undead undead undead undead undead undead virgin bride file past tomb strewn time dead flower bereft deathli bloom alon darken room count', 'month chang year pass felt like day whole life i one dream i see grey horizon sun break monotoni dream devoid colour devoid sound i greet blank face drone grind gear grey machin', 'leav down lost wave hey hey hey god explain draconian love shed draconian love shed draconian love i go sell love fieri rain angel explain draconian love', 'oh shed tear loss innocens forsaken spirit ach us cri heart surrend pain solitud left behind behold pain sorrow world dream place away nightmar give us love uniti heart night death come near us give us life i world pain i better dead give love give death', 'two inde blest treat delight give prais blood bled grant rose dead grant rose dead', 'wait long moment come anxiou togeth togeth death die tonight love babi join death die babi join death die tonight love babi join death world cruel place lose live tear us apart let death bless', 'i stay forev love softli spoken word gave even death love goe say i crazi love oh love bond hold side oh love know leav hear sing', 'i tri kill pain brought much i lay die i pour crimson regret betray i die pray bleed scream i lost save i lost', 'i give i possess i bear cross turn curs break bittersweet spell lost arm destini bittersweet i want oh i want i need i need', 'well i reach place i stay awak i got leav babi heart break i go i go i gone come babi caus i tell gotta believ gotta give one kiss', 'lord i danc danc danc free danc danc danc free danc lord keep hand', 'moon rise moon rise light eye gone daybreak daybreak sing made ach gone ride train without tonight train keep move black smoke scorch even sky million star shine us like everi soul live dead gather togeth god sing hymn bone', 'sometim doin simpl thing around hous mayb think smile know i tie like button blous keep heart hold thought take dream touch i fall view winter come keep fire lit i right next', 'time die want nobodi mourn i want take bodi home well well well i die easi well well well i die easi jesu gotta make sure know jesu gotta make jesu gonna make die bed', 'legend live chippewa down big lake call gitch gume lake said never give dead sky novemb turn gloomi load iron ore twenti six thousand ton edmund fitzgerald weigh empti good ship true bone chew gale novemb came earli', 'pain disappear natur circuitri drown i hear escap new conscious know use feel blood stop pump left decay know made wire even i right i far away', 'gonna put down right strip gonna put down vega strip', 'i scream vain oh pleas miss lane leav pain went walk citi neon light fear disguis warp seath pressur line graceless heir intang price tri hard find right', 'danc danc danc danc danc radio danc danc danc danc danc radio danc danc danc danc danc radio danc danc danc danc danc radio', 'stomp line intern sand feed blood drink habit eleph man quench thirst black water rise take around toward burn horizon yeah motherfuck let take ride rollin round irat someon got die trick treat die need roll dice leav caus mile pure luck warm bag guaran fuck teed someon bleed guaran fuck teed someon bleed', 'say end near say see armageddon soon i certainli hope i sure could use vacat bullshit three ring circu sideshow freak hopeless fuck hole call l way fix flush away fuck time fuck day learn swim i see down arizona bay', 'eye like pisc i weak i lock insid heart shape box week i drawn magnet tar pit trap i wish i could eat cancer turn black', 'fade man i gotta let i crazi scream noth ever come i keep feel lost i never find way i not thank unless truth pour give courag beat down time laugh i funni i hate insid i hate insid', 'tug rhythm vision that head tug beat sight lie delight new understand someth littl evil make unmistak nois i hear unmistak sound i know well spent sigh look eye spent sweat look face like sweet revel sweet surrend sweet revel sweet think think think', 'pain pleas end pain i submit whoever caus pain sens i enjoy agoni subconsci i arous fuck i fuck dead sacr ground i still tread never underestim immort', 'let go fuck crazi end friend satan come round bend peopl run caus scare peopl better go bewar', 'franki teardrop twenti year old franki marri got kid work factori work seven five tri surviv well let hear franki franki franki', 'come daddi come daddi', 'hello mr krinkl today seem rumor team might move away i sentiment i not one cri', 'benefit mr kite show tonight trampolin henderson late pablo fanqu fair scene men hors hoop garter lastli hogshead real fire way mr k challeng world', 'either way turn i open skull i climb wall alway best light alway better outsid fifteen blow back head fifteen blow mind', 'relax belong i fill mouth dirt relax never leav i take second digit love first i bare breath i find fascin favorit lay down sleep i stop love', 'wood eat woman dump honey bodi mud dress float down well assum shape bodi littl girl yeah i recogn girl stumbl time last loneli i could not stand touch one only deep wood', 'i knew nigga whose real name william primari concern make million illest hustler world ever seen use fuck moviestar sniff coke dream corrupt young mind age', 'die burn waist arm ear burn eyelash burn hold thing even medic advanc end sight hamburg ladi want tell claim mind doubl play lay prope chair leav burn waist down eat life tube', 'close midnight someth evil lurk dark moonlight see sight almost stop heart tri scream terror take sound make start freez horror look right eye paralyz', 'boy girl everi age like see someth strang come us see town halloween halloween halloween pumpkin scream dead night halloween everybodi make scene trick treat til neighbor gonna die fright town everybodi scream town halloween', 'i look window mani sight see i look window mani differ peopl strang sure strang', 'town come like ghost town must youth fight govern leav youth shelf place come like ghost town job found countri go peopl get angri', 'i averag man averag life i work hey hell i pay price i want left alon averag home i alway feel like i twilight zone i alway feel like somebodi watchin i privaci i alway feel like somebodi watchin dream', 'got bed wit name wit name got kiss wit name wit name love good love down turn down got bed wit name wit name', 'step two us nobodi know us get car like skrrt stayin night order pad thai gon sleep til noon makeup bathtub bubbl bubbl ooh pleasur feel like never act regular click click click post drip drip drip gold quick quick quick let go kiss take cloth imagin world like imagin world like go like til i sleep chest love face fit good neck imagin world like imagin world', 'i get tire show get tire control yuh keep tell let go i realli let go i say yuh yuh i keep give peopl blank stare yeah i differ not yuh like someth shakespear i realli not not i tri fight energi everytim i think i free yeah get high call regular i get weak fall like teenag oh god keep bring back', 'darl i love til babi heart could still fall hard i think bout peopl fall love mysteri way mayb touch hand oh i fall love everi singl day i wanna tell i honey take love arm kiss light thousand star place head beat heart i think loud mayb found love right', 'i put heart hand learn lesson teach matter wherev i not hard reach given best gift i ever known give purpos everyday give purpos everi way oh everyth oh everyth', 'well let tell stori girl boy fell love best friend around feel noth joy alreadi broken made blind could never believ love would ever treat right know i love not awar smile face i goin nowher i make happi i see smile i want tell long gonna make fall love i know got wall wrap way around heart scare oh love fli unless let fli unless let fall', 'rememb break down front door crawlin front door rememb tri best friend i tire last friend follow home feell know make hard alon make hard alon i still look keep come back keep come back', 'found i feel alon found i', 'purpos dream night someon pleas tell i wonder i see mansion hill perfect woman i know real daydream i day dreamer daydream woman i seem sleep enough lucidli float life', 'i need i need i need i need sure', 'i know i think i like put down someth way say alright want i want', 'i bottom ocean i bottom sea i know i make back home i stuck dream', 'look good yeah look sweet hey lookin good enough eat coldest kiss call ice cream catch fridg right ice look good yeah look sweet babi deserv treat diamond wrist call ice cream doubl dip caus i know like', 'got everi right beauti life c mon say say not perfect say not worth say one hurt trust price beauti say not pretti say not beauti say funni thing noth funni tell em mean keep white truth like work art never get see light keep beneath star let touch sky', 'i one call away i save day superman got noth i one call away call babi need friend i wanna give love c mon c mon c mon reach take chanc matter go know not alon i one call away', 'start kiss mama couch noth seriou i know caught feel got realli real good true i guess i thought yeah i run away run away run away oh love everyth everyth everyth i know gettin late gettin late gettin late i still way way yeah i know i said goodby babi said i touch i feel like i cheat i thought i better i found someon new i touch i feel like i cheat', 'i warn i play fire i tell i one time trust good health mess heart reason rememb told i worri oversea tour okay without said nothin hide left long ago i known lie']\n"
          ]
        }
      ]
    },
    {
      "cell_type": "markdown",
      "metadata": {
        "id": "hV0uWOYCQWKF"
      },
      "source": [
        "Creating the bag of words modal"
      ]
    },
    {
      "cell_type": "code",
      "metadata": {
        "id": "PRT_E8GkQY4x"
      },
      "source": [
        "from sklearn.feature_extraction.text import CountVectorizer\n",
        "cv = CountVectorizer(max_features = 475)\n",
        "X = cv.fit_transform(corpus).toarray()\n",
        "y = modifiedDF.iloc[0:799, -1].values"
      ],
      "execution_count": 634,
      "outputs": []
    },
    {
      "cell_type": "markdown",
      "metadata": {
        "id": "PmG9-Z7PQyea"
      },
      "source": [
        "Splitting the dataset into the Training set and Test set"
      ]
    },
    {
      "cell_type": "code",
      "metadata": {
        "id": "PShXt3tuQzIx"
      },
      "source": [
        "from sklearn.model_selection import train_test_split\n",
        "X_train, X_test, y_train, y_test = train_test_split(X, y, test_size = 0.2, random_state = 10)"
      ],
      "execution_count": 635,
      "outputs": []
    },
    {
      "cell_type": "markdown",
      "source": [
        "Naive Bayes classifier for multinomial models"
      ],
      "metadata": {
        "id": "urgEM2XEp7RT"
      }
    },
    {
      "cell_type": "code",
      "source": [
        "from sklearn.naive_bayes import MultinomialNB\n",
        "from sklearn.pipeline import Pipeline\n",
        "from sklearn.feature_extraction.text import TfidfTransformer\n",
        "\n",
        "nb = Pipeline([('tfidf', TfidfTransformer()),\n",
        "               ('clf', MultinomialNB()),\n",
        "              ])\n",
        "nb.fit(X_train, y_train)"
      ],
      "metadata": {
        "colab": {
          "base_uri": "https://localhost:8080/"
        },
        "id": "M-SKYE0dp8dB",
        "outputId": "6974e55e-d9eb-4959-e5f3-d510af40684c"
      },
      "execution_count": 636,
      "outputs": [
        {
          "output_type": "execute_result",
          "data": {
            "text/plain": [
              "Pipeline(steps=[('tfidf', TfidfTransformer()), ('clf', MultinomialNB())])"
            ]
          },
          "metadata": {},
          "execution_count": 636
        }
      ]
    },
    {
      "cell_type": "code",
      "source": [
        "%%time\n",
        "from sklearn.metrics import classification_report\n",
        "y_pred = nb.predict(X_test)\n",
        "\n",
        "print('accuracy %s' % accuracy_score(y_pred, y_test))\n",
        "print(classification_report(y_test, y_pred,target_names=my_emotions))"
      ],
      "metadata": {
        "colab": {
          "base_uri": "https://localhost:8080/"
        },
        "id": "BQosWJnArI_i",
        "outputId": "155300db-4bc0-4811-b764-27a4105654f9"
      },
      "execution_count": 637,
      "outputs": [
        {
          "output_type": "stream",
          "name": "stdout",
          "text": [
            "accuracy 0.56875\n",
            "              precision    recall  f1-score   support\n",
            "\n",
            "       Happy       1.00      0.23      0.38        13\n",
            "         Sad       0.83      0.33      0.48        15\n",
            "        Calm       0.53      0.42      0.47        19\n",
            " Inspiration       0.53      0.53      0.53        32\n",
            "       Angry       0.64      0.47      0.54        30\n",
            "        Love       0.54      0.86      0.66        51\n",
            "\n",
            "    accuracy                           0.57       160\n",
            "   macro avg       0.68      0.47      0.51       160\n",
            "weighted avg       0.62      0.57      0.55       160\n",
            "\n",
            "CPU times: user 12.2 ms, sys: 1.02 ms, total: 13.2 ms\n",
            "Wall time: 14.4 ms\n"
          ]
        }
      ]
    },
    {
      "cell_type": "markdown",
      "source": [
        "Linear support vector machine"
      ],
      "metadata": {
        "id": "yZc_W4dJrkKQ"
      }
    },
    {
      "cell_type": "code",
      "source": [
        "from sklearn.linear_model import SGDClassifier\n",
        "\n",
        "sgd = Pipeline([('tfidf', TfidfTransformer()),\n",
        "                ('clf', SGDClassifier(loss='hinge', penalty='l2',alpha=1e-3, random_state=10, max_iter=5, tol=None)),\n",
        "               ])\n",
        "sgd.fit(X_train, y_train)"
      ],
      "metadata": {
        "colab": {
          "base_uri": "https://localhost:8080/"
        },
        "id": "SeqGwl_WrlBu",
        "outputId": "7dec8a98-5407-4e90-af52-aa87f7f79096"
      },
      "execution_count": 638,
      "outputs": [
        {
          "output_type": "execute_result",
          "data": {
            "text/plain": [
              "Pipeline(steps=[('tfidf', TfidfTransformer()),\n",
              "                ('clf',\n",
              "                 SGDClassifier(alpha=0.001, max_iter=5, random_state=10,\n",
              "                               tol=None))])"
            ]
          },
          "metadata": {},
          "execution_count": 638
        }
      ]
    },
    {
      "cell_type": "code",
      "source": [
        "%%time\n",
        "\n",
        "y_pred = sgd.predict(X_test)\n",
        "\n",
        "print('accuracy %s' % accuracy_score(y_pred, y_test))\n",
        "print(classification_report(y_test, y_pred,target_names=my_emotions))"
      ],
      "metadata": {
        "colab": {
          "base_uri": "https://localhost:8080/"
        },
        "id": "_CzIlS_pruF5",
        "outputId": "1a0cff91-50fa-4687-9ec5-71cd65546942"
      },
      "execution_count": 639,
      "outputs": [
        {
          "output_type": "stream",
          "name": "stdout",
          "text": [
            "accuracy 0.51875\n",
            "              precision    recall  f1-score   support\n",
            "\n",
            "       Happy       0.73      0.62      0.67        13\n",
            "         Sad       0.46      0.40      0.43        15\n",
            "        Calm       0.33      0.53      0.41        19\n",
            " Inspiration       0.50      0.47      0.48        32\n",
            "       Angry       0.48      0.50      0.49        30\n",
            "        Love       0.64      0.57      0.60        51\n",
            "\n",
            "    accuracy                           0.52       160\n",
            "   macro avg       0.53      0.51      0.51       160\n",
            "weighted avg       0.54      0.52      0.52       160\n",
            "\n",
            "CPU times: user 15.2 ms, sys: 2.27 ms, total: 17.4 ms\n",
            "Wall time: 19.5 ms\n"
          ]
        }
      ]
    },
    {
      "cell_type": "markdown",
      "source": [
        "Logistic regression"
      ],
      "metadata": {
        "id": "nCOAKEZ4r5Vv"
      }
    },
    {
      "cell_type": "code",
      "source": [
        "from sklearn.linear_model import LogisticRegression\n",
        "\n",
        "logreg = Pipeline([('tfidf', TfidfTransformer()),\n",
        "                ('clf', LogisticRegression(n_jobs=2, C=1e5)),\n",
        "               ])\n",
        "logreg.fit(X_train, y_train)"
      ],
      "metadata": {
        "colab": {
          "base_uri": "https://localhost:8080/"
        },
        "id": "OSC4Y7dcr54h",
        "outputId": "0076124f-55e8-4248-e590-e43bc2973410"
      },
      "execution_count": 640,
      "outputs": [
        {
          "output_type": "execute_result",
          "data": {
            "text/plain": [
              "Pipeline(steps=[('tfidf', TfidfTransformer()),\n",
              "                ('clf', LogisticRegression(C=100000.0, n_jobs=2))])"
            ]
          },
          "metadata": {},
          "execution_count": 640
        }
      ]
    },
    {
      "cell_type": "code",
      "source": [
        "%%time\n",
        "\n",
        "y_pred = logreg.predict(X_test)\n",
        "\n",
        "print('accuracy %s' % accuracy_score(y_pred, y_test))\n",
        "print(classification_report(y_test, y_pred,target_names=my_emotions))"
      ],
      "metadata": {
        "colab": {
          "base_uri": "https://localhost:8080/"
        },
        "id": "UFDlv3RUsDJS",
        "outputId": "a04a3c82-b18e-412b-8263-a94e333640dd"
      },
      "execution_count": 641,
      "outputs": [
        {
          "output_type": "stream",
          "name": "stdout",
          "text": [
            "accuracy 0.5\n",
            "              precision    recall  f1-score   support\n",
            "\n",
            "       Happy       0.50      0.62      0.55        13\n",
            "         Sad       0.43      0.40      0.41        15\n",
            "        Calm       0.36      0.47      0.41        19\n",
            " Inspiration       0.53      0.50      0.52        32\n",
            "       Angry       0.41      0.40      0.41        30\n",
            "        Love       0.63      0.57      0.60        51\n",
            "\n",
            "    accuracy                           0.50       160\n",
            "   macro avg       0.48      0.49      0.48       160\n",
            "weighted avg       0.51      0.50      0.50       160\n",
            "\n",
            "CPU times: user 15.1 ms, sys: 221 µs, total: 15.3 ms\n",
            "Wall time: 16.2 ms\n"
          ]
        }
      ]
    },
    {
      "cell_type": "markdown",
      "source": [
        "BOW with keras"
      ],
      "metadata": {
        "id": "GfphFs5AspDK"
      }
    },
    {
      "cell_type": "code",
      "source": [
        "import itertools\n",
        "import os\n",
        "\n",
        "%matplotlib inline\n",
        "import matplotlib.pyplot as plt\n",
        "import numpy as np\n",
        "import pandas as pd\n",
        "import tensorflow as tf\n",
        "\n",
        "from sklearn.preprocessing import LabelBinarizer, LabelEncoder\n",
        "from sklearn.metrics import confusion_matrix\n",
        "\n",
        "from tensorflow import keras\n",
        "from keras.models import Sequential\n",
        "from keras.layers import Dense, Activation, Dropout\n",
        "from keras.preprocessing import text, sequence\n",
        "from keras import utils"
      ],
      "metadata": {
        "id": "NlKq-Msvspqk"
      },
      "execution_count": 642,
      "outputs": []
    },
    {
      "cell_type": "code",
      "source": [
        "train_size = int(len(modifiedDF) * .7)\n",
        "print (\"Train size: %d\" % train_size)\n",
        "print (\"Test size: %d\" % (len(modifiedDF) - train_size))"
      ],
      "metadata": {
        "colab": {
          "base_uri": "https://localhost:8080/"
        },
        "id": "CGYgmIkLstyt",
        "outputId": "2bf69692-efa7-47fe-d4d8-206591726025"
      },
      "execution_count": 643,
      "outputs": [
        {
          "output_type": "stream",
          "name": "stdout",
          "text": [
            "Train size: 480\n",
            "Test size: 320\n"
          ]
        }
      ]
    },
    {
      "cell_type": "code",
      "source": [
        "train_posts = modifiedDF['Chorus'][:train_size]\n",
        "train_tags = modifiedDF['Emotion'][:train_size]\n",
        "\n",
        "test_posts = modifiedDF['Chorus'][train_size:]\n",
        "test_tags = modifiedDF['Emotion'][train_size:]"
      ],
      "metadata": {
        "id": "NXa3A_has8Fa"
      },
      "execution_count": 644,
      "outputs": []
    },
    {
      "cell_type": "code",
      "source": [
        "max_words = 1000\n",
        "tokenize = text.Tokenizer(num_words=max_words, char_level=False)"
      ],
      "metadata": {
        "id": "lDjWatfntLuB"
      },
      "execution_count": 645,
      "outputs": []
    },
    {
      "cell_type": "code",
      "source": [
        "tokenize.fit_on_texts(train_posts) # only fit on train\n",
        "x_train = tokenize.texts_to_matrix(train_posts)\n",
        "x_test = tokenize.texts_to_matrix(test_posts)"
      ],
      "metadata": {
        "id": "gzaHH9VetOkd"
      },
      "execution_count": 646,
      "outputs": []
    },
    {
      "cell_type": "code",
      "source": [
        "encoder = LabelEncoder()\n",
        "encoder.fit(train_tags)\n",
        "y_train = encoder.transform(train_tags)\n",
        "y_test = encoder.transform(test_tags)"
      ],
      "metadata": {
        "id": "bd5sbAzwtRyv"
      },
      "execution_count": 647,
      "outputs": []
    },
    {
      "cell_type": "code",
      "source": [
        "from tensorflow.keras.utils import to_categorical"
      ],
      "metadata": {
        "id": "JEFivDTctjbu"
      },
      "execution_count": 648,
      "outputs": []
    },
    {
      "cell_type": "code",
      "source": [
        "num_classes = np.max(y_train) + 1\n",
        "y_train = to_categorical(y_train, num_classes)\n",
        "y_test = to_categorical(y_test, num_classes)"
      ],
      "metadata": {
        "id": "bdp60lCAtVBM"
      },
      "execution_count": 649,
      "outputs": []
    },
    {
      "cell_type": "code",
      "source": [
        "print('x_train shape:', x_train.shape)\n",
        "print('x_test shape:', x_test.shape)\n",
        "print('y_train shape:', y_train.shape)\n",
        "print('y_test shape:', y_test.shape)"
      ],
      "metadata": {
        "colab": {
          "base_uri": "https://localhost:8080/"
        },
        "id": "31GPW-CPtsWJ",
        "outputId": "eef97b6d-f103-4207-9819-d92b15c21ced"
      },
      "execution_count": 650,
      "outputs": [
        {
          "output_type": "stream",
          "name": "stdout",
          "text": [
            "x_train shape: (480, 1000)\n",
            "x_test shape: (320, 1000)\n",
            "y_train shape: (480, 6)\n",
            "y_test shape: (320, 6)\n"
          ]
        }
      ]
    },
    {
      "cell_type": "code",
      "source": [
        "# batch_size = 50\n",
        "# epochs = 100 # Accuracy - 46.25\n",
        "\n",
        "# batch_size = 50\n",
        "# epochs = 50 #Accuracy - 43.75 (validation split - 0.2)\n",
        "\n",
        "# batch_size = 50\n",
        "# epochs = 10 #45.83\n",
        "\n",
        "# batch_size = 50\n",
        "# epochs = 2 # 34.58\n",
        "\n",
        "batch_size = 50\n",
        "epochs = 20 # 47.91\n",
        "\n",
        "# batch_size = 100\n",
        "# epochs = 20 # 46.66\n",
        "\n",
        "# batch_size = 50\n",
        "# epochs = 500 # 44.99"
      ],
      "metadata": {
        "id": "EqcKh-dst2-d"
      },
      "execution_count": 651,
      "outputs": []
    },
    {
      "cell_type": "code",
      "source": [
        "# Build the model\n",
        "model = Sequential()\n",
        "model.add(Dense(512, input_shape=(max_words,)))\n",
        "model.add(Activation('relu'))\n",
        "model.add(Dropout(0.5))\n",
        "model.add(Dense(num_classes))\n",
        "model.add(Activation('softmax'))\n",
        "\n",
        "model.compile(loss='categorical_crossentropy',\n",
        "              optimizer='adam',\n",
        "              metrics=['accuracy'])"
      ],
      "metadata": {
        "id": "JKdgeDrFt7k3"
      },
      "execution_count": 652,
      "outputs": []
    },
    {
      "cell_type": "code",
      "source": [
        "history = model.fit(x_train, y_train,\n",
        "                    batch_size=batch_size,\n",
        "                    epochs=epochs,\n",
        "                    verbose=1,\n",
        "                    validation_split=0.2)"
      ],
      "metadata": {
        "colab": {
          "base_uri": "https://localhost:8080/"
        },
        "id": "v2Xk9IMRuBFI",
        "outputId": "25ca169d-57d2-44fc-cbb3-d44ba0e6773d"
      },
      "execution_count": 653,
      "outputs": [
        {
          "output_type": "stream",
          "name": "stdout",
          "text": [
            "Epoch 1/20\n",
            "8/8 [==============================] - 1s 27ms/step - loss: 1.7546 - accuracy: 0.2396 - val_loss: 1.8090 - val_accuracy: 0.2604\n",
            "Epoch 2/20\n",
            "8/8 [==============================] - 0s 8ms/step - loss: 1.4609 - accuracy: 0.5104 - val_loss: 1.8062 - val_accuracy: 0.2083\n",
            "Epoch 3/20\n",
            "8/8 [==============================] - 0s 8ms/step - loss: 1.2508 - accuracy: 0.6406 - val_loss: 1.7520 - val_accuracy: 0.3021\n",
            "Epoch 4/20\n",
            "8/8 [==============================] - 0s 8ms/step - loss: 1.0371 - accuracy: 0.7682 - val_loss: 1.6935 - val_accuracy: 0.3125\n",
            "Epoch 5/20\n",
            "8/8 [==============================] - 0s 8ms/step - loss: 0.8647 - accuracy: 0.8594 - val_loss: 1.6541 - val_accuracy: 0.3438\n",
            "Epoch 6/20\n",
            "8/8 [==============================] - 0s 9ms/step - loss: 0.7194 - accuracy: 0.9062 - val_loss: 1.6167 - val_accuracy: 0.3646\n",
            "Epoch 7/20\n",
            "8/8 [==============================] - 0s 8ms/step - loss: 0.5788 - accuracy: 0.9505 - val_loss: 1.5969 - val_accuracy: 0.3646\n",
            "Epoch 8/20\n",
            "8/8 [==============================] - 0s 9ms/step - loss: 0.4656 - accuracy: 0.9766 - val_loss: 1.5777 - val_accuracy: 0.3750\n",
            "Epoch 9/20\n",
            "8/8 [==============================] - 0s 8ms/step - loss: 0.3763 - accuracy: 0.9792 - val_loss: 1.5486 - val_accuracy: 0.3854\n",
            "Epoch 10/20\n",
            "8/8 [==============================] - 0s 10ms/step - loss: 0.3113 - accuracy: 0.9870 - val_loss: 1.5730 - val_accuracy: 0.4167\n",
            "Epoch 11/20\n",
            "8/8 [==============================] - 0s 8ms/step - loss: 0.2390 - accuracy: 0.9948 - val_loss: 1.5846 - val_accuracy: 0.3958\n",
            "Epoch 12/20\n",
            "8/8 [==============================] - 0s 9ms/step - loss: 0.1952 - accuracy: 0.9948 - val_loss: 1.5682 - val_accuracy: 0.3958\n",
            "Epoch 13/20\n",
            "8/8 [==============================] - 0s 8ms/step - loss: 0.1571 - accuracy: 1.0000 - val_loss: 1.5830 - val_accuracy: 0.3958\n",
            "Epoch 14/20\n",
            "8/8 [==============================] - 0s 8ms/step - loss: 0.1459 - accuracy: 1.0000 - val_loss: 1.6161 - val_accuracy: 0.4167\n",
            "Epoch 15/20\n",
            "8/8 [==============================] - 0s 11ms/step - loss: 0.1134 - accuracy: 1.0000 - val_loss: 1.6400 - val_accuracy: 0.4375\n",
            "Epoch 16/20\n",
            "8/8 [==============================] - 0s 8ms/step - loss: 0.0986 - accuracy: 0.9974 - val_loss: 1.6555 - val_accuracy: 0.4062\n",
            "Epoch 17/20\n",
            "8/8 [==============================] - 0s 8ms/step - loss: 0.0836 - accuracy: 1.0000 - val_loss: 1.6666 - val_accuracy: 0.3958\n",
            "Epoch 18/20\n",
            "8/8 [==============================] - 0s 8ms/step - loss: 0.0749 - accuracy: 0.9974 - val_loss: 1.6825 - val_accuracy: 0.3958\n",
            "Epoch 19/20\n",
            "8/8 [==============================] - 0s 8ms/step - loss: 0.0630 - accuracy: 1.0000 - val_loss: 1.7005 - val_accuracy: 0.3958\n",
            "Epoch 20/20\n",
            "8/8 [==============================] - 0s 10ms/step - loss: 0.0552 - accuracy: 1.0000 - val_loss: 1.7150 - val_accuracy: 0.4167\n"
          ]
        }
      ]
    },
    {
      "cell_type": "code",
      "source": [
        "score = model.evaluate(x_test, y_test,\n",
        "                       batch_size=batch_size, verbose=1)\n",
        "print('Test accuracy:', score[1])"
      ],
      "metadata": {
        "colab": {
          "base_uri": "https://localhost:8080/"
        },
        "id": "D8qrga93uFlw",
        "outputId": "c56608cb-ab83-4198-c303-9c2d1496d54b"
      },
      "execution_count": 654,
      "outputs": [
        {
          "output_type": "stream",
          "name": "stdout",
          "text": [
            "7/7 [==============================] - 0s 3ms/step - loss: 1.7241 - accuracy: 0.4031\n",
            "Test accuracy: 0.40312498807907104\n"
          ]
        }
      ]
    }
  ]
}