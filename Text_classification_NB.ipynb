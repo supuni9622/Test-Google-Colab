{
  "nbformat": 4,
  "nbformat_minor": 0,
  "metadata": {
    "colab": {
      "name": "Text_classification_NB.ipynb",
      "provenance": [],
      "authorship_tag": "ABX9TyPhXPgesXcsm8Lu8nuWF69S",
      "include_colab_link": true
    },
    "kernelspec": {
      "name": "python3",
      "display_name": "Python 3"
    },
    "language_info": {
      "name": "python"
    }
  },
  "cells": [
    {
      "cell_type": "markdown",
      "metadata": {
        "id": "view-in-github",
        "colab_type": "text"
      },
      "source": [
        "<a href=\"https://colab.research.google.com/github/supuni9622/Test-Google-Colab/blob/main/Text_classification_NB.ipynb\" target=\"_parent\"><img src=\"https://colab.research.google.com/assets/colab-badge.svg\" alt=\"Open In Colab\"/></a>"
      ]
    },
    {
      "cell_type": "markdown",
      "metadata": {
        "id": "D7LPhjSS5tCa"
      },
      "source": [
        "Loading the necessary libraries"
      ]
    },
    {
      "cell_type": "code",
      "metadata": {
        "colab": {
          "base_uri": "https://localhost:8080/"
        },
        "id": "fAfOXKKI5ntu",
        "outputId": "49d7c640-7390-4c46-9e14-8c6d4c2e6e9c"
      },
      "source": [
        "%matplotlib inline\n",
        "import numpy as np\n",
        "import matplotlib.pyplot as plt\n",
        "import seaborn as sns; sns.set()\n",
        "from sklearn import datasets\n",
        "news=datasets.fetch_20newsgroups()\n",
        "data = news.target_names\n",
        "data"
      ],
      "execution_count": 12,
      "outputs": [
        {
          "output_type": "execute_result",
          "data": {
            "text/plain": [
              "['alt.atheism',\n",
              " 'comp.graphics',\n",
              " 'comp.os.ms-windows.misc',\n",
              " 'comp.sys.ibm.pc.hardware',\n",
              " 'comp.sys.mac.hardware',\n",
              " 'comp.windows.x',\n",
              " 'misc.forsale',\n",
              " 'rec.autos',\n",
              " 'rec.motorcycles',\n",
              " 'rec.sport.baseball',\n",
              " 'rec.sport.hockey',\n",
              " 'sci.crypt',\n",
              " 'sci.electronics',\n",
              " 'sci.med',\n",
              " 'sci.space',\n",
              " 'soc.religion.christian',\n",
              " 'talk.politics.guns',\n",
              " 'talk.politics.mideast',\n",
              " 'talk.politics.misc',\n",
              " 'talk.religion.misc']"
            ]
          },
          "metadata": {},
          "execution_count": 12
        }
      ]
    },
    {
      "cell_type": "markdown",
      "metadata": {
        "id": "20V8_m-v8Tu-"
      },
      "source": [
        "Defining all the categories"
      ]
    },
    {
      "cell_type": "code",
      "metadata": {
        "id": "0IJgahu88SLP"
      },
      "source": [
        "classes = ['alt.atheism',\n",
        " 'comp.graphics',\n",
        " 'comp.os.ms-windows.misc',\n",
        " 'comp.sys.ibm.pc.hardware',\n",
        " 'comp.sys.mac.hardware',\n",
        " 'comp.windows.x',\n",
        " 'misc.forsale',\n",
        " 'rec.autos',\n",
        " 'rec.motorcycles',\n",
        " 'rec.sport.baseball',\n",
        " 'rec.sport.hockey',\n",
        " 'sci.crypt',\n",
        " 'sci.electronics',\n",
        " 'sci.med',\n",
        " 'sci.space',\n",
        " 'soc.religion.christian',\n",
        " 'talk.politics.guns',\n",
        " 'talk.politics.mideast',\n",
        " 'talk.politics.misc',\n",
        " 'talk.religion.misc']"
      ],
      "execution_count": 13,
      "outputs": []
    },
    {
      "cell_type": "markdown",
      "metadata": {
        "id": "CRY6G3Zb8uV-"
      },
      "source": [
        "Training the data on these categories"
      ]
    },
    {
      "cell_type": "code",
      "metadata": {
        "id": "_LSFbW6W8zr1"
      },
      "source": [
        "train = fetch_20newsgroups(subset=\"train\", categories=classes)"
      ],
      "execution_count": 14,
      "outputs": []
    },
    {
      "cell_type": "markdown",
      "metadata": {
        "id": "HGiWCXkv88yC"
      },
      "source": [
        "Testing the data for these categories"
      ]
    },
    {
      "cell_type": "code",
      "metadata": {
        "id": "moQTwJL79AuW"
      },
      "source": [
        "test = fetch_20newsgroups(subset=\"test\", categories=classes)"
      ],
      "execution_count": 15,
      "outputs": []
    },
    {
      "cell_type": "markdown",
      "metadata": {
        "id": "HN6DC_wM9IjC"
      },
      "source": [
        "Printing training data"
      ]
    },
    {
      "cell_type": "code",
      "metadata": {
        "colab": {
          "base_uri": "https://localhost:8080/"
        },
        "id": "U614d-8h9Lia",
        "outputId": "6ba0ac11-128e-45cc-f4e1-41de2544c532"
      },
      "source": [
        "print(train.data[5])"
      ],
      "execution_count": 16,
      "outputs": [
        {
          "output_type": "stream",
          "name": "stdout",
          "text": [
            "From: dfo@vttoulu.tko.vtt.fi (Foxvog Douglas)\n",
            "Subject: Re: Rewording the Second Amendment (ideas)\n",
            "Organization: VTT\n",
            "Lines: 58\n",
            "\n",
            "In article <1r1eu1$4t@transfer.stratus.com> cdt@sw.stratus.com (C. D. Tavares) writes:\n",
            ">In article <1993Apr20.083057.16899@ousrvr.oulu.fi>, dfo@vttoulu.tko.vtt.fi (Foxvog Douglas) writes:\n",
            ">> In article <1qv87v$4j3@transfer.stratus.com> cdt@sw.stratus.com (C. D. Tavares) writes:\n",
            ">> >In article <C5n3GI.F8F@ulowell.ulowell.edu>, jrutledg@cs.ulowell.edu (John Lawrence Rutledge) writes:\n",
            ">\n",
            ">> >> The massive destructive power of many modern weapons, makes the\n",
            ">> >> cost of an accidental or crimial usage of these weapons to great.\n",
            ">> >> The weapons of mass destruction need to be in the control of\n",
            ">> >> the government only.  Individual access would result in the\n",
            ">> >> needless deaths of millions.  This makes the right of the people\n",
            ">> >> to keep and bear many modern weapons non-existant.\n",
            "\n",
            ">> >Thanks for stating where you're coming from.  Needless to say, I\n",
            ">> >disagree on every count.\n",
            "\n",
            ">> You believe that individuals should have the right to own weapons of\n",
            ">> mass destruction?  I find it hard to believe that you would support a \n",
            ">> neighbor's right to keep nuclear weapons, biological weapons, and nerve\n",
            ">> gas on his/her property.  \n",
            "\n",
            ">> If we cannot even agree on keeping weapons of mass destruction out of\n",
            ">> the hands of individuals, can there be any hope for us?\n",
            "\n",
            ">I don't sign any blank checks.\n",
            "\n",
            "Of course.  The term must be rigidly defined in any bill.\n",
            "\n",
            ">When Doug Foxvog says \"weapons of mass destruction,\" he means CBW and\n",
            ">nukes.  When Sarah Brady says \"weapons of mass destruction\" she means\n",
            ">Street Sweeper shotguns and semi-automatic SKS rifles.  \n",
            "\n",
            "I doubt she uses this term for that.  You are using a quote allegedly\n",
            "from her, can you back it up?\n",
            "\n",
            ">When John\n",
            ">Lawrence Rutledge says \"weapons of mass destruction,\" and then immediately\n",
            ">follows it with:\n",
            "\n",
            ">>> The US has thousands of people killed each year by handguns,\n",
            ">>> this number can easily be reduced by putting reasonable restrictions\n",
            ">>> on them.\n",
            "\n",
            ">...what does Rutledge mean by the term?\n",
            "\n",
            "I read the article as presenting first an argument about weapons of mass\n",
            "destruction (as commonly understood) and then switching to other topics.\n",
            "The first point evidently was to show that not all weapons should be\n",
            "allowed, and then the later analysis was, given this understanding, to\n",
            "consider another class.\n",
            "\n",
            ">cdt@rocket.sw.stratus.com   --If you believe that I speak for my company,\n",
            ">OR cdt@vos.stratus.com        write today for my special Investors' Packet...\n",
            "\n",
            "\n",
            "\n",
            "-- \n",
            "doug foxvog\n",
            "douglas.foxvog@vtt.fi\n",
            "\n"
          ]
        }
      ]
    },
    {
      "cell_type": "markdown",
      "metadata": {
        "id": "yFKfuX179l93"
      },
      "source": [
        "Printing testing data"
      ]
    },
    {
      "cell_type": "code",
      "metadata": {
        "colab": {
          "base_uri": "https://localhost:8080/"
        },
        "id": "LTmnhZwO9n0o",
        "outputId": "eb525cf3-4378-40ac-979e-928e788f061a"
      },
      "source": [
        "print(test.data[5])"
      ],
      "execution_count": 17,
      "outputs": [
        {
          "output_type": "stream",
          "name": "stdout",
          "text": [
            "From: banschbach@vms.ocom.okstate.edu\n",
            "Subject: Re: Candida(yeast) Bloom, Fact or Fiction\n",
            "Organization: OSU College of Osteopathic Medicine\n",
            "Lines: 91\n",
            "Nntp-Posting-Host: vms.ocom.okstate.edu\n",
            "\n",
            "In article <1rp8p1$2d3@usenet.INS.CWRU.Edu>, esd3@po.CWRU.Edu (Elisabeth S. Davidson) writes:\n",
            "> \n",
            "> In a previous article, banschbach@vms.ocom.okstate.edu () says:\n",
            ">>least a few \"enlightened\" physicians practicing in the U.S.  It's really \n",
            ">>too bad that most U.S. medical schools don't cover nutrition because if \n",
            ">>they did, candida would not be viewed as a non-disease by so many in the \n",
            ">>medical profession.\n",
            "> \n",
            "> Case Western Reserve Med School teaches nutrition in its own section as\n",
            "> well as covering it in other sections as they apply (i.e. B12\n",
            "> deficiency in neuro as a cause of neuropathy, B12 deficiency in\n",
            "> hematology as a cause of megaloblastic anemia), yet I sill\n",
            "> hold the viewpoint of mainstream medicine:  candida can cause\n",
            "> mucocutaneous candidiasis, and, in already very sick patients\n",
            "> with damaged immune systems like AIDS and cancer patients,\n",
            "> systemic candida infection.  I think \"The Yeast Connection\" is\n",
            "> a bunch of hooey.  What does this have to do with how well\n",
            "> nutrition is taught, anyway?\n",
            "\n",
            "Elisabeth, let's set the record straight for the nth time, I have not read \n",
            "\"The Yeast Connection\".  So anything that I say is not due to brainwashing \n",
            "by this \"hated\" book.  It's okay I guess to hate the book, by why hate me?\n",
            "Elisabeth, I'm going to quote from Zinsser's Microbiology, 20th Edition.\n",
            "A book that you should be familiar with and not \"hate\". \"Candida species \n",
            "colonize the mucosal surfaces of all humans during birth or shortly \n",
            "thereafter.  The risk of endogenous infection is clearly ever present.  \n",
            "Indeed, candidiasis occurs worldwide and is the most common systemic \n",
            "mycosis.\"  Neutrophils play the main role in preventing a systemic \n",
            "infection(candidiasis) so you would have to have a low neutrophil count or \n",
            "\"sick\" neutrophils to see a systemic infection.  Poor diet and persistent \n",
            "parasitic infestation set many third world residents up for candidiasis.\n",
            "Your assessment of candidiasis in the U.S. is correct and I do not dispute \n",
            "it.\n",
            "\n",
            "What I posted was a discussion of candida blooms, without systemic \n",
            "infection.  These blooms would be responsible for local sites of irritation\n",
            "(GI tract, mouth, vagina and sinus cavity).  Knocking down the bacterial \n",
            "competition for candida was proposed as a possible trigger for candida \n",
            "blooms.  Let me quote from Zinsser's again: \"However, some factors, such as \n",
            "the use of a broad-spectrum antibacterial antibiotic, may predispose to \n",
            "both mucosal and systemic infections\".  I was addressing mucosal infections\n",
            "(I like the term blooms better).  The nutrition course that I teach covers \n",
            "this effect of antibiotic treatment as well as the \"cure\".  I guess that \n",
            "your nutrition course does not, too bad.  \n",
            "\n",
            "\n",
            ">>Here is a brief primer on yeast.  Yeast infections, as they are commonly \n",
            ">>called, are not truely caused by yeasts.  The most common organism responsible\n",
            ">>for this type of infection is Candida albicans or Monilia which is actually a \n",
            ">>yeast-like fungus.  \n",
            "> \n",
            "> Well, maybe I'm getting picky, but I always thought that a yeast\n",
            "> was one form that a fungus could exist in, the other being the\n",
            "> mold form.  Many fungi can occur as either yeasts or molds, \n",
            "> depending on environment.  Candida exibits what is known as\n",
            "> reverse dimorphism - it exists as a mold in the tissues\n",
            "> but exists as a yeast in the environment.  Should we maybe\n",
            "> call it a mold infection?  a fungus infection?  Maybe we\n",
            "> should say it is caused by a mold-like fungus.\n",
            ">  \n",
            ">> \n",
            ">>Martin Banschbach, Ph.D.\n",
            ">>Professor of Biochemistry and Chairman\n",
            ">>Department of Biochemistry and Microbiology\n",
            ">>OSU College of Osteopathic Medicine\n",
            ">>1111 West 17th St.\n",
            ">>Tulsa, Ok. 74107\n",
            ">>\n",
            "> \n",
            "> You're the chairman of Biochem and Micro and you didn't know \n",
            "> that a yeast is a form of a fungus?  (shudder)\n",
            "> Or maybe you did know, and were oversimplifying?\n",
            "\n",
            "My, my Elisabeth, do I detect a little of Steve Dyer in you?  If you \n",
            "noticed my faculty rank, I'm a biochemist, not a microbiologist.\n",
            "Candida is classifed as a fungus(according to Zinsser's).  But, as you point \n",
            "out, it displays dimorphism.  It is capable of producing yeast cells, \n",
            "pseudohyphae and true hyphae.  Elisabeth, you are probably a microbiologist \n",
            "and that makes a lot of sense to you.  To a biochemist, it's a lot of \n",
            "Greek.  So I called it a yeast-like fungus, go ahead and crucify me.\n",
            "\n",
            "You know Elisabeth, I still haven't been able to figure out why such a small \n",
            "little organism like Candida can bring out so much hostility in people in \n",
            "Sci. Med.  And I must admitt that I got sucked into the mud slinging too.\n",
            "I keep hoping that if people will just take the time to think about what \n",
            "I've said, that it will make sense.  I'm not asking anyone here to buy into \n",
            "\"The Yeast Connection\" book because I don't know what's in that book, plain \n",
            "and simple. And to be honest with you, I'm beginning to wish that it was never \n",
            "written.\n",
            "\n",
            "Marty B.\n",
            "\n"
          ]
        }
      ]
    },
    {
      "cell_type": "markdown",
      "metadata": {
        "id": "mw1fPSxY9xf8"
      },
      "source": [
        "Length of data"
      ]
    },
    {
      "cell_type": "code",
      "metadata": {
        "colab": {
          "base_uri": "https://localhost:8080/"
        },
        "id": "7d5UnmJR91Cc",
        "outputId": "ebe7d64f-6a9a-41ce-c50d-d68c191d30cf"
      },
      "source": [
        "print(len(train.data))"
      ],
      "execution_count": 18,
      "outputs": [
        {
          "output_type": "stream",
          "name": "stdout",
          "text": [
            "11314\n"
          ]
        }
      ]
    },
    {
      "cell_type": "code",
      "metadata": {
        "colab": {
          "base_uri": "https://localhost:8080/"
        },
        "id": "nHACE1fy95Z5",
        "outputId": "5761c665-466f-4734-d826-34e013f356ed"
      },
      "source": [
        "print(len(test.data))"
      ],
      "execution_count": 19,
      "outputs": [
        {
          "output_type": "stream",
          "name": "stdout",
          "text": [
            "7532\n"
          ]
        }
      ]
    },
    {
      "cell_type": "code",
      "metadata": {
        "colab": {
          "base_uri": "https://localhost:8080/"
        },
        "id": "_7A5_UhFEzvI",
        "outputId": "26c29b2d-477c-41a5-9b14-4e545d81da88"
      },
      "source": [
        "train.target"
      ],
      "execution_count": 27,
      "outputs": [
        {
          "output_type": "execute_result",
          "data": {
            "text/plain": [
              "array([7, 4, 4, ..., 3, 1, 8])"
            ]
          },
          "metadata": {},
          "execution_count": 27
        }
      ]
    },
    {
      "cell_type": "code",
      "metadata": {
        "colab": {
          "base_uri": "https://localhost:8080/"
        },
        "id": "DcLq6SLXFE9T",
        "outputId": "2d5c82d4-66fe-4342-d7e8-a6a9d78c9ccb"
      },
      "source": [
        "test.target"
      ],
      "execution_count": 28,
      "outputs": [
        {
          "output_type": "execute_result",
          "data": {
            "text/plain": [
              "array([ 7,  5,  0, ...,  9,  6, 15])"
            ]
          },
          "metadata": {},
          "execution_count": 28
        }
      ]
    },
    {
      "cell_type": "markdown",
      "metadata": {
        "id": "EIGtqXiG-Seo"
      },
      "source": [
        "Importing necessary packages for model"
      ]
    },
    {
      "cell_type": "code",
      "metadata": {
        "id": "8XitBD1b-WBt"
      },
      "source": [
        "from sklearn.feature_extraction.text import TfidfVectorizer\n",
        "from sklearn.naive_bayes import MultinomialNB\n",
        "from sklearn.pipeline import make_pipeline"
      ],
      "execution_count": 22,
      "outputs": []
    },
    {
      "cell_type": "markdown",
      "metadata": {
        "id": "U70mJ8hm_Lvc"
      },
      "source": [
        "Creating a model based on Multinomial Naive Bayes"
      ]
    },
    {
      "cell_type": "code",
      "metadata": {
        "id": "SD2MVEiz_ST5"
      },
      "source": [
        "model = make_pipeline(TfidfVectorizer(), MultinomialNB())"
      ],
      "execution_count": 23,
      "outputs": []
    },
    {
      "cell_type": "markdown",
      "metadata": {
        "id": "HEkPXodq_Z7E"
      },
      "source": [
        "Training the model with the train data"
      ]
    },
    {
      "cell_type": "code",
      "metadata": {
        "colab": {
          "base_uri": "https://localhost:8080/"
        },
        "id": "hKJQWXKk_fl8",
        "outputId": "c4a2de53-e20d-45e0-c79a-802375168d81"
      },
      "source": [
        "model.fit(train.data, train.target)"
      ],
      "execution_count": 24,
      "outputs": [
        {
          "output_type": "execute_result",
          "data": {
            "text/plain": [
              "Pipeline(steps=[('tfidfvectorizer', TfidfVectorizer()),\n",
              "                ('multinomialnb', MultinomialNB())])"
            ]
          },
          "metadata": {},
          "execution_count": 24
        }
      ]
    },
    {
      "cell_type": "markdown",
      "metadata": {
        "id": "YWkd8YBn_nW5"
      },
      "source": [
        "Creating labels for the test data"
      ]
    },
    {
      "cell_type": "code",
      "metadata": {
        "colab": {
          "base_uri": "https://localhost:8080/"
        },
        "id": "ALIo-SwT_rEL",
        "outputId": "749ea456-cdbe-4e7c-fc86-8632b1c6a7c0"
      },
      "source": [
        "labels = model.predict(test.data)\n",
        "labels"
      ],
      "execution_count": 26,
      "outputs": [
        {
          "output_type": "execute_result",
          "data": {
            "text/plain": [
              "array([ 7, 11,  0, ...,  9,  3, 15])"
            ]
          },
          "metadata": {},
          "execution_count": 26
        }
      ]
    },
    {
      "cell_type": "markdown",
      "metadata": {
        "id": "JnqhqlqYFVNy"
      },
      "source": [
        "Creating confusion matrix and heatmap"
      ]
    },
    {
      "cell_type": "code",
      "metadata": {
        "colab": {
          "base_uri": "https://localhost:8080/",
          "height": 441
        },
        "id": "V1mEMk-wFZcH",
        "outputId": "60915592-3da3-43fc-f503-78a2073150f2"
      },
      "source": [
        "from sklearn.metrics import confusion_matrix\n",
        "mat = confusion_matrix(test.target, labels)\n",
        "sns.heatmap(mat.T, square=True, annot=True, fmt=\"d\", cbar=False,\n",
        "            xticklabels=train.target_names,\n",
        "            yticklabels=train.target_names)\n",
        "plt.xlabel('True label')\n",
        "plt.ylabel('Predicted label')"
      ],
      "execution_count": 34,
      "outputs": [
        {
          "output_type": "execute_result",
          "data": {
            "text/plain": [
              "Text(89.17999999999999, 0.5, 'Predicted label')"
            ]
          },
          "metadata": {},
          "execution_count": 34
        },
        {
          "output_type": "display_data",
          "data": {
            "image/png": "[encoded data removed]",
            "text/plain": [
              "<Figure size 432x288 with 1 Axes>"
            ]
          },
          "metadata": {}
        }
      ]
    },
    {
      "cell_type": "markdown",
      "metadata": {
        "id": "QaRLWMSZGCPz"
      },
      "source": [
        "Plotting Heatmap of confusion matrix"
      ]
    },
    {
      "cell_type": "code",
      "metadata": {
        "colab": {
          "base_uri": "https://localhost:8080/",
          "height": 306
        },
        "id": "q2frXqqZGHfJ",
        "outputId": "e10af138-96be-4729-8adf-680a49eef9fc"
      },
      "source": [
        "plt.xlabel('true label')\n",
        "plt.ylabel('predicted label')"
      ],
      "execution_count": 32,
      "outputs": [
        {
          "output_type": "execute_result",
          "data": {
            "text/plain": [
              "Text(0, 0.5, 'predicted label')"
            ]
          },
          "metadata": {},
          "execution_count": 32
        },
        {
          "output_type": "display_data",
          "data": {
            "image/png": "[encoded data removed]",
            "text/plain": [
              "<Figure size 432x288 with 1 Axes>"
            ]
          },
          "metadata": {}
        }
      ]
    },
    {
      "cell_type": "markdown",
      "metadata": {
        "id": "KChNRoc9HenM"
      },
      "source": [
        "Predicting category on new data based on trained model"
      ]
    },
    {
      "cell_type": "code",
      "metadata": {
        "id": "lXdFUkgRHiyk"
      },
      "source": [
        "def predict_category(s, train=train, model=model):\n",
        "  pred= model.predict([s])\n",
        "  return train.target_names[pred[0]]"
      ],
      "execution_count": 35,
      "outputs": []
    },
    {
      "cell_type": "code",
      "metadata": {
        "colab": {
          "base_uri": "https://localhost:8080/",
          "height": 35
        },
        "id": "BNDEQae6HyE_",
        "outputId": "7b0e6ffe-aad9-427a-c39a-969a0b4fd6aa"
      },
      "source": [
        "predict_category('Jesus Christ')"
      ],
      "execution_count": 36,
      "outputs": [
        {
          "output_type": "execute_result",
          "data": {
            "application/vnd.google.colaboratory.intrinsic+json": {
              "type": "string"
            },
            "text/plain": [
              "'soc.religion.christian'"
            ]
          },
          "metadata": {},
          "execution_count": 36
        }
      ]
    },
    {
      "cell_type": "code",
      "metadata": {
        "colab": {
          "base_uri": "https://localhost:8080/",
          "height": 35
        },
        "id": "WIyL7tzDH39p",
        "outputId": "8f2f75a6-f590-427c-c7ab-2eb54a167ab0"
      },
      "source": [
        "predict_category('I hate you')"
      ],
      "execution_count": 39,
      "outputs": [
        {
          "output_type": "execute_result",
          "data": {
            "application/vnd.google.colaboratory.intrinsic+json": {
              "type": "string"
            },
            "text/plain": [
              "'talk.politics.mideast'"
            ]
          },
          "metadata": {},
          "execution_count": 39
        }
      ]
    },
    {
      "cell_type": "code",
      "metadata": {
        "colab": {
          "base_uri": "https://localhost:8080/",
          "height": 35
        },
        "id": "2zVhTKwbIFMv",
        "outputId": "3aef59b0-df1d-4b9e-ea9f-620f2e1e33be"
      },
      "source": [
        "predict_category('Sending load to international space station')"
      ],
      "execution_count": 40,
      "outputs": [
        {
          "output_type": "execute_result",
          "data": {
            "application/vnd.google.colaboratory.intrinsic+json": {
              "type": "string"
            },
            "text/plain": [
              "'sci.space'"
            ]
          },
          "metadata": {},
          "execution_count": 40
        }
      ]
    }
  ]
}