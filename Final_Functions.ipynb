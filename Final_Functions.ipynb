{
  "nbformat": 4,
  "nbformat_minor": 0,
  "metadata": {
    "colab": {
      "name": "Final Functions.ipynb",
      "provenance": [],
      "mount_file_id": "1H-Pxf1isHuqYitwkkkF9426WGil1caxa",
      "authorship_tag": "ABX9TyN7D7++KN+lDd+jTpSoT0ZO",
      "include_colab_link": true
    },
    "kernelspec": {
      "name": "python3",
      "display_name": "Python 3"
    },
    "language_info": {
      "name": "python"
    }
  },
  "cells": [
    {
      "cell_type": "markdown",
      "metadata": {
        "id": "view-in-github",
        "colab_type": "text"
      },
      "source": [
        "<a href=\"https://colab.research.google.com/github/supuni9622/Test-Google-Colab/blob/main/Final_Functions.ipynb\" target=\"_parent\"><img src=\"https://colab.research.google.com/assets/colab-badge.svg\" alt=\"Open In Colab\"/></a>"
      ]
    },
    {
      "cell_type": "code",
      "execution_count": 1,
      "metadata": {
        "colab": {
          "base_uri": "https://localhost:8080/"
        },
        "id": "_9EyZ30YCd7L",
        "outputId": "8b017246-6e53-420a-ba88-c5e8b539bb7d"
      },
      "outputs": [
        {
          "output_type": "stream",
          "name": "stdout",
          "text": [
            "/content/drive/MyDrive/4th Year Research/M3/Test Implementation/Test-Google-Colab/Full\n"
          ]
        }
      ],
      "source": [
        "cd /content/drive/MyDrive/4th Year Research/M3/Test Implementation/Test-Google-Colab/Full"
      ]
    },
    {
      "cell_type": "code",
      "source": [
        "import pandas as pd\n",
        "import numpy as np\n",
        "from numpy import random"
      ],
      "metadata": {
        "id": "YFhbe_opDNNY"
      },
      "execution_count": 2,
      "outputs": []
    },
    {
      "cell_type": "code",
      "source": [
        "user_emo = 'Happy'\n",
        "#Thre is a oder - Genre, Music elements, Lyrics\n",
        "music_attributes = []\n",
        "\n",
        "def get_music_emotion(music_attributes):\n",
        "    # Emotion classification based on the music elements \n",
        "    predicted_emo = 'Happy'\n",
        "    return predicted_emo\n",
        "\n",
        "def get_lyrical_emotion(music_attributes):\n",
        "    #Lyrics classification based on the lyrics\n",
        "    predicted_emo = 'Calm'\n",
        "    return predicted_emo\n",
        "\n",
        "def convert_emo_vector(emotion):\n",
        "    #Has 7 music emotions and convert to emo vector by putting 1 to recived emo type\n",
        "    \n",
        "    predifend_set = [0,0,0,0,0,0,0]\n",
        "    emo_vector = [1,0,0,0,0,0,0]\n",
        "    return emo_vector\n",
        "\n",
        "def get_emotion_vector(music_emotion, lyrical_emotion):\n",
        "    #Convert to a vector of selected 7 music emotion types\n",
        "    \n",
        "    music_weight = 2\n",
        "    lyrical_weight = 1\n",
        "\n",
        "    if(music_emotion == 'Happy' | music_emotion == 'Calm'):\n",
        "        if(lyrical_emotion == 'Happy' | lyrical_emotion == 'Calm'):\n",
        "            music_weight = 2\n",
        "            lyrical_weight = 1\n",
        "        else:\n",
        "            music_weight =2\n",
        "            lyrical_weight=2\n",
        "    else:\n",
        "        if(lyrical_emotion == 'Happy' | lyrical_emotion == 'Calm'):\n",
        "            music_weight = 1\n",
        "            lyrical_weight = 1\n",
        "        else:\n",
        "            music_weight =1\n",
        "            lyrical_weight=2\n",
        "        return music_weight, lyrical_weight\n",
        "\n",
        "    music_emo_vector = music_weight * get_emotion_vector(music_emotion)\n",
        "    lyrical_emo_vector = lyrical_weight * get_emotion_vector(lyrical_emotion)\n",
        "    emo_vector = music_emo_vector + lyrical_emo_vector\n",
        "    emo_vector = [[1,0,2,0,0,0,0]]\n",
        "    return emo_vector\n",
        "\n",
        "def get_suitability_score(emo_vector):\n",
        "    #Predefined human-emotion(18), music-emotion(7) matrix [18,7]\n",
        "    human_music_emo_matrix = [\n",
        "        [1,-1,-1,0,1,0,0],\n",
        "        [1,-1,-1,0,1,0,0],\n",
        "        [1,-1,-1,0,1,0,0],\n",
        "        [1,-1,-1,0,1,0,0],\n",
        "        [1,-1,-1,0,1,0,0],\n",
        "        [1,-1,-1,0,1,0,0],\n",
        "        [1,-1,-1,0,1,0,0],\n",
        "        [1,-1,-1,0,1,0,0],\n",
        "        [1,-1,-1,0,1,0,0],\n",
        "        [1,-1,-1,0,1,0,0],\n",
        "        [1,-1,-1,0,1,0,0],\n",
        "        [1,-1,-1,0,1,0,0],\n",
        "        [1,-1,-1,0,1,0,0],\n",
        "        [1,-1,-1,0,1,0,0],\n",
        "        [1,-1,-1,0,1,0,0],\n",
        "        [1,-1,-1,0,1,0,0],\n",
        "        [1,-1,-1,0,1,0,0],\n",
        "        [1,-1,-1,0,1,0,0]\n",
        "    ]\n",
        "\n",
        "    #This traspose is [7,1]\n",
        "    emo_vector_transpose = [[1],\n",
        "                        [0],\n",
        "                        [2],\n",
        "                        [0],\n",
        "                        [0],\n",
        "                        [0],\n",
        "                        [0]]\n",
        "\n",
        "    #This should be a [18,1]\n",
        "    suitability_score = [[1],\n",
        "                     [-2],\n",
        "                     [1],\n",
        "                     [0],\n",
        "                     [1],\n",
        "                     [-2],\n",
        "                     [1],\n",
        "                     [0],\n",
        "                     [1],\n",
        "                     [-2],\n",
        "                     [1],\n",
        "                     [0],\n",
        "                     [1],\n",
        "                     [-2],\n",
        "                     [1],\n",
        "                     [0],\n",
        "                     [1],\n",
        "                     [-2]\n",
        "                     ]\n",
        "    return suitability_score\n",
        "\n",
        "def convert_output_to_readable_format(user_emo, suitability_score_vector):\n",
        "    if(user_emo == ''):\n",
        "        #Return all the scores for 18 emo types as a data frame and readble format\n",
        "        suitability = {'Happy' : 1, 'Sad' : -1, 'Calm' : 0}\n",
        "        return suitability\n",
        "    else:\n",
        "        return suitability.user_emo\n",
        "    \n",
        "    \n",
        "#Final Function\n",
        "def get_suitability_score_of_song(user_emo, music_attributes):\n",
        "    \n",
        "    music_emotion = get_music_emotion(music_attributes.iloc[:,0:8].values)\n",
        "    lyrical_emotion = get_lyrical_emotion(music_attributes.iloc[:, -1].values)\n",
        "    \n",
        "    emo_vector = get_emotion_vector(music_emotion, lyrical_emotion)\n",
        "    \n",
        "    suitability_score_vector = get_suitability_score(emo_vector)\n",
        "    \n",
        "    readable_output = convert_output_to_readable_format(user_emo, suitability_score_vector)\n",
        "    \n",
        "    return readable_output"
      ],
      "metadata": {
        "id": "3D_cTjvZDW2k"
      },
      "execution_count": 5,
      "outputs": []
    },
    {
      "cell_type": "code",
      "source": [
        "output = get_suitability_score_of_song('', [])"
      ],
      "metadata": {
        "colab": {
          "base_uri": "https://localhost:8080/",
          "height": 288
        },
        "id": "h4dzvU21DkWB",
        "outputId": "208ad8ef-2625-43cd-edbb-70837efdc553"
      },
      "execution_count": 6,
      "outputs": [
        {
          "output_type": "error",
          "ename": "AttributeError",
          "evalue": "ignored",
          "traceback": [
            "\u001b[0;31m---------------------------------------------------------------------------\u001b[0m",
            "\u001b[0;31mAttributeError\u001b[0m                            Traceback (most recent call last)",
            "\u001b[0;32m<ipython-input-6-abe39fc49cb6>\u001b[0m in \u001b[0;36m<module>\u001b[0;34m()\u001b[0m\n\u001b[0;32m----> 1\u001b[0;31m \u001b[0moutput\u001b[0m \u001b[0;34m=\u001b[0m \u001b[0mget_suitability_score_of_song\u001b[0m\u001b[0;34m(\u001b[0m\u001b[0;34m''\u001b[0m\u001b[0;34m,\u001b[0m \u001b[0;34m[\u001b[0m\u001b[0;34m]\u001b[0m\u001b[0;34m)\u001b[0m\u001b[0;34m\u001b[0m\u001b[0;34m\u001b[0m\u001b[0m\n\u001b[0m",
            "\u001b[0;32m<ipython-input-5-0a158bfd4014>\u001b[0m in \u001b[0;36mget_suitability_score_of_song\u001b[0;34m(user_emo, music_attributes)\u001b[0m\n\u001b[1;32m    114\u001b[0m \u001b[0;32mdef\u001b[0m \u001b[0mget_suitability_score_of_song\u001b[0m\u001b[0;34m(\u001b[0m\u001b[0muser_emo\u001b[0m\u001b[0;34m,\u001b[0m \u001b[0mmusic_attributes\u001b[0m\u001b[0;34m)\u001b[0m\u001b[0;34m:\u001b[0m\u001b[0;34m\u001b[0m\u001b[0;34m\u001b[0m\u001b[0m\n\u001b[1;32m    115\u001b[0m \u001b[0;34m\u001b[0m\u001b[0m\n\u001b[0;32m--> 116\u001b[0;31m     \u001b[0mmusic_emotion\u001b[0m \u001b[0;34m=\u001b[0m \u001b[0mget_music_emotion\u001b[0m\u001b[0;34m(\u001b[0m\u001b[0mmusic_attributes\u001b[0m\u001b[0;34m.\u001b[0m\u001b[0miloc\u001b[0m\u001b[0;34m[\u001b[0m\u001b[0;34m:\u001b[0m\u001b[0;34m,\u001b[0m\u001b[0;36m0\u001b[0m\u001b[0;34m:\u001b[0m\u001b[0;36m8\u001b[0m\u001b[0;34m]\u001b[0m\u001b[0;34m.\u001b[0m\u001b[0mvalues\u001b[0m\u001b[0;34m)\u001b[0m\u001b[0;34m\u001b[0m\u001b[0;34m\u001b[0m\u001b[0m\n\u001b[0m\u001b[1;32m    117\u001b[0m     \u001b[0mlyrical_emotion\u001b[0m \u001b[0;34m=\u001b[0m \u001b[0mget_lyrical_emotion\u001b[0m\u001b[0;34m(\u001b[0m\u001b[0mmusic_attributes\u001b[0m\u001b[0;34m.\u001b[0m\u001b[0miloc\u001b[0m\u001b[0;34m[\u001b[0m\u001b[0;34m:\u001b[0m\u001b[0;34m,\u001b[0m \u001b[0;34m-\u001b[0m\u001b[0;36m1\u001b[0m\u001b[0;34m]\u001b[0m\u001b[0;34m.\u001b[0m\u001b[0mvalues\u001b[0m\u001b[0;34m)\u001b[0m\u001b[0;34m\u001b[0m\u001b[0;34m\u001b[0m\u001b[0m\n\u001b[1;32m    118\u001b[0m \u001b[0;34m\u001b[0m\u001b[0m\n",
            "\u001b[0;31mAttributeError\u001b[0m: 'list' object has no attribute 'iloc'"
          ]
        }
      ]
    }
  ]
}